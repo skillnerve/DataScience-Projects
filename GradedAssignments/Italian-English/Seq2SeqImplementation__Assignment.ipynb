{
  "nbformat": 4,
  "nbformat_minor": 0,
  "metadata": {
    "colab": {
      "name": "Seq2SeqImplementation__Assignment.ipynb",
      "provenance": [],
      "collapsed_sections": []
    },
    "kernelspec": {
      "display_name": "Python 3",
      "language": "python",
      "name": "python3"
    },
    "language_info": {
      "codemirror_mode": {
        "name": "ipython",
        "version": 3
      },
      "file_extension": ".py",
      "mimetype": "text/x-python",
      "name": "python",
      "nbconvert_exporter": "python",
      "pygments_lexer": "ipython3",
      "version": "3.7.6"
    },
    "accelerator": "GPU"
  },
  "cells": [
    {
      "cell_type": "markdown",
      "metadata": {
        "id": "fwPL0hIlGKoA"
      },
      "source": [
        "# <font color='red'>**Sequence to sequence implementation**</font>"
      ]
    },
    {
      "cell_type": "markdown",
      "metadata": {
        "id": "-nYHE_1ck2az"
      },
      "source": [
        "**There will be some functions that start with the word \"grader\" ex: grader_check_encoder(), grader_check_attention(), grader_onestepdecoder() etc, you should not change those function definition.<br><br>Every Grader function has to return True.**\n",
        "\n",
        "**Note 1:**  There are many blogs on the attention mechanisum which might be misleading you,\n",
        " so do read the references completly and after that only please check the internet.\n",
        " The best things is to read the research papers and try to implement it on your own. \n",
        "\n",
        "**Note 2:** To complete this assignment, the reference that are mentioned will be enough.\n",
        "\n",
        "**Note 3:** If you are starting this assignment, you might have completed minimum of 20 assignment.\n",
        " If  you are still not able to implement this algorithm you might have rushed in the previous assignments \n",
        "with out learning much and didn't spend your time productively."
      ]
    },
    {
      "cell_type": "markdown",
      "metadata": {
        "id": "QyfZo8fmLOec"
      },
      "source": [
        "## Task -1: Simple Encoder and Decoder\n",
        "Implement simple Encoder-Decoder model"
      ]
    },
    {
      "cell_type": "markdown",
      "metadata": {
        "id": "IvNSZXNkkOkO"
      },
      "source": [
        "1. Download the **Italian** to **English** translation dataset from <a href=\"http://www.manythings.org/anki/ita-eng.zip\">here</a>\n",
        "\n",
        "2. You will find **ita.txt** file in that ZIP, \n",
        "you can read that data using python and preprocess that data this way only: \n",
        "<img src='https://i.imgur.com/z0j79Jf.png'>    \n",
        "    \n",
        "3. You have to implement a simple Encoder and Decoder architecture  \n",
        "\n",
        "4. Use BLEU score as metric to evaluate your model. You can use any loss function you need.\n",
        "\n",
        "5. You have to use Tensorboard to plot the Graph, Scores and histograms of gradients. \n",
        "\n",
        "6.  a. Check the reference notebook <br>\n",
        "    b. <a href=\"https://medium.com/analytics-vidhya/understand-sequence-to-sequence-models-in-a-more-intuitive-way-1d517d8795bb\">Resource 2</a>\n",
        "    \n",
        "\n"
      ]
    },
    {
      "cell_type": "markdown",
      "metadata": {
        "id": "ChweBAlWQPei"
      },
      "source": [
        "<font color='blue'>**Libraries**</font>"
      ]
    },
    {
      "cell_type": "code",
      "metadata": {
        "id": "NEeWSztkQPej"
      },
      "source": [
        "import matplotlib.pyplot as plt\n",
        "import seaborn as sns\n",
        "import pandas as pd\n",
        "import re\n",
        "import tensorflow as tf\n",
        "from tensorflow.keras.layers import Embedding, LSTM, Dense, Input, Softmax, RNN\n",
        "from tensorflow.keras.models import Model\n",
        "from tensorflow.keras.preprocessing.text import Tokenizer\n",
        "from tensorflow.keras.preprocessing.sequence import pad_sequences\n",
        "import numpy as np\n",
        "from tqdm import tqdm\n",
        "import re\n",
        "import nltk\n",
        "from datetime import datetime \n",
        "tf.config.run_functions_eagerly(True)"
      ],
      "execution_count": 1,
      "outputs": []
    },
    {
      "cell_type": "code",
      "metadata": {
        "colab": {
          "base_uri": "https://localhost:8080/"
        },
        "id": "yqHe6QaSQvk9",
        "outputId": "1a1fa1d1-bf85-4d3c-882e-2ddf510461ca"
      },
      "source": [
        "from google.colab import drive\n",
        "drive.mount('/content/drive')"
      ],
      "execution_count": 2,
      "outputs": [
        {
          "output_type": "stream",
          "text": [
            "Drive already mounted at /content/drive; to attempt to forcibly remount, call drive.mount(\"/content/drive\", force_remount=True).\n"
          ],
          "name": "stdout"
        }
      ]
    },
    {
      "cell_type": "code",
      "metadata": {
        "id": "R9Ne1-Vx7got"
      },
      "source": [
        "%load_ext tensorboard"
      ],
      "execution_count": 3,
      "outputs": []
    },
    {
      "cell_type": "markdown",
      "metadata": {
        "id": "3k_AlAuKJqVA"
      },
      "source": [
        "<font color='blue'>**Load the data**</font>"
      ]
    },
    {
      "cell_type": "code",
      "metadata": {
        "id": "fU80Ao-AGaob",
        "colab": {
          "base_uri": "https://localhost:8080/",
          "height": 212
        },
        "outputId": "00d9d98a-4c3c-4c27-c2c5-5daadc5ab87c"
      },
      "source": [
        "with open('/content/drive/MyDrive/ita.txt', 'r', encoding=\"utf8\") as f:\n",
        "    eng=[]\n",
        "    ita=[]\n",
        "    for i in f.readlines():\n",
        "        eng.append(i.split(\"\\t\")[0])\n",
        "        ita.append(i.split(\"\\t\")[1])\n",
        "data = pd.DataFrame(data=list(zip(eng, ita)), columns=['english','italian'])\n",
        "print(data.shape)\n",
        "data.head()"
      ],
      "execution_count": 4,
      "outputs": [
        {
          "output_type": "stream",
          "text": [
            "(343813, 2)\n"
          ],
          "name": "stdout"
        },
        {
          "output_type": "execute_result",
          "data": {
            "text/html": [
              "<div>\n",
              "<style scoped>\n",
              "    .dataframe tbody tr th:only-of-type {\n",
              "        vertical-align: middle;\n",
              "    }\n",
              "\n",
              "    .dataframe tbody tr th {\n",
              "        vertical-align: top;\n",
              "    }\n",
              "\n",
              "    .dataframe thead th {\n",
              "        text-align: right;\n",
              "    }\n",
              "</style>\n",
              "<table border=\"1\" class=\"dataframe\">\n",
              "  <thead>\n",
              "    <tr style=\"text-align: right;\">\n",
              "      <th></th>\n",
              "      <th>english</th>\n",
              "      <th>italian</th>\n",
              "    </tr>\n",
              "  </thead>\n",
              "  <tbody>\n",
              "    <tr>\n",
              "      <th>0</th>\n",
              "      <td>Hi.</td>\n",
              "      <td>Ciao!</td>\n",
              "    </tr>\n",
              "    <tr>\n",
              "      <th>1</th>\n",
              "      <td>Run!</td>\n",
              "      <td>Corri!</td>\n",
              "    </tr>\n",
              "    <tr>\n",
              "      <th>2</th>\n",
              "      <td>Run!</td>\n",
              "      <td>Corra!</td>\n",
              "    </tr>\n",
              "    <tr>\n",
              "      <th>3</th>\n",
              "      <td>Run!</td>\n",
              "      <td>Correte!</td>\n",
              "    </tr>\n",
              "    <tr>\n",
              "      <th>4</th>\n",
              "      <td>Who?</td>\n",
              "      <td>Chi?</td>\n",
              "    </tr>\n",
              "  </tbody>\n",
              "</table>\n",
              "</div>"
            ],
            "text/plain": [
              "  english   italian\n",
              "0     Hi.     Ciao!\n",
              "1    Run!    Corri!\n",
              "2    Run!    Corra!\n",
              "3    Run!  Correte!\n",
              "4    Who?      Chi?"
            ]
          },
          "metadata": {
            "tags": []
          },
          "execution_count": 4
        }
      ]
    },
    {
      "cell_type": "markdown",
      "metadata": {
        "id": "vmGWTdRmKRph"
      },
      "source": [
        "<font color='blue'>**Preprocess data**</font>"
      ]
    },
    {
      "cell_type": "code",
      "metadata": {
        "id": "9QqElB_nKZos",
        "colab": {
          "base_uri": "https://localhost:8080/",
          "height": 195
        },
        "outputId": "43ebf194-5db4-43b7-9de1-49aeaaf0e77b"
      },
      "source": [
        "def decontractions(phrase):\n",
        "    \"\"\"decontracted takes text and convert contractions into natural form.\n",
        "     ref: https://stackoverflow.com/questions/19790188/expanding-english-language-contractions-in-python/47091490#47091490\"\"\"\n",
        "    # specific\n",
        "    phrase = re.sub(r\"won\\'t\", \"will not\", phrase)\n",
        "    phrase = re.sub(r\"can\\'t\", \"can not\", phrase)\n",
        "    phrase = re.sub(r\"won\\’t\", \"will not\", phrase)\n",
        "    phrase = re.sub(r\"can\\’t\", \"can not\", phrase)\n",
        "\n",
        "    # general\n",
        "    phrase = re.sub(r\"n\\'t\", \" not\", phrase)\n",
        "    phrase = re.sub(r\"\\'re\", \" are\", phrase)\n",
        "    phrase = re.sub(r\"\\'s\", \" is\", phrase)\n",
        "    phrase = re.sub(r\"\\'d\", \" would\", phrase)\n",
        "    phrase = re.sub(r\"\\'ll\", \" will\", phrase)\n",
        "    phrase = re.sub(r\"\\'t\", \" not\", phrase)\n",
        "    phrase = re.sub(r\"\\'ve\", \" have\", phrase)\n",
        "    phrase = re.sub(r\"\\'m\", \" am\", phrase)\n",
        "\n",
        "    phrase = re.sub(r\"n\\’t\", \" not\", phrase)\n",
        "    phrase = re.sub(r\"\\’re\", \" are\", phrase)\n",
        "    phrase = re.sub(r\"\\’s\", \" is\", phrase)\n",
        "    phrase = re.sub(r\"\\’d\", \" would\", phrase)\n",
        "    phrase = re.sub(r\"\\’ll\", \" will\", phrase)\n",
        "    phrase = re.sub(r\"\\’t\", \" not\", phrase)\n",
        "    phrase = re.sub(r\"\\’ve\", \" have\", phrase)\n",
        "    phrase = re.sub(r\"\\’m\", \" am\", phrase)\n",
        "\n",
        "    return phrase\n",
        "\n",
        "def preprocess(text):\n",
        "    # convert all the text into lower letters\n",
        "    # use this function to remove the contractions: https://gist.github.com/anandborad/d410a49a493b56dace4f814ab5325bbd\n",
        "    # remove all the spacial characters: except space ' '\n",
        "    text = text.lower()\n",
        "    text = decontractions(text)\n",
        "    text = re.sub('[^A-Za-z0-9 ]+', '', text)\n",
        "    return text\n",
        "\n",
        "def preprocess_ita(text):\n",
        "    # convert all the text into lower letters\n",
        "    # remove the words betweent brakets ()\n",
        "    # remove these characters: {'$', ')', '?', '\"', '’', '.',  '°', '!', ';', '/', \"'\", '€', '%', ':', ',', '('}\n",
        "    # replace these spl characters with space: '\\u200b', '\\xa0', '-', '/'\n",
        "    # we have found these characters after observing the data points, feel free to explore more and see if you can do find more\n",
        "    # you are free to do more proprocessing\n",
        "    # note that the model will learn better with better preprocessed data \n",
        "    \n",
        "    text = text.lower()\n",
        "    text = decontractions(text)\n",
        "    text = re.sub('[$)\\?\"’.°!;\\'€%:,(/]', '', text)\n",
        "    text = re.sub('\\u200b', ' ', text)\n",
        "    text = re.sub('\\xa0', ' ', text)\n",
        "    text = re.sub('-', ' ', text)\n",
        "    return text\n",
        "\n",
        "\n",
        "data['english'] = data['english'].apply(preprocess)\n",
        "data['italian'] = data['italian'].apply(preprocess_ita)\n",
        "data.head()"
      ],
      "execution_count": 5,
      "outputs": [
        {
          "output_type": "execute_result",
          "data": {
            "text/html": [
              "<div>\n",
              "<style scoped>\n",
              "    .dataframe tbody tr th:only-of-type {\n",
              "        vertical-align: middle;\n",
              "    }\n",
              "\n",
              "    .dataframe tbody tr th {\n",
              "        vertical-align: top;\n",
              "    }\n",
              "\n",
              "    .dataframe thead th {\n",
              "        text-align: right;\n",
              "    }\n",
              "</style>\n",
              "<table border=\"1\" class=\"dataframe\">\n",
              "  <thead>\n",
              "    <tr style=\"text-align: right;\">\n",
              "      <th></th>\n",
              "      <th>english</th>\n",
              "      <th>italian</th>\n",
              "    </tr>\n",
              "  </thead>\n",
              "  <tbody>\n",
              "    <tr>\n",
              "      <th>0</th>\n",
              "      <td>hi</td>\n",
              "      <td>ciao</td>\n",
              "    </tr>\n",
              "    <tr>\n",
              "      <th>1</th>\n",
              "      <td>run</td>\n",
              "      <td>corri</td>\n",
              "    </tr>\n",
              "    <tr>\n",
              "      <th>2</th>\n",
              "      <td>run</td>\n",
              "      <td>corra</td>\n",
              "    </tr>\n",
              "    <tr>\n",
              "      <th>3</th>\n",
              "      <td>run</td>\n",
              "      <td>correte</td>\n",
              "    </tr>\n",
              "    <tr>\n",
              "      <th>4</th>\n",
              "      <td>who</td>\n",
              "      <td>chi</td>\n",
              "    </tr>\n",
              "  </tbody>\n",
              "</table>\n",
              "</div>"
            ],
            "text/plain": [
              "  english  italian\n",
              "0      hi     ciao\n",
              "1     run    corri\n",
              "2     run    corra\n",
              "3     run  correte\n",
              "4     who      chi"
            ]
          },
          "metadata": {
            "tags": []
          },
          "execution_count": 5
        }
      ]
    },
    {
      "cell_type": "code",
      "metadata": {
        "id": "JxNGCGf9QPem",
        "colab": {
          "base_uri": "https://localhost:8080/",
          "height": 343
        },
        "outputId": "77a650d6-a4af-4f5b-849a-196a4625f158"
      },
      "source": [
        "data.sample(10)"
      ],
      "execution_count": 6,
      "outputs": [
        {
          "output_type": "execute_result",
          "data": {
            "text/html": [
              "<div>\n",
              "<style scoped>\n",
              "    .dataframe tbody tr th:only-of-type {\n",
              "        vertical-align: middle;\n",
              "    }\n",
              "\n",
              "    .dataframe tbody tr th {\n",
              "        vertical-align: top;\n",
              "    }\n",
              "\n",
              "    .dataframe thead th {\n",
              "        text-align: right;\n",
              "    }\n",
              "</style>\n",
              "<table border=\"1\" class=\"dataframe\">\n",
              "  <thead>\n",
              "    <tr style=\"text-align: right;\">\n",
              "      <th></th>\n",
              "      <th>english</th>\n",
              "      <th>italian</th>\n",
              "    </tr>\n",
              "  </thead>\n",
              "  <tbody>\n",
              "    <tr>\n",
              "      <th>2773</th>\n",
              "      <td>i disagree</td>\n",
              "      <td>non sono daccordo</td>\n",
              "    </tr>\n",
              "    <tr>\n",
              "      <th>343499</th>\n",
              "      <td>if you do not want to put on sunscreen that is...</td>\n",
              "      <td>se non vi volete mettere della protezione sola...</td>\n",
              "    </tr>\n",
              "    <tr>\n",
              "      <th>73788</th>\n",
              "      <td>i never told anyone</td>\n",
              "      <td>io non lho mai detto a qualcuno</td>\n",
              "    </tr>\n",
              "    <tr>\n",
              "      <th>153482</th>\n",
              "      <td>they want to become rich</td>\n",
              "      <td>vogliono diventare ricche</td>\n",
              "    </tr>\n",
              "    <tr>\n",
              "      <th>324412</th>\n",
              "      <td>i bought a watch and i lost it the next day</td>\n",
              "      <td>comprai un orologio e lo persi il giorno succe...</td>\n",
              "    </tr>\n",
              "    <tr>\n",
              "      <th>284748</th>\n",
              "      <td>what is important is the experience</td>\n",
              "      <td>quello che è importante è lesperienza</td>\n",
              "    </tr>\n",
              "    <tr>\n",
              "      <th>3317</th>\n",
              "      <td>is it free</td>\n",
              "      <td>è gratuita</td>\n",
              "    </tr>\n",
              "    <tr>\n",
              "      <th>31026</th>\n",
              "      <td>we both laughed</td>\n",
              "      <td>abbiamo entrambe riso</td>\n",
              "    </tr>\n",
              "    <tr>\n",
              "      <th>332167</th>\n",
              "      <td>grandmother is ashes are in an urn at the temple</td>\n",
              "      <td>le ceneri della nonna sono in unurna nel tempio</td>\n",
              "    </tr>\n",
              "    <tr>\n",
              "      <th>227144</th>\n",
              "      <td>please give me your attention</td>\n",
              "      <td>per piacere mi dia la sua attenzione</td>\n",
              "    </tr>\n",
              "  </tbody>\n",
              "</table>\n",
              "</div>"
            ],
            "text/plain": [
              "                                                  english                                            italian\n",
              "2773                                           i disagree                                  non sono daccordo\n",
              "343499  if you do not want to put on sunscreen that is...  se non vi volete mettere della protezione sola...\n",
              "73788                                 i never told anyone                    io non lho mai detto a qualcuno\n",
              "153482                           they want to become rich                          vogliono diventare ricche\n",
              "324412        i bought a watch and i lost it the next day  comprai un orologio e lo persi il giorno succe...\n",
              "284748                what is important is the experience              quello che è importante è lesperienza\n",
              "3317                                           is it free                                         è gratuita\n",
              "31026                                     we both laughed                              abbiamo entrambe riso\n",
              "332167   grandmother is ashes are in an urn at the temple    le ceneri della nonna sono in unurna nel tempio\n",
              "227144                      please give me your attention               per piacere mi dia la sua attenzione"
            ]
          },
          "metadata": {
            "tags": []
          },
          "execution_count": 6
        }
      ]
    },
    {
      "cell_type": "code",
      "metadata": {
        "id": "8vaakZsSQPen"
      },
      "source": [
        "ita_lengths = data['italian'].str.split().apply(len)\n",
        "eng_lengths = data['english'].str.split().apply(len)"
      ],
      "execution_count": 7,
      "outputs": []
    },
    {
      "cell_type": "code",
      "metadata": {
        "id": "6IeT4pN4QPen",
        "colab": {
          "base_uri": "https://localhost:8080/"
        },
        "outputId": "2fa79266-3600-4e85-8a91-6312fa66320d"
      },
      "source": [
        "for i in [99.1,99.2,99.3,99.4,99.5,99.6,99.7,99.8,99.9,100]:\n",
        "    print(i,np.percentile(ita_lengths, i))\n",
        "for i in [99.1,99.2,99.3,99.4,99.5,99.6,99.7,99.8,99.9,100]:\n",
        "    print(i,np.percentile(eng_lengths, i))"
      ],
      "execution_count": 8,
      "outputs": [
        {
          "output_type": "stream",
          "text": [
            "99.1 12.0\n",
            "99.2 12.0\n",
            "99.3 13.0\n",
            "99.4 13.0\n",
            "99.5 13.0\n",
            "99.6 14.0\n",
            "99.7 15.0\n",
            "99.8 16.0\n",
            "99.9 20.0\n",
            "100 92.0\n",
            "99.1 12.0\n",
            "99.2 13.0\n",
            "99.3 13.0\n",
            "99.4 13.0\n",
            "99.5 14.0\n",
            "99.6 14.0\n",
            "99.7 15.0\n",
            "99.8 16.0\n",
            "99.9 21.18800000002375\n",
            "100 101.0\n"
          ],
          "name": "stdout"
        }
      ]
    },
    {
      "cell_type": "code",
      "metadata": {
        "id": "pPTeA6xrQPen",
        "colab": {
          "base_uri": "https://localhost:8080/",
          "height": 195
        },
        "outputId": "a0d3d8ea-a40d-4cb1-e450-572ce55a333f"
      },
      "source": [
        "data['italian_len'] = data['italian'].str.split().apply(len)\n",
        "data = data[data['italian_len'] < 20]\n",
        "\n",
        "data['english_len'] = data['english'].str.split().apply(len)\n",
        "data = data[data['english_len'] < 20]\n",
        "\n",
        "data['english_inp'] = '<start> ' + data['english'].astype(str)\n",
        "data['english_out'] = data['english'].astype(str) + ' <end>'\n",
        "\n",
        "data = data.drop(['english','italian_len','english_len'], axis=1)\n",
        "# only for the first sentance add a toke <end> so that we will have <end> in tokenizer\n",
        "data.head()"
      ],
      "execution_count": 9,
      "outputs": [
        {
          "output_type": "execute_result",
          "data": {
            "text/html": [
              "<div>\n",
              "<style scoped>\n",
              "    .dataframe tbody tr th:only-of-type {\n",
              "        vertical-align: middle;\n",
              "    }\n",
              "\n",
              "    .dataframe tbody tr th {\n",
              "        vertical-align: top;\n",
              "    }\n",
              "\n",
              "    .dataframe thead th {\n",
              "        text-align: right;\n",
              "    }\n",
              "</style>\n",
              "<table border=\"1\" class=\"dataframe\">\n",
              "  <thead>\n",
              "    <tr style=\"text-align: right;\">\n",
              "      <th></th>\n",
              "      <th>italian</th>\n",
              "      <th>english_inp</th>\n",
              "      <th>english_out</th>\n",
              "    </tr>\n",
              "  </thead>\n",
              "  <tbody>\n",
              "    <tr>\n",
              "      <th>0</th>\n",
              "      <td>ciao</td>\n",
              "      <td>&lt;start&gt; hi</td>\n",
              "      <td>hi &lt;end&gt;</td>\n",
              "    </tr>\n",
              "    <tr>\n",
              "      <th>1</th>\n",
              "      <td>corri</td>\n",
              "      <td>&lt;start&gt; run</td>\n",
              "      <td>run &lt;end&gt;</td>\n",
              "    </tr>\n",
              "    <tr>\n",
              "      <th>2</th>\n",
              "      <td>corra</td>\n",
              "      <td>&lt;start&gt; run</td>\n",
              "      <td>run &lt;end&gt;</td>\n",
              "    </tr>\n",
              "    <tr>\n",
              "      <th>3</th>\n",
              "      <td>correte</td>\n",
              "      <td>&lt;start&gt; run</td>\n",
              "      <td>run &lt;end&gt;</td>\n",
              "    </tr>\n",
              "    <tr>\n",
              "      <th>4</th>\n",
              "      <td>chi</td>\n",
              "      <td>&lt;start&gt; who</td>\n",
              "      <td>who &lt;end&gt;</td>\n",
              "    </tr>\n",
              "  </tbody>\n",
              "</table>\n",
              "</div>"
            ],
            "text/plain": [
              "   italian  english_inp english_out\n",
              "0     ciao   <start> hi    hi <end>\n",
              "1    corri  <start> run   run <end>\n",
              "2    corra  <start> run   run <end>\n",
              "3  correte  <start> run   run <end>\n",
              "4      chi  <start> who   who <end>"
            ]
          },
          "metadata": {
            "tags": []
          },
          "execution_count": 9
        }
      ]
    },
    {
      "cell_type": "code",
      "metadata": {
        "id": "frmPcFR1QPeo",
        "colab": {
          "base_uri": "https://localhost:8080/",
          "height": 343
        },
        "outputId": "7e44d05c-63eb-43fc-f4ef-b1adde0541bf"
      },
      "source": [
        "data.sample(10)"
      ],
      "execution_count": 10,
      "outputs": [
        {
          "output_type": "execute_result",
          "data": {
            "text/html": [
              "<div>\n",
              "<style scoped>\n",
              "    .dataframe tbody tr th:only-of-type {\n",
              "        vertical-align: middle;\n",
              "    }\n",
              "\n",
              "    .dataframe tbody tr th {\n",
              "        vertical-align: top;\n",
              "    }\n",
              "\n",
              "    .dataframe thead th {\n",
              "        text-align: right;\n",
              "    }\n",
              "</style>\n",
              "<table border=\"1\" class=\"dataframe\">\n",
              "  <thead>\n",
              "    <tr style=\"text-align: right;\">\n",
              "      <th></th>\n",
              "      <th>italian</th>\n",
              "      <th>english_inp</th>\n",
              "      <th>english_out</th>\n",
              "    </tr>\n",
              "  </thead>\n",
              "  <tbody>\n",
              "    <tr>\n",
              "      <th>236174</th>\n",
              "      <td>io vado alle hawaii lanno prossimo</td>\n",
              "      <td>&lt;start&gt; i am going to hawaii next year</td>\n",
              "      <td>i am going to hawaii next year &lt;end&gt;</td>\n",
              "    </tr>\n",
              "    <tr>\n",
              "      <th>72151</th>\n",
              "      <td>anche io sono un maestro</td>\n",
              "      <td>&lt;start&gt; i am a teacher too</td>\n",
              "      <td>i am a teacher too &lt;end&gt;</td>\n",
              "    </tr>\n",
              "    <tr>\n",
              "      <th>237405</th>\n",
              "      <td>lo sapevo che oggi sarebbe divertente</td>\n",
              "      <td>&lt;start&gt; i knew that today would be fun</td>\n",
              "      <td>i knew that today would be fun &lt;end&gt;</td>\n",
              "    </tr>\n",
              "    <tr>\n",
              "      <th>320499</th>\n",
              "      <td>tom dice che non potrebbe mai vivere in australia</td>\n",
              "      <td>&lt;start&gt; tom says he could never live in australia</td>\n",
              "      <td>tom says he could never live in australia &lt;end&gt;</td>\n",
              "    </tr>\n",
              "    <tr>\n",
              "      <th>245054</th>\n",
              "      <td>perché sembrate così preoccupati</td>\n",
              "      <td>&lt;start&gt; why are you looking so worried</td>\n",
              "      <td>why are you looking so worried &lt;end&gt;</td>\n",
              "    </tr>\n",
              "    <tr>\n",
              "      <th>192811</th>\n",
              "      <td>ha messo la scatola sul tavolo</td>\n",
              "      <td>&lt;start&gt; he put the box on the table</td>\n",
              "      <td>he put the box on the table &lt;end&gt;</td>\n",
              "    </tr>\n",
              "    <tr>\n",
              "      <th>154538</th>\n",
              "      <td>tom spera che ti piaccia</td>\n",
              "      <td>&lt;start&gt; tom hopes you will like it</td>\n",
              "      <td>tom hopes you will like it &lt;end&gt;</td>\n",
              "    </tr>\n",
              "    <tr>\n",
              "      <th>126676</th>\n",
              "      <td>chi stai proteggendo</td>\n",
              "      <td>&lt;start&gt; who are you protecting</td>\n",
              "      <td>who are you protecting &lt;end&gt;</td>\n",
              "    </tr>\n",
              "    <tr>\n",
              "      <th>126498</th>\n",
              "      <td>dove sono le bambine</td>\n",
              "      <td>&lt;start&gt; where are the children</td>\n",
              "      <td>where are the children &lt;end&gt;</td>\n",
              "    </tr>\n",
              "    <tr>\n",
              "      <th>312775</th>\n",
              "      <td>tom mi disturbò con molte domande</td>\n",
              "      <td>&lt;start&gt; tom bothered me with a lot of questions</td>\n",
              "      <td>tom bothered me with a lot of questions &lt;end&gt;</td>\n",
              "    </tr>\n",
              "  </tbody>\n",
              "</table>\n",
              "</div>"
            ],
            "text/plain": [
              "                                                  italian  ...                                      english_out\n",
              "236174                 io vado alle hawaii lanno prossimo  ...             i am going to hawaii next year <end>\n",
              "72151                            anche io sono un maestro  ...                         i am a teacher too <end>\n",
              "237405              lo sapevo che oggi sarebbe divertente  ...             i knew that today would be fun <end>\n",
              "320499  tom dice che non potrebbe mai vivere in australia  ...  tom says he could never live in australia <end>\n",
              "245054                   perché sembrate così preoccupati  ...             why are you looking so worried <end>\n",
              "192811                     ha messo la scatola sul tavolo  ...                he put the box on the table <end>\n",
              "154538                           tom spera che ti piaccia  ...                 tom hopes you will like it <end>\n",
              "126676                               chi stai proteggendo  ...                     who are you protecting <end>\n",
              "126498                               dove sono le bambine  ...                     where are the children <end>\n",
              "312775                  tom mi disturbò con molte domande  ...    tom bothered me with a lot of questions <end>\n",
              "\n",
              "[10 rows x 3 columns]"
            ]
          },
          "metadata": {
            "tags": []
          },
          "execution_count": 10
        }
      ]
    },
    {
      "cell_type": "code",
      "metadata": {
        "id": "C4t9USgv4GB3"
      },
      "source": [
        "from sklearn.model_selection import train_test_split\r\n",
        "train, validation = train_test_split(data, test_size=0.2)"
      ],
      "execution_count": 11,
      "outputs": []
    },
    {
      "cell_type": "code",
      "metadata": {
        "colab": {
          "base_uri": "https://localhost:8080/"
        },
        "id": "QeFmENnDSn3T",
        "outputId": "86624f3b-ff9f-4555-d1be-3ac83133d342"
      },
      "source": [
        "print(train.shape, validation.shape)\r\n",
        "train.iloc[0]['english_inp']= str(train.iloc[0]['english_inp'])+' <end>'\r\n",
        "train.iloc[0]['english_out']= str(train.iloc[0]['english_out'])+' <end>'"
      ],
      "execution_count": 12,
      "outputs": [
        {
          "output_type": "stream",
          "text": [
            "(274710, 3) (68678, 3)\n"
          ],
          "name": "stdout"
        }
      ]
    },
    {
      "cell_type": "code",
      "metadata": {
        "id": "tkSuZs4e1Mvc"
      },
      "source": [
        "tknizer_ita = Tokenizer()\r\n",
        "tknizer_ita.fit_on_texts(train['italian'].values)\r\n",
        "tknizer_eng = Tokenizer(filters='!\"#$%&()*+,-./:;=?@[\\\\]^_`{|}~\\t\\n')\r\n",
        "tknizer_eng.fit_on_texts(train['english_inp'].values)"
      ],
      "execution_count": 13,
      "outputs": []
    },
    {
      "cell_type": "code",
      "metadata": {
        "colab": {
          "base_uri": "https://localhost:8080/"
        },
        "id": "o8TVQQ19S4rs",
        "outputId": "ef24a10f-98bb-4068-fbe9-79bc92b094b5"
      },
      "source": [
        "tknizer_eng.word_index['<start>'], tknizer_eng.word_index['<end>']"
      ],
      "execution_count": 14,
      "outputs": [
        {
          "output_type": "execute_result",
          "data": {
            "text/plain": [
              "(1, 10128)"
            ]
          },
          "metadata": {
            "tags": []
          },
          "execution_count": 14
        }
      ]
    },
    {
      "cell_type": "code",
      "metadata": {
        "colab": {
          "base_uri": "https://localhost:8080/"
        },
        "id": "waPJv1-V1Q29",
        "outputId": "8ba140b3-8b37-4780-d97a-409c84e58d2e"
      },
      "source": [
        "vocab_size_eng=len(tknizer_eng.word_index.keys())\r\n",
        "print(vocab_size_eng)\r\n",
        "vocab_size_ita=len(tknizer_ita.word_index.keys())\r\n",
        "print(vocab_size_ita)"
      ],
      "execution_count": 15,
      "outputs": [
        {
          "output_type": "stream",
          "text": [
            "12854\n",
            "26208\n"
          ],
          "name": "stdout"
        }
      ]
    },
    {
      "cell_type": "code",
      "metadata": {
        "colab": {
          "base_uri": "https://localhost:8080/"
        },
        "id": "xVUl7Zqm0tch",
        "outputId": "1014177b-f294-45b4-fffc-8762c6167780"
      },
      "source": [
        "from tqdm import tqdm\r\n",
        "embeddings_index = dict()\r\n",
        "f = open('/content/drive/MyDrive/Data/glove.6B.100d.txt','rb')\r\n",
        "for line in tqdm(f):\r\n",
        "    values = line.split()\r\n",
        "    word = re.sub('b\\'','',str(values[0]))\r\n",
        "    word = word[:-1]\r\n",
        "    coefs = np.asarray(values[1:], dtype='float32')\r\n",
        "    embeddings_index[word] = coefs\r\n",
        "f.close()\r\n",
        "\r\n",
        "embedding_matrix = np.zeros((vocab_size_eng+1, 100))\r\n",
        "for word, i in tknizer_eng.word_index.items():\r\n",
        "    embedding_vector = embeddings_index.get(word)\r\n",
        "    if embedding_vector is not None:\r\n",
        "        embedding_matrix[i] = embedding_vector"
      ],
      "execution_count": 16,
      "outputs": [
        {
          "output_type": "stream",
          "text": [
            "400000it [00:11, 33921.63it/s]\n"
          ],
          "name": "stderr"
        }
      ]
    },
    {
      "cell_type": "markdown",
      "metadata": {
        "id": "S8RDrP4xKabR"
      },
      "source": [
        "## <font color='blue'>**Implement custom encoder decoder**</font>"
      ]
    },
    {
      "cell_type": "markdown",
      "metadata": {
        "id": "A45uc0JILMlV"
      },
      "source": [
        "<font color='blue'>**Encoder**</font>"
      ]
    },
    {
      "cell_type": "code",
      "metadata": {
        "id": "9cex2XfCLOew"
      },
      "source": [
        "class Encoder(tf.keras.layers.Layer):\n",
        "    def __init__(self, vocab_size, embedding_dim,enc_units,input_length):\n",
        "        super().__init__()\n",
        "        self.vocab_size = vocab_size\n",
        "        self.embedding_dim = embedding_dim\n",
        "        self.input_length = input_length\n",
        "        self.enc_units= enc_units\n",
        "        self.embedding= Embedding(self.vocab_size,self.embedding_dim,input_length=self.input_length)\n",
        "        self.lstm     = LSTM(self.enc_units,return_state=True,return_sequences=True)\n",
        "            \n",
        "\n",
        "    def call(self, input_sequence, initial_states,training=True):\n",
        "        embedding          = self.embedding(input_sequence)\n",
        "        self.lstm_output, self.lstm_state_h,self.lstm_state_c = self.lstm(embedding)\n",
        "        return (self.lstm_output, self.lstm_state_h,self.lstm_state_c)\n",
        "    \n",
        "\n",
        "    \n",
        "    def initialize_states(self,batch_size):\n",
        "        return (tf.zeros((batch_size,self.enc_units)),tf.zeros((batch_size,self.enc_units)))\n",
        "\n"
      ],
      "execution_count": 17,
      "outputs": []
    },
    {
      "cell_type": "markdown",
      "metadata": {
        "id": "EtbOI3VwLOe0"
      },
      "source": [
        "<font color='orange'>**Grader function - 1**</font>"
      ]
    },
    {
      "cell_type": "code",
      "metadata": {
        "id": "ziSqOgmhLOe1",
        "colab": {
          "base_uri": "https://localhost:8080/"
        },
        "outputId": "51a15182-4e42-4d12-95e3-a5eed08db20f"
      },
      "source": [
        "def grader_check_encoder():\n",
        "    '''\n",
        "        vocab-size: Unique words of the input language,\n",
        "        embedding_size: output embedding dimension for each word after embedding layer,\n",
        "        lstm_size: Number of lstm units,\n",
        "        input_length: Length of the input sentence,\n",
        "        batch_size\n",
        "    '''\n",
        "    vocab_size=10\n",
        "    embedding_size=20\n",
        "    lstm_size=32\n",
        "    input_length=10\n",
        "    batch_size=16\n",
        "    #Intialzing encoder \n",
        "    encoder=Encoder(vocab_size,embedding_size,lstm_size,input_length)\n",
        "    input_sequence=tf.random.uniform(shape=[batch_size,input_length],maxval=vocab_size,minval=0,dtype=tf.int32)\n",
        "    #Intializing encoder initial states\n",
        "    initial_state=encoder.initialize_states(batch_size)\n",
        "    \n",
        "    encoder_output,state_h,state_c=encoder(input_sequence,initial_state)\n",
        "  \n",
        "    assert(encoder_output.shape==(batch_size,input_length,lstm_size) and state_h.shape==(batch_size,lstm_size) and state_c.shape==(batch_size,lstm_size))\n",
        "    return True\n",
        "print(grader_check_encoder())"
      ],
      "execution_count": 18,
      "outputs": [
        {
          "output_type": "stream",
          "text": [
            "True\n"
          ],
          "name": "stdout"
        }
      ]
    },
    {
      "cell_type": "code",
      "metadata": {
        "id": "x1ES1-sJLOe4"
      },
      "source": [
        "class Decoder(tf.keras.layers.Layer):\n",
        "    def __init__(self, vocab_size, embedding_dim, dec_units,input_length):\n",
        "        super().__init__()\n",
        "        self.vocab_size = vocab_size\n",
        "        self.embedding_dim = embedding_dim\n",
        "        self.dec_units = dec_units\n",
        "        self.input_length = input_length\n",
        "        self.embedding    = Embedding(input_dim=self.vocab_size, output_dim=self.embedding_dim, input_length=self.input_length, name=\"embedding_layer_decoder\", trainable=True)\n",
        "        self.lstm         = LSTM(self.dec_units,return_state=True,return_sequences=True)\n",
        "\n",
        "    def call(self, target_sentances, states):\n",
        "        embedding = self.embedding(target_sentances)\n",
        "        self.lstm_output, self.lstm_state_h,self.lstm_state_c = self.lstm(embedding,initial_state=states)\n",
        "        return (self.lstm_output, self.lstm_state_h,self.lstm_state_c)\n",
        "        \n"
      ],
      "execution_count": 19,
      "outputs": []
    },
    {
      "cell_type": "markdown",
      "metadata": {
        "id": "Hq-I0SUbLOe8"
      },
      "source": [
        "<font color='orange'>**Grader function - 2**</font>"
      ]
    },
    {
      "cell_type": "code",
      "metadata": {
        "id": "0B0gokgKLOe8",
        "colab": {
          "base_uri": "https://localhost:8080/"
        },
        "outputId": "896deaae-8a19-4c3a-ce75-e3a2b3ff15d4"
      },
      "source": [
        "def grader_decoder():\n",
        "    '''\n",
        "        out_vocab_size: Unique words of the target language,\n",
        "        embedding_size: output embedding dimension for each word after embedding layer,\n",
        "        dec_units: Number of lstm units in decoder,\n",
        "        input_length: Length of the input sentence,\n",
        "        batch_size\n",
        "        \n",
        "    \n",
        "    '''\n",
        "    out_vocab_size=13 \n",
        "    embedding_dim=12 \n",
        "    input_length=10\n",
        "    dec_units=16 \n",
        "    batch_size=32\n",
        "    \n",
        "    target_sentences=tf.random.uniform(shape=(batch_size,input_length),maxval=10,minval=0,dtype=tf.int32)\n",
        "    encoder_output=tf.random.uniform(shape=[batch_size,input_length,dec_units])\n",
        "    state_h=tf.random.uniform(shape=[batch_size,dec_units])\n",
        "    state_c=tf.random.uniform(shape=[batch_size,dec_units])\n",
        "    states=[state_h,state_c]\n",
        "    decoder=Decoder(out_vocab_size, embedding_dim, dec_units,input_length )\n",
        "    output,_,_=decoder(target_sentences, states)\n",
        "    assert(output.shape==(batch_size,input_length,dec_units))\n",
        "    return True\n",
        "print(grader_decoder())\n"
      ],
      "execution_count": 20,
      "outputs": [
        {
          "output_type": "stream",
          "text": [
            "True\n"
          ],
          "name": "stdout"
        }
      ]
    },
    {
      "cell_type": "code",
      "metadata": {
        "id": "FxfBHRsU2VfO"
      },
      "source": [
        "class Dataset:\r\n",
        "    def __init__(self, data, tknizer_ita, tknizer_eng, max_len):\r\n",
        "        self.encoder_inps = data['italian'].values\r\n",
        "        self.decoder_inps = data['english_inp'].values\r\n",
        "        self.decoder_outs = data['english_out'].values\r\n",
        "        self.tknizer_eng = tknizer_eng\r\n",
        "        self.tknizer_ita = tknizer_ita\r\n",
        "        self.max_len = max_len\r\n",
        "\r\n",
        "    def __getitem__(self, i):\r\n",
        "        self.encoder_seq = self.tknizer_ita.texts_to_sequences([self.encoder_inps[i]]) # need to pass list of values\r\n",
        "        self.decoder_inp_seq = self.tknizer_eng.texts_to_sequences([self.decoder_inps[i]])\r\n",
        "        self.decoder_out_seq = self.tknizer_eng.texts_to_sequences([self.decoder_outs[i]])\r\n",
        "\r\n",
        "        self.encoder_seq = pad_sequences(self.encoder_seq, maxlen=self.max_len, dtype='int32', padding='post')\r\n",
        "        self.decoder_inp_seq = pad_sequences(self.decoder_inp_seq, maxlen=self.max_len, dtype='int32', padding='post')\r\n",
        "        self.decoder_out_seq = pad_sequences(self.decoder_out_seq, maxlen=self.max_len, dtype='int32', padding='post')\r\n",
        "        return self.encoder_seq, self.decoder_inp_seq, self.decoder_out_seq\r\n",
        "\r\n",
        "    def __len__(self): # your model.fit_gen requires this function\r\n",
        "        return len(self.encoder_inps)\r\n",
        "\r\n",
        "    \r\n",
        "class Dataloder(tf.keras.utils.Sequence):    \r\n",
        "    def __init__(self, dataset, batch_size=1):\r\n",
        "        self.dataset = dataset\r\n",
        "        self.batch_size = batch_size\r\n",
        "        self.indexes = np.arange(len(self.dataset.encoder_inps))\r\n",
        "\r\n",
        "\r\n",
        "    def __getitem__(self, i):\r\n",
        "        start = i * self.batch_size\r\n",
        "        stop = (i + 1) * self.batch_size\r\n",
        "        data = []\r\n",
        "        for j in range(start, stop):\r\n",
        "            data.append(self.dataset[j])\r\n",
        "\r\n",
        "        batch = [np.squeeze(np.stack(samples, axis=1), axis=0) for samples in zip(*data)]\r\n",
        "        # we are creating data like ([italian, english_inp], english_out) these are already converted into seq\r\n",
        "        return tuple([[batch[0],batch[1]],batch[2]])\r\n",
        "\r\n",
        "    def __len__(self):  # your model.fit_gen requires this function\r\n",
        "        return len(self.indexes) // self.batch_size\r\n",
        "\r\n",
        "    def on_epoch_end(self):\r\n",
        "        self.indexes = np.random.permutation(self.indexes)"
      ],
      "execution_count": 21,
      "outputs": []
    },
    {
      "cell_type": "code",
      "metadata": {
        "id": "cHddYxuc2Xm1"
      },
      "source": [
        "train_dataset = Dataset(train, tknizer_ita, tknizer_eng, 20)\r\n",
        "test_dataset  = Dataset(validation, tknizer_ita, tknizer_eng, 20)\r\n",
        "\r\n",
        "train_dataloader = Dataloder(train_dataset, batch_size=1024)\r\n",
        "test_dataloader = Dataloder(test_dataset, batch_size=1024)\r\n"
      ],
      "execution_count": 22,
      "outputs": []
    },
    {
      "cell_type": "code",
      "metadata": {
        "id": "o90a7T2gYsWB"
      },
      "source": [
        "start=tknizer_eng.word_index['<start>']"
      ],
      "execution_count": 23,
      "outputs": []
    },
    {
      "cell_type": "code",
      "metadata": {
        "id": "bpFa-HDt2bRV"
      },
      "source": [
        "class Encoder_Decoder(Model):\r\n",
        "    def __init__(self, encoder_inputs_length,decoder_inputs_length, output_vocab_size):\r\n",
        "        super().__init__() # https://stackoverflow.com/a/27134600/4084039\r\n",
        "        self.encoder = Encoder(vocab_size=vocab_size_ita+1, embedding_dim=50, input_length=encoder_inputs_length, enc_units=256)\r\n",
        "        self.encoder.trainable=True\r\n",
        "        self.decoder = Decoder(vocab_size=vocab_size_eng+1, embedding_dim=100, input_length=decoder_inputs_length, dec_units=256)\r\n",
        "        self.decoder.trainable=True\r\n",
        "        self.dense   = Dense(output_vocab_size, activation='softmax')\r\n",
        "        \r\n",
        "        \r\n",
        "    def call(self, data):\r\n",
        "        input,output = data[0], data[1]\r\n",
        "        initial_state=self.encoder.initialize_states(batch_size)\r\n",
        "        encoder_output, encoder_h, encoder_c = self.encoder(input,initial_state)\r\n",
        "        decoder_output,_,_                   = self.decoder(output,states=[encoder_h, encoder_c])\r\n",
        "        output                               = self.dense(decoder_output)\r\n",
        "        return output"
      ],
      "execution_count": 24,
      "outputs": []
    },
    {
      "cell_type": "code",
      "metadata": {
        "colab": {
          "base_uri": "https://localhost:8080/"
        },
        "id": "EIvYMSoH2xRv",
        "outputId": "0668b5d0-65fa-466a-ba9c-cbbe6dfe3fa4"
      },
      "source": [
        "model  = Encoder_Decoder(encoder_inputs_length=20,decoder_inputs_length=20,output_vocab_size=vocab_size_eng)\r\n",
        "optimizer = tf.keras.optimizers.Adam()\r\n",
        "model.compile(optimizer=optimizer,loss='sparse_categorical_crossentropy')\r\n",
        "logdir = \"logs/fit/\" + datetime.now().strftime(\"%Y%m%d-%H%M%S\")\r\n",
        "tensorboard_callback = tf.keras.callbacks.TensorBoard(log_dir=logdir)\r\n",
        "batch_size=1024\r\n",
        "train_steps=train.shape[0]//1024\r\n",
        "valid_steps=validation.shape[0]//1024\r\n",
        "model.fit_generator(train_dataloader, steps_per_epoch=train_steps, epochs=30, validation_data= test_dataloader, validation_steps=valid_steps,callbacks=tensorboard_callback)\r\n",
        "model.summary()"
      ],
      "execution_count": 25,
      "outputs": [
        {
          "output_type": "stream",
          "text": [
            "/usr/local/lib/python3.6/dist-packages/tensorflow/python/keras/engine/training.py:1844: UserWarning: `Model.fit_generator` is deprecated and will be removed in a future version. Please use `Model.fit`, which supports generators.\n",
            "  warnings.warn('`Model.fit_generator` is deprecated and '\n",
            "/usr/local/lib/python3.6/dist-packages/tensorflow/python/data/ops/dataset_ops.py:3504: UserWarning: Even though the tf.config.experimental_run_functions_eagerly option is set, this option does not apply to tf.data functions. tf.data functions are still traced and executed as graphs.\n",
            "  \"Even though the tf.config.experimental_run_functions_eagerly \"\n"
          ],
          "name": "stderr"
        },
        {
          "output_type": "stream",
          "text": [
            "Epoch 1/30\n",
            "268/268 [==============================] - 126s 468ms/step - loss: 3.4921 - val_loss: 1.6614\n",
            "Epoch 2/30\n",
            "268/268 [==============================] - 124s 463ms/step - loss: 1.6072 - val_loss: 1.4633\n",
            "Epoch 3/30\n",
            "268/268 [==============================] - 128s 477ms/step - loss: 1.4133 - val_loss: 1.2810\n",
            "Epoch 4/30\n",
            "268/268 [==============================] - 127s 474ms/step - loss: 1.2501 - val_loss: 1.1804\n",
            "Epoch 5/30\n",
            "268/268 [==============================] - 129s 481ms/step - loss: 1.1367 - val_loss: 1.0677\n",
            "Epoch 6/30\n",
            "268/268 [==============================] - 130s 483ms/step - loss: 1.0304 - val_loss: 0.9767\n",
            "Epoch 7/30\n",
            "268/268 [==============================] - 130s 486ms/step - loss: 0.9377 - val_loss: 0.8976\n",
            "Epoch 8/30\n",
            "268/268 [==============================] - 126s 470ms/step - loss: 0.8543 - val_loss: 0.8227\n",
            "Epoch 9/30\n",
            "268/268 [==============================] - 127s 475ms/step - loss: 0.7705 - val_loss: 0.7493\n",
            "Epoch 10/30\n",
            "268/268 [==============================] - 128s 476ms/step - loss: 0.6920 - val_loss: 0.6802\n",
            "Epoch 11/30\n",
            "268/268 [==============================] - 127s 475ms/step - loss: 0.6176 - val_loss: 0.6190\n",
            "Epoch 12/30\n",
            "268/268 [==============================] - 126s 471ms/step - loss: 0.5526 - val_loss: 0.5653\n",
            "Epoch 13/30\n",
            "268/268 [==============================] - 128s 479ms/step - loss: 0.4922 - val_loss: 0.5173\n",
            "Epoch 14/30\n",
            "268/268 [==============================] - 127s 475ms/step - loss: 0.4415 - val_loss: 0.4752\n",
            "Epoch 15/30\n",
            "268/268 [==============================] - 126s 470ms/step - loss: 0.3949 - val_loss: 0.4403\n",
            "Epoch 16/30\n",
            "268/268 [==============================] - 128s 479ms/step - loss: 0.3541 - val_loss: 0.4115\n",
            "Epoch 17/30\n",
            "268/268 [==============================] - 128s 479ms/step - loss: 0.3182 - val_loss: 0.3832\n",
            "Epoch 18/30\n",
            "268/268 [==============================] - 127s 474ms/step - loss: 0.2879 - val_loss: 0.3646\n",
            "Epoch 19/30\n",
            "268/268 [==============================] - 127s 472ms/step - loss: 0.2619 - val_loss: 0.3444\n",
            "Epoch 20/30\n",
            "268/268 [==============================] - 128s 478ms/step - loss: 0.2404 - val_loss: 0.3287\n",
            "Epoch 21/30\n",
            "268/268 [==============================] - 129s 482ms/step - loss: 0.2202 - val_loss: 0.3126\n",
            "Epoch 22/30\n",
            "268/268 [==============================] - 128s 479ms/step - loss: 0.2029 - val_loss: 0.3015\n",
            "Epoch 23/30\n",
            "268/268 [==============================] - 128s 478ms/step - loss: 0.1879 - val_loss: 0.2912\n",
            "Epoch 24/30\n",
            "268/268 [==============================] - 130s 484ms/step - loss: 0.1736 - val_loss: 0.2824\n",
            "Epoch 25/30\n",
            "268/268 [==============================] - 130s 484ms/step - loss: 0.1626 - val_loss: 0.2758\n",
            "Epoch 26/30\n",
            "268/268 [==============================] - 129s 482ms/step - loss: 0.1513 - val_loss: 0.2684\n",
            "Epoch 27/30\n",
            "268/268 [==============================] - 126s 470ms/step - loss: 0.1424 - val_loss: 0.2618\n",
            "Epoch 28/30\n",
            "268/268 [==============================] - 129s 481ms/step - loss: 0.1328 - val_loss: 0.2568\n",
            "Epoch 29/30\n",
            "268/268 [==============================] - 127s 475ms/step - loss: 0.1252 - val_loss: 0.2519\n",
            "Epoch 30/30\n",
            "268/268 [==============================] - 128s 477ms/step - loss: 0.1182 - val_loss: 0.2481\n",
            "Model: \"encoder__decoder\"\n",
            "_________________________________________________________________\n",
            "Layer (type)                 Output Shape              Param #   \n",
            "=================================================================\n",
            "encoder_1 (Encoder)          multiple                  1624818   \n",
            "_________________________________________________________________\n",
            "decoder_1 (Decoder)          multiple                  1651068   \n",
            "_________________________________________________________________\n",
            "dense (Dense)                multiple                  3303478   \n",
            "=================================================================\n",
            "Total params: 6,579,364\n",
            "Trainable params: 6,579,364\n",
            "Non-trainable params: 0\n",
            "_________________________________________________________________\n"
          ],
          "name": "stdout"
        }
      ]
    },
    {
      "cell_type": "code",
      "metadata": {
        "id": "pcfOmT_j8E4Q"
      },
      "source": [
        "tensorboard --logdir=./"
      ],
      "execution_count": null,
      "outputs": []
    },
    {
      "cell_type": "code",
      "metadata": {
        "id": "SkARSlZgLOfE"
      },
      "source": [
        "def predict(input_sentence):\n",
        " encoded                 = tknizer_ita.texts_to_sequences([input_sentence])\n",
        " encoded                 = tf.convert_to_tensor(tf.keras.preprocessing.sequence.pad_sequences(encoded, maxlen=20, dtype='int',padding='post'))\n",
        " initial_state           = model.layers[0].initialize_states(batch_size=1)\n",
        " encoder_outputs, h , c  = model.layers[0](encoded,initial_state)\n",
        " \n",
        " start                   = tknizer_eng.word_index['<start>']\n",
        " output_sentence=[]\n",
        " \n",
        " for i in range(20):\n",
        "   decoder_output, h, c  = model.layers[1](tf.expand_dims([start],axis=1),states=[h ,c])\n",
        "   dense_output          = model.layers[2](decoder_output)\n",
        "   word_index            = tf.math.argmax(*dense_output,1)\n",
        "   english_word          = tknizer_eng.index_word[word_index.numpy()[0]]\n",
        "   start                 = word_index.numpy()[0]\n",
        "   output_sentence.append(english_word)\n",
        "\n",
        "   if english_word=='<end>':\n",
        "     break\n",
        "     \n",
        " return \" \".join(output_sentence)"
      ],
      "execution_count": 27,
      "outputs": []
    },
    {
      "cell_type": "code",
      "metadata": {
        "id": "996pFO8BLOfG",
        "colab": {
          "base_uri": "https://localhost:8080/"
        },
        "outputId": "4cdef7b3-24f4-4d95-e82f-6bba3fb5340f"
      },
      "source": [
        "Bleu=[]\n",
        "print(len(validation['italian']))\n",
        "\n",
        "for i in np.random.choice(np.arange(len(validation['italian'])),size=1000,replace=False):\n",
        "  Bleu.append(nltk.translate.bleu_score.sentence_bleu(validation['english_out'].iloc[i],predict(validation['italian'].iloc[i])))\n",
        "print(sum(Bleu)/1000)\n",
        "\n",
        "# Predict on 1000 random sentences on test data and calculate the average BLEU score of these sentences.\n",
        "# https://www.nltk.org/_modules/nltk/translate/bleu_score.html\n",
        "\n",
        "for i in np.random.choice(np.arange(len(validation['italian'])),size=10,replace=False):\n",
        "  print('Italian\\t',validation['italian'].iloc[i])\n",
        "  print('English_out\\t',validation['english_out'].iloc[i])\n",
        "  print('Predicted\\t',predict(validation['italian'].iloc[i]))\n",
        "  print('\\n')"
      ],
      "execution_count": 28,
      "outputs": [
        {
          "output_type": "stream",
          "text": [
            "68678\n"
          ],
          "name": "stdout"
        },
        {
          "output_type": "stream",
          "text": [
            "/usr/local/lib/python3.6/dist-packages/nltk/translate/bleu_score.py:490: UserWarning: \n",
            "Corpus/Sentence contains 0 counts of 2-gram overlaps.\n",
            "BLEU scores might be undesirable; use SmoothingFunction().\n",
            "  warnings.warn(_msg)\n"
          ],
          "name": "stderr"
        },
        {
          "output_type": "stream",
          "text": [
            "0.834200935079292\n",
            "Italian\t posso parlare adesso\n",
            "English_out\t can i talk now <end>\n",
            "Predicted\t can i talk now <end>\n",
            "\n",
            "\n",
            "Italian\t tom è svenuto\n",
            "English_out\t tom is fainted <end>\n",
            "Predicted\t tom is unconscious <end>\n",
            "\n",
            "\n",
            "Italian\t perché tom abbraccerebbe mary\n",
            "English_out\t why would tom hug mary <end>\n",
            "Predicted\t why would tom hug mary <end>\n",
            "\n",
            "\n",
            "Italian\t ha un buon sapore\n",
            "English_out\t does it taste good <end>\n",
            "Predicted\t does it taste good <end>\n",
            "\n",
            "\n",
            "Italian\t la sua stanza è pulita\n",
            "English_out\t is your room clean <end>\n",
            "Predicted\t is your room clean <end>\n",
            "\n",
            "\n",
            "Italian\t tom ha bevuto un altro sorso di caffè\n",
            "English_out\t tom took another sip of coffee <end>\n",
            "Predicted\t tom had another sip of beer <end>\n",
            "\n",
            "\n",
            "Italian\t tom mi ha lasciato guidare la sua auto\n",
            "English_out\t tom let me drive his car <end>\n",
            "Predicted\t tom let me drive his car <end>\n",
            "\n",
            "\n",
            "Italian\t voi avete bevuto tre tazze di caffè\n",
            "English_out\t you have drunk three cups of coffee <end>\n",
            "Predicted\t you have drunk three cups of coffee <end>\n",
            "\n",
            "\n",
            "Italian\t il mio orologio perde due minuti al giorno\n",
            "English_out\t my watch loses two minutes a day <end>\n",
            "Predicted\t my watch two leaves a day <end>\n",
            "\n",
            "\n",
            "Italian\t lui mi ha sparato\n",
            "English_out\t he shot at me <end>\n",
            "Predicted\t he shot me <end>\n",
            "\n",
            "\n"
          ],
          "name": "stdout"
        }
      ]
    },
    {
      "cell_type": "markdown",
      "metadata": {
        "id": "CxWFDxZXLOfJ"
      },
      "source": [
        " "
      ]
    },
    {
      "cell_type": "markdown",
      "metadata": {
        "id": "yZhX3K9GLOfJ"
      },
      "source": [
        "## Task -2: Including Attention mechanisum"
      ]
    },
    {
      "cell_type": "markdown",
      "metadata": {
        "id": "Q3d7GeBMGbsJ"
      },
      "source": [
        "1. Use the preprocessed data from Task-1\n",
        "\n",
        "2. You have to implement an Encoder and Decoder architecture with  \n",
        "attention as discussed in the reference notebook.\n",
        "\n",
        "    * Encoder   - with 1 layer LSTM <br>\n",
        "    * Decoder   - with 1 layer LSTM<br>\n",
        "    * attention -  (Please refer the <a href= 'https://drive.google.com/file/d/1z_bnc-3aubKawbR6q8wyI6Mh5ho2R1aZ/view?usp=sharing'>**reference notebook**</a> to know more about the attention mechanism.)\n",
        "3. In Global attention, we have 3 types of scoring functions(as discussed in the reference notebook).\n",
        " As a part of this assignment **you need to create 3 models for each scoring function**\n",
        "<img src='https://i.imgur.com/iD2jZo3.png'>\n",
        "\n",
        "    * In model 1 you need to implemnt \"dot\" score function\n",
        "    * In model 2 you need to implemnt \"general\" score function\n",
        "    * In model 3 you need to implemnt \"concat\" score function.<br>\n",
        "    \n",
        " **Please do add the markdown titles for each model so that we can have a better look at the code and verify.**\n",
        "4. It is mandatory to train the model with simple model.fit() only, Donot train the model with custom GradientTape()\n",
        "\n",
        "5. Using attention weights, you can plot the attention plots, \n",
        "please plot those for 2-3 examples. You can check about those in <a href=\"https://www.tensorflow.org/tutorials/text/nmt_with_attention#translate\">this</a>\n",
        "\n",
        "6. The attention layer has to be written by yourself only. \n",
        "The main objective of this assignment is to read and implement a paper on yourself so please do it yourself.  \n",
        "\n",
        "7. Please implement the class **onestepdecoder** as mentioned in the assignment instructions.\n",
        "\n",
        "8. You can use any tf.Keras highlevel API's to build and train the models. \n",
        " Check the reference notebook for better understanding.\n",
        "\n",
        "9. Use BLEU score as metric to evaluate your model. You can use any loss function you need.\n",
        "\n",
        "10. You have to use Tensorboard to plot the Graph, Scores and histograms of gradients. \n",
        "\n",
        "11. Resources:\n",
        "    a. Check the reference notebook\n",
        "    b. <a href=\"https://jalammar.github.io/visualizing-neural-machine-translation-mechanics-of-seq2seq-models-with-attention/\">Resource 1</a>\n",
        "    c. <a href=\"https://www.tensorflow.org/tutorials/text/nmt_with_attention\">Resource 2</a>\n",
        "    d. <a href=\"https://stackoverflow.com/questions/44238154/what-is-the-difference-between-luong-attention-and-bahdanau-attention#:~:text=Luong%20attention%20used%20top%20hidden,hidden%20state%20at%20time%20t.\">Resource 3</a>\n",
        "    "
      ]
    },
    {
      "cell_type": "markdown",
      "metadata": {
        "id": "PU4KIsGxLOfK"
      },
      "source": [
        "### <font color='blue'>**Implement custom encoder decoder and attention layers**</font>"
      ]
    },
    {
      "cell_type": "markdown",
      "metadata": {
        "id": "TMm3ADQDLOfK"
      },
      "source": [
        "<font color='blue'>**Encoder**</font>"
      ]
    },
    {
      "cell_type": "code",
      "metadata": {
        "id": "Lx_5NA24KzRp"
      },
      "source": [
        "class Encoder(tf.keras.layers.Layer):\n",
        "    def __init__(self, vocab_size, embedding_dim,enc_units,input_length):\n",
        "        super().__init__()\n",
        "        self.vocab_size = vocab_size\n",
        "        self.embedding_dim = embedding_dim\n",
        "        self.input_length = input_length\n",
        "        self.enc_units= enc_units\n",
        "\n",
        "    def build(self,_):\n",
        "        self.embedding= Embedding(self.vocab_size,self.embedding_dim,input_length=self.input_length)\n",
        "        self.lstm     = LSTM(self.enc_units,return_state=True,return_sequences=True)\n",
        "            \n",
        "    def call(self, input_sequence, initial_states,training=True):\n",
        "        embedding          = self.embedding(input_sequence)\n",
        "        self.lstm_output, self.lstm_state_h,self.lstm_state_c = self.lstm(embedding)\n",
        "        return (self.lstm_output, self.lstm_state_h,self.lstm_state_c)\n",
        "    \n",
        "    def initialize_states(self,batch_size):\n",
        "        return (tf.zeros((batch_size,self.enc_units)),tf.zeros((batch_size,self.enc_units)))\n",
        "\n"
      ],
      "execution_count": 29,
      "outputs": []
    },
    {
      "cell_type": "markdown",
      "metadata": {
        "id": "4ub9aN-hK244"
      },
      "source": [
        "<font color='cyan'>**Grader function - 1**</font>"
      ]
    },
    {
      "cell_type": "code",
      "metadata": {
        "id": "wRoe65b9LB0D",
        "colab": {
          "base_uri": "https://localhost:8080/"
        },
        "outputId": "5e950009-c961-4c97-a751-06979e86b65c"
      },
      "source": [
        "def grader_check_encoder():\n",
        "    \n",
        "    '''\n",
        "        vocab-size: Unique words of the input language,\n",
        "        embedding_size: output embedding dimension for each word after embedding layer,\n",
        "        lstm_size: Number of lstm units in encoder,\n",
        "        input_length: Length of the input sentence,\n",
        "        batch_size\n",
        "    '''\n",
        "    \n",
        "    vocab_size=10\n",
        "    embedding_size=20\n",
        "    lstm_size=32\n",
        "    input_length=10\n",
        "    batch_size=16\n",
        "    encoder=Encoder(vocab_size,embedding_size,lstm_size,input_length)\n",
        "    input_sequence=tf.random.uniform(shape=[batch_size,input_length],maxval=vocab_size,minval=0,dtype=tf.int32)\n",
        "    initial_state=encoder.initialize_states(batch_size)\n",
        "    encoder_output,state_h,state_c=encoder(input_sequence,initial_state)\n",
        "    \n",
        "    assert(encoder_output.shape==(batch_size,input_length,lstm_size) and state_h.shape==(batch_size,lstm_size) and state_c.shape==(batch_size,lstm_size))\n",
        "    return True\n",
        "print(grader_check_encoder())"
      ],
      "execution_count": 30,
      "outputs": [
        {
          "output_type": "stream",
          "text": [
            "True\n"
          ],
          "name": "stdout"
        }
      ]
    },
    {
      "cell_type": "markdown",
      "metadata": {
        "id": "lXn278lhLYRM"
      },
      "source": [
        "<font color='blue'>**Attention**</font>"
      ]
    },
    {
      "cell_type": "code",
      "metadata": {
        "id": "ab5SNdPZLlur"
      },
      "source": [
        "#https://stackoverflow.com/questions/47157692/how-does-reduce-sum-work-in-tensorflow\n",
        "class Attention(tf.keras.layers.Layer):\n",
        "  def __init__(self,scoring_function, att_units):\n",
        "    super().__init__()\n",
        "    self.scoring_function=scoring_function\n",
        "    if self.scoring_function=='dot':\n",
        "      pass\n",
        "      \n",
        "    if scoring_function == 'general':\n",
        "      self.wa = tf.keras.layers.Dense(att_units)\n",
        "\n",
        "    elif scoring_function == 'concat':\n",
        "      self.wa = tf.keras.layers.Dense(att_units)\n",
        "      self.va = tf.keras.layers.Dense(1)\n",
        "\n",
        "\n",
        "  def call(self,decoder_hidden_state,encoder_output):\n",
        "    decoder_hidden_state=tf.expand_dims(decoder_hidden_state,axis=1)\n",
        "    if self.scoring_function == 'dot':\n",
        "      score = tf.matmul(encoder_output, decoder_hidden_state, transpose_b=True)\n",
        "      \n",
        "    elif self.scoring_function == 'general':\n",
        "      score = tf.matmul(self.wa(encoder_output), decoder_hidden_state, transpose_b=True)\n",
        "      \n",
        "    elif self.scoring_function == 'concat':\n",
        "      score = self.va(tf.nn.tanh(self.wa(decoder_hidden_state+encoder_output)))\n",
        "      \n",
        "    \n",
        "    attention_weights = tf.nn.softmax(score, axis=1)#refered\n",
        "    \n",
        "    \n",
        "    context = tf.reduce_sum(attention_weights*encoder_output , axis=1)#refered\n",
        "    \n",
        "    \n",
        "    return context, attention_weights"
      ],
      "execution_count": 31,
      "outputs": []
    },
    {
      "cell_type": "markdown",
      "metadata": {
        "id": "ExQDlxI9LuqK"
      },
      "source": [
        "<font color='cyan'>**Grader function - 2**</font>"
      ]
    },
    {
      "cell_type": "code",
      "metadata": {
        "id": "51x50h_TLrl9",
        "colab": {
          "base_uri": "https://localhost:8080/"
        },
        "outputId": "cd4c83ce-f116-48c7-8fec-c483940c1e17"
      },
      "source": [
        "def grader_check_attention(scoring_fun):\n",
        "    \n",
        "    ''' \n",
        "        att_units: Used in matrix multiplications for scoring functions,\n",
        "        input_length: Length of the input sentence,\n",
        "        batch_size\n",
        "    '''\n",
        "    \n",
        "    input_length=10\n",
        "    batch_size=16\n",
        "    att_units=32\n",
        "    \n",
        "    state_h=tf.random.uniform(shape=[batch_size,att_units])\n",
        "    encoder_output=tf.random.uniform(shape=[batch_size,input_length,att_units])\n",
        "    attention=Attention(scoring_fun,att_units)\n",
        "    context_vector,attention_weights=attention(state_h,encoder_output)\n",
        "    assert(context_vector.shape==(batch_size,att_units) and attention_weights.shape==(batch_size,input_length,1))\n",
        "    return True\n",
        "print(grader_check_attention('dot'))\n",
        "print(grader_check_attention('general'))\n",
        "print(grader_check_attention('concat'))"
      ],
      "execution_count": 32,
      "outputs": [
        {
          "output_type": "stream",
          "text": [
            "True\n",
            "True\n",
            "True\n"
          ],
          "name": "stdout"
        }
      ]
    },
    {
      "cell_type": "markdown",
      "metadata": {
        "id": "ic-FNEbfL2DN"
      },
      "source": [
        "<font color='blue'>**OneStepDecoder**</font>"
      ]
    },
    {
      "cell_type": "code",
      "metadata": {
        "id": "Kc8m7lmOL097"
      },
      "source": [
        "class One_Step_Decoder(tf.keras.Model):\n",
        "  def __init__(self,tar_vocab_size, embedding_dim, input_length, dec_units ,score_fun ,att_units):\n",
        "    super().__init__()\n",
        "    self.tar_vocab_size=tar_vocab_size\n",
        "    self.embedding_dim=embedding_dim\n",
        "    self.input_length=input_length\n",
        "    self.dec_units=dec_units\n",
        "    self.score_fun=score_fun\n",
        "    self.att_units=att_units\n",
        "    self.attention=Attention('dot',self.att_units)\n",
        "    self.embedding = tf.keras.layers.Embedding(input_dim=self.tar_vocab_size, output_dim=embedding_dim)\n",
        "    self.lstm = tf.keras.layers.LSTM(self.dec_units, return_sequences=True, return_state=True)\n",
        "    self.dense1 = tf.keras.layers.Dense(self.tar_vocab_size)\n",
        "\n",
        "\n",
        "  def call(self,input_to_decoder, encoder_output, state_h,state_c):\n",
        "    embeddings=self.embedding(input_to_decoder)\n",
        "    context_vector,attention_weights=self.attention(state_h,encoder_output)\n",
        "    # print(context_vector.shape)\n",
        "    # print(attention_weights.shape)\n",
        "    concat_layers = tf.concat([tf.expand_dims(context_vector, 1), embeddings], axis=-1)\n",
        "    # print(tf.expand_dims(context_vector, 1).shape)\n",
        "    # print(embeddings.shape)\n",
        "    # print(concat_layers.shape)\n",
        "    output, state_h,state_c = self.lstm(concat_layers,[state_h,state_c])#refered\n",
        "    output=tf.reshape(output,(-1,output.shape[2]))#refered\n",
        "    output_dense=self.dense1(output)\n",
        "\n",
        "    return output_dense,state_h,state_c,attention_weights,context_vector"
      ],
      "execution_count": 33,
      "outputs": []
    },
    {
      "cell_type": "markdown",
      "metadata": {
        "id": "R_I8I4EIMAXq"
      },
      "source": [
        "<font color='cyan'>**Grader function - 3**</font>"
      ]
    },
    {
      "cell_type": "code",
      "metadata": {
        "id": "uLEXhChnMC1k",
        "colab": {
          "base_uri": "https://localhost:8080/"
        },
        "outputId": "9f5c18e3-16c0-4f10-e14b-8b49ab8d711c"
      },
      "source": [
        "def grader_onestepdecoder(score_fun):\n",
        "    \n",
        "    '''\n",
        "        tar_vocab_size: Unique words of the target language,\n",
        "        embedding_dim: output embedding dimension for each word after embedding layer,\n",
        "        dec_units: Number of lstm units in decoder,\n",
        "        att_units: Used in matrix multiplications for scoring functions in attention class,\n",
        "        input_length: Length of the target sentence,\n",
        "        batch_size\n",
        "        \n",
        "    \n",
        "    '''\n",
        "    \n",
        "    tar_vocab_size=13 \n",
        "    embedding_dim=12 \n",
        "    input_length=10\n",
        "    dec_units=16 \n",
        "    att_units=16\n",
        "    batch_size=32\n",
        "    onestepdecoder=One_Step_Decoder(tar_vocab_size, embedding_dim, input_length, dec_units ,score_fun ,att_units)\n",
        "    input_to_decoder=tf.random.uniform(shape=(batch_size,1),maxval=10,minval=0,dtype=tf.int32)\n",
        "    encoder_output=tf.random.uniform(shape=[batch_size,input_length,dec_units])\n",
        "    state_h=tf.random.uniform(shape=[batch_size,dec_units])\n",
        "    state_c=tf.random.uniform(shape=[batch_size,dec_units])\n",
        "    output,state_h,state_c,attention_weights,context_vector=onestepdecoder(input_to_decoder,encoder_output,state_h,state_c)\n",
        "    assert(output.shape==(batch_size,tar_vocab_size))\n",
        "    assert(state_h.shape==(batch_size,dec_units))\n",
        "    assert(state_c.shape==(batch_size,dec_units))\n",
        "    assert(attention_weights.shape==(batch_size,input_length,1))\n",
        "    assert(context_vector.shape==(batch_size,dec_units))\n",
        "    return True\n",
        "    \n",
        "print(grader_onestepdecoder('dot'))\n",
        "print(grader_onestepdecoder('general'))\n",
        "print(grader_onestepdecoder('concat'))\n",
        "    "
      ],
      "execution_count": 34,
      "outputs": [
        {
          "output_type": "stream",
          "text": [
            "True\n",
            "True\n",
            "True\n"
          ],
          "name": "stdout"
        }
      ]
    },
    {
      "cell_type": "markdown",
      "metadata": {
        "id": "6FHrurjUMGAi"
      },
      "source": [
        "<font color='blue'>**Decoder**</font>"
      ]
    },
    {
      "cell_type": "code",
      "metadata": {
        "id": "NV-x31rj6Hc4"
      },
      "source": [
        "class Decoder(tf.keras.Model):\n",
        "    def __init__(self,out_vocab_size, embedding_dim, input_length, dec_units ,score_fun ,att_units):\n",
        "      #Intialize necessary variables and create an object from the class onestepdecoder\n",
        "      super().__init__()\n",
        "      self.out_vocab_size  = out_vocab_size\n",
        "      self.embedding_dim   = embedding_dim\n",
        "      self.input_length    = input_length\n",
        "      self.dec_units       = dec_units\n",
        "      self.score_fun       = score_fun\n",
        "      self.att_units       = att_units\n",
        "      self.One_Step_Decoder= One_Step_Decoder(self.out_vocab_size, self.embedding_dim, self.input_length, self.dec_units ,self.score_fun ,self.att_units)\n",
        "        \n",
        "    def call(self, input_to_decoder,encoder_output,decoder_hidden_state,decoder_cell_state ):\n",
        "\n",
        "        #Initialize an empty Tensor array, that will store the outputs at each and every time step\n",
        "        #Create a tensor array as shown in the reference notebook\n",
        "        \n",
        "        #Iterate till the length of the decoder input\n",
        "            # Call onestepdecoder for each token in decoder_input\n",
        "            # Store the output in tensorarray\n",
        "        # Return the tensor array\n",
        "        \n",
        "        self.input_to_decoder      = input_to_decoder\n",
        "        self.encoder_output        = encoder_output\n",
        "        self.decoder_hidden_state  = decoder_hidden_state\n",
        "        self.decoder_cell_state    = decoder_cell_state\n",
        "        all_outputs= tf.TensorArray(tf.float32, size=input_to_decoder.shape[1])\n",
        "        for timestep in range(input_to_decoder.shape[-1]):\n",
        "          output_dense,decoder_hidden_state,decoder_cell_state,attention_weights,context_vector = self.One_Step_Decoder(input_to_decoder[:,timestep:timestep+1], encoder_output, decoder_hidden_state,decoder_cell_state)\n",
        "          all_outputs = all_outputs.write(timestep,output_dense)\n",
        "        all_outputs = tf.transpose(all_outputs.stack(),[1,0,2])\n",
        "        return all_outputs\n",
        "\n",
        "      \n",
        "        \n",
        "        \n",
        "    "
      ],
      "execution_count": 35,
      "outputs": []
    },
    {
      "cell_type": "markdown",
      "metadata": {
        "id": "FxrL-P8bMJH6"
      },
      "source": [
        "<font color='cyan'>**Grader function - 4**</font>"
      ]
    },
    {
      "cell_type": "code",
      "metadata": {
        "id": "rtbx6onFMJXb",
        "colab": {
          "base_uri": "https://localhost:8080/"
        },
        "outputId": "ab5ebc6a-058c-4857-cab3-626dd9ee1889"
      },
      "source": [
        "def grader_decoder(score_fun):\n",
        "    \n",
        "    '''\n",
        "        out_vocab_size: Unique words of the target language,\n",
        "        embedding_dim: output embedding dimension for each word after embedding layer,\n",
        "        dec_units: Number of lstm units in decoder,\n",
        "        att_units: Used in matrix multiplications for scoring functions in attention class,\n",
        "        input_length: Length of the target sentence,\n",
        "        batch_size\n",
        "        \n",
        "    \n",
        "    '''\n",
        "    \n",
        "    out_vocab_size=13 \n",
        "    embedding_dim=12 \n",
        "    input_length=11\n",
        "    dec_units=16 \n",
        "    att_units=16\n",
        "    batch_size=32\n",
        "    \n",
        "    target_sentences=tf.random.uniform(shape=(batch_size,input_length),maxval=10,minval=0,dtype=tf.int32)\n",
        "    encoder_output=tf.random.uniform(shape=[batch_size,input_length,dec_units])\n",
        "    state_h=tf.random.uniform(shape=[batch_size,dec_units])\n",
        "    state_c=tf.random.uniform(shape=[batch_size,dec_units])\n",
        "    \n",
        "    decoder=Decoder(out_vocab_size, embedding_dim, input_length, dec_units ,score_fun ,att_units)\n",
        "    output=decoder(target_sentences,encoder_output, state_h, state_c)\n",
        "    assert(output.shape==(batch_size,input_length,out_vocab_size))\n",
        "    return True\n",
        "print(grader_decoder('dot'))\n",
        "print(grader_decoder('general'))\n",
        "print(grader_decoder('concat'))"
      ],
      "execution_count": 36,
      "outputs": [
        {
          "output_type": "stream",
          "text": [
            "True\n",
            "True\n",
            "True\n"
          ],
          "name": "stdout"
        }
      ]
    },
    {
      "cell_type": "markdown",
      "metadata": {
        "id": "fC1T1EOoMTqC"
      },
      "source": [
        "<font color='blue'>**Encoder Decoder model**</font>"
      ]
    },
    {
      "cell_type": "code",
      "metadata": {
        "id": "FfqBIe20MT3D"
      },
      "source": [
        "class encoder_decoder(tf.keras.Model):\n",
        "    def __init__(self, encoder_inputs_length,decoder_inputs_length, output_vocab_size,score_fun,att_units):\n",
        "        super().__init__() # https://stackoverflow.com/a/27134600/4084039\n",
        "        self.encoder_inputs_length=encoder_inputs_length\n",
        "        self.decoder_inputs_length=decoder_inputs_length\n",
        "        self.output_vocab_size=output_vocab_size\n",
        "        self.score_fun=score_fun\n",
        "        self.att_units=att_units\n",
        "        \n",
        "        \n",
        "    def build(self,_):\n",
        "        self.encoder = Encoder(vocab_size=vocab_size_ita+1, embedding_dim=50, input_length=self.encoder_inputs_length, enc_units=256)\n",
        "        self.encoder.trainable=True\n",
        "        self.decoder = Decoder(out_vocab_size=vocab_size_eng+1, embedding_dim=100, input_length=self.decoder_inputs_length, dec_units=256 ,score_fun=self.score_fun ,att_units=self.att_units)\n",
        "        self.decoder.trainable=True\n",
        "        \n",
        "        \n",
        "        \n",
        "    def call(self, data):\n",
        "        input,output = data[0], data[1]\n",
        "        initial_state=self.encoder.initialize_states(batch_size)\n",
        "        encoder_output, encoder_h, encoder_c = self.encoder(input,initial_state)\n",
        "        output                       = self.decoder(output,encoder_output,encoder_h, encoder_c)\n",
        "\n",
        "        return output\n"
      ],
      "execution_count": 37,
      "outputs": []
    },
    {
      "cell_type": "markdown",
      "metadata": {
        "id": "WVRxB-FDMJWL"
      },
      "source": [
        "<font color='blue'>**Custom loss function**</font>"
      ]
    },
    {
      "cell_type": "code",
      "metadata": {
        "id": "QY_3izrXMs8y"
      },
      "source": [
        "def custom_lossfunction(targets,logits):\n",
        "  optimizer = tf.keras.optimizers.Adam()\n",
        "  loss_object = tf.keras.losses.SparseCategoricalCrossentropy(from_logits=True, reduction='none')\n",
        "  mask = tf.math.logical_not(tf.math.equal(targets, 0))\n",
        "  loss_ = loss_object(targets,logits)\n",
        "\n",
        "  mask = tf.cast(mask, dtype=loss_.dtype)\n",
        "  loss_ *= mask\n",
        "\n",
        "  return tf.reduce_mean(loss_)\n",
        "  # Custom loss function that will not consider the loss for padded zeros.\n",
        "  # Refer https://www.tensorflow.org/tutorials/text/nmt_with_attention#define_the_optimizer_and_the_loss_function\n"
      ],
      "execution_count": 38,
      "outputs": []
    },
    {
      "cell_type": "markdown",
      "metadata": {
        "id": "2QlbWAqNNlqe"
      },
      "source": [
        "<font color='blue'>**Training**</font>"
      ]
    },
    {
      "cell_type": "markdown",
      "metadata": {
        "id": "wqtZUQF2NuZE"
      },
      "source": [
        "Implement dot function here."
      ]
    },
    {
      "cell_type": "code",
      "metadata": {
        "id": "fgyWwZWeMxGQ",
        "colab": {
          "base_uri": "https://localhost:8080/"
        },
        "outputId": "383edce2-e30e-4afd-9c3e-2d8c2c5ae184"
      },
      "source": [
        "# Implement teacher forcing while training your model. You can do it two ways.\n",
        "# Prepare your data, encoder_input,decoder_input and decoder_output\n",
        "# if decoder input is \n",
        "# <start> Hi how are you\n",
        "# decoder output should be\n",
        "# Hi How are you <end>\n",
        "# i.e when you have send <start>-- decoder predicted Hi, 'Hi' decoder predicted 'How' .. e.t.c\n",
        "\n",
        "# or\n",
        " \n",
        "# model.fit([train_ita,train_eng],train_eng[:,1:]..)\n",
        "# Note: If you follow this approach some grader functions might return false and this is fine.\n",
        "model  = encoder_decoder(encoder_inputs_length=20,decoder_inputs_length=20,output_vocab_size=vocab_size_eng,score_fun='dot',att_units=16)\n",
        "optimizer = tf.keras.optimizers.Adam()\n",
        "model.compile(optimizer=optimizer,loss=custom_lossfunction)\n",
        "logdir = \"logs/fit/\" + datetime.now().strftime(\"%Y%m%d-%H%M%S\")\n",
        "tensorboard_callback = tf.keras.callbacks.TensorBoard(log_dir=logdir)\n",
        "batch_size=1024\n",
        "train_steps=train.shape[0]//1024\n",
        "valid_steps=validation.shape[0]//1024\n",
        "model.fit_generator(train_dataloader, steps_per_epoch=train_steps, epochs=30, validation_data= test_dataloader, validation_steps=valid_steps,callbacks=tensorboard_callback)\n",
        "model.summary()"
      ],
      "execution_count": 39,
      "outputs": [
        {
          "output_type": "stream",
          "text": [
            "/usr/local/lib/python3.6/dist-packages/tensorflow/python/keras/engine/training.py:1844: UserWarning: `Model.fit_generator` is deprecated and will be removed in a future version. Please use `Model.fit`, which supports generators.\n",
            "  warnings.warn('`Model.fit_generator` is deprecated and '\n",
            "/usr/local/lib/python3.6/dist-packages/tensorflow/python/data/ops/dataset_ops.py:3504: UserWarning: Even though the tf.config.experimental_run_functions_eagerly option is set, this option does not apply to tf.data functions. tf.data functions are still traced and executed as graphs.\n",
            "  \"Even though the tf.config.experimental_run_functions_eagerly \"\n"
          ],
          "name": "stderr"
        },
        {
          "output_type": "stream",
          "text": [
            "Epoch 1/30\n",
            "268/268 [==============================] - 211s 785ms/step - loss: 2.0669 - val_loss: 1.6611\n",
            "Epoch 2/30\n",
            "268/268 [==============================] - 210s 782ms/step - loss: 1.6279 - val_loss: 1.4910\n",
            "Epoch 3/30\n",
            "268/268 [==============================] - 209s 781ms/step - loss: 1.4356 - val_loss: 1.2678\n",
            "Epoch 4/30\n",
            "268/268 [==============================] - 210s 785ms/step - loss: 1.2196 - val_loss: 1.1095\n",
            "Epoch 5/30\n",
            "268/268 [==============================] - 211s 786ms/step - loss: 1.0641 - val_loss: 0.9819\n",
            "Epoch 6/30\n",
            "268/268 [==============================] - 212s 791ms/step - loss: 0.9364 - val_loss: 0.8744\n",
            "Epoch 7/30\n",
            "268/268 [==============================] - 211s 787ms/step - loss: 0.8231 - val_loss: 0.7792\n",
            "Epoch 8/30\n",
            "268/268 [==============================] - 211s 787ms/step - loss: 0.7251 - val_loss: 0.6929\n",
            "Epoch 9/30\n",
            "268/268 [==============================] - 210s 785ms/step - loss: 0.6329 - val_loss: 0.6157\n",
            "Epoch 10/30\n",
            "268/268 [==============================] - 212s 791ms/step - loss: 0.5500 - val_loss: 0.5464\n",
            "Epoch 11/30\n",
            "268/268 [==============================] - 210s 782ms/step - loss: 0.4767 - val_loss: 0.4920\n",
            "Epoch 12/30\n",
            "268/268 [==============================] - 208s 776ms/step - loss: 0.4141 - val_loss: 0.4424\n",
            "Epoch 13/30\n",
            "268/268 [==============================] - 210s 782ms/step - loss: 0.3612 - val_loss: 0.4045\n",
            "Epoch 14/30\n",
            "268/268 [==============================] - 207s 770ms/step - loss: 0.3190 - val_loss: 0.3729\n",
            "Epoch 15/30\n",
            "268/268 [==============================] - 207s 772ms/step - loss: 0.2821 - val_loss: 0.3480\n",
            "Epoch 16/30\n",
            "268/268 [==============================] - 207s 774ms/step - loss: 0.2517 - val_loss: 0.3268\n",
            "Epoch 17/30\n",
            "268/268 [==============================] - 207s 774ms/step - loss: 0.2271 - val_loss: 0.3082\n",
            "Epoch 18/30\n",
            "268/268 [==============================] - 207s 774ms/step - loss: 0.2039 - val_loss: 0.2946\n",
            "Epoch 19/30\n",
            "268/268 [==============================] - 209s 780ms/step - loss: 0.1851 - val_loss: 0.2808\n",
            "Epoch 20/30\n",
            "268/268 [==============================] - 207s 771ms/step - loss: 0.1698 - val_loss: 0.2699\n",
            "Epoch 21/30\n",
            "268/268 [==============================] - 208s 775ms/step - loss: 0.1548 - val_loss: 0.2604\n",
            "Epoch 22/30\n",
            "268/268 [==============================] - 209s 780ms/step - loss: 0.1426 - val_loss: 0.2549\n",
            "Epoch 23/30\n",
            "268/268 [==============================] - 209s 778ms/step - loss: 0.1319 - val_loss: 0.2478\n",
            "Epoch 24/30\n",
            "268/268 [==============================] - 208s 774ms/step - loss: 0.1226 - val_loss: 0.2427\n",
            "Epoch 25/30\n",
            "268/268 [==============================] - 208s 777ms/step - loss: 0.1142 - val_loss: 0.2372\n",
            "Epoch 26/30\n",
            "268/268 [==============================] - 209s 779ms/step - loss: 0.1055 - val_loss: 0.2330\n",
            "Epoch 27/30\n",
            "268/268 [==============================] - 209s 778ms/step - loss: 0.0986 - val_loss: 0.2296\n",
            "Epoch 28/30\n",
            "268/268 [==============================] - 207s 775ms/step - loss: 0.0914 - val_loss: 0.2272\n",
            "Epoch 29/30\n",
            "268/268 [==============================] - 208s 778ms/step - loss: 0.0858 - val_loss: 0.2250\n",
            "Epoch 30/30\n",
            "268/268 [==============================] - 209s 779ms/step - loss: 0.0805 - val_loss: 0.2231\n",
            "Model: \"encoder_decoder\"\n",
            "_________________________________________________________________\n",
            "Layer (type)                 Output Shape              Param #   \n",
            "=================================================================\n",
            "encoder_3 (Encoder)          multiple                  1624818   \n",
            "_________________________________________________________________\n",
            "decoder_5 (Decoder)          multiple                  5216947   \n",
            "=================================================================\n",
            "Total params: 6,841,765\n",
            "Trainable params: 6,841,765\n",
            "Non-trainable params: 0\n",
            "_________________________________________________________________\n"
          ],
          "name": "stdout"
        }
      ]
    },
    {
      "cell_type": "code",
      "metadata": {
        "id": "fzbuYBCDAL70"
      },
      "source": [
        "tensorboard --logdir=./"
      ],
      "execution_count": null,
      "outputs": []
    },
    {
      "cell_type": "markdown",
      "metadata": {
        "id": "6DpC9zlzMcXp"
      },
      "source": [
        "## <font color='blue'>**Inference**</font>"
      ]
    },
    {
      "cell_type": "markdown",
      "metadata": {
        "id": "Z5NhESYyMW_t"
      },
      "source": [
        "<font color='blue'>**Plot attention weights**</font>"
      ]
    },
    {
      "cell_type": "code",
      "metadata": {
        "id": "pkEY7SsBMtrC"
      },
      "source": [
        "import matplotlib.pyplot as plt\n",
        "\n",
        "def plot_attention(attention_weights,predicted,sentence):\n",
        "  #Refer: https://www.tensorflow.org/tutorials/text/nmt_with_attention#translate\n",
        "  fig = plt.figure(figsize=(len(sentence.split(' ')),len(predicted.split(' '))))\n",
        "  ax = fig.add_subplot(1, 1, 1)\n",
        "  ax.matshow(attention_weights, cmap='viridis')\n",
        "  fontdict = {'fontsize': 14}\n",
        "  ax.set_xticklabels([''] + sentence.split(' '), fontdict=fontdict, rotation=90)\n",
        "  ax.set_yticklabels([''] + predicted.split(' '), fontdict=fontdict)\n",
        "  ax.xaxis.set_major_locator(ticker.MultipleLocator(1))\n",
        "  ax.yaxis.set_major_locator(ticker.MultipleLocator(1))\n",
        "  plt.show()\n",
        "\n"
      ],
      "execution_count": 41,
      "outputs": []
    },
    {
      "cell_type": "markdown",
      "metadata": {
        "id": "e1IhdBrgQYJr"
      },
      "source": [
        "<font color='blue'>**Predict the sentence translation**</font>"
      ]
    },
    {
      "cell_type": "code",
      "metadata": {
        "id": "6ebE4UCTomPD",
        "colab": {
          "base_uri": "https://localhost:8080/"
        },
        "outputId": "2cb34c83-375b-460d-f620-087bb7292926"
      },
      "source": [
        "len(tknizer_eng.index_word)"
      ],
      "execution_count": 42,
      "outputs": [
        {
          "output_type": "execute_result",
          "data": {
            "text/plain": [
              "12854"
            ]
          },
          "metadata": {
            "tags": []
          },
          "execution_count": 42
        }
      ]
    },
    {
      "cell_type": "code",
      "metadata": {
        "id": "U_XWD86VhGVP"
      },
      "source": [
        "def predict(input_sentence):\r\n",
        "\r\n",
        "  '''\r\n",
        "  A. Given input sentence, convert the sentence into integers using tokenizer used earlier\r\n",
        "  B. Pass the input_sequence to encoder. we get encoder_outputs, last time step hidden and cell state\r\n",
        "  C. Initialize index of <start> as input to decoder. and encoder final states as input_states to onestepdecoder.\r\n",
        "  D. till we reach max_length of decoder or till the model predicted word <end>:\r\n",
        "         predictions, input_states, attention_weights = model.layers[1].onestepdecoder(input_to_decoder, encoder_output, input_states)\r\n",
        "         Save the attention weights\r\n",
        "         And get the word using the tokenizer(word index) and then store it in a string.\r\n",
        "  E. Call plot_attention(#params)\r\n",
        "  F. Return the predicted sentence\r\n",
        "  '''\r\n",
        "  encoded              = tknizer_ita.texts_to_sequences([input_sentence])\r\n",
        "  encoded              = tf.convert_to_tensor(tf.keras.preprocessing.sequence.pad_sequences(encoded, maxlen=20, dtype='int',padding='post'))\r\n",
        "  initial_state        = model.layers[0].initialize_states(batch_size=1)\r\n",
        "  encoder_outputs, h , c = model.layers[0](encoded,initial_state)\r\n",
        "  start                = tknizer_eng.word_index['<start>']\r\n",
        "  output_sentence=[]\r\n",
        "  attention_weights_list=[]\r\n",
        "  attention_plot=np.zeros((20,20))\r\n",
        "  for i in range(20):\r\n",
        "   decoder_output = model.layers[1](tf.expand_dims([start],axis=1),encoder_outputs,h,c)\r\n",
        "   output_dense,h,c,attention_weights,context_vector = model.layers[1].layers[0](tf.expand_dims([start],axis=1),encoder_outputs,h,c)\r\n",
        "   word_index=(tf.math.argmax(decoder_output[0][0]))\r\n",
        "   attention_weights = tf.reshape(attention_weights, (1,20))\r\n",
        "   attention_plot[i]=(attention_weights.numpy()[0])\r\n",
        "   english_word=tknizer_eng.index_word[word_index.numpy()]\r\n",
        "   start=word_index.numpy()\r\n",
        "   output_sentence.append(english_word)\r\n",
        "   if english_word=='<end>':\r\n",
        "     break\r\n",
        "  return \" \".join(output_sentence),attention_plot\r\n"
      ],
      "execution_count": 43,
      "outputs": []
    },
    {
      "cell_type": "markdown",
      "metadata": {
        "id": "jmxIVOOQPWMu"
      },
      "source": [
        "<font color='blue'>**Calculate BLEU score**</font>"
      ]
    },
    {
      "cell_type": "code",
      "metadata": {
        "id": "0iHiLdROM23l",
        "colab": {
          "base_uri": "https://localhost:8080/"
        },
        "outputId": "7662d4cb-f1c8-4cfa-9366-7621bdd69428"
      },
      "source": [
        "#Create an object of your custom model.\n",
        "#Compile and train your model on dot scoring function.\n",
        "# Visualize few sentences randomly in Test data\n",
        "# Predict on 1000 random sentences on test data and calculate the average BLEU score of these sentences.\n",
        "# https://www.nltk.org/_modules/nltk/translate/bleu_score.html\n",
        "\n",
        "#Sample example\n",
        "import nltk\n",
        "Bleu=[]\n",
        "for i in (np.random.choice(np.arange(len(validation['italian'])),size=1000,replace=False)):\n",
        "  ans,att=predict(validation['italian'].iloc[i])\n",
        "  Bleu.append(nltk.translate.bleu_score.sentence_bleu(validation['english_out'].iloc[i],ans))\n",
        "print(sum(Bleu)/1000)\n",
        "\n",
        "\n",
        "for i in np.random.choice(np.arange(len(validation['italian'])),size=10,replace=False):\n",
        "  ans,att=predict(validation['italian'].iloc[i])\n",
        "  print('Italian\\t',validation['italian'].iloc[i])\n",
        "  print('English_out\\t',validation['english_out'].iloc[i])\n",
        "  print('Predicted\\t',ans)\n",
        "  print('\\n')\n"
      ],
      "execution_count": 44,
      "outputs": [
        {
          "output_type": "stream",
          "text": [
            "/usr/local/lib/python3.6/dist-packages/nltk/translate/bleu_score.py:490: UserWarning: \n",
            "Corpus/Sentence contains 0 counts of 2-gram overlaps.\n",
            "BLEU scores might be undesirable; use SmoothingFunction().\n",
            "  warnings.warn(_msg)\n"
          ],
          "name": "stderr"
        },
        {
          "output_type": "stream",
          "text": [
            "0.8390026045640984\n",
            "Italian\t tom probabilmente non avrà ancora finito\n",
            "English_out\t tom will not likely be done yet <end>\n",
            "Predicted\t tom will probably not be finished yet <end>\n",
            "\n",
            "\n",
            "Italian\t a tom serve altro\n",
            "English_out\t does tom need anything else <end>\n",
            "Predicted\t tom needs other else <end>\n",
            "\n",
            "\n",
            "Italian\t non lavoreremo domani\n",
            "English_out\t we will not be working tomorrow <end>\n",
            "Predicted\t we will not be working tomorrow <end>\n",
            "\n",
            "\n",
            "Italian\t noi stiamo fuggendo\n",
            "English_out\t we are escaping <end>\n",
            "Predicted\t we are escaping <end>\n",
            "\n",
            "\n",
            "Italian\t sto pulendo la cucina\n",
            "English_out\t i am cleaning the kitchen <end>\n",
            "Predicted\t i am cleaning the kitchen <end>\n",
            "\n",
            "\n",
            "Italian\t firmi su questa linea\n",
            "English_out\t sign on this line <end>\n",
            "Predicted\t sign this line for the official <end>\n",
            "\n",
            "\n",
            "Italian\t mi sposerò\n",
            "English_out\t i am going to get married <end>\n",
            "Predicted\t i am going to marry me <end>\n",
            "\n",
            "\n",
            "Italian\t tom ha dato un bacio in bocca a mary\n",
            "English_out\t tom gave mary a kiss on the mouth <end>\n",
            "Predicted\t tom gave mary a kiss on the mouth <end>\n",
            "\n",
            "\n",
            "Italian\t tom ha scritto più di trenta libri\n",
            "English_out\t tom has written more than thirty books <end>\n",
            "Predicted\t tom has written more books from this month <end>\n",
            "\n",
            "\n",
            "Italian\t più del 40 degli studenti vanno alluniversità\n",
            "English_out\t more than 40 percent of the students go to university <end>\n",
            "Predicted\t more more than 40 percent of the year of france <end>\n",
            "\n",
            "\n"
          ],
          "name": "stdout"
        }
      ]
    },
    {
      "cell_type": "code",
      "metadata": {
        "id": "blo3OFaVp3f2"
      },
      "source": [
        "# !pip install tensorflow-gpu \r\n",
        "# !pip install keras-gpu"
      ],
      "execution_count": 45,
      "outputs": []
    },
    {
      "cell_type": "code",
      "metadata": {
        "id": "o31VCdTpYXhu"
      },
      "source": [
        "import matplotlib.ticker as ticker"
      ],
      "execution_count": 46,
      "outputs": []
    },
    {
      "cell_type": "code",
      "metadata": {
        "id": "8Tj-QxgWVLIE",
        "colab": {
          "base_uri": "https://localhost:8080/",
          "height": 536
        },
        "outputId": "aad24a9d-bb84-402a-cba5-6cc14f7f19a4"
      },
      "source": [
        "norm = np.linalg.norm(np.array(att))\r\n",
        "normal_array = np.array(att)/norm\r\n",
        "attention_plot= np.array(normal_array)\r\n",
        "print(len(validation['italian'].iloc[i].split()))\r\n",
        "plot_attention(attention_plot, ans, validation['italian'].iloc[i])\r\n"
      ],
      "execution_count": 47,
      "outputs": [
        {
          "output_type": "stream",
          "text": [
            "7\n"
          ],
          "name": "stdout"
        },
        {
          "output_type": "display_data",
          "data": {
            "image/png": "[encoded data removed]",
            "text/plain": [
              "<Figure size 504x792 with 1 Axes>"
            ]
          },
          "metadata": {
            "tags": [],
            "needs_background": "light"
          }
        }
      ]
    },
    {
      "cell_type": "markdown",
      "metadata": {
        "id": "SWg2ferDQvT3"
      },
      "source": [
        "<font color='blue'>**Repeat the same steps for General scoring function**</font>"
      ]
    },
    {
      "cell_type": "code",
      "metadata": {
        "id": "4Rh9_w79M5JO",
        "colab": {
          "base_uri": "https://localhost:8080/"
        },
        "outputId": "85e6d2d6-1189-44c6-c092-d12e9f57dd84"
      },
      "source": [
        "#Compile and train your model on general scoring function.\n",
        "# Visualize few sentences randomly in Test data\n",
        "# Predict on 1000 random sentences on test data and calculate the average BLEU score of these sentences.\n",
        "# https://www.nltk.org/_modules/nltk/translate/bleu_score.html\n",
        "model  = encoder_decoder(encoder_inputs_length=20,decoder_inputs_length=20,output_vocab_size=vocab_size_eng,score_fun='general',att_units=16)\n",
        "optimizer = tf.keras.optimizers.Adam()\n",
        "model.compile(optimizer=optimizer,loss=custom_lossfunction)\n",
        "logdir = \"logs/fit/\" + datetime.now().strftime(\"%Y%m%d-%H%M%S\")\n",
        "tensorboard_callback = tf.keras.callbacks.TensorBoard(log_dir=logdir)\n",
        "batch_size=1024\n",
        "train_steps=train.shape[0]//1024\n",
        "valid_steps=validation.shape[0]//1024\n",
        "model.fit_generator(train_dataloader, steps_per_epoch=train_steps, epochs=30, validation_data= test_dataloader, validation_steps=valid_steps,callbacks=tensorboard_callback)\n",
        "model.summary()\n",
        "\n",
        "def predict(input_sentence):\n",
        "\n",
        "  '''\n",
        "  A. Given input sentence, convert the sentence into integers using tokenizer used earlier\n",
        "  B. Pass the input_sequence to encoder. we get encoder_outputs, last time step hidden and cell state\n",
        "  C. Initialize index of <start> as input to decoder. and encoder final states as input_states to onestepdecoder.\n",
        "  D. till we reach max_length of decoder or till the model predicted word <end>:\n",
        "         predictions, input_states, attention_weights = model.layers[1].onestepdecoder(input_to_decoder, encoder_output, input_states)\n",
        "         Save the attention weights\n",
        "         And get the word using the tokenizer(word index) and then store it in a string.\n",
        "  E. Call plot_attention(#params)\n",
        "  F. Return the predicted sentence\n",
        "  '''\n",
        "  encoded              = tknizer_ita.texts_to_sequences([input_sentence])\n",
        "  encoded              = tf.convert_to_tensor(tf.keras.preprocessing.sequence.pad_sequences(encoded, maxlen=20, dtype='int',padding='post'))\n",
        "  initial_state        = model.layers[0].initialize_states(batch_size=1)\n",
        "  encoder_outputs, h , c = model.layers[0](encoded,initial_state)\n",
        "  start                = tknizer_eng.word_index['<start>']\n",
        "  output_sentence=[]\n",
        "  attention_weights_list=[]\n",
        "  attention_plot=np.zeros((20,20))\n",
        "  for i in range(20):\n",
        "   decoder_output = model.layers[1](tf.expand_dims([start],axis=1),encoder_outputs,h,c)\n",
        "   output_dense,h,c,attention_weights,context_vector = model.layers[1].layers[0](tf.expand_dims([start],axis=1),encoder_outputs,h,c)\n",
        "   word_index=(tf.math.argmax(decoder_output[0][0]))\n",
        "   attention_weights = tf.reshape(attention_weights, (1,20))\n",
        "   attention_plot[i]=(attention_weights.numpy()[0])\n",
        "   english_word=tknizer_eng.index_word[word_index.numpy()]\n",
        "   start=word_index.numpy()\n",
        "   output_sentence.append(english_word)\n",
        "   if english_word=='<end>':\n",
        "     break\n",
        "  return \" \".join(output_sentence),attention_plot\n",
        "\n",
        "Bleu=[]\n",
        "print(len(validation['italian']))\n",
        "for i in np.random.choice(np.arange(len(validation['italian'])),size=1000,replace=False):\n",
        "  ans,att=predict(validation['italian'].iloc[i])\n",
        "  Bleu.append(nltk.translate.bleu_score.sentence_bleu(validation['english_out'].iloc[i],ans))\n",
        "print(sum(Bleu)/1000)\n",
        "\n",
        "\n",
        "for i in np.random.choice(np.arange(len(validation['italian'])),size=10,replace=False):\n",
        "  ans,att=predict(validation['italian'].iloc[i])\n",
        "  print('Italian\\t',validation['italian'].iloc[i])\n",
        "  print('English_out\\t',validation['english_out'].iloc[i])\n",
        "  print('Predicted\\t',ans)\n",
        "  print('\\n')"
      ],
      "execution_count": 48,
      "outputs": [
        {
          "output_type": "stream",
          "text": [
            "/usr/local/lib/python3.6/dist-packages/tensorflow/python/keras/engine/training.py:1844: UserWarning: `Model.fit_generator` is deprecated and will be removed in a future version. Please use `Model.fit`, which supports generators.\n",
            "  warnings.warn('`Model.fit_generator` is deprecated and '\n",
            "/usr/local/lib/python3.6/dist-packages/tensorflow/python/data/ops/dataset_ops.py:3504: UserWarning: Even though the tf.config.experimental_run_functions_eagerly option is set, this option does not apply to tf.data functions. tf.data functions are still traced and executed as graphs.\n",
            "  \"Even though the tf.config.experimental_run_functions_eagerly \"\n"
          ],
          "name": "stderr"
        },
        {
          "output_type": "stream",
          "text": [
            "Epoch 1/30\n",
            "268/268 [==============================] - 209s 780ms/step - loss: 2.0704 - val_loss: 1.6700\n",
            "Epoch 2/30\n",
            "268/268 [==============================] - 209s 778ms/step - loss: 1.6584 - val_loss: 1.5848\n",
            "Epoch 3/30\n",
            "268/268 [==============================] - 208s 777ms/step - loss: 1.5486 - val_loss: 1.3853\n",
            "Epoch 4/30\n",
            "268/268 [==============================] - 209s 780ms/step - loss: 1.3240 - val_loss: 1.1586\n",
            "Epoch 5/30\n",
            "268/268 [==============================] - 210s 782ms/step - loss: 1.1054 - val_loss: 0.9922\n",
            "Epoch 6/30\n",
            "268/268 [==============================] - 210s 784ms/step - loss: 0.9454 - val_loss: 0.8699\n",
            "Epoch 7/30\n",
            "268/268 [==============================] - 209s 780ms/step - loss: 0.8204 - val_loss: 0.7618\n",
            "Epoch 8/30\n",
            "268/268 [==============================] - 210s 783ms/step - loss: 0.7034 - val_loss: 0.6622\n",
            "Epoch 9/30\n",
            "268/268 [==============================] - 210s 783ms/step - loss: 0.5993 - val_loss: 0.5785\n",
            "Epoch 10/30\n",
            "268/268 [==============================] - 207s 775ms/step - loss: 0.5131 - val_loss: 0.5122\n",
            "Epoch 11/30\n",
            "268/268 [==============================] - 208s 777ms/step - loss: 0.4380 - val_loss: 0.4568\n",
            "Epoch 12/30\n",
            "268/268 [==============================] - 209s 780ms/step - loss: 0.3781 - val_loss: 0.4123\n",
            "Epoch 13/30\n",
            "268/268 [==============================] - 211s 786ms/step - loss: 0.3279 - val_loss: 0.3767\n",
            "Epoch 14/30\n",
            "268/268 [==============================] - 211s 785ms/step - loss: 0.2880 - val_loss: 0.3492\n",
            "Epoch 15/30\n",
            "268/268 [==============================] - 211s 786ms/step - loss: 0.2543 - val_loss: 0.3245\n",
            "Epoch 16/30\n",
            "268/268 [==============================] - 212s 789ms/step - loss: 0.2262 - val_loss: 0.3054\n",
            "Epoch 17/30\n",
            "268/268 [==============================] - 212s 791ms/step - loss: 0.2030 - val_loss: 0.2898\n",
            "Epoch 18/30\n",
            "268/268 [==============================] - 210s 782ms/step - loss: 0.1842 - val_loss: 0.2758\n",
            "Epoch 19/30\n",
            "268/268 [==============================] - 213s 794ms/step - loss: 0.1668 - val_loss: 0.2656\n",
            "Epoch 20/30\n",
            "268/268 [==============================] - 212s 792ms/step - loss: 0.1519 - val_loss: 0.2563\n",
            "Epoch 21/30\n",
            "268/268 [==============================] - 210s 784ms/step - loss: 0.1390 - val_loss: 0.2483\n",
            "Epoch 22/30\n",
            "268/268 [==============================] - 213s 793ms/step - loss: 0.1277 - val_loss: 0.2423\n",
            "Epoch 23/30\n",
            "268/268 [==============================] - 212s 792ms/step - loss: 0.1179 - val_loss: 0.2364\n",
            "Epoch 24/30\n",
            "268/268 [==============================] - 215s 802ms/step - loss: 0.1078 - val_loss: 0.2327\n",
            "Epoch 25/30\n",
            "268/268 [==============================] - 213s 793ms/step - loss: 0.1007 - val_loss: 0.2292\n",
            "Epoch 26/30\n",
            "268/268 [==============================] - 214s 800ms/step - loss: 0.0938 - val_loss: 0.2248\n",
            "Epoch 27/30\n",
            "268/268 [==============================] - 214s 798ms/step - loss: 0.0877 - val_loss: 0.2236\n",
            "Epoch 28/30\n",
            "268/268 [==============================] - 213s 794ms/step - loss: 0.0816 - val_loss: 0.2216\n",
            "Epoch 29/30\n",
            "268/268 [==============================] - 214s 799ms/step - loss: 0.0766 - val_loss: 0.2191\n",
            "Epoch 30/30\n",
            "268/268 [==============================] - 213s 795ms/step - loss: 0.0722 - val_loss: 0.2171\n",
            "Model: \"encoder_decoder_1\"\n",
            "_________________________________________________________________\n",
            "Layer (type)                 Output Shape              Param #   \n",
            "=================================================================\n",
            "encoder_4 (Encoder)          multiple                  1624818   \n",
            "_________________________________________________________________\n",
            "decoder_6 (Decoder)          multiple                  5216947   \n",
            "=================================================================\n",
            "Total params: 6,841,765\n",
            "Trainable params: 6,841,765\n",
            "Non-trainable params: 0\n",
            "_________________________________________________________________\n",
            "68678\n"
          ],
          "name": "stdout"
        },
        {
          "output_type": "stream",
          "text": [
            "/usr/local/lib/python3.6/dist-packages/nltk/translate/bleu_score.py:490: UserWarning: \n",
            "Corpus/Sentence contains 0 counts of 2-gram overlaps.\n",
            "BLEU scores might be undesirable; use SmoothingFunction().\n",
            "  warnings.warn(_msg)\n"
          ],
          "name": "stderr"
        },
        {
          "output_type": "stream",
          "text": [
            "0.8371574954566796\n",
            "Italian\t devo andare a fare la spesa tornerò tra unora\n",
            "English_out\t i have to go shopping i will be back in an hour <end>\n",
            "Predicted\t i have to go shopping i am back to a couple <end>\n",
            "\n",
            "\n",
            "Italian\t hai dei fratelli\n",
            "English_out\t do you have any brothers <end>\n",
            "Predicted\t do you have any brothers <end>\n",
            "\n",
            "\n",
            "Italian\t hai corso alcuni rischi non necessari\n",
            "English_out\t you took some unnecessary risks <end>\n",
            "Predicted\t you took some unnecessary risks <end>\n",
            "\n",
            "\n",
            "Italian\t tom minacciò mary con la sua pistola\n",
            "English_out\t tom threatened mary with his gun <end>\n",
            "Predicted\t tom threatened mary with his hat <end>\n",
            "\n",
            "\n",
            "Italian\t io amo i panda\n",
            "English_out\t i love pandas <end>\n",
            "Predicted\t i love pandas <end>\n",
            "\n",
            "\n",
            "Italian\t tom divenne un tossicodipendente\n",
            "English_out\t tom became a drug addict <end>\n",
            "Predicted\t tom became a drug addict <end>\n",
            "\n",
            "\n",
            "Italian\t non darlo a tom\n",
            "English_out\t do not give it to tom <end>\n",
            "Predicted\t do not give tom that <end>\n",
            "\n",
            "\n",
            "Italian\t lei non piace a tom e mary\n",
            "English_out\t tom and mary do not like you <end>\n",
            "Predicted\t do not you and mary likes tom <end>\n",
            "\n",
            "\n",
            "Italian\t tom non sapeva neanche cosera quello\n",
            "English_out\t tom did not even know who that was <end>\n",
            "Predicted\t tom did not even know what this was <end>\n",
            "\n",
            "\n",
            "Italian\t tom pensava che avreste vinto\n",
            "English_out\t tom thought you would win <end>\n",
            "Predicted\t tom thought that you would win <end>\n",
            "\n",
            "\n"
          ],
          "name": "stdout"
        }
      ]
    },
    {
      "cell_type": "code",
      "metadata": {
        "id": "nWDeHAv4nDc9",
        "colab": {
          "base_uri": "https://localhost:8080/",
          "height": 397
        },
        "outputId": "9ad696eb-6b71-4097-f171-3a7ba0d39dd4"
      },
      "source": [
        "norm = np.linalg.norm(np.array(att))\r\n",
        "normal_array = np.array(att)/norm\r\n",
        "attention_plot= np.array(normal_array)\r\n",
        "print(len(validation['italian'].iloc[i].split()))\r\n",
        "plot_attention(attention_plot, ans, validation['italian'].iloc[i])\r\n"
      ],
      "execution_count": 49,
      "outputs": [
        {
          "output_type": "stream",
          "text": [
            "5\n"
          ],
          "name": "stdout"
        },
        {
          "output_type": "display_data",
          "data": {
            "image/png": "[encoded data removed]",
            "text/plain": [
              "<Figure size 360x504 with 1 Axes>"
            ]
          },
          "metadata": {
            "tags": [],
            "needs_background": "light"
          }
        }
      ]
    },
    {
      "cell_type": "markdown",
      "metadata": {
        "id": "VB1jRUqZQ9AM"
      },
      "source": [
        "<font color='blue'>**Repeat the same steps for Concat scoring function**</font>"
      ]
    },
    {
      "cell_type": "code",
      "metadata": {
        "id": "1kN9ZWViQNMB",
        "colab": {
          "base_uri": "https://localhost:8080/"
        },
        "outputId": "b5edbdf8-6b02-44f2-b863-2dbf178a2aee"
      },
      "source": [
        "#Compile and train your model on concat scoring function.\n",
        "# Visualize few sentences randomly in Test data\n",
        "# Predict on 1000 random sentences on test data and calculate the average BLEU score of these sentences.\n",
        "# https://www.nltk.org/_modules/nltk/translate/bleu_score.html\n",
        "model  = encoder_decoder(encoder_inputs_length=20,decoder_inputs_length=20,output_vocab_size=vocab_size_eng,score_fun='concat',att_units=16)\n",
        "optimizer = tf.keras.optimizers.Adam()\n",
        "model.compile(optimizer=optimizer,loss=custom_lossfunction)\n",
        "logdir = \"logs/fit/\" + datetime.now().strftime(\"%Y%m%d-%H%M%S\")\n",
        "tensorboard_callback = tf.keras.callbacks.TensorBoard(log_dir=logdir)\n",
        "batch_size=1024\n",
        "train_steps=train.shape[0]//1024\n",
        "valid_steps=validation.shape[0]//1024\n",
        "model.fit_generator(train_dataloader, steps_per_epoch=train_steps, epochs=30, validation_data= test_dataloader, validation_steps=valid_steps,callbacks=tensorboard_callback)\n",
        "model.summary()\n",
        "def predict(input_sentence):\n",
        "\n",
        "  '''\n",
        "  A. Given input sentence, convert the sentence into integers using tokenizer used earlier\n",
        "  B. Pass the input_sequence to encoder. we get encoder_outputs, last time step hidden and cell state\n",
        "  C. Initialize index of <start> as input to decoder. and encoder final states as input_states to onestepdecoder.\n",
        "  D. till we reach max_length of decoder or till the model predicted word <end>:\n",
        "         predictions, input_states, attention_weights = model.layers[1].onestepdecoder(input_to_decoder, encoder_output, input_states)\n",
        "         Save the attention weights\n",
        "         And get the word using the tokenizer(word index) and then store it in a string.\n",
        "  E. Call plot_attention(#params)\n",
        "  F. Return the predicted sentence\n",
        "  '''\n",
        "  encoded              = tknizer_ita.texts_to_sequences([input_sentence])\n",
        "  encoded              = tf.convert_to_tensor(tf.keras.preprocessing.sequence.pad_sequences(encoded, maxlen=20, dtype='int',padding='post'))\n",
        "  initial_state        = model.layers[0].initialize_states(batch_size=1)\n",
        "  encoder_outputs, h , c = model.layers[0](encoded,initial_state)\n",
        "  start                = tknizer_eng.word_index['<start>']\n",
        "  output_sentence=[]\n",
        "  attention_weights_list=[]\n",
        "  attention_plot=np.zeros((20,20))\n",
        "  for i in range(20):\n",
        "   decoder_output = model.layers[1](tf.expand_dims([start],axis=1),encoder_outputs,h,c)\n",
        "   output_dense,h,c,attention_weights,context_vector = model.layers[1].layers[0](tf.expand_dims([start],axis=1),encoder_outputs,h,c)\n",
        "   word_index=(tf.math.argmax(decoder_output[0][0]))\n",
        "   attention_weights = tf.reshape(attention_weights, (1,20))\n",
        "   attention_plot[i]=(attention_weights.numpy()[0])\n",
        "   english_word=tknizer_eng.index_word[word_index.numpy()]\n",
        "   start=word_index.numpy()\n",
        "   output_sentence.append(english_word)\n",
        "   if english_word=='<end>':\n",
        "     break\n",
        "  return \" \".join(output_sentence),attention_plot"
      ],
      "execution_count": 50,
      "outputs": [
        {
          "output_type": "stream",
          "text": [
            "/usr/local/lib/python3.6/dist-packages/tensorflow/python/keras/engine/training.py:1844: UserWarning: `Model.fit_generator` is deprecated and will be removed in a future version. Please use `Model.fit`, which supports generators.\n",
            "  warnings.warn('`Model.fit_generator` is deprecated and '\n",
            "/usr/local/lib/python3.6/dist-packages/tensorflow/python/data/ops/dataset_ops.py:3504: UserWarning: Even though the tf.config.experimental_run_functions_eagerly option is set, this option does not apply to tf.data functions. tf.data functions are still traced and executed as graphs.\n",
            "  \"Even though the tf.config.experimental_run_functions_eagerly \"\n"
          ],
          "name": "stderr"
        },
        {
          "output_type": "stream",
          "text": [
            "Epoch 1/30\n",
            "268/268 [==============================] - 212s 791ms/step - loss: 2.0702 - val_loss: 1.6613\n",
            "Epoch 2/30\n",
            "268/268 [==============================] - 212s 790ms/step - loss: 1.6319 - val_loss: 1.5096\n",
            "Epoch 3/30\n",
            "268/268 [==============================] - 211s 788ms/step - loss: 1.4614 - val_loss: 1.3047\n",
            "Epoch 4/30\n",
            "268/268 [==============================] - 210s 782ms/step - loss: 1.2641 - val_loss: 1.1514\n",
            "Epoch 5/30\n",
            "268/268 [==============================] - 212s 792ms/step - loss: 1.1102 - val_loss: 1.0231\n",
            "Epoch 6/30\n",
            "268/268 [==============================] - 211s 787ms/step - loss: 0.9781 - val_loss: 0.9016\n",
            "Epoch 7/30\n",
            "268/268 [==============================] - 211s 786ms/step - loss: 0.8528 - val_loss: 0.7974\n",
            "Epoch 8/30\n",
            "268/268 [==============================] - 212s 790ms/step - loss: 0.7440 - val_loss: 0.7054\n",
            "Epoch 9/30\n",
            "268/268 [==============================] - 212s 792ms/step - loss: 0.6489 - val_loss: 0.6286\n",
            "Epoch 10/30\n",
            "268/268 [==============================] - 211s 789ms/step - loss: 0.5663 - val_loss: 0.5593\n",
            "Epoch 11/30\n",
            "268/268 [==============================] - 211s 788ms/step - loss: 0.4912 - val_loss: 0.5023\n",
            "Epoch 12/30\n",
            "268/268 [==============================] - 214s 797ms/step - loss: 0.4270 - val_loss: 0.4523\n",
            "Epoch 13/30\n",
            "268/268 [==============================] - 211s 789ms/step - loss: 0.3726 - val_loss: 0.4100\n",
            "Epoch 14/30\n",
            "268/268 [==============================] - 212s 790ms/step - loss: 0.3280 - val_loss: 0.3802\n",
            "Epoch 15/30\n",
            "268/268 [==============================] - 210s 784ms/step - loss: 0.2912 - val_loss: 0.3524\n",
            "Epoch 16/30\n",
            "268/268 [==============================] - 212s 792ms/step - loss: 0.2596 - val_loss: 0.3298\n",
            "Epoch 17/30\n",
            "268/268 [==============================] - 211s 786ms/step - loss: 0.2324 - val_loss: 0.3111\n",
            "Epoch 18/30\n",
            "268/268 [==============================] - 211s 786ms/step - loss: 0.2097 - val_loss: 0.2963\n",
            "Epoch 19/30\n",
            "268/268 [==============================] - 212s 790ms/step - loss: 0.1907 - val_loss: 0.2843\n",
            "Epoch 20/30\n",
            "268/268 [==============================] - 210s 782ms/step - loss: 0.1735 - val_loss: 0.2734\n",
            "Epoch 21/30\n",
            "268/268 [==============================] - 210s 782ms/step - loss: 0.1592 - val_loss: 0.2643\n",
            "Epoch 22/30\n",
            "268/268 [==============================] - 211s 788ms/step - loss: 0.1461 - val_loss: 0.2558\n",
            "Epoch 23/30\n",
            "268/268 [==============================] - 210s 783ms/step - loss: 0.1357 - val_loss: 0.2508\n",
            "Epoch 24/30\n",
            "268/268 [==============================] - 209s 780ms/step - loss: 0.1257 - val_loss: 0.2436\n",
            "Epoch 25/30\n",
            "268/268 [==============================] - 210s 785ms/step - loss: 0.1173 - val_loss: 0.2389\n",
            "Epoch 26/30\n",
            "268/268 [==============================] - 210s 785ms/step - loss: 0.1089 - val_loss: 0.2345\n",
            "Epoch 27/30\n",
            "268/268 [==============================] - 210s 785ms/step - loss: 0.1016 - val_loss: 0.2309\n",
            "Epoch 28/30\n",
            "268/268 [==============================] - 211s 789ms/step - loss: 0.0954 - val_loss: 0.2302\n",
            "Epoch 29/30\n",
            "268/268 [==============================] - 211s 788ms/step - loss: 0.0889 - val_loss: 0.2272\n",
            "Epoch 30/30\n",
            "268/268 [==============================] - 210s 784ms/step - loss: 0.0835 - val_loss: 0.2239\n",
            "Model: \"encoder_decoder_2\"\n",
            "_________________________________________________________________\n",
            "Layer (type)                 Output Shape              Param #   \n",
            "=================================================================\n",
            "encoder_5 (Encoder)          multiple                  1624818   \n",
            "_________________________________________________________________\n",
            "decoder_7 (Decoder)          multiple                  5216947   \n",
            "=================================================================\n",
            "Total params: 6,841,765\n",
            "Trainable params: 6,841,765\n",
            "Non-trainable params: 0\n",
            "_________________________________________________________________\n"
          ],
          "name": "stdout"
        }
      ]
    },
    {
      "cell_type": "code",
      "metadata": {
        "id": "I5BIPM1I5zvP",
        "outputId": "3dc353b1-4e05-4319-deda-3e68578e1eda",
        "colab": {
          "base_uri": "https://localhost:8080/"
        }
      },
      "source": [
        "Bleu=[]\r\n",
        "print(len(validation['italian']))\r\n",
        "for i in np.random.choice(np.arange(len(validation['italian'])),size=1000,replace=False):\r\n",
        "  ans,att=predict(validation['italian'].iloc[i])\r\n",
        "  Bleu.append(nltk.translate.bleu_score.sentence_bleu(validation['english_out'].iloc[i],ans))\r\n",
        "print(sum(Bleu)/1000)\r\n",
        "\r\n",
        "for i in np.random.choice(np.arange(len(validation['italian'])),size=10,replace=False):\r\n",
        "  ans,att=predict(validation['italian'].iloc[i])\r\n",
        "  print('Italian\\t',validation['italian'].iloc[i])\r\n",
        "  print('English_out\\t',validation['english_out'].iloc[i])\r\n",
        "  print('Predicted\\t',ans)\r\n",
        "  print('\\n')"
      ],
      "execution_count": 51,
      "outputs": [
        {
          "output_type": "stream",
          "text": [
            "68678\n"
          ],
          "name": "stdout"
        },
        {
          "output_type": "stream",
          "text": [
            "/usr/local/lib/python3.6/dist-packages/nltk/translate/bleu_score.py:490: UserWarning: \n",
            "Corpus/Sentence contains 0 counts of 2-gram overlaps.\n",
            "BLEU scores might be undesirable; use SmoothingFunction().\n",
            "  warnings.warn(_msg)\n"
          ],
          "name": "stderr"
        },
        {
          "output_type": "stream",
          "text": [
            "0.835481795830919\n",
            "Italian\t ha perseguito la sua carriera a spese della sua famiglia\n",
            "English_out\t he pursued his career at the expense of his family <end>\n",
            "Predicted\t he pursued his career at the expense of his family <end>\n",
            "\n",
            "\n",
            "Italian\t pianse\n",
            "English_out\t she cried <end>\n",
            "Predicted\t he cried <end>\n",
            "\n",
            "\n",
            "Italian\t io non voglio più combattere\n",
            "English_out\t i do not want to fight anymore <end>\n",
            "Predicted\t i do not want to fight anymore <end>\n",
            "\n",
            "\n",
            "Italian\t devi rispondere alla lettera\n",
            "English_out\t you have to reply to the letter <end>\n",
            "Predicted\t you have to reply to the letter <end>\n",
            "\n",
            "\n",
            "Italian\t sembrava un dottore\n",
            "English_out\t did he look like a doctor <end>\n",
            "Predicted\t he looked like a doctor <end>\n",
            "\n",
            "\n",
            "Italian\t sarà ancora qui questo pomeriggio\n",
            "English_out\t will you still be here this afternoon <end>\n",
            "Predicted\t are you going to be here this afternoon <end>\n",
            "\n",
            "\n",
            "Italian\t non sapeva che mary era la cugina di tom\n",
            "English_out\t did not you know mary was tom is cousin <end>\n",
            "Predicted\t did not you know mary was your girlfriend <end>\n",
            "\n",
            "\n",
            "Italian\t lei ha mai cantato in francese\n",
            "English_out\t have you ever sung in french <end>\n",
            "Predicted\t did you ever speak french <end>\n",
            "\n",
            "\n",
            "Italian\t non la sto lasciando indietro\n",
            "English_out\t i am not leaving you behind <end>\n",
            "Predicted\t i am not leaving you behind <end>\n",
            "\n",
            "\n",
            "Italian\t ho firmato il contratto di locazione di oggi\n",
            "English_out\t i signed the lease today <end>\n",
            "Predicted\t i signed the lease today <end>\n",
            "\n",
            "\n"
          ],
          "name": "stdout"
        }
      ]
    },
    {
      "cell_type": "code",
      "metadata": {
        "id": "3FweDVX2MWdT",
        "colab": {
          "base_uri": "https://localhost:8080/",
          "height": 451
        },
        "outputId": "17b92a5d-0f46-48e8-bfe4-5dd211c19e83"
      },
      "source": [
        "norm = np.linalg.norm(np.array(att))\r\n",
        "normal_array = np.array(att)/norm\r\n",
        "attention_plot= np.array(normal_array)\r\n",
        "print(len(validation['italian'].iloc[i].split()))\r\n",
        "plot_attention(attention_plot, ans, validation['italian'].iloc[i])"
      ],
      "execution_count": 52,
      "outputs": [
        {
          "output_type": "stream",
          "text": [
            "8\n"
          ],
          "name": "stdout"
        },
        {
          "output_type": "display_data",
          "data": {
            "image/png": "[encoded data removed]",
            "text/plain": [
              "<Figure size 576x432 with 1 Axes>"
            ]
          },
          "metadata": {
            "tags": [],
            "needs_background": "light"
          }
        }
      ]
    },
    {
      "cell_type": "code",
      "metadata": {
        "id": "DU7k5jyNAeS6"
      },
      "source": [
        "tensorboard --logdir=./"
      ],
      "execution_count": null,
      "outputs": []
    },
    {
      "cell_type": "code",
      "metadata": {
        "id": "Ff1lV0ITM6_p"
      },
      "source": [
        "# Write your observations on each of the scoring function"
      ],
      "execution_count": 54,
      "outputs": []
    },
    {
      "cell_type": "code",
      "metadata": {
        "id": "lW0MS0__8a2w"
      },
      "source": [
        "from prettytable import PrettyTable"
      ],
      "execution_count": 55,
      "outputs": []
    },
    {
      "cell_type": "code",
      "metadata": {
        "id": "BMOsIiaP8a41",
        "outputId": "f38036d4-a362-484b-8f8f-f66d1fe522d9",
        "colab": {
          "base_uri": "https://localhost:8080/"
        }
      },
      "source": [
        "t = PrettyTable(['Function','Bleu score'])\r\n",
        "t.add_row(['Encoder_Decoder',0.834200935079292])\r\n",
        "t.add_row(['Attention_Dot', 0.8390026045640984])\r\n",
        "t.add_row(['Attention_General',0.8371574954566796])\r\n",
        "t.add_row(['Attention_Concat',0.835481795830919 ])\r\n",
        "print(t)"
      ],
      "execution_count": 57,
      "outputs": [
        {
          "output_type": "stream",
          "text": [
            "+-------------------+--------------------+\n",
            "|      Function     |     Bleu score     |\n",
            "+-------------------+--------------------+\n",
            "|  Encoder_Decoder  | 0.834200935079292  |\n",
            "|   Attention_Dot   | 0.8390026045640984 |\n",
            "| Attention_General | 0.8371574954566796 |\n",
            "|  Attention_Concat | 0.835481795830919  |\n",
            "+-------------------+--------------------+\n"
          ],
          "name": "stdout"
        }
      ]
    }
  ]
}