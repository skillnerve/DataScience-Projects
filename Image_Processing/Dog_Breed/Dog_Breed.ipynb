{
  "metadata": {
    "kernelspec": {
      "language": "python",
      "display_name": "Python 3",
      "name": "python3"
    },
    "language_info": {
      "name": "python",
      "version": "3.7.12",
      "mimetype": "text/x-python",
      "codemirror_mode": {
        "name": "ipython",
        "version": 3
      },
      "pygments_lexer": "ipython3",
      "nbconvert_exporter": "python",
      "file_extension": ".py"
    },
    "colab": {
      "name": "Dog_Breed.ipynb",
      "provenance": [],
      "include_colab_link": true
    }
  },
  "nbformat_minor": 0,
  "nbformat": 4,
  "cells": [
    {
      "cell_type": "markdown",
      "metadata": {
        "id": "view-in-github",
        "colab_type": "text"
      },
      "source": [
        "<a href=\"https://colab.research.google.com/github/skillnerve/DataScience-Projects/blob/main/Dog_Breed.ipynb\" target=\"_parent\"><img src=\"https://colab.research.google.com/assets/colab-badge.svg\" alt=\"Open In Colab\"/></a>"
      ]
    },
    {
      "cell_type": "markdown",
      "source": [
        "# Libraries"
      ],
      "metadata": {
        "editable": false,
        "id": "BBogdwM_Vx81"
      }
    },
    {
      "cell_type": "code",
      "source": [
        "import numpy as np\n",
        "import pandas as pd\n",
        "import matplotlib.pyplot as plt\n",
        "import seaborn as sns\n",
        "import cv2\n",
        "import tensorflow as tf\n",
        "import os\n",
        "from sklearn.model_selection import train_test_split\n",
        "import keras.backend as K\n",
        "from tensorflow.keras.applications import vgg16 \n",
        "from tensorflow.keras.applications import resnet50\n",
        "from tensorflow.keras.applications import xception\n",
        "from tensorflow.keras.applications import inception_v3\n",
        "from tensorflow.keras.applications import inception_resnet_v2\n",
        "from tqdm import tqdm"
      ],
      "metadata": {
        "editable": false,
        "id": "JiobMIlmVx85",
        "execution": {
          "iopub.status.busy": "2021-12-24T15:57:23.746330Z",
          "iopub.execute_input": "2021-12-24T15:57:23.747085Z",
          "iopub.status.idle": "2021-12-24T15:57:29.773150Z",
          "shell.execute_reply.started": "2021-12-24T15:57:23.746983Z",
          "shell.execute_reply": "2021-12-24T15:57:29.772410Z"
        },
        "trusted": true
      },
      "execution_count": null,
      "outputs": []
    },
    {
      "cell_type": "markdown",
      "source": [
        "# Data"
      ],
      "metadata": {
        "editable": false,
        "id": "0jXTFAJuVx87"
      }
    },
    {
      "cell_type": "code",
      "source": [
        "train_csv=pd.read_csv('../input/dog-breed-identification/labels.csv')"
      ],
      "metadata": {
        "editable": false,
        "id": "ynAH2037Vx87",
        "execution": {
          "iopub.status.busy": "2021-12-24T15:57:29.775526Z",
          "iopub.execute_input": "2021-12-24T15:57:29.776095Z",
          "iopub.status.idle": "2021-12-24T15:57:29.810221Z",
          "shell.execute_reply.started": "2021-12-24T15:57:29.776050Z",
          "shell.execute_reply": "2021-12-24T15:57:29.809544Z"
        },
        "trusted": true
      },
      "execution_count": null,
      "outputs": []
    },
    {
      "cell_type": "code",
      "source": [
        "train_csv.head()"
      ],
      "metadata": {
        "editable": false,
        "id": "8TUhFUbIVx88",
        "execution": {
          "iopub.status.busy": "2021-12-24T15:57:29.811522Z",
          "iopub.execute_input": "2021-12-24T15:57:29.811923Z",
          "iopub.status.idle": "2021-12-24T15:57:29.830437Z",
          "shell.execute_reply.started": "2021-12-24T15:57:29.811885Z",
          "shell.execute_reply": "2021-12-24T15:57:29.829643Z"
        },
        "trusted": true
      },
      "execution_count": null,
      "outputs": []
    },
    {
      "cell_type": "code",
      "source": [
        "breed=list(set(train_csv['breed']))\n",
        "q=0\n",
        "for i in breed:\n",
        "    train_csv['breed'][train_csv.breed==i]=q\n",
        "    q+=1"
      ],
      "metadata": {
        "editable": false,
        "id": "UbFIp7h_Vx88",
        "execution": {
          "iopub.status.busy": "2021-12-24T15:57:29.831710Z",
          "iopub.execute_input": "2021-12-24T15:57:29.831984Z",
          "iopub.status.idle": "2021-12-24T15:57:30.150557Z",
          "shell.execute_reply.started": "2021-12-24T15:57:29.831945Z",
          "shell.execute_reply": "2021-12-24T15:57:30.149865Z"
        },
        "trusted": true
      },
      "execution_count": null,
      "outputs": []
    },
    {
      "cell_type": "code",
      "source": [
        "print(breed)"
      ],
      "metadata": {
        "editable": false,
        "id": "K4D5MFLBVx89",
        "execution": {
          "iopub.status.busy": "2021-12-24T15:57:30.152772Z",
          "iopub.execute_input": "2021-12-24T15:57:30.153024Z",
          "iopub.status.idle": "2021-12-24T15:57:30.157418Z",
          "shell.execute_reply.started": "2021-12-24T15:57:30.152989Z",
          "shell.execute_reply": "2021-12-24T15:57:30.156492Z"
        },
        "trusted": true
      },
      "execution_count": null,
      "outputs": []
    },
    {
      "cell_type": "markdown",
      "source": [
        "# Data Split"
      ],
      "metadata": {
        "editable": false,
        "id": "aL_g0n6CVx89"
      }
    },
    {
      "cell_type": "code",
      "source": [
        "x_train,x_test=train_test_split(train_csv['id'],test_size=0.20)\n",
        "x_train,x_cv  =train_test_split(x_train,test_size=0.18)"
      ],
      "metadata": {
        "editable": false,
        "id": "eaQi5kTGVx8-",
        "execution": {
          "iopub.status.busy": "2021-12-24T15:57:30.158676Z",
          "iopub.execute_input": "2021-12-24T15:57:30.159148Z",
          "iopub.status.idle": "2021-12-24T15:57:30.170937Z",
          "shell.execute_reply.started": "2021-12-24T15:57:30.159110Z",
          "shell.execute_reply": "2021-12-24T15:57:30.170295Z"
        },
        "trusted": true
      },
      "execution_count": null,
      "outputs": []
    },
    {
      "cell_type": "markdown",
      "source": [
        "# Data Generator"
      ],
      "metadata": {
        "editable": false,
        "id": "Rgbr1r6yVx8_"
      }
    },
    {
      "cell_type": "code",
      "source": [
        "class DataGenerator(tf.keras.utils.Sequence):\n",
        "    def __init__(self,x_in,df=train_csv,batch_size=10,n_classes=120):\n",
        "        self.batch_size = batch_size\n",
        "        self.x_in = x_in\n",
        "        self.df   = df\n",
        "        self.n_classes = n_classes\n",
        "        self.on_epoch_end()\n",
        "\n",
        "    def __len__(self):\n",
        "        return int(np.floor(self.x_in.shape[0] / self.batch_size))\n",
        "\n",
        "    def __getitem__(self, index):\n",
        "        x_VGG,x_INRE,x_IN,x_XC, y = self.__data_generation(self.x_in[index*self.batch_size:(index+1)*self.batch_size])\n",
        "        return (x_VGG,x_INRE,x_IN,x_XC), y\n",
        "\n",
        "    def __data_generation(self, ini):\n",
        "        x_VGG  = np.empty((self.batch_size,224,224,3))\n",
        "        x_INRE = np.empty((self.batch_size,299,299,3))\n",
        "        x_IN   = np.empty((self.batch_size,299,299,3))\n",
        "        x_RE   = np.empty((self.batch_size,224,224,3))\n",
        "        x_XC   = np.empty((self.batch_size,299,299,3))\n",
        "        y = np.empty((self.batch_size))\n",
        "        \n",
        "        for i in range(ini.shape[0]):\n",
        "            t   = cv2.imread(\"../input/dog-breed-identification/train/\"+str(ini.values[i])+'.jpg')\n",
        "            x_VGG[i]  = vgg16.preprocess_input(cv2.resize(t,(224,224)))\n",
        "            x_INRE[i] = inception_resnet_v2.preprocess_input(cv2.resize(t,(299,299)))\n",
        "            x_IN[i]   = inception_v3.preprocess_input(cv2.resize(t,(299,299)))\n",
        "            x_XC[i]   = xception.preprocess_input(cv2.resize(t,(299,299)))\n",
        "            y[i]      = self.df[self.df.id==str(ini.values[i])]['breed'].values[0]\n",
        "        return x_VGG,x_INRE,x_IN,x_XC, tf.keras.utils.to_categorical(y, num_classes=self.n_classes)\n",
        "\n",
        "train_generator=DataGenerator(x_train)\n",
        "cv_generator   =DataGenerator(x_cv)"
      ],
      "metadata": {
        "editable": false,
        "id": "LEgJkBt_Vx9A",
        "execution": {
          "iopub.status.busy": "2021-12-24T15:57:30.172092Z",
          "iopub.execute_input": "2021-12-24T15:57:30.172468Z",
          "iopub.status.idle": "2021-12-24T15:57:30.187090Z",
          "shell.execute_reply.started": "2021-12-24T15:57:30.172427Z",
          "shell.execute_reply": "2021-12-24T15:57:30.186235Z"
        },
        "trusted": true
      },
      "execution_count": null,
      "outputs": []
    },
    {
      "cell_type": "code",
      "source": [
        "class Test_DataGenerator(tf.keras.utils.Sequence):\n",
        "    def __init__(self,x_in,batch_size=1,n_classes=120):\n",
        "        self.batch_size = batch_size\n",
        "        self.x_in = x_in\n",
        "        self.n_classes = n_classes\n",
        "        self.on_epoch_end()\n",
        "\n",
        "    def __len__(self):\n",
        "        return int(np.floor(self.x_in.shape[0] / self.batch_size))\n",
        "\n",
        "    def __getitem__(self, index):\n",
        "        x_VGG,x_INRE,x_IN,x_XC = self.__data_generation(self.x_in[index*self.batch_size:(index+1)*self.batch_size])\n",
        "        return x_VGG,x_INRE,x_IN,x_XC\n",
        "\n",
        "    def __data_generation(self, ini):\n",
        "        x_VGG  = np.empty((self.batch_size,224,224,3))\n",
        "        x_INRE = np.empty((self.batch_size,299,299,3))\n",
        "        x_IN   = np.empty((self.batch_size,299,299,3))\n",
        "        x_XC   = np.empty((self.batch_size,299,299,3))\n",
        "        for i in range(ini.shape[0]):\n",
        "            t   = cv2.imread(\"../input/dog-breed-identification/train/\"+str(ini.values[i])+'.jpg')\n",
        "            x_VGG[i]  = vgg16.preprocess_input(cv2.resize(t,(224,224)))\n",
        "            x_INRE[i] = inception_resnet_v2.preprocess_input(cv2.resize(t,(299,299)))\n",
        "            x_IN[i]   = inception_v3.preprocess_input(cv2.resize(t,(299,299)))\n",
        "            x_XC[i]   = xception.preprocess_input(cv2.resize(t,(299,299)))\n",
        "        return x_VGG,x_INRE,x_IN,x_XC\n",
        "\n",
        "test_generator=Test_DataGenerator(x_test)"
      ],
      "metadata": {
        "editable": false,
        "id": "kf8PMFnnVx9A",
        "execution": {
          "iopub.status.busy": "2021-12-24T15:57:30.188317Z",
          "iopub.execute_input": "2021-12-24T15:57:30.188736Z",
          "iopub.status.idle": "2021-12-24T15:57:30.201317Z",
          "shell.execute_reply.started": "2021-12-24T15:57:30.188704Z",
          "shell.execute_reply": "2021-12-24T15:57:30.200557Z"
        },
        "trusted": true
      },
      "execution_count": null,
      "outputs": []
    },
    {
      "cell_type": "markdown",
      "source": [
        "# Callbacks"
      ],
      "metadata": {
        "id": "XPruB_ZYu-J3"
      }
    },
    {
      "cell_type": "code",
      "source": [
        "class CustomCallBacks(tf.keras.callbacks.Callback):\n",
        "    \n",
        "    def on_train_begin(self, logs={}):\n",
        "        self.accuracy     ={'accuracy':[]}\n",
        "        self.val_accuracy ={'accuracy':[]}\n",
        "        self.epoch    =None\n",
        "        self.b        =0\n",
        "        self.c        =0\n",
        "        self.max_t    =None \n",
        "        \n",
        "    def on_epoch_begin(self, epoch, logs={}):\n",
        "        self.epoch=epoch\n",
        "        if self.epoch>=3 and self.epoch%3==0:\n",
        "            lr=tf.keras.backend.get_value(self.model.optimizer.lr)\n",
        "            tf.keras.backend.set_value(self.model.optimizer.lr,lr*0.5)\n",
        "\n",
        "    def on_epoch_end(self, epoch, logs={}):\n",
        "        print('{} ended'.format(epoch))\n",
        "        self.accuracy['accuracy'].append(logs.get('accuracy'))\n",
        "        self.val_accuracy['accuracy'].append(logs.get('val_accuracy'))\n",
        "        if self.epoch==0:\n",
        "            self.model.save_weights('dog_breed.h5')\n",
        "            self.max_t=self.val_accuracy['accuracy'][-1]\n",
        "        if self.epoch>=1:\n",
        "            if self.val_accuracy['accuracy'][-1]>=self.max_t and self.val_accuracy['accuracy'][-1]-self.accuracy['accuracy'][-1]>=-0.03:\n",
        "                self.max_t=self.val_accuracy['accuracy'][-1]\n",
        "                self.model.save_weights('dog_breed.h5')\n",
        "                print('*'*5)\n",
        "                print(\"weight updated\")\n",
        "                print('*'*5)\n",
        "            if self.val_accuracy['accuracy'][-1]<self.accuracy['accuracy'][-1]:\n",
        "                self.b+=1\n",
        "                if self.b==2:\n",
        "                    self.model.stop_training = True\n",
        "cb=CustomCallBacks()"
      ],
      "metadata": {
        "id": "GT1TGDYcvBiS",
        "execution": {
          "iopub.status.busy": "2021-12-24T15:57:30.202724Z",
          "iopub.execute_input": "2021-12-24T15:57:30.203038Z",
          "iopub.status.idle": "2021-12-24T15:57:30.216593Z",
          "shell.execute_reply.started": "2021-12-24T15:57:30.203002Z",
          "shell.execute_reply": "2021-12-24T15:57:30.215406Z"
        },
        "trusted": true
      },
      "execution_count": null,
      "outputs": []
    },
    {
      "cell_type": "markdown",
      "source": [
        "# Model"
      ],
      "metadata": {
        "editable": false,
        "id": "2dEtjlmPVx9B"
      }
    },
    {
      "cell_type": "code",
      "source": [
        "base_model_1 = vgg16.VGG16(weights='../input/keras-pretrained-models/vgg16_weights_tf_dim_ordering_tf_kernels_notop.h5', include_top=False, input_shape=(224,224,3))\n",
        "base_model_2 = inception_resnet_v2.InceptionResNetV2(weights='../input/keras-pretrained-models/inception_resnet_v2_weights_tf_dim_ordering_tf_kernels_notop.h5', include_top=False, input_shape=(299,299,3))\n",
        "base_model_3 = inception_v3.InceptionV3(weights='../input/keras-pretrained-models/inception_v3_weights_tf_dim_ordering_tf_kernels_notop.h5', include_top=False, input_shape=(299,299,3))\n",
        "base_model_4 = xception.Xception(weights='../input/keras-pretrained-models/xception_weights_tf_dim_ordering_tf_kernels_notop.h5', include_top=False, input_shape=(299,299,3))"
      ],
      "metadata": {
        "editable": false,
        "id": "WO5-8OuKVx9B",
        "execution": {
          "iopub.status.busy": "2021-12-24T15:57:30.217594Z",
          "iopub.execute_input": "2021-12-24T15:57:30.217789Z",
          "iopub.status.idle": "2021-12-24T15:57:47.537156Z",
          "shell.execute_reply.started": "2021-12-24T15:57:30.217747Z",
          "shell.execute_reply": "2021-12-24T15:57:47.536406Z"
        },
        "trusted": true
      },
      "execution_count": null,
      "outputs": []
    },
    {
      "cell_type": "code",
      "source": [
        "mod=[base_model_1,base_model_2,base_model_3,base_model_4]\n",
        "for i in tqdm(range(4)):\n",
        "    for layer in mod[i].layers:\n",
        "        layer._name+=str(i)"
      ],
      "metadata": {
        "editable": false,
        "id": "0jO3PTgmVx9C",
        "execution": {
          "iopub.status.busy": "2021-12-24T15:57:47.538550Z",
          "iopub.execute_input": "2021-12-24T15:57:47.538803Z",
          "iopub.status.idle": "2021-12-24T15:57:47.584534Z",
          "shell.execute_reply.started": "2021-12-24T15:57:47.538768Z",
          "shell.execute_reply": "2021-12-24T15:57:47.583854Z"
        },
        "trusted": true
      },
      "execution_count": null,
      "outputs": []
    },
    {
      "cell_type": "code",
      "source": [
        "base_model_1.trainable = False\n",
        "base_model_2.trainable = False\n",
        "base_model_3.trainable = False\n",
        "base_model_4.trainable = False"
      ],
      "metadata": {
        "editable": false,
        "id": "dKU6h_oPVx9C",
        "execution": {
          "iopub.status.busy": "2021-12-24T15:57:47.585762Z",
          "iopub.execute_input": "2021-12-24T15:57:47.586085Z",
          "iopub.status.idle": "2021-12-24T15:57:47.630315Z",
          "shell.execute_reply.started": "2021-12-24T15:57:47.586046Z",
          "shell.execute_reply": "2021-12-24T15:57:47.629671Z"
        },
        "trusted": true
      },
      "execution_count": null,
      "outputs": []
    },
    {
      "cell_type": "code",
      "source": [
        "x1=tf.keras.layers.GlobalAveragePooling2D()(base_model_1.output)\n",
        "x2=tf.keras.layers.GlobalAveragePooling2D()(base_model_2.output)\n",
        "x3=tf.keras.layers.GlobalAveragePooling2D()(base_model_3.output)\n",
        "x4=tf.keras.layers.GlobalAveragePooling2D()(base_model_4.output)\n",
        "\n",
        "x = tf.keras.layers.Concatenate(axis=-1)([x1, x2, x3, x4])\n",
        "x = tf.keras.layers.Dense(256,activation='linear')(x)\n",
        "x = tf.keras.layers.Dropout(.5)(x)\n",
        "outputs = tf.keras.layers.Dense(120, activation='softmax')(x)\n",
        "model = tf.keras.Model(inputs=[base_model_1.input,base_model_2.input,base_model_3.input,base_model_4.input], outputs=outputs)"
      ],
      "metadata": {
        "editable": false,
        "id": "Ckg1pHJPVx9D",
        "execution": {
          "iopub.status.busy": "2021-12-24T15:57:47.631359Z",
          "iopub.execute_input": "2021-12-24T15:57:47.631665Z",
          "iopub.status.idle": "2021-12-24T15:57:47.745372Z",
          "shell.execute_reply.started": "2021-12-24T15:57:47.631629Z",
          "shell.execute_reply": "2021-12-24T15:57:47.744680Z"
        },
        "trusted": true
      },
      "execution_count": null,
      "outputs": []
    },
    {
      "cell_type": "code",
      "source": [
        "tf.config.run_functions_eagerly(True)"
      ],
      "metadata": {
        "editable": false,
        "id": "Nl5SEyloVx9D",
        "execution": {
          "iopub.status.busy": "2021-12-24T15:57:47.748056Z",
          "iopub.execute_input": "2021-12-24T15:57:47.748330Z",
          "iopub.status.idle": "2021-12-24T15:57:47.753929Z",
          "shell.execute_reply.started": "2021-12-24T15:57:47.748295Z",
          "shell.execute_reply": "2021-12-24T15:57:47.753151Z"
        },
        "trusted": true
      },
      "execution_count": null,
      "outputs": []
    },
    {
      "cell_type": "code",
      "source": [
        "opt = tf.keras.optimizers.Adam(learning_rate=0.001)\n",
        "model.compile(optimizer=opt,loss='CategoricalCrossentropy',metrics=['accuracy'])"
      ],
      "metadata": {
        "editable": false,
        "id": "dr70LvjOVx9D",
        "execution": {
          "iopub.status.busy": "2021-12-24T15:57:47.754975Z",
          "iopub.execute_input": "2021-12-24T15:57:47.755281Z",
          "iopub.status.idle": "2021-12-24T15:57:47.787931Z",
          "shell.execute_reply.started": "2021-12-24T15:57:47.755246Z",
          "shell.execute_reply": "2021-12-24T15:57:47.787309Z"
        },
        "trusted": true
      },
      "execution_count": null,
      "outputs": []
    },
    {
      "cell_type": "code",
      "source": [
        "model.fit_generator(train_generator,validation_data=cv_generator,epochs=15,callbacks=[cb])"
      ],
      "metadata": {
        "editable": false,
        "id": "rzm5AaetVx9D",
        "execution": {
          "iopub.status.busy": "2021-12-24T15:57:47.789211Z",
          "iopub.execute_input": "2021-12-24T15:57:47.789457Z",
          "iopub.status.idle": "2021-12-24T16:56:31.290701Z",
          "shell.execute_reply.started": "2021-12-24T15:57:47.789425Z",
          "shell.execute_reply": "2021-12-24T16:56:31.290015Z"
        },
        "trusted": true
      },
      "execution_count": null,
      "outputs": []
    },
    {
      "cell_type": "code",
      "source": [
        ""
      ],
      "metadata": {
        "editable": false,
        "id": "o_Xye4sBVx9E"
      },
      "execution_count": null,
      "outputs": []
    },
    {
      "cell_type": "code",
      "source": [
        ""
      ],
      "metadata": {
        "editable": false,
        "id": "J5yHqW1uVx9E"
      },
      "execution_count": null,
      "outputs": []
    },
    {
      "cell_type": "code",
      "source": [
        ""
      ],
      "metadata": {
        "editable": false,
        "id": "a5Q2yC4cVx9E"
      },
      "execution_count": null,
      "outputs": []
    },
    {
      "cell_type": "code",
      "source": [
        ""
      ],
      "metadata": {
        "editable": false,
        "id": "ktzXGVAMVx9E"
      },
      "execution_count": null,
      "outputs": []
    },
    {
      "cell_type": "code",
      "source": [
        ""
      ],
      "metadata": {
        "editable": false,
        "id": "j5SdZk9JVx9E"
      },
      "execution_count": null,
      "outputs": []
    },
    {
      "cell_type": "code",
      "source": [
        ""
      ],
      "metadata": {
        "editable": false,
        "id": "ZQAXq7oxVx9F"
      },
      "execution_count": null,
      "outputs": []
    },
    {
      "cell_type": "code",
      "source": [
        ""
      ],
      "metadata": {
        "editable": false,
        "id": "Yn0BzEWSVx9F"
      },
      "execution_count": null,
      "outputs": []
    },
    {
      "cell_type": "code",
      "source": [
        ""
      ],
      "metadata": {
        "editable": false,
        "id": "NlXD5Bm8Vx9F"
      },
      "execution_count": null,
      "outputs": []
    },
    {
      "cell_type": "code",
      "source": [
        ""
      ],
      "metadata": {
        "editable": false,
        "id": "dCtIWsPHVx9F"
      },
      "execution_count": null,
      "outputs": []
    },
    {
      "cell_type": "code",
      "source": [
        ""
      ],
      "metadata": {
        "editable": false,
        "id": "ZMp3Hpn4Vx9F"
      },
      "execution_count": null,
      "outputs": []
    },
    {
      "cell_type": "code",
      "source": [
        ""
      ],
      "metadata": {
        "editable": false,
        "id": "ESkhlCQIVx9F"
      },
      "execution_count": null,
      "outputs": []
    },
    {
      "cell_type": "code",
      "source": [
        ""
      ],
      "metadata": {
        "editable": false,
        "id": "rdfCqVdZVx9F"
      },
      "execution_count": null,
      "outputs": []
    }
  ]
}
