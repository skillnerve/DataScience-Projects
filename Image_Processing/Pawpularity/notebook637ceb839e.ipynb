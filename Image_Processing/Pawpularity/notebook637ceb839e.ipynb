{
 "cells": [
  {
   "cell_type": "markdown",
   "id": "c9f68d66",
   "metadata": {
    "papermill": {
     "duration": 0.014954,
     "end_time": "2022-01-10T00:15:04.778494",
     "exception": false,
     "start_time": "2022-01-10T00:15:04.763540",
     "status": "completed"
    },
    "tags": []
   },
   "source": [
    "# Libraries"
   ]
  },
  {
   "cell_type": "code",
   "execution_count": 1,
   "id": "02d4d956",
   "metadata": {
    "execution": {
     "iopub.execute_input": "2022-01-10T00:15:04.824720Z",
     "iopub.status.busy": "2022-01-10T00:15:04.823622Z",
     "iopub.status.idle": "2022-01-10T00:15:11.051018Z",
     "shell.execute_reply": "2022-01-10T00:15:11.049898Z",
     "shell.execute_reply.started": "2022-01-10T00:08:00.526769Z"
    },
    "papermill": {
     "duration": 6.25762,
     "end_time": "2022-01-10T00:15:11.051214",
     "exception": false,
     "start_time": "2022-01-10T00:15:04.793594",
     "status": "completed"
    },
    "tags": []
   },
   "outputs": [],
   "source": [
    "import numpy as np\n",
    "import pandas as pd\n",
    "import seaborn as sns\n",
    "from PIL import Image\n",
    "import matplotlib.pyplot as plt\n",
    "import matplotlib.image  as img\n",
    "from sklearn.model_selection import train_test_split\n",
    "import tensorflow as tf\n",
    "from tensorflow.keras.models import Model\n",
    "import keras.backend as K\n",
    "from tqdm import tqdm\n",
    "import sys\n",
    "sys.path.append('../input/swintransformertf')\n",
    "from swintransformer import SwinTransformer\n",
    "from sklearn.model_selection import StratifiedKFold"
   ]
  },
  {
   "cell_type": "markdown",
   "id": "a880f275",
   "metadata": {
    "papermill": {
     "duration": 0.013972,
     "end_time": "2022-01-10T00:15:11.080363",
     "exception": false,
     "start_time": "2022-01-10T00:15:11.066391",
     "status": "completed"
    },
    "tags": []
   },
   "source": [
    "# Data"
   ]
  },
  {
   "cell_type": "code",
   "execution_count": 2,
   "id": "40c32f28",
   "metadata": {
    "execution": {
     "iopub.execute_input": "2022-01-10T00:15:11.113530Z",
     "iopub.status.busy": "2022-01-10T00:15:11.112601Z",
     "iopub.status.idle": "2022-01-10T00:15:11.153092Z",
     "shell.execute_reply": "2022-01-10T00:15:11.153586Z",
     "shell.execute_reply.started": "2022-01-10T00:08:06.169616Z"
    },
    "papermill": {
     "duration": 0.059364,
     "end_time": "2022-01-10T00:15:11.153722",
     "exception": false,
     "start_time": "2022-01-10T00:15:11.094358",
     "status": "completed"
    },
    "tags": []
   },
   "outputs": [],
   "source": [
    "train_csv=pd.read_csv('../input/petfinder-pawpularity-score/train.csv')\n",
    "test_csv=pd.read_csv('../input/petfinder-pawpularity-score/test.csv')"
   ]
  },
  {
   "cell_type": "code",
   "execution_count": 3,
   "id": "a6f33aaa",
   "metadata": {
    "execution": {
     "iopub.execute_input": "2022-01-10T00:15:11.189973Z",
     "iopub.status.busy": "2022-01-10T00:15:11.189037Z",
     "iopub.status.idle": "2022-01-10T00:15:11.205856Z",
     "shell.execute_reply": "2022-01-10T00:15:11.206325Z",
     "shell.execute_reply.started": "2022-01-10T00:08:06.218536Z"
    },
    "papermill": {
     "duration": 0.038607,
     "end_time": "2022-01-10T00:15:11.206470",
     "exception": false,
     "start_time": "2022-01-10T00:15:11.167863",
     "status": "completed"
    },
    "tags": []
   },
   "outputs": [
    {
     "data": {
      "text/html": [
       "<div>\n",
       "<style scoped>\n",
       "    .dataframe tbody tr th:only-of-type {\n",
       "        vertical-align: middle;\n",
       "    }\n",
       "\n",
       "    .dataframe tbody tr th {\n",
       "        vertical-align: top;\n",
       "    }\n",
       "\n",
       "    .dataframe thead th {\n",
       "        text-align: right;\n",
       "    }\n",
       "</style>\n",
       "<table border=\"1\" class=\"dataframe\">\n",
       "  <thead>\n",
       "    <tr style=\"text-align: right;\">\n",
       "      <th></th>\n",
       "      <th>Id</th>\n",
       "      <th>Subject Focus</th>\n",
       "      <th>Eyes</th>\n",
       "      <th>Face</th>\n",
       "      <th>Near</th>\n",
       "      <th>Action</th>\n",
       "      <th>Accessory</th>\n",
       "      <th>Group</th>\n",
       "      <th>Collage</th>\n",
       "      <th>Human</th>\n",
       "      <th>Occlusion</th>\n",
       "      <th>Info</th>\n",
       "      <th>Blur</th>\n",
       "      <th>Pawpularity</th>\n",
       "    </tr>\n",
       "  </thead>\n",
       "  <tbody>\n",
       "    <tr>\n",
       "      <th>0</th>\n",
       "      <td>0007de18844b0dbbb5e1f607da0606e0</td>\n",
       "      <td>0</td>\n",
       "      <td>1</td>\n",
       "      <td>1</td>\n",
       "      <td>1</td>\n",
       "      <td>0</td>\n",
       "      <td>0</td>\n",
       "      <td>1</td>\n",
       "      <td>0</td>\n",
       "      <td>0</td>\n",
       "      <td>0</td>\n",
       "      <td>0</td>\n",
       "      <td>0</td>\n",
       "      <td>63</td>\n",
       "    </tr>\n",
       "    <tr>\n",
       "      <th>1</th>\n",
       "      <td>0009c66b9439883ba2750fb825e1d7db</td>\n",
       "      <td>0</td>\n",
       "      <td>1</td>\n",
       "      <td>1</td>\n",
       "      <td>0</td>\n",
       "      <td>0</td>\n",
       "      <td>0</td>\n",
       "      <td>0</td>\n",
       "      <td>0</td>\n",
       "      <td>0</td>\n",
       "      <td>0</td>\n",
       "      <td>0</td>\n",
       "      <td>0</td>\n",
       "      <td>42</td>\n",
       "    </tr>\n",
       "  </tbody>\n",
       "</table>\n",
       "</div>"
      ],
      "text/plain": [
       "                                 Id  Subject Focus  Eyes  Face  Near  Action  \\\n",
       "0  0007de18844b0dbbb5e1f607da0606e0              0     1     1     1       0   \n",
       "1  0009c66b9439883ba2750fb825e1d7db              0     1     1     0       0   \n",
       "\n",
       "   Accessory  Group  Collage  Human  Occlusion  Info  Blur  Pawpularity  \n",
       "0          0      1        0      0          0     0     0           63  \n",
       "1          0      0        0      0          0     0     0           42  "
      ]
     },
     "execution_count": 3,
     "metadata": {},
     "output_type": "execute_result"
    }
   ],
   "source": [
    "train_csv.head(2)"
   ]
  },
  {
   "cell_type": "code",
   "execution_count": 4,
   "id": "095a8484",
   "metadata": {
    "execution": {
     "iopub.execute_input": "2022-01-10T00:15:11.248449Z",
     "iopub.status.busy": "2022-01-10T00:15:11.247254Z",
     "iopub.status.idle": "2022-01-10T00:15:11.252096Z",
     "shell.execute_reply": "2022-01-10T00:15:11.252771Z",
     "shell.execute_reply.started": "2022-01-10T00:08:06.240030Z"
    },
    "papermill": {
     "duration": 0.031684,
     "end_time": "2022-01-10T00:15:11.252953",
     "exception": false,
     "start_time": "2022-01-10T00:15:11.221269",
     "status": "completed"
    },
    "tags": []
   },
   "outputs": [
    {
     "data": {
      "text/html": [
       "<div>\n",
       "<style scoped>\n",
       "    .dataframe tbody tr th:only-of-type {\n",
       "        vertical-align: middle;\n",
       "    }\n",
       "\n",
       "    .dataframe tbody tr th {\n",
       "        vertical-align: top;\n",
       "    }\n",
       "\n",
       "    .dataframe thead th {\n",
       "        text-align: right;\n",
       "    }\n",
       "</style>\n",
       "<table border=\"1\" class=\"dataframe\">\n",
       "  <thead>\n",
       "    <tr style=\"text-align: right;\">\n",
       "      <th></th>\n",
       "      <th>Id</th>\n",
       "      <th>Subject Focus</th>\n",
       "      <th>Eyes</th>\n",
       "      <th>Face</th>\n",
       "      <th>Near</th>\n",
       "      <th>Action</th>\n",
       "      <th>Accessory</th>\n",
       "      <th>Group</th>\n",
       "      <th>Collage</th>\n",
       "      <th>Human</th>\n",
       "      <th>Occlusion</th>\n",
       "      <th>Info</th>\n",
       "      <th>Blur</th>\n",
       "    </tr>\n",
       "  </thead>\n",
       "  <tbody>\n",
       "    <tr>\n",
       "      <th>0</th>\n",
       "      <td>4128bae22183829d2b5fea10effdb0c3</td>\n",
       "      <td>1</td>\n",
       "      <td>0</td>\n",
       "      <td>1</td>\n",
       "      <td>0</td>\n",
       "      <td>0</td>\n",
       "      <td>1</td>\n",
       "      <td>1</td>\n",
       "      <td>0</td>\n",
       "      <td>0</td>\n",
       "      <td>1</td>\n",
       "      <td>0</td>\n",
       "      <td>1</td>\n",
       "    </tr>\n",
       "    <tr>\n",
       "      <th>1</th>\n",
       "      <td>43a2262d7738e3d420d453815151079e</td>\n",
       "      <td>0</td>\n",
       "      <td>1</td>\n",
       "      <td>0</td>\n",
       "      <td>0</td>\n",
       "      <td>0</td>\n",
       "      <td>0</td>\n",
       "      <td>1</td>\n",
       "      <td>1</td>\n",
       "      <td>0</td>\n",
       "      <td>0</td>\n",
       "      <td>0</td>\n",
       "      <td>0</td>\n",
       "    </tr>\n",
       "  </tbody>\n",
       "</table>\n",
       "</div>"
      ],
      "text/plain": [
       "                                 Id  Subject Focus  Eyes  Face  Near  Action  \\\n",
       "0  4128bae22183829d2b5fea10effdb0c3              1     0     1     0       0   \n",
       "1  43a2262d7738e3d420d453815151079e              0     1     0     0       0   \n",
       "\n",
       "   Accessory  Group  Collage  Human  Occlusion  Info  Blur  \n",
       "0          1      1        0      0          1     0     1  \n",
       "1          0      1        1      0          0     0     0  "
      ]
     },
     "execution_count": 4,
     "metadata": {},
     "output_type": "execute_result"
    }
   ],
   "source": [
    "test_csv.head(2)"
   ]
  },
  {
   "cell_type": "code",
   "execution_count": 5,
   "id": "4942f1b9",
   "metadata": {
    "execution": {
     "iopub.execute_input": "2022-01-10T00:15:11.294947Z",
     "iopub.status.busy": "2022-01-10T00:15:11.293955Z",
     "iopub.status.idle": "2022-01-10T00:15:11.313646Z",
     "shell.execute_reply": "2022-01-10T00:15:11.313074Z",
     "shell.execute_reply.started": "2022-01-10T00:08:06.253641Z"
    },
    "papermill": {
     "duration": 0.045434,
     "end_time": "2022-01-10T00:15:11.313767",
     "exception": false,
     "start_time": "2022-01-10T00:15:11.268333",
     "status": "completed"
    },
    "tags": []
   },
   "outputs": [],
   "source": [
    "labels=dict(train_csv[['Id','Pawpularity']].values)"
   ]
  },
  {
   "cell_type": "markdown",
   "id": "18ece971",
   "metadata": {
    "papermill": {
     "duration": 0.015266,
     "end_time": "2022-01-10T00:15:11.344158",
     "exception": false,
     "start_time": "2022-01-10T00:15:11.328892",
     "status": "completed"
    },
    "tags": []
   },
   "source": [
    "# Data Generators"
   ]
  },
  {
   "cell_type": "code",
   "execution_count": 6,
   "id": "e948b9bb",
   "metadata": {
    "execution": {
     "iopub.execute_input": "2022-01-10T00:15:11.389551Z",
     "iopub.status.busy": "2022-01-10T00:15:11.387391Z",
     "iopub.status.idle": "2022-01-10T00:15:11.390330Z",
     "shell.execute_reply": "2022-01-10T00:15:11.390837Z",
     "shell.execute_reply.started": "2022-01-10T00:08:06.278981Z"
    },
    "papermill": {
     "duration": 0.031029,
     "end_time": "2022-01-10T00:15:11.390975",
     "exception": false,
     "start_time": "2022-01-10T00:15:11.359946",
     "status": "completed"
    },
    "tags": []
   },
   "outputs": [],
   "source": [
    "class DataGenerator(tf.keras.utils.Sequence):\n",
    "\n",
    "    def __init__(self, list_IDs, labels, batch_size=18, n_channels=1,part='train', shuffle=False):\n",
    "        self.batch_size = batch_size\n",
    "        self.labels = labels\n",
    "        self.list_IDs = list_IDs\n",
    "        self.n_channels = n_channels\n",
    "        self.shuffle = shuffle\n",
    "        self.part=part\n",
    "        self.on_epoch_end()\n",
    "\n",
    "    def __len__(self):\n",
    "        return int(np.floor(len(self.list_IDs) / self.batch_size))\n",
    "\n",
    "    def __getitem__(self, index):\n",
    "        indexes = self.indexes[index*self.batch_size:(index+1)*self.batch_size]\n",
    "        \n",
    "        list_IDs_temp      = [self.list_IDs[k] for k in indexes]\n",
    "        \n",
    "        x, y = self.__data_generation(list_IDs_temp)\n",
    "        return x, y\n",
    "\n",
    "    def on_epoch_end(self):\n",
    "        self.indexes = np.arange(len(self.list_IDs))\n",
    "        if self.shuffle == True:\n",
    "            np.random.shuffle(self.indexes)\n",
    "\n",
    "    def __data_generation(self, list_IDs_temp):\n",
    "        x           = np.zeros((self.batch_size,384,384,3))\n",
    "        y           = np.zeros((self.batch_size,1))\n",
    "        for i, ID in enumerate(list_IDs_temp):\n",
    "            x[i]                =Image.open('../input/petfinder-pawpularity-score/'+str(self.part)+'/'+ str(ID)+'.jpg').resize((384,384))\n",
    "            y[i]                =self.labels[ID]\n",
    "\n",
    "        return x,y"
   ]
  },
  {
   "cell_type": "code",
   "execution_count": 7,
   "id": "85254f0e",
   "metadata": {
    "execution": {
     "iopub.execute_input": "2022-01-10T00:15:11.430884Z",
     "iopub.status.busy": "2022-01-10T00:15:11.429667Z",
     "iopub.status.idle": "2022-01-10T00:15:11.445446Z",
     "shell.execute_reply": "2022-01-10T00:15:11.444884Z",
     "shell.execute_reply.started": "2022-01-10T00:08:06.292733Z"
    },
    "papermill": {
     "duration": 0.039462,
     "end_time": "2022-01-10T00:15:11.445573",
     "exception": false,
     "start_time": "2022-01-10T00:15:11.406111",
     "status": "completed"
    },
    "tags": []
   },
   "outputs": [],
   "source": [
    "class TestDataGenerator1(tf.keras.utils.Sequence):\n",
    "\n",
    "    def __init__(self, list_IDs, batch_size=1, n_channels=1,part='test', shuffle=False):\n",
    "        self.batch_size = batch_size\n",
    "        self.list_IDs = list_IDs\n",
    "        self.n_channels = n_channels\n",
    "        self.shuffle = shuffle\n",
    "        self.part=part\n",
    "        self.on_epoch_end()\n",
    "\n",
    "    def __len__(self):\n",
    "        return int(np.floor(len(self.list_IDs) / self.batch_size))\n",
    "\n",
    "    def __getitem__(self, index):\n",
    "        indexes = self.indexes[index*self.batch_size:(index+1)*self.batch_size]\n",
    "        \n",
    "        list_IDs_temp      = [self.list_IDs[k] for k in indexes]\n",
    "        \n",
    "        x= self.__data_generation(list_IDs_temp)\n",
    "        return x\n",
    "\n",
    "    def on_epoch_end(self):\n",
    "        self.indexes = np.arange(len(self.list_IDs))\n",
    "        if self.shuffle == True:\n",
    "            np.random.shuffle(self.indexes)\n",
    "\n",
    "    def __data_generation(self, list_IDs_temp):\n",
    "        x           = np.zeros((self.batch_size,384,384,3))\n",
    "        for i, ID in enumerate(list_IDs_temp):\n",
    "            x[i]                =Image.open('../input/petfinder-pawpularity-score/'+str(self.part)+'/'+ str(ID)+'.jpg').resize((384,384))\n",
    "\n",
    "        return x\n",
    "\n",
    "test_generator1   = TestDataGenerator1(test_csv['Id'].values)\n",
    "test_generator11  = TestDataGenerator1(train_csv['Id'].values)\n",
    "\n",
    "\n",
    "class TestDataGenerator2(tf.keras.utils.Sequence):\n",
    "\n",
    "    def __init__(self, list_IDs, batch_size=1, n_channels=1,part='test', shuffle=False):\n",
    "        self.batch_size = batch_size\n",
    "        self.list_IDs = list_IDs\n",
    "        self.n_channels = n_channels\n",
    "        self.shuffle = shuffle\n",
    "        self.part=part\n",
    "        self.on_epoch_end()\n",
    "\n",
    "    def __len__(self):\n",
    "        return int(np.floor(len(self.list_IDs) / self.batch_size))\n",
    "\n",
    "    def __getitem__(self, index):\n",
    "        indexes = self.indexes[index*self.batch_size:(index+1)*self.batch_size]\n",
    "        \n",
    "        list_IDs_temp      = [self.list_IDs[k] for k in indexes]\n",
    "        \n",
    "        x= self.__data_generation(list_IDs_temp)\n",
    "        return x\n",
    "\n",
    "    def on_epoch_end(self):\n",
    "        self.indexes = np.arange(len(self.list_IDs))\n",
    "        if self.shuffle == True:\n",
    "            np.random.shuffle(self.indexes)\n",
    "\n",
    "    def __data_generation(self, list_IDs_temp):\n",
    "        x           = np.zeros((self.batch_size,224,224,3))\n",
    "        for i, ID in enumerate(list_IDs_temp):\n",
    "            x[i]                =Image.open('../input/petfinder-pawpularity-score/'+str(self.part)+'/'+ str(ID)+'.jpg').resize((224,224))\n",
    "\n",
    "        return x\n",
    "\n",
    "test_generator2   = TestDataGenerator2(test_csv['Id'].values)\n",
    "test_generator21  = TestDataGenerator2(train_csv['Id'].values)"
   ]
  },
  {
   "cell_type": "markdown",
   "id": "ce0846da",
   "metadata": {
    "papermill": {
     "duration": 0.014691,
     "end_time": "2022-01-10T00:15:11.474963",
     "exception": false,
     "start_time": "2022-01-10T00:15:11.460272",
     "status": "completed"
    },
    "tags": []
   },
   "source": [
    "# CallBack"
   ]
  },
  {
   "cell_type": "code",
   "execution_count": 8,
   "id": "9a1a9297",
   "metadata": {
    "execution": {
     "iopub.execute_input": "2022-01-10T00:15:11.517979Z",
     "iopub.status.busy": "2022-01-10T00:15:11.516894Z",
     "iopub.status.idle": "2022-01-10T00:15:11.519690Z",
     "shell.execute_reply": "2022-01-10T00:15:11.520205Z",
     "shell.execute_reply.started": "2022-01-10T00:08:06.313942Z"
    },
    "papermill": {
     "duration": 0.029383,
     "end_time": "2022-01-10T00:15:11.520397",
     "exception": false,
     "start_time": "2022-01-10T00:15:11.491014",
     "status": "completed"
    },
    "tags": []
   },
   "outputs": [],
   "source": [
    "class CustomCallBacks(tf.keras.callbacks.Callback):\n",
    "    \n",
    "    def __init__(self,n):\n",
    "        self.n=n\n",
    "    \n",
    "    def on_train_begin(self, logs={}):\n",
    "        self.loss     ={'loss':[]}\n",
    "        self.val_loss ={'loss':[]}\n",
    "        self.epoch    =None\n",
    "        self.b        =0\n",
    "        self.c        =0\n",
    "        self.min_t    =None \n",
    "        \n",
    "    def on_epoch_begin(self, epoch, logs={}):\n",
    "        self.epoch=epoch\n",
    "        if self.epoch>=1 and self.epoch%2==0 :\n",
    "            lr=tf.keras.backend.get_value(self.model.optimizer.lr)\n",
    "            tf.keras.backend.set_value(self.model.optimizer.lr,lr*0.50)\n",
    "\n",
    "    def on_epoch_end(self, epoch, logs={}):\n",
    "        print('{} ended'.format(epoch))\n",
    "        self.loss['loss'].append(logs.get('loss'))\n",
    "        self.val_loss['loss'].append(logs.get('val_loss'))\n",
    "        if self.epoch==0:\n",
    "            self.model.save_weights('model'+str(self.n)+'.h5')\n",
    "            self.min_t=self.val_loss['loss'][-1]\n",
    "        if self.epoch>=1:\n",
    "            if self.val_loss['loss'][-1]<=self.min_t:\n",
    "                self.min_t=self.val_loss['loss'][-1]\n",
    "                self.model.save_weights('model'+str(self.n)+'.h5')\n",
    "                print('*'*5)\n",
    "                print(\"weight updated\")\n",
    "                print('*'*5)"
   ]
  },
  {
   "cell_type": "markdown",
   "id": "1a7d7c78",
   "metadata": {
    "papermill": {
     "duration": 0.015527,
     "end_time": "2022-01-10T00:15:11.551300",
     "exception": false,
     "start_time": "2022-01-10T00:15:11.535773",
     "status": "completed"
    },
    "tags": []
   },
   "source": [
    "# Model"
   ]
  },
  {
   "cell_type": "code",
   "execution_count": 9,
   "id": "e73cd5bb",
   "metadata": {
    "execution": {
     "iopub.execute_input": "2022-01-10T00:15:11.592335Z",
     "iopub.status.busy": "2022-01-10T00:15:11.591263Z",
     "iopub.status.idle": "2022-01-10T00:19:09.213410Z",
     "shell.execute_reply": "2022-01-10T00:19:09.212755Z",
     "shell.execute_reply.started": "2022-01-10T00:08:06.327629Z"
    },
    "papermill": {
     "duration": 237.64627,
     "end_time": "2022-01-10T00:19:09.213570",
     "exception": false,
     "start_time": "2022-01-10T00:15:11.567300",
     "status": "completed"
    },
    "tags": []
   },
   "outputs": [
    {
     "name": "stderr",
     "output_type": "stream",
     "text": [
      "2022-01-10 00:15:11.686089: I tensorflow/stream_executor/cuda/cuda_gpu_executor.cc:937] successful NUMA node read from SysFS had negative value (-1), but there must be at least one NUMA node, so returning NUMA node zero\n",
      "2022-01-10 00:15:11.790021: I tensorflow/stream_executor/cuda/cuda_gpu_executor.cc:937] successful NUMA node read from SysFS had negative value (-1), but there must be at least one NUMA node, so returning NUMA node zero\n",
      "2022-01-10 00:15:11.791066: I tensorflow/stream_executor/cuda/cuda_gpu_executor.cc:937] successful NUMA node read from SysFS had negative value (-1), but there must be at least one NUMA node, so returning NUMA node zero\n",
      "2022-01-10 00:15:11.792612: I tensorflow/core/platform/cpu_feature_guard.cc:142] This TensorFlow binary is optimized with oneAPI Deep Neural Network Library (oneDNN) to use the following CPU instructions in performance-critical operations:  AVX2 FMA\n",
      "To enable them in other operations, rebuild TensorFlow with the appropriate compiler flags.\n",
      "2022-01-10 00:15:11.793506: I tensorflow/stream_executor/cuda/cuda_gpu_executor.cc:937] successful NUMA node read from SysFS had negative value (-1), but there must be at least one NUMA node, so returning NUMA node zero\n",
      "2022-01-10 00:15:11.794436: I tensorflow/stream_executor/cuda/cuda_gpu_executor.cc:937] successful NUMA node read from SysFS had negative value (-1), but there must be at least one NUMA node, so returning NUMA node zero\n",
      "2022-01-10 00:15:11.795464: I tensorflow/stream_executor/cuda/cuda_gpu_executor.cc:937] successful NUMA node read from SysFS had negative value (-1), but there must be at least one NUMA node, so returning NUMA node zero\n",
      "2022-01-10 00:15:13.872258: I tensorflow/stream_executor/cuda/cuda_gpu_executor.cc:937] successful NUMA node read from SysFS had negative value (-1), but there must be at least one NUMA node, so returning NUMA node zero\n",
      "2022-01-10 00:15:13.873328: I tensorflow/stream_executor/cuda/cuda_gpu_executor.cc:937] successful NUMA node read from SysFS had negative value (-1), but there must be at least one NUMA node, so returning NUMA node zero\n",
      "2022-01-10 00:15:13.874355: I tensorflow/stream_executor/cuda/cuda_gpu_executor.cc:937] successful NUMA node read from SysFS had negative value (-1), but there must be at least one NUMA node, so returning NUMA node zero\n",
      "2022-01-10 00:15:13.875330: I tensorflow/core/common_runtime/gpu/gpu_device.cc:1510] Created device /job:localhost/replica:0/task:0/device:GPU:0 with 15403 MB memory:  -> device: 0, name: Tesla P100-PCIE-16GB, pci bus id: 0000:00:04.0, compute capability: 6.0\n"
     ]
    }
   ],
   "source": [
    "model0 = tf.keras.Sequential([\n",
    "      tf.keras.layers.Lambda(lambda data: tf.keras.applications.imagenet_utils.preprocess_input(tf.cast(data, tf.float32), mode=\"torch\"), input_shape=(224,224,3)),\n",
    "      SwinTransformer('swin_large_224', include_top=False, pretrained=False),\n",
    "      tf.keras.layers.Dropout(0.01),\n",
    "      tf.keras.layers.Dense(1, activation='linear')\n",
    "    ])\n",
    "model0.layers[-3].trainable=False\n",
    "model0.load_weights('../input/p-pr-trail-swin-overfit-01/model0.h5')\n",
    "\n",
    "\n",
    "model1 = tf.keras.Sequential([\n",
    "      tf.keras.layers.Lambda(lambda data: tf.keras.applications.imagenet_utils.preprocess_input(tf.cast(data, tf.float32), mode=\"torch\"), input_shape=(224,224,3)),\n",
    "      SwinTransformer('swin_large_224', include_top=False, pretrained=False),\n",
    "      tf.keras.layers.Dropout(0.01),\n",
    "      tf.keras.layers.Dense(1, activation='linear')\n",
    "    ])\n",
    "model1.layers[-3].trainable=False\n",
    "model1.load_weights('../input/p-pr-trail-swin-overfit-01/model1.h5')\n",
    "\n",
    "model2 = tf.keras.Sequential([\n",
    "      tf.keras.layers.Lambda(lambda data: tf.keras.applications.imagenet_utils.preprocess_input(tf.cast(data, tf.float32), mode=\"torch\"), input_shape=(224,224,3)),\n",
    "      SwinTransformer('swin_large_224', include_top=False, pretrained=False),\n",
    "      tf.keras.layers.Dropout(0.01),  \n",
    "      tf.keras.layers.Dense(1, activation='linear')\n",
    "    ])\n",
    "model2.layers[-3].trainable=False\n",
    "model2.load_weights('../input/p-pr-trail-swin-overfit-01/model2.h5')\n",
    "\n",
    "model3 = tf.keras.Sequential([\n",
    "      tf.keras.layers.Lambda(lambda data: tf.keras.applications.imagenet_utils.preprocess_input(tf.cast(data, tf.float32), mode=\"torch\"), input_shape=(224,224,3)),\n",
    "      SwinTransformer('swin_large_224', include_top=False, pretrained=False),\n",
    "      tf.keras.layers.Dropout(0.01),  \n",
    "      tf.keras.layers.Dense(1, activation='linear')\n",
    "    ])\n",
    "model3.layers[-3].trainable=False\n",
    "model3.load_weights('../input/p-pr-trail-swin-overfit-01/model3.h5')\n",
    "\n",
    "model4 = tf.keras.Sequential([\n",
    "      tf.keras.layers.Lambda(lambda data: tf.keras.applications.imagenet_utils.preprocess_input(tf.cast(data, tf.float32), mode=\"torch\"), input_shape=(224,224,3)),\n",
    "      SwinTransformer('swin_large_224', include_top=False, pretrained=False),\n",
    "      tf.keras.layers.Dropout(0.01),\n",
    "      tf.keras.layers.Dense(1, activation='linear')\n",
    "    ])\n",
    "model4.layers[-3].trainable=False\n",
    "model4.load_weights('../input/p-pr-trail-swin-overfit-01/model4.h5')\n",
    "\n",
    "model5 = tf.keras.Sequential([\n",
    "      tf.keras.layers.Lambda(lambda data: tf.keras.applications.imagenet_utils.preprocess_input(tf.cast(data, tf.float32), mode=\"torch\"), input_shape=(224,224,3)),\n",
    "      SwinTransformer('swin_large_224', include_top=False, pretrained=False),\n",
    "      tf.keras.layers.Dropout(0.01),  \n",
    "      tf.keras.layers.Dense(1, activation='linear')\n",
    "    ])\n",
    "model5.layers[-3].trainable=False\n",
    "model5.load_weights('../input/p-pr-trail-swin-overfit-01/model5.h5')\n",
    "\n",
    "\n",
    "model6 = tf.keras.Sequential([\n",
    "      tf.keras.layers.Lambda(lambda data: tf.keras.applications.imagenet_utils.preprocess_input(tf.cast(data, tf.float32), mode=\"torch\"), input_shape=(224,224,3)),\n",
    "      SwinTransformer('swin_large_224', include_top=False, pretrained=False),\n",
    "      tf.keras.layers.Dropout(0.01),\n",
    "      tf.keras.layers.Dense(1, activation='linear')\n",
    "    ])\n",
    "model6.layers[-3].trainable=False\n",
    "model6.load_weights('../input/p-pr-trail-swin-overfit-01/model6.h5')\n",
    "\n",
    "model7 = tf.keras.Sequential([\n",
    "      tf.keras.layers.Lambda(lambda data: tf.keras.applications.imagenet_utils.preprocess_input(tf.cast(data, tf.float32), mode=\"torch\"), input_shape=(224,224,3)),\n",
    "      SwinTransformer('swin_large_224', include_top=False, pretrained=False),\n",
    "      tf.keras.layers.Dropout(0.01),\n",
    "      tf.keras.layers.Dense(1, activation='linear')\n",
    "    ])\n",
    "model7.layers[-3].trainable=False\n",
    "model7.load_weights('../input/p-pr-trail-swin-overfit-01/model7.h5')\n",
    "\n",
    "model8 = tf.keras.Sequential([\n",
    "      tf.keras.layers.Lambda(lambda data: tf.keras.applications.imagenet_utils.preprocess_input(tf.cast(data, tf.float32), mode=\"torch\"), input_shape=(224,224,3)),\n",
    "      SwinTransformer('swin_large_224', include_top=False, pretrained=False),\n",
    "      tf.keras.layers.Dropout(0.01),\n",
    "      tf.keras.layers.Dense(1, activation='linear')\n",
    "    ])\n",
    "model8.layers[-3].trainable=False\n",
    "model8.load_weights('../input/p-pr-trail-swin-overfit-01/model8.h5')\n",
    "\n",
    "model9 = tf.keras.Sequential([\n",
    "      tf.keras.layers.Lambda(lambda data: tf.keras.applications.imagenet_utils.preprocess_input(tf.cast(data, tf.float32), mode=\"torch\"), input_shape=(224,224,3)),\n",
    "      SwinTransformer('swin_large_224', include_top=False, pretrained=False),\n",
    "      tf.keras.layers.Dropout(0.01),\n",
    "      tf.keras.layers.Dense(1, activation='linear')\n",
    "    ])\n",
    "model9.layers[-3].trainable=False\n",
    "model9.load_weights('../input/p-pr-trail-swin-overfit-01/model9.h5')"
   ]
  },
  {
   "cell_type": "code",
   "execution_count": 10,
   "id": "f4922835",
   "metadata": {
    "execution": {
     "iopub.execute_input": "2022-01-10T00:19:09.253851Z",
     "iopub.status.busy": "2022-01-10T00:19:09.249302Z",
     "iopub.status.idle": "2022-01-10T00:20:21.817139Z",
     "shell.execute_reply": "2022-01-10T00:20:21.816525Z",
     "shell.execute_reply.started": "2022-01-10T00:11:28.152847Z"
    },
    "papermill": {
     "duration": 72.58683,
     "end_time": "2022-01-10T00:20:21.817358",
     "exception": false,
     "start_time": "2022-01-10T00:19:09.230528",
     "status": "completed"
    },
    "tags": []
   },
   "outputs": [
    {
     "name": "stderr",
     "output_type": "stream",
     "text": [
      "/opt/conda/lib/python3.7/site-packages/keras/engine/training.py:2035: UserWarning: `Model.predict_generator` is deprecated and will be removed in a future version. Please use `Model.predict`, which supports generators.\n",
      "  warnings.warn('`Model.predict_generator` is deprecated and '\n",
      "2022-01-10 00:19:09.350502: I tensorflow/compiler/mlir/mlir_graph_optimization_pass.cc:185] None of the MLIR Optimization Passes are enabled (registered 2)\n",
      "2022-01-10 00:19:16.025989: I tensorflow/stream_executor/cuda/cuda_dnn.cc:369] Loaded cuDNN version 8005\n"
     ]
    },
    {
     "name": "stdout",
     "output_type": "stream",
     "text": [
      "8/8 [==============================] - 13s 86ms/step\n",
      "8/8 [==============================] - 6s 92ms/step\n",
      "8/8 [==============================] - 7s 85ms/step\n",
      "8/8 [==============================] - 6s 87ms/step\n",
      "8/8 [==============================] - 6s 86ms/step\n",
      "8/8 [==============================] - 7s 87ms/step\n",
      "8/8 [==============================] - 7s 89ms/step\n",
      "8/8 [==============================] - 6s 85ms/step\n",
      "8/8 [==============================] - 7s 88ms/step\n",
      "8/8 [==============================] - 6s 85ms/step\n"
     ]
    }
   ],
   "source": [
    "y_test0=model0.predict_generator(test_generator2,verbose=1)\n",
    "y_test1=model1.predict_generator(test_generator2,verbose=1)\n",
    "y_test2=model2.predict_generator(test_generator2,verbose=1)\n",
    "y_test3=model3.predict_generator(test_generator2,verbose=1)\n",
    "y_test4=model4.predict_generator(test_generator2,verbose=1)\n",
    "y_test5=model5.predict_generator(test_generator2,verbose=1)\n",
    "y_test6=model6.predict_generator(test_generator2,verbose=1)\n",
    "y_test7=model7.predict_generator(test_generator2,verbose=1)\n",
    "y_test8=model8.predict_generator(test_generator2,verbose=1)\n",
    "y_test9=model9.predict_generator(test_generator2,verbose=1)"
   ]
  },
  {
   "cell_type": "code",
   "execution_count": 11,
   "id": "5daca185",
   "metadata": {
    "execution": {
     "iopub.execute_input": "2022-01-10T00:20:21.921811Z",
     "iopub.status.busy": "2022-01-10T00:20:21.920810Z",
     "iopub.status.idle": "2022-01-10T00:20:21.923825Z",
     "shell.execute_reply": "2022-01-10T00:20:21.924368Z",
     "shell.execute_reply.started": "2022-01-10T00:12:30.098962Z"
    },
    "papermill": {
     "duration": 0.058834,
     "end_time": "2022-01-10T00:20:21.924535",
     "exception": false,
     "start_time": "2022-01-10T00:20:21.865701",
     "status": "completed"
    },
    "tags": []
   },
   "outputs": [],
   "source": [
    "test_csv['Pawpularity']=(y_test1+y_test2+y_test3+y_test4+y_test0+y_test5+y_test6+y_test7+y_test8+y_test9)/10"
   ]
  },
  {
   "cell_type": "code",
   "execution_count": 12,
   "id": "c28cebb6",
   "metadata": {
    "execution": {
     "iopub.execute_input": "2022-01-10T00:20:22.025504Z",
     "iopub.status.busy": "2022-01-10T00:20:22.024536Z",
     "iopub.status.idle": "2022-01-10T00:20:22.032093Z",
     "shell.execute_reply": "2022-01-10T00:20:22.031521Z",
     "shell.execute_reply.started": "2022-01-10T00:12:30.106763Z"
    },
    "papermill": {
     "duration": 0.060942,
     "end_time": "2022-01-10T00:20:22.032236",
     "exception": false,
     "start_time": "2022-01-10T00:20:21.971294",
     "status": "completed"
    },
    "tags": []
   },
   "outputs": [],
   "source": [
    "test_csv[['Id','Pawpularity']].to_csv('submission.csv',index=False)"
   ]
  },
  {
   "cell_type": "code",
   "execution_count": null,
   "id": "efc7cfd2",
   "metadata": {
    "papermill": {
     "duration": 0.068195,
     "end_time": "2022-01-10T00:20:22.150087",
     "exception": false,
     "start_time": "2022-01-10T00:20:22.081892",
     "status": "completed"
    },
    "tags": []
   },
   "outputs": [],
   "source": []
  }
 ],
 "metadata": {
  "kernelspec": {
   "display_name": "Python 3",
   "language": "python",
   "name": "python3"
  },
  "language_info": {
   "codemirror_mode": {
    "name": "ipython",
    "version": 3
   },
   "file_extension": ".py",
   "mimetype": "text/x-python",
   "name": "python",
   "nbconvert_exporter": "python",
   "pygments_lexer": "ipython3",
   "version": "3.7.12"
  },
  "papermill": {
   "default_parameters": {},
   "duration": 330.966752,
   "end_time": "2022-01-10T00:20:25.306161",
   "environment_variables": {},
   "exception": null,
   "input_path": "__notebook__.ipynb",
   "output_path": "__notebook__.ipynb",
   "parameters": {},
   "start_time": "2022-01-10T00:14:54.339409",
   "version": "2.3.3"
  }
 },
 "nbformat": 4,
 "nbformat_minor": 5
}
