{
  "nbformat": 4,
  "nbformat_minor": 0,
  "metadata": {
    "colab": {
      "name": "Kaggle.ipynb",
      "provenance": [],
      "collapsed_sections": [],
      "authorship_tag": "ABX9TyNtwXfZA0KtrElR9seN/fPS",
      "include_colab_link": true
    },
    "kernelspec": {
      "display_name": "Python 3",
      "name": "python3"
    },
    "language_info": {
      "name": "python"
    }
  },
  "cells": [
    {
      "cell_type": "markdown",
      "metadata": {
        "id": "view-in-github",
        "colab_type": "text"
      },
      "source": [
        "<a href=\"https://colab.research.google.com/github/skillnerve/DataScience-Projects/blob/main/Kaggle.ipynb\" target=\"_parent\"><img src=\"https://colab.research.google.com/assets/colab-badge.svg\" alt=\"Open In Colab\"/></a>"
      ]
    },
    {
      "cell_type": "markdown",
      "metadata": {
        "id": "YMLt-8a-D7mj"
      },
      "source": [
        "**Libraries**"
      ]
    },
    {
      "cell_type": "code",
      "metadata": {
        "id": "6hp5uY79D-nr"
      },
      "source": [
        "import numpy as np\n",
        "import pandas as pd\n",
        "import matplotlib.pyplot as plt\n",
        "import seaborn as sns\n",
        "from sklearn.feature_selection import RFE\n",
        "from sklearn.svm import SVR\n",
        "from sklearn.ensemble import RandomForestRegressor\n",
        "from sklearn.preprocessing import MinMaxScaler\n",
        "from sklearn.feature_selection import SelectKBest\n",
        "from sklearn.feature_selection import f_regression\n",
        "from sklearn.feature_selection import SelectPercentile\n",
        "from sklearn.preprocessing import StandardScaler\n",
        "from sklearn.model_selection import train_test_split\n",
        "from sklearn.metrics import mean_squared_error\n",
        "from sklearn.pipeline import make_pipeline\n",
        "from sklearn.preprocessing import RobustScaler\n",
        "from sklearn.model_selection import TimeSeriesSplit\n",
        "from sklearn.feature_selection import VarianceThreshold\n",
        "from xgboost import XGBRegressor\n",
        "from sklearn.manifold import TSNE\n",
        "from sklearn.decomposition import PCA\n",
        "from datetime import datetime\n",
        "from dateutil.relativedelta import relativedelta\n",
        "import re\n",
        "import tensorflow as tf\n",
        "from tensorflow.keras.layers import Dense,Input,Activation,Conv1D,Concatenate,MaxPooling1D,Dropout,Flatten,Embedding,LSTM,BatchNormalization\n",
        "from tensorflow.keras.models import Model\n",
        "import tensorflow.keras as keras\n",
        "from tqdm import tqdm\n",
        "from prettytable import PrettyTable\n",
        "from sklearn.metrics import mean_absolute_error\n",
        "from sklearn.feature_extraction.text import TfidfVectorizer\n",
        "from tensorflow.keras.preprocessing.text import Tokenizer\n",
        "from keras.preprocessing.sequence import pad_sequences\n",
        "import unidecode\n",
        "from sklearn.preprocessing import OneHotEncoder"
      ],
      "execution_count": 3,
      "outputs": []
    },
    {
      "cell_type": "markdown",
      "metadata": {
        "id": "MlpMRDVfEDHF"
      },
      "source": [
        "**Mounting**"
      ]
    },
    {
      "cell_type": "code",
      "metadata": {
        "colab": {
          "base_uri": "https://localhost:8080/"
        },
        "id": "prBzen4qgZS-",
        "outputId": "a4007c51-433e-4e3e-f5f3-1c449fcb4335"
      },
      "source": [
        "from google.colab import drive\n",
        "drive.mount('/content/drive')"
      ],
      "execution_count": 4,
      "outputs": [
        {
          "output_type": "stream",
          "text": [
            "Mounted at /content/drive\n"
          ],
          "name": "stdout"
        }
      ]
    },
    {
      "cell_type": "markdown",
      "metadata": {
        "id": "x8MipQKoEI3m"
      },
      "source": [
        "**Data**"
      ]
    },
    {
      "cell_type": "code",
      "metadata": {
        "id": "kQMpaJ4_gkXI"
      },
      "source": [
        "train_data=pd.read_csv('/content/drive/MyDrive/commonlitreadabilityprize (1)/train.csv')"
      ],
      "execution_count": 5,
      "outputs": []
    },
    {
      "cell_type": "code",
      "metadata": {
        "id": "4peDV6rxgv8o"
      },
      "source": [
        "test_data=pd.read_csv('/content/drive/MyDrive/commonlitreadabilityprize (1)/test.csv')"
      ],
      "execution_count": 6,
      "outputs": []
    },
    {
      "cell_type": "code",
      "metadata": {
        "colab": {
          "base_uri": "https://localhost:8080/",
          "height": 196
        },
        "id": "NE6ZzT4tg1JJ",
        "outputId": "8541a474-245a-4695-add6-caef06a59dc5"
      },
      "source": [
        "train_data.head()"
      ],
      "execution_count": 7,
      "outputs": [
        {
          "output_type": "execute_result",
          "data": {
            "text/html": [
              "<div>\n",
              "<style scoped>\n",
              "    .dataframe tbody tr th:only-of-type {\n",
              "        vertical-align: middle;\n",
              "    }\n",
              "\n",
              "    .dataframe tbody tr th {\n",
              "        vertical-align: top;\n",
              "    }\n",
              "\n",
              "    .dataframe thead th {\n",
              "        text-align: right;\n",
              "    }\n",
              "</style>\n",
              "<table border=\"1\" class=\"dataframe\">\n",
              "  <thead>\n",
              "    <tr style=\"text-align: right;\">\n",
              "      <th></th>\n",
              "      <th>id</th>\n",
              "      <th>url_legal</th>\n",
              "      <th>license</th>\n",
              "      <th>excerpt</th>\n",
              "      <th>target</th>\n",
              "      <th>standard_error</th>\n",
              "    </tr>\n",
              "  </thead>\n",
              "  <tbody>\n",
              "    <tr>\n",
              "      <th>0</th>\n",
              "      <td>c12129c31</td>\n",
              "      <td>NaN</td>\n",
              "      <td>NaN</td>\n",
              "      <td>When the young people returned to the ballroom...</td>\n",
              "      <td>-0.340259</td>\n",
              "      <td>0.464009</td>\n",
              "    </tr>\n",
              "    <tr>\n",
              "      <th>1</th>\n",
              "      <td>85aa80a4c</td>\n",
              "      <td>NaN</td>\n",
              "      <td>NaN</td>\n",
              "      <td>All through dinner time, Mrs. Fayre was somewh...</td>\n",
              "      <td>-0.315372</td>\n",
              "      <td>0.480805</td>\n",
              "    </tr>\n",
              "    <tr>\n",
              "      <th>2</th>\n",
              "      <td>b69ac6792</td>\n",
              "      <td>NaN</td>\n",
              "      <td>NaN</td>\n",
              "      <td>As Roger had predicted, the snow departed as q...</td>\n",
              "      <td>-0.580118</td>\n",
              "      <td>0.476676</td>\n",
              "    </tr>\n",
              "    <tr>\n",
              "      <th>3</th>\n",
              "      <td>dd1000b26</td>\n",
              "      <td>NaN</td>\n",
              "      <td>NaN</td>\n",
              "      <td>And outside before the palace a great garden w...</td>\n",
              "      <td>-1.054013</td>\n",
              "      <td>0.450007</td>\n",
              "    </tr>\n",
              "    <tr>\n",
              "      <th>4</th>\n",
              "      <td>37c1b32fb</td>\n",
              "      <td>NaN</td>\n",
              "      <td>NaN</td>\n",
              "      <td>Once upon a time there were Three Bears who li...</td>\n",
              "      <td>0.247197</td>\n",
              "      <td>0.510845</td>\n",
              "    </tr>\n",
              "  </tbody>\n",
              "</table>\n",
              "</div>"
            ],
            "text/plain": [
              "          id url_legal  ...    target standard_error\n",
              "0  c12129c31       NaN  ... -0.340259       0.464009\n",
              "1  85aa80a4c       NaN  ... -0.315372       0.480805\n",
              "2  b69ac6792       NaN  ... -0.580118       0.476676\n",
              "3  dd1000b26       NaN  ... -1.054013       0.450007\n",
              "4  37c1b32fb       NaN  ...  0.247197       0.510845\n",
              "\n",
              "[5 rows x 6 columns]"
            ]
          },
          "metadata": {
            "tags": []
          },
          "execution_count": 7
        }
      ]
    },
    {
      "cell_type": "markdown",
      "metadata": {
        "id": "IjxqqULpWUdp"
      },
      "source": [
        "**PreProcessing**"
      ]
    },
    {
      "cell_type": "markdown",
      "metadata": {
        "id": "j-VYrPOdMTv9"
      },
      "source": [
        "As standard_error is absent in test data ...."
      ]
    },
    {
      "cell_type": "code",
      "metadata": {
        "id": "juixUbwBMcEV"
      },
      "source": [
        "train_data=train_data.drop('standard_error',axis=1)"
      ],
      "execution_count": 8,
      "outputs": []
    },
    {
      "cell_type": "code",
      "metadata": {
        "colab": {
          "base_uri": "https://localhost:8080/"
        },
        "id": "nyEdIqinhiDb",
        "outputId": "73b69ef2-86fc-4409-bd0a-33dc99c84aa0"
      },
      "source": [
        "print(set(train_data['url_legal']))"
      ],
      "execution_count": 9,
      "outputs": [
        {
          "output_type": "stream",
          "text": [
            "{nan, 'https://kids.frontiersin.org/article/10.3389/frym.2020.00038', 'https://simple.wikipedia.org/wiki/Irrigation', 'https://simple.wikipedia.org/wiki/Physics', 'https://en.wikipedia.org/wiki/Mineral', 'https://kids.frontiersin.org/article/10.3389/frym.2020.00015', 'https://en.wikipedia.org/wiki/Electric_charge', 'https://simple.wikipedia.org/wiki/Computer_program', 'https://simple.wikipedia.org/wiki/Cuneiform', 'https://kids.frontiersin.org/article/10.3389/frym.2018.00047', 'https://kids.frontiersin.org/article/10.3389/frym.2020.00058', 'https://freekidsbooks.org/wp-content/uploads/2020/06/have-you-ever-heard-a-whale-sing-Pratham-FKB.pdf', 'https://simple.wikipedia.org/wiki/Protein', 'https://kids.frontiersin.org/article/10.3389/frym.2019.00122', 'https://simple.wikipedia.org/wiki/Vaccine', 'https://simple.wikipedia.org/wiki/Electromagnet', 'https://www.digitallibrary.io/en/books/details/1378', 'https://en.wikipedia.org/wiki/Treaty_of_Ghent', 'https://kids.frontiersin.org/article/10.3389/frym.2017.00019', 'https://www.digitallibrary.io/en/books/details/3704', 'https://simple.wikipedia.org/wiki/Battle_of_Britain', 'https://emedia.uen.org/courses/utah-oer-textbooks-3rd-grade-seed/view', 'https://kids.frontiersin.org/article/10.3389/frym.2018.00033', 'https://kids.frontiersin.org/article/10.3389/frym.2016.00021', 'https://kids.frontiersin.org/article/10.3389/frym.2018.00077', 'https://en.wikipedia.org/wiki/Motion_(physics)', 'https://simple.wikipedia.org/wiki/Absolute_zero', 'https://simple.wikipedia.org/wiki/Global_warming', 'https://kids.frontiersin.org/article/10.3389/frym.2020.00004', 'https://kids.frontiersin.org/article/10.3389/frym.2020.00048', 'https://www.commonlit.org/texts/pet-rocks', 'https://simple.wikipedia.org/wiki/Hundred_Years%27_War', 'https://www.commonlit.org/texts/to-the-front-lines-america-in-world-war-i', 'https://simple.wikipedia.org/wiki/Personal_computer', 'https://kids.frontiersin.org/article/10.3389/frym.2017.00022', 'https://simple.wikipedia.org/wiki/DNA_construct', 'https://simple.wikipedia.org/wiki/Chinese_Civil_War', 'https://simple.wikipedia.org/wiki/Erosion', 'https://simple.wikipedia.org/wiki/Pyramid', 'https://simple.wikipedia.org/wiki/Covalent_bond', 'https://kids.frontiersin.org/article/10.3389/frym.2020.00017', 'https://simple.wikipedia.org/wiki/European_Union', 'https://en.wikipedia.org/wiki/Internet_Protocol', 'https://kids.frontiersin.org/article/10.3389/frym.2020.00028', 'https://www.commonlit.org/texts/everyday-life-as-a-learning-experience', 'https://kids.frontiersin.org/article/10.3389/frym.2014.00003', 'https://simple.wikipedia.org/wiki/Nation', 'https://en.wikipedia.org/wiki/Broadcasting', 'https://kids.frontiersin.org/article/10.3389/frym.2018.00064', 'https://simple.wikipedia.org/wiki/Hydrogen', 'https://simple.wikipedia.org/wiki/Digital_Visual_Interface', 'https://en.wikipedia.org/wiki/Biodiesel', 'https://simple.wikipedia.org/wiki/Capacitor', 'https://freekidsbooks.org/wp-content/uploads/2019/12/FKB-Stories-zanele-situ-my-story_pdf-ebook.pdf', 'https://simple.wikipedia.org/wiki/3D', 'https://simple.wikipedia.org/wiki/Nerve', 'https://simple.wikipedia.org/wiki/Ancient_Egypt', 'https://en.wikipedia.org/wiki/Biotechnology', 'https://kids.frontiersin.org/article/10.3389/frym.2016.00025', 'https://kids.frontiersin.org/article/10.3389/frym.2015.00006', 'https://en.wikipedia.org/wiki/Glacier', 'https://simple.wikipedia.org/wiki/Supernova', 'https://en.wikipedia.org/wiki/Asteroid', 'https://en.wikipedia.org/wiki/Speech_recognition', 'https://freekidsbooks.org/wp-content/uploads/2020/05/CKHG_G6_U5_Industrial_Revolution_SR.pdf', 'https://kids.frontiersin.org/article/10.3389/frym.2018.00001', 'https://kids.frontiersin.org/article/10.3389/frym.2020.00014', 'https://simple.wikipedia.org/wiki/History', 'https://simple.wikipedia.org/wiki/Containerization', 'https://simple.wikipedia.org/wiki/Independence', 'https://en.wikipedia.org/wiki/Ultrasound', 'https://simple.wikipedia.org/wiki/Voice_over_Internet_Protocol', 'https://simple.wikipedia.org/wiki/Intel_Core', 'https://www.commonlit.org/texts/the-founding-of-american-democracy', 'https://simple.wikipedia.org/wiki/Middle_Ages', 'https://en.wikipedia.org/wiki/Assyria', 'https://www.digitallibrary.io/en/books/details/3764', 'https://simple.wikipedia.org/wiki/Environment', 'https://simple.wikipedia.org/wiki/Andromeda_galaxy', 'https://simple.wikipedia.org/wiki/Stone_Age', 'https://simple.wikipedia.org/wiki/Colosseum', 'https://simple.wikipedia.org/wiki/Synthesizer', 'https://www.digitallibrary.io/en/books/details/1180', 'https://www.commonlit.org/texts/capitalism-will-eat-democracy-unless-we-speak-up', 'https://simple.wikipedia.org/wiki/Blood', 'https://simple.wikipedia.org/wiki/Hieroglyph', 'https://kids.frontiersin.org/article/10.3389/frym.2018.00062', 'https://kids.frontiersin.org/article/10.3389/frym.2019.00099', 'https://kids.frontiersin.org/article/10.3389/frym.2020.00018', 'https://simple.wikipedia.org/wiki/Eclipse', 'https://en.wikipedia.org/wiki/Plague_of_Athens', 'https://en.wikipedia.org/wiki/Diplomacy', 'https://en.wikipedia.org/wiki/Geomorphology', 'http://ukuqonda.co.za/digicom/Grade-10-Technical-Science/TechSci_Gr10_LB_Eng_lowres.pdf', 'https://kids.frontiersin.org/article/10.3389/frym.2017.00024', 'https://kids.frontiersin.org/article/10.3389/frym.2017.00021', 'https://kids.frontiersin.org/article/10.3389/frym.2018.00016', 'https://en.wikipedia.org/wiki/Feudalism', 'https://kids.frontiersin.org/article/10.3389/frym.2018.00037', 'https://drive.google.com/file/d/0B6pcGxi_-Y9PRzdONUY2a1Y5aTg/view', 'https://simple.wikipedia.org/wiki/Supersonic', 'https://kids.frontiersin.org/article/10.3389/frym.2018.00059', 'https://simple.wikipedia.org/wiki/Electromagnetic_radiation', 'https://en.wikipedia.org/wiki/Kingdom_of_Prussia', 'https://www.commonlit.org/texts/frank-abagnale', 'https://simple.wikipedia.org/wiki/Amplifier', 'https://simple.wikipedia.org/wiki/Programming_language', 'https://kids.frontiersin.org/article/10.3389/frym.2019.00052', 'https://en.wikipedia.org/wiki/Molecular_nanotechnology', 'https://simple.wikipedia.org/wiki/Cathode_ray_tube', 'https://simple.wikipedia.org/wiki/Geostationary_orbit', 'https://kids.frontiersin.org/article/10.3389/frym.2019.00058', 'https://www.commonlit.org/texts/the-center-of-our-solar-system', 'https://simple.wikipedia.org/wiki/Operating_system', 'https://kids.frontiersin.org/article/10.3389/frym.2019.00004', 'https://en.wikipedia.org/wiki/Crystal', 'https://en.wikibooks.org/wiki/Wikijunior:The_Elements/Liquids', 'https://kids.frontiersin.org/article/10.3389/frym.2019.00082', 'https://www.digitallibrary.io/en/books/details/96', 'https://simple.wikipedia.org/wiki/Dark_matter', 'https://simple.wikipedia.org/wiki/Dormancy', 'https://en.wikipedia.org/wiki/Mitosis', 'https://kids.frontiersin.org/article/10.3389/frym.2017.00011', 'https://www.commonlit.org/texts/the-price-of-greed-hannibal-s-betrayal-by-carthage', 'https://kids.frontiersin.org/article/10.3389/frym.2020.00068', 'https://freekidsbooks.org/wp-content/uploads/2019/12/CALI_Coloring_Book-Images-of-the-law-FKB.pdf', 'https://en.wikipedia.org/wiki/Abyssal_plain', 'https://simple.wikipedia.org/wiki/Photon', 'https://kids.frontiersin.org/article/10.3389/frym.2020.00090', 'https://www.commonlit.org/texts/a-sense-of-wonder-an-introduction-to-science-fiction', 'https://kids.frontiersin.org/article/10.3389/frym.2020.00041', 'https://www.commonlit.org/texts/tornadoes-watch-out', 'https://www.commonlit.org/texts/united-and-divided-how-religion-drove-politics-in-pre-modern-europe', 'https://kids.frontiersin.org/article/10.3389/frym.2019.00055', 'https://en.wikipedia.org/wiki/Solar_sail', 'https://kids.frontiersin.org/article/10.3389/frym.2019.00101', 'https://kids.frontiersin.org/article/10.3389/frym.2019.00051', 'https://kids.frontiersin.org/article/10.3389/frym.2020.00086', 'https://simple.wikipedia.org/wiki/Viscosity', 'https://kids.frontiersin.org/article/10.3389/frym.2018.00050', 'https://en.wikipedia.org/wiki/Nomad', 'https://kids.frontiersin.org/article/10.3389/frym.2016.00010', 'https://en.wikipedia.org/wiki/Astronomical_object', 'https://simple.wikipedia.org/wiki/Bluetooth', 'https://simple.wikipedia.org/wiki/Information', 'https://simple.wikipedia.org/wiki/Special_effect', 'https://kids.frontiersin.org/article/10.3389/frym.2013.00002', 'https://kids.frontiersin.org/article/10.3389/frym.2020.00063', 'https://en.wikipedia.org/wiki/Hyperlink', 'https://www.digitallibrary.io/en/books/details/3836', 'https://en.wikipedia.org/wiki/Celts', 'https://simple.wikipedia.org/wiki/Zimmermann_Telegram', 'https://en.wikipedia.org/wiki/Blockade', 'https://en.wikipedia.org/wiki/Intellectual_property', 'https://simple.wikipedia.org/wiki/Archaeology', 'https://en.wikipedia.org/wiki/Multimedia', 'https://simple.wikipedia.org/wiki/Software', 'https://simple.wikipedia.org/wiki/Mobile_phone', 'https://en.wikipedia.org/wiki/Radiosurgery', 'https://kids.frontiersin.org/article/10.3389/frym.2019.00095', 'http://ukuqonda.co.za/digicom/Grade-10-Technical-Mathematics/TechMaths_Gr10LB_Eng.pdf', 'https://simple.wikipedia.org/wiki/Great_Depression', 'https://kids.frontiersin.org/article/10.3389/frym.2013.00011', 'https://en.wikipedia.org/wiki/Ostracism', 'https://kids.frontiersin.org/article/10.3389/frym.2018.00072', 'https://www.commonlit.org/texts/what-fear-can-teach-us', 'https://en.wikipedia.org/wiki/Big_memory', 'https://simple.wikipedia.org/wiki/Battle_of_Saratoga', 'https://en.wikipedia.org/wiki/Brain_implant', 'https://kids.frontiersin.org/article/10.3389/frym.2019.00091', 'https://simple.wikipedia.org/wiki/Renaissance', 'https://kids.frontiersin.org/article/10.3389/frym.2020.00031', 'https://kids.frontiersin.org/article/10.3389/frym.2020.00052', 'https://simple.wikipedia.org/wiki/Climate', 'https://kids.frontiersin.org/article/10.3389/frym.2019.00054', 'https://en.wikipedia.org/wiki/Rockslide', 'https://kids.frontiersin.org/article/10.3389/frym.2017.00029', 'https://freekidsbooks.org/wp-content/uploads/2019/12/ELA_Grade2_Unit4_Workbook_engageNY-FKB.pdf', 'https://simple.wikipedia.org/wiki/Patriotism', 'https://kids.frontiersin.org/article/10.3389/frym.2019.00121', 'https://en.wikipedia.org/wiki/Computing_platform', 'https://simple.wikipedia.org/wiki/Ancestor', 'https://simple.wikipedia.org/wiki/Solar_System', 'https://simple.wikipedia.org/wiki/Electron_crystallography', 'https://kids.frontiersin.org/article/10.3389/frym.2014.00014', 'https://en.wikipedia.org/wiki/Active_noise_control', 'https://simple.wikipedia.org/wiki/Discrete_cosine_transform', 'https://kids.frontiersin.org/article/10.3389/frym.2019.00061', 'https://en.wikipedia.org/wiki/Computer_hardware', 'https://freekidsbooks.org/wp-content/uploads/2019/11/FKB-Kids-Stories-Inside-the-Internet.pdf', 'https://www.commonlit.org/texts/coping-mechanisms', 'https://simple.wikipedia.org/wiki/Dictatorship', 'https://en.wikipedia.org/wiki/Fossil_fuel', 'https://en.wikipedia.org/wiki/Grantism', 'https://simple.wikipedia.org/wiki/Isotope', 'https://kids.frontiersin.org/article/10.3389/frym.2020.00067', 'https://kids.frontiersin.org/article/10.3389/frym.2018.00002', 'https://en.wikipedia.org/wiki/Moon', 'https://kids.frontiersin.org/article/10.3389/frym.2018.00043', 'https://simple.wikipedia.org/wiki/Ocean', 'https://www.commonlit.org/texts/the-american-criminal-justice-system', 'https://kids.frontiersin.org/article/10.3389/frym.2020.00100', 'https://simple.wikipedia.org/wiki/Friction', 'https://kids.frontiersin.org/article/10.3389/frym.2019.00111', 'https://simple.wikipedia.org/wiki/Feudalism', 'https://kids.frontiersin.org/article/10.3389/frym.2020.00084', 'https://simple.wikipedia.org/wiki/Rainforest', 'https://kids.frontiersin.org/article/10.3389/frym.2018.00046', 'https://simple.wikipedia.org/wiki/Starch', 'https://kids.frontiersin.org/article/10.3389/frym.2020.00020', 'https://kids.frontiersin.org/article/10.3389/frym.2018.00003', 'https://simple.wikipedia.org/wiki/Density', 'https://drive.google.com/file/d/0Bz69EszGvRvaYnlFU1Zfb0hHNXc/view', 'https://kids.frontiersin.org/article/10.3389/frym.2017.00008', 'https://simple.wikipedia.org/wiki/Calcium', 'https://kids.frontiersin.org/article/10.3389/frym.2020.00075', 'https://kids.frontiersin.org/article/10.3389/frym.2019.00043', 'https://kids.frontiersin.org/article/10.3389/frym.2018.00030', 'https://kids.frontiersin.org/article/10.3389/frym.2020.00032', 'https://simple.wikipedia.org/wiki/Defibrillator', 'https://simple.wikipedia.org/wiki/Globalization', 'https://en.wikipedia.org/wiki/Instant_replay', 'https://kids.frontiersin.org/article/10.3389/frym.2018.00004', 'https://en.wikipedia.org/wiki/Papyrus', 'https://freekidsbooks.org/wp-content/uploads/2016/12/Pink-Flowers-FKB-Kids-Stories.pdf', 'https://www.digitallibrary.io/en/books/details/3826', 'https://en.wikipedia.org/wiki/Artificial_photosynthesis', 'https://simple.wikipedia.org/wiki/Television', 'https://en.wikipedia.org/wiki/Ottoman_Empire', 'https://simple.wikipedia.org/wiki/Liquid_crystal_display', 'https://en.wikipedia.org/wiki/Earthquake', 'https://en.wikipedia.org/wiki/Chemical_bond', 'https://en.wikipedia.org/wiki/Light-year', 'https://kids.frontiersin.org/article/10.3389/frym.2019.00097', 'https://kids.frontiersin.org/article/10.3389/frym.2020.00050', 'https://simple.wikipedia.org/wiki/Extinction', 'https://en.wikipedia.org/wiki/Pluton', 'https://en.wikipedia.org/wiki/Big_data', 'https://simple.wikipedia.org/wiki/Digital_Object_Identifier', 'https://en.wikipedia.org/wiki/Great_Migration_(African_American)', 'https://simple.wikipedia.org/wiki/Creationism', 'https://kids.frontiersin.org/article/10.3389/frym.2016.00014', 'https://simple.wikipedia.org/wiki/Microcontroller', 'https://kids.frontiersin.org/article/10.3389/frym.2015.00018', 'https://en.wikipedia.org/wiki/Nanomedicine', 'https://kids.frontiersin.org/article/10.3389/frym.2020.00071', 'https://en.wikipedia.org/wiki/Machine_learning', 'https://en.wikipedia.org/wiki/Bronze_Age', 'https://simple.wikipedia.org/wiki/Mythology', 'https://en.wikipedia.org/wiki/Temperature-programmed_reduction', 'https://simple.wikipedia.org/wiki/Radar', 'https://simple.wikipedia.org/wiki/Seismology', 'https://freekidsbooks.org/wp-content/uploads/2019/12/FKB-kids-stories-dive.pdf', 'https://simple.wikipedia.org/wiki/Mars', 'https://www.commonlit.org/texts/the-south-secedes', 'https://kids.frontiersin.org/article/10.3389/frym.2019.00086', 'https://drive.google.com/file/d/0B6pcGxi_-Y9PdWJhVXVrVnIzVnM/view', 'https://freekidsbooks.org/wp-content/uploads/2019/12/What_Is_Love-Helen_Keller-Biography_for_Children-FKB.pdf', 'https://en.wikipedia.org/wiki/Seven_Years%27_War', 'https://kids.frontiersin.org/article/10.3389/frym.2016.00024', 'https://en.wikipedia.org/wiki/Incubator_(egg)', 'https://kids.frontiersin.org/article/10.3389/frym.2020.00080', 'https://www.commonlit.org/texts/coming-of-age-ceremonies-across-different-cultures', 'https://en.wikipedia.org/wiki/Napoleon', 'https://kids.frontiersin.org/article/10.3389/frym.2019.00113', 'https://simple.wikipedia.org/wiki/Plasma_(physics)', 'https://simple.wikipedia.org/wiki/Soil', 'https://freekidsbooks.org/wp-content/uploads/2019/12/FKB-Stories-A-Tiny-Seed-The-Story-of-Wangari-Maathai.pdf', 'https://beyondpenguins.ehe.osu.edu/issue/a-sense-of-place/the-top-and-bottom-of-the-world', 'https://kids.frontiersin.org/article/10.3389/frym.2013.00009', 'https://simple.wikipedia.org/wiki/Carbohydrate', 'https://simple.wikipedia.org/wiki/Central_Powers', 'https://en.wikipedia.org/wiki/French_Revolution', 'https://en.wikipedia.org/wiki/Civil_law_(legal_system)', 'https://simple.wikipedia.org/wiki/Global_Positioning_System', 'https://kids.frontiersin.org/article/10.3389/frym.2019.00083', 'https://simple.wikipedia.org/wiki/Tyrant', 'https://simple.wikipedia.org/wiki/Nutrition', 'https://www.commonlit.org/texts/laura-s-key', 'https://www.commonlit.org/texts/clash-of-cultures-indigenous-america-and-the-conquistadores', 'https://simple.wikipedia.org/wiki/Acid', 'https://kids.frontiersin.org/article/10.3389/frym.2018.00074', 'https://simple.wikipedia.org/wiki/Microphone', 'https://en.wikipedia.org/wiki/Fulldome', 'https://en.wikipedia.org/wiki/Buoyancy', 'https://en.wikipedia.org/wiki/Pilgrim', 'https://kids.frontiersin.org/article/10.3389/frym.2016.00019', 'https://simple.wikipedia.org/wiki/Constellation', 'https://kids.frontiersin.org/article/10.3389/frym.2020.00083', 'https://www.digitallibrary.io/en/books/read/1123', 'https://simple.wikipedia.org/wiki/American_Civil_War', 'https://en.wikipedia.org/wiki/Bitcoin', 'https://en.wikipedia.org/wiki/Smartwatch', 'https://www.commonlit.org/texts/maslow-s-hierarchy-of-needs', 'https://en.wikipedia.org/wiki/Oracle_bone_script', 'https://simple.wikipedia.org/wiki/Antenna', 'https://en.wikipedia.org/wiki/Molecule', 'https://kids.frontiersin.org/article/10.3389/frym.2020.00036', 'https://simple.wikipedia.org/wiki/Ozone_layer', 'https://en.wikipedia.org/wiki/Plebs', 'https://simple.wikipedia.org/wiki/Cold_War', 'https://en.wikipedia.org/wiki/Oil_refinery', 'https://www.commonlit.org/texts/the-dust-bowl', 'https://en.wikipedia.org/wiki/Information_technology', 'https://en.wikipedia.org/wiki/Totalitarianism', 'https://en.wikipedia.org/wiki/Open-source_software', 'https://simple.wikipedia.org/wiki/Conservatism', 'https://simple.wikipedia.org/wiki/Acceleration', 'https://en.wikipedia.org/wiki/Earthquake_valve', 'https://www.africanstorybook.org/', 'https://en.wikipedia.org/wiki/Gene', 'https://en.wikipedia.org/wiki/Boston_Tea_Party', 'https://en.wikipedia.org/wiki/Socrates', 'https://en.wikipedia.org/wiki/Civic_technology', 'https://simple.wikipedia.org/wiki/Jacobitism', 'https://kids.frontiersin.org/article/10.3389/frym.2019.00109', 'https://freekidsbooks.org/wp-content/uploads/2020/07/the-mighty-tethys-sea-pratham-FKB.pdf', 'https://www.commonlit.org/texts/conformity', 'https://kids.frontiersin.org/article/10.3389/frym.2018.00045', 'https://simple.wikipedia.org/wiki/Wind_turbine', 'https://simple.wikipedia.org/wiki/Parliament', 'https://kids.frontiersin.org/article/10.3389/frym.2020.00057', 'https://simple.wikipedia.org/wiki/Emancipation_Proclamation', 'https://en.wikipedia.org/wiki/Fermentation', 'https://simple.wikipedia.org/wiki/Emulator', 'https://simple.wikipedia.org/wiki/Electronic_engineering', 'https://www.digitallibrary.io/en/books/details/1184', 'https://en.wikipedia.org/wiki/Agora', 'https://kids.frontiersin.org/article/10.3389/frym.2019.00118', 'https://simple.wikipedia.org/wiki/Paleontology', 'https://kids.frontiersin.org/article/10.3389/frym.2020.00033', 'https://en.wikipedia.org/wiki/Domain_name', 'https://en.wikipedia.org/wiki/Electrical_cable', 'https://www.commonlit.org/texts/the-progressive-era', 'https://kids.frontiersin.org/article/10.3389/frym.2020.00091', 'https://simple.wikipedia.org/wiki/Capitalism', 'https://kids.frontiersin.org/article/10.3389/frym.2018.00019', 'https://en.wikipedia.org/wiki/Wi-Fi', 'https://simple.wikipedia.org/wiki/Word_processor', 'https://www.commonlit.org/texts/sweet-difficult-sounds', 'https://en.wikipedia.org/wiki/Carbon_dioxide', 'https://en.wikipedia.org/wiki/Ion', 'https://simple.wikipedia.org/wiki/Geometry', 'https://en.wikipedia.org/wiki/Environmental_science', 'https://kids.frontiersin.org/article/10.3389/frym.2014.00001', 'https://simple.wikipedia.org/wiki/Hard_disk', 'https://en.wikipedia.org/wiki/Boiling_point', 'https://kids.frontiersin.org/article/10.3389/frym.2015.00008', 'https://simple.wikipedia.org/wiki/Republic', 'https://en.wikipedia.org/wiki/Solar_wind', 'https://en.wikipedia.org/wiki/Environmental_technology', 'https://www.commonlit.org/texts/herd-behavior', 'https://simple.wikipedia.org/wiki/Hippocrates', 'https://kids.frontiersin.org/article/10.3389/frym.2019.00053', 'https://en.wikipedia.org/wiki/Galaxy', 'https://en.wikipedia.org/wiki/Social_networking_service', 'https://simple.wikipedia.org/wiki/Printing', 'https://kids.frontiersin.org/article/10.3389/frym.2017.00070', 'https://www.digitallibrary.io/en/books/details/3779', 'https://kids.frontiersin.org/article/10.3389/frym.2020.00029', 'https://kids.frontiersin.org/article/10.3389/frym.2020.00026', 'https://simple.wikipedia.org/wiki/Local_area_network', 'https://simple.wikipedia.org/wiki/Galvanometer', 'https://kids.frontiersin.org/article/10.3389/frym.2018.00070', 'https://www.commonlit.org/texts/egyptian-mummies', 'https://kids.frontiersin.org/article/10.3389/frym.2019.00076', 'https://kids.frontiersin.org/article/10.3389/frym.2018.00075', 'https://freekidsbooks.org/wp-content/uploads/2019/10/Freekidsbooks-Area-Apprenticeship-and-Workplace-Mathematics-10.pdf', 'https://simple.wikipedia.org/wiki/Radio', 'https://www.commonlit.org/texts/witchcraft-in-salem', 'https://en.wikipedia.org/wiki/Compass', 'https://en.wikipedia.org/wiki/Tissue_(biology)', 'https://en.wikipedia.org/wiki/Privateer', 'https://en.wikipedia.org/wiki/Ancient_Greek', 'https://kids.frontiersin.org/article/10.3389/frym.2015.00002', 'https://kids.frontiersin.org/article/10.3389/frym.2017.00006', 'https://simple.wikipedia.org/wiki/Solar_cell', 'https://kids.frontiersin.org/article/10.3389/frym.2016.00001', 'https://en.wikipedia.org/wiki/Great_Awakening', 'https://kids.frontiersin.org/article/10.3389/frym.2020.00074', 'https://kids.frontiersin.org/article/10.3389/frym.2016.00030', 'https://kids.frontiersin.org/article/10.3389/frym.2017.00028', 'https://freekidsbooks.org/wp-content/uploads/2019/11/FKB-Kids-Stories-Sharks.pdf', 'https://freekidsbooks.org/wp-content/uploads/2020/04/123172-why-do-sunbirds-eat-all-day-1.pdf', 'https://simple.wikipedia.org/wiki/Great_Wall_of_China', 'https://en.wikipedia.org/wiki/White_dwarf', 'https://en.wikipedia.org/wiki/Geocentric_model', 'https://kids.frontiersin.org/article/10.3389/frym.2014.00015', 'https://en.wikipedia.org/wiki/Metabolism', 'https://www.commonlit.org/texts/water-scarcity-a-global-issue', 'https://simple.wikipedia.org/wiki/Gramophone_record', 'https://en.wikipedia.org/wiki/Protective_tariff', 'https://en.wikipedia.org/wiki/Implantable_cardioverter-defibrillator', 'https://www.digitallibrary.io/en/books/details/1366', 'https://simple.wikipedia.org/wiki/Enzyme', 'https://en.wikipedia.org/wiki/Vegetation', 'https://en.wikibooks.org/wiki/Wikijunior:Human_Body/Digestive_System/Stomach', 'https://www.digitallibrary.io/en/books/details/1383', 'https://simple.wikipedia.org/wiki/Civil_rights', 'https://kids.frontiersin.org/article/10.3389/frym.2020.00025', 'https://simple.wikipedia.org/wiki/Steam_engine', 'https://www.commonlit.org/texts/how-autism-freed-me-to-be-myself', 'https://simple.wikipedia.org/wiki/Homo_sapiens', 'https://simple.wikipedia.org/wiki/Milky_Way', 'https://www.commonlit.org/texts/freud-s-theory-of-the-id-ego-and-superego', 'https://simple.wikipedia.org/wiki/Plankton', 'https://en.wikipedia.org/wiki/Unstructured_data', 'https://www.digitallibrary.io/en/books/read/3698/90190', 'https://www.commonlit.org/texts/the-roaring-twenties', 'https://en.wikipedia.org/wiki/Watergate_scandal', 'https://www.africanstorybook.org/#', 'https://kids.frontiersin.org/article/10.3389/frym.2018.00026', 'https://simple.wikipedia.org/wiki/Soviet_Union', 'https://kids.frontiersin.org/article/10.3389/frym.2017.00010', 'https://kids.frontiersin.org/article/10.3389/frym.2013.00001', 'https://www.commonlit.org/texts/how-the-internet-came-to-be', 'https://kids.frontiersin.org/article/10.3389/frym.2015.00014', 'https://simple.wikipedia.org/wiki/Podcasting', 'https://en.wikipedia.org/wiki/Civil_engineering', 'https://simple.wikipedia.org/wiki/Concentration_camp', 'https://kids.frontiersin.org/article/10.3389/frym.2020.00076', 'https://simple.wikipedia.org/wiki/Orbit', 'https://en.wikipedia.org/wiki/Biodiversity', 'https://simple.wikipedia.org/wiki/Cloud_computing', 'https://simple.wikipedia.org/wiki/Transistor', 'https://kids.frontiersin.org/article/10.3389/frym.2017.00027', 'https://simple.wikipedia.org/wiki/Sweat', 'https://kids.frontiersin.org/article/10.3389/frym.2017.00026', 'https://simple.wikipedia.org/wiki/Smelting', 'https://simple.wikipedia.org/wiki/Delegate', 'https://www.commonlit.org/texts/the-1972-andes-flight-disaster', 'https://en.wikibooks.org/wiki/Wikijunior:Biology/Kingdoms/Animals', 'https://simple.wikipedia.org/wiki/Geothermal_energy', 'https://www.digitallibrary.io/en/books/details/3823', 'https://simple.wikipedia.org/wiki/Astrophysics', 'https://en.wikipedia.org/wiki/Habitat', 'https://sites.ehe.osu.edu/beyondpenguins/files/2011/06/dinosaurs_45_text.pdf', 'https://simple.wikipedia.org/wiki/State', 'https://en.wikipedia.org/wiki/Edaphology', 'https://simple.wikipedia.org/wiki/Central_processing_unit', 'https://kids.frontiersin.org/article/10.3389/frym.2018.00035', 'https://kids.frontiersin.org/article/10.3389/frym.2019.00063', 'https://en.wikipedia.org/wiki/Byzantine_Empire', 'https://simple.wikipedia.org/wiki/Watch', 'https://kids.frontiersin.org/article/10.3389/frym.2020.00019', 'https://en.wikipedia.org/wiki/P-wave', 'https://en.wikipedia.org/wiki/Monsoon', 'https://en.wikipedia.org/wiki/Intranet', 'https://kids.frontiersin.org/article/10.3389/frym.2018.00034', 'https://simple.wikipedia.org/wiki/Society', 'https://simple.wikipedia.org/wiki/United_Nations', 'https://simple.wikipedia.org/wiki/Reptile', 'https://simple.wikipedia.org/wiki/Glucose', 'https://www.commonlit.org/texts/financial-literacy', 'https://en.wikipedia.org/wiki/Artificial_cardiac_pacemaker', 'https://en.wikipedia.org/wiki/Truman_Doctrine', 'https://simple.wikipedia.org/wiki/Christopher_Columbus', 'https://simple.wikipedia.org/wiki/Constitution', 'https://en.wikipedia.org/wiki/Broadband', 'https://www.commonlit.org/texts/duke-ellington', 'https://simple.wikipedia.org/wiki/Crusades', 'https://simple.wikipedia.org/wiki/Voltage', 'https://en.wikipedia.org/wiki/Absolute_monarchy', 'https://en.wikipedia.org/wiki/Electronic_nose', 'https://kids.frontiersin.org/article/10.3389/frym.2019.00047', 'https://en.wikipedia.org/wiki/Paleolithic', 'https://www.digitallibrary.io/en/books/details/1187', 'http://static.ehe.osu.edu/sites/beyond/penguins/downloads/feature-stories/ice-sculptures-23-text.pdf', 'https://kids.frontiersin.org/article/10.3389/frym.2020.00065', 'https://kids.frontiersin.org/article/10.3389/frym.2020.00044', 'https://simple.wikipedia.org/wiki/Earth', 'https://kids.frontiersin.org/article/10.3389/frym.2019.00100', 'https://simple.wikipedia.org/wiki/Electric_vehicle', 'https://kids.frontiersin.org/article/10.3389/frym.2019.00069', 'https://kids.frontiersin.org/article/10.3389/frym.2018.00039', 'https://kids.frontiersin.org/article/10.3389/frym.2016.00020', 'https://en.wikibooks.org/wiki/Wikijunior:Bugs/Cricket', 'https://en.wikipedia.org/wiki/Dark_matter', 'https://kids.frontiersin.org/article/10.3389/frym.2019.00093', 'https://simple.wikipedia.org/wiki/Fire_alarm', 'https://simple.wikipedia.org/wiki/Hydroelectricity', 'https://en.wikipedia.org/wiki/Human–computer_interaction', 'https://kids.frontiersin.org/article/10.3389/frym.2020.00056', 'https://kids.frontiersin.org/article/10.3389/frym.2019.00072', 'https://en.wikipedia.org/wiki/Anaconda_Plan', 'https://kids.frontiersin.org/article/10.3389/frym.2020.00051#:~:text=Scientists%20have%20shown%20that%20the,the%20run%2Dup%20to%20exams', 'https://en.wikipedia.org/wiki/Vacuum', 'https://simple.wikipedia.org/wiki/Korean_War', 'https://en.wikipedia.org/wiki/Velocity', 'https://simple.wikipedia.org/wiki/Fungus', 'https://kids.frontiersin.org/article/10.3389/frym.2017.00013', 'https://en.wikibooks.org/wiki/Wikijunior:The_Elements/Solids', 'https://en.wikipedia.org/wiki/Scanning_electron_microscope', 'https://www.commonlit.org/texts/a-nation-divided-north-vs-south', 'https://kids.frontiersin.org/article/10.3389/frym.2020.00034', 'https://kids.frontiersin.org/article/10.3389/frym.2016.00016', 'https://kids.frontiersin.org/article/10.3389/frym.2019.00064', 'https://simple.wikipedia.org/wiki/Larva', 'https://en.wikipedia.org/wiki/Rebellion', 'https://kids.frontiersin.org/article/10.3389/frym.2020.00053', 'https://simple.wikipedia.org/wiki/Lithosphere', 'https://simple.wikipedia.org/wiki/Gene_therapy', 'https://kids.frontiersin.org/article/10.3389/frym.2018.00005', 'https://en.wikipedia.org/wiki/Historian', 'https://en.wikipedia.org/wiki/Nebula', 'https://simple.wikipedia.org/wiki/Species', 'https://simple.wikipedia.org/wiki/Nanotechnology', 'https://kids.frontiersin.org/article/10.3389/frym.2020.00047', 'https://en.wikipedia.org/wiki/Water_vapor', 'https://www.digitallibrary.io/en/books/read/3718', 'https://simple.wikipedia.org/wiki/Laser', 'https://kids.frontiersin.org/article/10.3389/frym.2019.00065', 'https://kids.frontiersin.org/article/10.3389/frym.2013.00005', 'https://kids.frontiersin.org/article/10.3389/frym.2017.00005', 'https://www.commonlit.org/texts/french-and-indian-war', 'https://en.wikipedia.org/wiki/Diarchy', 'https://kids.frontiersin.org/article/10.3389/frym.2020.00082', 'https://simple.wikipedia.org/wiki/Database', 'https://simple.wikipedia.org/wiki/Babylon', 'https://simple.wikipedia.org/wiki/RNA', 'https://en.wikipedia.org/wiki/Coral_reef', 'https://en.wikipedia.org/wiki/Miranda_warning', 'https://kids.frontiersin.org/article/10.3389/frym.2019.00110', 'https://en.wikipedia.org/wiki/Interplanetary_dust_cloud', 'http://static.ehe.osu.edu/sites/beyond/penguins/downloads/feature-stories/erebus-23-text.pdf', 'https://kids.frontiersin.org/article/10.3389/frym.2020.00088', 'https://simple.wikipedia.org/wiki/Intolerable_Acts', 'https://simple.wikipedia.org/wiki/Technological_singularity', 'https://en.wikipedia.org/wiki/Artificial_muscle', 'https://en.wikipedia.org/wiki/Iron_Curtain', 'https://simple.wikipedia.org/wiki/Organism', 'http://static.ehe.osu.edu/sites/beyond/penguins/downloads/feature-stories/white-wolf-k1-text.pdf', 'https://kids.frontiersin.org/article/10.3389/frym.2014.00005', 'https://en.wikipedia.org/wiki/Virtual_reality', 'https://kids.frontiersin.org/article/10.3389/frym.2020.00027', 'https://kids.frontiersin.org/article/10.3389/frym.2017.00018', 'https://simple.wikipedia.org/wiki/Regnal_year', 'https://en.wikipedia.org/wiki/Augmented_reality', 'https://simple.wikipedia.org/wiki/Greenhouse_effect', 'https://en.wikipedia.org/wiki/Mesopotamia', 'https://en.wikipedia.org/wiki/Automotive_head-up_display', 'https://kids.frontiersin.org/article/10.3389/frym.2020.00016', 'https://en.wikipedia.org/wiki/Data_visualization', 'https://en.wikipedia.org/wiki/Public_domain', 'https://simple.wikipedia.org/wiki/Light-emitting_diode', 'https://www.commonlit.org/texts/the-sit-in-movement', 'https://kids.frontiersin.org/article/10.3389/frym.2014.00009', 'https://kids.frontiersin.org/article/10.3389/frym.2020.00049', 'https://kids.frontiersin.org/article/10.3389/frym.2020.00035', 'https://en.wikipedia.org/wiki/Humidity', 'https://kids.frontiersin.org/article/10.3389/frym.2019.00022', 'https://kids.frontiersin.org/article/10.3389/frym.2016.00029', 'https://en.wikipedia.org/wiki/Artificial_intelligence', 'https://kids.frontiersin.org/article/10.3389/frym.2018.00010', 'https://en.wikipedia.org/wiki/Baby_boom', 'https://kids.frontiersin.org/article/10.3389/frym.2016.00023', 'https://kids.frontiersin.org/article/10.3389/frym.2020.00039', 'https://kids.frontiersin.org/article/10.3389/frym.2020.00042', 'https://en.wikipedia.org/wiki/Software_as_a_service', 'https://en.wikipedia.org/wiki/Aerodynamics', 'https://simple.wikipedia.org/wiki/Welding', 'https://en.wikipedia.org/wiki/Software_development', 'https://en.wikipedia.org/wiki/Cash_crop', 'https://en.wikipedia.org/wiki/Diaspora', 'https://kids.frontiersin.org/article/10.3389/frym.2014.00023', 'https://en.wikipedia.org/wiki/Digital_data', 'https://kids.frontiersin.org/article/10.3389/frym.2019.00075', 'https://simple.wikipedia.org/wiki/Adobe_Flash', 'https://kids.frontiersin.org/article/10.3389/frym.2018.00063', 'https://freekidsbooks.org/wp-content/uploads/2020/06/Time-travelling-river_Pratham-FKB.pdf', 'https://simple.wikipedia.org/wiki/Copper', 'https://en.wikipedia.org/wiki/Dynasty', 'https://freekidsbooks.org/wp-content/uploads/2016/12/All-About-Seals-FKB-Kids-Story.pdf', 'https://en.wikibooks.org/wiki/Wikijunior:Bugs/Moth', 'https://simple.wikipedia.org/wiki/Blu-ray_Disc', 'https://en.wikipedia.org/wiki/Geology', 'https://kids.frontiersin.org/article/10.3389/frym.2020.00077', 'https://kids.frontiersin.org/article/10.3389/frym.2018.00068', 'https://simple.wikipedia.org/wiki/Frog', 'https://kids.frontiersin.org/article/10.3389/frym.2018.00054', 'https://simple.wikipedia.org/wiki/Secure_Digital_card', 'https://en.wikipedia.org/wiki/High-speed_camera', 'https://en.wikipedia.org/wiki/Black_hole', 'https://kids.frontiersin.org/article/10.3389/frym.2019.00060', 'https://kids.frontiersin.org/article/10.3389/frym.2020.00064', 'https://en.wikipedia.org/wiki/Databending', 'https://www.ck12.org/book/ck-12-second-grade-science/', 'https://simple.wikipedia.org/wiki/Battle_of_Waterloo', 'https://en.wikipedia.org/wiki/Collimator', 'https://kids.frontiersin.org/article/10.3389/frym.2019.00074', 'https://simple.wikipedia.org/wiki/Realism', 'https://kids.frontiersin.org/article/10.3389/frym.2020.00043', 'https://kids.frontiersin.org/article/10.3389/frym.2019.00050', 'https://en.wikipedia.org/wiki/Respiratory_system', 'https://simple.wikipedia.org/wiki/Age_of_Enlightenment', 'https://simple.wikipedia.org/wiki/Router', 'https://en.wikibooks.org/wiki/Wikijunior:Human_Body/Eyes', 'https://kids.frontiersin.org/article/10.3389/frym.2016.00026', 'https://kids.frontiersin.org/article/10.3389/frym.2017.00002', 'https://en.wikipedia.org/wiki/Heat_transfer', 'https://kids.frontiersin.org/article/10.3389/frym.2020.00023', 'https://simple.wikipedia.org/wiki/Penicillin', 'https://simple.wikipedia.org/wiki/Sumer', 'http://static.ehe.osu.edu/sites/beyond/penguins/downloads/feature-stories/partners-23-text.pdf', 'https://en.wikipedia.org/wiki/Information_privacy', 'https://kids.frontiersin.org/article/10.3389/frym.2019.00120', 'https://en.wikipedia.org/wiki/Mercury_(planet)', 'https://en.wikipedia.org/wiki/Mid-ocean_ridge', 'https://kids.frontiersin.org/article/10.3389/frym.2018.00036', 'https://kids.frontiersin.org/article/10.3389/frym.2018.00067', 'https://simple.wikipedia.org/wiki/DNA', 'https://en.wikipedia.org/wiki/Electrostatic_generator', 'https://simple.wikipedia.org/wiki/Inkpad', 'https://kids.frontiersin.org/article/10.3389/frym.2019.00079', 'https://www.commonlit.org/texts/the-rush-of-immigrants', 'https://kids.frontiersin.org/article/10.3389/frym.2019.00114', 'https://kids.frontiersin.org/article/10.3389/frym.2017.00001', 'https://simple.wikipedia.org/wiki/Metabolism', 'https://en.wikipedia.org/wiki/Silk_Road', 'https://kids.frontiersin.org/article/10.3389/frym.2017.00025', 'https://kids.frontiersin.org/article/10.3389/frym.2018.00006', 'https://simple.wikipedia.org/wiki/Air_navigation', 'https://kids.frontiersin.org/article/10.3389/frym.2020.00055', 'https://en.wikipedia.org/wiki/Water_clock', 'https://en.wikipedia.org/wiki/Ecosystem', 'https://en.wikipedia.org/wiki/Magnet', 'https://freekidsbooks.org/wp-content/uploads/2019/12/Geography10-Namibia-COL-FKB.pdf', 'https://www.ck12.org/book/ck-12-fourth-grade-science/', 'https://kids.frontiersin.org/article/10.3389/frym.2016.00022', 'https://www.digitallibrary.io/en/books/details/3739', 'https://kids.frontiersin.org/article/10.3389/frym.2020.00081', 'https://en.wikipedia.org/wiki/Industrial_Revolution', 'https://kids.frontiersin.org/article/10.3389/frym.2020.00069', 'https://en.wikipedia.org/wiki/Decomposer', 'https://kids.frontiersin.org/article/10.3389/frym.2016.00017', 'https://kids.frontiersin.org/article/10.3389/frym.2020.00072', 'https://en.wikipedia.org/wiki/Jet_pack', 'https://en.wikipedia.org/wiki/Age_of_Enlightenment', 'https://kids.frontiersin.org/article/10.3389/frym.2019.00127', 'https://www.commonlit.org/texts/the-legacy-of-william-shakespeare', 'https://en.wikipedia.org/wiki/Exoplanet', 'http://static.ehe.osu.edu/sites/beyond/penguins/downloads/feature-stories/getting-warmer-k1-text.pdf', 'https://simple.wikipedia.org/wiki/Linux', 'https://en.wikipedia.org/wiki/Free_market', 'https://en.wikipedia.org/wiki/Magnetic_resonance_imaging', 'http://static.ehe.osu.edu/sites/beyond/penguins/downloads/feature-stories/tundra-k1-text.pdf', 'https://simple.wikipedia.org/wiki/Marshall_Plan', 'https://kids.frontiersin.org/article/10.3389/frym.2017.00017', 'https://en.wikipedia.org/wiki/Cabinet_(government)', 'https://freekidsbooks.org/wp-content/uploads/2020/06/the-one-and-only-human-body_Pratham-FKB.pdf', 'https://en.wikipedia.org/wiki/Appropriation_bill', 'https://simple.wikipedia.org/wiki/Astronomy', 'https://kids.frontiersin.org/article/10.3389/frym.2020.00009', 'https://kids.frontiersin.org/article/10.3389/frym.2018.00027', 'https://www.digitallibrary.io/en/books/details/1391', 'https://simple.wikipedia.org/wiki/Rosetta_Stone', 'https://www.commonlit.org/texts/who-gets-to-be-president', 'https://kids.frontiersin.org/article/10.3389/frym.2019.00106', 'https://en.wikipedia.org/wiki/Historiography', 'https://simple.wikipedia.org/wiki/Virus', 'https://kids.frontiersin.org/article/10.3389/frym.2019.00107', 'https://www.commonlit.org/texts/the-value-of-being-confused', 'https://simple.wikipedia.org/wiki/Cave_painting', 'https://en.wikipedia.org/wiki/Carbon_monoxide', 'https://www.digitallibrary.io/en/books/details/3864', 'https://en.wikibooks.org/wiki/Geometry_for_Elementary_School/Solids', 'https://freekidsbooks.org/wp-content/uploads/2019/09/Why-Cant-We-Glow-Like-Fireflies-FKB-Stories.pdf', 'https://en.wikipedia.org/wiki/Elasticity_(physics)'}\n"
          ],
          "name": "stdout"
        }
      ]
    },
    {
      "cell_type": "markdown",
      "metadata": {
        "id": "Tgscud8niHA8"
      },
      "source": [
        "From Url we can extract:\n",
        "   \n",
        "   - Site Name\n",
        "   - Topic Name"
      ]
    },
    {
      "cell_type": "code",
      "metadata": {
        "id": "eUt9c4SLkNel"
      },
      "source": [
        "def extract_from_link(train_data):\n",
        "  train_data['url_legal']=train_data['url_legal'].fillna('0')\n",
        "  train_data['site'] ='-1'\n",
        "  train_data['pre']  ='-1'\n",
        "  train_data['post'] ='-1'\n",
        "  train_data['posts']='-1'\n",
        "  train_data['type'] ='-1'\n",
        "  train_data['topic'] ='-1'\n",
        "  for i in range(train_data.shape[0]):\n",
        "    if train_data['url_legal'].iloc[i]!='0':\n",
        "      arr=train_data['url_legal'].iloc[i].split('/')[2].split('.')\n",
        "      if len(arr)==2:\n",
        "        train_data['site'].iloc[i] =arr[0]\n",
        "        train_data['pre'].iloc[i]  ='0'\n",
        "        train_data['post'].iloc[i] =arr[1]\n",
        "        train_data['posts'].iloc[i]='0'\n",
        "      if len(arr)==3:\n",
        "        train_data['site'].iloc[i] =arr[1]\n",
        "        train_data['pre'].iloc[i]  =arr[0]\n",
        "        train_data['post'].iloc[i] =arr[2]\n",
        "        train_data['posts'].iloc[i]='0'\n",
        "      if len(arr)>=4:\n",
        "        train_data['site'].iloc[i] =arr[1]\n",
        "        train_data['pre'].iloc[i]  =arr[0]\n",
        "        train_data['post'].iloc[i] =arr[2]\n",
        "        train_data['posts'].iloc[i]=arr[3]\n",
        "      try:\n",
        "        train_data['type'].iloc[i]=train_data['url_legal'].iloc[i].split('/')[3]\n",
        "      except:\n",
        "        pass\n",
        "      try:\n",
        "        try:\n",
        "          k=int(train_data['url_legal'].iloc[i].split('/')[4])\n",
        "          train_data['topic'].iloc[i]='itsnum'\n",
        "        except:\n",
        "          train_data['topic'].iloc[i]=train_data['url_legal'].iloc[i].split('/')[4]\n",
        "      except:\n",
        "        pass\n",
        "      try:\n",
        "        try:\n",
        "          k=int(train_data['url_legal'].iloc[i].split('/')[5])\n",
        "          if train_data['topic'].iloc[i]=='itsnum':\n",
        "            train_data['topic'].iloc[i]='itsnum'\n",
        "        except:\n",
        "          train_data['topic'].iloc[i]=train_data['url_legal'].iloc[i].split('/')[5]\n",
        "      except:\n",
        "        pass\n",
        "      try:\n",
        "        try:\n",
        "          k=int(train_data['url_legal'].iloc[i].split('/')[6])\n",
        "          if train_data['topic'].iloc[i]=='itsnum':\n",
        "            train_data['topic'].iloc[i]='itsnum'\n",
        "        except:\n",
        "          train_data['topic'].iloc[i]=train_data['url_legal'].iloc[i].split('/')[6]\n",
        "      except:\n",
        "        pass\n",
        "      try:\n",
        "        try:\n",
        "          k=int(train_data['url_legal'].iloc[i].split('/')[7])\n",
        "          if train_data['topic'].iloc[i]=='itsnum':\n",
        "            train_data['topic'].iloc[i]='itsnum'\n",
        "        except:\n",
        "          train_data['topic'].iloc[i]=train_data['url_legal'].iloc[i].split('/')[7].split('.')[0]\n",
        "      except:\n",
        "        pass\n",
        "  for i in range(train_data.shape[0]):\n",
        "    try:\n",
        "      train_data['topic'].iloc[i]=re.sub('[().0123456789#~:,]','',train_data['topic'].iloc[i]).lower()\n",
        "      train_data['topic'].iloc[i]=re.sub('[-_=%]',' ',train_data['topic'].iloc[i]).lower()\n",
        "    except:\n",
        "      pass\n",
        "  train_data=train_data.drop(['url_legal','license'],axis=1)\n",
        "  return(train_data)"
      ],
      "execution_count": 10,
      "outputs": []
    },
    {
      "cell_type": "code",
      "metadata": {
        "colab": {
          "base_uri": "https://localhost:8080/"
        },
        "id": "BAAqyHhHNo2Y",
        "outputId": "c8abf95c-bc07-420f-fbc7-ce824efe2503"
      },
      "source": [
        "train_data=extract_from_link(train_data)"
      ],
      "execution_count": 11,
      "outputs": [
        {
          "output_type": "stream",
          "text": [
            "/usr/local/lib/python3.7/dist-packages/pandas/core/indexing.py:670: SettingWithCopyWarning: \n",
            "A value is trying to be set on a copy of a slice from a DataFrame\n",
            "\n",
            "See the caveats in the documentation: https://pandas.pydata.org/pandas-docs/stable/user_guide/indexing.html#returning-a-view-versus-a-copy\n",
            "  iloc._setitem_with_indexer(indexer, value)\n"
          ],
          "name": "stderr"
        }
      ]
    },
    {
      "cell_type": "code",
      "metadata": {
        "colab": {
          "base_uri": "https://localhost:8080/",
          "height": 107
        },
        "id": "2A5YSyjhOkxS",
        "outputId": "6c153c35-8091-4d54-b1ae-9e3ff76b9eb7"
      },
      "source": [
        "train_data.tail(2)"
      ],
      "execution_count": 12,
      "outputs": [
        {
          "output_type": "execute_result",
          "data": {
            "text/html": [
              "<div>\n",
              "<style scoped>\n",
              "    .dataframe tbody tr th:only-of-type {\n",
              "        vertical-align: middle;\n",
              "    }\n",
              "\n",
              "    .dataframe tbody tr th {\n",
              "        vertical-align: top;\n",
              "    }\n",
              "\n",
              "    .dataframe thead th {\n",
              "        text-align: right;\n",
              "    }\n",
              "</style>\n",
              "<table border=\"1\" class=\"dataframe\">\n",
              "  <thead>\n",
              "    <tr style=\"text-align: right;\">\n",
              "      <th></th>\n",
              "      <th>id</th>\n",
              "      <th>excerpt</th>\n",
              "      <th>target</th>\n",
              "      <th>site</th>\n",
              "      <th>pre</th>\n",
              "      <th>post</th>\n",
              "      <th>posts</th>\n",
              "      <th>type</th>\n",
              "      <th>topic</th>\n",
              "    </tr>\n",
              "  </thead>\n",
              "  <tbody>\n",
              "    <tr>\n",
              "      <th>2832</th>\n",
              "      <td>15e2e9e7a</td>\n",
              "      <td>Solids are shapes that you can actually touch....</td>\n",
              "      <td>-0.215279</td>\n",
              "      <td>wikibooks</td>\n",
              "      <td>en</td>\n",
              "      <td>org</td>\n",
              "      <td>0</td>\n",
              "      <td>wiki</td>\n",
              "      <td>solids</td>\n",
              "    </tr>\n",
              "    <tr>\n",
              "      <th>2833</th>\n",
              "      <td>5b990ba77</td>\n",
              "      <td>Animals are made of many cells. They eat thing...</td>\n",
              "      <td>0.300779</td>\n",
              "      <td>wikibooks</td>\n",
              "      <td>en</td>\n",
              "      <td>org</td>\n",
              "      <td>0</td>\n",
              "      <td>wiki</td>\n",
              "      <td>animals</td>\n",
              "    </tr>\n",
              "  </tbody>\n",
              "</table>\n",
              "</div>"
            ],
            "text/plain": [
              "             id  ...    topic\n",
              "2832  15e2e9e7a  ...   solids\n",
              "2833  5b990ba77  ...  animals\n",
              "\n",
              "[2 rows x 9 columns]"
            ]
          },
          "metadata": {
            "tags": []
          },
          "execution_count": 12
        }
      ]
    },
    {
      "cell_type": "code",
      "metadata": {
        "id": "0aQihcFzN4pk"
      },
      "source": [
        "enc = OneHotEncoder()\n",
        "enc.fit(train_data[['site','pre','post','posts','type']])\n",
        "array_of_labels=np.array(enc.transform(train_data[['site','pre','post','posts','type']]).toarray())\n",
        "array_names=enc.get_feature_names(['site','pre','post','posts','type'])\n",
        "for i in range(len(array_names)):\n",
        "  train_data[array_names[i]]=array_of_labels[:,i]"
      ],
      "execution_count": 13,
      "outputs": []
    },
    {
      "cell_type": "code",
      "metadata": {
        "id": "nNOjoK5k73Mh",
        "colab": {
          "base_uri": "https://localhost:8080/",
          "height": 361
        },
        "outputId": "e713402b-c4de-4b49-ecdf-283965b6b5ad"
      },
      "source": [
        "train_data.tail(2)"
      ],
      "execution_count": 14,
      "outputs": [
        {
          "output_type": "execute_result",
          "data": {
            "text/html": [
              "<div>\n",
              "<style scoped>\n",
              "    .dataframe tbody tr th:only-of-type {\n",
              "        vertical-align: middle;\n",
              "    }\n",
              "\n",
              "    .dataframe tbody tr th {\n",
              "        vertical-align: top;\n",
              "    }\n",
              "\n",
              "    .dataframe thead th {\n",
              "        text-align: right;\n",
              "    }\n",
              "</style>\n",
              "<table border=\"1\" class=\"dataframe\">\n",
              "  <thead>\n",
              "    <tr style=\"text-align: right;\">\n",
              "      <th></th>\n",
              "      <th>id</th>\n",
              "      <th>excerpt</th>\n",
              "      <th>target</th>\n",
              "      <th>site</th>\n",
              "      <th>pre</th>\n",
              "      <th>post</th>\n",
              "      <th>posts</th>\n",
              "      <th>type</th>\n",
              "      <th>topic</th>\n",
              "      <th>site_-1</th>\n",
              "      <th>site_africanstorybook</th>\n",
              "      <th>site_ck12</th>\n",
              "      <th>site_co</th>\n",
              "      <th>site_commonlit</th>\n",
              "      <th>site_digitallibrary</th>\n",
              "      <th>site_ehe</th>\n",
              "      <th>site_freekidsbooks</th>\n",
              "      <th>site_frontiersin</th>\n",
              "      <th>site_google</th>\n",
              "      <th>site_uen</th>\n",
              "      <th>site_wikibooks</th>\n",
              "      <th>site_wikipedia</th>\n",
              "      <th>pre_-1</th>\n",
              "      <th>pre_0</th>\n",
              "      <th>pre_beyondpenguins</th>\n",
              "      <th>pre_drive</th>\n",
              "      <th>pre_emedia</th>\n",
              "      <th>pre_en</th>\n",
              "      <th>pre_kids</th>\n",
              "      <th>pre_simple</th>\n",
              "      <th>pre_sites</th>\n",
              "      <th>pre_static</th>\n",
              "      <th>pre_ukuqonda</th>\n",
              "      <th>pre_www</th>\n",
              "      <th>post_-1</th>\n",
              "      <th>post_com</th>\n",
              "      <th>post_io</th>\n",
              "      <th>post_org</th>\n",
              "      <th>post_osu</th>\n",
              "      <th>post_za</th>\n",
              "      <th>posts_-1</th>\n",
              "      <th>posts_0</th>\n",
              "      <th>posts_edu</th>\n",
              "      <th>type_</th>\n",
              "      <th>type_#</th>\n",
              "      <th>type_-1</th>\n",
              "      <th>type_article</th>\n",
              "      <th>type_beyondpenguins</th>\n",
              "      <th>type_book</th>\n",
              "      <th>type_courses</th>\n",
              "      <th>type_digicom</th>\n",
              "      <th>type_en</th>\n",
              "      <th>type_file</th>\n",
              "      <th>type_issue</th>\n",
              "      <th>type_sites</th>\n",
              "      <th>type_texts</th>\n",
              "      <th>type_wiki</th>\n",
              "      <th>type_wp-content</th>\n",
              "    </tr>\n",
              "  </thead>\n",
              "  <tbody>\n",
              "    <tr>\n",
              "      <th>2832</th>\n",
              "      <td>15e2e9e7a</td>\n",
              "      <td>Solids are shapes that you can actually touch....</td>\n",
              "      <td>-0.215279</td>\n",
              "      <td>wikibooks</td>\n",
              "      <td>en</td>\n",
              "      <td>org</td>\n",
              "      <td>0</td>\n",
              "      <td>wiki</td>\n",
              "      <td>solids</td>\n",
              "      <td>0.0</td>\n",
              "      <td>0.0</td>\n",
              "      <td>0.0</td>\n",
              "      <td>0.0</td>\n",
              "      <td>0.0</td>\n",
              "      <td>0.0</td>\n",
              "      <td>0.0</td>\n",
              "      <td>0.0</td>\n",
              "      <td>0.0</td>\n",
              "      <td>0.0</td>\n",
              "      <td>0.0</td>\n",
              "      <td>1.0</td>\n",
              "      <td>0.0</td>\n",
              "      <td>0.0</td>\n",
              "      <td>0.0</td>\n",
              "      <td>0.0</td>\n",
              "      <td>0.0</td>\n",
              "      <td>0.0</td>\n",
              "      <td>1.0</td>\n",
              "      <td>0.0</td>\n",
              "      <td>0.0</td>\n",
              "      <td>0.0</td>\n",
              "      <td>0.0</td>\n",
              "      <td>0.0</td>\n",
              "      <td>0.0</td>\n",
              "      <td>0.0</td>\n",
              "      <td>0.0</td>\n",
              "      <td>0.0</td>\n",
              "      <td>1.0</td>\n",
              "      <td>0.0</td>\n",
              "      <td>0.0</td>\n",
              "      <td>0.0</td>\n",
              "      <td>1.0</td>\n",
              "      <td>0.0</td>\n",
              "      <td>0.0</td>\n",
              "      <td>0.0</td>\n",
              "      <td>0.0</td>\n",
              "      <td>0.0</td>\n",
              "      <td>0.0</td>\n",
              "      <td>0.0</td>\n",
              "      <td>0.0</td>\n",
              "      <td>0.0</td>\n",
              "      <td>0.0</td>\n",
              "      <td>0.0</td>\n",
              "      <td>0.0</td>\n",
              "      <td>0.0</td>\n",
              "      <td>0.0</td>\n",
              "      <td>1.0</td>\n",
              "      <td>0.0</td>\n",
              "    </tr>\n",
              "    <tr>\n",
              "      <th>2833</th>\n",
              "      <td>5b990ba77</td>\n",
              "      <td>Animals are made of many cells. They eat thing...</td>\n",
              "      <td>0.300779</td>\n",
              "      <td>wikibooks</td>\n",
              "      <td>en</td>\n",
              "      <td>org</td>\n",
              "      <td>0</td>\n",
              "      <td>wiki</td>\n",
              "      <td>animals</td>\n",
              "      <td>0.0</td>\n",
              "      <td>0.0</td>\n",
              "      <td>0.0</td>\n",
              "      <td>0.0</td>\n",
              "      <td>0.0</td>\n",
              "      <td>0.0</td>\n",
              "      <td>0.0</td>\n",
              "      <td>0.0</td>\n",
              "      <td>0.0</td>\n",
              "      <td>0.0</td>\n",
              "      <td>0.0</td>\n",
              "      <td>1.0</td>\n",
              "      <td>0.0</td>\n",
              "      <td>0.0</td>\n",
              "      <td>0.0</td>\n",
              "      <td>0.0</td>\n",
              "      <td>0.0</td>\n",
              "      <td>0.0</td>\n",
              "      <td>1.0</td>\n",
              "      <td>0.0</td>\n",
              "      <td>0.0</td>\n",
              "      <td>0.0</td>\n",
              "      <td>0.0</td>\n",
              "      <td>0.0</td>\n",
              "      <td>0.0</td>\n",
              "      <td>0.0</td>\n",
              "      <td>0.0</td>\n",
              "      <td>0.0</td>\n",
              "      <td>1.0</td>\n",
              "      <td>0.0</td>\n",
              "      <td>0.0</td>\n",
              "      <td>0.0</td>\n",
              "      <td>1.0</td>\n",
              "      <td>0.0</td>\n",
              "      <td>0.0</td>\n",
              "      <td>0.0</td>\n",
              "      <td>0.0</td>\n",
              "      <td>0.0</td>\n",
              "      <td>0.0</td>\n",
              "      <td>0.0</td>\n",
              "      <td>0.0</td>\n",
              "      <td>0.0</td>\n",
              "      <td>0.0</td>\n",
              "      <td>0.0</td>\n",
              "      <td>0.0</td>\n",
              "      <td>0.0</td>\n",
              "      <td>0.0</td>\n",
              "      <td>1.0</td>\n",
              "      <td>0.0</td>\n",
              "    </tr>\n",
              "  </tbody>\n",
              "</table>\n",
              "</div>"
            ],
            "text/plain": [
              "             id  ... type_wp-content\n",
              "2832  15e2e9e7a  ...             0.0\n",
              "2833  5b990ba77  ...             0.0\n",
              "\n",
              "[2 rows x 58 columns]"
            ]
          },
          "metadata": {
            "tags": []
          },
          "execution_count": 14
        }
      ]
    },
    {
      "cell_type": "code",
      "metadata": {
        "id": "P-sTBZjMAtdv"
      },
      "source": [
        "train_data=train_data.drop(['site','pre','post','posts','type'],axis=1)"
      ],
      "execution_count": 15,
      "outputs": []
    },
    {
      "cell_type": "code",
      "metadata": {
        "id": "cb9om37WOPf1"
      },
      "source": [
        "train_data_now=train_data.drop('id',axis=1)"
      ],
      "execution_count": 16,
      "outputs": []
    },
    {
      "cell_type": "code",
      "metadata": {
        "colab": {
          "base_uri": "https://localhost:8080/",
          "height": 718
        },
        "id": "tyxI50jBO9wn",
        "outputId": "44b01c8e-1a51-41be-837a-a867367fa43b"
      },
      "source": [
        "train_data_now.tail()"
      ],
      "execution_count": 17,
      "outputs": [
        {
          "output_type": "execute_result",
          "data": {
            "text/html": [
              "<div>\n",
              "<style scoped>\n",
              "    .dataframe tbody tr th:only-of-type {\n",
              "        vertical-align: middle;\n",
              "    }\n",
              "\n",
              "    .dataframe tbody tr th {\n",
              "        vertical-align: top;\n",
              "    }\n",
              "\n",
              "    .dataframe thead th {\n",
              "        text-align: right;\n",
              "    }\n",
              "</style>\n",
              "<table border=\"1\" class=\"dataframe\">\n",
              "  <thead>\n",
              "    <tr style=\"text-align: right;\">\n",
              "      <th></th>\n",
              "      <th>excerpt</th>\n",
              "      <th>target</th>\n",
              "      <th>topic</th>\n",
              "      <th>site_-1</th>\n",
              "      <th>site_africanstorybook</th>\n",
              "      <th>site_ck12</th>\n",
              "      <th>site_co</th>\n",
              "      <th>site_commonlit</th>\n",
              "      <th>site_digitallibrary</th>\n",
              "      <th>site_ehe</th>\n",
              "      <th>site_freekidsbooks</th>\n",
              "      <th>site_frontiersin</th>\n",
              "      <th>site_google</th>\n",
              "      <th>site_uen</th>\n",
              "      <th>site_wikibooks</th>\n",
              "      <th>site_wikipedia</th>\n",
              "      <th>pre_-1</th>\n",
              "      <th>pre_0</th>\n",
              "      <th>pre_beyondpenguins</th>\n",
              "      <th>pre_drive</th>\n",
              "      <th>pre_emedia</th>\n",
              "      <th>pre_en</th>\n",
              "      <th>pre_kids</th>\n",
              "      <th>pre_simple</th>\n",
              "      <th>pre_sites</th>\n",
              "      <th>pre_static</th>\n",
              "      <th>pre_ukuqonda</th>\n",
              "      <th>pre_www</th>\n",
              "      <th>post_-1</th>\n",
              "      <th>post_com</th>\n",
              "      <th>post_io</th>\n",
              "      <th>post_org</th>\n",
              "      <th>post_osu</th>\n",
              "      <th>post_za</th>\n",
              "      <th>posts_-1</th>\n",
              "      <th>posts_0</th>\n",
              "      <th>posts_edu</th>\n",
              "      <th>type_</th>\n",
              "      <th>type_#</th>\n",
              "      <th>type_-1</th>\n",
              "      <th>type_article</th>\n",
              "      <th>type_beyondpenguins</th>\n",
              "      <th>type_book</th>\n",
              "      <th>type_courses</th>\n",
              "      <th>type_digicom</th>\n",
              "      <th>type_en</th>\n",
              "      <th>type_file</th>\n",
              "      <th>type_issue</th>\n",
              "      <th>type_sites</th>\n",
              "      <th>type_texts</th>\n",
              "      <th>type_wiki</th>\n",
              "      <th>type_wp-content</th>\n",
              "    </tr>\n",
              "  </thead>\n",
              "  <tbody>\n",
              "    <tr>\n",
              "      <th>2829</th>\n",
              "      <td>When you think of dinosaurs and where they liv...</td>\n",
              "      <td>1.711390</td>\n",
              "      <td>dinosaurs  text</td>\n",
              "      <td>0.0</td>\n",
              "      <td>0.0</td>\n",
              "      <td>0.0</td>\n",
              "      <td>0.0</td>\n",
              "      <td>0.0</td>\n",
              "      <td>0.0</td>\n",
              "      <td>1.0</td>\n",
              "      <td>0.0</td>\n",
              "      <td>0.0</td>\n",
              "      <td>0.0</td>\n",
              "      <td>0.0</td>\n",
              "      <td>0.0</td>\n",
              "      <td>0.0</td>\n",
              "      <td>0.0</td>\n",
              "      <td>0.0</td>\n",
              "      <td>0.0</td>\n",
              "      <td>0.0</td>\n",
              "      <td>0.0</td>\n",
              "      <td>0.0</td>\n",
              "      <td>0.0</td>\n",
              "      <td>0.0</td>\n",
              "      <td>1.0</td>\n",
              "      <td>0.0</td>\n",
              "      <td>0.0</td>\n",
              "      <td>0.0</td>\n",
              "      <td>0.0</td>\n",
              "      <td>0.0</td>\n",
              "      <td>0.0</td>\n",
              "      <td>0.0</td>\n",
              "      <td>1.0</td>\n",
              "      <td>0.0</td>\n",
              "      <td>0.0</td>\n",
              "      <td>0.0</td>\n",
              "      <td>1.0</td>\n",
              "      <td>0.0</td>\n",
              "      <td>0.0</td>\n",
              "      <td>0.0</td>\n",
              "      <td>0.0</td>\n",
              "      <td>1.0</td>\n",
              "      <td>0.0</td>\n",
              "      <td>0.0</td>\n",
              "      <td>0.0</td>\n",
              "      <td>0.0</td>\n",
              "      <td>0.0</td>\n",
              "      <td>0.0</td>\n",
              "      <td>0.0</td>\n",
              "      <td>0.0</td>\n",
              "      <td>0.0</td>\n",
              "      <td>0.0</td>\n",
              "    </tr>\n",
              "    <tr>\n",
              "      <th>2830</th>\n",
              "      <td>So what is a solid? Solids are usually hard be...</td>\n",
              "      <td>0.189476</td>\n",
              "      <td>solids</td>\n",
              "      <td>0.0</td>\n",
              "      <td>0.0</td>\n",
              "      <td>0.0</td>\n",
              "      <td>0.0</td>\n",
              "      <td>0.0</td>\n",
              "      <td>0.0</td>\n",
              "      <td>0.0</td>\n",
              "      <td>0.0</td>\n",
              "      <td>0.0</td>\n",
              "      <td>0.0</td>\n",
              "      <td>0.0</td>\n",
              "      <td>1.0</td>\n",
              "      <td>0.0</td>\n",
              "      <td>0.0</td>\n",
              "      <td>0.0</td>\n",
              "      <td>0.0</td>\n",
              "      <td>0.0</td>\n",
              "      <td>0.0</td>\n",
              "      <td>1.0</td>\n",
              "      <td>0.0</td>\n",
              "      <td>0.0</td>\n",
              "      <td>0.0</td>\n",
              "      <td>0.0</td>\n",
              "      <td>0.0</td>\n",
              "      <td>0.0</td>\n",
              "      <td>0.0</td>\n",
              "      <td>0.0</td>\n",
              "      <td>0.0</td>\n",
              "      <td>1.0</td>\n",
              "      <td>0.0</td>\n",
              "      <td>0.0</td>\n",
              "      <td>0.0</td>\n",
              "      <td>1.0</td>\n",
              "      <td>0.0</td>\n",
              "      <td>0.0</td>\n",
              "      <td>0.0</td>\n",
              "      <td>0.0</td>\n",
              "      <td>0.0</td>\n",
              "      <td>0.0</td>\n",
              "      <td>0.0</td>\n",
              "      <td>0.0</td>\n",
              "      <td>0.0</td>\n",
              "      <td>0.0</td>\n",
              "      <td>0.0</td>\n",
              "      <td>0.0</td>\n",
              "      <td>0.0</td>\n",
              "      <td>0.0</td>\n",
              "      <td>1.0</td>\n",
              "      <td>0.0</td>\n",
              "    </tr>\n",
              "    <tr>\n",
              "      <th>2831</th>\n",
              "      <td>The second state of matter we will discuss is ...</td>\n",
              "      <td>0.255209</td>\n",
              "      <td>liquids</td>\n",
              "      <td>0.0</td>\n",
              "      <td>0.0</td>\n",
              "      <td>0.0</td>\n",
              "      <td>0.0</td>\n",
              "      <td>0.0</td>\n",
              "      <td>0.0</td>\n",
              "      <td>0.0</td>\n",
              "      <td>0.0</td>\n",
              "      <td>0.0</td>\n",
              "      <td>0.0</td>\n",
              "      <td>0.0</td>\n",
              "      <td>1.0</td>\n",
              "      <td>0.0</td>\n",
              "      <td>0.0</td>\n",
              "      <td>0.0</td>\n",
              "      <td>0.0</td>\n",
              "      <td>0.0</td>\n",
              "      <td>0.0</td>\n",
              "      <td>1.0</td>\n",
              "      <td>0.0</td>\n",
              "      <td>0.0</td>\n",
              "      <td>0.0</td>\n",
              "      <td>0.0</td>\n",
              "      <td>0.0</td>\n",
              "      <td>0.0</td>\n",
              "      <td>0.0</td>\n",
              "      <td>0.0</td>\n",
              "      <td>0.0</td>\n",
              "      <td>1.0</td>\n",
              "      <td>0.0</td>\n",
              "      <td>0.0</td>\n",
              "      <td>0.0</td>\n",
              "      <td>1.0</td>\n",
              "      <td>0.0</td>\n",
              "      <td>0.0</td>\n",
              "      <td>0.0</td>\n",
              "      <td>0.0</td>\n",
              "      <td>0.0</td>\n",
              "      <td>0.0</td>\n",
              "      <td>0.0</td>\n",
              "      <td>0.0</td>\n",
              "      <td>0.0</td>\n",
              "      <td>0.0</td>\n",
              "      <td>0.0</td>\n",
              "      <td>0.0</td>\n",
              "      <td>0.0</td>\n",
              "      <td>0.0</td>\n",
              "      <td>1.0</td>\n",
              "      <td>0.0</td>\n",
              "    </tr>\n",
              "    <tr>\n",
              "      <th>2832</th>\n",
              "      <td>Solids are shapes that you can actually touch....</td>\n",
              "      <td>-0.215279</td>\n",
              "      <td>solids</td>\n",
              "      <td>0.0</td>\n",
              "      <td>0.0</td>\n",
              "      <td>0.0</td>\n",
              "      <td>0.0</td>\n",
              "      <td>0.0</td>\n",
              "      <td>0.0</td>\n",
              "      <td>0.0</td>\n",
              "      <td>0.0</td>\n",
              "      <td>0.0</td>\n",
              "      <td>0.0</td>\n",
              "      <td>0.0</td>\n",
              "      <td>1.0</td>\n",
              "      <td>0.0</td>\n",
              "      <td>0.0</td>\n",
              "      <td>0.0</td>\n",
              "      <td>0.0</td>\n",
              "      <td>0.0</td>\n",
              "      <td>0.0</td>\n",
              "      <td>1.0</td>\n",
              "      <td>0.0</td>\n",
              "      <td>0.0</td>\n",
              "      <td>0.0</td>\n",
              "      <td>0.0</td>\n",
              "      <td>0.0</td>\n",
              "      <td>0.0</td>\n",
              "      <td>0.0</td>\n",
              "      <td>0.0</td>\n",
              "      <td>0.0</td>\n",
              "      <td>1.0</td>\n",
              "      <td>0.0</td>\n",
              "      <td>0.0</td>\n",
              "      <td>0.0</td>\n",
              "      <td>1.0</td>\n",
              "      <td>0.0</td>\n",
              "      <td>0.0</td>\n",
              "      <td>0.0</td>\n",
              "      <td>0.0</td>\n",
              "      <td>0.0</td>\n",
              "      <td>0.0</td>\n",
              "      <td>0.0</td>\n",
              "      <td>0.0</td>\n",
              "      <td>0.0</td>\n",
              "      <td>0.0</td>\n",
              "      <td>0.0</td>\n",
              "      <td>0.0</td>\n",
              "      <td>0.0</td>\n",
              "      <td>0.0</td>\n",
              "      <td>1.0</td>\n",
              "      <td>0.0</td>\n",
              "    </tr>\n",
              "    <tr>\n",
              "      <th>2833</th>\n",
              "      <td>Animals are made of many cells. They eat thing...</td>\n",
              "      <td>0.300779</td>\n",
              "      <td>animals</td>\n",
              "      <td>0.0</td>\n",
              "      <td>0.0</td>\n",
              "      <td>0.0</td>\n",
              "      <td>0.0</td>\n",
              "      <td>0.0</td>\n",
              "      <td>0.0</td>\n",
              "      <td>0.0</td>\n",
              "      <td>0.0</td>\n",
              "      <td>0.0</td>\n",
              "      <td>0.0</td>\n",
              "      <td>0.0</td>\n",
              "      <td>1.0</td>\n",
              "      <td>0.0</td>\n",
              "      <td>0.0</td>\n",
              "      <td>0.0</td>\n",
              "      <td>0.0</td>\n",
              "      <td>0.0</td>\n",
              "      <td>0.0</td>\n",
              "      <td>1.0</td>\n",
              "      <td>0.0</td>\n",
              "      <td>0.0</td>\n",
              "      <td>0.0</td>\n",
              "      <td>0.0</td>\n",
              "      <td>0.0</td>\n",
              "      <td>0.0</td>\n",
              "      <td>0.0</td>\n",
              "      <td>0.0</td>\n",
              "      <td>0.0</td>\n",
              "      <td>1.0</td>\n",
              "      <td>0.0</td>\n",
              "      <td>0.0</td>\n",
              "      <td>0.0</td>\n",
              "      <td>1.0</td>\n",
              "      <td>0.0</td>\n",
              "      <td>0.0</td>\n",
              "      <td>0.0</td>\n",
              "      <td>0.0</td>\n",
              "      <td>0.0</td>\n",
              "      <td>0.0</td>\n",
              "      <td>0.0</td>\n",
              "      <td>0.0</td>\n",
              "      <td>0.0</td>\n",
              "      <td>0.0</td>\n",
              "      <td>0.0</td>\n",
              "      <td>0.0</td>\n",
              "      <td>0.0</td>\n",
              "      <td>0.0</td>\n",
              "      <td>1.0</td>\n",
              "      <td>0.0</td>\n",
              "    </tr>\n",
              "  </tbody>\n",
              "</table>\n",
              "</div>"
            ],
            "text/plain": [
              "                                                excerpt  ...  type_wp-content\n",
              "2829  When you think of dinosaurs and where they liv...  ...              0.0\n",
              "2830  So what is a solid? Solids are usually hard be...  ...              0.0\n",
              "2831  The second state of matter we will discuss is ...  ...              0.0\n",
              "2832  Solids are shapes that you can actually touch....  ...              0.0\n",
              "2833  Animals are made of many cells. They eat thing...  ...              0.0\n",
              "\n",
              "[5 rows x 52 columns]"
            ]
          },
          "metadata": {
            "tags": []
          },
          "execution_count": 17
        }
      ]
    },
    {
      "cell_type": "code",
      "metadata": {
        "id": "gc4xm2lEWOgO"
      },
      "source": [
        "def decontracted(phrase):\n",
        "  # specific\n",
        "  phrase = re.sub(r\"won't\", \"will not\", phrase)\n",
        "  phrase = re.sub(r\"can\\'t\", \"can not\", phrase)\n",
        "  # general\n",
        "  phrase = re.sub(r\"n\\'t\", \" not\", phrase)\n",
        "  phrase = re.sub(r\"\\'re\", \" are\", phrase)\n",
        "  phrase = re.sub(r\"\\'s\", \" is\", phrase)\n",
        "  phrase = re.sub(r\"\\'d\", \" would\", phrase)\n",
        "  phrase = re.sub(r\"\\'ll\", \" will\", phrase)\n",
        "  phrase = re.sub(r\"\\'t\", \" not\", phrase)\n",
        "  phrase = re.sub(r\"\\'ve\", \" have\", phrase)\n",
        "  phrase = re.sub(r\"\\'m\", \" am\", phrase)\n",
        "  phrase=re.sub(':',' ',phrase)\n",
        "  phrase=re.sub(',',' ',phrase)\n",
        "  phrase=re.sub(';',' ',phrase)\n",
        "  phrase=re.sub('\\\"',' ',phrase)\n",
        "  phrase=re.sub('\\\"\\\"',' ',phrase)\n",
        "  phrase=re.sub('\\(',' ',phrase)\n",
        "  phrase=re.sub('\\)',' ',phrase)\n",
        "  phrase=re.sub('=',' ',phrase)\n",
        "  phrase=re.sub('\\+',' ',phrase)\n",
        "  phrase=re.sub('\\~',' ',phrase)\n",
        "  phrase=re.sub('\\*',' ',phrase)\n",
        "  phrase=re.sub('\\%',' ',phrase)\n",
        "  phrase=re.sub('\\÷',' ',phrase)\n",
        "  phrase=re.sub('‘',' ',phrase)\n",
        "  phrase=re.sub('\\/',' ',phrase)\n",
        "  phrase=re.sub('\\'',' ',phrase)\n",
        "  phrase=re.sub('\\?',' ',phrase)\n",
        "  phrase=re.sub('!',' ',phrase)\n",
        "  phrase=re.sub('-',' ',phrase)\n",
        "  phrase=re.sub('_',' ',phrase)\n",
        "  phrase=re.sub('–',' ',phrase)\n",
        "  phrase=re.sub('—',' ',phrase)\n",
        "  phrase=re.sub('\\.',' ',phrase)\n",
        "  phrase=re.sub('\\[',' ',phrase)\n",
        "  phrase=re.sub('\\]',' ',phrase)\n",
        "  phrase=re.sub('[0-9]',' ',phrase)\n",
        "  phrase=re.sub('\\<',' ',phrase)\n",
        "  phrase=re.sub('\\&',' ',phrase)\n",
        "  phrase=re.sub('\\$',' ',phrase)\n",
        "  phrase=re.sub('\\\"bottom','bottom',phrase)\n",
        "  phrase=phrase.split(' ')\n",
        "  while '' in phrase:\n",
        "    phrase.remove('')\n",
        "  k=[]\n",
        "  for i in phrase:\n",
        "    k.append(unidecode.unidecode(i))\n",
        "  return(' '.join(k).lower())"
      ],
      "execution_count": 18,
      "outputs": []
    },
    {
      "cell_type": "code",
      "metadata": {
        "colab": {
          "base_uri": "https://localhost:8080/"
        },
        "id": "26gXJlCzXWhE",
        "outputId": "d84e8ad5-358a-4b66-f406-5ba0b9795ce1"
      },
      "source": [
        "for i in range(train_data_now.shape[0]):\n",
        "  train_data_now['excerpt'].iloc[i]=decontracted(train_data_now['excerpt'].iloc[i])"
      ],
      "execution_count": 19,
      "outputs": [
        {
          "output_type": "stream",
          "text": [
            "/usr/local/lib/python3.7/dist-packages/pandas/core/indexing.py:670: SettingWithCopyWarning: \n",
            "A value is trying to be set on a copy of a slice from a DataFrame\n",
            "\n",
            "See the caveats in the documentation: https://pandas.pydata.org/pandas-docs/stable/user_guide/indexing.html#returning-a-view-versus-a-copy\n",
            "  iloc._setitem_with_indexer(indexer, value)\n"
          ],
          "name": "stderr"
        }
      ]
    },
    {
      "cell_type": "code",
      "metadata": {
        "colab": {
          "base_uri": "https://localhost:8080/"
        },
        "id": "K0jf7rKbV4zJ",
        "outputId": "ac4754ba-65fe-4da2-c679-a1e6d6c58c3a"
      },
      "source": [
        "from collections import Counter\n",
        "from sklearn.preprocessing import normalize\n",
        "import math\n",
        "def Fit(corpus):\n",
        "    UniqueWords=set()\n",
        "    for sentences in corpus:\n",
        "        for words in sentences.split():\n",
        "            UniqueWords.add(words)\n",
        "    UniqueWords=sorted(list(UniqueWords))\n",
        "    print(len(UniqueWords))\n",
        "    print(UniqueWords)\n",
        "    return(UniqueWords)\n",
        "def IDF(corpus):\n",
        "    UniqueWords=Fit(corpus)\n",
        "    IDF_Matrix=dict()\n",
        "    for i in tqdm(UniqueWords):\n",
        "        count=0\n",
        "        for j in corpus:\n",
        "            if i in j.split():\n",
        "                count+=1\n",
        "        IDF_Matrix[i]=1+math.log(((1+len(corpus))/(1+count)))\n",
        "    return(IDF_Matrix)\n",
        "def TFIDF(corpus):\n",
        "    IDF_Matrix=IDF(corpus)\n",
        "    MatColumn=[]\n",
        "    for sentence in tqdm(corpus):\n",
        "        MatRow=[]\n",
        "        Row=dict(Counter(sentence.split()))\n",
        "        for UniqueWord in list(IDF_Matrix.keys()):\n",
        "            tfidf=0\n",
        "            for word,freq in Row.items():            \n",
        "                if UniqueWord==word:\n",
        "                    tfidf=(freq/len(sentence.split()))*(IDF_Matrix[word])\n",
        "            if tfidf!=0:\n",
        "              MatRow.append(tfidf)\n",
        "        MatColumn.append(MatRow)\n",
        "    return(MatColumn)\n",
        "corpus =TFIDF(train_data_now['excerpt'])"
      ],
      "execution_count": 20,
      "outputs": [
        {
          "output_type": "stream",
          "text": [
            "  0%|          | 3/26263 [00:00<14:43, 29.74it/s]"
          ],
          "name": "stderr"
        },
        {
          "output_type": "stream",
          "text": [
            "26263\n",
            "['\"bottom', '...', '1/2', '1/4', 'a', 'aa', 'aaauuuu', 'aah', 'aai', 'aaminah', 'aaron', 'aback', 'abagnale', 'abandon', 'abandoned', 'abandonment', 'abated', 'abbey', 'abbot', 'abbreviate', 'abbreviated', 'abbreviation', 'abc', 'abdomen', 'abe', 'abebe', 'abel', 'aberdonian', 'aberration', 'aberrations', 'abhor', 'abhorrence', 'abide', 'abides', 'abiding', 'abigail', 'abike', 'abilities', 'ability', 'abiogenic', 'abiotic', 'abject', 'ablation', 'ablaze', 'able', 'ablutions', 'ably', 'abnormal', 'aboard', 'abode', 'abolished', 'abolition', 'abortive', 'abound', 'abounded', 'abounds', 'about', 'above', 'abrade', 'abrahamic', 'abreast', 'abroad', 'abrupt', 'abruptly', 'absence', 'absent', 'absentees', 'absolute', 'absolutely', 'absolutism', 'absorb', 'absorbed', 'absorbing', 'absorbs', 'absorption', 'abstain', 'abstained', 'abstention', 'abstract', 'abstracted', 'abstraction', 'abstractions', 'absurd', 'absurdity', 'absurdly', 'abu', 'abuja', 'abula', 'abundance', 'abundant', 'abundantly', 'abuse', 'abused', 'abut', 'abydos', 'abyss', 'abyssal', 'ac', 'acacia', 'acacias', 'academia', 'academic', 'academicians', 'academy', 'acadian', 'accelerate', 'accelerated', 'accelerating', 'acceleration', 'accelerometer', 'accelerometers', 'accent', 'accents', 'accept', 'acceptance', 'accepted', 'access', 'accessed', 'accessible', 'accession', 'accessories', 'accident', 'accidentally', 'accidents', 'accommodate', 'accommodated', 'accommodating', 'accommodation', 'accompanied', 'accompanies', 'accompany', 'accompanying', 'accomplices', 'accomplish', 'accomplished', 'accomplishes', 'accomplishing', 'accomplishment', 'accomplishments', 'accord', 'accordance', 'accorded', 'according', 'accordingly', 'accordion', 'accosted', 'account', 'accountant', 'accounted', 'accounting', 'accounts', 'accoutrements', 'accredit', 'accredited', 'accumulate', 'accumulated', 'accumulating', 'accumulation', 'accumulations', 'accuracy', 'accurate', 'accurately', 'accusation', 'accusations', 'accuse', 'accused', 'accusing', 'accustomed', 'accustoming', 'acetic', 'acetylene', 'achaemenid', 'achaemenides', 'achaian', 'achaians', 'ache', 'ached', 'aches', 'achieve', 'achieved', 'achievement', 'achievements', 'achieves', 'achieving', 'aching', 'acid', 'acidic', 'acids', 'acknowledge', 'acknowledged', 'acme', 'acorn', 'acoustics', 'acquaintance', 'acquaintances', 'acquainted', 'acquiesced', 'acquire', 'acquired', 'acquirement', 'acquires', 'acquiring', 'acquisition', 'acre', 'acres', 'acrid', 'acrobat', 'acrobatic', 'acronym', 'across', 'act', 'acted', 'acting', 'action', 'actions', 'activate', 'activated', 'activates', 'activating', 'activation', 'activators', 'active', 'actively', 'activist', 'activists', 'activities', 'activity', 'acton', 'actor', 'actors', 'actress', 'acts', 'actual', 'actually', 'actuated', 'actuation', 'actuators', 'acuity', 'acuminata', 'acute', 'acuteness', 'ad', 'adage', 'adam', 'adamant', 'adams', 'adapt', 'adaptability', 'adaptation', 'adapted', 'adapting', 'adaptive', 'adapts', 'add', 'added', 'addicted', 'addiction', 'adding', 'addition', 'additional', 'additionally', 'additions', 'additive', 'address', 'addressed', 'addresses', 'addressing', 'adds', 'adela', 'adelaide', 'adelbert', 'adena', 'adenine', 'adequate', 'adequately', 'adhd', 'adherent', 'adherents', 'adhering', 'adhesion', 'adieu', 'adjacent', 'adjective', 'adjoined', 'adjoining', 'adjudicate', 'adjust', 'adjustable', 'adjusted', 'adjusting', 'adjustment', 'adjusts', 'administer', 'administered', 'administration', 'administrative', 'administrator', 'administrators', 'admirable', 'admirably', 'admiral', 'admirals', 'admiralty', 'admiration', 'admire', 'admired', 'admirer', 'admirers', 'admires', 'admiring', 'admiringly', 'admissibility', 'admission', 'admit', 'admits', 'admittance', 'admitted', 'admixture', 'admonitions', 'adobe', 'adolay', 'adolescence', 'adolescent', 'adolescents', 'adolf', 'adolphe', 'adopt', 'adopted', 'adopting', 'adoption', 'adorable', 'adored', 'adoring', 'adorn', 'adorned', 'adrenaline', 'adrian', 'adriana', 'adrianople', 'adriatic', 'adulation', 'adult', 'adulthood', 'adults', 'advance', 'advanced', 'advancement', 'advancements', 'advances', 'advancing', 'advantage', 'advantageous', 'advantages', 'advent', 'adventure', 'adventures', 'adventurous', 'adversary', 'adverse', 'adversity', 'advertise', 'advertised', 'advertisement', 'advertisements', 'advertising', 'advice', 'advisable', 'advise', 'advised', 'adviser', 'advisors', 'advisory', 'advocate', 'advocated', 'advocates', 'adytum', 'aed', 'aedui', 'aegean', 'aegeus', 'aegidus', 'aemilius', 'aeneas', 'aeolian', 'aequians', 'aerial', 'aerodynamic', 'aerodynamics', 'aerogenerator', 'aeronaut', 'aeroplane', 'aeroplanes', 'aerosol', 'aerosols', 'aerostation', 'aershimana', 'aeschylus', 'aethra', 'afar', 'afeefah', 'affair', 'affairs', 'affect', 'affectation', 'affected', 'affecting', 'affection', 'affectionate', 'affectionately', 'affections', 'affects', 'affinity', 'affirmed', 'affixed', 'afflict', 'afflicted', 'affliction', 'afflicts', 'afford', 'affordable', 'afforded', 'affording', 'affords', 'affrighted', 'aflame', 'afloat', 'afoot', 'aforesaid', 'afraid', 'africa', 'african', 'africans', 'aft', 'after', 'aftermath', 'afternoon', 'afternoons', 'afterthought', 'afterward', 'afterwards', 'again', 'against', 'agamemnon', 'agar', 'agatha', 'agave', 'age', 'aged', 'agencies', 'agency', 'agent', 'agents', 'agers', 'ages', 'agglomerated', 'agglomerating', 'aggravated', 'aggravating', 'aggregate', 'aggregates', 'aggregations', 'aggression', 'aggressive', 'aggressiveness', 'aggressors', 'aghast', 'agile', 'agility', 'agin', 'aging', 'agitated', 'agitation', 'agitator', 'ago', 'agony', 'agora', 'agoraphobia', 'agorazo', 'agoreuo', 'agrarian', 'agree', 'agreeable', 'agreeably', 'agreed', 'agreeing', 'agreement', 'agreements', 'agrees', 'agri', 'agricola', 'agricultural', 'agriculture', 'agrobacterium', 'agrochemistry', 'agrology', 'agrophysics', 'aguecheek', 'ah', 'aha', 'ahead', 'ahem', 'ahenobarbus', 'ahoy', 'ai', 'aicd', 'aid', 'aided', 'aides', 'aidoneus', 'aids', 'aih', 'ailinn', 'ailments', 'aim', 'aimed', 'aiming', 'aimlessly', 'aims', 'aina', 'aint', 'air', 'airbnb', 'airborne', 'aircraft', 'aired', 'airfields', 'airily', 'airing', 'airlock', 'airplane', 'airplanes', 'airports', 'airs', 'airship', 'airspace', 'airway', 'airways', 'airy', 'aisle', 'ajar', 'ajoh', 'akaki', 'akatope', 'akela', 'akin', 'akkadian', 'akkadians', 'akpupa', 'aksionov', 'al', 'alabama', 'alabamian', 'alabaster', 'alacrity', 'aladdin', 'alan', 'alarm', 'alarmed', 'alarming', 'alarmist', 'alarms', 'alarums', 'alas', 'alaska', 'alaskan', 'alauzet', 'albania', 'albany', 'albastretch', 'albeit', 'albemarle', 'alberca', 'albert', 'albin', 'albro', 'albumenized', 'albumin', 'albuminates', 'albuminoid', 'albums', 'alcinous', 'alcohol', 'alcoholic', 'alcoholics', 'alcohols', 'alcott', 'alcove', 'alden', 'alderboughs', 'aldini', 'aldrich', 'ale', 'alec', 'alene', 'alert', 'alessandro', 'alewives', 'alex', 'alexander', 'alexandria', 'alfred', 'alga', 'algae', 'algal', 'algebraic', 'algiers', 'algorithm', 'algorithms', 'ali', 'alibi', 'alice', 'alidade', 'alidades', 'alien', 'alies', 'alight', 'alighted', 'aligned', 'alignment', 'alike', 'alimentary', 'alington', 'alive', 'alizarin', 'alizarine', 'alizarins', 'alka', 'alkali', 'alkaline', 'alkaloids', 'all', 'allan', 'allay', 'alle', 'allee', 'allegation', 'allege', 'alleged', 'allegheny', 'allegiance', 'allegorical', 'allele', 'alleles', 'allen', 'allergen', 'allergens', 'allergic', 'allergy', 'alleviate', 'alleviated', 'alleyne', 'alleys', 'allg', 'alliance', 'alliances', 'allied', 'allies', 'allobroges', 'allobrogicus', 'allocated', 'allotropes', 'allotropic', 'allotted', 'allow', 'allowable', 'allowance', 'allowed', 'allowing', 'allows', 'alloy', 'alloying', 'alloys', 'alluded', 'alluring', 'allusion', 'allusions', 'alluvial', 'ally', 'alm', 'almanac', 'almayer', 'almighty', 'almonds', 'almost', 'alms', 'aloft', 'aloha', 'alone', 'along', 'alongside', 'aloof', 'aloud', 'alpaca', 'alph', 'alpha', 'alphabet', 'alphabetic', 'alphabets', 'alpine', 'alps', 'already', 'alright', 'alsace', 'also', 'altamira', 'altar', 'altars', 'alteneck', 'alter', 'alteration', 'alterations', 'altered', 'altering', 'alternate', 'alternately', 'alternating', 'alternative', 'alternatively', 'alternatives', 'alters', 'althing', 'although', 'altimeters', 'altitude', 'altogether', 'alumina', 'aluminum', 'alumni', 'alveoli', 'always', 'alyosha', 'alzheimer', 'am', 'amahewu', 'amalgamated', 'amara', 'amateur', 'amazed', 'amazement', 'amazing', 'amazingly', 'amazon', 'amazonia', 'ambassador', 'ambassadors', 'amber', 'amberg', 'ambiguities', 'ambition', 'ambitions', 'ambitious', 'ambling', 'ambrosius', 'ambulance', 'ambulando', 'amd', 'ameat', 'ameliorations', 'amend', 'amendment', 'amendments', 'amends', 'america', 'american', 'americanism', 'americans', 'americas', 'amethysts', 'amf', 'amfo', 'amiable', 'amid', 'amidships', 'amidst', 'amiens', 'amino', 'ammi', 'ammonia', 'ammoniacal', 'ammonite', 'ammonites', 'ammonium', 'ammunition', 'amnesia', 'among', 'amongst', 'amorous', 'amorphism', 'amorphous', 'amory', 'amount', 'amounted', 'amounting', 'amounts', 'amperes', 'ampex', 'amphibians', 'amphibious', 'amphitheatre', 'amphitheatrum', 'ample', 'amplified', 'amplifier', 'amplifiers', 'amplifies', 'amplitude', 'amply', 'amsterdam', 'amuse', 'amused', 'amusement', 'amusements', 'amusing', 'amy', 'amyas', 'amygdala', 'amyitis', 'amyl', 'amylase', 'an', 'anabolism', 'anaconda', 'anaerobes', 'anaerobic', 'analog', 'analogies', 'analogous', 'analogue', 'analogy', 'analysed', 'analyses', 'analysis', 'analytical', 'analytics', 'analyze', 'analyzed', 'analyzing', 'anana', 'anansi', 'anaphase', 'anatolia', 'anatomical', 'anatomically', 'anatomy', 'anc', 'ancestor', 'ancestors', 'ancestral', 'ancestress', 'ancestry', 'anchises', 'anchor', 'anchored', 'ancient', 'ancients', 'and', 'andean', 'anderson', 'andes', 'andiswa', 'andorra', 'andre', 'andrea', 'andrew', 'andrews', 'andrey', 'android', 'androids', 'andromeda', 'andros', 'andy', 'anecdote', 'anecdotes', 'anemia', 'anemone', 'anemones', 'anesthesia', 'anew', 'anfissa', 'angel', 'angelica', 'angelo', 'angels', 'anger', 'angle', 'angler', 'angles', 'anglia', 'angling', 'anglo', 'angola', 'angrier', 'angrily', 'angry', 'anguish', 'angular', 'angularity', 'aniline', 'animal', 'animalcules', 'animals', 'animated', 'animating', 'animation', 'animations', 'animator', 'animistic', 'animosity', 'anion', 'anions', 'anise', 'anita', 'ankh', 'ankle', 'ankles', 'ann', 'anna', 'annals', 'annan', 'anne', 'annelids', 'annetta', 'annex', 'annexation', 'annexe', 'annexes', 'annie', 'annihilated', 'annihilation', 'anniversary', 'annotated', 'announce', 'announced', 'announcement', 'announcer', 'announcing', 'annoy', 'annoyance', 'annoyances', 'annoyed', 'annoying', 'annual', 'annular', 'annunciator', 'anode', 'anok', 'anomalies', 'another', 'anr', 'answer', 'answered', 'answering', 'answers', 'ant', 'antagonism', 'antagonistic', 'antarctic', 'antarctica', 'ante', 'antebellum', 'antedated', 'antelope', 'antenna', 'antennae', 'antennas', 'anteroom', 'anthocyanin', 'anthony', 'anthracine', 'anthracite', 'anthropogenic', 'anthropologist', 'anthropology', 'anti', 'antibiotic', 'antibiotics', 'antibodies', 'anticipate', 'anticipated', 'anticipating', 'anticipation', 'antifungals', 'antigens', 'antinous', 'antioch', 'antioxidant', 'antiparticle', 'antiphase', 'antiquated', 'antique', 'antiques', 'antiquity', 'antiseptic', 'antitachycardia', 'antitrust', 'antivirus', 'antlers', 'antlia', 'antoine', 'anton', 'antonia', 'ants', \"ants'\", 'antwerp', 'anu', 'anura', 'anus', 'anvil', 'anxieties', 'anxiety', 'anxious', 'anxiously', 'any', 'anyang', 'anybody', 'anyhow', 'anymore', 'anyone', 'anything', 'anytime', 'anyway', 'anywhere', 'anzacs', 'apace', 'apart', 'apartment', 'apartments', 'apathy', 'ape', 'aperture', 'apertures', 'apes', 'apex', 'aphelion', 'aphid', 'aphides', 'aphids', 'aphis', 'apian', 'apiece', 'apiyo', 'apollo', 'apollonie', 'apologies', 'apologised', 'apologize', 'apology', 'apoptosis', 'apostrophe', 'apothecary', 'app', 'appalled', 'appalling', 'apparatus', 'apparatuses', 'apparel', 'apparent', 'apparently', 'apparition', 'apparitional', 'apparitions', 'appeal', 'appealing', 'appear', 'appearance', 'appearances', 'appeared', 'appearing', 'appears', 'append', 'appendages', 'appendix', 'appertaining', 'appetite', 'appius', 'applauded', 'applause', 'apple', 'appledore', 'apples', 'appleton', 'appliance', 'applicable', 'application', 'applications', 'applied', 'applies', 'apply', 'applying', 'appoint', 'appointed', 'appointment', 'appointments', 'appreciable', 'appreciate', 'appreciated', 'appreciating', 'appreciation', 'apprehend', 'apprehended', 'apprehension', 'apprentice', 'apprentices', 'apprenticeship', 'apprised', 'approach', 'approached', 'approaches', 'approaching', 'appropriate', 'appropriating', 'appropriation', 'approval', 'approve', 'approved', 'approves', 'approving', 'approximately', 'approximation', 'approximations', 'apps', 'april', 'apron', 'aprons', 'apt', 'aptest', 'aqua', 'aquarium', 'aquatic', 'aqueduct', 'aqueous', 'aquifers', 'aquiver', 'ar', 'arab', 'arabella', 'arabia', 'arabian', 'arabic', 'arable', 'araminta', 'arbiter', 'arbitral', 'arbitrament', 'arbitrary', 'arboreal', 'arbuscular', 'arbutus', 'arc', 'arcadia', 'arch', 'archaea', 'archaeological', 'archaeologist', 'archaeologists', 'archaeology', 'archaic', 'archangel', 'archbishop', 'archducal', 'archduke', 'arched', 'archer', 'arches', 'archibald', 'archimedes', 'arching', 'architect', 'architects', 'architectural', 'architecture', 'architectures', 'archives', 'archway', 'arctic', 'ardent', 'ardently', 'ardour', 'arduous', 'are', 'area', 'areas', 'areaway', \"aren't\", 'arena', 'arenas', 'ares', 'arete', 'argentine', 'argo', 'argon', 'arguably', 'argue', 'argued', 'argues', 'arguing', 'argument', 'argumentative', 'arguments', 'argyle', 'arhangelovatz', 'arid', 'ariel', 'aright', 'arioald', 'arise', 'arisen', 'arises', 'arising', 'aristaeus', 'aristocracy', 'aristocratic', 'aristocratically', 'aristocrats', 'aristos', 'aristotelian', 'aristotle', 'arita', 'arithmetic', 'arizona', 'ark', 'arkady', 'arkadyevitch', 'arkansas', 'arkasha', 'arkham', 'arkwright', 'arlen', 'arm', 'armaments', 'armand', 'armature', 'armchair', 'armchairs', 'armed', 'armee', 'armenia', 'armful', 'armies', 'arming', 'armitage', 'armlets', 'armor', 'armored', 'armory', 'armour', 'armoury', 'arms', 'army', 'arnall', 'aroma', 'aromatic', 'arose', 'around', 'aroused', 'arpanet', 'arrange', 'arranged', 'arrangement', 'arrangements', 'arranging', 'array', 'arrayed', 'arrays', 'arrest', 'arrested', 'arrhenius', 'arrhythmias', 'arrival', 'arrive', 'arrived', 'arrives', 'arriving', 'arrogant', 'arrow', 'arrows', 'arsenal', 'arsenic', 'arson', 'art', 'artemus', 'arterial', 'arteries', 'artful', 'arthropods', 'arthur', 'article', 'articles', 'articulate', 'articulation', 'artie', 'artifacts', 'artificial', 'artificially', 'artillery', 'artisans', 'artist', 'artistic', 'artistically', 'artists', 'arts', 'artworks', 'aru', 'arverni', 'as', 'asa', 'asafoetida', 'asbestos', 'ascend', 'ascended', 'ascending', 'ascensional', 'ascent', 'ascertain', 'ascertained', 'ascertaining', 'ascorbic', 'ascribed', 'ase', 'asexual', 'asexually', 'asgard', 'ash', 'ashamed', 'ashby', 'ashe', 'ashen', 'ashes', 'ashiepattle', 'ashley', 'ashore', 'ashton', 'asia', 'asiago', 'asian', 'asiatic', 'aside', 'ask', 'askaris', 'asked', 'asking', 'asks', 'asleep', 'asolone', 'aspect', 'aspects', 'aspen', 'asperities', 'aspirant', 'aspiration', 'aspirations', 'aspire', 'aspired', 'asquith', 'ass', 'assailants', 'assailed', 'assassins', 'assaulted', 'assaults', 'assemblage', 'assemblages', 'assemble', 'assembled', 'assembles', 'assemblies', 'assembling', 'assembly', 'assent', 'assented', 'assert', 'asserted', 'asserting', 'assertion', 'asserts', 'asses', 'assess', 'assessed', 'asset', 'assets', 'assiduity', 'assign', 'assigned', 'assigning', 'assignments', 'assimilates', 'assist', 'assistance', 'assistant', 'assistants', 'assisted', 'assisting', 'associate', 'associated', 'associates', 'association', 'associations', 'assorted', 'assortment', 'assume', 'assumed', 'assuming', 'assurance', 'assurances', 'assure', 'assured', 'assuredly', 'assuring', 'assyrian', 'assyrians', 'asteriscii', 'asteroid', 'asteroids', 'asters', 'asthenosphere', 'asthma', 'asthmatic', 'astir', 'astm', 'astonish', 'astonished', 'astonishing', 'astonishment', 'astounded', 'astounding', 'astray', 'astride', 'astrologer', 'astrologers', 'astrometry', 'astron', 'astronaut', 'astronauts', 'astronomer', 'astronomers', 'astronomical', 'astronomy', 'astrophysicists', 'astrophysics', 'astuvansalmi', 'asunder', 'asylums', 'asymmetric', 'at', 'ata', 'atacama', 'atb', 'atbara', 'atchar', 'ate', 'atennas', 'athelbrus', 'athene', 'athenian', 'athenians', 'athens', 'athlete', 'athletes', 'athletic', 'athletics', 'atieno', 'atkins', 'atlanta', 'atlantic', 'atlas', 'atmosphere', 'atmospheres', 'atmospheric', 'atom', 'atomic', 'atomized', 'atoms', 'atone', 'atoning', 'atop', 'atp', 'atri', 'atria', 'atrocious', 'ats', 'attach', 'attached', 'attaches', 'attaching', 'attachment', 'attack', 'attacked', 'attackers', 'attacking', 'attacks', 'attain', 'attained', 'attainment', 'attempt', 'attempted', 'attempting', 'attempts', 'attend', 'attendance', 'attendants', 'attended', 'attending', 'attends', 'attention', 'attentions', 'attentive', 'attentively', 'attenuated', 'attested', 'attic', 'attica', 'attila', 'attilius', 'attire', 'attired', 'attitude', 'attitudes', 'attract', 'attracted', 'attracting', 'attraction', 'attractions', 'attractive', 'attractiveness', 'attracts', 'attributable', 'attribute', 'attributed', 'attributes', 'aubigny', 'aubignys', 'aubrey', 'auction', 'auctioneer', 'audacity', 'audible', 'audibly', 'audience', 'audiences', 'audio', 'audiobook', 'auditor', 'auditory', 'auersperg', 'aug', 'augmentation', 'augmented', 'augmenting', 'augured', 'augury', 'august', 'augusta', 'auguste', 'augustin', 'augustine', 'auk', 'aunt', 'auntie', 'aunts', 'aunty', 'aural', 'aureole', 'aureum', 'aurignacian', 'aurora', 'austere', 'austerity', 'austin', 'australasia', 'australia', 'australian', 'australopithecus', 'austria', 'austrian', 'austrians', 'austro', 'authentic', 'authenticate', 'authenticity', 'author', 'authorities', 'authority', 'authorization', 'authorized', 'authorizes', 'authors', 'authorship', 'autism', 'autistic', 'auto', 'autobiography', 'autocracy', 'autocrat', 'autocratic', 'automate', 'automated', 'automatic', 'automatically', 'automobile', 'automobiles', 'autonomy', 'autopilots', 'autumn', 'autumnal', 'auwwwh', 'auxiliary', 'avail', 'availability', 'available', 'avails', 'avalanche', 'avalanches', 'avatar', 'avaungwa', 'avenant', 'avenine', 'avenue', 'avenues', 'aver', 'average', 'averaged', 'averages', 'averaging', 'aversive', 'avert', 'averting', 'aves', 'aviation', 'aviator', 'aviators', 'avidity', 'avlona', 'avocados', 'avoid', 'avoided', 'avoiding', 'avonlea', 'avonley', 'avowing', 'awaited', 'awaiting', 'awake', 'awaken', 'awakened', 'awakening', 'awakenings', 'award', 'awarded', 'awarding', 'awards', 'aware', 'away', 'awe', 'awed', 'awesome', 'awful', 'awfully', 'awhile', 'awkward', 'awkwardly', 'awkwardness', 'awl', 'awning', 'awnings', 'awoke', 'ax', 'axe', 'axes', 'axis', 'axle', 'axon', 'axons', 'ay', 'aya', 'ayanda', 'ayator', 'aylmer', 'aymon', 'ayo', 'azerbaijan', 'azimuths', 'azores', 'azure', 'b', 'baa', 'baba', 'babbie', 'babbitt', 'babble', 'babbled', 'babbling', 'babe', 'babel', 'babette', 'babies', 'baboon', 'baboons', 'baby', 'babylon', 'babylonia', 'babylonian', 'babylonians', 'bach', 'bachelor', 'bacillus', 'back', 'backboard', 'backbone', 'backed', 'background', 'backgrounds', 'backing', 'backlit', 'backman', 'backpack', 'backpacking', 'backs', 'backward', 'backwards', 'backwoods', 'backyard', 'bacon', 'bacteria', 'bacterial', 'bacteriophages', 'bacteriorhodopsin', 'bacterium', 'bad', 'bade', 'baden', 'badge', 'badger', 'badgers', 'badges', 'badische', 'badly', 'badroulboudour', 'baffled', 'bag', 'bagdad', 'baggage', 'bagging', 'baghdad', 'bags', 'bah', 'bahama', 'baikal', 'bailey', 'bailiff', 'bailing', 'bain', 'bainbridge', 'bait', 'baited', 'baits', 'bajazzo', 'bake', 'baked', 'bakehouse', 'baker', 'bakeries', 'bakers', 'bakery', 'baking', 'baku', 'balance', 'balances', 'balancing', 'balbao', 'balconies', 'balcony', 'bald', 'baldwin', 'bale', 'balkan', 'balkans', 'ball', 'ballast', 'ballet', 'balli', 'ballindrochater', 'balloon', 'balloons', 'ballot', 'ballots', 'ballroom', 'balls', 'balm', 'balsam', 'balsams', 'baltic', 'baltimore', 'balustrade', 'bamboo', 'bamboos', 'ban', 'banana', 'bananas', 'band', 'bandage', 'bandages', 'bandit', 'bandits', 'bands', 'bandsmen', 'bandwidth', 'bang', 'banged', 'banging', 'bangladesh', 'banished', 'bank', 'banked', 'banker', 'banking', 'banks', 'bann', 'banned', 'banner', 'banning', 'banns', 'banque', 'banquet', 'banqueting', 'banquette', 'bantam', 'banter', 'banty', 'baptist', 'baptized', 'bar', 'barbara', 'barbarian', 'barbed', 'barber', 'barcelona', 'bardolph', 'bare', 'barefoot', 'bareheaded', 'barely', 'barents', 'bargain', 'bargained', 'bargaining', 'barge', 'barges', 'bark', 'barked', 'barkhampstead', 'barking', 'barks', 'barley', 'barlow', 'barn', 'barnacle', 'barnacles', 'barnard', 'barnbougle', 'barns', 'barnyard', 'barometers', 'baron', 'baroness', 'baronets', 'baronial', 'barons', 'barony', 'barracks', 'barrage', 'barred', 'barrel', 'barrels', 'barren', 'barrenest', 'barrens', 'barrere', 'barrett', 'barricades', 'barrie', 'barrier', 'barriers', 'barring', 'barrow', 'barrows', 'barry', 'bars', 'bartleby', 'barton', 'barwell', 'baryonic', 'basal', 'basalt', 'bascom', 'base', 'baseball', 'baseband', 'based', 'baseline', 'basely', 'basement', 'baseness', 'bases', 'basha', 'bashful', 'basic', 'basically', 'basics', 'basil', 'basilica', 'basin', 'basins', 'basis', 'basked', 'basket', 'basketball', 'basketful', 'baskets', 'basque', 'bass', 'bassie', 'bastion', 'bat', 'batch', 'batches', 'bateman', 'batfish', 'bath', 'bathe', 'bathed', 'bathers', 'bathes', 'bathing', 'batholiths', 'bathroom', 'baths', 'bats', 'battalion', 'battalions', 'battered', 'batteries', 'battery', 'battle', 'battled', 'battlefield', 'battlefields', 'battles', 'battleship', 'baudrimont', 'bavaria', 'bawling', 'bawth', 'bay', 'bayard', 'bayberry', 'baying', 'bayonet', 'bayonets', 'bayou', 'bays', 'bazaar', 'bazaars', 'bbd', 'bc', 'bce', 'bcg', 'bda', 'be', 'beach', 'beaches', 'beacon', 'beacons', 'bead', 'beads', 'beak', 'beaked', 'beaker', 'beaks', 'beam', 'beamed', 'beaming', 'beams', 'bean', 'beans', 'beanstalk', 'bear', 'beard', 'bearded', 'beards', 'bearer', 'bearing', 'bearings', 'bears', 'beast', 'beasts', 'beat', 'beaten', 'beaters', 'beating', 'beatitude', 'beats', 'beatty', 'beau', 'beaufort', 'beauties', 'beautiful', 'beautifully', 'beauty', 'beaver', 'bebee', 'becalmed', 'became', 'because', 'beck', 'beckon', 'beckoning', 'becky', 'beclouded', 'become', 'becomes', 'becoming', 'becquerel', 'bed', 'bedawin', 'bedazzled', 'bedchamber', 'bedclothes', 'bedding', 'beddingfeld', 'bede', 'bedewed', 'bedford', 'bedilu', 'bedraggled', 'bedrock', 'bedroom', 'bedrooms', 'beds', 'bedside', 'bedsteads', 'bedtime', 'bee', 'beech', 'beecher', 'beeches', 'beechwood', 'beef', 'beehive', 'beeline', 'been', 'beep', 'beep...vroom', 'beer', 'bees', 'beeswax', 'beethoven', 'beetle', 'beetles', 'beetling', 'beets', 'befall', 'befallen', 'befitted', 'befool', 'befooled', 'befooling', 'before', 'beforehand', 'befriended', 'beg', 'began', 'beggar', 'beggars', 'begged', 'begging', 'begin', 'beginning', 'beginnings', 'begins', 'begone', 'begotten', 'begrimed', 'begs', 'beguiling', 'begun', 'beh', 'behave', 'behaved', 'behaves', 'behaving', 'behavior', 'behavioral', 'behaviors', 'behaviour', 'beheld', 'behest', 'behind', 'behold', 'being', 'beings', 'bela', 'belabor', 'belated', 'beleaguered', 'belfast', 'belfry', 'belgian', 'belgians', 'belgium', 'belgrade', 'belief', 'beliefs', 'believe', 'believed', 'believer', 'believes', 'believing', 'belinda', 'bell', 'belle', 'bellies', 'belligerent', 'belligerents', 'bellison', 'bello', 'bellow', 'bellowed', 'bellowings', 'bellows', 'bells', 'bellum', 'belly', 'belong', 'belonged', 'belonging', 'belongings', 'belongs', 'beloved', 'below', 'belt', 'belted', 'belting', 'belts', 'belvedere', 'bemis', 'ben', 'benbow', 'bench', 'benches', 'bend', 'bending', 'bends', 'beneath', 'benediction', 'benefactor', 'beneficent', 'beneficial', 'beneficially', 'benefit', 'benefited', 'benefiting', 'benefits', 'benevolence', 'bengal', 'benjamin', 'bennell', 'bennet', 'bennett', 'benny', 'benson', 'bent', 'bentley', 'bentleyville', 'benton', 'benzathine', 'benzene', 'benzine', 'benzol', 'bepuzzlement', 'bergeron', 'bergson', 'berhe', 'bering', 'berlichingen', 'berlin', 'bernard', 'berners', 'bernhardi', 'bernstorff', 'berries', 'berry', 'bert', 'berth', 'bertha', 'berthelot', 'berths', 'bertie', 'beryl', 'beseech', 'beset', 'beside', 'besides', 'besieged', 'besieging', 'besought', 'bespeaking', 'bess', 'bessel', 'bessie', 'best', 'bestir', 'bestowed', 'bestrode', 'bet', 'beta', 'betake', 'betaken', 'bethlehem', 'bethmann', 'bethought', 'betoken', 'betokened', 'betray', 'betrayed', 'betrays', 'bets', 'betsey', 'better', 'betters', 'betty', 'between', 'beuve', 'beverages', 'beware', 'bewildered', 'bewilderment', 'bewitched', 'bewitches', 'bewitching', 'beyond', 'bhabhloo', 'bhavani', 'bheka', 'bhisho', 'bhujar', 'bias', 'biased', 'bib', 'bibi', 'bible', 'biblical', 'bibliographical', 'bibliographies', 'bibury', 'bicarbonate', 'bicarbonates', 'bichromate', 'bicycle', 'bicycles', 'bicycling', 'bicyclist', 'bicyclists', 'bid', 'bidden', 'bidders', 'bidding', 'biddy', 'biennial', 'bier', 'biffen', 'biffens', 'big', 'bigger', 'biggest', 'bike', 'bilge', 'bilhah', 'bill', 'billboards', 'billed', 'billet', 'billets', 'billette', 'billiard', 'billie', 'billion', 'billions', 'billionths', 'billowed', 'bills', 'billy', 'bin', 'binary', 'bind', 'binding', 'bindings', 'binds', 'bingley', 'bini', 'binocular', 'binomial', 'binoxide', 'bins', 'bintang', 'bio', 'bioavailability', 'biochemical', 'biochemist', 'biochemistry', 'biodegradable', 'biodiesel', 'biodiversity', 'bioenergy', 'biofilm', 'biofilms', 'biofuel', 'biographer', 'bioheat', 'biohydrogen', 'biological', 'biologically', 'biologists', 'biology', 'bioluminescence', 'bioluminescent', 'biomarker', 'biomarkers', 'biomass', 'biomaterial', 'biomaterials', 'biome', 'biomedical', 'biomes', 'biomimetics', 'biophysics', 'biosphere', 'biotechnological', 'biotechnology', 'biotic', 'bipartisan', 'bipeds', 'biplane', 'bipolar', 'birch', 'birchbark', 'birches', 'bird', 'birdie', 'birdies', 'birds', 'birkabeyn', 'birmingham', 'birth', 'birthday', 'birthdays', 'birthmarks', 'birthplace', 'birthrate', 'birthright', 'biryani', 'biscuit', 'biscuits', 'bishop', 'bismarck', 'bismuth', 'bison', 'bit', 'bit...', 'bitcoin', 'bite', 'bites', 'biting', 'bits', 'bitten', 'bitter', 'bitterly', 'bitterness', 'bituitus', 'bitumen', 'bivouac', 'bjarni', 'black', 'blackberry', 'blackbird', 'blackbirds', 'blackboard', 'blacked', 'blackened', 'blacker', 'blackford', 'blackfriars', 'blackie', 'blacking', 'blacklight', 'blackness', 'blackout', 'blackrock', 'blacks', 'blacksmith', 'blacky', 'blade', 'bladed', 'blades', 'blaise', 'blake', 'blakeley', 'blame', 'blamed', 'blameless', 'blaming', 'blanchard', 'bland', 'blandishments', 'blaney', 'blank', 'blanket', 'blankets', 'blankness', 'blanks', 'blase', 'blast', 'blasts', 'blaze', 'blazed', 'blazing', 'ble', 'bleach', 'bleached', 'bleaching', 'bleak', 'bleat', 'bleating', 'bleed', 'bleeding', 'blemish', 'blemishes', 'blend', 'blended', 'blending', 'blends', 'bless', 'blessed', 'blessing', 'blessings', 'blew', 'bligh', 'blind', 'blindfold', 'blindfolded', 'blinding', 'blindness', 'blinds', 'blink', 'blinked', 'blinkers', 'blinking', 'blissfully', 'blister', 'blithe', 'blithely', 'blizzards', 'blob', 'bloc', 'bloch', 'block', 'blockade', 'blockaded', 'blockades', 'blockading', 'blockage', 'blockbusters', 'blockchain', 'blocked', 'blockers', 'blockest', 'blocking', 'blocks', 'bloemfontein', 'blogs', 'blonde', 'blondin', 'blood', 'blooded', 'bloodshed', 'bloodstream', 'bloody', 'bloom', 'bloomed', 'bloomers', 'bloomery', 'bloomfield', 'blooming', 'blooms', 'bloomsbury', 'blossom', 'blossomed', 'blossoms', 'blot', 'blotted', 'blotter', 'blotting', 'blouse', 'blow', 'blower', 'blowing', 'blown', 'blowpipe', 'blows', 'blowy', 'blu', 'bludgeon', 'blue', 'blueberries', 'bluebird', 'blueprint', 'blueprints', 'bluer', 'bluetooth', 'bluish', 'blunder', 'blundered', 'blundering', 'blunders', 'blunt', 'blur', 'blurred', 'blush', 'blushed', 'blushing', 'blusteringly', 'bn', 'boabdil', 'boar', 'board', 'boarded', 'boarders', 'boarding', 'boards', 'boars', 'boas', 'boast', 'boasted', 'boasting', 'boasts', 'boat', 'boathook', 'boatload', 'boatman', 'boatmen', 'boats', 'boatswain', 'boaz', 'bob', 'bobbed', 'bobbin', 'bobbing', 'bobbins', 'bobbsey', 'bobby', 'bodb', 'boded', 'bodeful', 'bodied', 'bodies', 'bodily', 'bodley', 'body', 'boehm', 'bog', 'bogs', 'bohemia', 'boil', 'boiled', 'boiler', 'boilerplate', 'boilers', 'boiling', 'boils', 'boipelo', 'bois', 'boisterous', 'boisterously', 'bold', 'bolder', 'boldest', 'boldly', 'boldness', 'boles', 'bolsheviki', 'bolsheviks', 'bolshevist', 'bolt', 'bolted', 'bolts', 'bomb', 'bombarded', 'bombardment', 'bombay', 'bombing', 'bombings', 'bombs', 'bon', 'bonaparte', 'bonar', 'bond', 'bondage', 'bonded', 'bonding', 'bonds', 'bone', 'boned', 'bones', 'bonfires', 'bonne', 'bonnet', 'bonnets', 'bonney', 'bonobos', 'bontemps', 'bony', 'booer', 'book', 'bookcase', 'bookishness', 'bookland', 'books', 'boom', 'boomed', 'boomers', 'booming', 'booms', 'boon', 'boos', 'boost', 'boot', 'booth', 'booths', 'boots', 'booty', 'borax', 'bordeaux', 'border', 'bordered', 'bordering', 'borders', 'bore', 'bored', 'boredom', 'borg', 'boring', 'borings', 'boris', 'born', 'borne', 'borodin', 'borrow', 'borrowed', 'bors', 'bosch', 'bosinney', 'bosom', 'bosphorus', 'boss', 'bossy', 'boston', 'boswell', 'botanic', 'botanical', 'botanist', 'botanists', 'botany', 'both', 'bother', 'bothered', 'bottger', 'bottle', 'bottles', 'bottom', 'bottomed', 'boudoir', 'bough', 'boughs', 'bought', 'boulders', 'boulevards', 'bounce', 'bounced', 'bounces', 'bouncing', 'bound', 'boundaries', 'boundary', 'bounded', 'bounder', 'boundless', 'bounds', 'bounties', 'bountifully', 'bounty', 'bouquet', 'bouquets', 'bourbon', 'bourgeonings', 'bourne', 'bourreau', 'bout', 'bouts', 'bovis', 'bow', 'bowdoin', 'bowed', 'bowels', 'bower', 'bowers', 'bowery', 'bowhead', 'bowing', 'bowl', 'bowline', 'bowling', 'bowls', 'bows', 'bowser', 'bowsprit', 'bowstring', 'box', 'boxers', 'boxes', 'boxing', 'boxwood', 'boy', 'boyhood', 'boyish', 'boys', 'bp', 'brabant', 'brace', 'braced', 'bracelet', 'bracelets', 'braces', 'bracing', 'bracket', 'bradford', 'bradley', 'brady', 'brag', 'braga', 'braggart', 'bragging', 'braham', 'brahmagupta', 'brahman', 'brahmaputra', 'braid', 'braided', 'brain', 'brainpower', 'brains', 'brainstorming', 'brake', 'brakes', 'braking', 'bran', 'branch', 'branched', 'branches', 'branching', 'branchy', 'brand', 'brandenburg', 'brandished', 'brandon', 'brandt', 'brandy', 'branwell', 'brasiliensis', 'brass', 'braun', 'bravado', 'brave', 'braved', 'bravely', 'braver', 'bravery', 'bravest', 'braving', 'bravo', 'brawling', 'brazen', 'brazil', 'breach', 'bread', 'breadfruit', 'breads', 'breadstuffs', 'breadth', 'break', 'breakage', 'breakdown', 'breaker', 'breakfast', 'breakfasted', 'breakfasts', 'breaking', 'breaks', 'breakthrough', 'breast', 'breastplate', 'breasts', 'breath', 'breathe', 'breathed', 'breathes', 'breathing', 'breathless', 'breathlessly', 'breck', 'bred', 'breeches', 'breed', 'breeding', 'breeds', 'breeze', 'breezes', 'breezy', 'breguet', 'bremen', 'brent', 'bretelle', 'brethren', 'breton', 'breves', 'brevis', 'brevoort', 'brew', 'brewers', 'brewery', 'brewing', 'brewster', 'breziziny', 'briancon', 'briarwood', 'bribes', 'brice', 'brick', 'brickland', 'bricks', 'brickwork', 'bridal', 'bride', 'bridegroom', 'brides', 'bridge', 'bridgeboro', 'bridged', 'bridges', 'bridget', 'bridgewater', 'bridle', 'bridled', 'bridles', 'brief', 'briefcases', 'briefest', 'briefing', 'briefly', 'brien', 'brier', 'briers', 'brieze', 'brig', 'bright', 'brighten', 'brightened', 'brightening', 'brighter', 'brightest', 'brightly', 'brightness', 'brighton', 'brill', 'brilliance', 'brilliancy', 'brilliant', 'brilliantly', 'brim', 'brimmed', 'brines', 'bring', 'bringed', 'bringing', 'brings', 'brink', 'briny', 'brisco', 'brisk', 'briskly', 'briskness', 'bristle', 'bristled', 'bristles', 'bristling', 'bristol', 'britain', 'british', 'britisher', 'brittan', 'brittany', 'brittle', 'broach', 'broad', 'broadband', 'broadcast', 'broadcasters', 'broadcasting', 'broadcasts', 'broadened', 'broadening', 'broader', 'broadest', 'broadlands', 'broadly', 'broadsheet', 'broadway', 'broadwood', 'brocade', 'brodmann', 'broil', 'broiling', 'broke', 'broken', 'bromide', 'bronchi', 'bronchioles', 'broncho', 'brontes', 'brontosaurus', 'bronx', 'bronxville', 'bronze', 'bronzed', 'bronzes', 'brooch', 'brooches', 'brood', 'brooding', 'broods', 'brook', 'brooklyn', 'brooks', 'brookside', 'broom', 'brooms', 'broth', 'brother', 'brotherhood', 'brotherly', 'brothers', 'brougham', 'brought', 'brow', 'browed', 'brown', 'browned', 'brownie', 'brownies', 'browning', 'brownish', 'brownist', 'brownists', 'browny', 'brows', 'browse', 'browser', 'browsers', 'browzes', 'brrr', 'bruce', 'brugsch', 'bruin', 'bruised', 'bruises', 'bruisingly', 'brun', 'brunei', 'brunette', 'bruno', 'brush', 'brushed', 'brushes', 'brushing', 'brushwood', 'brussels', 'brutal', 'brutally', 'brute', 'brutes', 'bry', 'bryan', 'bryant', 'bryants', 'bryce', 'bryde', 'bub', 'bubble', 'bubbles', 'bubby', 'buccaneers', 'bucharest', 'buck', 'bucket', 'buckles', 'buckskin', 'buckskins', 'buckwheat', 'bud', 'buda', 'budapest', 'budded', 'buddhism', 'buddings', 'buddy', 'budge', 'budget', 'buds', 'buffalo', 'buffaloes', 'buffer', 'buffon', 'buffoon', 'bug', 'bugbane', 'bugging', 'buggy', 'bugle', 'bugler', 'bugles', 'bugs', 'buigas', 'build', 'builder', 'builders', 'building', 'buildings', 'builds', 'buildup', 'built', 'buisson', 'bulb', 'bulbs', 'bulgaria', 'bulgarian', 'bulgarians', 'bulge', 'bulk', 'bulkhead', 'bulkheads', 'bull', 'bullatarudis', 'bullers', 'bullet', 'bullets', 'bullfighter', 'bullied', 'bullion', 'bullock', 'bulls', 'bully', 'bullying', 'bulow', 'bultfontein', 'bump', 'bumped', 'bumper', 'bumping', 'bumpity', 'bumps', 'bun', 'bunch', 'bunched', 'bunches', 'bundle', 'bundles', 'bungalow', 'bunker', 'bunkers', 'bunks', 'bunkum', 'bunny', 'bunsen', 'bunter', 'bunting', 'buonaparte', 'buoy', 'buoyancy', 'buoyant', 'burbages', 'burden', 'burdened', 'burdens', 'burdensome', 'burdock', 'bureau', 'buren', 'burette', 'burgers', 'burgesses', 'burghers', 'burglar', 'burgoyne', 'burgundians', 'burgundy', 'burial', 'buried', 'burke', 'burleigh', 'burly', 'burmantofts', 'burn', 'burned', 'burner', 'burners', 'burnet', 'burnett', 'burning', 'burns', 'burnt', 'burp', 'burr', 'burroughs', 'burrow', 'burrows', 'burrs', 'burs', 'burst', 'bursting', 'bursts', 'burton', 'bury', 'burying', 'bus', 'buses', 'bush', 'bushel', 'bushels', 'bushes', 'bushy', 'bushytail', 'busied', 'busily', 'business', 'businesses', 'businessman', 'businessmen', 'busters', 'busting', 'bustle', 'bustled', 'bustling', 'busy', 'but', 'butcher', 'butchers', 'butler', 'butt', 'butte', 'butter', 'buttercup', 'buttercups', 'butterflies', 'butterfly', 'buttermilk', 'butternuts', 'buttes', 'butting', 'button', 'buttoned', 'buttonhook', 'buttons', 'buttress', 'butts', 'buy', 'buyers', 'buying', 'buys', 'buzz', 'buzzed', 'buzzes', 'buzzing', 'by', 'byantaka', 'bye', 'byes', 'bygone', 'bylopolsky', 'byproduct', 'byres', 'byron', 'bystander', 'bystanders', 'bytes', 'byzantine', 'byzantium', 'c', 'ca', 'cab', 'cabbage', 'cabbages', 'cabin', 'cabinet', 'cabinets', 'cabins', 'cable', 'cables', 'cabling', 'cabman', 'caboose', 'cabot', 'cabots', 'cabrinovitch', 'cabriole', 'cabuliwallah', 'cacao', 'cache', 'caches', 'cackle', 'cackled', 'cackling', 'cactus', 'cad', 'caddy', 'cadet', 'cadets', 'cadetship', 'cadging', 'caesar', 'cafes', 'cage', 'caged', 'cages', 'cairo', 'caitiff', 'cake', 'caked', 'cakes', 'calabash', 'calais', 'calamities', 'calamity', 'calanus', 'calcareous', 'calcicoles', 'calcifuges', 'calcifugic', 'calcium', 'calculate', 'calculated', 'calculating', 'calculation', 'calculations', 'calculator', 'calculators', 'calcutta', 'caleb', 'caledonia', 'calendar', 'calf', 'caliban', 'caliber', 'calibrate', 'calibration', 'calico', 'california', 'caligula', 'caliph', 'caliphate', 'call', 'callander', 'called', 'caller', 'calling', 'callings', 'callisto', 'callous', 'calls', 'calm', 'calmette', 'calmly', 'calmness', 'calms', 'caloric', 'calorie', 'calories', 'calorimetric', 'calumets', 'calves', 'calvinistic', 'cambodia', 'cambrian', 'cambric', 'cambridge', 'camden', 'came', 'camel', 'cameo', 'cameos', 'camera', 'cameras', 'cameron', 'cameroon', 'camilla', 'camouflage', 'camouflaged', 'camouflaging', 'camp', 'campaign', 'campaigns', 'campbell', 'campesinos', 'campfire', 'campfires', 'camphor', 'camping', 'camps', 'campus', 'campuses', 'can', 'canaan', 'canada', 'canadian', 'canadians', 'canal', 'canals', 'canaries', 'canary', 'cancel', 'canceled', 'cancellation', 'cancer', 'candance', 'candid', 'candidate', 'candidates', 'candied', 'candies', 'candle', 'candles', 'candlestick', 'candolle', 'candor', 'candy', 'cane', 'canebrake', 'caned', 'canis', 'canna', 'cannabis', 'cannon', 'cannonading', 'cannot', 'canoe', 'canoes', 'canon', 'canonical', 'canons', 'canopy', 'cans', 'cant', 'cantata', 'canterbury', 'canterville', 'canto', 'canton', 'cantons', 'cantor', 'canvas', 'canvass', 'canyon', 'canyons', 'caoutchouc', 'cap', 'capabilities', 'capability', 'capable', 'capacious', 'capacities', 'capacitor', 'capacitors', 'capacity', 'cape', 'capers', 'capful', 'capillaries', 'capital', 'capitalism', 'capitalist', 'capitalists', 'capitally', 'capitals', 'capitol', 'cappadocian', 'capri', 'caprices', 'capricious', 'caps', 'capsid', 'capsids', 'capsize', 'capsule', 'capt', 'captain', 'captaincy', 'captains', 'captions', 'captive', 'captives', 'captivity', 'capture', 'captured', 'captures', 'capturing', 'car', 'carabas', 'caramel', 'carats', 'caravels', 'caraway', 'carbohydrate', 'carbohydrates', 'carbolic', 'carbon', 'carbonaceous', 'carbonate', 'carbonic', 'carbons', 'carboxy', 'carcass', 'card', 'carded', 'cardenio', 'carders', 'cardiac', 'cardiff', 'cardinal', 'cardinals', 'carding', 'cardiomyopathy', 'cardioversion', 'cardioverter', 'cards', 'care', 'cared', 'career', 'careers', 'careful', 'carefully', 'careless', 'carelessly', 'cares', 'caressed', 'caressing', 'caretaker', 'careworn', 'carey', 'cargo', 'cargoes', 'caribou', \"caribou's\", 'caricatures', 'caring', 'carl', 'carlo', 'carlyle', 'carmencita', 'carmichael', 'carmody', 'carnatic', 'carnations', 'carnival', 'carnivora', 'carnivoran', 'carnivorous', 'carol', 'carolina', 'caroline', 'carolus', 'carotenoids', 'carpathia', 'carpenter', 'carpenters', 'carpentier', 'carpet', 'carpeted', 'carpeting', 'carpets', 'carr', 'carraway', 'carriage', 'carriages', 'carrie', 'carried', 'carrier', 'carriers', 'carries', 'carrot', 'carrots', 'carrousel', 'carry', 'carrying', 'cars', 'carson', 'cart', 'carte', 'cartesian', 'carthage', 'carthagena', 'carthaginian', 'carthaginians', 'cartload', 'cartons', 'cartoons', 'cartridge', 'cartridges', 'carts', 'carve', 'carved', 'carver', 'carving', 'casaque', 'cascade', 'cascades', 'case', 'cased', 'casein', 'cases', 'cash', 'cashing', 'cashmere', 'casing', 'casinos', 'cask', 'casks', 'cass', 'cassava', 'cassim', 'cassius', 'cassowary', 'cast', 'caste', 'castel', 'castes', 'castile', 'castilla', 'casting', 'castings', 'castle', 'castles', 'castor', 'casts', 'casual', 'casually', 'casualties', 'casuists', 'casus', 'cat', 'catabolism', 'cataclysms', 'catacombs', 'cataleptical', 'catalina', 'cataloging', 'catalogue', 'catalysis', 'catalyst', 'catalysts', 'catalyzed', 'catalyzes', 'catania', 'cataracts', 'catastrophe', 'catch', 'catches', 'catching', 'catchy', 'catechised', 'categories', 'categorized', 'categorizes', 'category', 'cater', 'caterpillar', 'caterpillars', 'cathedral', 'cathedrals', 'catherine', 'catheter', 'cathode', 'catholic', 'catholics', 'cation', 'cations', 'catkins', 'cato', 'cats', 'catskill', 'catskills', 'cattle', 'catus', 'caucasus', 'caucus', 'caught', 'cauliflower', 'causality', 'cause', 'caused', 'causes', 'causeway', 'causing', 'caustic', 'caution', 'cautioned', 'cautions', 'cautious', 'cautiously', 'cavaletti', 'cavalier', 'cavalry', 'cave', 'cavern', 'caves', 'caviar', 'cawing', 'cawld', 'caws', 'cayetano', 'cbc', 'cc', 'ccd', 'ccp', 'cctlds', 'cd', 'cdm', 'cdma', 'cds', 'ce', 'cease', 'ceased', 'ceasefire', 'ceaseless', 'ceases', 'ceasing', 'cecil', 'cecilia', 'cedar', 'cedars', 'cedarville', 'cede', 'cedric', 'ceiled', 'ceiling', 'ceilings', 'celebrate', 'celebrated', 'celebrating', 'celebration', 'celebrations', 'celebrity', 'celerity', 'celery', 'celestial', 'celie', 'cell', 'cellar', 'cellars', 'celled', 'cellphone', 'cells', 'cellular', 'cellulose', 'celsius', 'celtic', 'celts', 'cement', 'cemented', 'cenozoic', 'censers', 'censorship', 'censure', 'census', 'cent', 'centaureas', 'centennial', 'center', 'centered', 'centers', 'centimeter', 'centimeters', 'centimetre', 'centimetres', 'centipedes', 'centr', 'central', 'centrale', 'centralize', 'centralized', 'centrally', 'centranthuses', 'centre', 'centres', 'cents', 'centuries', 'century', 'cephalalgia', 'ceramics', 'cereals', 'cerebellum', 'cerebral', 'cerebrospinal', 'ceremonials', 'ceremonies', 'ceremoniously', 'ceremony', 'ceresine', 'cerf', 'certain', 'certainly', 'certainty', 'certificate', 'certificates', 'certified', 'cervical', 'cervieres', 'cessation', 'cestus', 'cevennes', 'cfcs', 'chadwick', 'chaffering', 'chagrin', 'chain', 'chained', 'chains', 'chair', 'chairman', 'chairs', 'chaise', 'chakravortis', 'chalcolithic', 'chaldean', 'chalk', 'chalks', 'challenge', 'challenged', 'challenges', 'challenging', 'chama', 'chamber', 'chamberlain', 'chambers', 'chameleon', 'chameli', 'champa', 'champagne', 'champlain', 'chamutsa', 'chance', 'chanced', 'chancel', 'chancellery', 'chancellor', 'chancery', 'chances', 'chandrapore', 'chang', 'change', 'changeability', 'changeable', 'changed', 'changes', 'changing', 'channel', 'channels', 'chanri', 'chanted', 'chanties', 'chanting', 'chaos', 'chap', 'chapel', 'chapels', 'chapin', 'chappie', 'chapter', 'chapters', 'character', 'characteristic', 'characteristics', 'characterization', 'characterize', 'characterized', 'characterizes', 'characterizing', 'characters', 'charades', 'charbon', 'charcoal', 'charge', 'charged', 'charger', 'charges', 'charging', 'chargrove', 'chariot', 'charitable', 'charity', 'charlatans', 'charlemagne', 'charles', 'charleston', 'charley', 'charlie', 'charlotte', 'charm', 'charmed', 'charming', 'charms', 'charred', 'chart', 'charter', 'chartley', 'chartres', 'charts', 'chary', 'chase', 'chased', 'chases', 'chasing', 'chasm', 'chaste', 'chastisement', 'chat', 'chateau', 'chateaubriand', 'chatham', 'chatillon', 'chatted', 'chatter', 'chattered', 'chatterer', 'chattering', 'chatting', 'chatty', 'chau', 'cheap', 'cheaper', 'cheapest', 'cheaply', 'cheapside', 'cheats', 'check', 'checked', 'checker', 'checkers', 'checking', 'checkpoint', 'checks', 'cheek', 'cheeked', 'cheeks', 'cheenbuk', 'cheer', 'cheered', 'cheerful', 'cheerfully', 'cheerfulness', 'cheerily', 'cheering', 'cheerless', 'cheers', 'cheery', 'cheese', 'cheesecakes', 'cheeseman', 'cheesy', 'chellian', 'chelton', 'chem', 'chemical', 'chemically', 'chemicals', 'chemist', 'chemistry', 'chemists', 'chemosynthesis', 'chemosynthetic', 'chenal', 'chenango', 'chenille', 'chenilled', 'cheops', 'cheri', 'cherished', 'cherokee', 'cherries', 'cherry', 'chese', 'chess', 'chest', 'chested', 'chester', 'chesterton', 'chestnut', 'chestnuts', 'chests', 'chevalier', 'chew', 'chewed', 'chewing', 'chews', 'cheyenne', 'chiang', 'chicago', 'chick', 'chicken', 'chickens', 'chicks', 'chidubem', 'chief', 'chiefly', 'chieftain', 'chieftains', 'chiffon', 'chih', 'child', 'childhood', 'childish', 'childless', 'childlike', 'children', 'chile', 'chill', 'chilled', 'chilliness', 'chillingworth', 'chills', 'chilly', 'chimed', 'chimney', 'chimneys', 'chimpanzee', 'chimpanzees', 'chimps', 'chin', 'china', 'chinatown', 'chinese', 'chinky', 'chins', 'chip', 'chipped', 'chipper', 'chips', 'chirp', 'chirped', 'chirping', 'chirps', 'chisel', 'chita', 'chitin', 'chivalry', 'chloe', 'chloride', 'chlorides', 'chlorine', 'chlorofluorocarbons', 'chloroform', 'chlorophyll', 'chlorophyllaceous', 'chloroplasts', 'chlorosis', 'chocolate', 'chocolates', 'choctaw', 'choice', 'choices', 'choked', 'choker', 'choking', 'cholagogue', 'choo', 'choose', 'chooses', 'choosing', 'chop', 'chopped', 'chopper', 'chopping', 'chops', 'chords', 'chores', 'chorus', 'chose', 'chosen', 'christ', 'christen', 'christened', 'christening', 'christian', 'christiana', 'christiania', 'christianity', 'christians', 'christmas', 'christmases', 'christminster', 'christopher', 'christy', 'chromatic', 'chrome', 'chromos', 'chromosome', 'chromosomes', 'chronic', 'chronicle', 'chronicles', 'chronological', 'chroolepideae', 'chub', 'chubby', 'chuck', 'chuckie', 'chuckle', 'chuckled', 'chuckling', 'chucks', 'chuk', 'chum', 'chuma', 'chums', 'chung', 'chunk', 'chunu', 'church', 'churches', 'churchill', 'churchyard', 'churn', 'churned', 'churning', 'chusetts', 'cia', 'cicadas', 'cigar', 'cigarette', 'cigars', 'cilia', 'cimicifuga', 'cinder', 'cinderella', 'cinders', 'cinnamon', 'cipris', 'circassians', 'circle', 'circled', 'circles', 'circling', 'circuit', 'circuited', 'circuitry', 'circuits', 'circular', 'circularly', 'circulate', 'circulated', 'circulates', 'circulating', 'circulation', 'circulatory', 'circumference', 'circumstance', 'circumstances', 'circumventing', 'circus', 'cirques', 'cissy', 'cistern', 'cisterns', 'citadel', 'citation', 'cited', 'cities', 'citizen', 'citizens', 'citizenship', 'citoyen', 'citrate', 'citric', 'citron', 'citrus', 'city', 'civic', 'civil', 'civilian', 'civilians', 'civility', 'civilization', 'civilizations', 'civilized', 'civilizing', 'clack', 'clad', 'cladogenesis', 'claim', 'claimant', 'claimants', 'claimed', 'claims', 'clair', 'claire', 'clambering', 'clamored', 'clamouring', 'clamp', 'clamps', 'clams', 'clandestine', 'clanged', 'clanging', 'clangor', 'clanking', 'clap', 'clapboard', 'clapboards', 'clapp', 'clapped', 'clapping', 'claps', 'clara', 'clarence', 'clarify', 'clarionette', 'clarissa', 'clark', 'clarke', 'clash', 'clasp', 'clasped', 'clasps', 'class', 'classed', 'classes', 'classic', 'classical', 'classics', 'classification', 'classifications', 'classified', 'classify', 'classifying', 'classmates', 'classroom', 'classrooms', 'clathrates', 'clattering', 'claude', 'claudius', 'claus', 'clause', 'clauses', 'claw', 'claws', 'clay', 'clayey', 'clayish', 'clays', 'clayton', 'clean', 'cleaned', 'cleaner', 'cleaning', 'cleanings', 'cleanliness', 'clear', 'cleared', 'clearer', 'clearing', 'clearings', 'clearly', 'clears', 'clearwater', 'cleats', 'cleaved', 'cleaving', 'cleft', 'cleidoic', 'clem', 'clemandot', 'clematis', 'clemens', 'clement', 'clementa', 'clements', 'clenched', 'cleopatra', 'clepsydra', 'clergy', 'clergyman', 'clergymen', 'clerical', 'clerk', 'clerks', 'clerkship', 'cleveland', 'clever', 'cleverer', 'cleverest', 'cleverly', 'cleverness', 'clewe', 'cliche', 'click', 'clicked', 'clicking', 'client', 'cliff', 'clifford', 'cliffs', 'climate', 'climates', 'climatic', 'climax', 'climb', 'climbed', 'climber', 'climbing', 'climbs', 'climes', 'clinch', 'cling', 'clinging', 'clinic', 'clinical', 'clinics', 'clink', 'clinker', 'clipped', 'clips', 'cloaca', 'cloak', 'cloaks', 'clock', 'clocks', 'clockwise', 'clockwork', 'clod', 'cloddy', 'clog', 'clogged', 'clone', 'cloned', 'cloning', 'clooney', 'clorinda', 'close', 'closed', 'closely', 'closer', 'closes', 'closest', 'closet', 'closets', 'closing', 'closure', 'clot', 'cloth', 'clothed', 'clothes', 'clothing', 'cloths', 'clotting', 'cloud', 'cloudbank', 'cloudless', 'clouds', 'cloudy', 'clover', 'cloverfield', 'clovis', 'clownfish', 'cloyed', 'club', 'clubbed', 'clubs', 'cluck', 'clucked', 'clucks', 'clue', 'clues', 'clump', 'clumped', 'clumps', 'clumsiness', 'clumsy', 'clung', 'cluster', 'clustered', 'clusters', 'clutch', 'clutched', 'clutches', 'clypea', 'cm', 'cml', 'cmos', 'cn', 'cnidaria', 'cnidarians', 'cns', 'co', 'coach', 'coaches', 'coachman', 'coagulate', 'coal', 'coalition', 'coalitions', 'coals', 'coarse', 'coarsely', 'coarser', 'coarsest', 'coast', 'coastal', 'coaster', 'coasters', 'coasting', 'coastline', 'coasts', 'coat', 'coated', 'coating', 'coats', 'coax', 'coaxed', 'coaxial', 'coaxing', 'cob', 'cobalt', 'cobweb', 'cobwebs', 'coccinea', 'coccolithophores', 'cochlea', 'cock', 'cocked', 'cockpit', 'cocoa', 'coconut', 'cocoons', 'cod', 'codal', 'code', 'codes', 'codification', 'codified', 'codify', 'coding', 'coedes', 'coenties', 'coercitive', 'coercive', 'coeur', 'coffee', 'cognition', 'cognitive', 'cognizance', 'cohere', 'coherence', 'coherent', 'coil', 'coiled', 'coils', 'coin', 'coincidence', 'coincidences', 'coined', 'coining', 'coins', 'coke', 'col', 'colby', 'colchester', 'cold', 'colder', 'coldest', 'coldly', 'colds', 'colfax', 'colinear', 'collaboration', 'collagen', 'collapse', 'collapsed', 'collapses', 'collapsing', 'collar', 'collars', 'collateral', 'colleague', 'colleagues', 'collect', 'collected', 'collectible', 'collecting', 'collection', 'collections', 'collective', 'collectively', 'collector', 'collects', 'college', 'colleges', 'collegial', 'collide', 'collie', 'collieries', 'collimated', 'collimator', 'collimators', 'collision', 'collisions', 'colloid', 'colloquial', 'colloquially', 'cologne', 'colombo', 'colonel', 'colonial', 'colonialism', 'colonialist', 'colonies', 'colonist', 'colonists', 'colonize', 'colonna', 'colonnades', 'colony', 'color', 'colorado', 'coloration', 'colored', 'colorful', 'coloring', 'colorless', 'colors', 'colossal', 'colosseum', 'colour', 'coloured', 'colourful', 'colours', 'colt', 'colts', 'columbia', 'columbus', 'column', 'columns', 'com', 'coma', 'comanche', 'comares', 'comatose', 'comb', 'combat', 'combatants', 'combats', 'combed', 'combination', 'combinations', 'combine', 'combined', 'combines', 'combing', 'combining', 'combs', 'combustible', 'combustion', 'come', 'comedies', 'comedy', 'comeliness', 'comely', 'comer', 'comers', 'comes', 'comet', 'comets', 'comfort', 'comfortable', 'comfortably', 'comforted', 'comforting', 'comforts', 'comic', 'comical', 'coming', 'comings', 'comique', 'comma', 'command', 'commanded', 'commandeered', 'commander', 'commanders', 'commanding', 'commandments', 'commands', 'commemorate', 'commemoration', 'commence', 'commenced', 'commencement', 'commences', 'commend', 'commended', 'commensalism', 'comment', 'commentary', 'commented', 'comments', 'commerce', 'commercial', 'comminute', 'commissary', 'commission', 'commissioned', 'commissioners', 'commissioning', 'commissions', 'commitment', 'commitments', 'committed', 'committee', 'committees', 'committing', 'commodities', 'commodity', 'common', 'commonality', 'commonly', 'commonplace', 'commons', 'commonwealth', 'commotion', 'commotions', 'communicate', 'communicated', 'communicates', 'communicating', 'communication', 'communications', 'communicative', 'communion', 'communism', 'communist', 'communists', 'communities', 'community', 'commutator', 'comoving', 'compact', 'compacted', 'compactly', 'compactness', 'companies', 'companion', 'companions', 'companionship', 'company', 'comparable', 'comparative', 'comparatively', 'compare', 'compared', 'compares', 'comparing', 'comparison', 'comparisons', 'compartment', 'compartments', 'compass', 'compasses', 'compassion', 'compassionated', 'compassionately', 'compatible', 'compel', 'compelled', 'compelling', 'compels', 'compensate', 'compensated', 'compensation', 'compensations', 'competence', 'competency', 'competent', 'competing', 'competition', 'competitions', 'competitor', 'competitors', 'compiled', 'compiler', 'compilers', 'complacent', 'complain', 'complained', 'complaining', 'complaint', 'complaints', 'complement', 'complementary', 'complements', 'complete', 'completed', 'completely', 'completes', 'completing', 'completion', 'complex', 'complexes', 'complexion', 'complexions', 'complexity', 'compliance', 'complicated', 'complications', 'compliment', 'compliments', 'comply', 'complying', 'component', 'components', 'compose', 'composed', 'composedly', 'composer', 'composers', 'composes', 'composing', 'composited', 'composition', 'compositions', 'compost', 'composure', 'compound', 'compounded', 'compounds', 'comprehend', 'comprehended', 'comprehension', 'comprehensive', 'compressed', 'compressing', 'compression', 'compressions', 'comprise', 'comprised', 'comprises', 'comprising', 'compromise', 'compton', 'compulsory', 'computation', 'computational', 'computations', 'computer', 'computerized', 'computers', 'computing', 'comrade', 'comrades', 'comradeship', 'comte', 'con', 'conakry', 'concave', 'conceal', 'concealed', 'concealment', 'conceded', 'conceit', 'conceivable', 'conceive', 'conceived', 'conceiving', 'concentrate', 'concentrated', 'concentration', 'concentrations', 'concept', 'conception', 'conceptions', 'concepts', 'conceptual', 'conceptually', 'concern', 'concerned', 'concerning', 'concerns', 'concert', 'concerts', 'concession', 'concessions', 'conch', 'conches', 'conciliate', 'conciliated', 'conclave', 'conclude', 'concluded', 'concluding', 'conclusion', 'conclusions', 'conclusively', 'concomitant', 'concord', 'concrete', 'concussion', 'condamine', 'condemn', 'condemnation', 'condensable', 'condensation', 'condense', 'condensed', 'condenser', 'condenses', 'condensing', 'condescended', 'condescends', 'condiments', 'condition', 'conditional', 'conditioning', 'conditions', 'conduct', 'conducted', 'conducting', 'conduction', 'conductive', 'conductivity', 'conductor', 'conductors', 'conduit', 'conduits', 'cone', 'cones', 'coney', 'confederacy', 'confederate', 'confederates', 'confederation', 'confer', 'conference', 'conferences', 'confess', 'confessed', 'confessedly', 'confession', 'confessions', 'confidante', 'confidants', 'confided', 'confidence', 'confidences', 'confident', 'confidential', 'confidentiality', 'confidently', 'confides', 'configurable', 'configuration', 'configurations', 'configured', 'confine', 'confined', 'confinement', 'confines', 'confining', 'confirm', 'confirmed', 'confirming', 'confirms', 'confiscate', 'confiscated', 'confiscation', 'conflagration', 'conflict', 'conflicting', 'conflicts', 'confluence', 'conform', 'conformation', 'conforming', 'conformity', 'conforms', 'confounded', 'confreres', 'confront', 'confronted', 'confucianist', 'confuse', 'confused', 'confuses', 'confusing', 'confusion', 'congealed', 'congenial', 'congeries', 'congestion', 'conglomerate', 'congo', 'congratulate', 'congratulated', 'congratulations', 'congregants', 'congregation', 'congress', 'conical', 'conjunction', 'conjure', 'conn', 'connachie', 'connart', 'connect', 'connected', 'connecticut', 'connecting', 'connection', 'connectionless', 'connections', 'connective', 'connectivity', 'connector', 'connectors', 'connects', 'conned', 'connie', 'connla', 'connotes', 'conquer', 'conquered', 'conquering', 'conqueror', 'conquerors', 'conquest', 'conquests', 'conrad', 'cons', 'conscience', 'consciences', 'conscientious', 'conscientiously', 'conscious', 'consciously', 'consciousness', 'conscription', 'conscriptions', 'consecrated', 'consecutive', 'consecutively', 'conseil', 'consent', 'consented', 'consequence', 'consequences', 'consequent', 'consequential', 'consequently', 'conservation', 'conservatism', 'conservative', 'conservatory', 'conserve', 'conserved', 'consider', 'considerable', 'considerably', 'considerate', 'considerately', 'consideration', 'considerations', 'considered', 'considering', 'considers', 'consigned', 'consignments', 'consist', 'consisted', 'consistence', 'consistency', 'consistent', 'consistently', 'consisting', 'consists', 'consolation', 'consoled', 'consoles', 'consolidation', 'consonantal', 'consort', 'conspicuous', 'conspicuously', 'conspiracy', 'constable', 'constance', 'constancy', 'constant', 'constantinople', 'constantly', 'constants', 'constellation', 'constellations', 'consternation', 'constituency', 'constituent', 'constituents', 'constitute', 'constituted', 'constitutes', 'constituting', 'constitution', 'constitutional', 'constitutionality', 'constitutions', 'constraints', 'construct', 'constructed', 'constructing', 'construction', 'constructions', 'consul', 'consulates', 'consuls', 'consult', 'consultation', 'consultations', 'consulted', 'consulting', 'consults', 'consume', 'consumed', 'consumer', 'consumers', 'consumes', 'consuming', 'consummate', 'consumption', 'contact', 'contacting', 'contacts', 'contain', 'contained', 'container', 'containerization', 'containerize', 'containers', 'containing', 'contains', 'contaminated', 'contemplate', 'contemplated', 'contemplating', 'contemplation', 'contemplative', 'contemporaries', 'contemporary', 'contempt', 'contemptible', 'contend', 'contended', 'contending', 'contends', 'content', 'contented', 'contentedly', 'contention', 'contentment', 'contents', 'contest', 'contested', 'contests', 'context', 'contexts', 'contextual', 'contich', 'contiguous', 'continent', 'continental', 'continentals', 'continents', 'contingencies', 'contingent', 'continual', 'continually', 'continuation', 'continue', 'continued', 'continues', 'continuing', 'continuity', 'continuous', 'continuously', 'contraband', 'contract', 'contracted', 'contracting', 'contraction', 'contractor', 'contracts', 'contradiction', 'contradictory', 'contralto', 'contrariwise', 'contrary', 'contrast', 'contrasted', 'contrasting', 'contrasts', 'contribute', 'contributed', 'contributes', 'contributing', 'contribution', 'contributions', 'contributor', 'contrite', 'contrivance', 'contrivances', 'contrived', 'control', 'controllability', 'controllable', 'controlled', 'controller', 'controllers', 'controlling', 'controls', 'controversial', 'controversy', 'conundrums', 'convalescence', 'convection', 'convened', 'convenience', 'conveniences', 'convenient', 'conveniently', 'convent', 'convention', 'conventional', 'conventionally', 'conventions', 'convergence', 'convergent', 'conversant', 'conversation', 'conversational', 'conversations', 'converse', 'conversed', 'conversing', 'conversion', 'convert', 'converted', 'converter', 'converting', 'converts', 'convex', 'convexity', 'convey', 'conveyance', 'conveyed', 'conveyer', 'conveying', 'convicted', 'conviction', 'convictions', 'convince', 'convinced', 'convincing', 'convocation', 'convoys', 'convulsions', 'convulsive', 'cooed', 'cook', 'cooked', 'cookery', 'cookies', 'cooking', 'cookroom', 'cooks', 'cool', 'cooled', 'cooler', 'coolest', 'coolie', 'cooling', 'coolish', 'coolly', 'coolness', 'cools', 'coomber', 'coon', 'cooped', 'cooper', 'cooperated', 'cooperation', 'coops', 'coordinate', 'coordinated', 'coordinates', 'coos', 'cop', 'cope', 'copernicus', 'copied', 'copies', 'coping', 'copious', 'coplanar', 'copper', 'copperfield', 'coppers', 'copra', 'copse', 'copy', 'copying', 'copyist', 'copyists', 'copyright', 'copyrights', 'cora', 'coral', 'coralloid', 'corals', 'cord', 'cordiality', 'cordillera', 'cordilleras', 'cordis', 'cords', 'corduroy', 'core', 'cores', 'corinth', 'corinthian', 'cork', 'corkwood', 'corky', 'cormorant', 'cormorants', 'corn', 'cornea', 'corned', 'cornelia', 'cornelli', 'corner', 'cornered', 'corners', 'cornet', 'corney', 'cornfield', 'cornhill', 'cornmeal', 'cornwallis', 'corollaries', 'corollary', 'corona', 'coronation', 'coronavirus', 'coronets', 'corp', 'corporal', 'corporate', 'corporation', 'corporations', 'corporis', 'corps', 'corpus', 'corral', 'correct', 'corrected', 'correcting', 'corrections', 'correctly', 'correlated', 'correlation', 'correlations', 'correlatives', 'correspond', 'corresponded', 'correspondence', 'correspondent', 'correspondents', 'corresponding', 'correspondingly', 'corresponds', 'corridor', 'corridors', 'corrode', 'corrugated', 'corrupt', 'corruption', 'corsehill', 'corsham', 'corsican', 'corso', 'cortes', 'cortex', 'corti', 'cosey', 'cosine', 'cosmetics', 'cosmic', 'cosmically', 'cosmological', 'cosmology', 'cosmopolitan', 'cossacks', 'cost', 'costa', 'costing', 'costlier', 'costly', 'costs', 'costume', 'cosy', 'cot', 'coton', 'cotta', 'cottage', 'cottagers', 'cottages', 'cotton', 'cottonwoods', 'couch', 'couching', 'cough', 'coughing', 'coughs', 'could', 'coulomb', 'council', 'councils', 'counsel', 'counsels', 'count', 'counted', 'countenance', 'countenances', 'counter', 'counterattack', 'counterattacks', 'counterbalance', 'counterbalanced', 'counterclaims', 'countered', 'counterfeited', 'counterpart', 'counterparts', 'counterpoise', 'countess', 'counties', 'counting', 'countless', 'countries', 'country', 'countryfolk', 'countryman', 'countrymen', 'countryside', 'counts', 'county', 'coup', 'coupe', 'couple', 'coupled', 'coupler', 'couples', 'coupling', 'coupon', 'courage', 'courageous', 'courageously', 'courier', 'courious', 'course', 'courses', 'court', 'courteous', 'courteously', 'courtesies', 'courtesy', 'courtiers', 'courting', 'courtly', 'courts', 'courtyard', 'cousin', 'cousins', 'cov', 'covalent', 'covalently', 'cove', 'covenant', 'coventry', 'cover', 'coverage', 'covered', 'covering', 'coverings', 'coverlet', 'covers', 'coves', 'coveted', 'covetous', 'covid', 'cow', 'coward', 'cowardly', 'cowboy', 'cowboys', 'cowed', 'cowering', 'cowherds', 'cowpens', 'cowpox', 'cowpunchers', 'cows', 'cowshed', 'cowslip', 'coxswain', 'coyly', 'coyotes', 'coziness', 'cozy', 'cpr', 'cpu', 'cpus', 'cr', 'crab', 'crabbed', 'crabmeat', 'crabs', 'crabtree', 'crack', 'cracked', 'cracker', 'crackers', 'crackled', 'crackling', 'cracks', 'cracky', 'cradle', 'cradled', 'cradles', 'craft', 'crafted', 'crafty', 'crag', 'crags', 'cram', 'crammed', 'cramped', 'crampton', 'cramton', 'crane', 'cranes', 'cranial', 'cranium', 'crank', 'crankiness', 'crannogs', 'crash', 'crashed', 'crashes', 'crashing', 'cratchit', 'cratchits', 'crate', 'crater', 'craters', 'crates', 'cravat', 'crave', 'craved', 'craving', 'crawed', 'crawford', 'crawfurd', 'crawfurds', 'crawl', 'crawled', 'crawls', 'crayfish', 'crazy', 'creaked', 'creaking', 'cream', 'creams', 'creamy', 'creased', 'create', 'created', 'creates', 'creating', 'creatio', 'creation', 'creationism', 'creationist', 'creationists', 'creations', 'creative', 'creativity', 'creator', 'creators', 'creature', 'creatures', 'credentials', 'credible', 'credit', 'creditable', 'credited', 'creditors', 'credits', 'creed', 'creeds', 'creek', 'creeks', 'creena', 'creep', 'creeping', 'creeps', 'crepe', 'crept', 'crescent', 'cresco', 'cresswell', 'crest', 'crested', 'crests', 'creswell', 'crevasse', 'crevasses', 'crevices', 'crew', 'crewe', 'crews', 'crib', 'cricket', 'crickets', 'cried', 'crier', 'cries', 'crim', 'crime', 'crimea', 'crimes', 'criminal', 'criminals', 'crimson', 'crimsons', 'crinkly', 'criollo', 'crip', 'cripple', 'crisis', 'crisp', 'criteria', 'criterion', 'critic', 'critical', 'critically', 'criticise', 'criticism', 'criticized', 'critics', 'crm', 'croak', 'croaked', 'croaks', 'croat', 'crockery', 'crocodile', 'crocodiles', 'croft', 'cromwell', 'cronies', 'cronyism', 'crook', 'crooked', 'crooker', 'crooks', 'crop', 'crops', 'croquet', 'crosby', 'cross', 'crossed', 'crosses', 'crossing', 'crossroad', 'crossroads', 'crosswalk', 'crossways', 'crotch', 'crotched', 'croton', 'crouched', 'crouching', 'crow', 'crowd', 'crowded', 'crowder', 'crowding', 'crowds', 'crowed', 'crowing', 'crown', 'crowned', 'crowning', 'crowns', 'crows', 'crozier', 'crt', 'crucial', 'crucially', 'crucify', 'crude', 'cruel', 'cruelly', 'cruelty', 'cruiser', 'cruisers', 'cruises', 'cruising', 'crumb', 'crumble', 'crumbled', 'crumbling', 'crumbs', 'crunch', 'crunched', 'crunchy', 'crusade', 'crusades', 'crush', 'crushed', 'crusher', 'crushing', 'crust', 'crustacea', 'crustaceans', 'crustal', 'crusted', 'crusts', 'crusty', 'crutch', 'crutches', 'cruz', 'cry', 'crying', 'cryogenic', 'cryptocurrency', 'cryptographic', 'cryptography', 'crystal', 'crystalline', 'crystallizable', 'crystallization', 'crystallize', 'crystallized', 'crystallizing', 'crystallographic', 'crystallography', 'crystals', 'cs', 'ctenophores', 'cub', 'cuba', 'cuban', 'cube', 'cubes', 'cubic', 'cubs', 'cuckoo', 'cuckoos', 'cucumber', 'cucumbers', 'cud', 'cuddle', 'cuddled', 'cue', 'cues', 'cuffs', 'cuglas', 'cuillin', 'cuirass', 'cuirassiers', 'cuisines', 'culinary', 'cullen', 'culmination', 'culpepper', 'cultism', 'cultivate', 'cultivated', 'cultivation', 'cultivators', 'cultura', 'cultural', 'culture', 'cultured', 'cultures', 'culvert', 'cumbersome', 'cumbrous', 'cunard', 'cuneiform', 'cuneiforme', 'cuneus', 'cunning', 'cunningest', 'cunningly', 'cup', 'cupbearer', 'cupboard', 'cupboards', 'cupid', 'cupidity', 'cupping', 'cupronickel', 'cups', 'cur', 'curate', 'curation', 'curb', 'curbstone', 'curdie', 'cure', 'cured', 'cures', 'curfew', 'curiatii', 'curing', 'curiosities', 'curiosity', 'curious', 'curiouser', 'curiously', 'curl', 'curled', 'curlew', 'curling', 'curls', 'curly', 'curragh', 'currant', 'currencies', 'currency', 'current', 'currently', 'currents', 'currer', 'curriculum', 'curse', 'cursed', 'curses', 'cursing', 'curt', 'curtail', 'curtain', 'curtained', 'curtains', 'curtsey', 'curvature', 'curve', 'curved', 'curves', 'cuscuta', 'cushion', 'cushioned', 'cushions', 'cushla', 'cussedness', 'custard', 'custis', 'custodial', 'custody', 'custom', 'customary', 'customer', 'customers', 'customizing', 'customs', 'cut', 'cute', 'cuteness', 'cutpurse', 'cuts', 'cutter', 'cutters', 'cutting', 'cuttings', 'cutts', 'cutwater', 'cyanobacteria', 'cyberbullied', 'cycad', 'cycads', 'cycle', 'cycles', 'cycling', 'cyclone', 'cyclones', 'cyclops', 'cygnet', 'cylinder', 'cylinders', 'cylindrical', 'cymes', 'cynthia', 'cyperus', 'cypselus', 'cyrenaics', 'cyril', 'cyrus', 'cytokinesis', 'cytoplasm', 'cytosine', 'czar', 'czech', 'czechoslovakia', 'd', 'dacian', 'dad', 'dada', 'daddy', 'dado', 'dads', 'daffy', 'dagger', 'daggers', 'daguerreotype', 'dahl', 'daily', 'dainties', 'daintily', 'dainty', 'dairy', 'daisies', 'daisy', 'dale', 'dalkey', 'dalton', 'daly', 'dalzell', 'dam', 'damage', 'damaged', 'damages', 'damaging', 'damayanti', 'dame', 'damon', 'damp', 'damper', 'dampers', 'dams', 'damsel', 'damsels', 'dan', 'dance', 'danced', 'dancer', 'dances', 'dancing', 'dande', 'dandelion', 'dandelions', 'dandies', 'dandy', 'dane', 'danes', 'danger', 'dangerous', 'dangerously', 'dangers', 'dangled', 'dangles', 'dangling', 'danish', 'dank', 'danton', 'dantzig', 'danube', 'danvers', 'daoyuan', 'dapple', 'dare', 'dared', 'daredevils', 'dares', 'daring', 'dark', 'darken', 'darkened', 'darker', 'darkly', 'darkness', 'darling', 'darlings', 'darn', 'darning', 'darrin', 'dart', 'darted', 'darting', 'darwin', 'dash', 'dashed', 'dashes', 'dashing', 'data', 'database', 'databases', 'databending', 'datagram', 'datagrams', 'date', 'dated', 'dates', 'dating', 'datum', 'daub', 'daubed', 'daubing', 'daughter', 'daughters', 'daunt', 'dauntless', 'dauntlessly', 'dauphin', 'dave', 'daveyton', 'david', 'davidov', 'davie', 'davis', 'davises', 'davit', 'davy', 'daw', 'dawn', 'dawned', 'dawning', 'dawnings', 'day', 'daybreak', 'daydream', 'daylight', 'days', 'daytime', 'dazzled', 'dazzling', 'dazzlingly', 'dbms', 'dct', 'ddwg', 'de', 'deacon', 'dead', 'deadlock', 'deadly', 'deaf', 'deafness', 'deal', 'dealer', 'dealers', 'dealing', 'dealings', 'deals', 'dealt', 'dean', 'dear', 'dearie', 'dearly', 'dears', 'deasy', 'death', 'deathbed', 'deaths', 'debase', 'debasement', 'debate', 'debated', 'debauch', 'debauches', 'debby', 'debrett', 'debris', 'debt', 'debts', 'dec', 'deca', 'decade', 'decadence', 'decadent', 'decades', 'decagon', 'decagons', 'decay', 'decayed', 'decaying', 'decays', 'decease', 'deceased', 'deceiptful', 'deceit', 'deceitful', 'deceitfulness', 'december', 'decent', 'decentralized', 'decide', 'decided', 'decidedly', 'decides', 'deciding', 'deciduous', 'decipher', 'decipherable', 'decision', 'decisional', 'decisions', 'decisis', 'decisive', 'deck', 'decked', 'decks', 'declamation', 'declaration', 'declarations', 'declare', 'declared', 'declares', 'declaring', 'decline', 'declined', 'declining', 'decompose', 'decomposed', 'decomposer', 'decomposers', 'decomposes', 'decomposition', 'decompressing', 'decorated', 'decorating', 'decoration', 'decorations', 'decorous', 'decorticating', 'decorum', 'decrease', 'decreased', 'decreases', 'decreasing', 'decree', 'decrees', 'decrepitude', 'dect', 'dedalus', 'dedannans', 'dedicate', 'dedicated', 'dedicates', 'dedication', 'deducting', 'deduction', 'dee', 'deed', 'deeds', 'deemed', 'deep', 'deepened', 'deepening', 'deeper', 'deepest', 'deeply', 'deer', 'deering', 'deerskins', 'defago', 'default', 'defeat', 'defeated', 'defeating', 'defeats', 'defect', 'defective', 'defects', 'defence', 'defenceless', 'defences', 'defend', 'defended', 'defending', 'defense', 'defenses', 'defensive', 'defer', 'deferential', 'defiance', 'defibrillated', 'defibrillation', 'defibrillator', 'defibrillators', 'deficit', 'defied', 'defile', 'defiles', 'define', 'defined', 'defines', 'defining', 'definite', 'definitely', 'definition', 'definitions', 'definitive', 'definitively', 'deflected', 'deforestation', 'deform', 'deformation', 'deformations', 'deformed', 'defraud', 'defrauding', 'deft', 'deftly', 'defy', 'deg', 'degc', 'degenerate', 'degeneration', 'degf', 'degn', 'degree', 'degrees', 'degs', 'dehiscence', 'deigned', 'deimos', 'deism', 'deity', 'dejectedly', 'dejection', 'del', 'delane', 'delavan', 'delaware', 'delay', 'delayed', 'delays', 'delegate', 'delegated', 'delegates', 'delegation', 'deletion', 'deliberate', 'deliberately', 'deliberations', 'delicacies', 'delicacy', 'delicate', 'delicately', 'delicatessen', 'delicious', 'deliciously', 'delight', 'delighted', 'delightful', 'delightfully', 'delights', 'delineate', 'delineated', 'delinquency', 'delirium', 'deliver', 'deliverance', 'delivered', 'delivering', 'delivers', 'delivery', 'dell', 'della', 'delphi', 'delphic', 'delta', 'delusion', 'demagnetization', 'demand', 'demanded', 'demands', 'demeke', 'dementia', 'demerits', 'demigods', 'demilitarized', 'demiurgic', 'democracies', 'democracy', 'democrat', 'democratic', 'democrats', 'democritus', 'demodulation', 'demographic', 'demographics', 'demolished', 'demon', 'demons', 'demonstrate', 'demonstrated', 'demonstrating', 'demonstration', 'demonstrations', 'demonstrators', 'demoralizing', 'demotic', 'demure', 'demurred', 'den', 'denali', 'dendrite', 'dendrites', 'dendritic', 'dendron', 'denial', 'denials', 'denied', 'denim', 'denison', 'denizens', 'denmark', 'denning', 'dennis', 'denominated', 'denominations', 'denominator', 'denotes', 'denounced', 'dens', 'dense', 'densely', 'denser', 'densest', 'densities', 'density', 'denton', 'denver', 'deny', 'denying', 'deodorized', 'deoxygenated', 'deoxyribonucleic', 'deoxyribose', 'depart', 'departed', 'departing', 'department', 'departments', 'departure', 'depend', 'dependants', 'depended', 'dependence', 'dependencies', 'dependency', 'dependent', 'dependents', 'depending', 'depends', 'depicted', 'depictions', 'depicts', 'depleted', 'depleting', 'depletion', 'deplorably', 'deplored', 'deploring', 'deployed', 'deploying', 'deportation', 'deportment', 'deposited', 'depositing', 'deposition', 'depositions', 'deposits', 'depots', 'depraved', 'depreciated', 'depreciation', 'depredations', 'depress', 'depressed', 'depressing', 'depression', 'deprive', 'deprived', 'depth', 'depths', 'deputation', 'deputed', 'deputies', 'deputyship', 'der', 'derbyshire', 'deregulation', 'dereham', 'derevaux', 'deride', 'derided', 'derivation', 'derivative', 'derivatives', 'derived', 'derives', 'deriving', 'dermis', 'dernburg', 'derogatory', 'derrick', 'descartes', 'descend', 'descendant', 'descendants', 'descended', 'descending', 'descends', 'descent', 'describe', 'described', 'describes', 'describing', 'description', 'descriptions', 'desert', \"desert's\", 'deserted', 'deserts', 'deserve', 'deserved', 'deserving', 'design', 'designate', 'designated', 'designating', 'designed', 'designer', 'designers', 'designing', 'designs', 'desirable', 'desire', 'desired', 'desiree', 'desires', 'desirest', 'desiring', 'desirous', 'desk', 'desks', 'desktop', 'desolate', 'desolation', 'despair', 'despaired', 'despatched', 'desperate', 'desperately', 'desperation', 'despised', 'despising', 'despite', 'despoiled', 'despot', 'despotic', 'despots', 'dessert', 'dessiatin', 'destabilizing', 'destination', 'destined', 'destiny', 'destitute', 'destitution', 'destroy', 'destroyed', 'destroyer', 'destroyers', 'destroying', 'destroys', 'destruct', 'destruction', 'destructive', 'deta', 'detached', 'detaching', 'detail', 'detailed', 'details', 'detained', 'detect', 'detectable', 'detected', 'detection', 'detective', 'detectives', 'detector', 'detectors', 'detects', 'deter', 'deterioration', 'determination', 'determine', 'determined', 'determines', 'determining', 'detests', 'detonating', 'detonation', 'detour', 'detractors', 'detriment', 'detrimental', 'detritivore', 'detritivores', 'detroit', 'deuce', 'devastated', 'devastating', 'devastation', 'develop', 'developed', 'developer', 'developers', 'developing', 'development', 'developmental', 'developmentally', 'developments', 'develops', 'device', 'devices', 'devil', 'devise', 'devised', 'devoid', 'devolved', 'devon', 'devote', 'devoted', 'devotedly', 'devotedness', 'devotee', 'devoting', 'devotion', 'devoured', 'devouring', 'devout', 'devoutly', 'dew', 'dews', 'dexterity', 'dexterous', 'dextrose', 'di', 'diabetes', 'diadem', 'diagnose', 'diagnosed', 'diagnosis', 'diagnostic', 'diagonally', 'diagram', 'diagrams', 'dial', 'dialect', 'dialectic', 'dialects', 'dialing', 'dialog', 'dialogue', 'dialogues', 'diameter', 'diametrically', 'diamond', 'diamonds', 'diana', 'diaper', 'diaphragm', 'diaphragms', 'diarchic', 'diarchies', 'diarchs', 'diarchy', 'diary', 'diaspora', 'diasporas', 'diatomic', 'diatoms', 'dice', 'dicer', 'dicing', 'dick', 'dickens', 'dickie', 'dicky', 'dictate', 'dictated', 'dictates', 'dictator', 'dictatorial', 'dictators', 'dictatorship', 'dictatorships', 'dictionaries', 'dictionary', 'did', 'dido', 'didst', 'die', 'died', 'dieppe', 'dies', 'diesel', 'diet', 'dietetics', 'dietician', 'diets', 'diffcult', 'differ', 'differed', 'difference', 'differences', 'different', 'differential', 'differentiate', 'differentiated', 'differentiation', 'differently', 'differing', 'differs', 'difficult', 'difficulties', 'difficulty', 'diffidence', 'diffraction', 'diffuse', 'diffused', 'diffusion', 'dig', 'digest', 'digested', 'digesting', 'digestion', 'digestive', 'digging', 'diggings', 'diggory', 'digit', 'digital', 'digitalis', 'digitally', 'digitus', 'dignified', 'dignity', 'digressions', 'dihydrogen', 'dike', 'dikes', 'dilatation', 'dilated', 'dilatory', 'dilemma', 'diligence', 'diligences', 'diligent', 'diligently', 'dillingham', 'dilly', 'dilsey', 'dilute', 'diluted', 'dim', 'dima', 'dime', 'dimension', 'dimensional', 'dimensions', 'diminish', 'diminished', 'diminishes', 'diminishing', 'diminution', 'diminutive', 'dimity', 'dimly', 'dimmed', 'dimmer', 'dimming', 'dimmler', 'dimostrazione', 'dimple', 'dimpled', 'dimples', 'dims', 'din', 'dinah', 'dine', 'dined', 'ding', 'dingler', 'dingy', 'dining', 'dinned', 'dinner', 'dinners', 'dinoflagellates', 'dinosaur', 'dinosaurs', 'dinosaurus', 'dinosauruses', 'dinsmore', 'dint', 'diode', 'dioecious', 'dion', 'diorite', 'dios', 'dioxide', 'dip', 'diplomacy', 'diplomas', 'diplomatic', 'diplomats', 'dipole', 'dipped', 'dipper', 'dippers', 'dipping', 'dips', 'dipt', 'dire', 'direct', 'directed', 'directing', 'direction', 'directions', 'directly', 'director', 'directors', 'directs', 'dirigible', 'dirt', 'dirty', 'disabilities', 'disability', 'disabled', 'disadvantage', 'disadvantages', 'disaffection', 'disagree', 'disagreeable', 'disagreeably', 'disagreement', 'disappear', 'disappearance', 'disappeared', 'disappearing', 'disappears', 'disappointed', 'disappointment', 'disappointments', 'disapproval', 'disarmament', 'disarmed', 'disarray', 'disaster', 'disc', 'discard', 'discarded', 'discern', 'discernible', 'discharge', 'discharged', 'discharging', 'discipline', 'disciplined', 'disciplines', 'disclose', 'disclosed', 'disclosing', 'disclosure', 'disclosures', 'discoloured', 'discomfort', 'disconsolate', 'discontent', 'discontented', 'discontentedly', 'discontentment', 'discontinued', 'discontinuities', 'discontinuous', 'discouraged', 'discouragement', 'discouraging', 'discourse', 'discourtesy', 'discover', 'discovered', 'discoverer', 'discoverers', 'discoveries', 'discovering', 'discovery', 'discredit', 'discrediting', 'discreet', 'discrepancies', 'discrepancy', 'discrete', 'discretion', 'discriminate', 'discriminating', 'discrimination', 'discs', 'discus', 'discuss', 'discussed', 'discussing', 'discussion', 'disdain', 'disdainful', 'disease', 'diseased', 'diseases', 'disembowelling', 'disenchanting', 'disengaged', 'disengages', 'disentangled', 'disfigures', 'disfluencies', 'disfranchised', 'disfranchising', 'disgorged', 'disgrace', 'disguise', 'disguised', 'disgust', 'disgusted', 'dish', 'dishes', 'dishevelled', 'dishing', 'dishonest', 'dishonor', 'dishonoring', 'disinherited', 'disintegrated', 'disinterest', 'disk', 'disks', 'dislike', 'disliked', 'dislikes', 'disliking', 'disloyal', 'dismal', 'dismally', 'dismantled', 'dismay', 'dismayed', 'dismembered', 'dismemberment', 'dismiss', 'dismissal', 'dismissed', 'dismounted', 'disobedience', 'disobedient', 'disobey', 'disorder', 'disordered', 'disorderly', 'disorders', 'disorganization', 'disorganize', 'disowned', 'disparities', 'dispassionate', 'dispatch', 'dispatched', 'dispatches', 'dispelled', 'dispense', 'dispensed', 'dispenses', 'dispensing', 'dispersal', 'disperse', 'dispersed', 'dispersion', 'dispersions', 'dispiriting', 'displace', 'displaced', 'displacement', 'displacing', 'display', 'displayed', 'displaying', 'displays', 'displeased', 'displeasure', 'disposable', 'disposal', 'disposed', 'disposing', 'disposition', 'disproportionate', 'dispute', 'disputed', 'disputes', 'disputing', 'disqualified', 'disregard', 'disregarded', 'disregarding', 'disregards', 'disreputable', 'disrespect', 'disrupted', 'disrupting', 'disruptive', 'disrupts', 'dissatisfied', 'disseminated', 'dissertations', 'dissimulation', 'dissipated', 'dissociation', 'dissolution', 'dissolve', 'dissolved', 'dissolves', 'dissolving', 'dissuaded', 'distance', 'distances', 'distant', 'distillation', 'distilled', 'distinct', 'distinction', 'distinctions', 'distinctive', 'distinctly', 'distinctness', 'distinguish', 'distinguishable', 'distinguished', 'distinguishes', 'distinguishing', 'distortion', 'distortions', 'distract', 'distracted', 'distractibility', 'distraction', 'distractions', 'distractors', 'distress', 'distressed', 'distressful', 'distressing', 'distribute', 'distributed', 'distribution', 'distributions', 'district', 'districts', 'disturb', 'disturbance', 'disturbances', 'disturbed', 'disturbing', 'disulfhide', 'disulphide', 'ditch', 'ditches', 'ditson', 'diurnal', 'diurnally', 'dive', 'dived', 'diver', 'diverge', 'diverged', 'divergent', 'diverging', 'divers', 'diverse', 'diversify', 'diversion', 'diversity', 'divert', 'diverting', 'dives', 'divested', 'divide', 'divided', 'divides', 'dividing', 'divination', 'divinations', 'divine', 'diviner', 'diviners', 'divines', 'diving', 'divining', 'divinity', 'division', 'divisions', 'divulge', 'dix', 'dizzy', 'dizzying', 'djoser', 'dmitri', 'dmitrich', 'dna', 'dnc', 'dns', 'do', 'doating', 'doberman', 'dobree', 'dobson', 'dobsonmeter', 'doc', 'docile', 'docility', 'dock', 'docks', 'doctor', 'doctorate', 'doctored', 'doctors', 'doctrinal', 'doctrine', 'doctrines', 'document', 'documentation', 'documented', 'documenting', 'documents', 'dodd', 'dodder', 'dodged', 'dodger', 'dodges', 'dodging', 'dodo', 'dodona', 'doe', 'doers', 'does', \"doesn't\", 'doffed', 'dog', 'doggie', 'dogherty', 'dogma', 'dogmatist', 'dogs', 'dogtrot', 'doh', 'doi', 'doin', 'doing', 'doings', 'dole', 'dolefully', 'dolittle', 'doll', 'dollar', 'dollars', 'dollies', 'dollinger', 'dolls', 'dolly', 'dolphin', 'dolphins', 'domain', 'domains', 'dome', 'domed', 'domestic', 'domestication', 'dominant', 'dominated', 'dominates', 'dominating', 'domination', 'domingo', 'dominican', 'dominion', 'dominions', 'domino', 'dominoes', 'dominos', 'domitian', 'domitius', 'domnann', 'domotic', 'domremy', 'domus', 'don', \"don't\", 'donald', 'donate', 'donatus', 'donau', 'done', 'donee', 'dong', 'donkey', 'donkeys', 'donnell', 'donnelle', 'doobie', 'doodle', 'doom', 'doomed', 'doone', 'door', 'doors', 'doorstep', 'doorway', 'doorways', 'dopamine', 'dope', 'dora', 'dorcas', 'dorian', 'doris', 'dorking', 'dormancy', 'dormant', 'dormitories', 'dormouse', 'dorothea', 'dorothy', 'dorry', 'dose', 'doses', 'dosshouses', 'dost', 'dot', 'doted', 'doth', 'dots', 'dotted', 'dotty', 'double', 'doubled', 'doubles', 'doublet', 'doubling', 'doubloons', 'doubly', 'doubt', 'doubted', 'doubtful', 'doubtfully', 'doubting', 'doubtless', 'doubts', 'dough', 'dour', 'dove', 'dover', 'doves', 'dovetailed', 'down', 'downcast', 'downhill', 'download', 'downloaded', 'downloads', 'downpour', 'downright', 'downside', 'downstairs', 'downstream', 'downward', 'downwards', 'downy', 'dowry', 'doze', 'dozen', 'dozens', 'dozing', 'dr', 'draft', 'drafted', 'drafting', 'drag', 'dragged', 'dragging', 'dragon', 'dragonhead', 'dragons', 'dragoons', 'drags', 'drah', 'drain', 'drainage', 'drained', 'drains', 'drake', 'dram', 'drama', 'dramatic', 'dramatically', 'dramatis', 'drandma', 'drank', 'draping', 'drastically', 'draught', 'draughts', 'draw', 'drawback', 'drawbacks', 'drawer', 'drawers', 'drawing', 'drawings', 'drawn', 'draws', 'drc', 'dread', 'dreaded', 'dreadful', 'dreadfully', 'dream', 'dreamed', 'dreamer', 'dreaming', 'dreams', 'dreamt', 'dreamy', 'drear', 'dreary', 'drenched', 'drenching', 'dresden', 'dress', 'dressed', 'dresses', 'dressing', 'dressings', 'dressler', 'dressmaker', 'drew', 'dribbled', 'dribbling', 'dried', 'drier', 'dries', 'driest', 'drift', 'drifted', 'drifting', 'drifts', 'drill', 'drilled', 'driller', 'drilling', 'drills', 'drink', 'drinking', 'drinks', 'drip', 'dripping', 'drive', 'driven', 'driver', 'drivers', 'drives', 'driving', 'drizzle', 'droll', 'droller', 'drollery', 'dron', 'drone', 'drool', 'drooped', 'drooping', 'droops', 'drop', 'droplet', 'droplets', 'dropped', 'dropping', 'droppings', 'drops', 'drosera', 'drought', 'droughts', 'drove', 'droves', 'drown', 'drowned', 'drowning', 'drowsy', 'drs', 'drudge', 'drudgery', 'drug', 'druggist', 'drugs', 'drugstore', 'druid', 'drum', 'drummer', 'drummers', 'drumming', 'drums', 'drunk', 'drunken', 'dry', 'dryer', 'drying', 'dryly', 'dryness', 'dsrna', 'dsss', 'du', 'dual', 'duane', 'dub', 'dubbed', 'dublin', 'ducal', 'ducats', 'duchaine', 'duches', 'duchess', 'duck', 'ducked', 'duckling', 'ducklings', 'ducks', 'ducky', 'duct', 'ducts', 'dudu', 'due', 'dues', 'dufff', 'dug', 'duke', 'duksie', 'dull', 'dulness', 'duly', 'dum', 'duma', 'dumb', 'dumbarton', 'dump', 'dumped', 'dumpling', 'dumps', 'dumpy', 'dun', 'duncan', 'dunces', 'dunes', 'dungeon', 'dunhaven', 'dunmore', 'dunois', 'dunoma', 'dunstable', 'dunwich', 'duo', 'dupin', 'duplicated', 'duprez', 'durability', 'durable', 'durand', 'durant', 'duration', 'durazzo', 'durdlebury', 'durindana', 'during', 'dusk', 'dusks', 'dusky', 'dust', 'dustbins', 'dusted', 'duster', 'dustings', 'dusty', 'dut', 'dutch', 'dutchman', 'duties', 'duty', 'dvd', 'dvd+-r', 'dvd+-rw', 'dvi', 'dvm', 'dwarf', 'dwarfed', 'dwarfer', 'dwarfs', 'dwell', 'dweller', 'dwellers', 'dwelling', 'dwellings', 'dwells', 'dwelt', 'dyalizh', 'dyarchy', 'dyed', 'dyeing', 'dyes', 'dying', 'dyke', 'dymov', 'dynamic', 'dynamical', 'dynamically', 'dynamics', 'dynamite', 'dynamo', 'dynamometer', 'dynamos', 'dynastic', 'dynasties', 'dynasty', 'dypsis', 'dysfunctional', 'dyspepsia', 'e', 'each', 'eager', 'eagerly', 'eagerness', 'eagle', 'eagre', 'ear', 'eardrum', 'eared', 'earl', 'earless', 'earlier', 'earliest', 'earls', 'early', 'earn', 'earned', 'earners', 'earnest', 'earnestly', 'earning', 'earnings', 'earns', 'earraid', 'ears', 'earth', \"earth's\", 'earthen', 'earthenware', 'earthman', 'earthquake', 'earthquakes', 'earthworm', 'earthworms', 'ease', 'easel', 'easier', 'easiest', 'easily', 'easin', 'easing', 'east', 'eastbound', 'easter', 'eastern', 'easton', 'eastward', 'easy', 'eat', 'eatable', 'eaten', 'eater', 'eaters', 'eatin', 'eating', 'eats', 'eaved', 'eaves', 'eavesdroppers', 'ebbed', 'ebbing', 'ebei', 'ebers', 'eblaite', 'ebonite', 'ebony', 'ebro', 'ebullitions', 'eccentric', 'eccentricity', 'eccles', 'ecclesiastical', 'eccrine', 'echinoderms', 'echo', 'echoed', 'echoes', 'echoing', 'echolocation', 'eckardt', 'eclipse', 'eclipses', 'ecological', 'ecologist', 'ecologists', 'ecology', 'economic', 'economical', 'economically', 'economics', 'economies', 'economist', 'economists', 'economize', 'economizing', 'economy', 'ecosystem', 'ecosystems', 'ecstasy', 'ectoderm', 'ed', 'edaphologists', 'edaphology', 'edaphos', 'eddie', 'eddied', 'eddies', 'eden', 'eder', 'edgar', 'edge', 'edged', 'edges', 'edging', 'edible', 'edie', 'edifice', 'edinburgh', 'edison', 'edit', 'edited', 'edith', 'editing', 'editor', 'editorial', 'editors', 'edmeston', 'edmund', 'edna', 'edom', 'edu', 'educate', 'educated', 'educating', 'education', 'educational', 'edvard', 'edward', 'edwards', 'edwin', 'ee', 'eec', 'eeeeeehhh', 'eeg', 'eegs', 'eei', 'eel', 'eels', 'eerie', 'efe', 'effaced', 'effect', 'effected', 'effecting', 'effective', 'effectively', 'effectiveness', 'effects', 'effectually', 'effervesce', 'effervescing', 'efficacy', 'efficiency', 'efficient', 'efficiently', 'effie', 'effigies', 'effort', 'effortless', 'effortlessly', 'efforts', 'egerton', 'egg', 'eggs', 'eggshell', 'egoism', 'egotism', 'egregiously', 'egsy', 'egypt', 'egyptian', 'egyptians', 'ehe', 'eider', 'eiffel', 'eight', 'eighteen', 'eighteenth', 'eighth', 'eighths', 'eightieth', 'eighty', 'eii', 'eileen', 'einstein', 'eiskeller', 'either', 'ejaculation', 'ejection', 'ejections', 'ekai', 'ekaterina', 'el', 'elaborate', 'elaborated', 'elaborately', 'elaboration', 'elaidine', 'elamite', 'elapse', 'elapsed', 'elastic', 'elastica', 'elasticity', 'elbow', 'elbows', 'elder', 'elderly', 'elders', 'eldest', 'eldon', 'eldritch', 'eleanor', 'elecampane', 'elect', 'elected', 'election', 'elections', 'elective', 'elector', 'electorate', 'electric', 'electrical', 'electrically', 'electrician', 'electricity', 'electrified', 'electrify', 'electro', 'electrode', 'electrodes', 'electroencephalogram', 'electroencephalograms', 'electroencephalography', 'electroluminescence', 'electrolysis', 'electrolyte', 'electrolytes', 'electrolyzed', 'electromagnet', 'electromagnetic', 'electromagnets', 'electromechanical', 'electromotive', 'electron', 'electronegative', 'electronic', 'electronics', 'electrons', 'electrostatic', 'elegance', 'elegant', 'element', 'elementary', 'elements', 'eleonora', 'elephant', 'elephants', 'elevated', 'elevation', 'elevator', 'eleven', 'eleventh', 'elfish', 'elfrida', 'elicited', 'eligible', 'eliminate', 'eliminated', 'eliminating', 'elimination', 'elinor', 'eliot', 'elise', 'eliza', 'elizabeth', 'elizabethan', 'elk', 'elks', 'ellen', 'ellesmere', 'ellington', 'ellipse', 'elliptical', 'ellis', 'ellison', 'ellsworth', 'elm', 'elmburg', 'elmond', 'elms', 'elongated', 'eloped', 'eloquence', 'eloquently', 'elsa', 'else', 'elsewhere', 'elsie', 'elting', 'elton', 'elucidate', 'elucidation', 'elude', 'eluded', 'elusive', 'elv', 'elves', 'elwood', 'em', 'email', 'emails', 'emancipated', 'emancipation', 'embankment', 'embargo', 'embark', 'embarkation', 'embarked', 'embarrass', 'embarrassed', 'embarrassment', 'embassies', 'embedded', 'embellishment', 'embers', 'emblems', 'embodied', 'embody', 'embolden', 'embossed', 'embraced', 'embracing', 'embroidered', 'embroidery', 'embryo', 'embryonic', 'embryos', 'emc', 'emeka', 'emerald', 'emerge', 'emerged', 'emergency', 'emerges', 'emerging', 'emerson', 'emf', 'emil', 'emile', 'emily', 'eminent', 'eminently', 'emirate', 'emirates', 'emission', 'emissions', 'emit', 'emits', 'emitted', 'emitter', 'emitters', 'emitting', 'emma', 'emmanuel', 'emoluments', 'emotion', 'emotional', 'emotionally', 'emotions', 'empathic', 'empathy', 'emperor', 'emphasis', 'emphasise', 'emphasized', 'emphatic', 'empire', 'empires', 'empirical', 'employ', 'employed', 'employee', 'employees', 'employer', 'employers', 'employing', 'employment', 'employments', 'employs', 'empowered', 'empress', 'emptied', 'emptiness', 'empty', 'emptying', 'empurpled', 'emulation', 'emulator', 'emulators', 'emulsion', 'emulsions', 'en', 'enable', 'enabled', 'enables', 'enabling', 'enact', 'enacted', 'enamel', 'enameled', 'encamped', 'encampment', 'encapsulate', 'encapsulation', 'enchanted', 'enchanter', 'enchanting', 'enchantingly', 'enchantment', 'encircled', 'encircling', 'enclosed', 'encloses', 'enclosure', 'enclosures', 'encode', 'encoded', 'encoders', 'encoding', 'encompass', 'encompassed', 'encompasses', 'encompassing', 'encounter', 'encountered', 'encountering', 'encounters', 'encourage', 'encouraged', 'encouragement', 'encourages', 'encouraging', 'encrusted', 'encumbered', 'end', 'enda', 'endangered', 'endearments', 'endears', 'endeavor', 'endeavored', 'endeavoring', 'endeavors', 'endeavour', 'endeavoured', 'ended', 'endemic', 'ending', 'endings', 'endless', 'endo', 'endocannabinoid', 'endocarp', 'endoderm', 'endothelium', 'endow', 'endowed', 'endowment', 'ends', 'endurable', 'endurance', 'endure', 'endured', 'enduring', 'enduringly', 'enemies', 'enemy', 'energetic', 'energies', 'energy', 'enforce', 'enforced', 'enforcement', 'enfranchised', 'engage', 'engaged', 'engagement', 'engagements', 'engages', 'engaging', 'engine', 'engineer', 'engineered', 'engineering', 'engineers', 'engines', 'england', 'english', 'englishman', 'englishmen', 'engraved', 'engraving', 'enhance', 'enhanced', 'enhancement', 'enhances', 'enhancing', 'eniac', 'enid', 'enigma', 'enjoin', 'enjoy', 'enjoyable', 'enjoyed', 'enjoyin', 'enjoying', 'enjoyment', 'enjoyments', 'enjoys', 'enlarged', 'enlargement', 'enlargements', 'enlarging', 'enlightened', 'enlightening', 'enlightenment', 'enlist', 'enlisted', 'ennobled', 'enns', 'enolase', 'enormous', 'enormously', 'enough', 'enquired', 'enraged', 'enrich', 'enriched', 'enscombe', 'ensconces', 'ensemble', 'ensign', 'enslaved', 'enslaving', 'ensue', 'ensued', 'ensuing', 'ensure', 'ensuring', 'entail', 'entailed', 'entailing', 'entails', 'entanglements', 'entente', 'enter', 'entered', 'entering', 'enterprise', 'enterprising', 'enters', 'entertain', 'entertained', 'entertaining', 'entertainment', 'entertainments', 'enthralling', 'enthusiasm', 'enthusiast', 'enthusiastically', 'enthusiasts', 'enticed', 'enticing', 'entire', 'entirely', 'entitled', 'entrance', 'entranced', 'entrances', 'entraps', 'entreat', 'entreated', 'entreaties', 'entrenchments', 'entrepreneurship', 'entries', 'entropy', 'entrusted', 'entry', 'enumerated', 'enumeration', 'envelop', 'envelope', 'enveloped', 'envelopes', 'enveloping', 'envelops', 'envied', 'environment', 'environmental', 'environmentally', 'environments', 'envoy', 'envy', 'enzyme', 'enzymes', 'epaulets', 'eph', 'epic', 'epicurean', 'epidemic', 'epidemics', 'epidemiology', 'epidermal', 'epidermis', 'epigastric', 'epilepsy', 'epileptic', 'epilinum', 'epipelagic', 'epiphytes', 'epipremnum', 'episode', 'episodes', 'epitaph', 'epithelial', 'epithelium', 'epithet', 'epizootias', 'epoch', 'epochs', 'eps', 'epsom', 'equal', 'equaled', 'equality', 'equalled', 'equally', 'equals', 'equator', 'equatorial', 'equidistant', 'equilibrium', 'equinox', 'equinoxes', 'equipage', 'equipment', 'equipoise', 'equipped', 'equivalent', 'er', 'era', 'eradicate', 'erase', 'erased', 'erasmus', 'erb', 'erdoo', 'ere', 'erebus', 'erect', 'erected', 'erecting', 'eric', 'ericsson', 'eridu', 'erin', 'erkels', 'erley', 'ermine', 'ern', 'ernest', 'erns', 'ernst', 'eroding', 'erosion', 'erotot', 'erp', 'errand', 'errands', 'errant', 'erratic', 'erratically', 'erroneous', 'error', 'errors', 'erupt', 'eruption', 'eruptions', 'eruptive', 'erupts', 'eruro', 'erythrocytes', 'eryum', 'esbekiyah', 'escalated', 'escapades', 'escape', 'escaped', 'escapes', 'escaping', 'escarpment', 'escort', 'escorted', 'escutcheon', 'eskdale', 'esl', 'esm', 'esophagus', 'esopus', 'espanola', 'especial', 'especially', 'espied', 'esplanade', 'esq', 'essays', 'essential', 'essentially', 'essex', 'est', 'establish', 'established', 'establishes', 'establishing', 'establishment', 'establishments', 'estabrook', 'estate', 'estates', 'esteem', 'esteemed', 'esther', 'estimable', 'estimate', 'estimated', 'estimates', 'estimating', 'estimation', 'estonia', 'estradiol', 'estrangements', 'et', 'etc', 'etched', 'etching', 'etchings', 'etemenanki', 'eternal', 'ethel', 'ether', 'ethernet', 'ethical', 'ethics', 'ethiopians', 'ethnic', 'ethnicities', 'ethnicity', 'etin', 'etiquette', 'etna', 'eton', 'etymology', 'eu', 'eucalyptus', 'eugene', 'eugenia', 'eukaryote', 'eulogy', 'eumycetes', 'eumycota', 'euphrates', 'eurasian', 'euro', 'eurogroup', 'europaea', 'europe', 'european', 'eurydice', 'eustace', 'ev', 'eva', 'evacuated', 'evacuations', 'evade', 'evaded', 'evaluating', 'evan', 'evangelical', 'evanished', 'evans', 'evanston', 'evaporate', 'evaporated', 'evaporation', 'evapotranspiration', 'evasive', 'eve', 'evelyn', 'even', 'evening', 'evenings', 'evenly', 'evensong', 'event', 'eventful', 'events', 'eventually', 'ever', 'evergreens', 'everhard', 'evermore', 'every', 'everybody', 'everyday', 'everyone', 'everything', 'everywhere', 'eves', 'evidence', 'evidenced', 'evidences', 'evident', 'evidently', 'evil', 'evildoing', 'evils', 'evinced', 'evolution', 'evolutionary', 'evolutions', 'evolve', 'evolved', 'evolves', 'evolving', 'ew', 'ewald', 'ewes', 'ex', 'exact', 'exacted', 'exacting', 'exactions', 'exactitude', 'exactly', 'exactness', 'exaggerated', 'exaggerating', 'exaggerations', 'exalted', 'exaltedly', 'examination', 'examinations', 'examine', 'examined', 'examiners', 'examines', 'examining', 'example', 'examples', 'exasperated', 'exasperating', 'exasperations', 'excavation', 'exceed', 'exceeded', 'exceedingly', 'exceeds', 'excellence', 'excellency', 'excellent', 'excellently', 'excelling', 'excelsior', 'except', 'excepted', 'excepting', 'exception', 'exceptional', 'exceptionally', 'exceptions', 'excess', 'excessive', 'excessively', 'exchange', 'exchanged', 'exchanges', 'exchanging', 'exchequer', 'excision', 'excitability', 'excitable', 'excitant', 'excitation', 'excite', 'excited', 'excitedly', 'excitement', 'excites', 'exciting', 'exclaim', 'exclaimed', 'exclaiming', 'exclamation', 'exclamations', 'exclude', 'excluded', 'excludes', 'exclusion', 'exclusive', 'exclusively', 'excrementitious', 'excrete', 'excursion', 'excursions', 'excuse', 'excused', 'excuses', 'executables', 'execute', 'executed', 'executes', 'executing', 'execution', 'executioner', 'executions', 'executive', 'executives', 'exemplar', 'exempt', 'exempted', 'exemptions', 'exercise', 'exercised', 'exercises', 'exercising', 'exert', 'exerted', 'exerting', 'exertions', 'exerts', 'exhalation', 'exhale', 'exhaling', 'exhaust', 'exhausted', 'exhausting', 'exhaustion', 'exhaustive', 'exhibit', 'exhibited', 'exhibiting', 'exhibition', 'exhibitions', 'exhibits', 'exhorter', 'exigencies', 'exile', 'exiled', 'exist', 'existed', 'existence', 'existing', 'exists', 'exit', 'exits', 'exocarp', 'exodus', 'exoplanet', 'exoplanets', 'exoskeleton', 'exoskeletons', 'exotic', 'expand', 'expanded', 'expanding', 'expands', 'expanse', 'expansion', 'expansive', 'exparte', 'expect', 'expectancy', 'expectant', 'expectation', 'expectations', 'expected', 'expecting', 'expects', 'expediency', 'expedient', 'expedients', 'expedition', 'expeditions', 'expel', 'expelled', 'expels', 'expend', 'expended', 'expending', 'expenditure', 'expenditures', 'expense', 'expenses', 'expensive', 'expensively', 'experience', 'experienced', 'experiences', 'experiencing', 'experiment', 'experimental', 'experimentation', 'experimented', 'experimenting', 'experiments', 'expert', 'experts', 'expiation', 'expiration', 'expire', 'expired', 'expiring', 'expiry', 'explain', 'explained', 'explaining', 'explains', 'explanation', 'explanations', 'explanatory', 'explicit', 'explicitly', 'explode', 'exploded', 'explodes', 'exploding', 'exploitation', 'exploited', 'exploiting', 'exploits', 'exploration', 'explorations', 'explore', 'explored', 'explorer', 'explorers', 'explores', 'exploring', 'explosion', 'explosions', 'explosive', 'explosively', 'explosives', 'export', 'exporting', 'exports', 'expose', 'exposed', 'exposing', 'exposition', 'exposure', 'exposures', 'express', 'expressed', 'expresses', 'expressing', 'expression', 'expressions', 'expressly', 'expulsion', 'exquisite', 'extant', 'extend', 'extended', 'extending', 'extends', 'extension', 'extensive', 'extensively', 'extent', 'extenuation', 'exterior', 'external', 'externally', 'extinct', 'extinction', 'extinguish', 'extinguished', 'extinguisher', 'extinguishing', 'extolled', 'extort', 'extra', 'extracellular', 'extract', 'extracted', 'extracting', 'extraction', 'extracts', 'extraordinarily', 'extraordinary', 'extrapolated', 'extras', 'extrasolar', 'extravagance', 'extravagant', 'extreme', 'extremely', 'extremest', 'extremists', 'extremities', 'extremity', 'extrinsic', 'exuberance', 'exuberant', 'exultant', 'exulting', 'eye', 'eyebrows', 'eyed', 'eyeglasses', 'eyeing', 'eyelids', 'eyes', 'eyesight', 'eyewitness', 'ezra', 'f', 'fa', 'fabius', 'fables', 'fabric', 'fabrica', 'fabrics', 'fabry', 'fabulous', 'face', 'facebook', 'faced', 'faces', 'facial', 'facilitate', 'facilitated', 'facilitates', 'facilitating', 'facilities', 'facility', 'facing', 'facings', 'facsimile', 'fact', 'factbook', 'faction', 'factions', 'factor', 'factories', 'factors', 'factory', 'facts', 'faculties', 'faculty', 'fade', 'faded', 'fading', 'fads', 'faery', 'fahr', 'fahrenheit', 'fail', 'failed', 'failing', 'fails', 'failure', 'failures', 'fain', 'faint', 'fainted', 'fainter', 'faintest', 'fainting', 'faintly', 'faintness', 'fair', 'fairest', 'fairies', 'fairly', 'fairness', 'fairport', 'fairs', 'fairy', 'fairyish', 'fairyland', 'faith', 'faithful', 'faithfully', 'faiths', 'fake', 'fakeer', 'faker', 'falcon', 'falconers', 'falernian', 'fall', 'fallacy', 'fallen', 'falling', 'fallow', 'falls', 'false', 'falsehood', 'falsity', 'falstaff', 'fame', 'familiar', 'familiarity', 'familiarly', 'families', 'family', 'famine', 'famous', 'fan', 'fanatic', 'fancied', 'fancies', 'fanciful', 'fancy', 'fancying', 'fangs', 'fanned', 'fanning', 'fanny', 'fans', 'fantapine', 'fantasizing', 'fantastic', 'fantasy', 'far', 'faraday', 'faraway', 'fare', 'fared', 'fareham', 'farers', 'fares', 'farewell', 'farewells', 'farm', 'farmed', 'farmer', 'farmers', 'farmhouse', 'farmhouses', 'farming', 'farms', 'farmyard', 'farnum', 'farther', 'farthest', 'farthings', 'fascinate', 'fascinated', 'fascinating', 'fascination', 'fascist', 'fascists', 'fashion', 'fashionable', 'fashioned', 'fashions', 'fast', 'fasten', 'fastened', 'fastening', 'fastenings', 'fastens', 'faster', 'fastidious', 'fat', 'fatal', 'fate', 'fateful', 'fates', 'father', 'fatherland', 'fathers', 'fati', 'fatigue', 'fatigued', 'fatima', 'fatma', 'fats', 'fatten', 'fatty', 'fault', 'faulting', 'faultless', 'faults', 'favor', 'favorable', 'favorably', 'favored', 'favoring', 'favorite', 'favorites', 'favors', 'favour', 'favoured', 'favourite', 'favourites', 'favours', 'favre', 'fawn', 'fawned', 'fawning', 'fawns', 'fax', 'fayal', 'fayre', 'fays', 'fbi', 'fealty', 'fear', 'feared', 'fearful', 'fearfully', 'fearing', 'fearless', 'fearlessness', 'fears', 'feasibility', 'feasible', 'feast', 'feasted', 'feasting', 'feasts', 'feat', 'feather', 'featherbed', 'feathered', 'feathers', 'feathery', 'feats', 'feature', 'featured', 'features', 'feb', 'february', 'feces', 'fed', 'federal', 'federalists', 'federated', 'federation', 'federative', 'feds', 'fedya', 'fee', 'feeble', 'feebleness', 'feebly', 'feed', 'feedback', 'feeder', 'feeders', 'feeding', 'feeds', 'feel', 'feeler', 'feeling', 'feelings', 'feels', 'fees', 'feet', 'feigned', 'feint', 'felicity', 'feline', 'felipe', 'felis', 'felix', 'fell', 'fella', 'fellas', 'felled', 'felling', 'fellness', 'fellow', 'fellows', 'fellowship', 'fellowships', 'fellsgarth', 'felt', 'female', 'females', 'fen', 'fence', 'fenced', 'fences', 'fencing', 'fender', 'fenelon', 'fennimore', 'feodum', 'ferdinand', 'ferguson', 'fermentation', 'fermenting', 'fern', 'ferns', 'ferocious', 'ferrers', 'ferried', 'ferrimagnetic', 'ferris', 'ferro', 'ferromagnetic', 'ferrous', 'ferry', 'ferryboats', 'ferryman', 'fertile', 'fertility', 'fertilization', 'fertilize', 'fertilized', 'fertilizer', 'fertilizers', 'fervent', 'fervently', 'fervor', 'festival', 'festivals', 'festivities', 'festoons', 'fetch', 'fetching', 'fete', 'fetes', 'fettered', 'fetus', 'feud', 'feudal', 'feudalism', 'feudum', 'fever', 'feverish', 'few', 'fewer', 'fewest', 'feynman', 'fi', 'fiber', 'fibers', 'fibre', 'fibres', 'fibrillary', 'fibrillation', 'fibrin', 'fibrinogen', 'fibrous', 'fiction', 'fictitious', 'fiddle', 'fidelia', 'fidelity', 'fidget', 'fidgeted', 'fido', 'fie', 'fief', 'fiefs', 'field', 'fielded', 'fielding', 'fields', 'fieldwork', 'fierce', 'fiercely', 'fiercer', 'fiery', 'fifteen', 'fifteens', 'fifteenth', 'fifth', 'fifthly', 'fifty', 'fig', 'figaro', 'fight', 'fighter', 'fighters', 'fighting', 'figs', 'figure', 'figured', 'figures', 'figuring', 'fikenhild', 'filaments', 'file', 'filed', 'files', 'filial', 'filigreed', 'filing', 'fill', 'filled', 'fillets', 'filling', 'fills', 'film', 'filming', 'filmmakers', 'films', 'filmy', 'filter', 'filtered', 'filtering', 'filters', 'filth', 'filthiness', 'fin', 'final', 'finally', 'finals', 'finance', 'finances', 'financial', 'financing', 'find', 'finding', 'findings', 'finds', 'fine', 'fined', 'finely', 'fineness', 'finer', 'finery', 'finesse', 'finest', 'finger', 'fingernail', 'fingerprint', 'fingerprints', 'fingers', 'fingertips', 'finish', 'finished', 'finishers', 'finishes', 'finishing', 'finland', 'finny', 'fins', 'fionn', 'fir', 'fire', 'firearms', 'firebars', 'firebrick', 'firecrackers', 'fired', 'fireflies', 'firefly', 'firefox', 'firelight', 'fireman', 'fireplace', 'fireplaces', 'fireproof', 'fires', 'fireside', 'firewood', 'firework', 'firing', 'firkins', 'firm', 'firmament', 'firmly', 'firmness', 'firms', 'firmware', 'firs', 'first', 'firstborn', 'fish', 'fishballs', 'fished', 'fisher', 'fisherfolk', 'fisheries', 'fisherman', 'fishermen', 'fishes', 'fisheye', 'fishing', 'fishnets', 'fishy', 'fisk', 'fiske', 'fissures', 'fist', 'fists', 'fit', 'fitful', 'fitna', 'fitness', 'fits', 'fitted', 'fittest', 'fitting', 'fitz', 'fitzpatrick', 'five', 'five...no', 'fix', 'fixation', 'fixed', 'fixedly', 'fixes', 'fixing', 'fixture', 'fizeau', 'fizz', 'flabby', 'flag', 'flagellum', 'flagg', 'flags', 'flake', 'flaked', 'flakes', 'flambeau', 'flamboyant', 'flame', 'flamed', 'flameless', 'flamelike', 'flames', 'flaming', 'flamingos', 'flammable', 'flanders', 'flanges', 'flanking', 'flanks', 'flannel', 'flannels', 'flap', 'flapjack', 'flapped', 'flapping', 'flaps', 'flare', 'flared', 'flaring', 'flash', 'flashed', 'flashes', 'flashing', 'flashy', 'flat', 'flatland', 'flatly', 'flats', 'flatten', 'flatter', 'flattered', 'flattering', 'flattest', 'flattish', 'flaunting', 'flavian', 'flavium', 'flavius', 'flavor', 'flavour', 'flaws', 'flax', 'flaxen', 'fleas', 'fleck', 'flecked', 'flecking', 'flecks', 'fled', 'fledged', 'fleece', 'fleecy', 'fleeing', 'fleet', 'fleetness', 'fleets', 'fleming', 'flemish', 'flesh', 'fleshy', 'fleur', 'flew', 'flexibility', 'flexible', 'flicker', 'flickered', 'flickering', 'flicks', 'flies', 'fliest', 'flight', 'flighty', 'flimsy', 'flinched', 'flinching', 'fling', 'flinging', 'flint', 'flints', 'flippers', 'flirtation', 'flitted', 'float', 'floated', 'floating', 'floats', 'flock', 'flocked', 'flocking', 'flocks', 'flood', 'flooded', 'flooding', 'floods', 'floor', 'floored', 'flooring', 'floors', 'flop', 'flopped', 'floppy', 'flopsy', 'flora', 'florence', 'florentine', 'florets', 'florey', 'florida', 'floss', 'flossie', 'flossy', 'flotilla', 'flotillas', 'flounce', 'flounder', 'floundering', 'flour', 'flourish', 'flourished', 'flourishes', 'flourishing', 'flow', 'flowed', 'flower', 'flowered', 'flowering', 'flowers', 'flowery', 'flowing', 'flown', 'flows', 'flu', 'fluctuations', 'fluency', 'fluent', 'fluff', 'fluffy', 'fluid', 'fluids', 'fluke', 'flukes', 'flung', 'flunkey', 'fluorescence', 'fluorescent', 'flurried', 'flush', 'flushed', 'flustered', 'flute', 'flutes', 'flutey', 'flutter', 'fluttered', 'fluttering', 'fluvial', 'fly', 'flyaway', 'flyers', 'flying', 'flynn', 'fm', 'fmri', 'fne', 'fnirs', 'foal', 'foam', 'foamed', 'foaming', 'focal', 'foci', 'focus', 'focused', 'focuses', 'focusing', 'focussed', 'fodder', 'foe', 'foederis', 'foes', 'fog', 'foger', 'foggy', 'fogs', 'foil', 'fold', 'folded', 'folding', 'folds', 'foliage', 'folio', 'folk', 'folks', 'follicle', 'follow', 'followed', 'followers', 'following', 'follows', 'folly', 'fomented', 'fond', 'fonder', 'fondle', 'fondled', 'fondly', 'fonseca', 'font', 'fontaine', 'food', 'foods', 'foodstuffs', 'fool', 'fooled', 'foolish', 'foolishly', 'foolishness', 'fools', 'foot', 'football', 'footboard', 'foote', 'footed', 'footer', 'footfalls', 'foothills', 'footing', 'footman', 'footnotes', 'footpaths', 'footprints', 'footstep', 'footsteps', 'footstool', 'for', 'forage', 'foraminifera', 'forastero', 'forbade', 'forbes', 'forbid', 'forbidden', 'forbidding', 'force', 'forced', 'forceful', 'forces', 'forcible', 'forcing', 'ford', 'fordham', 'fore', 'forebear', 'foreboding', 'forefathers', 'forefingers', 'forefront', 'forego', 'foregoing', 'forehead', 'foreign', 'foreigners', 'foreland', 'forelegs', 'foreman', 'foremost', 'forenoon', 'forepart', 'forerunner', 'foresee', 'foreseen', 'foresight', 'forest', 'forested', 'forester', 'forests', 'foretime', 'foretold', 'forever', 'forfeited', 'forgave', 'forge', 'forged', 'forget', 'forgetery', 'forgetfulness', 'forgets', 'forgetting', 'forging', 'forgive', 'forgiven', 'forgiveness', 'forgot', 'forgotten', 'fork', 'forked', 'forkfuls', 'forks', 'forlorn', 'form', 'forma', 'formal', 'formally', 'format', 'formation', 'formations', 'formats', 'formatted', 'formed', 'former', 'formerly', 'formidable', 'forming', 'formless', 'forms', 'formula', 'formulae', 'formulas', 'formulated', 'formulates', 'formulation', 'forsake', 'forsaken', 'forsook', 'forsooth', 'forsythe', 'fort', 'forth', 'forthwith', 'fortification', 'fortifications', 'fortified', 'fortnight', 'fortress', 'fortresses', 'forts', 'fortunate', 'fortunately', 'fortune', 'fortunes', 'fortuny', 'forty', 'forums', 'forward', 'forwards', 'foscolia', 'fossil', 'fossilized', 'fossils', 'foster', 'fostered', 'fostering', 'foucquier', 'fought', 'foul', 'fouler', 'foully', 'fouls', 'found', 'foundation', 'foundations', 'founded', 'founder', 'foundered', 'founding', 'foundry', 'fountain', 'fountains', 'four', 'fourche', 'fourier', 'fours', 'fourteen', 'fourth', 'fourthly', 'fourths', 'fowl', 'fowling', 'fowls', 'fox', 'foxes', 'foxtails', 'foxy', 'fraction', 'fractional', 'fractions', 'fracture', 'fragile', 'fragment', 'fragmentation', 'fragments', 'fragrance', 'fragrant', 'frail', 'frame', 'framed', 'frames', 'framework', 'frameworks', 'framing', 'framton', 'france', 'frances', 'franchise', 'franchises', 'francis', 'franciscan', 'francisco', 'franco', 'francois', 'francs', 'frank', 'franklin', 'frankly', 'frankness', 'franks', 'frantic', 'frantically', 'franz', 'fraser', 'frass', 'fraternity', 'fraud', 'fray', 'freak', 'freax', 'freckled', 'fred', 'freddie', 'freddy', 'frederic', 'frederica', 'frederick', 'free', 'freed', 'freedman', 'freedom', 'freedoms', 'freeing', 'freely', 'freeman', 'freemen', 'freer', 'freeway', 'freeze', 'freezer', 'freezes', 'freezing', 'freight', 'freights', 'french', 'frenchman', 'frenchmen', 'frenzies', 'frenzy', 'frequencies', 'frequency', 'frequent', 'frequented', 'frequently', 'frequents', 'fresh', 'freshened', 'freshest', 'freshet', 'freshly', 'freshman', 'freshmen', 'freshness', 'fresno', 'fret', 'fretful', 'fretted', 'freud', 'friction', 'frictional', 'friday', 'fridays', 'fridge', 'fried', 'friedman', 'friedrich', 'friend', 'friendless', 'friendliness', 'friendly', 'friends', 'friendship', 'friendships', 'fright', 'frighten', 'frightened', 'frightening', 'frightful', 'frightfully', 'frigid', 'frijoles', 'frill', 'frills', 'fringe', 'fringed', 'frisk', 'frisking', 'frisky', 'frittered', 'frivolities', 'frivolous', 'fro', 'frock', 'frocks', 'frog', 'frogs', 'frogspawn', 'frolic', 'frolicked', 'frolicking', 'frolics', 'from', 'fronds', 'front', 'frontage', 'frontal', 'fronted', 'frontier', 'frontiers', 'frontiersmen', 'frontopolar', 'fronts', 'frost', 'frosted', 'frosts', 'frosty', 'frown', 'frowned', 'frowning', 'frowzy', 'froze', 'frozen', 'fructose', 'frugal', 'frugally', 'fruit', 'fruitful', 'fruitfulness', 'fruiting', 'fruitless', 'fruitlessly', 'fruits', 'frustrated', 'frustration', 'frustrations', 'fry', 'ft', 'fuchsin', 'fudge', 'fuel', 'fueled', 'fuels', 'fufu', 'fugitive', 'fugitives', 'fulcrum', 'fulfil', 'fulfill', 'fulfilled', 'fulfilling', 'fulfillment', 'fulfilment', 'full', 'fulldome', 'fulleon', 'fuller', 'fullest', 'fulling', 'fulls', 'fully', 'fulness', 'fumble', 'fumbling', 'fumed', 'fumes', 'fuming', 'fun', 'function', 'functional', 'functionality', 'functionally', 'functionaries', 'functioning', 'functions', 'fund', 'fundamental', 'fundamentalist', 'fundamentally', 'fundamentals', 'funding', 'funds', 'funeral', 'fungal', 'fungi', 'fungus', 'funk', 'funnel', 'funneled', 'funneling', 'funniest', 'funny', 'fur', 'furbearing', 'furies', 'furious', 'furiously', 'furled', 'furnace', 'furnaces', 'furnish', 'furnished', 'furnishes', 'furnishing', 'furniture', 'furred', 'furrows', 'furry', 'further', 'furtherance', 'furthered', 'furthermore', 'furthest', 'furtive', 'furtively', 'fury', 'furze', 'fuse', 'fused', 'fusee', 'fusibility', 'fusiliers', 'fusing', 'fusion', 'fuss', 'futile', 'future', 'futuresplash', 'futurewave', 'futurist', 'fuwalda', 'fuzzy', 'fykenyld', 'fynbos', 'g', 'ga', 'gabardines', 'gabled', 'gables', 'gabriel', 'gad', 'gaff', 'gaffer', 'gaffers', 'gaiety', 'gaily', 'gain', 'gained', 'gaining', 'gains', 'gaiters', 'gala', 'galactic', 'galan', 'galaxias', 'galaxies', 'galaxy', 'gale', 'gales', 'galicia', 'galilei', 'galileo', 'gall', 'galland', 'gallant', 'gallantly', 'galled', 'galleons', 'galleries', 'gallery', 'gallipoli', 'gallon', 'gallons', 'gallop', 'galloped', 'galloping', 'galloway', 'gallows', 'galore', 'galton', 'galvanic', 'galvanized', 'galvanometer', 'gamble', 'gamboled', 'game', 'gamers', 'games', 'gamesters', 'gametic', 'gamification', 'gamma', 'gander', 'ganelon', 'gang', 'ganga', 'ganges', 'ganglia', 'gangs', 'gangway', 'ganshof', 'gaoler', 'gap', 'gaping', 'gaps', 'garage', 'garancin', 'garay', 'garb', 'garbed', 'garcia', 'garden', 'gardener', 'gardeners', 'gardening', 'gardens', 'gardner', 'garfowl', 'gargery', 'gari', 'garland', 'garlands', 'garlic', 'garment', 'garments', 'garret', 'garrison', 'garrisoned', 'garry', 'gartner', 'garum', 'gary', 'gas', 'gascogne', 'gascoigny', 'gaseous', 'gases', 'gasoline', 'gasp', 'gasped', 'gasping', 'gasses', 'gaston', 'gastric', 'gate', 'gates', 'gateshead', 'gateway', 'gateways', 'gather', 'gathered', 'gatherer', 'gathering', 'gatherings', 'gathers', 'gator', 'gaudily', 'gaudy', 'gauge', 'gauged', 'gaul', 'gauls', 'gaunt', 'gauss', 'gautama', 'gauteng', 'gauze', 'gave', 'gay', 'gayer', 'gayest', 'gayeties', 'gayly', 'gaze', 'gazed', 'gazelle', 'gazes', 'gazette', 'gazing', 'gb', 'gearbox', 'gearboxes', 'geared', 'gearing', 'gearings', 'gee', 'geese', 'geist', 'gelatin', 'gelatine', 'gelatino', 'gem', 'gems', 'gen', 'gendarme', 'gendarmerie', 'gender', 'gene', 'genera', 'general', 'generally', 'generals', 'generate', 'generated', 'generates', 'generating', 'generation', 'generations', 'generator', 'generators', 'generic', 'generous', 'generously', 'genes', 'genesis', 'genetic', 'genetical', 'genetically', 'genetics', 'geneva', 'genial', 'genii', 'genius', 'genocide', 'genome', 'genomic', 'genres', 'gent', 'genteel', 'gentians', 'gentle', 'gentleman', 'gentlemanly', 'gentlemen', 'gentleness', 'gently', 'genuine', 'genuinely', 'genus', 'geo', 'geocentric', 'geocentrism', 'geodesy', 'geographer', 'geographic', 'geographical', 'geography', 'geologic', 'geological', 'geologist', 'geologists', 'geology', 'geomagnetic', 'geometric', 'geometrical', 'geometrically', 'geometry', 'geomorphic', 'geophones', 'geophysical', 'geophysicists', 'geophysics', 'george', 'georges', 'georgia', 'georgie', 'georgius', 'geostationary', 'geosynchronous', 'geotechnical', 'geothermal', 'geraes', 'geraint', 'gerbeviller', 'gerhard', 'germ', 'german', 'germanic', 'germans', 'germany', 'germinate', 'germs', 'gertrude', 'gesture', 'gestures', 'get', 'gets', 'getting', 'gewerbeblatte', 'geysers', 'ghastly', 'ghaut', 'ghent', 'ghgs', 'ghizeh', 'ghost', 'ghostlike', 'ghostly', 'ghosts', 'ghz', 'gi', 'giant', 'giants', 'gibes', 'gibraltar', 'giddy', 'giers', 'gift', 'gifted', 'gifts', 'gig', 'gigabyte', 'gigabytes', 'gigahertz', 'gigantic', 'gigawatts', 'giggle', 'giggled', 'giggling', 'gilbert', 'gilbertville', 'gilded', 'gill', 'gillis', 'gills', 'gillyflowers', 'gilt', 'gimlet', 'gimps', 'ginger', 'gingerbread', 'gingham', 'gingkgo', 'giraffe', 'giraffes', 'girded', 'girding', 'girl', 'girlfriends', 'girlish', 'girls', 'girth', 'girthed', 'gist', 'giuseppe', 'give', 'given', 'giver', 'gives', 'giving', 'giza', 'glace', 'glacial', 'glacier', 'glaciers', 'glad', 'gladdened', 'glade', 'glades', 'gladiatorial', 'gladiators', 'gladly', 'gladness', 'gladsome', 'gladstone', 'glamour', 'glance', 'glanced', 'glances', 'glancing', 'gland', 'glanders', 'glands', 'glandulosa', 'glare', 'glared', 'glaring', 'glasgow', 'glass', 'glasses', 'glassy', 'glazed', 'gleam', 'gleamed', 'gleaming', 'gleams', 'glean', 'gleaned', 'gleaner', 'glebe', 'glee', 'gleefully', 'glegg', 'glen', 'glens', 'glia', 'glial', 'glide', 'glided', 'gliders', 'glides', 'gliding', 'glimmer', 'glimmered', 'glimmering', 'glimpse', 'glimpses', 'glinda', 'glint', 'glinted', 'glinting', 'glints', 'glioblastoma', 'glistening', 'glitch', 'glitter', 'glittering', 'glitters', 'global', 'globalisation', 'globalization', 'globalized', 'globally', 'globe', 'globular', 'globule', 'gloire', 'gloom', 'gloomily', 'glooming', 'gloomy', 'glora', 'glories', 'glorified', 'glorifies', 'glorify', 'glorious', 'gloriously', 'glory', 'glossaries', 'glossy', 'glove', 'gloved', 'gloves', 'glow', 'glowed', 'glowing', 'glows', 'glowworm', 'glowworms', 'gluck', 'glucose', 'glue', 'glued', 'glues', 'gluing', 'glum', 'gluten', 'glutton', 'glybera', 'glycerine', 'glycerol', 'glycolysis', 'glyn', 'glyphs', 'gmuend', 'gn', 'gnarled', 'gnashed', 'gnaw', 'gnawing', 'gneisenau', 'gnome', 'gnomes', 'gnomon', 'gnu', 'go', 'goal', 'goals', 'goat', 'goats', 'goban', 'gobble', 'gobbled', 'gobbler', 'gobblers', 'gobbling', 'goblet', 'goblets', 'goby', 'god', 'godard', 'goddess', 'goddesses', 'godfather', 'godfathers', 'godlike', 'godliness', 'godly', 'godmother', 'godmothers', 'gods', 'godzilla', 'goes', 'goethe', 'goggles', 'goggly', 'goin', 'going', 'gold', 'goldborough', 'golden', 'goldfinch', 'goldfish', 'golf', 'goliath', 'gollaher', 'goltz', 'gondii', 'gondwanaland', 'gone', 'gong', 'gongrosira', 'good', 'goodbye', 'gooding', 'goodly', 'goodness', 'goodnight', 'goods', 'goodwill', 'goodwin', 'goodyear', 'google', 'goose', 'gooseberry', 'gooseherds', 'gopher', 'gordon', 'gorge', 'gorgeous', 'gorilla', 'gorillas', 'gorkha', 'gorman', 'goschen', 'goshawk', 'goshen', 'gossamer', 'gossip', 'gossiping', 'gossipy', 'got', 'gothard', 'gothic', 'gotten', 'gottfried', 'gotz', 'gough', 'gould', 'goulding', 'gourd', 'gourds', 'govern', 'governance', 'governed', 'governess', 'governesses', 'governing', 'government', 'governmental', 'governments', 'governor', 'gown', 'gowns', 'gps', 'gpss', 'gpu', 'gr', 'graaup', 'grab', 'grabbed', 'graca', 'grace', 'graceful', 'gracefully', 'gracious', 'grade', 'grades', 'gradients', 'grading', 'gradley', 'gradual', 'gradualism', 'gradually', 'graduate', 'graduated', 'graduates', 'graduating', 'graduation', 'gradus', 'graebe', 'grafted', 'grafts', 'graham', 'grahame', 'grain', 'grained', 'grainfields', 'grains', 'grammar', 'grammatical', 'gramme', 'grammes', 'grams', 'granada', 'granaries', 'granary', 'granbury', 'grand', 'grandaunt', 'grandchildren', 'grandcourt', 'granddaughter', 'grande', 'grandees', 'grander', 'grandest', 'grandeur', 'grandfather', 'grandfathers', 'grandheads', 'grandiflora', 'grandly', 'grandma', 'grandmamma', 'grandmother', 'grandmothers', 'grandpa', 'grandpapa', 'grandparent', 'grandparents', 'grands', 'grandson', 'granduncle', 'granite', 'granitoids', 'granny', 'granodiorite', 'granser', 'grant', 'granted', 'granting', 'grantism', 'grantley', 'granular', 'granulated', 'granville', 'grape', 'grapefruit', 'grapes', 'grapevine', 'grapevines', 'graphene', 'graphic', 'graphics', 'graphs', 'grapnel', 'grapple', 'grappled', 'grappling', 'grasp', 'grasped', 'grasping', 'grass', 'grasses', 'grasshopper', 'grasshoppers', 'grassy', 'grate', 'grateful', 'gratefully', 'grater', 'gratification', 'gratified', 'gratify', 'grating', 'gratings', 'gratitude', 'grave', 'gravel', 'gravely', 'graveyard', 'gravitation', 'gravitational', 'gravitationally', 'gravities', 'gravitional', 'gravity', 'gravy', 'gray', 'grayish', 'grayling', 'grays', 'graze', 'grazed', 'grazers', 'grazes', 'grazing', 'grease', 'greasily', 'greasy', 'great', 'greater', 'greatest', 'greatly', 'greatness', 'grecian', 'grecians', 'greco', 'greece', 'greed', 'greedily', 'greedy', 'greek', 'greeks', 'green', 'greenbackism', 'greener', 'greengrocers', 'greenhouse', 'greenhouses', 'greenings', 'greenish', 'greenland', 'greens', 'greensboro', 'greenwich', 'greenwood', 'greeny', 'greet', 'greeted', 'greeting', 'greetings', 'greg', 'gregorian', 'gregory', 'grenade', 'grenadier', 'grenadine', 'grendel', 'gretchen', 'gretel', 'grew', 'grey', 'greyhound', 'greystoke', 'grid', 'gridley', 'grief', 'grieg', 'grievance', 'grievances', 'grieved', 'griffin', 'griffith', 'grim', 'grimaces', 'grimness', 'grimy', 'grin', 'grind', 'grinders', 'grinding', 'grindstone', 'grinned', 'grinning', 'grip', 'gripe', 'gripped', 'gripping', 'griqua', 'griselda', 'grist', 'grits', 'gritty', 'grizel', 'grizzled', 'grizzlies', 'grizzly', 'groan', 'groaned', 'groaning', 'groans', 'grocer', 'groceries', 'grocery', 'grogan', 'groix', 'groom', 'grooved', 'grooves', 'groovy', 'groped', 'groping', 'gross', 'grosser', 'grotesque', 'groton', 'grotto', 'grouch', 'ground', 'grounded', 'grounding', 'grounds', 'groundsel', 'groundwater', 'group', 'grouped', 'grouping', 'groupings', 'groups', 'grove', 'groves', 'groveton', 'grow', 'grower', 'growers', 'growing', 'growl', 'growled', 'growling', 'growls', 'grown', 'grows', 'growth', 'groyne', 'grrrrrrr', 'grub', 'grudge', 'gruff', 'gruffanuff', 'grumble', 'grumbled', 'grumbles', 'grumbling', 'grun', 'grunt', 'grunted', 'grunting', 'grunts', 'gryphon', 'gs', 'gsm', 'gtlds', 'guanine', 'guarantee', 'guaranteed', 'guarantees', 'guard', 'guarded', 'guardedly', 'guardian', 'guardians', 'guarding', 'guards', 'guayra', 'gudgeon', 'guerin', 'guernsey', 'guerre', 'guerrilla', 'guess', 'guessed', 'guesses', 'guessing', 'guest', 'guests', 'guglielmo', 'guidance', 'guide', 'guided', 'guidepost', 'guides', 'guiding', 'guilds', 'guillaumot', 'guillotine', 'guilt', 'guiltless', 'guilty', 'guinea', 'guineas', 'guise', 'guitar', 'gukovsky', 'gulf', 'gullies', 'gulls', 'gulo', 'gulped', 'gum', 'gums', 'gun', 'gunboats', 'gunner', 'gunners', 'gunnerus', 'gunpowder', 'guns', 'gunshot', 'gunter', 'gunther', 'gunwale', 'guppies', 'guppy', 'gurgle', 'gurgled', 'gurgling', 'gurov', 'gurth', 'gus', 'gush', 'gust', 'gustav', 'gustavo', 'gusts', 'gut', 'gutenberg', 'guts', 'gutta', 'gutter', 'gutters', 'guy', 'gwen', 'gyasi', 'gymnasium', 'gyp', 'gypsum', 'gyrodactylus', 'h', 'ha', 'haag', 'haber', 'habilis', 'habit', 'habitable', 'habitant', 'habitat', 'habitation', 'habitations', 'habitats', 'habits', 'habitual', 'habitually', 'habituated', 'habituation', 'hack', 'had', 'hades', 'hadiza', 'haemoglobin', 'haemolymph', 'haenisch', 'haggard', 'haggle', 'hague', 'hail', 'hailed', 'hailing', 'hair', 'hairbrush', 'haired', 'hairpin', 'hairs', 'hairspray', 'hairy', 'haitam', 'haiti', 'hakkikat', 'hal', 'halberds', 'halcyon', 'hale', 'half', 'halfpenny', 'halfway', 'halides', 'hall', 'halloa', 'hallowed', 'halloween', 'halls', 'hallstatt', 'halo', 'halogens', 'halske', 'halt', 'halted', 'halter', 'halting', 'halves', 'halyard', 'ham', 'haman', 'hamazazpi', 'hamburg', 'hamel', 'hamilton', 'hamlet', 'hammer', 'hammered', 'hammerhead', 'hammerheel', 'hammering', 'hammers', 'hammock', 'hammocks', 'hamper', 'hampton', 'hams', 'han', 'hanan', 'hancock', 'hand', 'handbooks', 'handcuffed', 'handed', 'handel', 'handful', 'handheld', 'handicapped', 'handkerchief', 'handkerchiefs', 'handle', 'handled', 'handles', 'handling', 'hands', 'handsome', 'handsomely', 'handsomer', 'handsomest', 'handy', 'hang', 'hanger', 'hangers', 'hanging', 'hangings', 'hangs', 'hanio', 'hank', 'hannah', 'hannibal', 'hans', 'hansom', 'hants', 'hapless', 'haploid', 'happen', 'happened', 'happening', 'happenings', 'happens', 'happier', 'happiest', 'happily', 'happiness', 'happy', 'hapy', 'harass', 'harassed', 'harassment', 'harbor', 'harbors', 'harbour', 'hard', 'harden', 'hardened', 'hardening', 'harder', 'hardest', 'hardly', 'hardness', 'hardship', 'hardships', 'hardware', 'hardworking', 'hardy', 'hare', 'harehills', 'hark', 'harley', 'harlowe', 'harm', 'harmful', 'harming', 'harmless', 'harmonious', 'harmoniously', 'harmonized', 'harmonizing', 'harmony', 'harness', 'harnessed', 'harnessing', 'harold', 'harp', 'harper', 'harpers', 'harps', 'harriet', 'harris', 'harrisburg', 'harrow', 'harrows', 'harry', 'harsh', 'harshly', 'harshness', 'hartford', 'hartranft', 'harvard', 'harvest', 'harvesting', 'harvests', 'harvey', 'harwich', 'has', 'hasan', 'hasdrubal', 'hasley', 'haste', 'hasten', 'hastened', 'hastening', 'hastily', 'hasting', 'hastings', 'hasty', 'hat', 'hatch', 'hatched', 'hatchery', 'hatches', 'hatchet', 'hatchetman', 'hatchets', 'hatching', 'hatchings', 'hatchlings', 'hate', 'hated', 'hates', 'hath', 'hathaway', 'hatred', 'hats', 'hatter', 'hattic', 'haughty', 'haulage', 'hauled', 'hauling', 'haunches', 'haunt', 'haunted', 'haunting', 'haunts', 'have', 'havelok', 'haven', 'having', 'havoc', 'havre', 'hawaii', 'hawaiian', 'hawaiians', 'hawk', 'hawkers', 'hawkeye', 'hawking', 'hawkins', 'hawks', 'hawkshaw', 'hawley', 'hawser', 'hawthorne', 'hay', 'haycock', 'haydn', 'haydon', 'hayes', 'haying', 'haymakers', 'haystack', 'hazard', 'hazards', 'haze', 'hazel', 'hazelton', 'hazy', 'hazzard', 'hci', 'hd', 'hdd', 'hdds', 'hdmi', 'he', 'head', 'headache', 'headaches', 'headbands', 'headdresses', 'headed', 'headers', 'headfirst', 'headgear', 'heading', 'headingley', 'headland', 'headlights', 'headlong', 'headman', 'headmaster', 'headpiece', 'headquarters', 'heads', 'headset', 'headspace', 'headstone', 'headstrong', 'headwork', 'heal', 'healing', 'heals', 'health', 'healthcare', 'healthier', 'healthy', 'heap', 'heaped', 'heaps', 'hear', 'heard', 'hearing', 'hearkened', 'hearkens', 'hears', 'hearsay', 'hearse', 'heart', 'heartbeat', 'heartbeats', 'heartbreak', 'heartburn', 'hearted', 'hearth', 'hearthrug', 'hearths', 'hearthstone', 'heartily', 'hearts', 'hearty', 'heat', 'heated', 'heater', 'heath', 'heathen', 'heather', 'heaths', 'heating', 'heats', 'heave', 'heaved', 'heaven', 'heavenly', 'heavens', 'heaves', 'heavier', 'heaviest', 'heavily', 'heaviness', 'heaving', 'heavy', 'hebe', 'hebrew', 'hebron', 'heck', 'hedge', 'hedgehog', 'hedgehogs', 'hedgerows', 'hedges', 'hedin', 'hee', 'heed', 'heeded', 'heel', 'heeled', 'heels', 'heer', 'hefner', 'heh', 'heidi', 'height', 'heighten', 'heights', 'heine', 'heinrich', 'heir', 'heiresstocracy', 'heirs', 'heisenberg', 'hektograph', \"hel'las\", 'held', 'helen', 'helenium', 'helices', 'heliocentrism', 'heliosphere', 'helium', 'hell', 'helle', 'hellenic', 'hellenistic', 'heller', 'hellish', 'hello', 'helm', 'helmet', 'helmets', 'helmsman', 'heloderma', 'heloise', 'help', 'helped', 'helper', 'helpful', 'helping', 'helpless', 'helplessly', 'helps', 'helsinki', 'helstone', 'hem', 'hemerton', 'hemisphere', 'hemispheres', 'hemlock', 'hemlocks', 'hemmed', 'hemodynamic', 'hemoglobin', 'hemorrhage', 'hemorrhagic', 'hemp', 'hen', 'henan', 'hence', 'henceforth', 'henceforward', 'henderson', 'hendrik', 'henhouse', 'henlein', 'henna', 'henri', 'henrietta', 'henriette', 'henry', 'hens', 'hephaestus', 'hepta', 'heptagon', 'her', 'herald', 'heraldic', 'heraldry', 'heralds', 'herb', 'herbaceous', 'herbage', 'herbaria', 'herbert', 'herbie', 'herbivores', 'herbivorous', 'herbs', 'hercules', 'herd', 'herder', 'herding', 'herds', 'here', 'hereafter', 'hereby', 'hereditary', 'heredity', 'herein', 'heretical', 'heretofore', 'hereunto', 'hereupon', 'herewith', 'heriot', 'heritage', 'herman', 'hermas', 'hermit', 'hero', 'herodotus', 'heroes', 'heroic', 'heroine', 'heroism', 'herons', 'herr', 'herrick', 'herring', 'herrings', 'hers', 'herself', 'hertz', 'hesitancy', 'hesitant', 'hesitate', 'hesitated', 'hesitates', 'hesitation', 'hessen', 'heterodoxy', 'heterogeneous', 'heteronuclear', 'heterotroph', 'heterotrophic', 'hettie', 'hev', 'hevea', 'hewing', 'hex', 'hexagonal', 'hey', 'heyday', 'hi', 'hiawatha', 'hibiscus', 'hiccups', 'hickories', 'hickory', 'hid', 'hidalgo', 'hidden', 'hide', 'hideous', 'hideously', 'hides', 'hidesato', 'hiding', 'hierarchical', 'hierarchy', 'hieroglyph', 'hieroglyphics', 'hieroglyphs', 'higgins', 'higginson', 'high', 'higher', 'highest', 'highland', 'highlands', 'highlight', 'highlights', 'highly', 'highness', 'highroad', 'highway', 'highways', 'hike', 'hiked', 'hiking', 'hilarion', 'hilarity', 'hildegarde', 'hill', 'hiller', 'hillock', 'hillocks', 'hills', 'hillside', 'hillsides', 'hillslopes', 'hillsover', 'hilltop', 'hilts', 'him', 'himalayas', 'himself', 'hind', 'hindenburg', 'hinder', 'hindi', 'hindu', 'hinduism', 'hindus', 'hinge', 'hinged', 'hinges', 'hingland', 'hinpoha', 'hint', 'hinted', 'hinterland', 'hints', 'hip', 'hippity', 'hippo', 'hippocampus', 'hippocrates', 'hippocratic', 'hippy', 'hips', 'hirabayashi', 'hiram', 'hire', 'hired', 'hires', 'hirish', 'hiroshima', 'hirsh', 'his', 'hispano', 'hissed', 'hisself', 'hissing', 'hissy', 'historian', 'historians', 'historic', 'historical', 'historically', 'histories', 'historiographical', 'historiography', 'history', 'hit', 'hitched', 'hither', 'hitherto', 'hits', 'hitting', 'hittite', 'hiv', 'hive', 'hizen', 'hmmm', 'ho', 'hoangti', 'hoar', 'hoarse', 'hob', 'hobbes', 'hobbies', 'hobbled', 'hobbledehoy', 'hobby', 'hobden', 'hockey', 'hoe', 'hoeger', 'hoer', 'hoerikwaggo', 'hoes', 'hoffman', 'hogs', 'hohenberg', 'hohenzollern', 'hoist', 'hoisted', 'hok', 'hold', 'holder', 'holders', 'holding', 'holds', 'hole', 'holes', 'holiday', 'holidays', 'holland', 'hollister', 'hollow', 'hollows', 'hollweg', 'holly', 'hollyhocks', 'holmes', 'holmwood', 'holometabolous', 'holstein', 'holtz', 'holy', 'holzer', 'homage', 'homburg', 'home', 'homecoming', 'homeland', 'homeless', 'homely', 'homemade', 'homeostat', 'homer', 'homes', 'homesick', 'homesickness', 'homespun', 'homestead', 'hometown', 'homeward', 'homework', 'hominess', 'hominid', 'hominins', 'homo', 'homogeneity', 'homogeneous', 'homonuclear', 'honest', 'honestly', 'honesty', 'honey', 'honeybees', 'honeycomb', 'honeyed', 'honeymoon', 'honeysuckle', 'hong', 'honks', 'honor', 'honorable', 'honorably', 'honorary', 'honore', 'honored', 'honors', 'honour', 'honourable', 'honoured', 'hood', 'hoods', 'hoodwinked', 'hoof', 'hoofs', 'hook', 'hooke', 'hooked', 'hookeri', 'hooks', 'hooper', 'hoops', 'hooray', 'hoosic', 'hooty', 'hoover', 'hooves', 'hop', 'hope', 'hoped', 'hopefully', 'hopeless', 'hopelessness', 'hopes', 'hoping', 'hopkins', 'hopped', 'hoppers', 'hopping', 'hoppity', 'hops', 'hora', 'horace', 'horatii', 'horatio', 'horde', 'horizon', 'horizons', 'horizontal', 'horizontally', 'hormonal', 'hormone', 'hormones', 'horn', 'horned', 'horner', 'hornet', 'hornhead', 'horns', 'horny', 'horrible', 'horribly', 'horrid', 'horror', 'horrors', 'horse', 'horseback', 'horseflesh', 'horseman', 'horsemen', 'horseplay', 'horsepower', 'horses', 'horseshoe', 'horus', 'hose', 'hoseman', 'hospital', 'hospitalities', 'hospitality', 'hospitalized', 'hospitaller', 'hospitals', 'host', 'hostages', 'hosted', 'hostel', 'hostelry', 'hostess', 'hostesses', 'hostile', 'hostilities', 'hostility', 'hosting', 'hosts', 'hot', 'hotel', 'hotels', 'hothouse', 'hotly', 'hotspots', 'hotter', 'hottest', 'hound', 'hounds', 'hour', 'hourglasses', 'hourly', 'hours', 'house', 'house...oh', 'houseboat', 'housecat', 'housed', 'household', 'householders', 'households', 'housekeeper', 'housekeeping', 'housemaid', 'houses', 'housewife', 'housewives', 'housework', 'housing', 'houston', 'houzeau', 'hovered', 'hovering', 'how', 'howard', 'howe', 'howells', 'however', 'howitzer', 'howitzers', 'howl', 'howled', 'howling', 'hows', 'hozi', 'hrm', 'hrothgar', 'html', 'hubbub', 'huber', 'huckleberry', 'hucksters', 'hud', 'huddle', 'huddling', 'huds', 'hudson', 'hue', 'hued', 'hues', 'hug', 'huge', 'hugely', 'hugged', 'hugging', 'hugh', 'hughes', 'huh', 'hui', 'huldbrand', 'hulk', 'hulking', 'hull', 'hullo', 'hulls', 'hulsmeyer', 'hum', 'human', 'humane', 'humani', 'humanity', 'humankind', 'humanoid', 'humans', 'humble', 'humbly', 'humdrum', 'humid', 'humidex', 'humidity', 'humiliated', 'humiliating', 'humiliation', 'humility', 'hummed', 'humming', 'hummingbird', 'hummock', 'humor', 'humoredly', 'humorist', 'humorous', 'humorously', 'humour', 'humoured', 'hump', 'humpback', 'humphrey', 'humphry', 'humus', 'hunched', 'hundred', 'hundreds', 'hundredths', 'hundredweight', 'hung', 'hungarian', 'hungary', 'hunger', 'hungering', 'hungrier', 'hungry', 'hunt', 'hunted', 'hunter', 'hunters', 'hunting', 'huntington', 'hunts', 'huntsman', 'hurin', 'hurled', 'hurly', 'huron', 'hurrah', 'hurrian', 'hurricane', 'hurricanes', 'hurried', 'hurriedly', 'hurries', 'hurry', 'hurrying', 'hurstbourne', 'hurt', 'hurting', 'hurts', 'hurty', 'husband', 'husbanded', 'husbandry', 'husbands', 'hushed', 'hushing', 'husk', 'husking', 'husks', 'husky', 'hut', 'hutch', 'huts', 'hyacinth', 'hyacinthe', 'hyacinths', 'hyades', 'hybrid', 'hybridization', 'hybrids', 'hydrate', 'hydrated', 'hydraulic', 'hydrocarbon', 'hydrocarbons', 'hydrochlorate', 'hydrochloric', 'hydroelectricity', 'hydrofluoric', 'hydrogen', 'hydrogenated', 'hydrolase', 'hydrologic', 'hydrology', 'hydrophobia', 'hydrophones', 'hydropower', 'hydrosphere', 'hydrothermal', 'hydroxide', 'hyena', 'hyenas', 'hygienic', 'hygrometer', 'hygrometric', 'hygroscopic', 'hymeneal', 'hymettus', 'hymn', 'hynde', 'hyperactivated', 'hypergiants', 'hyperglycemia', 'hyperlink', 'hyperlinked', 'hyperlinks', 'hypersonic', 'hypertext', 'hyphae', 'hypo', 'hypocrisy', 'hypocritical', 'hypoglycemia', 'hypotheses', 'hypothesis', 'hypoxic', 'hysterics', 'hyup', 'hyups', 'hz', 'i', 'iaps', 'iau', 'iberian', 'ibis', 'ibm', 'ibn', 'ibsen', 'icd', 'ice', 'iceberg', 'icebergs', 'iceland', 'ices', 'ichabod', 'ichthyologist', 'ichthyosaurs', 'icicles', 'icing', 'icon', 'iconic', 'ict', 'icy', 'id', 'ida', 'idc', 'ide', 'idea', 'ideal', 'idealistic', 'idealization', 'ideally', 'ideals', 'ideas', 'identical', 'identifiable', 'identification', 'identified', 'identifier', 'identify', 'identifying', 'identities', 'identity', 'ideograms', 'ideologies', 'ideology', 'idiot', 'idle', 'idleness', 'idlers', 'idly', 'idol', 'ieee', 'if', 'ifr', 'ige', 'igneous', 'ignite', 'ignited', 'igniting', 'ignition', 'ignorance', 'ignorant', 'ignore', 'ignored', 'ignores', 'igodhoobe', 'iheduc', 'ii', 'iii', 'ike', 'il', 'ildrian', 'iliad', 'ilicifolia', 'ill', 'illegal', 'illicit', 'illinois', 'illiterate', 'illness', 'illnesses', 'illuminance', 'illuminated', 'illuminates', 'illuminating', 'illumination', 'illuminator', 'illusion', 'illusions', 'illustrate', 'illustrated', 'illustrates', 'illustrating', 'illustration', 'illustrious', 'ilustracion', 'ima', 'image', 'imagej', 'imagery', 'images', 'imaginable', 'imaginal', 'imaginary', 'imagination', 'imaginations', 'imagine', 'imagined', 'imagines', 'imaging', 'imagining', 'imaginings', 'imbecile', 'imbedded', 'imbibed', 'imbued', 'imitate', 'imitated', 'imitation', 'immature', 'immeasurable', 'immediacy', 'immediate', 'immediately', 'immemorial', 'immense', 'immensely', 'immensity', 'immersed', 'immersive', 'immigrant', 'immigrants', 'immigration', 'immigrations', 'imminent', 'immobile', 'immortal', 'immortality', 'immortalize', 'immovable', 'immune', 'immunity', 'immunocompromised', 'immunoglobulins', 'immutability', 'imp', 'impact', 'impacted', 'impacts', 'impaired', 'impairs', 'impalpable', 'impart', 'impartially', 'imparting', 'imparts', 'impassable', 'impatience', 'impatient', 'impede', 'impediment', 'impediments', 'impelled', 'impels', 'impending', 'impenetrable', 'imperative', 'imperceptible', 'imperceptibly', 'imperfect', 'imperfection', 'imperfectly', 'imperial', 'imperialism', 'imperialist', 'imperious', 'impermeability', 'imperturbable', 'impervious', 'impetuosity', 'impetus', 'implacable', 'implantable', 'implantation', 'implanted', 'implanting', 'implants', 'implement', 'implementation', 'implementations', 'implemented', 'implementing', 'implements', 'implicit', 'implicitly', 'implied', 'implies', 'implored', 'imply', 'import', 'importance', 'important', 'importantly', 'importation', 'imported', 'imports', 'importunities', 'impose', 'imposed', 'imposing', 'impossibility', 'impossible', 'impotent', 'impots', 'impracticable', 'impractical', 'impregnable', 'impregnated', 'impregnation', 'impress', 'impressed', 'impresses', 'impression', 'impressions', 'impressive', 'impressively', 'impressiveness', 'imprint', 'imprisoned', 'imprisonments', 'improbable', 'impromptu', 'improve', 'improved', 'improvement', 'improvements', 'improvident', 'improving', 'improvisations', 'improvise', 'imprudent', 'impudence', 'impulse', 'impulses', 'impulsive', 'impulsively', 'impulsivity', 'impunity', 'impure', 'impurities', 'impurity', 'in', 'inability', 'inaccessibility', 'inaccessible', 'inactive', 'inadequate', 'inadequately', 'inadvertently', 'inadvisable', 'inalienable', 'inanimate', 'inapplicable', 'inappropriate', 'inarticulate', 'inasmuch', 'inattention', 'inattentive', 'inaudible', 'inaugurated', 'inauguration', 'inaugurations', 'inborn', 'inc', 'inca', 'incandescence', 'incandescent', 'incapable', 'incarnate', 'incautious', 'incentive', 'incessant', 'incessantly', 'inch', 'inches', 'inchi', 'incident', 'incidental', 'incidentally', 'incidents', 'incited', 'inclination', 'incline', 'inclined', 'inclines', 'inclose', 'inclosed', 'include', 'included', 'includes', 'including', 'inclusion', 'inclusive', 'income', 'incomes', 'incomparable', 'incomparably', 'incompatibility', 'incompatible', 'incompetent', 'incomplete', 'incompletely', 'inconceivable', 'inconsiderable', 'inconvenience', 'inconvenienced', 'inconveniences', 'inconvenient', 'inconveniently', 'incorporate', 'incorporated', 'incorporation', 'incorrectly', 'increase', 'increased', 'increases', 'increasing', 'increasingly', 'incredible', 'incredibly', 'incremental', 'incriminating', 'incrimination', 'incrustation', 'incrustations', 'incubate', 'incubated', 'incubator', 'incubators', 'inculcated', 'incunabula', 'incur', 'incurable', 'incurably', 'incurred', 'incursions', 'indebted', 'indecently', 'indecision', 'indeed', 'indefatigably', 'indefinable', 'indefinitely', 'indemnify', 'indemnity', 'indentation', 'independence', 'independency', 'independent', 'independently', 'indescribable', 'indescribably', 'index', 'indexes', 'india', 'indiaman', 'indian', 'indiana', 'indians', 'indicate', 'indicated', 'indicates', 'indicating', 'indication', 'indications', 'indicative', 'indies', 'indifference', 'indifferent', 'indigenous', 'indigestible', 'indigestion', 'indignant', 'indignantly', 'indignation', 'indignity', 'indigo', 'indirect', 'indirectly', 'indiscretion', 'indiscriminately', 'indispensable', 'indisposition', 'indisputable', 'indistinct', 'individual', 'individuality', 'individually', 'individuals', 'indivisible', 'indolence', 'indonesia', 'indonesian', 'indoor', 'indoors', 'indra', 'indubitably', 'induce', 'induced', 'inducement', 'induction', 'indulged', 'indulgence', 'indulgent', 'indulging', 'indus', 'industrial', 'industrialization', 'industrially', 'industries', 'industrious', 'industriously', 'industry', 'ineffable', 'ineffective', 'ineffectually', 'inefficacy', 'inelegant', 'inequalities', 'inequality', 'inert', 'inertia', 'inestimable', 'inevitable', 'inexact', 'inexhaustible', 'inexpensively', 'inexpert', 'inexplicable', 'inexpressible', 'inexpressive', 'inextricable', 'infallible', 'infancy', 'infant', 'infantry', 'infants', 'infect', 'infected', 'infecting', 'infection', 'infections', 'infectious', 'infects', 'infer', 'inference', 'inferior', 'inferiority', 'infernal', 'inferred', 'infertile', 'infested', 'infidelity', 'infiltrate', 'infinite', 'infinitely', 'infinitesimal', 'infinity', 'inflamed', 'inflammation', 'inflated', 'inflation', 'inflection', 'inflict', 'inflicted', 'inflow', 'influence', 'influenced', 'influences', 'influencing', 'influential', 'influenza', 'influx', 'info', 'inform', 'informal', 'informally', 'informatics', 'information', 'informational', 'informative', 'informed', 'informs', 'infraction', 'infrared', 'infrastructure', 'infrequent', 'infuse', 'infusible', 'infusion', 'ingenious', 'ingenuity', 'ingest', 'ingested', 'inglefield', 'ingleside', 'inglorious', 'ingot', 'ingrain', 'ingratitude', 'ingredients', 'inhabit', 'inhabitants', 'inhabited', 'inhabits', 'inhalation', 'inhale', 'inhaled', 'inhalers', 'inherent', 'inherently', 'inherit', 'inheritance', 'inherited', 'inhibition', 'inhibitors', 'inimitable', 'initial', 'initialism', 'initially', 'initials', 'initiate', 'initiated', 'initiative', 'initiatives', 'injected', 'injects', 'injunction', 'injure', 'injured', 'injuries', 'injuring', 'injurious', 'injury', 'injustice', 'ink', 'inkpad', 'inkstand', 'inky', 'inlaid', 'inland', 'inmate', 'inmates', 'inmost', 'inn', 'innate', 'inner', 'innermost', 'innkeeper', 'innocence', 'innocent', 'innocently', 'innovation', 'innovations', 'innovator', 'inns', 'innumerable', 'inopportune', 'inorganic', 'input', 'inputs', 'inquire', 'inquired', 'inquirer', 'inquiries', 'inquiring', 'inquiringly', 'inquiry', 'inquisition', 'inquisitive', 'inquisitor', 'insanity', 'insatiable', 'inscribed', 'inscription', 'inscriptions', 'inscrutable', 'insect', 'insects', 'insecure', 'insecurity', 'insensible', 'insert', 'inserted', 'insertion', 'inside', 'insides', 'insidious', 'insight', 'insightful', 'insights', 'insignia', 'insignificance', 'insignificant', 'insinuate', 'insinuated', 'insist', 'insisted', 'insistence', 'insists', 'insolence', 'insolent', 'insoluble', 'inspected', 'inspecting', 'inspection', 'inspector', 'inspiration', 'inspirational', 'inspire', 'inspired', 'inspiring', 'installation', 'installations', 'installed', 'installments', 'instalment', 'instance', 'instances', 'instant', 'instantaneous', 'instantly', 'instead', 'instep', 'insteps', 'instigate', 'instigates', 'instil', 'instill', 'instinct', 'instinctive', 'instinctively', 'instincts', 'institute', 'instituted', 'institution', 'institutions', 'instruct', 'instructed', 'instructing', 'instruction', 'instructions', 'instructive', 'instructor', 'instructors', 'instrument', 'instrumental', 'instruments', 'insubordination', 'insufficiency', 'insufficient', 'insufficiently', 'insula', 'insular', 'insulated', 'insulation', 'insulator', 'insulators', 'insulin', 'insult', 'insurance', 'insure', 'insures', 'insurgent', 'insurgents', 'insurmountable', 'insurrection', 'intact', 'intake', 'integer', 'integral', 'integrate', 'integrated', 'integrates', 'integrating', 'integration', 'integrator', 'integrity', 'intel', 'intellect', 'intellectual', 'intellectualized', 'intellectually', 'intelligence', 'intelligent', 'intelligible', 'intend', 'intended', 'intending', 'intends', 'intense', 'intensely', 'intensify', 'intensity', 'intent', 'intention', 'intentional', 'intentionally', 'intentions', 'intently', 'intentness', 'interact', 'interacted', 'interacting', 'interaction', 'interactions', 'interactive', 'interacts', 'interbreeding', 'intercept', 'intercepted', 'intercession', 'interchange', 'interchangeably', 'intercoiled', 'interconnected', 'intercourse', 'interdisciplinary', 'interest', 'interested', 'interesting', 'interestingly', 'interests', 'interface', 'interfaces', 'interfere', 'interfered', 'interference', 'interfering', 'interfused', 'interim', 'interior', 'interlocutor', 'interloper', 'intermediaries', 'intermediary', 'intermediate', 'intermedium', 'interminably', 'intermittent', 'intermix', 'internal', 'internalization', 'internalized', 'internally', 'international', 'internationalization', 'internet', 'internetworking', 'internment', 'interphase', 'interplanetary', 'interposed', 'interpret', 'interpretation', 'interpreted', 'interpreter', 'interpreting', 'interrogated', 'interrogation', 'interrupt', 'interrupted', 'interrupting', 'interruption', 'interruptions', 'intersection', 'interspaces', 'interspersed', 'interstellar', 'interstitial', 'intertwined', 'interval', 'intervals', 'intervene', 'intervening', 'intervention', 'interventions', 'interview', 'interviewed', 'interviewers', 'interviewing', 'interviews', 'interwoven', 'intestinal', 'intestine', 'intestines', 'intimate', 'intimated', 'intimately', 'intimates', 'intimations', 'intimidation', 'into', 'intolerable', 'intolerably', 'intorno', 'intoxicated', 'intoxicating', 'intoxication', 'intracranial', 'intractable', 'intranets', 'intrenched', 'intricate', 'intricately', 'intrigue', 'intrigued', 'intrigues', 'intriguing', 'introduce', 'introduced', 'introduces', 'introducing', 'introduction', 'introductions', 'introspection', 'intrude', 'intruded', 'intruding', 'intrusion', 'intrusive', 'intrust', 'inundate', 'inundation', 'inundations', 'invade', 'invaded', 'invader', 'invaders', 'invades', 'invading', 'invalid', 'invaluable', 'invariable', 'invariably', 'invariant', 'invasion', 'invasions', 'invasive', 'invent', 'invented', 'inventing', 'invention', 'inventions', 'inventive', 'inventor', 'inventors', 'inventory', 'inversely', 'invert', 'invertebrates', 'inverted', 'inverter', 'invest', 'invested', 'investigate', 'investigated', 'investigates', 'investigating', 'investigation', 'investigations', 'investigator', 'investing', 'investment', 'investments', 'investor', 'investors', 'inveterate', 'invincible', 'invisible', 'invisibly', 'invitation', 'invite', 'invited', 'invites', 'inviting', 'invoicing', 'invoke', 'invokes', 'involuntarily', 'involuntary', 'involve', 'involved', 'involvement', 'involves', 'involving', 'inward', 'inwardly', 'inzlicht', 'io', 'iodide', 'ioghel', 'ion', 'ionian', 'ionic', 'ionization', 'ionize', 'ionized', 'ionizes', 'ionizing', 'ionosphere', 'ions', 'iota', 'ip', 'ipa', 'iprs', 'ipv', 'iq', 'iran', 'iraq', 'irawada', 'ire', 'ireland', 'iridescent', 'iris', 'irish', 'irishman', 'iron', 'ironic', 'irons', 'iroquois', 'irrational', 'irreconcilable', 'irrecoverably', 'irrefutable', 'irregular', 'irregularities', 'irregularly', 'irrelevant', 'irremediable', 'irreplaceable', 'irrepressible', 'irreproachable', 'irresistible', 'irresistibly', 'irrespirable', 'irreverently', 'irrevocably', 'irrigation', 'irritability', 'irritable', 'irritated', 'irritates', 'irritation', 'irs', 'irving', 'is', 'isaac', 'isabel', 'isabella', 'ischemic', 'iscrap', 'isere', 'iseven', 'ish', 'ishtar', 'isis', 'islam', 'islamic', 'island', 'islanded', 'islands', 'isle', 'isleepy', 'isles', 'islet', 'islets', 'islip', 'ism', 'ismay', \"isn't\", 'isolated', 'isolating', 'isolation', 'isonzo', 'isostacy', 'isotope', 'isotopes', 'isotropic', 'isp', 'ispecies', 'isphere', 'israel', 'israelite', 'issue', 'issued', 'issues', 'issuing', 'istanbul', 'istates', 'istoria', 'it', \"it's\", 'it...', 'itabirite', 'itabirites', 'italian', 'italians', 'italy', 'item', 'items', 'ithacan', 'its', 'itself', 'iupac', 'iv', 'ivan', 'ivangorod', 'ivanhoe', 'ivanovitch', 'ivanovna', 'iveness', 'ivory', 'ivros', 'ivy', 'ix', 'izquierdo', 'j', 'jabal', 'jablochkoff', 'jabu', 'jack', 'jackal', 'jackdaw', 'jacket', 'jackets', 'jackknife', 'jacks', 'jackson', 'jacob', 'jacobite', 'jacobitism', 'jacobus', 'jaded', 'jagged', 'jaggedly', 'jail', 'jalapenos', 'jallo', 'jam', 'jama', 'james', 'jamie', 'jamieson', 'jammed', 'jan', 'jane', 'janet', 'janey', 'janicola', 'jansen', 'jansenism', 'jansenists', 'january', 'japan', 'japanese', 'jar', 'jargon', 'jarring', 'jars', 'jasmine', 'jason', 'jasper', 'jaundice', 'jaunt', 'jauntily', 'jaunty', 'java', 'javan', 'javelin', 'jaw', 'jawbreakers', 'jaws', 'jealous', 'jealousy', 'jean', 'jeannette', 'jeans', 'jeb', 'jeer', 'jeered', 'jeering', 'jeeringly', 'jeeves', 'jeff', 'jefferson', 'jekyll', 'jellies', 'jelly', 'jellyfish', 'jem', 'jenik', 'jenkins', 'jenner', 'jennie', 'jennings', 'jenny', 'jeopardy', 'jepson', 'jerk', 'jerked', 'jerkin', 'jerry', 'jersey', 'jerusalem', 'jess', 'jessamine', 'jessica', 'jessie', 'jesus', 'jet', 'jetpack', 'jets', 'jew', 'jewel', 'jewelled', 'jewelry', 'jewels', 'jewish', 'jews', 'jib', 'jibe', 'jiffy', 'jilted', 'jim', 'jimmie', 'jimmy', 'jingle', 'jingling', 'jip', 'jo', 'joachim', 'joan', 'joanna', 'job', 'jobs', 'joburg', 'jock', 'jockey', 'jocko', 'joe', 'joel', 'joffe', 'joffre', 'jog', 'jogged', 'johan', 'johann', 'johannes', 'johannesburg', 'john', 'johnnie', 'johnny', 'johnson', 'johnstone', 'join', 'joined', 'joining', 'joint', 'jointed', 'jointly', 'joints', 'jojo', 'joke', 'joked', 'joker', 'jokes', 'joking', 'jokingly', 'jokubas', 'jolly', 'jollying', 'jolt', 'jolted', 'jolting', 'jonathan', 'jones', 'joneses', 'joplin', 'jordan', 'jorinda', 'jorindel', 'jose', 'joseph', 'josiah', 'josie', 'josserande', 'jostled', 'joule', 'journal', 'journey', 'journeyed', 'journeying', 'journeys', 'jovial', 'joy', 'joyce', 'joyful', 'joyfully', 'joyous', 'joys', 'jpegs', 'jr', 'juan', 'jubaland', 'jubilation', 'judah', 'judaism', 'judea', 'judge', 'judged', 'judgement', 'judgements', 'judges', 'judging', 'judgment', 'judgments', 'judicial', 'judiciary', 'judicious', 'judith', 'jug', 'juggerjook', 'juggling', 'jui', 'juice', 'juices', 'juicier', 'juicy', 'jukung', 'julia', 'julian', 'juliet', 'julius', 'july', 'juma', 'jumble', 'jumbo', 'jump', 'jumped', 'jumpers', 'jumping', 'jumps', 'junction', 'junctions', 'juncture', 'june', 'junge', 'jungle', 'jungles', 'junior', 'juniors', 'juniper', 'juno', 'jupiter', 'jurgensen', 'jurisdiction', 'jurisdictions', 'jurist', 'jury', 'just', 'justador', 'justice', 'justification', 'justified', 'justify', 'justinian', 'justly', 'jute', 'juts', 'juvenile', 'k', 'ka', 'kaamungei', 'kaatskill', 'kab', 'kaboutermannekensburg', 'kadogo', 'kaetheli', 'kaga', 'kahn', 'kaiser', 'kaisers', 'kalanos', 'kamohelo', 'kana', 'kanchanlata', 'kane', 'kangaroo', 'kanji', 'kansas', 'kant', 'karel', 'karenia', 'karl', 'karman', 'kasiira', 'kasiru', 'kat', 'kate', 'kater', 'katharine', 'kathleen', 'katie', 'kato', 'katonah', 'katono', 'katy', 'katzenjammer', 'kaula', 'kay', 'kazakhstan', 'kde', 'keats', 'keel', 'keels', 'keen', 'keener', 'keenest', 'keenly', 'keep', 'keeper', 'keepers', 'keeping', 'keeps', 'keer', 'kelf', 'keller', 'kellie', 'kelman', 'kelpies', 'kelvin', 'kempis', 'kempo', 'kennel', 'kennels', 'kensington', 'kent', 'kenton', 'kentons', 'kentuckian', 'kentucky', 'kenya', 'kenyan', 'kepler', 'kept', 'ker', 'kerchief', 'kerensky', 'kernel', 'kernels', 'keromang', 'kerosene', 'kerr', 'kerry', 'ketchup', 'ketti', 'kettle', 'kettledrum', 'kettleful', 'kettley', 'kev', 'kew', 'key', 'keyboard', 'keyboards', 'keyed', 'keyhole', 'keynotes', 'keys', 'keystone', 'kg', 'kgosi', 'khaki', 'kharrrrr', 'khosi', 'khotso', 'khufu', 'khumo', 'khz', 'ki', 'kiao', 'kick', 'kicked', 'kicking', 'kid', 'kidd', 'kidnappers', 'kidneys', 'kids', 'kiel', 'kil', 'kilgore', 'kill', 'killed', 'killer', 'killing', 'kills', 'killy', 'kilmarnock', 'kiln', 'kilo', 'kilogrammes', 'kilogrammeters', 'kilograms', 'kilohertz', 'kilometers', 'kilometres', 'kilted', 'kim', 'kimball', 'kimberley', 'kimono', 'kin', 'kinabalu', 'kincha', 'kind', 'kinder', 'kindest', 'kindle', 'kindled', 'kindliest', 'kindling', 'kindly', 'kindness', 'kindred', 'kindru', 'kinds', 'kinematic', 'kinematics', 'kinescope', 'kinetic', 'king', 'kingdom', 'kingdoms', 'kingdon', 'kingly', 'kings', 'kingsbridge', 'kingston', 'kinked', 'kinney', 'kinsfolk', 'kinsman', 'kinsmen', 'kioto', 'kipling', 'kiplingism', 'kisara', 'kiss', 'kissed', 'kissedst', 'kisses', 'kissing', 'kit', 'kitchen', 'kite', 'kites', 'kitt', 'kitten', 'kittens', 'kitties', 'kittredge', 'kitty', 'klangle', 'klaus', 'klebs', 'klingle', 'klipdrift', 'kloenthaler', 'klug', 'km', 'kmt', 'knack', 'knapped', 'knapsack', 'knave', 'knee', 'kneeled', 'kneels', 'knees', 'knelt', 'knew', 'knife', 'knight', 'knighthood', 'knightly', 'knights', 'knit', 'knitting', 'knives', 'knob', 'knobs', 'knock', 'knocked', 'knocker', 'knocking', 'knockout', 'knocks', 'knoll', 'knot', 'knots', 'knotted', 'knotting', 'know', 'knowable', 'knowing', 'knowingly', 'knowledge', 'known', 'knows', 'knuckle', 'knuckles', 'ko', 'koala', 'koalarum', 'koalas', 'kobina', 'koch', 'koenig', 'koine', 'kola', 'kolb', 'konigreich', 'koo', 'kopek', 'koppen', 'korbinian', 'korea', 'korean', 'koreans', 'korematsu', 'korolyov', 'kota', 'kotas', 'koumiss', 'kovrin', 'kowtowing', 'kraal', 'kraylen', 'krebs', 'kriemhild', 'kristoff', 'krottlinger', 'krroak', 'kruos', 'krupp', 'krustallos', 'kuan', 'kuban', 'kuh', 'kultur', 'kunle', 'kurt', 'kurzweil', 'kush', 'kuwait', 'kweku', 'kwere', 'kwesi', 'kword', 'kynon', 'l', 'la', 'lab', 'labake', 'label', 'labeled', 'labelled', 'labels', 'labor', 'laboratories', 'laboratory', 'labored', 'laborer', 'laborers', 'laboring', 'laborious', 'labors', 'labour', 'laboured', 'labourer', 'labouring', 'labours', 'labrador', 'labyrinth', 'laccoliths', 'lace', 'laced', 'lack', 'lacked', 'lackey', 'lacking', 'lacomb', 'lactic', 'lactose', 'lacunae', 'lad', 'ladder', 'ladders', 'laddie', 'laden', 'ladies', 'ladislaus', 'ladle', 'ladled', 'lads', 'lady', 'ladybird', 'ladybirds', 'ladybugs', 'ladylike', 'ladyship', 'lafayette', 'lagoon', 'lagoons', 'lags', 'laid', 'lain', 'lair', 'laird', 'lairds', 'laisser', 'lake', 'lakehurst', 'lakelet', 'lakeport', 'lakes', 'lal', 'lali', 'lalim', 'lamarck', 'lamb', 'lambs', 'lame', 'lamed', 'lamely', 'lameness', 'lamentations', 'lamina', 'lamington', 'lammas', 'lamp', 'lamps', 'lan', 'lancashire', 'lance', 'lanceolata', 'lanceolate', 'lances', 'lancons', 'land', 'landed', 'landfill', 'landforms', 'landholder', 'landing', 'landlady', 'landline', 'landlocked', 'landlord', 'landmark', 'landmarks', 'landowners', 'lands', 'landscape', 'landslide', 'landsman', 'landsmen', 'landward', 'landwehr', 'landy', 'lane', 'laners', 'lanes', 'langridge', 'langsdorff', 'language', 'languages', 'languid', 'languishes', 'lank', 'lanka', 'lans', 'lantern', 'lanterns', 'lanthorn', 'lantin', 'lanyon', 'lap', 'lapilli', 'lapis', 'lapped', 'lapse', 'laptop', 'laptops', 'larch', 'larder', 'large', 'largely', 'larger', 'largest', 'lark', 'larkins', 'larks', 'larry', 'lars', 'larva', 'larvae', 'larval', 'lascaux', 'laser', 'lasers', 'lashes', 'lashings', 'lasik', 'last', 'lasted', 'lasting', 'lastly', 'lasts', 'latches', 'late', 'lately', 'lateness', 'latent', 'later', 'lateral', 'laterals', 'latest', 'latex', 'lathe', 'lathering', 'lathrop', 'latin', 'latitude', 'latitudinal', 'latium', 'latreille', 'latrines', 'latter', 'latterly', 'lattice', 'latticed', 'lattices', 'latvia', 'laud', 'laugh', 'laughed', 'laughers', 'laughing', 'laughingly', 'laughs', 'laughter', 'launch', 'launched', 'launches', 'launching', 'laundry', 'laura', 'laurasia', 'laurel', 'laurier', 'laurogeita', 'lava', 'lavender', 'lavengro', 'lavish', 'lavished', 'law', 'lawful', 'lawfully', 'lawless', 'lawn', 'lawns', 'lawrence', 'laws', 'lawton', 'lawyer', 'lawyers', 'lay', 'layer', 'layers', 'laying', 'lays', 'lazarevats', 'lazarus', 'laze', 'lazer', 'laziest', 'lazily', 'laziness', 'lazuli', 'lazy', 'lb', 'lbs', 'lcd', 'le', 'lead', 'leaden', 'leader', 'leaders', 'leadership', 'leading', 'leads', 'leaf', 'leafy', 'league', 'leagued', 'leagues', 'leak', 'leakage', 'leaked', 'leaking', 'lean', 'leaned', 'leaning', 'leans', 'leant', 'leap', 'leaped', 'leaping', 'leaps', 'leapt', 'lear', 'learn', 'learned', 'learners', 'learning', 'learns', 'learnt', 'leash', 'least', 'leather', 'leave', 'leaven', 'leaves', 'leaving', 'leavitt', 'leclerc', 'lecture', 'lectured', 'lecturer', 'lectures', 'led', 'ledge', 'ledger', 'ledgers', 'ledges', 'leds', 'lee', 'leech', 'leeds', 'leering', 'lees', 'leeward', 'left', 'leftover', 'leg', 'legacy', 'legal', 'legalized', 'legally', 'legend', 'legendary', 'legends', 'leger', 'legged', 'leggers', 'leggings', 'legible', 'legions', 'legislation', 'legislative', 'legislature', 'legislatures', 'legitimacy', 'legitimate', 'legitimately', 'lego', 'legs', 'legumes', 'legumin', 'leif', 'leika', 'leila', 'leipzig', 'leisure', 'leisurely', 'leksell', 'lemaire', 'lemonade', 'lemons', 'lend', 'lender', 'lending', 'lends', 'length', 'lengthen', 'lengthening', 'lengths', 'lengthwise', 'lenient', 'lenin', 'leninist', 'lennox', 'lens', 'lenses', 'lensing', 'lent', 'lenticular', 'lentils', 'leo', 'leonard', 'leonhard', 'leoni', 'leonidas', 'leopard', 'leopards', 'lepsius', 'les', 'lesion', 'less', 'lessen', 'lessens', 'lesser', 'lesson', 'lessons', 'lest', 'let', 'lethargy', 'lets', 'letter', 'letters', 'letting', 'lettuce', 'lettuces', 'leucocytes', 'leukemia', 'levant', 'levantine', 'level', 'leveled', 'levelling', 'levels', 'lever', 'leverage', 'levers', 'leviathan', 'levied', 'levinstein', 'levy', 'levying', 'lewis', 'leyden', 'leyte', 'li', 'liable', 'liamin', 'liberal', 'liberally', 'liberated', 'liberation', 'liberties', 'liberty', 'librarians', 'libraries', 'library', 'libyan', 'license', 'licensed', 'licenses', 'licensing', 'lichen', 'lichens', 'lichnowsky', 'lick', 'licked', 'licking', 'licks', 'lictors', 'lid', 'lids', 'lie', 'liebermann', 'lied', 'lief', 'liege', 'lies', 'lieu', 'lieut', 'lieutenant', 'lieutenants', 'life', 'lifeblood', 'lifeguard', 'lifeguards', 'lifejacket', 'lifejackets', 'lifeless', 'lifelong', 'lifespan', 'lifestyle', 'lifetime', 'lifetimes', 'lift', 'lifted', 'lifting', 'lifts', 'ligaments', 'ligand', 'ligands', 'light', 'lightbulbs', 'lighted', 'lighten', 'lightening', 'lighter', 'lighterman', 'lightest', 'lightfoot', 'lighthouse', 'lighthouses', 'lighting', 'lightish', 'lightly', 'lightning', 'lights', 'lightship', 'lightweight', 'ligneous', 'lignite', 'liha', 'like', 'liked', 'likelihood', 'likely', 'likened', 'likeness', 'likens', 'likes', 'likewise', 'likhutu', 'liking', 'lila', 'lilac', 'lili', 'lilied', 'lilies', 'lillie', 'lily', 'limb', 'limbed', 'limbo', 'limbs', 'lime', 'limehouse', 'limerick', 'limestone', 'limit', 'limitation', 'limitations', 'limited', 'limiting', 'limitless', 'limits', 'limnology', 'limp', 'limped', 'limpopo', 'limps', 'lin', 'lincoln', 'linda', 'lindbergh', 'linden', 'lindley', 'lindy', 'line', 'lineage', 'lineages', 'linear', 'lined', 'linen', 'lineola', 'liner', 'liners', 'lines', 'ling', 'linger', 'lingering', 'linguistic', 'liniment', 'liniments', 'linimentum', 'linings', 'link', 'linked', 'linking', 'links', 'linoleum', 'linseed', 'lint', 'linus', 'linux', 'lion', 'lionel', 'lioness', 'lionfish', 'lions', 'lip', 'lipase', 'lipids', 'lippens', 'lippincott', 'lips', 'liquefied', 'liquefy', 'liquid', 'liquids', 'lir', 'lisa', 'lisbon', 'list', 'listed', 'listen', 'listened', 'listeners', 'listening', 'listens', 'lister', 'listless', 'listlessly', 'liszt', 'lit', 'litchfield', 'liter', 'literal', 'literally', 'literary', 'literate', 'literature', 'liters', 'litharge', 'lithe', 'lithographs', 'lithosphere', 'lithospheric', 'lithuania', 'litigant', 'litmus', 'litre', 'litter', 'little', 'littler', 'littletail', 'live', 'lived', 'liveliest', 'livelihood', 'lively', 'liver', 'liverpool', 'livers', 'livery', 'lives', 'livestock', 'living', 'livy', 'liz', 'lizard', 'lizards', 'lizzy', 'lloyd', 'lo', 'load', 'loaded', 'loading', 'loads', 'loaf', 'loafing', 'loam', 'loan', 'loaned', 'loans', 'loathes', 'loathing', 'loaves', 'lobby', 'lobe', 'lobes', 'lobsters', 'local', 'locale', 'localities', 'locality', 'localization', 'localize', 'localized', 'locally', 'locate', 'located', 'locating', 'location', 'locations', 'loch', 'lochs', 'loci', 'lock', 'locke', 'locked', 'locker', 'lockers', 'lockets', 'locking', 'locks', 'locksley', 'locomotive', 'locomotives', 'locus', 'locusts', 'lodes', 'lodestone', 'lodge', 'lodged', 'lodgers', 'lodges', 'lodging', 'lodgings', 'lodz', 'loft', 'loftier', 'lofty', 'log', 'logged', 'logging', 'logic', 'logical', 'logie', 'logistical', 'logoi', 'logs', 'loiter', 'loitered', 'loki', 'lolling', 'lombard', 'lombards', 'lomongin', 'lomonosov', 'london', 'londoner', 'lone', 'loneliest', 'loneliness', 'lonely', 'lonepinella', 'lonesome', 'long', 'longears', 'longed', 'longer', 'longest', 'longevity', 'longfellow', 'longing', 'longingly', 'longitude', 'longitudes', 'longitudinally', 'longlegs', 'longtom', 'looe', 'look', 'looked', 'looking', 'lookout', 'looks', 'lookst', 'loom', 'loomed', 'looms', 'loons', 'loop', 'loops', 'loose', 'loosely', 'loosened', 'loosening', 'lopoliths', 'lopped', 'loppered', 'lopping', 'lord', 'lordlily', 'lordly', 'lords', 'lordships', 'lore', 'loreleys', 'lorgnette', 'lorna', 'lorraine', 'lorrimer', 'lorrin', 'lory', 'lose', 'loser', 'losers', 'loses', 'losing', 'loss', 'losses', 'lost', 'lot', 'loten', 'lots', 'lotteries', 'lottery', 'lottie', 'lotus', 'loud', 'louder', 'loudest', 'loudly', 'loudness', 'loudspeaker', 'louis', 'louisa', 'louisbourg', 'louise', 'louisiana', 'louisville', 'lounge', 'lounging', 'louse', 'lout', 'louvain', 'louvre', 'lovable', 'love', 'loved', 'lovelies', 'loveliest', 'loveliness', 'lovely', 'lovenjoul', 'lover', 'lovers', 'loves', 'loving', 'lovingly', 'low', 'lowed', 'lowell', 'lower', 'lowered', 'lowering', 'lowers', 'lowest', 'lowland', 'lowlands', 'lowmoor', 'lowness', 'loyal', 'loyalists', 'loyalty', 'lpg', 'ltp', 'lub', 'lubbock', 'lubricants', 'luca', 'lucern', 'lucia', 'lucid', 'luciferase', 'luciferin', 'lucija', 'lucius', 'luck', 'luckier', 'luckiest', 'luckily', 'lucky', 'lucrative', 'lucy', 'ludendorff', 'ludwig', 'luftwaffe', 'luggage', 'lugged', 'lugger', 'lugs', 'luis', 'lull', 'lullaby', 'lulu', 'lumber', 'lumbering', 'luminaries', 'luminary', 'luminescent', 'luminosity', 'luminous', 'lump', 'lumps', 'lunar', 'lunatic', 'lunch', 'luncheon', 'lunchtime', 'lung', 'lungi', 'lungs', 'lupus', 'lurch', 'lure', 'lurid', 'luring', 'lurk', 'lurked', 'luscious', 'luscus', 'lushan', 'lusitania', 'lust', 'luster', 'lustre', 'lustrous', 'lusty', 'lute', 'lutescens', 'luwian', 'luxembourg', 'luxemburg', 'luxuriance', 'luxuriant', 'luxuries', 'luxurious', 'luxuriously', 'luxury', 'luyten', 'lychnis', 'lydia', 'lyft', 'lying', 'lyman', 'lynch', 'lynn', 'lynne', 'lynx', 'lyonnesse', 'lyra', 'lyrics', 'm', 'm*s', 'ma', 'maa', 'maaa', 'maame', 'maarut', 'maastricht', 'mab', 'mabel', 'mac', 'macaroon', 'macaroons', 'macaulay', 'macbeth', 'macchie', 'macdonald', 'macedonia', 'mach', 'macheath', 'machete', 'machiavelli', 'machinations', 'machine', 'machinery', 'machines', 'machinist', 'macintosh', 'mackerel', 'macmillan', 'macneil', 'macos', 'macromedia', 'macromolecules', 'macronutrient', 'macrophages', 'macroscale', 'macroscopic', 'mad', 'madam', 'madame', 'madder', 'maddest', 'made', 'madeleine', 'madeline', 'mademoiselle', 'madie', 'madly', 'madman', 'madness', 'madola', 'madone', 'madrid', 'maes', 'magazine', 'magazines', 'magdalen', 'magee', 'magellan', 'magenta', 'magezi', 'maggie', 'magic', 'magical', 'magician', 'magicians', 'magistrate', 'magistrates', 'magma', 'magnesia', 'magnesian', 'magnesium', 'magnet', 'magnetic', 'magnetism', 'magnetized', 'magnets', 'magnificence', 'magnificent', 'magnified', 'magnifying', 'magnitude', 'magozwe', 'magpies', 'magyars', 'maharaja', 'maheu', 'mahikeng', 'mahogany', 'maid', 'maidan', 'maiden', 'maidens', 'maids', 'mail', 'mailed', 'mailing', 'mails', 'maim', 'maimed', 'main', 'maine', 'mainland', 'mainly', 'mainmast', 'mainsail', 'mainstream', 'maintain', 'maintained', 'maintaining', 'maintains', 'maintenance', 'mais', 'maize', 'majestic', 'majesties', 'majesty', 'major', 'majorities', 'majority', 'make', 'maker', 'makers', 'makes', 'makeshifts', 'makhan', 'making', 'makings', 'maladies', 'malady', 'malaria', 'malay', 'malayan', 'malaysia', 'malaysian', 'malcolm', 'male', 'maledictions', 'maleka', 'males', 'malfunction', 'mali', 'malison', 'mall', 'malleable', 'mallet', 'malnutrition', 'malt', 'malta', 'malted', 'maltie', 'malting', 'maltose', 'mama', 'mamajek', 'maman', 'mamas', 'mamie', 'mamma', 'mammal', 'mammalian', 'mammals', 'mammary', 'mammas', 'mammoth', 'mammy', 'man', 'manaccan', 'manage', 'manageable', 'managed', 'management', 'manager', 'manages', 'managing', 'manasquan', 'mancha', 'manchester', 'mandate', 'mandazi', 'mandolins', 'mandrie', 'mandy', 'mane', 'maned', 'manene', 'manes', 'maneuver', 'maneuvering', 'manfully', 'manganese', 'manganic', 'mangled', 'mangnall', 'mango', 'mangoes', 'mangrove', 'manhattan', 'manhood', 'maniacs', 'manifest', 'manifestation', 'manifestations', 'manifested', 'manifestly', 'manifesto', 'manifests', 'manifold', 'manifoldness', 'manikin', 'manikins', 'manila', 'manipulable', 'manipulate', 'manipulated', 'manipulating', 'manipulation', 'mankind', 'manliness', 'manlius', 'manly', 'manned', 'manner', 'mannered', 'mannerless', 'mannerly', 'manners', 'manning', 'manor', 'manorialism', 'manors', 'manpower', 'mansion', 'mansions', 'mantel', 'mantle', 'mantles', 'manu', 'manual', 'manually', 'manufac', 'manufacture', 'manufactured', 'manufacturer', 'manufacturers', 'manufactures', 'manufacturing', 'manure', 'manuscript', 'manuscripts', 'many', 'manzanar', 'map', 'maple', 'maples', 'mapping', 'maps', 'mar', 'marabout', 'marathon', 'marauding', 'marble', 'marbled', 'marbles', 'marc', 'march', 'marched', 'marches', 'marching', 'marcia', 'marco', 'marconi', 'marcus', 'mare', 'marehan', 'mares', 'margaret', 'margery', 'margin', 'margined', 'margraviate', 'margy', 'maria', 'marian', 'mariana', 'marianne', 'marie', 'marigolds', 'marinas', 'marine', 'mariner', 'mariners', 'marino', 'maritime', 'marjoram', 'marjorie', 'mark', 'marked', 'marker', 'market', 'marketed', 'marketing', 'marketplace', 'markets', 'marking', 'markings', 'marks', 'markup', 'marmaduke', 'marmalade', 'marmot', 'marne', 'maroon', 'marquis', 'marred', 'marriage', 'marriages', 'married', 'marrow', 'marry', 'mars', 'marseillaise', 'marseilles', 'marsh', 'marshal', 'marshall', 'marshalsea', 'marshes', 'marshmallow', 'marshmallows', 'marshy', 'marston', 'marten', 'martha', 'martin', 'martyn', 'martyr', 'marvel', 'marveled', 'marvell', 'marvellous', 'marvelous', 'marvelously', 'marvels', 'marxist', 'mary', 'maryland', 'mas', 'mascart', 'masdevallia', 'masdevallias', 'mashed', 'mashing', 'mask', 'masked', 'masking', 'masks', 'maslow', 'mason', 'masonry', 'mass', 'massachusetts', 'massarani', 'massasoit', 'masse', 'massed', 'masses', 'massive', 'mast', 'master', 'mastered', 'masterly', 'masterpiece', 'masters', 'masterson', 'mastery', 'mastiff', 'masts', 'mat', 'mataala', 'matata', 'match', 'matched', 'matches', 'mate', 'material', 'materialized', 'materially', 'materials', 'maternal', 'mates', 'math', 'matheline', 'mathematical', 'mathematician', 'mathematicians', 'mathematics', 'mathias', 'maths', 'matie', 'matilda', 'mating', 'matrix', 'matron', 'matronly', 'matrons', 'mats', 'matt', 'matter', 'mattered', 'matters', 'matthews', 'mattie', 'matting', 'mattresses', 'maturation', 'mature', 'matured', 'maturing', 'maturity', 'maud', 'maurice', 'maurier', 'mauritania', 'mauser', 'mauthhausen', 'mavis', 'max', 'maxeville', 'maxim', 'maximization', 'maximize', 'maximizing', 'maximowicz', 'maximum', 'maximus', 'may', 'maya', 'maybe', 'mayday', 'mayhem', 'maynard', 'mayor', 'maypole', 'maze', 'mazes', 'mazy', 'mbadede', 'mbisa', 'mbit', 'mbuya', 'mccarthy', 'mcclellan', 'mcgregor', 'mckinley', 'mcu', 'mcwilliams', 'me', 'mead', 'meadow', 'meadows', 'meager', 'meagre', 'meal', 'mealies', 'meals', 'mean', 'meandered', 'meaning', 'meaningfully', 'meaningless', 'meanings', 'meanness', 'means', 'meant', 'meantime', 'meanwhile', 'mease', 'measurable', 'measurably', 'measure', 'measured', 'measurement', 'measurements', 'measures', 'measuring', 'meat', 'meats', 'mebbe', 'mebibytes', 'mechanic', 'mechanical', 'mechanically', 'mechanics', 'mechanicsburg', 'mechanism', 'mechanisms', 'mechanoreceptor', 'mechanoreceptors', 'mechanosynthesis', 'med', 'medal', 'medals', 'meddle', 'meddled', 'meddlesome', 'medea', 'media', 'mediaeval', 'medial', 'mediated', 'medical', 'medically', 'medicaments', 'medication', 'medications', 'medicine', 'medicines', 'medieval', 'meditation', 'meditatively', 'mediterranean', 'medium', 'medoc', 'meee', 'meehan', 'meek', 'meekly', 'meekness', 'meet', 'meeting', 'meetings', 'meets', 'meg', 'mega', 'megabyte', 'megabytes', 'megaponera', 'megatherium', 'mehmed', 'meiosis', 'mekong', 'mel', 'melago', 'melancholy', 'mellow', 'mellowing', 'melodic', 'melody', 'melon', 'melt', 'melted', 'melting', 'melts', 'melville', 'melvin', 'member', 'members', 'membership', 'membrane', 'mementos', 'memorable', 'memorandum', 'memorial', 'memorials', 'memories', 'memorizing', 'memory', 'men', 'menace', 'menaced', 'menacing', 'menacingly', 'menagerie', 'mend', 'mended', 'mendicancy', 'mending', 'mendoza', 'menfolk', 'meningitis', 'menny', 'menstrua', 'mental', 'mentalize', 'mentalizing', 'mentally', 'mention', 'mentioned', 'mentioning', 'menuetos', 'meolidas', 'meona', 'meow', 'mercantile', 'mercedes', 'mercer', 'merchandise', 'merchant', 'merchantable', 'merchants', 'merciful', 'mercury', 'mercy', 'mere', 'meredith', 'merely', 'merest', 'merge', 'merger', 'merges', 'merging', 'meri', 'merill', 'merit', 'meritorious', 'merits', 'merle', 'merlin', 'meroe', 'merrier', 'merriest', 'merrill', 'merrily', 'merrimack', 'merriwell', 'merry', 'merton', 'mes', 'meseret', 'mesh', 'meshed', 'meshes', 'mesoamerican', 'mesocarp', 'mesoderm', 'mesolithic', 'mesopelagic', 'mesopotamia', 'mesozoic', 'mess', 'message', 'messages', 'messaging', 'messenger', 'messengers', 'messes', 'messrs', 'met', 'meta', 'metabolic', 'metabolism', 'metagenome', 'metal', 'metallic', 'metals', 'metamorphosis', 'metanalysis', 'metaphase', 'metaphor', 'metaphysics', 'metazoans', 'metempsychosis', 'meteoric', 'meteorites', 'meteoroids', 'meteorological', 'meteorologist', 'meteorologists', 'meter', 'metered', 'metering', 'meters', 'methane', 'method', 'methodical', 'methods', 'methyl', 'metre', 'metres', 'metric', 'metropolis', 'metz', 'meurthe', 'mew', 'mewed', 'mexican', 'mexicans', 'mexico', 'mezzanine', 'mhz', 'mi', 'mic', 'mica', 'micawber', 'mice', 'michael', 'michaelmas', 'michel', 'michigan', 'mickey', 'micomicon', 'micro', 'microalgae', 'microarchitecture', 'microbe', 'microbes', 'microbial', 'microbiologist', 'microbiome', 'microbiomes', 'microbiota', 'microcontroller', 'microcontrollers', 'microcosm', 'micrometer', 'micrometers', 'micron', 'microns', 'micronutrient', 'microorganism', 'microorganisms', 'microphone', 'microphones', 'microprocessor', 'microprocessors', 'microscope', 'microscopes', 'microscopic', 'microsd', 'microsoft', 'microsystems', 'microvolts', 'microwave', 'microwaves', 'mid', 'midas', 'midday', 'middle', 'middlesex', 'middleton', 'middling', 'midge', 'midnight', 'midpoint', 'midshipmen', 'midst', 'midsummer', 'midway', 'midwest', 'midwife', 'midwinter', 'mielies', 'mien', 'might', 'mighty', 'migrate', 'migrated', 'migrating', 'migration', 'migrations', 'miguel', 'mija', 'mike', 'mikhail', 'milan', 'mild', 'milder', 'mildly', 'mildness', 'mildred', 'mile', 'mileage', 'miles', 'milesian', 'milfoil', 'militant', 'militarily', 'militarism', 'militarist', 'militarists', 'military', 'militate', 'militias', 'milk', 'milked', 'milking', 'milkmen', 'milky', 'mill', 'millar', 'millars', 'millennia', 'millennium', 'miller', 'millers', 'millet', 'millikan', 'millilitres', 'millimeter', 'milling', 'million', 'millionaires', 'millions', 'millipede', 'millpond', 'mills', 'millwright', 'milly', 'milne', 'miltiades', 'milton', 'milwaukee', 'mimi', 'mimic', 'mimics', 'min', 'minas', 'minchin', 'mincingly', 'mind', 'minded', 'mindful', 'minding', 'minds', 'mine', 'mined', 'miner', 'mineral', 'mineralogical', 'mineralogy', 'minerals', 'miners', 'minerva', 'mines', 'minesweeper', 'minever', 'ming', 'minghetti', 'mingled', 'mingling', 'mini', 'miniature', 'minimal', 'minimized', 'minimizes', 'minimum', 'mining', 'minions', 'minister', 'ministered', 'ministers', 'ministry', 'minix', 'mink', 'minn', 'minneapolis', 'minnesota', 'minnie', 'mino', 'minor', 'minorities', 'minority', 'minster', 'minstrels', 'mint', 'minty', 'minucius', 'minus', 'minute', 'minutes', 'minx', 'miracle', 'miracles', 'miraculous', 'mirai', 'miranda', 'mire', 'mirror', 'mirrors', 'mirth', 'mirthful', 'mirthfulness', 'mis', 'misadventure', 'misapprehended', 'misbehavior', 'miscellaneous', 'mischief', 'mischievous', 'mischievousness', 'misconceive', 'misconception', 'misconduct', 'miser', 'miserable', 'miserably', 'miseries', 'misery', 'misfortune', 'misgivings', 'mishap', 'misinform', 'misinterpreted', 'mislead', 'misleading', 'misperceive', 'misperceived', 'misrule', 'miss', 'missed', 'missense', 'misses', 'misshapen', 'missing', 'mission', 'missionary', 'missions', 'missis', 'mississippi', 'missouri', 'misstated', 'misstatement', 'mist', 'mistake', 'mistaken', 'mistakes', 'mistaking', 'mister', 'mistook', 'mistress', 'mistresses', 'mistretta', 'mistrusted', 'mists', 'misty', 'misummer', 'misunderstand', 'misunderstandings', 'misunderstood', 'mitanni', 'mitchel', 'mitchell', 'mite', 'mitford', 'mithraic', 'mitigation', 'mitochondrial', 'mitosis', 'mitotic', 'mitral', 'mitres', 'mitsuye', 'mittani', 'mittens', 'mitzvah', 'mix', 'mixed', 'mixing', 'mixotrophic', 'mixture', 'mixtures', 'mkabayi', 'mkhize', 'mlle', 'mm', 'mmama', 'mmmm', 'mmmmm', 'mnt', 'moaned', 'moaning', 'moat', 'mob', 'mobile', 'mobilier', 'mobility', 'mobilization', 'mobilize', 'mobilized', 'mobilizing', 'mobs', 'moccasins', 'mock', 'mocked', 'mocking', 'mockingly', 'mode', 'model', 'modeled', 'modeling', 'modelling', 'models', 'modem', 'moderate', 'moderately', 'moderates', 'modern', 'modernization', 'modernize', 'moderns', 'modes', 'modest', 'modestine', 'modestly', 'modesty', 'modi', 'modification', 'modifications', 'modified', 'modifiers', 'modifies', 'modify', 'modifying', 'modred', 'modulated', 'modulating', 'modulation', 'modules', 'mogale', 'mohawk', 'mohunk', 'moi', 'moieties', 'moist', 'moistened', 'moistening', 'moisture', 'molasses', 'mold', 'molded', 'moldy', 'mole', 'molecular', 'molecule', 'molecules', 'molehill', 'moles', 'molested', 'moliere', 'molk', 'mollie', 'mollusks', 'molly', 'molt', 'molten', 'molting', 'mom', 'mombi', 'moment', 'momentary', 'momentous', 'moments', 'momentum', 'mommy', 'moms', 'mona', 'monarch', 'monarchical', 'monarchies', 'monarchs', 'monarchy', 'monastery', 'monastic', 'monastir', 'monatomic', 'monday', 'monet', 'money', 'mongolia', 'monitor', 'monitored', 'monitors', 'monk', 'monkey', 'monkeys', 'monks', 'monkshoods', 'monoatomic', 'monochromatic', 'monocle', 'monocotyledons', 'monograph', 'monographs', 'monophyletic', 'monoplane', 'monopolies', 'monopolize', 'monopoly', 'monosyllable', 'monosyllables', 'monotheistic', 'monotonous', 'monotony', 'monoxide', 'monraba', 'monroe', 'monsieur', 'monsoon', 'monsoons', 'monster', 'monsters', 'monstrous', 'mont', 'monte', 'montezuma', 'montgolfier', 'montgomery', 'month', 'monthly', 'months', 'montmartre', 'monument', 'monumental', 'monuments', 'monzonite', 'moo', 'mood', 'moods', 'moody', 'mooly', 'moon', 'moonan', 'mooned', 'moonless', 'moonlight', 'moonlit', 'moons', 'moonshine', 'moor', 'moore', 'moored', 'moorish', 'moors', 'moose', 'mopped', 'mopsy', 'mor', 'moraines', 'moral', 'moralic', 'morality', 'moralizations', 'morally', 'morals', 'moran', 'morass', 'moray', 'morbid', 'mordant', 'mordanted', 'mordecai', 'more', 'moreover', 'moresque', 'morissot', 'morizzi', 'morland', 'morning', 'mornings', 'morocco', 'morpeth', 'morpheme', 'morphine', 'morpho', 'morphological', 'morphologies', 'morphology', 'morris', 'morrow', 'morse', 'mortal', 'mortality', 'mortally', 'mortals', 'mortar', 'mortgage', 'mortification', 'mortified', 'mortimer', 'morton', 'mosaic', 'mosasaurs', 'moscow', 'moselle', 'mosques', 'mosquito', 'mosquitoes', 'mosquitos', 'moss', 'mosses', 'mossy', 'most', 'mostly', 'motaung', 'moth', 'mothballs', 'mother', 'motherboard', 'motherland', 'mothers', 'moths', 'motion', 'motioned', 'motioning', 'motionless', 'motions', 'motivated', 'motivates', 'motivating', 'motivation', 'motive', 'motives', 'motley', 'motor', 'motorcycle', 'motorist', 'motorman', 'motors', 'mottled', 'motto', 'mould', 'moulded', 'moulds', 'mouldy', 'mound', 'mounds', 'mount', 'mountain', 'mountaineers', 'mountainous', 'mountains', \"mountains'\", 'mountainside', 'mountaintop', 'mounted', 'mounting', 'mounts', 'mourn', 'mournful', 'mournfully', 'mourning', 'mouse', 'mouser', 'mousie', 'mousing', 'moustache', 'moustaches', 'mousterian', 'mouth', 'mouthful', 'mouthparts', 'mouths', 'movable', 'move', 'moveable', 'moved', 'movement', 'movements', 'moves', 'movie', 'movies', 'moving', 'mow', 'mowgli', 'moyle', 'mozambique', 'mozart', 'mozilla', 'mp', 'mph', 'mps', 'mpunzi', 'mr', 'mri', 'mrna', 'mrs', 'mrt', 'mse', 'mspo', 'mt', 'much', 'mucilage', 'muckish', 'mucus', 'mud', 'muddied', 'muddy', 'muffatees', 'muffins', 'muffle', 'muffled', 'muffs', 'mug', 'mugger', 'muhammad', 'muizenberg', 'mulberry', 'mule', 'mules', 'mullaly', 'mullein', 'muller', 'mulligan', 'multi', 'multicellular', 'multicloning', 'multilingual', 'multimedia', 'multinational', 'multiple', 'multiples', 'multiplication', 'multiplied', 'multiplies', 'multiply', 'multitude', 'multitudinous', 'multivitamin', 'mum', 'mumbled', 'mummers', 'mummy', 'mun', 'munched', 'munching', 'mundane', 'mundi', 'munich', 'municipal', 'munificence', 'munitions', 'munu', 'murad', 'muratori', 'murder', 'murmur', 'murmured', 'murmuring', 'murmurs', 'murphy', 'musai', 'muscle', 'muscles', 'muscovy', 'muscular', 'mused', 'muses', 'museum', 'museums', 'musgrave', 'mush', 'mushroom', 'mushrooms', 'mushy', 'music', 'musical', 'musician', 'musicians', 'musing', 'musk', 'musket', 'muskrat', 'muslims', 'muslin', 'mussed', 'mussels', 'must', 'mustache', 'mustangs', 'mustard', 'mustered', 'musty', 'mutant', 'mutate', 'mutations', 'mute', 'mutilated', 'mutinied', 'mutinous', 'mutsamvi', 'muttered', 'muttering', 'mutterings', 'mutton', 'mutual', 'mutualism', 'mutually', 'muzafer', 'muzzle', 'muzzled', 'mv', 'my', 'mycenaean', 'mycobacterium', 'mycorrhizal', 'myeloid', 'myosin', 'myra', 'myrmecophagous', 'mysel', 'myself', 'mysteries', 'mysterious', 'mystery', 'mystic', 'mysticism', 'mystics', 'mystifying', 'myth', 'mythic', 'mythological', 'mythology', 'myths', 'n', 'na', 'naca', 'nachos', 'nad', 'nadh', 'nagari', 'nagasaki', 'nagged', 'nagging', 'naha', 'naiaine', 'nail', 'nailed', 'nails', 'nainaine', 'nairutya', 'nakamoto', 'nakase', 'nakaz', 'naked', 'name', 'named', 'nameless', 'namely', 'names', 'namibia', 'naming', 'nan', 'nana', 'nancy', 'nannerl', 'nannie', 'nanoengineered', 'nanomachines', 'nanomedicine', 'nanometer', 'nanometres', 'nanoparticles', 'nanoscale', 'nanotechnologies', 'nanotechnology', 'naomi', 'nap', 'napkin', 'napkins', 'naples', 'napoleon', 'napoleone', 'napoleonic', 'napoleons', 'napoli', 'napping', 'naps', 'narbonne', 'narrate', 'narrative', 'narratives', 'narrow', 'narrower', 'narrowest', 'narrowing', 'narrowly', 'narrows', 'nasa', 'nastier', 'nasty', 'nat', 'natabo', 'natacha', 'natchez', 'nathan', 'nathaniel', 'nation', 'national', 'nationalism', 'nationalist', 'nationalities', 'nationality', 'nationalization', 'nations', 'native', 'natives', 'nato', 'natty', 'natural', 'naturalism', 'naturalist', 'naturally', 'nature', 'natured', 'natures', 'naught', 'naughtiness', 'naughty', 'nauplii', 'nauplius', 'nautical', 'naval', 'navicular', 'navigate', 'navigates', 'navigation', 'navigational', 'navigators', 'navy', 'nay', 'nayantara', 'naymes', 'nazareth', 'nazi', 'nazis', 'nbb', 'nd', 'ndaba', 'ndima', 'ne', 'neanderthal', 'neanderthals', 'near', 'nearby', 'neared', 'nearer', 'nearest', 'nearly', 'neat', 'neatest', 'neatly', 'neatness', 'nebuchadnezzar', 'nebula', 'nebulae', 'necessaries', 'necessarily', 'necessary', 'necessitates', 'necessities', 'necessitous', 'necessity', 'neck', 'necklace', 'necks', 'necktie', 'necronomicon', 'necropolis', 'nectar', 'ned', 'neddy', 'need', 'needed', 'needing', 'needle', 'needles', 'needlessly', 'needlework', 'needs', 'needy', 'negative', 'negatively', 'negatives', 'neglect', 'neglected', 'neglecting', 'negligee', 'negligible', 'negotiate', 'negotiating', 'negotiation', 'negotiations', 'neighbor', 'neighborhood', 'neighborhoods', 'neighboring', 'neighborly', 'neighbors', 'neighbour', 'neighbourhood', 'neighbouring', 'neighbours', 'neills', 'neither', 'nekton', 'nell', 'nellie', 'nelly', 'nelson', 'nelsons', 'nemo', 'neo', 'neolithic', 'neonatal', 'neosho', 'nephew', 'nephews', 'nepotism', 'neptune', 'neptunism', 'nero', 'nerve', 'nerves', 'nervous', 'nervously', 'ness', 'nest', 'nestled', 'nestling', 'nests', 'net', 'netball', 'netherlanders', 'netherlands', 'nets', 'netta', 'netted', 'nettie', 'nettikutti', 'nettle', 'network', 'networking', 'networks', 'neumann', 'neural', 'neuralgia', 'neuralgic', 'neuro', 'neurodegenerative', 'neuroethicists', 'neuroethics', 'neurohormones', 'neurological', 'neuron', 'neuronal', 'neurons', 'neuroplasticity', 'neuroscience', 'neuroscientists', 'neurosurgeon', 'neurotransmitter', 'neurotransmitters', 'neutral', 'neutrality', 'neutralize', 'neutralizing', 'neutrals', 'neutrinos', 'neutron', 'neutrons', 'nevada', 'never', 'nevertheless', 'new', 'newborn', 'newborns', 'newburyport', 'newcastle', 'newcomer', 'newcomers', 'newell', 'newer', 'newest', 'newfoundland', 'newfoundlander', 'newly', 'newness', 'newport', 'news', 'newsboy', 'newspaper', 'newspapers', 'newton', 'newtonian', 'next', 'ng', 'ngan', 'ngc', 'ngs', 'nhimbe', 'niagara', 'nibble', 'nibbled', 'nibbling', 'nibelunger', 'nice', 'nicely', 'nicer', 'niceties', 'niche', 'nicholas', 'nick', 'nickel', 'nickname', 'nicknamed', 'nicolas', 'nicolaus', 'nicolich', 'nicolosi', 'niece', 'nieces', 'niekirk', 'niger', 'nigeria', 'nigh', 'night', 'nightfall', 'nightgown', 'nightly', 'nights', 'nighttime', 'nih', 'nihilo', 'nikolai', 'nile', 'nilkanta', 'nilly', 'nimble', 'nimbly', 'nina', 'nine', 'nines', 'nineteen', 'nineteenth', 'ninety', 'nineveh', 'ninth', 'nipped', 'nippers', 'nipple', 'nish', 'nitrates', 'nitric', 'nitride', 'nitrite', 'nitrites', 'nitrogen', 'nitrogenized', 'nitrogenous', 'nixon', 'nizhny', 'nkanyezi', 'nmr', 'nmri', 'no', 'noaa', 'noah', 'nob', 'nobel', 'nobility', 'noble', 'noblemen', 'nobles', 'noblest', 'nobody', 'nod', 'nodded', 'nodding', 'noddy', 'node', 'nodes', 'noel', 'nogent', 'noise', 'noiseless', 'noiselessly', 'noises', 'noisiest', 'noisily', 'noisome', 'noisy', 'nolla', 'nom', 'nomad', 'nomades', 'nomadic', 'nomadism', 'nomads', 'nombre', 'nomenclature', 'nominal', 'nominated', 'nomos', 'non', 'nonage', 'nonaural', 'nonchalantly', 'noncoding', 'nonconformists', 'nondestructive', 'none', 'nonetheless', 'nonglacial', 'nonliving', 'nonprogrammable', 'nonsense', 'nonviolent', 'nonvolatile', 'nonzero', 'nook', 'nooks', 'noon', 'noonday', 'noons', 'noose', 'nope', 'nor', 'nora', 'norah', 'norfolk', 'normal', 'normally', 'norman', 'normand', 'normandy', 'norse', 'nort', 'north', 'northampton', 'northeast', 'norther', 'northern', 'northernmost', 'northumbrian', 'northup', 'northward', 'northwest', 'northwestern', 'norton', 'norway', 'norwegian', 'norwich', 'nose', 'nosed', 'nosegay', 'noses', 'nosing', 'nosisa', 'nostril', 'nostrils', 'nosy', 'not', 'notable', 'notably', 'notation', 'notch', 'notched', 'notches', 'note', 'notebook', 'notebooks', 'noted', 'notes', 'noteworthy', 'nothat', 'nothey', 'nothick', 'nothin', 'nothing', 'nothingness', 'nothout', 'nothukula', 'notice', 'noticeable', 'noticed', 'notices', 'noticing', 'notified', 'noting', 'notion', 'notions', 'notis', 'noto', 'notook', 'notransplanted', 'notrue', 'nots', 'nottingham', 'notwas', 'notwithstanding', 'notyrant', 'nought', 'noun', 'nouns', 'nourish', 'nourished', 'nourishing', 'nourishment', 'nov', 'nova', 'novel', 'novelist', 'novelists', 'novels', 'novelties', 'novelty', 'november', 'novorosiysk', 'now', 'nowadays', 'nowhere', 'nowwwww', 'noyes', 'nozibele', 'nr', 'nth', 'ntiamoa', 'nubbin', 'nubia', 'nuclear', 'nucleases', 'nuclei', 'nucleic', 'nucleotides', 'nucleus', 'nudged', 'nudibranch', 'nueces', 'nuisance', 'nuisances', 'nullity', 'numb', 'number', 'numbered', 'numbering', 'numberless', 'numbers', 'numbing', 'numerals', 'numerator', 'numeric', 'numerical', 'numerically', 'numerous', 'numerously', 'nunn', 'nurse', 'nursed', 'nursemaids', 'nurseries', 'nursery', 'nurserymen', 'nurses', 'nursing', 'nut', 'nutmeg', 'nutrient', 'nutrients', 'nutrition', 'nutritionist', 'nutritionists', 'nutritious', 'nutritive', 'nuts', 'ny', 'nyame', 'nyameky', 'nymph', 'nymphs', 'nyoda', 'o', 'oak', 'oakdale', 'oaken', 'oaks', 'oar', 'oars', 'oases', 'oasis', 'oast', 'oat', 'oath', 'oaths', 'oats', 'obadiah', 'obed', 'obedience', 'obedient', 'obediently', 'obesity', 'obey', 'obeyed', 'obeying', 'obeys', 'obie', 'object', 'objected', 'objection', 'objectionable', 'objections', 'objective', 'objects', 'obligate', 'obligation', 'obligations', 'obligatory', 'obliged', 'obliging', 'oblique', 'obliquely', 'obliterated', 'oblivion', 'oblivious', 'oblong', 'obscuration', 'obscure', 'obscurity', 'observable', 'observance', 'observances', 'observant', 'observation', 'observational', 'observations', 'observatories', 'observatory', 'observe', 'observed', 'observer', 'observers', 'observes', 'observing', 'obstacle', 'obstacles', 'obstinacy', 'obstinate', 'obstinately', 'obstructed', 'obstructing', 'obstruction', 'obtain', 'obtainable', 'obtained', 'obtaining', 'obtruding', 'obuilt', 'obviate', 'obviates', 'obvious', 'obviously', 'occasion', 'occasional', 'occasionally', 'occasioned', 'occasioning', 'occasions', 'occipital', 'occipitotemporal', 'occlude', 'occluded', 'occluding', 'occultation', 'occupant', 'occupants', 'occupation', 'occupational', 'occupations', 'occupied', 'occupiers', 'occupies', 'occupy', 'occupying', 'occur', 'occurred', 'occurrence', 'occurrences', 'occurring', 'occurs', 'ocd', 'ocean', 'oceanic', 'oceanology', 'oceans', 'oceanus', 'ocr', 'octagonal', 'octahedral', 'octave', 'october', 'octobers', 'octopus', 'ocupies', 'odd', 'oddest', 'oddly', 'odds', 'odell', 'odessa', 'odin', 'odobenidae', 'odor', 'odorless', 'odorous', 'odors', 'odourless', 'odysseus', 'odyssey', 'oedipus', 'oehlschlager', 'oeta', 'oeuvres', 'oeyvind', 'of', 'ofdm', 'off', 'offence', 'offences', 'offended', 'offending', 'offense', 'offensive', 'offer', 'offered', 'offering', 'offerings', 'offers', 'offhand', 'office', 'officer', 'officers', 'offices', 'official', 'officially', 'officials', 'officiating', 'offing', 'offset', 'offshore', 'offspring', 'oft', 'often', 'oftener', 'ofw', 'oghuz', 'ogre', 'oh', 'ohio', 'ohm', 'oid', 'oil', 'oiled', 'oilheat', 'oils', 'oily', 'ointment', 'ok', 'okay', 'oklahoma', 'okugbe', 'ol', 'old', 'olden', 'older', 'oldest', 'olds', 'ole', 'oled', 'olenka', 'olfaction', 'olga', 'olive', 'oliver', 'olives', 'olokwango', 'olympic', 'om', 'oman', 'omar', 'ome', 'omega', 'omen', 'omens', 'ominous', 'omit', 'omitted', 'omnibus', 'omnibuses', 'omnimax', 'omnivores', 'omura', 'on', 'once', 'one', 'oneness', 'ones', 'oneself', 'ongoing', 'onion', 'onions', 'online', 'onlookers', 'onlooking', 'only', 'onondaga', 'onset', 'ontario', 'onto', 'onward', 'onwards', 'oo', 'oocyst', 'oocysts', 'ooooh', 'oozing', 'oozy', 'opal', 'opalescent', 'opals', 'opaque', 'open', 'opened', 'opening', 'openings', 'openly', 'openoffice', 'opens', 'opera', 'operas', 'operate', 'operated', 'operates', 'operating', 'operation', 'operational', 'operations', 'operatives', 'operator', 'operators', 'ophiuchus', 'opinion', 'opinions', 'opponent', 'opponents', 'opportunely', 'opportunist', 'opportunities', 'opportunity', 'oppose', 'opposed', 'opposes', 'opposing', 'opposite', 'opposition', 'oppress', 'oppressed', 'oppression', 'oppressive', 'opsin', 'opsins', 'optical', 'optics', 'optimal', 'optimists', 'optimization', 'optimize', 'option', 'options', 'optogenetic', 'optogenetics', 'opulence', 'opulent', 'oquirrh', 'or', 'oracle', 'oracles', 'oral', 'orange', 'oranges', 'orangutan', 'orangutans', 'orators', 'oratory', 'orb', 'orbit', 'orbital', 'orbited', 'orbiting', 'orbitofrontal', 'orbits', 'orchard', 'orchardists', 'orchards', 'orchid', 'orchidaceae', 'orchids', 'ordeal', 'order', 'ordered', 'ordering', 'orderlies', 'orderly', 'orders', 'ordinaire', 'ordinal', 'ordinarily', 'ordinary', 'ore', 'ores', 'org', 'organ', 'organdy', 'organelles', 'organic', 'organised', 'organism', 'organismal', 'organisms', 'organization', 'organizations', 'organize', 'organized', 'organizers', 'organizing', 'organs', 'oriental', 'orientation', 'orientations', 'oriented', 'orifice', 'origin', 'original', 'originality', 'originally', 'originate', 'originated', 'originates', 'originating', 'originators', 'origins', 'orion', 'orlando', 'orleans', 'ornament', 'ornamental', 'ornamentation', 'ornamented', 'ornaments', 'ornate', 'orphan', 'orphans', 'orpheus', 'orphic', 'orsini', 'orthodox', 'orthogonal', 'orthographies', 'orville', 'os', 'osage', 'oscar', 'oscillates', 'oscillating', 'oscillations', 'oscillator', 'oscillators', 'osier', 'osiers', 'osiris', 'osman', 'oss', 'ossicles', 'ostensible', 'ostracism', 'ostraka', 'ostrakismos', 'ostrakon', 'ostrich', 'ostriches', 'oswald', 'oswego', 'otaheite', 'otariidae', 'other', 'others', 'otherwise', 'otis', 'oto', 'otoliths', 'otradnoe', 'otters', 'ottershaw', 'ottoman', 'ottomans', 'ought', 'oui', 'ounce', 'oupa', 'oupagrootjie', 'our', 'ours', 'ourselves', 'out', 'outbreak', 'outbreaks', 'outburst', 'outbursts', 'outcome', 'outcomes', 'outcrops', 'outcry', 'outdistanced', 'outdoor', 'outer', 'outermost', 'outface', 'outfit', 'outflow', 'outgoing', 'outgrowth', 'outhouses', 'outing', 'outjutting', 'outlandish', 'outlaw', 'outlawed', 'outlaws', 'outlay', 'outlet', 'outline', 'outlined', 'outlines', 'outlived', 'outlook', 'outlying', 'outperform', 'outpourings', 'output', 'outrage', 'outran', 'outrigger', 'outset', 'outshine', 'outside', 'outskirts', 'outsourced', 'outsourcing', 'outspoken', 'outstanding', 'outstretched', 'outstrip', 'outstripped', 'outward', 'outwardly', 'outweighed', 'outwitted', 'ouzhitse', 'ova', 'oval', 'ovals', 'oven', 'ovens', 'over', 'overactive', 'overall', 'overbearing', 'overboard', 'overcame', 'overcast', 'overclouded', 'overcoat', 'overcome', 'overcoming', 'overcrowded', 'overestimate', 'overflow', 'overflowed', 'overflowing', 'overflows', 'overgrown', 'overhanging', 'overhead', 'overheard', 'overheat', 'overhung', 'overhunted', 'overjoyed', 'overlaid', 'overland', 'overlap', 'overlapping', 'overlaps', 'overlies', 'overloading', 'overlook', 'overlooked', 'overlooking', 'overlooks', 'overlordship', 'overlying', 'overplus', 'overpowering', 'overran', 'override', 'overrun', 'overseas', 'overshadow', 'overshadowed', 'oversimplification', 'oversleep', 'overslept', 'overstatement', 'overstating', 'overstrained', 'overtake', 'overtaken', 'overthrew', 'overthrow', 'overthrown', 'overton', 'overtook', 'overtopped', 'overturned', 'overturning', 'overweight', 'overwhelm', 'overwhelmed', 'overwhelming', 'overwintering', 'ovo', 'owain', 'owari', 'owe', 'owed', 'owen', 'owes', 'owing', 'owl', 'owls', 'own', 'owned', 'owner', 'owners', 'ownership', 'owning', 'owns', 'ox', 'oxalate', 'oxbow', 'oxbridge', 'oxen', 'oxford', 'oxhide', 'oxidation', 'oxidative', 'oxide', 'oxides', 'oxidized', 'oxidizing', 'oxy', 'oxygen', 'oxygenated', 'oyster', 'oysters', 'oz', 'ozma', 'ozokerite', 'ozone', 'ozonometer', 'p', 'pa', 'pace', 'paced', 'pacemaker', 'pacemakers', 'pacemaking', 'paces', 'pachuca', 'pacific', 'pacifying', 'pacing', 'pack', 'package', 'packaged', 'packages', 'packed', 'packers', 'packet', 'packets', 'packing', 'packmates', 'packs', 'pact', 'pad', 'padded', 'paddle', 'paddled', 'paddles', 'paddling', 'paddock', 'paddocks', 'paddy', 'padlocked', 'pads', 'paflagonia', 'paflagonian', 'pagan', 'paganism', 'page', 'pageant', 'pageantries', 'pageants', 'pages', 'paid', 'pail', 'pailful', 'pails', 'pain', 'paine', 'pained', 'painful', 'painfully', 'painkiller', 'pains', 'painstakingly', 'paint', 'painted', 'painter', 'painters', 'painting', 'paintings', 'paints', 'pair', 'pairing', 'pairs', 'paisley', 'paix', 'pakistan', 'pal', 'palace', 'palaces', 'palaeolithic', 'pale', 'palely', 'paleoanthropologists', 'paleobiology', 'paleobotany', 'paleoecology', 'paleolithic', 'paleoliths', 'paleontologists', 'paleontology', 'paleozoology', 'palestine', 'palestinians', 'palette', 'paley', 'palings', 'pall', 'palladium', 'pallas', 'pallid', 'pallidly', 'palm', 'palmer', 'palmetto', 'palmiest', 'palms', 'palpable', 'paltry', 'pampas', 'pamphlets', 'pamunkeys', 'pan', 'panama', 'pancakes', 'pancreas', 'pancreatitis', 'pandemic', 'pane', 'paned', 'panel', 'paneled', 'panelled', 'panels', 'panes', 'pangs', 'panhandle', 'panic', 'panicked', 'pankhurst', 'panoramic', 'pans', 'pansy', 'pant', 'panted', 'pantheon', 'panther', 'panthers', 'panting', 'pantomimists', 'pantry', 'panza', 'papa', 'papal', 'papas', 'paper', 'papered', 'papers', 'pappas', 'papyri', 'papyrus', 'par', 'parabolas', 'parachutists', 'parade', 'paradise', 'paradises', 'paradox', 'paradoxes', 'paradoxically', 'paraffin', 'paraffine', 'paragon', 'paragraph', 'paragraphs', 'parallax', 'parallel', 'paralleled', 'parallelograms', 'paralysis', 'paralyzed', 'paralyzing', 'parameters', 'paramount', 'parana', 'parapet', 'paraphrase', 'paraphrases', 'pararam', 'parasite', 'parasites', 'parasitic', 'parasol', 'parcel', 'parcels', 'parched', 'parchment', 'pardon', 'pardoned', 'pareidolia', 'parent', 'parenthood', 'parents', 'parietal', 'paring', 'parings', 'paris', 'parish', 'parishes', 'parisian', 'park', 'parker', 'parkes', 'parkinson', 'parks', 'parlements', 'parler', 'parley', 'parliament', 'parliamentary', 'parliaments', 'parlin', 'parlor', 'parlour', 'parlours', 'parnassum', 'paroxysms', 'parrot', 'parrotfish', 'parry', 'parsec', 'parsley', 'parson', 'parsonage', 'parsons', 'part', 'partake', 'partakes', 'partaking', 'partant', 'parted', 'partial', 'partiality', 'partially', 'participants', 'participate', 'participated', 'participating', 'participation', 'particle', 'particles', 'particular', 'particularly', 'particulars', 'parties', 'parting', 'partisan', 'partly', 'partner', 'partners', 'partnership', 'partnerships', 'partridge', 'partridges', 'parts', 'party', 'pascal', 'pashich', 'paspaheghs', 'pass', 'passage', 'passages', 'passaic', 'passband', 'passbands', 'passed', 'passenger', 'passengers', 'passepartout', 'passer', 'passers', 'passes', 'passing', 'passion', 'passionate', 'passions', 'passive', 'passively', 'passiveness', 'passivity', 'passover', 'passport', 'passports', 'passwords', 'past', 'pasta', 'paste', 'pasteboard', 'pastes', 'pasteur', 'pastime', 'pastoral', 'pastoralists', 'pastry', 'pasturage', 'pasture', 'pastures', 'pat', 'patay', 'patch', 'patches', 'patchwork', 'patent', 'patented', 'patentees', 'patenting', 'patents', 'paternal', 'paternalism', 'paters', 'paterson', 'path', 'pathetically', 'pathfinder', 'pathobionts', 'pathogen', 'pathogenic', 'pathogens', 'pathology', 'pathos', 'paths', 'pathway', 'pathways', 'patience', 'patient', 'patiently', 'patients', 'patrasche', 'patrician', 'patricians', 'patrick', 'patrimony', 'patriot', 'patriota', 'patriotes', 'patriotic', 'patriotically', 'patriotism', 'patriots', 'patris', 'patrol', 'patrolling', 'patrols', 'patron', 'patronage', 'patronize', 'patronizes', 'patronizing', 'patrons', 'pats', 'patsy', 'patted', 'patter', 'pattered', 'pattern', 'patterned', 'patterning', 'patterns', 'patterson', 'patti', 'patting', 'patty', 'paul', 'paulus', 'pause', 'paused', 'pauses', 'pausing', 'paved', 'pavement', 'pavements', 'pavilion', 'paving', 'pavlov', 'pavlovna', 'pavon', 'paw', 'paws', 'pay', 'paying', 'payloads', 'payment', 'payments', 'payne', 'payroll', 'pays', 'pc', 'pco', 'pcs', 'pea', 'peabody', 'peace', 'peaceable', 'peaceably', 'peaceful', 'peacefully', 'peacefulness', 'peach', 'peaches', 'peacock', 'peacocks', 'peak', 'peaked', 'peaks', 'pealed', 'peals', 'peanut', 'peanuts', 'pear', 'pearl', 'pearls', 'pearly', 'pears', 'pearse', 'peas', 'peasant', 'peasantry', 'peasants', 'peasticks', 'peat', 'peaty', 'pebbles', 'pebbly', 'pecaut', 'peck', 'pecked', 'pecking', 'pecks', 'pecksniffs', 'peculiar', 'peculiarities', 'peculiarity', 'peculiarly', 'pecuniary', 'pedagogical', 'pedagogue', 'pedal', 'pedals', 'pedantic', 'pedants', 'peddler', 'pedigree', 'pedipalps', 'pedogenesis', 'pedology', 'pedrarias', 'pedro', 'pee', 'peek', 'peeking', 'peel', 'peeled', 'peeling', 'peep', 'peeped', 'peeping', 'peer', 'peered', 'peeresses', 'peering', 'peers', 'pegs', 'pei', 'pelagic', 'pelican', 'pelicans', 'pelletier', 'peloponnesian', 'pelted', 'pelts', 'pemberton', 'pen', 'penal', 'penalties', 'penalty', 'penang', 'pence', 'pencil', 'pencils', 'pendants', 'pendino', 'pendleton', 'pendulous', 'pendulum', 'penetrate', 'penetrated', 'penetrates', 'penetrating', 'penetration', 'penguin', 'penguins', 'penicillin', 'penicillium', 'peninsula', 'penitent', 'penman', 'penn', 'pennies', 'penniless', 'pennon', 'pennsylvania', 'penny', 'pennyfields', 'pennyworth', 'penoncel', 'pens', 'pension', 'pensions', 'pensively', 'pent', 'pentium', 'penuchi', 'people', 'peopled', 'peoples', 'pepper', 'pepperoni', 'peppers', 'peppery', 'pepsy', 'per', 'perambulators', 'perceivable', 'perceive', 'perceived', 'perceives', 'percent', 'percentage', 'percentages', 'perceptible', 'perceptibly', 'perception', 'perceptions', 'perceptive', 'perch', 'percha', 'perchance', 'perche', 'perched', 'perches', 'percolating', 'pere', 'peregrinus', 'peremptory', 'perennial', 'perennials', 'perfect', 'perfected', 'perfecting', 'perfection', 'perfectly', 'perforated', 'perform', 'performance', 'performances', 'performed', 'performer', 'performing', 'performs', 'perfrement', 'perfume', 'perfumed', 'perfunctory', 'perhaps', 'pericarp', 'pericles', 'perihelion', 'peril', 'perils', 'perimeter', 'perimeters', 'period', 'periodic', 'periodical', 'periodically', 'periods', 'peripatetic', 'peripheral', 'peripherals', 'perish', 'perished', 'peristalsis', 'peristyles', 'perked', 'perkin', 'permanent', 'permanently', 'permanganic', 'permeable', 'permeate', 'permeated', 'permeates', 'permission', 'permit', 'permits', 'permitted', 'permitting', 'pernicious', 'peroxide', 'perpendicular', 'perpendicularly', 'perpetrator', 'perpetual', 'perpetually', 'perpetuate', 'perpetuity', 'perplexed', 'persecuted', 'persecuting', 'persecution', 'persecutors', 'perseverance', 'persevere', 'persevering', 'persia', 'persian', 'persimmon', 'persimmons', 'persist', 'persisted', 'persistent', 'persistently', 'persists', 'person', 'personae', 'personage', 'personages', 'personal', 'personalities', 'personality', 'personally', 'personified', 'personnel', 'persons', 'perspective', 'perspectives', 'perspiration', 'perspiring', 'persuaded', 'persuasion', 'persuasive', 'pert', 'pertell', 'perugia', 'perusal', 'peruse', 'pervade', 'pervading', 'pest', 'pester', 'pestered', 'pestering', 'pesticides', 'pestle', 'pests', 'pet', 'petaled', 'petals', 'peter', 'peterhof', 'peterkin', 'peterkins', 'peters', 'petersburg', 'petersen', 'petia', 'petite', 'petition', 'petri', 'petro', 'petrograd', 'petroleum', 'petrovna', 'pets', 'petted', 'petticoat', 'pettishly', 'petty', 'petulance', 'petulant', 'pew', 'pfaal', 'ph', 'phaeton', 'phagocytose', 'phagocytosed', 'phantom', 'phants', 'pharaoh', 'pharaohs', 'pharmaceutical', 'pharmacopoeia', 'phase', 'phases', 'phat', 'phatik', 'phd', 'phelelani', 'phenomena', 'phenomenal', 'phenomenon', 'phenotype', 'phenotypic', 'phi', 'phial', 'phidias', 'phil', 'philadelphia', 'philadelphians', 'philharmonic', 'philip', 'philippe', 'philippine', 'philippines', 'philly', 'philo', 'philosopher', 'philosophers', 'philosophical', 'philosophically', 'philosophy', 'phlegmatically', 'phlegrean', 'phobic', 'phobos', 'phocas', 'phocians', 'phocidae', 'phoebe', 'phoebus', 'phoenician', 'phoenicians', 'phoenix', 'phone', 'phoneme', 'phones', 'phonetic', 'phonogram', 'phonographs', 'phosphate', 'phosphatidylserine', 'phosphor', 'phosphorescent', 'phosphoric', 'phosphorus', 'phosphorylation', 'photo', 'photoautotrophic', 'photocatalytic', 'photodissociation', 'photoelectrochemistry', 'photogeneration', 'photograph', 'photographed', 'photographer', 'photographers', 'photographic', 'photographically', 'photographs', 'photography', 'photon', 'photons', 'photos', 'photosynthesis', 'photosynthesise', 'photosynthesize', 'photosynthetic', 'phototypy', 'photovoltaic', 'photovoltaics', 'phrase', 'phraseology', 'phrases', 'phronsie', 'phthisical', 'phthisis', 'phyla', 'phyllis', 'phylogenetic', 'phylogeny', 'physic', 'physical', 'physically', 'physician', 'physicians', 'physicist', 'physicists', 'physics', 'physiographic', 'physiological', 'physiologist', 'physiology', 'physostegia', 'phytochromes', 'phytoplankton', 'pi', 'piaces', 'pianist', 'pianists', 'piano', 'pianoforte', 'piave', 'piazza', 'picardy', 'piccadilly', 'pick', 'picked', 'pickerel', 'pickers', 'picket', 'picketed', 'picking', 'picks', 'picnic', 'picnics', 'picokelvin', 'picric', 'pictet', 'pictograph', 'pictographs', 'picture', 'pictured', 'pictures', 'picturesque', 'picturesqueness', 'pictus', 'pie', 'piece', 'piecemeal', 'pieces', 'pied', 'pier', 'pierce', 'pierced', 'piercing', 'pierre', 'piers', 'pies', 'piety', 'piezoelectric', 'pig', 'pigeon', 'pigeons', 'piggy', 'pigment', 'pigments', 'pigs', 'pigtail', 'pike', 'pikes', 'pikestaff', 'pile', 'piled', 'piles', 'pilgrim', 'pilgrimage', 'pilgrimages', 'pilgrims', 'piling', 'pill', 'pillage', 'pillaged', 'pillaging', 'pillar', 'pillars', 'pillingshot', 'pillow', 'pillowed', 'pillows', 'pills', 'pilot', 'piloted', 'pilots', 'pin', 'pinch', 'pinched', 'pincushion', 'pine', 'pines', 'ping', 'pinions', 'pink', 'pinkish', 'pinks', 'pinky', 'pinna', 'pinner', 'pinny', 'pins', 'pint', 'pinta', 'pintsch', 'pinwheels', 'pioneer', 'pioneering', 'pioneers', 'pious', 'pip', 'pipe', 'piped', 'piper', 'pipes', 'pipette', 'piping', 'pipt', 'pique', 'piracy', 'piraeus', 'pirate', 'pirates', 'piratical', 'pirouette', 'pirouetting', 'pistol', 'pistols', 'piston', 'pistons', 'pit', 'pitch', 'pitched', 'pitcher', 'pitches', 'pitching', 'piteous', 'pith', 'pitiably', 'pitied', 'pitiful', 'pitifully', 'pitman', 'pits', 'pitt', 'pittheus', 'pittman', 'pity', 'pitying', 'pityingly', 'pivot', 'pivoted', 'pixel', 'pixels', 'pizza', 'pk', 'placard', 'placards', 'place', 'placebo', 'placebos', 'placed', 'placental', 'places', 'placid', 'placidly', 'placing', 'plague', 'plagues', 'plaguey', 'plaguing', 'plaid', 'plaids', 'plain', 'plainer', 'plainest', 'plainly', 'plainness', 'plains', 'plaintive', 'plaintively', 'plaited', 'plan', 'planar', 'planchets', 'plane', 'planes', 'planet', 'planetariums', 'planetary', 'planetesimals', 'planetoids', 'planets', 'plank', 'planking', 'planks', 'plankton', 'planned', 'planning', 'plans', 'plant', 'plantago', 'plantain', 'plantation', 'plantations', 'plante', 'planted', 'planter', 'planting', 'plants', 'plash', 'plasma', 'plasmids', 'plaster', 'plastic', 'plastics', 'plastrons', 'plate', 'plateae', 'plateau', 'platelets', 'plates', 'platform', 'platforms', 'platinum', 'plato', 'platoon', 'platte', 'platter', 'platypus', 'plausible', 'play', 'playback', 'played', 'player', 'players', 'playfellow', 'playful', 'playfully', 'playfulness', 'playground', 'playhouse', 'playing', 'playlet', 'playmate', 'playmates', 'playroom', 'plays', 'playstation', 'playthings', 'playtime', 'playwrights', 'plea', 'pleaded', 'pleading', 'pleas', 'pleasant', 'pleasanter', 'pleasantest', 'pleasantly', 'please', 'pleased', 'pleases', 'pleaseth', 'pleasing', 'pleasingly', 'pleasurable', 'pleasure', 'pleasures', 'plebeian', 'plebeians', 'plebiscites', 'plebs', 'pledge', 'pledged', 'pledging', 'pleiades', 'pleistocene', 'plener', 'plenipotentiary', 'plenteous', 'plentiful', 'plentifully', 'plenty', 'plesiosaurs', 'plessy', 'plethora', 'plied', 'plight', 'plodded', 'plodding', 'plongeon', 'plop', 'plot', 'plots', 'plotted', 'plotting', 'plough', 'ploughed', 'ploughing', 'ploughman', 'plowed', 'plowing', 'plows', 'plowshare', 'pluck', 'plucked', 'plucking', 'plucks', 'plug', 'plugged', 'plugs', 'plum', 'plumaged', 'plumber', 'plume', 'plumes', 'plump', 'plumped', 'plums', 'plumy', 'plunder', 'plundered', 'plundering', 'plunge', 'plunged', 'plunges', 'plunging', 'plural', 'plurality', 'pluripotent', 'plus', 'plush', 'pluto', 'pluton', 'plutonic', 'plutonism', 'plutons', 'ply', 'plymouth', 'pm', 'pneumatic', 'pneumonia', 'pniel', 'pns', 'po', 'poachers', 'pocket', 'pocketed', 'pocketful', 'pockets', 'podcast', 'podcasting', 'podcasts', 'podgy', 'poe', 'poem', 'poems', 'poet', 'poetic', 'poetical', 'poetry', 'poets', 'poey', 'poh', 'point', 'pointed', 'pointers', 'pointing', 'points', 'pointville', 'poirot', 'poised', 'poising', 'poison', 'poisoning', 'poisonous', 'poisons', 'poke', 'poked', 'poking', 'pol', 'poland', 'polar', 'polarity', 'polarized', 'polarizing', 'pole', 'polehedron', 'poles', 'police', 'policemen', 'policies', 'policy', 'polis', 'polish', 'polished', 'polishing', 'polite', 'politely', 'politeness', 'political', 'politically', 'politician', 'politicians', 'politics', 'polk', 'poll', 'pollard', 'pollen', 'polley', 'pollinate', 'pollinating', 'pollinators', 'pollutants', 'polluted', 'pollutes', 'pollution', 'pollux', 'polly', 'polo', 'polokwane', 'polony', 'polten', 'poly', 'polyatomic', 'polycrystals', 'polygenes', 'polyhedra', 'polyhedron', 'polyhedrons', 'polymer', 'polymerase', 'polymeric', 'polymers', 'polynesian', 'polyphemus', 'polyps', 'polysaccharide', 'polysaccharides', 'polyt', 'polytheistic', 'polyvinyl', 'pom', 'pomatoschistus', 'pomatum', 'pomegranates', 'pomeranian', 'pomp', 'pomps', 'pond', 'ponderous', 'ponds', 'ponies', 'pontoons', 'pontso', 'pony', 'poodle', 'pook', 'pool', 'pools', 'poop', 'poopoo', 'poor', 'poorer', 'poorest', 'poorly', 'pop', 'popcorn', 'pope', 'poplar', 'poplars', 'popped', 'poppies', 'popples', 'poppypink', 'populace', 'popular', 'popularity', 'popularized', 'popularly', 'populated', 'population', 'populations', 'populist', 'populous', 'porcelain', 'porch', 'porches', 'porcupine', 'pores', 'porous', 'porphyry', 'porpoises', 'porridge', 'porridgy', 'porringer', 'port', 'portable', 'portal', 'portals', 'portant', 'porte', 'portended', 'portentous', 'portents', 'porter', 'porters', 'portfolio', 'portholes', 'portico', 'porticoes', 'porticos', 'portieres', 'portion', 'portions', 'portland', 'portly', 'portmanteau', 'porto', 'portrait', 'portraits', 'portraiture', 'portray', 'portrayed', 'ports', 'portsmouth', 'portugal', 'portuguese', 'pose', 'poseidon', 'posen', 'poses', 'posey', 'posit', 'position', 'positionally', 'positioned', 'positioning', 'positions', 'positive', 'positively', 'positives', 'positivism', 'positivist', 'posse', 'possess', 'possessed', 'possesses', 'possessing', 'possession', 'possessions', 'possessor', 'possibilities', 'possibility', 'possible', 'possibly', 'possum', 'post', 'postage', 'postal', 'posted', 'poster', 'posterity', 'posters', 'postmarks', 'postmaster', 'postpone', 'postponed', 'postponement', 'posts', 'posture', 'pot', 'potash', 'potassa', 'potassium', 'potato', 'potatoes', 'potency', 'potent', 'potential', 'potentially', 'poti', 'potocnik', 'pots', 'potter', 'potteries', 'pottery', 'potty', 'pouch', 'pouches', 'poughkeepsie', 'pouillet', 'poultry', 'pounce', 'pounced', 'pound', 'pounders', 'pounding', 'pounds', 'pour', 'poured', 'pouring', 'pours', 'poverty', 'powder', 'powdered', 'powders', 'powdery', 'powell', 'power', 'powered', 'powerful', 'powerfully', 'powerless', 'powers', 'poynting', 'ppm', 'pr', 'practicable', 'practical', 'practically', 'practice', 'practiced', 'practices', 'practicing', 'practised', 'practising', 'practitioners', 'pragmatics', 'prairie', 'prairies', 'praise', 'praised', 'praises', 'praising', 'pranced', 'prancing', 'pratap', 'pratt', 'prattle', 'prattling', 'prawns', 'pray', 'prayed', 'prayer', 'prayers', 'praying', 'pre', 'preacher', 'preaching', 'precambrian', 'precarious', 'precaution', 'precautions', 'preceded', 'precedence', 'precedent', 'precedential', 'precedes', 'preceding', 'precepts', 'precious', 'preciously', 'precipice', 'precipices', 'precipitate', 'precipitated', 'precipitating', 'precipitation', 'precise', 'precisely', 'preciseness', 'precision', 'precocious', 'precommitment', 'precursor', 'predation', 'predator', 'predators', 'predatory', 'predecessor', 'predecessors', 'predetermined', 'predicament', 'predicate', 'predict', 'predicted', 'predicting', 'prediction', 'predictions', 'predictive', 'predicts', 'predisposed', 'predominance', 'predominant', 'predominantly', 'predominate', 'predominating', 'preemptively', 'prefect', 'prefer', 'preferable', 'preferably', 'preference', 'preferences', 'preferred', 'preferring', 'prefers', 'prefix', 'prefrontal', 'pregnancy', 'pregnant', 'prehistoric', 'prehistory', 'prejudice', 'prejudiced', 'prejudices', 'prejudicial', 'prelacy', 'premature', 'premier', 'premises', 'premium', 'premiums', 'preoccupation', 'preoccupied', 'preparation', 'preparations', 'preparatory', 'prepare', 'prepared', 'prepares', 'preparing', 'preponderant', 'preponderating', 'prerecorded', 'prerogatives', 'presbyterian', 'prescott', 'prescribe', 'prescribed', 'prescription', 'prescriptions', 'presence', 'present', 'presentation', 'presented', 'presentiment', 'presentiments', 'presenting', 'presently', 'presents', 'preservation', 'preservative', 'preserve', 'preserved', 'preserves', 'preserving', 'preset', 'preside', 'presided', 'presidency', 'president', 'presidential', 'presidents', 'presidio', 'press', 'pressed', 'presses', 'pressing', 'pressure', 'pressured', 'pressures', 'pressurized', 'prestige', 'presume', 'presumed', 'presuming', 'presumption', 'pretences', 'pretend', 'pretended', 'pretending', 'pretends', 'pretense', 'pretext', 'prettier', 'prettiest', 'prettily', 'prettiness', 'pretty', 'preussen', 'prevailed', 'prevailing', 'prevalence', 'prevalent', 'prevent', 'prevented', 'preventing', 'prevention', 'preventive', 'prevents', 'previous', 'previously', 'prey', 'preying', 'priam', 'price', 'prices', 'prick', 'pricked', 'prickles', 'prickly', 'pride', 'prideaux', 'prided', 'priest', 'priesthood', 'priestly', 'priests', 'prillie', 'prim', 'primal', 'primarily', 'primary', 'primate', 'primates', 'prime', 'primeval', 'primitive', 'primitively', 'primordial', 'primrose', 'prince', 'princedom', 'princely', 'princes', 'princess', 'princesses', 'principal', 'principality', 'principally', 'principle', 'principles', 'print', 'printed', 'printer', 'printers', 'printing', 'prints', 'prinzip', 'prior', 'priori', 'priorities', 'prioritizing', 'priors', 'priscilla', 'prisms', 'prison', 'prisoner', 'prisoners', 'prisons', 'privacy', 'privalege', 'private', 'privateer', 'privateering', 'privateers', 'privately', 'privation', 'privations', 'privilege', 'privileged', 'privileges', 'prize', 'prizes', 'probability', 'probable', 'probably', 'probe', 'probes', 'probity', 'problem', 'problems', 'procaine', 'procedural', 'procedure', 'procedures', 'proceed', 'proceeded', 'proceeding', 'proceedings', 'proceeds', 'process', 'processed', 'processes', 'processing', 'procession', 'processor', 'processors', 'proclaim', 'proclaimed', 'proclaiming', 'proclamation', 'proclamations', 'proconsul', 'proctor', 'procure', 'procured', 'procuring', 'prod', 'prodigal', 'prodigious', 'produce', 'produced', 'producer', 'producers', 'produces', 'producing', 'product', 'production', 'productions', 'productive', 'productiveness', 'productivity', 'products', 'prof', 'profess', 'profession', 'professional', 'professionalized', 'professor', 'professors', 'proficiency', 'profile', 'profiles', 'profit', 'profitable', 'profitably', 'profiting', 'profits', 'profound', 'profoundly', 'profuse', 'profusion', 'progenitors', 'program', 'programmable', 'programme', 'programmed', 'programmer', 'programmers', 'programmes', 'programming', 'programs', 'progress', 'progressed', 'progresses', 'progressing', 'progressive', 'progressively', 'prohibit', 'prohibited', 'project', 'projected', 'projectiles', 'projecting', 'projection', 'projections', 'projector', 'projectors', 'projects', 'prokaryotes', 'proletarian', 'proletarians', 'prolific', 'prolixity', 'prologue', 'prolongation', 'prolonged', 'promenade', 'promenades', 'prometaphase', 'prometheus', 'prominence', 'prominent', 'prominently', 'promise', 'promised', 'promises', 'promising', 'promissory', 'promontory', 'promote', 'promotes', 'promoting', 'promotion', 'prompt', 'prompted', 'prompting', 'promptly', 'promptness', 'prompts', 'promulgated', 'prone', 'pronounce', 'pronounced', 'pronouncements', 'pronunciation', 'proof', 'proofs', 'propaganda', 'propagandist', 'propagate', 'propane', 'propel', 'propellant', 'propelled', 'propeller', 'propelling', 'propels', 'proper', 'properly', 'properties', 'property', 'prophase', 'prophecies', 'prophecy', 'prophesy', 'prophet', 'prophetic', 'prophets', 'prophylactic', 'propitious', 'proportion', 'proportional', 'proportionate', 'proportioned', 'proportions', 'proposal', 'proposals', 'propose', 'proposed', 'proposing', 'proposition', 'propound', 'propounded', 'propped', 'proprietary', 'proprietor', 'propriety', 'propulsion', 'prosaic', 'proscription', 'prose', 'prosecuted', 'prosecution', 'proselite', 'proserpina', 'prospect', 'prospected', 'prospecting', 'prospectors', 'prospects', 'prospered', 'prosperity', 'prospero', 'prosperous', 'prosperously', 'prostheses', 'prosthesis', 'prostrating', 'protea', 'proteas', 'proteases', 'protect', 'protected', 'protecting', 'protection', 'protections', 'protective', 'protectorate', 'protectors', 'protects', 'protein', 'proteins', 'protest', 'protestant', 'protestants', 'protested', 'protestors', 'protests', 'protists', 'proto', 'protocol', 'protocols', 'proton', 'protons', 'protoplanetary', 'prototype', 'prototypes', 'prototyping', 'protoxide', 'protozoans', 'protracted', 'protruding', 'proud', 'prouder', 'proudfit', 'proudly', 'prove', 'proved', 'proven', 'proverb', 'proves', 'provide', 'provided', 'providence', 'providential', 'provider', 'provides', 'providing', 'province', 'provinces', 'provincial', 'provine', 'proving', 'provision', 'provisions', 'proviso', 'provoke', 'provoked', 'provokingly', 'provost', 'prow', 'prowling', 'proximate', 'proximity', 'prudence', 'prudent', 'prudently', 'prudy', 'prue', 'prunella', 'pruning', 'prussia', 'prussian', 'prytania', 'ps', 'psalmody', 'psalms', 'pstn', 'psyche', 'psychiatrists', 'psychic', 'psychological', 'psychologist', 'psychologists', 'psychology', 'psychrometer', 'ptolemaic', 'ptolemy', 'puberty', 'public', 'publica', 'publication', 'publications', 'publicists', 'publicity', 'publicized', 'publicly', 'published', 'publisher', 'publishers', 'publishing', 'puckered', 'puddin', 'pudding', 'puddings', 'puddle', 'puddles', 'pudgy', 'puerto', 'puff', 'puffed', 'puffing', 'puffs', 'puget', 'pugilists', 'pulido', 'pull', 'pulled', 'pulleth', 'pulley', 'pulleys', 'pulling', 'pulls', 'pulp', 'pulsating', 'pulsation', 'pulse', 'pulses', 'pulverization', 'pulverized', 'pumice', 'pump', 'pumped', 'pumping', 'pumpkin', 'pumpkins', 'pumps', 'punch', 'puncheons', 'punchers', 'punching', 'punctual', 'punctuality', 'punctually', 'punctuation', 'pungent', 'punic', 'punish', 'punished', 'punishment', 'punishments', 'puny', 'pup', 'pupae', 'pupal', 'pupil', 'pupilage', 'pupils', 'puppet', 'puppies', 'puppy', 'pups', 'pur', 'purchase', 'purchased', 'purchaser', 'purchasers', 'purchases', 'purchasing', 'pure', 'purely', 'purest', 'purge', 'purification', 'purified', 'purify', 'purifying', 'puritan', 'puritans', 'purity', 'purple', 'purples', 'purpose', 'purposely', 'purposes', 'purpurin', 'purred', 'purring', 'purse', 'pursed', 'purser', 'pursue', 'pursued', 'pursuer', 'pursuers', 'pursuing', 'pursuit', 'push', 'pushed', 'pushes', 'pushing', 'puss', 'pussy', 'pustovalov', 'put', 'putnam', 'putrefaction', 'puts', 'putt', 'putting', 'puzzle', 'puzzled', 'puzzles', 'puzzling', 'pygmy', 'pyle', 'pyloric', 'pyramid', 'pyramids', 'pyramus', 'pyrenean', 'pyro', 'pyrogallic', 'pyrogallol', 'pyromancy', 'pyromantic', 'pyrotechnic', 'pyruvate', 'q', 'qatar', 'qin', 'qing', 'qt', 'qua', 'quacked', 'quadrangle', 'quadrangular', 'quadrants', 'quadrilaterals', 'quadruped', 'quadrupeds', 'quadrupled', 'quadruplex', 'quail', 'quails', 'quaint', 'quaintly', 'quake', 'quaker', 'qualification', 'qualifications', 'qualified', 'qualify', 'qualitative', 'qualities', 'quality', 'quantifies', 'quantitative', 'quantitatively', 'quantities', 'quantity', 'quantized', 'quantum', 'quarks', 'quarrel', 'quarreled', 'quarrelled', 'quarrelling', 'quarrels', 'quarrelsome', 'quarries', 'quarry', 'quarrying', 'quarter', 'quartered', 'quartering', 'quartermaster', 'quarters', 'quartet', 'quartier', 'quartz', 'quartzites', 'quatre', 'quavers', 'quay', 'quebec', 'queen', 'queens', 'queer', 'quench', 'query', 'querying', 'quesco', 'queseda', 'quest', 'questing', 'question', 'questionable', 'questioned', 'questioning', 'questionings', 'questions', 'quetzalcoatl', 'queue', 'quibble', 'quick', 'quickened', 'quickening', 'quicker', 'quickest', 'quickly', 'quickness', 'quicksand', 'quicksilver', 'quiet', 'quieted', 'quieter', 'quietism', 'quietly', 'quietness', 'quill', 'quilts', 'quin', 'quincuncial', 'quinine', 'quinlan', 'quinton', 'quintuple', 'quirino', 'quit', 'quite', 'quito', 'quitting', 'quivering', 'quixada', 'quixote', 'quizzical', 'quo', 'quotation', 'quotations', 'quote', 'quoted', 'quotes', 'quoting', 'r', 'ra', 'raamses', 'rab', 'rabbi', 'rabbit', 'rabbits', 'rabies', 'raby', 'raccoons', 'race', 'racecourse', 'raced', 'racemes', 'racemosa', 'racer', 'racers', 'races', 'racetracks', 'rachel', 'racial', 'racing', 'racket', 'racks', 'racy', 'radar', 'raddick', 'raddy', 'radhika', 'radial', 'radiance', 'radiant', 'radiate', 'radiated', 'radiates', 'radiating', 'radiation', 'radiator', 'radiators', 'radical', 'radicalism', 'radically', 'radicals', 'radio', 'radioactive', 'radiology', 'radiosurgery', 'radiosurgical', 'radiotelephones', 'radishes', 'radisson', 'radius', 'raf', 'raffaelle', 'raft', 'rafters', 'rafts', 'rag', 'ragamuffin', 'rage', 'rages', 'ragged', 'raggedly', 'raging', 'rags', 'ragtime', 'rahn', 'raicharan', 'raid', 'raiders', 'raiding', 'raids', 'rail', 'railing', 'railroad', 'railroads', 'rails', 'railway', 'railways', 'raiment', 'rain', 'rainbow', 'rained', 'rainfall', 'rainforest', 'rainforests', 'raining', 'rains', 'rainstorm', 'rainwater', 'rainy', 'raise', 'raised', 'raisers', 'raises', 'raising', 'raisins', 'rajabahadur', 'rake', 'raked', 'rakes', 'raking', 'ral', 'raleigh', 'ralph', 'ram', 'ramble', 'ramblers', 'rambles', 'rambling', 'rameses', 'ramie', 'ramifications', 'rampant', 'rams', 'ramsay', 'ramsays', 'ran', 'rance', 'ranch', 'rancher', 'ranches', 'rand', 'randolph', 'random', 'randomization', 'randomly', 'randy', 'rang', 'range', 'ranged', 'rangers', 'ranges', 'rangest', 'ranging', 'rangy', 'rank', 'ranked', 'ranking', 'rankle', 'ranks', 'rant', 'raoul', 'rap', 'rape', 'rapeseed', 'raphael', 'rapid', 'rapidity', 'rapidly', 'rapids', 'rapped', 'rapture', 'rapule', 'rar', 'rare', 'rarefaction', 'rarefactions', 'rarely', 'rarer', 'rarest', 'rascal', 'rascally', 'rascals', 'rashid', 'rashly', 'rashmani', 'rashurs', 'raskolnikov', 'raspberries', 'rasped', 'rasping', 'raster', 'rat', 'rate', 'rates', 'rath', 'rather', 'ratification', 'ratified', 'ratify', 'rating', 'ratio', 'rational', 'rationale', 'rations', 'ratios', 'rats', 'ratshipi', 'rattan', 'rattle', 'rattled', 'rattles', 'rattlesnake', 'rattling', 'raucous', 'ravages', 'raven', 'ravenously', 'ravens', 'ravine', 'ravines', 'raw', 'ray', 'raymond', 'rays', 'razi', 'razor', 'rch', 'rd', 'rdf', 're', 'reach', 'reached', 'reaches', 'reaching', 'react', 'reacting', 'reaction', 'reactions', 'reactive', 'reactors', 'reacts', 'read', 'readable', 'reader', 'readers', 'readiest', 'readily', 'readiness', 'reading', 'readjustment', 'readmitted', 'reads', 'ready', 'real', 'realise', 'realised', 'realises', 'realism', 'realistic', 'realists', 'reality', 'realization', 'realize', 'realized', 'realizing', 'really', 'realm', 'realms', 'reapers', 'reaping', 'reappear', 'reappeared', 'reappearing', 'reappears', 'rear', 'reared', 'rearing', 'rearranged', 'rearranging', 'rearview', 'reason', 'reasonable', 'reasoning', 'reasons', 'reassembled', 'reassured', 'rebecca', 'rebel', 'rebelled', 'rebellion', 'rebellious', 'rebello', 'rebels', 'rebirth', 'reborn', 'rebound', 'rebuilding', 'rebuilt', 'rebuke', 'rebukes', 'rebus', 'recall', 'recalled', 'recalling', 'recalls', 'recant', 'recapitulate', 'recapture', 'recast', 'receipt', 'receipted', 'receipts', 'receive', 'received', 'receiver', 'receivers', 'receives', 'receiving', 'recent', 'recently', 'receptacle', 'receptacles', 'reception', 'receptions', 'receptive', 'receptor', 'receptors', 'recess', 'recesses', 'rechargeable', 'recharged', 'recharging', 'recipe', 'recipes', 'recipient', 'reciprocal', 'recitation', 'recitations', 'recite', 'reciting', 'recked', 'reckless', 'recklessness', 'reckon', 'reckoned', 'reclining', 'recognisable', 'recognise', 'recognised', 'recognition', 'recognizable', 'recognize', 'recognized', 'recognizes', 'recognizing', 'recollected', 'recollection', 'recollections', 'recommend', 'recommendations', 'recommended', 'recommends', 'reconcile', 'reconciled', 'reconciliation', 'reconciling', 'reconnoiter', 'reconstitute', 'reconstruct', 'reconstructed', 'reconstructing', 'reconstruction', 'record', 'recorded', 'recorder', 'recorders', 'recording', 'recordings', 'records', 'recorked', 'recourse', 'recover', 'recovered', 'recovering', 'recovery', 'recreation', 'recrossed', 'recruit', 'recruited', 'recruiting', 'recruitment', 'rectangle', 'rectangles', 'rectangular', 'rectifying', 'rector', 'recuperated', 'recurred', 'recycle', 'recycled', 'recycling', 'red', 'redcoats', 'reddens', 'redder', 'reddish', 'reddy', 'redeem', 'redemption', 'redistributed', 'redness', 'redoubled', 'redounds', 'redress', 'reds', 'redtail', 'reduce', 'reduced', 'reduces', 'reducing', 'reduction', 'redwood', 'reed', 'reeds', 'reef', 'reefs', 'reeking', 'reel', 'reeling', 'reeve', 'refectory', 'refer', 'referable', 'referee', 'reference', 'references', 'referencing', 'referred', 'referring', 'refers', 'refine', 'refined', 'refinement', 'refining', 'refit', 'reflect', 'reflected', 'reflecting', 'reflection', 'reflections', 'reflector', 'reflectors', 'reflects', 'reflexes', 'refning', 'reform', 'reformation', 'reforming', 'reforms', 'refrain', 'refraining', 'refreshed', 'refreshing', 'refreshment', 'refreshments', 'refrigerants', 'refrigerator', 'refuge', 'refugees', 'refusal', 'refuse', 'refused', 'refuses', 'refusing', 'regain', 'regained', 'regal', 'regality', 'regard', 'regarded', 'regarding', 'regardless', 'regards', 'regenerate', 'regenerated', 'regeneration', 'regent', 'regia', 'regime', 'regiment', 'regimental', 'regiments', 'regimes', 'reginald', 'region', 'regional', 'regions', 'register', 'registered', 'registerer', 'registering', 'registers', 'registration', 'regnal', 'regnum', 'regressive', 'regret', 'regretfully', 'regrets', 'regretted', 'regretting', 'regular', 'regularity', 'regularly', 'regulate', 'regulated', 'regulates', 'regulating', 'regulation', 'regulations', 'regulatory', 'regulus', 'rehearsing', 'reichspatent', 'reichstag', 'reign', 'reigning', 'reilley', 'reimagining', 'reimburse', 'reims', 'rein', 'reindeer', 'reined', 'reinforcements', 'reinhold', 'reins', 'reinvented', 'rejected', 'rejection', 'rejoice', 'rejoiced', 'rejoicing', 'rejoicings', 'rejoin', 'relate', 'related', 'relates', 'relating', 'relation', 'relational', 'relations', 'relationship', 'relationships', 'relative', 'relatively', 'relatives', 'relativistic', 'relativity', 'relax', 'relaxation', 'relaxes', 'relay', 'relaying', 'relays', 'release', 'released', 'releases', 'releasing', 'relenting', 'relentless', 'relevant', 'reliable', 'reliably', 'reliance', 'relic', 'relics', 'relied', 'relief', 'relies', 'relieve', 'relieved', 'relieving', 'religion', 'religions', 'religious', 'religiously', 'relinquished', 'relish', 'relocated', 'relocation', 'reluctant', 'reluctantly', 'rely', 'relying', 'rem', 'remain', 'remainder', 'remained', 'remaining', 'remains', 'remakes', 'remark', 'remarkable', 'remarkably', 'remarked', 'remarking', 'remarks', 'rembrandt', 'remediation', 'remedies', 'remedy', 'remedying', 'remelt', 'remember', 'remembered', 'remembering', 'remembers', 'remembrance', 'remembrances', 'remind', 'reminded', 'reminders', 'reminding', 'reminds', 'reminisce', 'reminiscence', 'reminiscences', 'reminiscent', 'remission', 'remnant', 'remnants', 'remodeling', 'remorse', 'remote', 'remotest', 'removable', 'removal', 'remove', 'removed', 'removes', 'removing', 'remuneration', 'renaissance', 'rend', 'render', 'rendered', 'rendering', 'renders', 'rendezvous', 'rene', 'reneging', 'renew', 'renewable', 'renewal', 'renewed', 'renounce', 'renounced', 'renown', 'renowned', 'rent', 'rental', 'rented', 'renting', 'rents', 'renunciation', 'reoccupation', 'reopened', 'reorganization', 'reorganize', 'repair', 'repaired', 'repairing', 'repairs', 'repassing', 'repast', 'repeat', 'repeatable', 'repeated', 'repeatedly', 'repeater', 'repeating', 'repeats', 'repel', 'repelled', 'repels', 'repentance', 'repetition', 'repetitions', 'repetitive', 'repining', 'replace', 'replaced', 'replacement', 'replaces', 'replacing', 'replay', 'replayed', 'replenish', 'replenished', 'replicate', 'replicated', 'replicates', 'replicating', 'replication', 'replied', 'replies', 'reply', 'report', 'reported', 'reporter', 'reporters', 'reports', 'repose', 'reposed', 'repository', 'represent', 'representation', 'representations', 'representative', 'representatives', 'represented', 'representing', 'represents', 'repress', 'repression', 'repressive', 'reprisal', 'reproach', 'reprobation', 'reproduce', 'reproduced', 'reproducing', 'reproduction', 'reproductive', 'reprogram', 'reproof', 'reptile', 'reptiles', 'republic', 'republican', 'republics', 'repulse', 'repulsed', 'repulsion', 'repulsive', 'reputation', 'reputed', 'request', 'requested', 'requests', 'require', 'required', 'requirement', 'requirements', 'requires', 'requiring', 'requisite', 'requite', 'reread', 'res', 'rescue', 'rescued', 'rescuers', 'rescuing', 'research', 'researcher', 'researchers', 'researches', 'researching', 'resemblance', 'resemblances', 'resemble', 'resembled', 'resembles', 'resembling', 'resent', 'resented', 'resentfully', 'resentment', 'reserve', 'reserved', 'reserves', 'reservist', 'reservoir', 'reservoirs', 'reside', 'resided', 'residence', 'residences', 'resident', 'residential', 'residents', 'resides', 'residing', 'residua', 'residual', 'residue', 'residues', 'resign', 'resignation', 'resigned', 'resin', 'resinous', 'resist', 'resistance', 'resistances', 'resistant', 'resisted', 'resisting', 'resistor', 'resolute', 'resolutely', 'resolution', 'resolutions', 'resolve', 'resolved', 'resonance', 'resonates', 'resort', 'resorted', 'resounded', 'resounding', 'resource', 'resourceful', 'resources', 'respect', 'respectability', 'respectable', 'respected', 'respectful', 'respectfully', 'respecting', 'respective', 'respectively', 'respects', 'respiration', 'respiratory', 'respire', 'respond', 'responded', 'responding', 'responds', 'response', 'responses', 'responsibilities', 'responsibility', 'responsible', 'responsive', 'rest', 'restaurant', 'restaurants', 'rested', 'resting', 'restless', 'restlessly', 'restlessness', 'restoration', 'restore', 'restored', 'restores', 'restoring', 'restrained', 'restraining', 'restraint', 'restraints', 'restrict', 'restricted', 'restriction', 'restrictions', 'restrictive', 'rests', 'result', 'resultant', 'resulted', 'resulting', 'results', 'resume', 'resumed', 'resuming', 'resumption', 'resupplies', 'resurrection', 'resuscitation', 'resuscitations', 'retain', 'retained', 'retainers', 'retaining', 'retains', 'retaliation', 'retardation', 'retarding', 'retention', 'retentive', 'retina', 'retired', 'retirement', 'retiring', 'retort', 'retorted', 'retorts', 'retraced', 'retreat', 'retreated', 'retreating', 'retreats', 'retrieval', 'retrieve', 'retrieving', 'retro', 'retrograde', 'retroviruses', 'return', 'returned', 'returning', 'returns', 'retzlaff', 'reuben', 'reunite', 'reunited', 'reuse', 'rev', 'revanche', 'reveal', 'revealed', 'revealing', 'reveals', 'reveille', 'revelation', 'reveled', 'revelry', 'revenge', 'revenue', 'revenues', 'reverberations', 'revered', 'reverence', 'reverently', 'reversal', 'reverse', 'reversed', 'reversibly', 'reversing', 'review', 'reviews', 'revised', 'revisit', 'revisited', 'revival', 'revivals', 'revive', 'revived', 'revivifying', 'revocation', 'revolt', 'revolted', 'revolution', 'revolutionary', 'revolutionists', 'revolutions', 'revolve', 'revolves', 'revolving', 'reward', 'rewarded', 'rewards', 'rewind', 'rewriting', 'rex', 'reynard', 'reynier', 'reynolds', 'rezanov', 'rfid', 'rhanthambore', 'rhea', 'rhee', 'rheims', 'rheinfeldt', 'rhetoric', 'rheumatism', 'rhine', 'rhinelanders', 'rhino', 'rhinoceros', 'rhinoceroses', 'rhinos', 'rhipicephalus', 'rhizomes', 'rhizosphere', 'rhoda', 'rhode', 'rhodes', 'rhodesia', 'rhododendrons', 'rhombus', 'rhone', 'rhubarb', 'rhyme', 'rhymes', 'rhyming', 'rhythm', 'rhythmic', 'rhythms', 'ria', 'ribbed', 'ribbit', 'ribbon', 'ribbons', 'ribonucleic', 'ribose', 'ribosomal', 'ribs', 'ribsam', 'rica', 'rice', 'rich', 'richard', 'richardi', 'richelieu', 'richer', 'riches', 'richest', 'richly', 'richmond', 'richness', 'richter', 'richthofen', 'rickards', 'rickety', 'rico', 'rid', 'ridden', 'riddler', 'riddles', 'ride', 'rider', 'riders', 'rides', 'ridge', 'ridgepole', 'ridges', 'ridicule', 'ridiculous', 'riding', 'ridwaan', 'rifle', 'rifles', 'rifleworks', 'rig', 'rigged', 'rigging', 'right', 'righted', 'righteous', 'righteousness', 'rightful', 'rightly', 'rights', 'rigid', 'rigidity', 'rigidly', 'rigorous', 'rigorously', 'riley', 'rim', 'rimenhild', 'rimmed', 'rims', 'rina', 'rinaldo', 'rind', 'rinded', 'riney', 'ring', 'ringed', 'ringing', 'ringlets', 'rings', 'ringstetten', 'rini', 'rinsed', 'rio', 'rip', 'ripe', 'ripen', 'ripened', 'ripening', 'ripping', 'ripple', 'rippled', 'ripples', 'rippling', 'riquet', 'risc', 'rise', 'risen', 'rises', 'rising', 'risk', 'risked', 'risks', 'risky', 'rite', 'rites', 'ritual', 'ritualism', 'rituals', 'ritz', 'rival', 'rivalry', 'rivals', 'riven', 'river', 'riverbank', 'riverbed', 'riverbound', 'riverport', 'rivers', 'riverside', 'riveted', 'rivina', 'rivulet', 'rivulets', 'riyos', 'riz', 'rna', 'rnas', 'road', 'roadman', 'roads', 'roadside', 'roadsides', 'roadway', 'roadways', 'roam', 'roamed', 'roaming', 'roams', 'roanoke', 'roar', 'roared', 'roaring', 'roars', 'roast', 'roasted', 'roasting', 'rob', 'robat', 'robbed', 'robber', 'robbers', 'robbing', 'robe', 'robert', 'roberts', 'robertson', 'robes', 'robespierre', 'robin', 'robins', 'robinson', 'robonaut', 'robonauts', 'robot', 'robotic', 'robotics', 'robust', 'roc', 'rochefort', 'rochester', 'rock', 'rocked', 'rocker', 'rockery', 'rocket', 'rockets', 'rockies', 'rocking', 'rocks', 'rockslide', 'rockslides', 'rockville', 'rocky', 'rod', 'rodd', 'rode', 'rodents', 'roderick', 'rodney', 'rods', 'roehring', 'roemer', 'rofan', 'roger', 'rogerson', 'rogue', 'roguish', 'roland', 'role', 'roles', 'roll', 'rolled', 'rolleport', 'roller', 'rollers', 'rollicking', 'rolling', 'rollo', 'rolls', 'roly', 'rom', 'roman', 'romance', 'romancer', 'romances', 'romania', 'romans', 'romantic', 'romantics', 'rome', 'romeo', 'romp', 'romped', 'roncole', 'roof', 'roofed', 'roofing', 'roofless', 'roofs', 'rooibos', 'rookwood', 'room', 'rooms', 'roomy', 'rooney', 'roosevelt', 'roost', 'rooster', 'roosting', 'root', 'rooted', 'roots', 'rope', 'ropes', 'rory', 'rose', 'rosebery', 'rosemary', 'rosemont', 'roses', 'rosetta', 'rosette', 'rosettes', 'roshni', 'ross', 'rossi', 'rosso', 'rosters', 'rosy', 'rot', 'rotary', 'rotate', 'rotated', 'rotates', 'rotating', 'rotation', 'rotational', 'rotations', 'rotaviruses', 'rotifers', 'rotted', 'rotten', 'rotterdam', 'rotting', 'rotunda', 'roubles', 'rouen', 'rough', 'rougher', 'roughest', 'roughly', 'roughness', 'round', 'roundabout', 'rounded', 'roundel', 'roundness', 'rounds', 'roundtable', 'rouse', 'roused', 'rouses', 'rousseau', 'rout', 'route', 'routed', 'router', 'routers', 'routes', 'routine', 'routing', 'roved', 'rover', 'rovers', 'roving', 'row', 'rowboat', 'rowed', 'rower', 'rowers', 'rowing', 'rowland', 'rowlands', 'rows', 'roxanna', 'roxie', 'roy', 'royal', 'royalists', 'royalty', 'roystering', 'rpm', 'rrna', 'rspo', 'rub', 'rubbed', 'rubber', 'rubbers', 'rubbing', 'rubbish', 'rubicund', 'rubina', 'rubles', 'rubs', 'ruby', 'rudder', 'ruddy', 'rude', 'rudely', 'ruder', 'rudolf', 'rudolph', 'rue', 'rueful', 'ruffian', 'ruffians', 'ruffled', 'rug', 'rugged', 'rugs', 'ruin', 'ruined', 'ruinous', 'ruins', 'ruiz', 'rule', 'ruled', 'ruler', 'rulers', 'rules', 'ruling', 'rulings', 'rum', 'rumania', 'rumanian', 'rumanians', 'rumbled', 'rumbling', 'rumblings', 'rumgudgeon', 'ruminating', 'rummaging', 'rumor', 'rumors', 'rumour', 'rumours', 'rumpled', 'run', 'runabout', 'runaway', 'rung', 'runner', 'runners', 'running', 'runnings', 'runs', 'runtime', 'runway', 'rupee', 'rupees', 'rural', 'ruse', 'rush', 'rushed', 'rushes', 'rushing', 'russ', 'russel', 'russell', 'russet', 'russia', 'russian', 'russians', 'russo', 'rust', 'rusted', 'rustem', 'rustic', 'rustily', 'rustle', 'rustled', 'rustling', 'rusty', 'rutabagas', 'ruteni', 'ruth', 'rutty', 'ryan', 'rye', 's', 'saalburg', 'saas', 'sabbath', 'sabines', 'sable', 'sablon', 'sabotage', 'sabre', 'sac', 'saccharides', 'saccharin', 'saccharine', 'sack', 'sacks', 'sackville', 'sacred', 'sacredness', 'sacrifice', 'sacrificed', 'sacrifices', 'sacrificial', 'sacs', 'sad', 'saddest', 'saddle', 'saddled', 'saddles', 'sadly', 'sadness', 'saes', 'safari', 'safe', 'safeguard', 'safely', 'safer', 'safety', 'saffron', 'sagacious', 'sage', 'sages', 'sagittae', 'sagittarius', 'sahara', 'sahib', 'sahwah', 'said', 'sail', 'sailboat', 'sailed', 'sailing', 'sailor', 'sailors', 'sails', 'sainabi', 'saint', 'sainte', 'saintly', 'saints', 'saira', 'sake', 'sakima', 'salaam', 'salable', 'saladin', 'salaries', 'salary', 'sale', 'salem', 'sales', 'salesmen', 'salford', 'salic', 'salicylate', 'salicylic', 'salie', 'salieri', 'saline', 'salinities', 'salinity', 'salisbury', 'saliva', 'salivate', 'salivating', 'sallie', 'sallied', 'sallow', 'sally', 'salmon', 'saloon', 'salt', 'salted', 'saltier', 'saltiness', 'salts', 'salty', 'saluki', 'salute', 'saluted', 'saluting', 'salvation', 'salzburg', 'sam', 'samantha', 'sambor', 'same', 'sameness', 'sami', 'sammie', 'samoa', 'samothracian', 'samovar', 'sample', 'sampled', 'samples', 'sampling', 'samuel', 'samurai', 'san', 'sancho', 'sancius', 'sanction', 'sanctions', 'sanctissimum', 'sanctity', 'sanctuary', 'sand', 'sandals', 'sandhills', 'sandiest', 'sands', 'sandstone', 'sandstorm', 'sandusky', 'sandwich', 'sandwiches', 'sandy', 'sane', 'sang', 'sanguinary', 'sanguineus', 'sanitary', 'sanitizers', 'sank', 'sanks', 'sansevieria', 'sanson', 'santa', 'santo', 'sanzio', 'sap', 'sapiens', 'saplings', 'saponified', 'sapped', 'sapper', 'sappleton', 'saprophytic', 'saprotrophic', 'saqqara', 'sara', 'saracens', 'sarajevo', 'saratoga', 'sarcasm', 'sardines', 'sardinia', 'sargent', 'sars', 'saseno', 'sash', 'sassafras', 'sat', 'satan', 'satchel', 'satellite', 'satellites', 'satin', 'satire', 'satisfaction', 'satisfactorily', 'satisfactory', 'satisfied', 'satisfy', 'satisfying', 'satoshi', 'satsuma', 'saturated', 'saturates', 'saturating', 'saturation', 'saturday', 'saturn', 'sauce', 'saucebox', 'saucepans', 'saucer', 'saucers', 'sauces', 'saucily', 'saucy', 'saudi', 'sauntered', 'saunters', 'sausage', 'sauvage', 'savage', 'savagely', 'save', 'saved', 'savell', 'savers', 'savin', 'saving', 'savings', 'saw', 'sawdust', 'sawmill', 'saws', 'sawyer', 'saxe', 'saxon', 'saxonia', 'saxons', 'say', 'saying', 'says', 'scab', 'scaean', 'scaffold', 'scaffolding', 'scalar', 'scalding', 'scale', 'scales', 'scaling', 'scalp', 'scaly', 'scamp', 'scamper', 'scampered', 'scampering', 'scan', 'scandal', 'scandalous', 'scandals', 'scandinavia', 'scandinavian', 'scanned', 'scanner', 'scanners', 'scanning', 'scans', 'scant', 'scantiest', 'scantily', 'scantiness', 'scanty', 'scape', 'scapes', 'scarborough', 'scarce', 'scarcely', 'scarcer', 'scarcity', 'scare', 'scarecrow', 'scared', 'scarlet', 'scars', 'scary', 'scatter', 'scattered', 'scattering', 'scavengers', 'scavenging', 'scenario', 'scene', 'scenery', 'scenes', 'scent', 'scented', 'scents', 'sceptre', 'scharnhorst', 'schechter', 'schedule', 'schema', 'schemas', 'schematic', 'scheme', 'schemed', 'schemes', 'schermerhornes', 'schismatics', 'schleswig', 'schloss', 'schmitt', 'schoene', 'scholar', 'scholarly', 'scholars', 'scholarship', 'schonbein', 'school', 'schoolboy', 'schoolfellow', 'schoolfellows', 'schoolgirl', 'schoolhouse', 'schooling', 'schoolmaster', 'schoolmasters', 'schoolmates', 'schoolroom', 'schools', 'schoolwork', 'schooner', 'schreiber', 'schritt', 'schubert', 'schumann', 'schwimmschul', 'sci', 'science', 'sciences', 'scientific', 'scientist', 'scientists', 'scissors', 'scituate', 'sclera', 'scoffers', 'scoffing', 'scold', 'scolded', 'scolding', 'scolds', 'scoop', 'scooped', 'scoops', 'scope', 'scorched', 'scorching', 'scorchingly', 'score', 'scored', 'scores', 'scoring', 'scorn', 'scorned', 'scornful', 'scornfully', 'scot', 'scotch', 'scotchman', 'scotia', 'scotland', 'scotsman', 'scott', 'scottish', 'scoundthrel', 'scour', 'scoured', 'scourge', 'scout', 'scouting', 'scoutmaster', 'scouts', 'scowlily', 'scowling', 'scraggy', 'scramble', 'scrambled', 'scrambling', 'scrap', 'scrape', 'scraped', 'scrapefoot', 'scrapes', 'scraping', 'scraps', 'scratch', 'scratched', 'scratching', 'scratchy', 'scream', 'screamed', 'screaming', 'screams', 'screeched', 'screecher', 'screen', 'screened', 'screens', 'screw', 'screwdriver', 'screwed', 'screws', 'scribes', 'script', 'scripts', 'scripture', 'scriveners', 'scroll', 'scrub', 'scrubbed', 'scrubbing', 'scrubby', 'scrupulously', 'scrutinized', 'scrutinizing', 'scrutiny', 'scsi', 'scuba', 'scudding', 'scullery', 'scullion', 'sculls', 'sculpt', 'sculpting', 'sculptor', 'sculptors', 'sculpture', 'sculptured', 'sculptures', 'scurried', 'scurry', 'scurrying', 'sd', 'sdhc', 'sdxc', 'se', 'sea', 'seabed', 'seabird', 'seabirds', 'seaboard', 'seacote', 'seafloor', 'seagrass', 'seagrasses', 'seahorse', 'seal', 'sealed', 'seals', 'sealskin', 'seam', 'seaman', 'seamanship', 'seamen', 'seams', 'seamstress', 'seaport', 'search', 'searched', 'searches', 'searching', 'searchlight', 'seas', 'seashore', 'season', 'seasonal', 'seasonally', 'seasonings', 'seasons', 'seat', 'seated', 'seater', 'seating', 'seats', 'seattle', 'seawater', 'seaway', 'seaweed', 'seaweeds', 'sebago', 'sebastian', 'sebastopol', 'seceding', 'secession', 'secessionist', 'seclusion', 'second', 'secondary', 'seconded', 'secondly', 'seconds', 'secrecy', 'secret', 'secretaries', 'secretary', 'secrete', 'secreted', 'secretion', 'secretions', 'secretive', 'secretly', 'secrets', 'sect', 'section', 'sections', 'sector', 'sects', 'secular', 'secure', 'secured', 'securely', 'secures', 'securing', 'security', 'sedate', 'sedately', 'sedentary', 'sedge', 'sedgy', 'sediment', 'sedimentary', 'sedimentation', 'sediments', 'see', 'seebeck', 'seed', 'seeding', 'seedling', 'seedlings', 'seeds', 'seedy', 'seeing', 'seek', 'seekers', 'seeking', 'seeks', 'seem', 'seemed', 'seeming', 'seemingly', 'seems', 'seen', 'sees', 'segment', 'segmented', 'segments', 'segregation', 'seidenstrasse', 'seigneur', 'seine', 'seismic', 'seismicity', 'seismograph', 'seismological', 'seismologist', 'seismologists', 'seismology', 'seismometers', 'seize', 'seized', 'seizes', 'seizing', 'seizure', 'seizures', 'sekyen', 'sel', 'seldom', 'select', 'selectable', 'selected', 'selecting', 'selection', 'selectively', 'selectivity', 'selects', 'selene', 'selenium', 'seleucid', 'self', 'selfish', 'selfishness', 'selfsame', 'sell', 'sellers', 'sellin', 'selling', 'sells', 'selvage', 'selvages', 'selves', 'sem', 'semantic', 'semantically', 'semaphore', 'semblance', 'semi', 'semiaquatic', 'semicircle', 'semicolon', 'semiconducting', 'semiconductor', 'seminal', 'seminary', 'semiprivacy', 'semitic', 'semneh', 'semyon', 'sen', 'senate', 'senator', 'send', 'sender', 'sending', 'sendoff', 'sends', 'senegal', 'senile', 'senior', 'seniors', 'senor', 'sensation', 'sensations', 'sense', 'sensed', 'senseless', 'senses', 'sensibilities', 'sensibility', 'sensible', 'sensibly', 'sensing', 'sensitive', 'sensitiveness', 'sensitivity', 'sensor', 'sensors', 'sensory', 'sent', 'sentence', 'sentences', 'sentiment', 'sentimental', 'sentiments', 'sentinel', 'sentinels', 'sentries', 'sentry', 'separate', 'separated', 'separately', 'separates', 'separating', 'separation', 'separative', 'sepia', 'sept', 'september', 'sepulchers', 'sequence', 'sequences', 'sequencing', 'sequestered', 'sequestration', 'sequoias', 'seracs', 'serape', 'seraphically', 'serb', 'serbia', 'serbian', 'serbians', 'serbonian', 'serenade', 'serendib', 'serene', 'serengeti', 'sergeant', 'sergeyevna', 'serial', 'series', 'serious', 'seriously', 'seriousness', 'sermon', 'sermons', 'serpent', 'serpents', 'serrated', 'serratures', 'serum', 'servais', 'servant', 'servants', 'serve', 'served', 'server', 'servers', 'serves', 'service', 'serviceable', 'services', 'servile', 'serving', 'servitude', 'sesame', 'sesquioxide', 'sessile', 'session', 'set', 'sets', 'setter', 'settin', 'setting', 'settings', 'settle', 'settled', 'settlement', 'settlements', 'settlers', 'settles', 'settling', 'setup', 'seven', 'seventeen', 'seventeenth', 'seventh', 'seventy', 'sever', 'several', 'severally', 'severals', 'severe', 'severed', 'severely', 'severest', 'severity', 'severn', 'sew', 'sewackenamo', 'sewage', 'seward', 'sewed', 'sewer', 'sewers', 'sewing', 'sewn', 'sex', 'sexual', 'sexually', 'seymour', 'sfsr', 'sh', 'sha', 'shabangu', 'shabby', 'shackleton', 'shade', 'shaded', 'shades', 'shadier', 'shadiest', 'shading', 'shadow', 'shadowless', 'shadows', 'shadowy', 'shady', 'shaft', 'shafts', 'shaggy', 'shai', 'shake', 'shaken', 'shaker', 'shakes', 'shakespeare', 'shakily', 'shaking', 'shale', 'shall', 'shallow', 'shallowly', 'shalt', 'sham', 'shambling', 'shame', 'shamed', 'shamefaced', 'shammar', 'shampoo', 'shams', 'shanaghgan', 'shang', 'shange', 'shanghai', 'shank', 'shanties', 'shantung', 'shanty', 'shape', 'shaped', 'shapely', 'shapes', 'shaping', 'shards', 'share', 'shared', 'shares', 'sharing', 'shark', 'sharks', 'sharp', 'sharpe', 'sharpen', 'sharpened', 'sharpens', 'sharper', 'sharpeyes', 'sharply', 'sharpness', 'shattered', 'shave', 'shaved', 'shaven', 'shaving', 'shavings', 'shaw', 'shawl', 'shawls', 'shays', 'she', 'sheaf', 'sheared', 'shearers', 'shears', 'sheaves', 'shed', 'shedd', 'sheep', 'sheepskins', 'sheer', 'sheet', 'sheeted', 'sheets', 'shelby', 'shelf', 'shell', 'shellac', 'shelled', 'shelley', 'shelling', 'shells', 'shelter', 'sheltered', 'sheltering', 'shelters', 'shelves', 'shelving', 'shepard', 'shepherd', 'shepherds', 'sherif', 'sheriff', 'sheriffs', 'sherlock', 'sherwood', 'shhhh', 'shiak', 'shied', 'shield', 'shielding', 'shields', 'shift', 'shifted', 'shifting', 'shiftlessness', 'shifts', 'shifty', 'shilling', 'shillings', 'shimmer', 'shimmering', 'shine', 'shines', 'shingle', 'shingles', 'shingly', 'shining', 'shinto', 'shintoism', 'shiny', 'ship', 'shipboard', 'shipbuilder', 'shipbuilding', 'shiploads', 'shipmate', 'shipmates', 'shipment', 'shipped', 'shipping', 'ships', 'shipwreck', 'shipwrecked', 'shipwrecks', 'shipyards', 'shirking', 'shirley', 'shirt', 'shirts', 'shirtsleeves', 'shiver', 'shivered', 'shivering', 'shoal', 'shoals', 'shock', 'shocked', 'shocking', 'shockingly', 'shocks', 'shoe', 'shoemaker', 'shoepacks', 'shoes', 'shoestrings', 'shone', 'shook', 'shoot', 'shooting', 'shoots', 'shop', 'shopkeeper', 'shopkeepers', 'shopman', 'shopped', 'shops', 'shore', 'shoreditch', 'shores', 'shorn', 'short', 'shortage', 'shortages', 'shortcomings', 'shortcut', 'shortened', 'shortening', 'shorter', 'shortest', 'shortly', 'shorts', 'shortwave', 'shot', 'shotguns', 'shots', 'should', 'shoulder', 'shouldered', 'shouldering', 'shoulders', 'shouldst', 'shout', 'shouted', 'shouter', 'shouting', 'shouts', 'shoved', 'shovel', 'shovelling', 'shovels', 'show', 'showed', 'shower', 'showered', 'showers', 'showing', 'shown', 'showroom', 'shows', 'showy', 'shrapnel', 'shrewd', 'shrewdly', 'shriek', 'shrieked', 'shrieking', 'shrieks', 'shrill', 'shrimp', 'shrine', 'shrines', 'shrink', 'shrinkage', 'shrinking', 'shropshire', 'shrouded', 'shrovetide', 'shrub', 'shrubs', 'shrug', 'shrugged', 'shrunk', 'shudder', 'shudders', 'shuffled', 'shuffling', 'shumkov', 'shun', 'shunning', 'shunt', 'shustov', 'shut', 'shuts', 'shutter', 'shutters', 'shutting', 'shuuu', 'shy', 'shyly', 'si', 'siamese', 'siberia', 'sibling', 'sibusiso', 'sic', 'sicilians', 'sicily', 'sick', 'sickened', 'sickly', 'sickness', 'side', 'sided', 'sidedness', 'sidekick', 'sidekicks', 'sidelong', 'sides', 'sidewalk', 'sidewalks', 'sideways', 'sidled', 'sidney', 'siege', 'siegelind', 'sieges', 'siegfried', 'siegmund', 'siemens', 'sierra', 'sieve', 'sieveking', 'sif', 'sift', 'sifted', 'sifting', 'sigauke', 'sigh', 'sighed', 'sighing', 'sighings', 'sighs', 'sight', 'sighted', 'sights', 'sightseers', 'sigma', 'sign', 'signal', 'signaled', 'signaling', 'signals', 'signature', 'signatures', 'signed', 'significance', 'significant', 'significantly', 'signified', 'signifies', 'signify', 'signifying', 'signor', 'signs', 'sikaso', 'sikkim', 'silas', 'silence', 'silent', 'silently', 'silesian', 'silhouette', 'silica', 'silicate', 'silicon', 'silistria', 'silk', 'silken', 'silkiness', 'silks', 'silky', 'sill', 'silled', 'sills', 'silly', 'silt', 'silver', 'silvery', 'sima', 'simard', 'simba', 'simbegwire', 'similar', 'similarities', 'similarity', 'similarly', 'simmons', 'simon', 'simpa', 'simpkins', 'simple', 'simpler', 'simplest', 'simplex', 'simplicity', 'simplification', 'simplified', 'simplify', 'simply', 'simpson', 'simulated', 'simulation', 'simulations', 'simulators', 'simultaneously', 'sin', 'sinapisms', 'since', 'sincere', 'sincerely', 'sincerity', 'sindbad', 'sine', 'sinew', 'sinews', 'sinewy', 'sing', 'singapore', 'singaporean', 'singer', 'singers', 'singh', 'singing', 'single', 'singles', 'singly', 'sings', 'singular', 'singularity', 'singularly', 'sink', 'sinkable', 'sinker', 'sinking', 'sinks', 'sinner', 'sinners', 'sinuous', 'sinyaire', 'sioux', 'sip', 'sipho', 'sipped', 'sips', 'sir', 'sire', 'siren', 'sirfhula', 'sirfool', 'sirius', 'sirocco', 'sirs', 'sirup', 'sisanda', 'sister', 'sisters', 'sit', 'sita', 'site', 'sites', 'sits', 'sitter', 'sitting', 'situate', 'situated', 'situation', 'situations', 'six', 'sixpence', 'sixpences', 'sixpennyworth', 'sixteen', 'sixteenth', 'sixteenths', 'sixth', 'sixty', 'siya', 'siyafunda', 'siza', 'size', 'sized', 'sizes', 'sizzling', 'skate', 'skated', 'skaters', 'skates', 'skating', 'skeins', 'skeletal', 'skeleton', 'skeletons', 'skeptical', 'skepticism', 'sketch', 'sketched', 'sketches', 'skidded', 'skies', 'skiff', 'skilfully', 'skill', 'skilled', 'skillet', 'skillful', 'skillfully', 'skills', 'skim', 'skimmed', 'skimming', 'skin', 'skinned', 'skinny', 'skins', 'skip', 'skipped', 'skipper', 'skipping', 'skirmishers', 'skirt', 'skirting', 'skirts', 'skratdj', 'skulks', 'skull', 'skunk', 'sky', 'skylight', 'skyrocket', 'skyward', 'slabs', 'slack', 'slackened', 'slackness', 'slade', 'slag', 'slain', 'slaked', 'slammed', 'slant', 'slanting', 'slapping', 'slaps', 'slate', 'slated', 'slater', 'slates', 'slaughter', 'slaughtered', 'slave', 'slavery', 'slaves', 'slay', 'slaying', 'sled', 'sledge', 'sledges', 'sleds', 'sleek', 'sleeker', 'sleep', 'sleeper', 'sleepers', 'sleepily', 'sleeping', 'sleeplessness', 'sleeps', 'sleepwalking', 'sleepy', 'sleepyhead', 'sleeve', 'sleeves', 'sleigh', 'sleighing', 'slender', 'slept', 'slice', 'slicing', 'slid', 'slide', 'slides', 'sliding', 'slight', 'slighter', 'slightest', 'slightly', 'slights', 'slily', 'slim', 'slime', 'slimmest', 'slimy', 'sling', 'slink', 'slinks', 'slip', 'slipped', 'slipper', 'slippers', 'slippery', 'slipping', 'slips', 'slit', 'slithered', 'slits', 'slo', 'sloane', 'sloop', 'slope', 'slopes', 'sloping', 'slot', 'slots', 'slotting', 'slouch', 'slouched', 'slouching', 'slovak', 'slow', 'slowed', 'slower', 'slowly', 'slowness', 'slows', 'sluggish', 'sluggishly', 'slumber', 'slumbering', 'slumps', 'slung', 'slunk', 'slush', 'sluys', 'sly', 'slyborough', 'slyly', 'sm', 'smack', 'smacked', 'small', 'smaller', 'smallest', 'smallpox', 'smart', 'smarter', 'smartest', 'smartly', 'smartness', 'smartphones', 'smarts', 'smartwatch', 'smartwatches', 'smarty', 'smash', 'smashed', 'smashing', 'smattering', 'smeared', 'smearing', 'smeaton', 'smell', 'smelled', 'smellers', 'smelling', 'smells', 'smelt', 'smelted', 'smelting', 'smile', 'smiled', 'smiles', 'smiling', 'smirched', 'smirking', 'smite', 'smith', 'smoke', 'smoked', 'smokeless', 'smokes', 'smoking', 'smokings', 'smoky', 'smoldering', 'smooth', 'smoothed', 'smoothest', 'smoothies', 'smoothing', 'smoothly', 'smoothness', 'smote', 'smother', 'smouldering', 'smugglers', 'smyrna', 'snack', 'snacks', 'snail', 'snails', 'snake', 'snakes', 'snap', 'snapped', 'snapping', 'snaps', 'snapshots', 'snare', 'snarl', 'snarled', 'snarling', 'snatched', 'snatching', 'sneak', 'sneaking', 'snedecker', 'sneeze', 'sneezed', 'sneezes', 'sniffing', 'sniffles', 'sniffling', 'sniffy', 'snip', 'snipe', 'snoop', 'snores', 'snoring', 'snorkel', 'snorted', 'snortings', 'snorts', 'snout', 'snow', 'snowball', 'snowballing', 'snowballs', 'snowbanks', 'snowdrop', 'snowed', 'snowfalls', 'snowflakes', 'snowing', 'snows', 'snowshoes', 'snowstorm', 'snowy', 'sns', 'snub', 'snubbed', 'snuck', 'snuffbox', 'snuffed', 'snuffers', 'snug', 'snuggled', 'snugly', 'snugness', 'so', 'soak', 'soaked', 'soaking', 'soap', 'soapings', 'soaps', 'soared', 'sob', 'sobbed', 'sobbing', 'sober', 'soberly', 'soberness', 'sobs', 'soccer', 'sociable', 'sociably', 'social', 'socialist', 'socialization', 'socially', 'societies', 'society', 'socio', 'sock', 'socket', 'socks', 'socrates', 'socratic', 'sod', 'soda', 'sodas', 'sodium', 'sofa', 'sofas', 'sofia', 'soft', 'soften', 'softened', 'softens', 'softer', 'softly', 'softness', 'software', 'sogdians', 'soggy', 'sohan', 'soil', 'soilborne', 'soiled', 'soiler', 'soiling', 'soils', 'soitgoes', 'sojourn', 'sokratikoi', 'solar', 'solari', 'solaris', 'sold', 'soldats', 'solder', 'soldered', 'soldering', 'solders', 'soldier', 'soldiers', 'soldiery', 'sole', 'soleil', 'solely', 'solemn', 'solemnity', 'solemnly', 'solent', 'soles', 'solicitation', 'solicitations', 'solicitude', 'solid', 'solidarity', 'solidification', 'solidifies', 'solidity', 'solidly', 'solids', 'soliloquized', 'solitarius', 'solitary', 'solitude', 'solitudes', 'solo', 'solomon', 'soluble', 'solution', 'solutions', 'solve', 'solved', 'solvent', 'solvents', 'solvers', 'solving', 'somali', 'somatosensory', 'somber', 'sombre', 'sombrero', 'some', 'somebody', 'somehow', 'someone', 'somerby', 'somersets', 'something', 'sometime', 'sometimes', 'somewhat', 'somewhere', 'son', 'son...', 'song', 'songbird', 'songbirds', 'songs', 'sonia', 'sonny', 'sonography', 'sonorous', 'sons', 'soon', 'sooner', 'soot', 'sooth', 'soothe', 'soothing', 'soothsayer', 'soothsayers', 'sophiatown', 'sophie', 'sophistication', 'sophomore', 'sophomores', 'soprano', 'sorcerer', 'sore', 'sorely', 'sores', 'sorghum', 'sorgue', 'sorimpan', 'sormov', 'sorority', 'sorrow', 'sorrowful', 'sorrowfully', 'sorry', 'sort', 'sorted', 'sorting', 'sorts', 'sou', 'sought', 'soul', 'souled', 'souls', 'sound', 'sounded', 'sounder', 'sounders', 'sounding', 'soundlessly', 'soundly', 'sounds', 'soup', 'soupramany', 'soups', 'sour', 'source', 'sources', 'soured', 'south', 'southampton', 'southeast', 'southeastern', 'southerly', 'southern', 'southport', 'southsea', 'southward', 'southwest', 'southwestern', 'southwind', 'souvenirs', 'sovereign', 'sovereignty', 'soviet', 'soviets', 'sowed', 'soweto', 'sowing', 'sown', 'space', 'spacecraft', 'spaced', 'spaces', 'spacesuits', 'spacetime', 'spacewalk', 'spacewalks', 'spacing', 'spacious', 'spade', 'spadefuls', 'spain', 'spake', 'spam', 'span', 'spangled', 'spaniard', 'spaniards', 'spaniel', 'spaniels', 'spanish', 'spanned', 'spanning', 'spans', 'spar', 'spare', 'spared', 'sparing', 'sparingly', 'spark', 'sparked', 'sparkle', 'sparkled', 'sparkles', 'sparkling', 'sparks', 'sparrow', 'sparrows', 'spars', 'sparta', 'spartacus', 'spartan', 'spartans', 'spasm', 'spat', 'spatial', 'spats', 'spatula', 'spawn', 'spawners', 'spaza', 'speak', 'speaker', 'speakers', 'speaking', 'speaks', 'spear', 'spearhead', 'spearmint', 'spears', 'spec', 'special', 'specialist', 'specialists', 'speciality', 'specialize', 'specialized', 'specially', 'specialty', 'speciation', 'species', 'specific', 'specifically', 'specification', 'specifications', 'specified', 'specify', 'specimen', 'specimens', 'speck', 'speckled', 'spectacle', 'spectacles', 'spectacular', 'spectator', 'spectators', 'specter', 'spectral', 'spectre', 'spectrometer', 'spectrophotometer', 'spectroscope', 'spectroscopy', 'spectrum', 'speculate', 'speculation', 'speculative', 'speculators', 'speculum', 'sped', 'speech', 'speeches', 'speed', 'speedily', 'speeding', 'speeds', 'speedy', 'spell', 'spelling', 'spencer', 'spencervale', 'spend', 'spending', 'spenser', 'spent', 'sphaerocarpum', 'sphagnum', 'sphere', 'spheres', 'spherical', 'spheroid', 'sphinx', 'sphinxes', 'spice', 'spicer', 'spices', 'spicy', 'spider', 'spiders', 'spied', 'spielsdorf', 'spies', 'spike', 'spiked', 'spikes', 'spilled', 'spilt', 'spin', 'spinach', 'spinal', 'spindle', 'spines', 'spinet', 'spinners', 'spinning', 'spins', 'spiny', 'spiral', 'spires', 'spirillum', 'spirit', 'spirited', 'spirits', 'spiritual', 'spirituality', 'spite', 'spitfire', 'spitting', 'spitz', 'spitzer', 'splash', 'splashed', 'splashing', 'splendid', 'splendidly', 'splendor', 'splendour', 'splinter', 'splintered', 'split', 'splitting', 'spluttering', 'spoff', 'spoil', 'spoiled', 'spoke', 'spoken', 'sponge', 'sponges', 'sponging', 'sponsored', 'spontaneous', 'spontaneously', 'spool', 'spoon', 'spoonfuls', 'spooning', 'spoons', 'sporangium', 'spores', 'sport', 'sported', 'sporting', 'sports', 'sportsman', 'spot', 'spotless', 'spots', 'spotted', 'spottie', 'spotty', 'spout', 'spouting', 'spouts', 'sprained', 'sprang', 'sprawled', 'sprawling', 'spray', 'sprays', 'spread', 'spreading', 'spreads', 'spreadsheets', 'spree', 'sprig', 'sprigged', 'sprightliness', 'sprightly', 'spring', 'springboard', 'springbok', 'springing', 'springs', 'springtide', 'springtime', 'springy', 'sprinkled', 'sprinkler', 'sprinklers', 'sprinkling', 'sprinter', 'sprinting', 'sprints', 'sprite', 'sprock', 'sprout', 'sprouted', 'sprouting', 'spruce', 'spruces', 'sprung', 'spry', 'sptss', 'spun', 'spur', 'spurs', 'spurt', 'sputtering', 'spy', 'sqr', 'squabbles', 'squabbling', 'squad', 'squalled', 'squalor', 'squanto', 'square', 'squared', 'squares', 'squash', 'squat', 'squatted', 'squatting', 'squawk', 'squeak', 'squeaked', 'squeaking', 'squeaky', 'squealed', 'squeeze', 'squeezed', 'squeezing', 'squibs', 'squid', 'squinting', 'squire', 'squires', 'squirming', 'squirrel', 'squirrels', 'squished', 'sri', 'srs', 'ssssssss', 'st', 'stability', 'stabilization', 'stabilize', 'stabilized', 'stabilizer', 'stable', 'stables', 'stack', 'stackable', 'stacked', 'stacks', 'stadium', 'stadiums', 'staff', 'staffed', 'stag', 'stage', 'stages', 'staggered', 'staggering', 'stagnant', 'stagnation', 'stags', 'staid', 'stain', 'stained', 'staining', 'stainless', 'stair', 'staircase', 'stairs', 'stairway', 'stairways', 'staked', 'stakes', 'stale', 'stalk', 'stalked', 'stalking', 'stalks', 'stall', 'stallion', 'stalls', 'stalwart', 'stammer', 'stamp', 'stamped', 'stamping', 'stamps', 'stand', 'standalone', 'standard', 'standardized', 'standards', 'standing', 'standpoint', 'stands', 'standstill', 'stanhope', 'stanley', 'stannic', 'stanwix', 'staphylococci', 'staples', 'star', 'starboard', 'starch', 'starched', 'starches', 'starchy', 'stare', 'stared', 'staring', 'starlight', 'starling', 'starlings', 'starry', 'stars', 'start', 'started', 'starting', 'startle', 'startled', 'startling', 'starts', 'startsev', 'starvation', 'starve', 'starved', 'starving', 'stasia', 'stat', 'state', 'statecraft', 'stated', 'stateliest', 'stately', 'statement', 'statements', 'staten', 'stateroom', 'staterooms', 'states', 'statesman', 'statesmanship', 'statesmen', 'static', 'stating', 'station', 'stationary', 'stationed', 'stationery', 'stations', 'statistic', 'statistical', 'statistics', 'statuary', 'statue', 'statues', 'stature', 'status', 'statute', 'statutes', 'statutory', 'staves', 'stay', 'stayed', 'staying', 'stays', 'stead', 'steadfast', 'steadier', 'steadily', 'steady', 'steadying', 'steak', 'steal', 'stealing', 'stealth', 'stealthily', 'steam', 'steamboat', 'steamboats', 'steamed', 'steamer', 'steamers', 'steaming', 'steamship', 'steamships', 'steamy', 'stearine', 'steed', 'steeds', 'steel', 'steep', 'steeped', 'steeple', 'steeps', 'steer', 'steerage', 'steered', 'steering', 'steers', 'steersman', 'stele', 'steles', 'stella', 'stellar', 'stem', 'stemmed', 'stems', 'stentorian', 'step', 'stepan', 'stepanitch', 'stephen', 'stepmother', 'steppe', 'stepped', 'stepping', 'steps', 'steradians', 'stereopsis', 'stereotactic', 'stereotactically', 'sterling', 'stern', 'sternly', 'steve', 'stevens', 'stevenson', 'steward', 'stews', 'stibitz', 'stiches', 'stick', 'stickiness', 'sticking', 'stickleback', 'sticklebacks', 'sticks', 'sticky', 'stieber', 'stiff', 'stiffened', 'stiffening', 'stiffer', 'stiffly', 'stiffness', 'stiffstep', 'stifled', 'still', 'stillness', 'stimson', 'stimulant', 'stimulants', 'stimulate', 'stimulated', 'stimulating', 'stimulation', 'stimuli', 'stimulus', 'sting', 'stinging', 'stingless', 'stings', 'stingy', 'stinks', 'stipulated', 'stipulations', 'stir', 'stirred', 'stirring', 'stitches', 'stitching', 'stock', 'stockaded', 'stockbridge', 'stockchen', 'stocked', 'stockholders', 'stocking', 'stockings', 'stocks', 'stockwell', 'stoics', 'stokers', 'stola', 'stole', 'stolen', 'stolid', 'stolze', 'stomach', 'stomachache', 'stomachs', 'stomp', 'stomped', 'stomping', 'stone', 'stonecutter', 'stoned', 'stonemasons', 'stones', 'stoneworts', 'stoning', 'stony', 'stood', 'stool', 'stools', 'stoop', 'stooped', 'stop', 'stoppage', 'stopped', 'stopper', 'stoppered', 'stopping', 'stops', 'storage', 'store', 'stored', 'storehouses', 'storekeeper', 'stores', 'stories', 'storing', 'stork', 'storm', 'stormed', 'stormiest', 'storms', 'stormy', 'story', 'storybook', 'storybooks', 'storylines', 'storyteller', 'storytelling', 'stout', 'stouter', 'stove', 'stowe', 'straggler', 'straggling', 'straggly', 'strai', 'straight', 'straightened', 'straightforward', 'straightway', 'strain', 'strained', 'straining', 'strains', 'strait', 'straits', 'strand', 'stranded', 'stranding', 'strands', 'strange', 'strangely', 'stranger', 'strangers', 'strangest', 'strap', 'strapped', 'straps', 'strata', 'strategic', 'strategies', 'strategist', 'strategists', 'strategy', 'stratosphere', 'stratum', 'straw', 'strawberries', 'strawberry', 'straws', 'stray', 'strayed', 'straying', 'streak', 'streaked', 'streaks', 'stream', 'streamed', 'streaming', 'streamlined', 'streams', 'street', 'streets', 'strength', 'strengthen', 'strengthened', 'strengthening', 'strengthens', 'strengths', 'strenuosity', 'strenuous', 'streptococci', 'stress', 'stressed', 'stresses', 'stressful', 'stressing', 'stretch', 'stretched', 'stretches', 'stretching', 'strewed', 'strewing', 'strewn', 'striatum', 'stricken', 'strict', 'strictly', 'strictness', 'stride', 'strides', 'strife', 'strike', 'strikers', 'strikes', 'striking', 'strikingly', 'string', 'stringing', 'strings', 'strip', 'striped', 'stripes', 'stripped', 'strips', 'strive', 'strives', 'striving', 'strobell', 'strode', 'stroke', 'stroked', 'strokes', 'stroking', 'stroll', 'strolled', 'strolling', 'strong', 'stronger', 'strongest', 'strongholds', 'strongly', 'strove', 'struck', 'structural', 'structure', 'structured', 'structures', 'structuring', 'struggle', 'struggled', 'struggling', 'strummed', 'strung', 'strut', 'stuart', 'stuarts', 'stubble', 'stubborn', 'stubbornly', 'stubbs', 'stuck', 'stud', 'studded', 'student', 'students', 'studied', 'studies', 'studio', 'studious', 'studs', 'study', 'studying', 'stuff', 'stuffed', 'stuffing', 'stuffy', 'stumble', 'stumbled', 'stumbling', 'stump', 'stumpinghame', 'stumps', 'stumpy', 'stung', 'stunned', 'stunning', 'stunted', 'stupefied', 'stupefy', 'stupendous', 'stupid', 'stupidest', 'stupidity', 'sturdily', 'sturdy', 'sturgeon', 'stutter', 'stuttering', 'sty', 'style', 'styled', 'styles', 'stylus', 'styptic', 'su', 'sub', 'subatomic', 'subcloned', 'subconsciously', 'subcontinent', 'subcultures', 'subdivided', 'subdividing', 'subdivisions', 'subdomains', 'subduction', 'subdued', 'subetherics', 'subfield', 'subfields', 'subgenre', 'subgroups', 'subject', 'subjected', 'subjection', 'subjective', 'subjects', 'subjugated', 'subjugation', 'sublimation', 'sublime', 'sublimely', 'submarine', 'submarines', 'submerged', 'submissive', 'submit', 'submitted', 'submitting', 'subnational', 'subnet', 'subordinate', 'subordination', 'suboxide', 'subscribe', 'subscribed', 'subscribers', 'subscription', 'subsections', 'subsequent', 'subsequently', 'subset', 'subside', 'subsided', 'subsidence', 'subsiding', 'subsist', 'subsisted', 'subsistence', 'subspecies', 'substance', 'substances', 'substantial', 'substantially', 'substantials', 'substantive', 'substitute', 'substitutes', 'substituting', 'substitution', 'substrate', 'substrates', 'substratum', 'subtends', 'subterfuges', 'subterranean', 'subtle', 'subtlety', 'subtly', 'subtracted', 'subtraction', 'subtropical', 'suburb', 'subways', 'succeed', 'succeeded', 'succeeding', 'succeeds', 'success', 'successes', 'successful', 'successfully', 'succession', 'successive', 'successor', 'succinct', 'succumbed', 'such', 'suck', 'sucked', 'sucking', 'sucrose', 'suction', 'sudan', 'sudd', 'sudden', 'suddenly', 'suddenness', 'sue', 'suffer', 'suffered', 'sufferer', 'sufferers', 'suffering', 'sufferings', 'suffers', 'suffice', 'sufficed', 'suffices', 'sufficiency', 'sufficient', 'sufficiently', 'suffocated', 'suffocating', 'suffolk', 'suffrage', 'suffragette', 'sugar', 'sugarcane', 'sugarplums', 'sugars', 'sugary', 'suggest', 'suggested', 'suggesting', 'suggestion', 'suggestions', 'suggestive', 'suggests', 'suicide', 'suit', 'suitability', 'suitable', 'suitcase', 'suite', 'suited', 'suites', 'suits', 'suleiman', 'sulfide', 'sulfur', 'sulgas', 'sulk', 'sulky', 'sullivan', 'sully', 'sulphate', 'sulphates', 'sulphide', 'sulphides', 'sulphite', 'sulphur', 'sulphureted', 'sulphuric', 'sulphurous', 'sultan', 'sultanate', 'sultry', 'sum', 'sumac', 'sumatran', 'sumer', 'sumerian', 'sumerians', 'sumero', 'summarize', 'summary', 'summed', 'summer', 'summerhouse', 'summers', 'summertime', 'summit', 'summits', 'summon', 'summoned', 'summoning', 'sumner', 'sumptuous', 'sums', 'sumter', 'sun', \"sun's\", 'sunbeam', 'sunbeams', 'sunbird', 'sunbirds', 'sunburn', 'sunday', 'sundays', 'sundial', 'sundials', 'sundry', 'sunflowers', 'sung', 'sunk', 'sunken', 'sunland', 'sunlight', 'sunlit', 'sunning', 'sunny', 'sunrise', 'suns', 'sunset', 'sunshade', 'sunshine', 'sunshiny', 'sup', 'super', 'superb', 'superbugs', 'superclusters', 'superficial', 'superficies', 'superfluities', 'superfluity', 'superfluous', 'supergiants', 'superheated', 'superhero', 'superheroes', 'superintendent', 'superior', 'superiority', 'superiors', 'superlative', 'supermarkets', 'supermassive', 'supernatural', 'supernaturally', 'supernova', 'supernovae', 'superposed', 'superpower', 'superpowers', 'superseded', 'superseding', 'supersonic', 'supersonically', 'superstition', 'superstitious', 'superstorm', 'superstructure', 'supervise', 'supervision', 'supervisor', 'superwasp', 'supper', 'supplanted', 'supple', 'supplement', 'supplementary', 'supplemented', 'supplicating', 'supplied', 'supplier', 'suppliers', 'supplies', 'supply', 'supplying', 'support', 'supported', 'supporting', 'supports', 'suppose', 'supposed', 'supposedly', 'supposing', 'suppress', 'suppressed', 'suppressing', 'suppressor', 'suppressors', 'supramolecular', 'supremacy', 'supreme', 'supremely', 'sure', 'surely', 'surest', 'surf', 'surface', 'surfaces', 'surfeit', 'surfeited', 'surfer', 'surge', 'surgeon', 'surgeons', 'surgeries', 'surgery', 'surgical', 'surging', 'surly', 'surmised', 'surmount', 'surmounted', 'surmounting', 'surname', 'surnames', 'surpass', 'surpassed', 'surpasses', 'surplus', 'surprise', 'surprised', 'surprises', 'surprising', 'surprisingly', 'surrender', 'surrendered', 'surreptitious', 'surround', 'surrounded', 'surrounding', 'surroundings', 'surrounds', 'surveillance', 'surveyed', 'surveyor', 'survival', 'survive', 'survived', 'survives', 'surviving', 'survivor', 'survivors', 'susan', 'susie', 'suspect', 'suspected', 'suspects', 'suspended', 'suspending', 'suspense', 'suspicion', 'suspicions', 'suspicious', 'suspiciously', 'sussex', 'sustain', 'sustainable', 'sustained', 'sustaining', 'sustenance', 'susurrus', 'susy', 'sutters', 'sutton', 'suzanne', 'svadilfare', 'svante', 'sven', 'sventramento', 'swagger', 'swain', 'swallow', 'swallowed', 'swallowing', 'swallows', 'swallowtail', 'swam', 'swamp', 'swamps', 'swan', 'swans', 'swansea', 'swaps', 'swarm', 'swarmed', 'swarming', 'swarnadwip', 'swashbuckling', 'swat', 'swatting', 'sway', 'swayed', 'swaying', 'swaziland', 'swear', 'swearing', 'sweat', 'sweaters', 'sweating', 'sweaty', 'sweden', 'swedish', 'sweep', 'sweepers', 'sweeping', 'sweeps', 'sweet', 'sweetened', 'sweeteners', 'sweeter', 'sweetest', 'sweetheart', 'sweetlips', 'sweetly', 'sweetmeat', 'sweetness', 'sweets', 'swell', 'swelled', 'swelling', 'swells', 'swelterings', 'swept', 'swerve', 'swerved', 'swift', 'swiftest', 'swiftly', 'swiftness', 'swim', 'swimmers', 'swimming', 'swims', 'swing', 'swinging', 'swirl', 'swirling', 'swish', 'swiss', 'switch', 'switchboards', 'switched', 'switches', 'switching', 'switzerland', 'swivel', 'swollen', 'swoop', 'sword', 'swords', 'swordsman', 'swore', 'sworn', 'swung', 'sycamores', 'sycorax', 'sydenham', 'syllabic', 'syllable', 'sylvestre', 'symbioses', 'symbiosis', 'symbol', 'symbolic', 'symbolized', 'symbolizes', 'symbols', 'symmetry', 'sympathetic', 'sympathies', 'sympathized', 'sympathy', 'symptom', 'symptoms', 'synagogue', 'synchronize', 'synchronous', 'syndrome', 'syngman', 'synonym', 'synonymous', 'synonymously', 'synonyms', 'synopsis', 'synoptic', 'synronin', 'synth', 'synthase', 'synthesizer', 'synthesizers', 'synthetically', 'syphilis', 'syria', 'syrian', 'syrie', 'syringa', 'syringe', 'syringes', 'syrup', 'syrups', 'system', 'systematic', 'systematically', 'systems', 'syzygy', 'szedvilas', 't', 'ta', 'tabbies', 'tabby', 'table', 'tableau', 'tableaux', 'tablecloth', 'tables', 'tablets', 'tabor', 'tabular', 'tabulated', 'tachycardia', 'tack', 'tacked', 'tackle', 'tackled', 'tackles', 'tacks', 'tacoma', 'tact', 'tactic', 'tactical', 'tactics', 'tadpole', 'tadpoles', 'tagged', 'tagging', 'tags', 'tahiti', 'tai', 'tail', 'tailed', 'tailor', 'tailored', 'tailoring', 'tails', 'take', 'taken', 'takes', 'taking', 'talbot', 'talbots', 'tale', 'talent', 'talented', 'talents', 'tales', 'talisman', 'talk', 'talkative', 'talked', 'talkers', 'talking', 'talks', 'tall', 'talland', 'taller', 'tallest', 'tallow', 'tallowed', 'tally', 'talmadge', 'tam', 'tame', 'tamed', 'tamer', 'tames', 'tamil', 'tampered', 'tan', 'tandem', 'tang', 'tangent', 'tangents', 'tangerine', 'tangible', 'tangier', 'tangle', 'tangled', 'tangles', 'tanis', 'tank', 'tankage', 'tankards', 'tanks', 'tanned', 'tanner', 'tannery', 'tannin', 'tanning', 'tantamount', 'tantrums', 'tanya', 'tap', 'tape', 'taper', 'tapering', 'tapers', 'tapestries', 'tapirs', 'tapped', 'tapping', 'tar', 'taraba', 'tarantulas', 'tardiness', 'target', 'targeted', 'targeting', 'targets', 'tariff', 'tariffs', 'tarik', 'tarnkappe', 'tarnow', 'tarred', 'tars', 'tartans', 'tartar', 'tartly', 'task', 'tasked', 'tasks', 'tassel', 'tassels', 'taste', 'tasted', 'tasteless', 'tastes', 'tasting', 'tasty', 'tata', 'tattered', 'tattooed', 'tau', 'taught', 'taunted', 'taureau', 'taut', 'tavern', 'taverns', 'tavia', 'tax', 'taxa', 'taxation', 'taxed', 'taxes', 'taxi', 'taxon', 'taxonomy', 'taylor', 'tayoga', 'tb', 'tbi', 'tbis', 'tcp', 'tea', 'teach', 'teacher', 'teachers', 'teaches', 'teaching', 'teachings', 'teak', 'team', 'teams', 'tear', 'tearful', 'tearing', 'tears', 'teas', 'tease', 'teased', 'teasing', 'teaspoonful', 'teat', 'teats', 'technical', 'technically', 'technicians', 'technique', 'techniques', 'technological', 'technologies', 'technology', 'tectonic', 'tectonics', 'ted', 'teddikins', 'teddy', 'tedious', 'teenager', 'teenagers', 'teens', 'teepees', 'teeth', 'teff', 'tega', 'tegumai', 'tegumais', 'tele', 'telecast', 'telecommunications', 'telegram', 'telegrams', 'telegraph', 'telegraphic', 'telepathy', 'telephone', 'telephoned', 'telephones', 'telephonic', 'telephony', 'telescope', 'telescopes', 'telescopic', 'television', 'televisions', 'tell', 'teller', 'telling', 'tells', 'tellson', 'telly', 'telophase', 'tem', 'temblor', 'temper', 'temperament', 'temperamental', 'temperance', 'temperate', 'temperature', 'temperatures', 'tempered', 'tempering', 'tempest', 'tempests', 'tempestuous', 'template', 'temple', 'temples', 'templeton', 'tempo', 'temporal', 'temporarily', 'temporary', 'temporoparietal', 'tempt', 'temptation', 'temptations', 'tempted', 'temu', 'ten', 'tenacity', 'tenant', 'tend', 'tended', 'tendency', 'tender', 'tenderest', 'tenderheart', 'tenderly', 'tenderness', 'tending', 'tendons', 'tends', 'tenfold', 'tennessee', 'tennis', 'tenor', 'tens', 'tense', 'tension', 'tent', 'tentacles', 'tentatively', 'tenth', 'tents', 'tenue', 'tenure', 'terabyte', 'terabytes', 'terbacker', 'terdjumani', 'terfa', 'term', 'termed', 'terminal', 'terminals', 'terminate', 'terminated', 'terminating', 'termination', 'terminator', 'terminology', 'terminus', 'termite', 'termites', 'termo', 'terms', 'terra', 'terrace', 'terraces', 'terracotta', 'terrestrial', 'terrible', 'terribly', 'terrier', 'terrific', 'terrified', 'terrifying', 'terrifyingly', 'territorial', 'territories', 'territory', 'terror', 'terrorism', 'terrorist', 'terrors', 'terrrestrial', 'terry', 'test', 'testable', 'testament', 'tested', 'testifies', 'testify', 'testimony', 'testiness', 'testing', 'testosterone', 'tests', 'tete', 'tether', 'tethered', 'tethys', 'teton', 'teutonic', 'texan', 'texans', 'texas', 'text', 'textbook', 'textbooks', 'textile', 'textiles', 'texts', 'texture', 'th', 'thabo', 'thackeray', 'thak', 'thalaba', 'thallium', 'thames', 'than', 'thank', 'thanked', 'thankful', 'thankfully', 'thanks', 'thanksgivin', 'thanksgiving', 'thanksgivingy', 'that', 'thatch', 'thatched', 'thaw', 'the', 'theater', 'theaters', 'theatre', 'theatres', 'theatrical', 'thee', 'theft', 'theia', 'their', 'theirs', 'thel', 'them', 'theme', 'themes', 'themselves', 'then', 'thence', 'thenceforth', 'theodore', 'theodoric', 'theologians', 'theological', 'theology', 'theoretical', 'theories', 'theorized', 'theory', 'therapeutics', 'therapy', 'there', 'thereafter', 'thereby', 'therefore', 'therefrom', 'therein', 'thereof', 'theresa', 'thereto', 'thereunto', 'thereupon', 'thermal', 'thermidor', 'thermo', 'thermocouple', 'thermodynamics', 'thermometer', 'thermometers', 'thermopylae', 'thermos', 'thermosphere', 'these', 'theseus', 'thesis', 'thespian', 'thespians', 'thespis', 'they', 'thick', 'thicken', 'thickening', 'thickens', 'thicker', 'thickest', 'thicket', 'thickets', 'thickly', 'thickness', 'thicknesses', 'thief', 'thigh', 'thighs', 'thin', 'thing', 'things', 'think', 'thinkable', 'thinkers', 'thinking', 'thinks', 'thinly', 'thinner', 'thinning', 'third', 'thirdly', 'thirds', 'thirsey', 'thirst', 'thirsting', 'thirsty', 'thirteen', 'thirteenth', 'thirty', 'this', 'thistle', 'thistledown', 'thistles', 'thither', 'thoko', 'thomas', 'thomsen', 'thor', 'thorbiorn', 'thorn', 'thorns', 'thornthwaite', 'thorny', 'thorough', 'thoroughfares', 'thoroughly', 'thoroughness', 'thorstein', 'those', 'thoth', 'thou', 'though', 'thought', 'thoughtful', 'thoughtfully', 'thoughtless', 'thoughtlessness', 'thoughts', 'thousand', 'thousands', 'thrace', 'thrashed', 'thread', 'threadbare', 'threaded', 'threading', 'threadlike', 'threads', 'threat', 'threaten', 'threatened', 'threatening', 'threatens', 'threats', 'three', 'threepences', 'threes', 'threshold', 'threw', 'thrice', 'thrift', 'thrifty', 'thrill', 'thrilling', 'thrills', 'thrive', 'thrives', 'thriving', 'throat', 'throats', 'throbbed', 'throbbing', 'thrombocytes', 'throne', 'thrones', 'thronged', 'throning', 'through', 'throughout', 'throughput', 'throve', 'throw', 'throwing', 'thrown', 'throws', 'thrush', 'thrust', 'thrusting', 'thrusts', 'thud', 'thumb', 'thumbelina', 'thumbling', 'thumbs', 'thump', 'thumping', 'thunder', 'thunderclap', 'thundered', 'thundering', 'thunderstorm', 'thunderstorms', 'thursday', 'thurston', 'thus', 'thwart', 'thwarted', 'thwarts', 'thy', 'thymine', 'thyself', 'tick', 'ticked', 'ticket', 'ticketholder', 'tickets', 'ticking', 'tickle', 'tickled', 'ticks', 'tidal', 'tide', 'tides', 'tidings', 'tidy', 'tie', 'tiebe', 'tied', 'tiered', 'ties', 'tiger', 'tigers', 'tight', 'tighten', 'tightened', 'tightening', 'tighter', 'tightly', 'tights', 'tigre', 'tigris', 'tiled', 'tiles', 'till', 'tillage', 'tilled', 'tiller', 'tilling', 'tilt', 'tilted', 'tilter', 'tilting', 'tilts', 'tim', 'timber', 'timbered', 'timbers', 'time', 'timed', 'timekeeping', 'timepiece', 'times', 'timid', 'timidly', 'timothy', 'tin', 'tinctoria', 'tinctured', 'ting', 'tinge', 'tinged', 'tingeing', 'tingled', 'tiniest', 'tinker', 'tinkling', 'tinned', 'tinny', 'tins', 'tinsel', 'tint', 'tinted', 'tinting', 'tints', 'tinville', 'tiny', 'tip', 'tipped', 'tippets', 'tips', 'tiptoe', 'tiptoed', 'tiptoes', 'tipton', 'tiptop', 'tirah', 'tired', 'tireless', 'tires', 'tiresome', 'tisane', 'tissue', 'tissues', 'tisza', 'titan', 'titanic', 'titbottom', 'title', 'tittens', 'tituba', 'titular', 'titus', 'tjoeke', 'tlds', 'to', 'toad', 'toadies', 'toads', 'toast', 'toasting', 'tobacco', 'toboggan', 'tobogganing', 'toby', 'tock', 'today', 'todd', 'toddled', 'toddling', 'toe', 'toes', 'toga', 'together', 'togetherness', 'toil', 'toiled', 'toiler', 'toilers', 'toilet', 'toilettes', 'toiling', 'toils', 'toit', 'token', 'tokens', 'tokyo', 'told', 'toledo', 'tolerable', 'tolerably', 'tolerant', 'tolerate', 'toleration', 'tolman', 'toluene', 'tom', 'tomato', 'tomatoes', 'tomb', 'tomba', 'tombs', 'tomkins', 'tommy', 'tomography', 'tomorrow', 'ton', 'tonalite', 'tone', 'toned', 'tones', 'tongs', 'tongue', 'tongues', 'tonight', 'tonkine', 'tonneau', 'tons', 'tonsillitis', 'tony', 'too', 'took', 'tool', 'tools', 'toot', 'tooth', 'toothache', 'toothed', 'toothless', 'toothsome', 'tooty', 'top', 'topaz', 'topeka', 'topic', 'topical', 'topics', 'topliff', 'topmast', 'topmost', 'topographic', 'topography', 'topologies', 'topology', 'topped', 'topping', 'tops', 'topsail', 'topsoil', 'torah', 'torch', 'torches', 'torchlight', 'tore', 'tories', 'torment', 'tormented', 'tormenting', 'tormentors', 'torments', 'torn', 'tornado', 'tornadoes', 'torpedo', 'torpedoed', 'torpedoes', 'torpid', 'torque', 'torquemada', 'torrent', 'torrents', 'tortillas', 'tortoise', 'torvalds', 'tory', 'tos', 'toss', 'tossed', 'tossing', 'total', 'totalitarian', 'totalitarianism', 'totally', 'totalstaat', 'tote', 'totem', 'toto', 'tottered', 'touch', 'touched', 'touches', 'touching', 'touchscreen', 'tough', 'tougher', 'toughest', 'toulouse', 'tour', 'tournament', 'tournaments', 'tours', 'tow', 'toward', 'towards', 'towed', 'towel', 'towels', 'tower', 'towered', 'towering', 'towers', 'town', 'towns', 'townsfolk', 'townships', 'townspeople', 'tox', 'toxic', 'toxins', 'toy', 'toyota', 'toys', 'tpr', 'trace', 'traced', 'tracery', 'traces', 'trachea', 'tracing', 'track', 'tracked', 'trackless', 'tracks', 'tract', 'tractable', 'tracts', 'trade', 'traded', 'trademark', 'trademarked', 'trademarks', 'tradeoff', 'trader', 'trades', 'tradesman', 'tradesmen', 'tradespeople', 'trading', 'tradition', 'traditional', 'traditionally', 'traditions', 'traffic', 'trafficking', 'tragedies', 'tragedy', 'tragic', 'trahovo', 'trail', 'trailblazer', 'trailed', 'trailing', 'trails', 'train', 'trained', 'trainier', 'training', 'trains', 'traitor', 'traitors', 'traits', 'trajectory', 'tramp', 'tramped', 'trampled', 'tranquil', 'tranquillity', 'tranquilly', 'trans', 'transact', 'transactions', 'transcended', 'transcends', 'transcontinental', 'transcribed', 'transcriber', 'transcript', 'transdiagnostic', 'transducer', 'transfection', 'transfer', 'transference', 'transferred', 'transferring', 'transfers', 'transfiguration', 'transfixed', 'transflective', 'transform', 'transformation', 'transformations', 'transformed', 'transformer', 'transgress', 'transgressed', 'transient', 'transistor', 'transistors', 'transit', 'transition', 'transitional', 'transitory', 'transits', 'translate', 'translated', 'translates', 'translating', 'translation', 'translational', 'translations', 'translucent', 'transmigrated', 'transmigration', 'transmission', 'transmit', 'transmits', 'transmitted', 'transmitter', 'transmitting', 'transonic', 'transparency', 'transparent', 'transpires', 'transpiring', 'transplant', 'transplantation', 'transplanted', 'transplanting', 'transport', 'transportation', 'transported', 'transports', 'transvaal', 'transverse', 'transversely', 'trap', 'trapeze', 'trapped', 'trapper', 'trapping', 'traps', 'trash', 'trashy', 'trauma', 'traumatic', 'traun', 'travailleur', 'travel', 'traveled', 'traveler', 'travelers', 'traveling', 'travelled', 'traveller', 'travellers', 'travelling', 'travels', 'traverse', 'traversed', 'traverses', 'traversing', 'tray', 'treacherous', 'treachery', 'tread', 'treading', 'treadle', 'treason', 'treasure', 'treasures', 'treasury', 'treat', 'treated', 'treaties', 'treating', 'treatise', 'treatises', 'treatment', 'treatments', 'treats', 'treaty', 'trebinje', 'treble', 'tree', 'trees', 'treisman', 'trek', 'treknet', 'trellis', 'tremble', 'trembled', 'trembles', 'trembling', 'tremendous', 'tremendously', 'tremor', 'trench', 'trenchard', 'trenchers', 'trenches', 'trend', 'trending', 'trends', 'trent', 'tresca', 'trespass', 'tresses', 'trevor', 'trexa', 'tri', 'trial', 'trials', 'triangle', 'triangles', 'triangular', 'triangulum', 'tribal', 'tribe', 'tribes', 'triboelectric', 'tribune', 'tribunes', 'tributaries', 'tributary', 'tribute', 'trice', 'trichromatic', 'trick', 'trickery', 'trickle', 'trickles', 'trickling', 'tricks', 'tricky', 'tricycle', 'tried', 'tries', 'trieste', 'trifasciata', 'trifle', 'trifles', 'trifling', 'trigeminal', 'trigger', 'triggers', 'trillion', 'trills', 'trim', 'trimethylamine', 'trimetrical', 'trimmed', 'trimming', 'trimmings', 'trims', 'trinitario', 'trinity', 'trinkets', 'trio', 'trip', 'triple', 'triplets', 'tripod', 'tripp', 'tripped', 'tripping', 'trips', 'trit', 'trite', 'triumph', 'triumphal', 'triumphant', 'triumphantly', 'triumphs', 'trivial', 'trodden', 'troezene', 'trofimovitch', 'troglodytic', 'trojan', 'trojans', 'trolley', 'tromp', 'troop', 'trooped', 'trooper', 'trooping', 'troops', 'troopships', 'trope', 'tropic', 'tropical', 'tropics', 'trot', 'trots', 'trotted', 'trotter', 'trotting', 'trouble', 'troubled', 'troubles', 'troublesome', 'troublesomely', 'troubling', 'trough', 'troughs', 'troup', 'trousers', 'trout', 'troy', 'troyes', 'truce', 'truck', 'trucks', 'trudge', 'trudged', 'trudging', 'true', 'truer', 'truest', 'truey', 'truly', 'truman', 'trumpet', 'trumpeted', 'trumpetfish', 'trumpets', 'truncheon', 'trunk', 'trunks', 'trussed', 'trussing', 'trust', 'trusted', 'trustees', 'trustful', 'trusting', 'trustworthiness', 'trustworthy', 'trusty', 'truth', 'truthful', 'truthfulness', 'truths', 'try', 'trying', 'ts', 'tsar', 'tselane', 'tuatara', 'tub', 'tubbs', 'tube', 'tubercles', 'tuberculosis', 'tubers', 'tubes', 'tubing', 'tubs', 'tuck', 'tucked', 'tucker', 'tuckers', 'tudor', 'tudy', 'tuesday', 'tuft', 'tufted', 'tufts', 'tufty', 'tuhm', 'tuileries', 'tulip', 'tullabeg', 'tulle', 'tulles', 'tumble', 'tumbled', 'tumbledown', 'tumblers', 'tumbling', 'tummies', 'tummy', 'tuna', 'tundra', 'tune', 'tuneful', 'tunes', 'tunic', 'tunicates', 'tunics', 'tunison', 'tunnel', 'tunneling', 'tunnels', 'tunstall', 'turban', 'turbine', 'turbines', 'turbulent', 'turf', 'turk', 'turkey', 'turkeys', 'turkish', 'turks', 'turmoil', 'turn', 'turned', 'turning', 'turnip', 'turnips', 'turnover', 'turnpike', 'turns', 'turpentine', 'turpin', 'turquoise', 'turquoises', 'turret', 'turtle', 'turtles', 'tuscumbia', 'tush', 'tusks', 'tutor', 'tutored', 'tuvaches', 'tv', 'tvs', 'twain', 'tweaked', 'tweet', 'twelfth', 'twelve', 'twelvemonth', 'twenties', 'twentieth', 'twentieths', 'twenty', 'twice', 'twiddle', 'twiddling', 'twig', 'twigs', 'twilight', 'twiller', 'twin', 'twine', 'twinkle', 'twinkled', 'twinkling', 'twins', 'twirl', 'twirled', 'twirls', 'twist', 'twisted', 'twister', 'twisting', 'twists', 'twitter', 'twittered', 'twittering', 'two', 'twofold', 'twopenny', 'twos', 'twoscore', 'twum', 'tycho', 'tying', 'tyndall', 'tyndrum', 'type', 'typed', 'types', 'typewriter', 'typewriting', 'typical', 'typically', 'typifies', 'typographer', 'tyrannical', 'tyranny', 'tyranos', 'tyrant', 'tyrol', 'u', 'ubbe', 'uber', 'ubiquitin', 'ubuntu', 'uc', 'udder', 'udi', 'udoo', 'ugali', 'uganda', 'ugaritic', 'ugc', 'ugh', 'ugliest', 'ugly', 'uh', 'uhlans', 'uk', 'ulster', 'ultimately', 'ultra', 'ultrasonic', 'ultrasound', 'ultrasounds', 'ultraviolet', 'ulysses', 'um', 'umberto', 'umbrella', 'umbrellas', 'umney', 'umpire', 'umtata', 'un', 'una', 'unabashed', 'unable', 'unaccompanied', 'unaccountable', 'unaccountably', 'unaccustomed', 'unacquainted', 'unadulterated', 'unaffected', 'unaltered', 'unanimous', 'unanimously', 'unanswered', 'unassuming', 'unatis', 'unattainable', 'unattended', 'unattractive', 'unavailable', 'unavoidable', 'unaware', 'unawares', 'unbearable', 'unbeatable', 'unbeautiful', 'unbelief', 'unbelievable', 'unbelieveably', 'unbeliever', 'unbends', 'unborn', 'unbroken', 'unbrokenly', 'unbuckled', 'unbuttoned', 'uncanny', 'unceasing', 'uncertain', 'uncertainly', 'uncertainties', 'uncertainty', 'unchanged', 'unchanging', 'uncle', 'unclean', 'uncleanly', 'unclear', 'uncles', 'unclouded', 'uncoating', 'uncoiled', 'uncomfortable', 'uncomfortably', 'uncommon', 'uncompressed', 'unconditional', 'uncongenial', 'unconscious', 'unconsciously', 'uncontrollable', 'uncontrollably', 'uncontrolled', 'unconvincing', 'uncorked', 'uncorrupted', 'uncouth', 'uncover', 'uncovered', 'uncovering', 'uncrystallizable', 'uncurled', 'undaunted', 'undecided', 'under', 'underbrush', 'undercover', 'undercuts', 'underestimate', 'underfoot', 'undergo', 'undergoes', 'undergoing', 'undergone', 'undergraduate', 'underground', 'undergrowth', 'underlain', 'underlying', 'undermine', 'underneath', 'underpinned', 'underpins', 'undersea', 'undersides', 'undersized', 'understand', 'understandable', 'understanding', 'understands', 'understood', 'undertake', 'undertaken', 'undertaker', 'undertaking', 'undertook', 'underwater', 'underway', 'underwear', 'underwood', 'underworld', 'undesirable', 'undesired', 'undetermined', 'undeviating', 'undid', 'undine', 'undisciplined', 'undisturbed', 'undivided', 'undo', 'undone', 'undoubted', 'undoubtedly', 'undressed', 'undue', 'undulating', 'undulation', 'undulatory', 'unduly', 'unearthly', 'uneasiness', 'uneasy', 'uneducated', 'unemployable', 'unemployed', 'unemployment', 'unending', 'unenterprising', 'unequal', 'uneven', 'unevenly', 'unexceptionable', 'unexpected', 'unexpectedly', 'unexplained', 'unexplored', 'unfailing', 'unfair', 'unfairly', 'unfaithful', 'unfamiliar', 'unfamiliarity', 'unfashionable', 'unfastened', 'unfastening', 'unfathomable', 'unfavorable', 'unfeasible', 'unfenced', 'unfinished', 'unfit', 'unflinching', 'unfold', 'unfolded', 'unforeseen', 'unfortunate', 'unfortunately', 'unfounded', 'unfriendliness', 'unfriendly', 'ungainly', 'ungodly', 'ungrateful', 'unhandsome', 'unhappily', 'unhappy', 'unharmed', 'unhealthy', 'unheard', 'unheeded', 'unhelpful', 'unhewed', 'unhooked', 'unhoped', 'unicellular', 'unidentified', 'unification', 'uniflora', 'uniform', 'uniformity', 'uniformly', 'uniforms', 'unifs', 'unify', 'unifying', 'unilaterally', 'unimaginable', 'unimpaired', 'unimportant', 'uninhabitable', 'uninhabited', 'unintelligible', 'unintentional', 'uninteresting', 'uninterrupted', 'uninterruptedly', 'union', 'unique', 'uniquely', 'unison', 'unit', 'unite', 'united', 'uniting', 'units', 'unity', 'universal', 'universalism', 'universality', 'universally', 'universe', 'universities', 'university', 'unix', 'unjust', 'unjustly', 'unkindly', 'unknown', 'unlawful', 'unleashes', 'unless', 'unlike', 'unlikely', 'unlimited', 'unload', 'unlock', 'unlocked', 'unlocking', 'unlucky', 'unmanageable', 'unmanning', 'unmatured', 'unmentioned', 'unmindful', 'unmistakable', 'unmixed', 'unmolested', 'unmoved', 'unnatural', 'unnecessary', 'unnoticed', 'unobtrusively', 'unoccupied', 'unpacked', 'unparalleled', 'unpicturesque', 'unpleasant', 'unpleasantness', 'unplowed', 'unpluck', 'unpopular', 'unprecedented', 'unprecedently', 'unpredictable', 'unprejudiced', 'unproductive', 'unprovided', 'unprovoked', 'unpruned', 'unqualifiable', 'unquestioned', 'unraveled', 'unreactive', 'unread', 'unreasonable', 'unrelated', 'unreliable', 'unrepaired', 'unrepeated', 'unrest', 'unresting', 'unrestrained', 'unrestricted', 'unrivalled', 'unrolled', 'unruly', 'unsafe', 'unsaid', 'unsaponifiable', 'unsatisfactory', 'unscientific', 'unscrewed', 'unscrupulous', 'unseasoned', 'unseen', 'unselfish', 'unselfishness', 'unsettled', 'unshuttered', 'unsoiled', 'unsolvable', 'unsolved', 'unsophisticated', 'unsought', 'unspeakably', 'unspecified', 'unstable', 'unsteady', 'unstoppable', 'unstructured', 'unsuccessful', 'unsuccessfully', 'unsuitable', 'unsuited', 'unsure', 'unsuspectingly', 'unsuspicious', 'untasted', 'untempted', 'unthinkable', 'untidy', 'untied', 'until', 'unto', 'untold', 'untouched', 'untoward', 'untrammeled', 'untranslated', 'untrodden', 'unusable', 'unused', 'unusual', 'unusually', 'unvarying', 'unwanted', 'unwarrantable', 'unwatched', 'unwavering', 'unwearied', 'unwell', 'unwieldiness', 'unwilling', 'unwillingness', 'unwise', 'unwittingly', 'unwonted', 'unworthy', 'unwound', 'unwritable', 'unwritten', 'unyalego', 'unyielding', 'up', 'upbringing', 'upcoming', 'update', 'updated', 'updates', 'updating', 'upgraded', 'upheaven', 'upheld', 'uphill', 'uphold', 'upholds', 'uplands', 'uplifted', 'upon', 'upper', 'upperclass', 'upperworks', 'upping', 'upright', 'uprising', 'uproar', 'ups', 'upset', 'upside', 'upspringing', 'upstairs', 'upstart', 'upstream', 'upthrust', 'upturned', 'upward', 'upwards', 'uracil', 'uranium', 'uranus', 'urartian', 'urban', 'urbanization', 'urbino', 'urea', 'urge', 'urged', 'urgell', 'urgent', 'urgently', 'urging', 'uric', 'urinary', 'urine', 'urnfield', 'urrea', 'urrp', 'ursa', 'urse', 'uruk', 'us', 'usa', 'usable', 'usage', 'usages', 'usb', 'use', 'used', 'useful', 'useless', 'uselessness', 'user', 'users', 'uses', 'usher', 'ushered', 'using', 'ussr', 'usual', 'usually', 'usurpation', 'usurpations', 'usurped', 'usurps', 'utah', 'utensils', 'utilitarians', 'utilities', 'utility', 'utilization', 'utilize', 'utilized', 'utilizes', 'utilizing', 'utmost', 'utter', 'utterance', 'utterances', 'uttered', 'uttering', 'utterly', 'uttermost', 'utterson', 'uv', 'v', 'va', 'vaal', 'vacancy', 'vacant', 'vacated', 'vacation', 'vacca', 'vaccin', 'vaccinae', 'vaccination', 'vaccine', 'vaccines', 'vache', 'vacuum', 'vagabond', 'vagina', 'vagrants', 'vague', 'vaguest', 'vagus', 'vain', 'vaingloriously', 'val', 'valence', 'valentia', 'valentin', 'valentine', 'valerien', 'valet', 'valiant', 'valid', 'validity', 'valise', 'valley', 'valleys', 'vallins', 'valmonde', 'valona', 'valor', 'valparaiso', 'valuable', 'valuarble', 'value', 'valued', 'valueless', 'values', 'valve', 'valves', 'van', 'vancouver', 'vandefan', 'vane', 'vanilla', 'vanilline', 'vanish', 'vanished', 'vanishes', 'vanities', 'vanity', 'vantage', 'vaping', 'vapoor', 'vapor', 'vaporization', 'vapors', 'vapour', 'vapours', 'vaqueros', 'varga', 'varia', 'variability', 'variable', 'variables', 'variance', 'variants', 'variation', 'variations', 'varied', 'variegated', 'varies', 'varieties', 'variety', 'variolae', 'various', 'variously', 'varnish', 'varnished', 'varnishes', 'varvara', 'vary', 'varying', 'vasculature', 'vases', 'vashti', 'vassal', 'vassalage', 'vassals', 'vast', 'vastly', 'vastness', 'vasya', 'vatare', 'vatican', 'vault', 'vaulted', 'vcd', 'vcrs', 'vector', 'vectors', 'vedder', 'veered', 'vegetable', 'vegetables', 'vegetarian', 'vegetation', 'vehemently', 'vehicle', 'vehicles', 'vehicular', 'veil', 'veiled', 'veils', 'vein', 'veined', 'veins', 'veit', 'veitch', 'vellum', 'velly', 'velocipede', 'velocities', 'velocity', 'velvet', 'velveteen', 'velvety', 'vender', 'vendor', 'vendors', 'veneer', 'venerable', 'venetian', 'venezuela', 'vengeance', 'vengeful', 'venice', 'venison', 'venizelos', 'venomous', 'venous', 'vent', 'ventilation', 'ventilator', 'ventilatory', 'ventricles', 'ventricular', 'vents', 'venture', 'ventured', 'ventures', 'venus', 'venusian', 'vera', 'veracity', 'veragua', 'veranda', 'verandah', 'verandas', 'verb', 'verbal', 'verboeckhoven', 'verbosely', 'verbs', 'verdi', 'verdict', 'verdun', 'verdure', 'verge', 'verger', 'verified', 'verify', 'veritable', 'verloc', 'vermin', 'vermont', 'vernon', 'versa', 'versailles', 'versatile', 'versatility', 'verse', 'verses', 'version', 'versions', 'versta', 'vertebrates', 'vertical', 'vertically', 'vertices', 'vertryck', 'very', 'vesale', 'vespasian', 'vessel', 'vessels', 'vest', 'vestibular', 'vestibule', 'vestige', 'vests', 'veterans', 'veterinary', 'vevay', 'vexation', 'vexed', 'vexing', 'vfr', 'vga', 'vi', 'via', 'vibrate', 'vibrated', 'vibrates', 'vibrating', 'vibrations', 'vibriones', 'vicar', 'vice', 'vices', 'vichy', 'vicinity', 'vicious', 'vicissitudes', 'victim', 'victims', 'victor', 'victoria', 'victorian', 'victories', 'victorious', 'victoriously', 'victory', 'victuals', 'vid', 'video', 'videos', 'videotape', 'vienna', 'vienne', 'view', 'viewed', 'viewers', 'viewing', 'viewpoint', 'viewpoints', 'views', 'vigilance', 'vigilant', 'vignette', 'vignetting', 'vigor', 'vigorous', 'vigorously', 'vii', 'viii', 'villa', 'village', 'villagers', 'villages', 'villains', 'villas', 'vin', 'vincent', 'vindalium', 'vindicate', 'vindication', 'vine', 'vinegar', 'vines', 'vineyards', 'vingt', 'viniculture', 'vint', 'vintage', 'vinyl', 'viol', 'viola', 'violated', 'violates', 'violation', 'violations', 'violence', 'violent', 'violently', 'violet', 'violets', 'violin', 'violinist', 'viral', 'virchow', 'virgil', 'virgin', 'virginia', 'virginian', 'virion', 'virtual', 'virtualization', 'virtually', 'virtue', 'virtues', 'virtuoso', 'virtuous', 'virulence', 'virus', 'viruses', 'visage', 'visaged', 'viscosity', 'viscous', 'viscum', 'vised', 'visibility', 'visible', 'vision', 'visions', 'visit', 'visited', 'visiting', 'visitor', 'visitors', 'visits', 'vista', 'vistas', 'vistula', 'visual', 'visualization', 'visually', 'visuospatial', 'vital', 'vitality', 'vitamin', 'vitamins', 'vitriol', 'vitz', 'vivacious', 'vivacity', 'vive', 'vivid', 'vividly', 'vivifying', 'viz', 'vizier', 'vladimir', 'vocabulary', 'vocal', 'vocations', 'vociferous', 'vociferously', 'vodka', 'voice', 'voiceband', 'voiceless', 'voices', 'void', 'voids', 'voip', 'vol', 'volaterrae', 'volatile', 'volatilized', 'volatilizing', 'volcanic', 'volcano', 'volcanoes', 'volcanologists', 'voles', 'volition', 'volkov', 'volley', 'volleys', 'volost', 'volt', 'volta', 'voltage', 'volts', 'volubly', 'volume', 'volumes', 'voluminous', 'voluntarily', 'voluntary', 'volunteer', 'volunteers', 'volute', 'vomited', 'vomiting', 'von', 'voo', 'voracious', 'vorst', 'vortex', 'vosges', 'vote', 'voted', 'voter', 'votes', 'voting', 'vouched', 'vow', 'vowed', 'vowels', 'voyage', 'voyagers', 'voyages', 'vr', 'vrouw', 'vs', 'vulcan', 'vulcanism', 'vulcanization', 'vulgar', 'vulgarity', 'vulgarizes', 'vulnerable', 'vulture', 'vusi', 'vyandeh', 'vyangel', 'vying', 'w', 'wa', 'wachter', 'waddling', 'wade', 'waded', 'waders', 'waelhem', 'waerloos', 'wafer', 'wag', 'wagai', 'wage', 'waged', 'wagener', 'wager', 'wagers', 'wages', 'wagged', 'wagging', 'wagner', 'wagon', 'wagoner', 'wagons', 'wahsatch', 'wail', 'wailed', 'wailing', 'wailings', 'wainright', 'wainscoting', 'waist', 'waistband', 'waistcoat', 'waistcoats', 'waists', 'wait', 'waited', 'waiter', 'waiting', 'waits', 'wakanda', 'wake', 'waked', 'wakefulness', 'waken', 'wakes', 'waking', 'waldeck', 'walden', 'wales', 'walk', 'walked', 'walker', 'walkers', 'walking', 'walks', 'walkway', 'wall', 'wallace', 'walled', 'wallet', 'wallflower', 'wallpaper', 'walls', 'walnut', 'walrus', 'walter', 'waltz', 'waltzing', 'walugo', 'wand', 'wander', 'wandered', 'wanderer', 'wanderers', 'wandering', 'wanderings', 'wanders', 'waned', 'wang', 'wangari', 'want', 'wanted', 'wanting', 'wanton', 'wants', 'war', 'ward', 'warded', 'wardens', 'wardrobe', 'ware', 'warehouse', 'warehouses', 'wares', 'warfare', 'warlike', 'warlords', 'warm', 'warmed', 'warmer', 'warmest', 'warming', 'warmly', 'warms', 'warmth', 'warn', 'warned', 'warner', 'warning', 'warningly', 'warnings', 'warp', 'warrant', 'warranted', 'warren', 'warribah', 'warring', 'warrior', 'warriors', 'wars', 'warsaw', 'warship', 'warships', 'wartburg', 'warthog', 'warthogs', 'wartime', 'warts', 'warwick', 'was', 'wash', 'washed', 'washer', 'washerwoman', 'washes', 'washing', 'washings', 'washington', 'washstand', 'washwoman', 'washy', 'wasp', 'wasps', 'waste', 'wasted', 'wasteful', 'wastes', 'wasting', 'watch', 'watchdog', 'watched', 'watches', 'watchful', 'watching', 'watchman', 'water', 'waterbury', 'watered', 'waterfall', 'waterfalls', 'watergate', 'watering', 'waterloo', 'waterman', 'watermills', 'waterproof', 'waters', 'waterside', 'waterways', 'waterworks', 'watery', 'watkinson', 'watkinsons', 'watson', 'watt', 'wattle', 'wattled', 'wau', 'wave', 'waved', 'waveform', 'wavelength', 'wavelengths', 'wavelets', 'waver', 'waverley', 'waves', 'waving', 'wavre', 'wavy', 'wax', 'waxed', 'way', 'wayan', 'wayne', 'ways', 'wayside', 'we', 'weak', 'weakened', 'weakens', 'weaker', 'weakest', 'weakly', 'weakness', 'weald', 'wealth', 'wealthier', 'wealthy', 'weaning', 'weapon', 'weaponless', 'weapons', 'wear', 'wearable', 'wearer', 'wearied', 'wearily', 'weariness', 'wearing', 'wearisome', 'wears', 'weary', 'weasels', 'weather', 'weathercock', 'weathering', 'weave', 'weaver', 'weavers', 'weaving', 'web', 'webber', 'webpages', 'webs', 'website', 'websites', 'webubu', 'wec', 'wed', 'wedded', 'wedding', 'wedge', 'wednesday', 'wee', 'weed', 'weeding', 'weeds', 'weedy', 'week', 'weekend', 'weekends', 'weekly', 'weeks', 'weel', 'weep', 'weeping', 'weepy', 'wei', 'weigh', 'weighed', 'weighing', 'weighs', 'weight', 'weighted', 'weightless', 'weights', 'weighty', 'weimar', 'weird', 'weirdness', 'weissenfels', 'welcome', 'welcomed', 'welcomes', 'weld', 'welding', 'welfare', 'well', 'wellbeing', 'welled', 'weller', 'wellington', 'wells', 'welsh', 'wended', 'wendy', 'went', 'wept', 'werdermann', 'were', 'werner', 'wernicke', 'west', 'wester', 'western', 'westerness', 'westminster', 'westmoreland', 'weston', 'westward', 'wet', 'wetland', 'wetness', 'wetter', 'wetting', 'weyanoke', 'weydon', 'wgn', 'whaaat', 'whale', 'whaler', 'whales', 'whaling', 'wharf', 'what', 'whateley', 'whatever', 'whatsoever', 'wheat', 'wheel', 'wheelbarrow', 'wheelbarrows', 'wheelchair', 'wheelchairs', 'wheeled', 'wheeler', 'wheelock', 'wheels', 'when', 'whence', 'whenever', 'where', 'whereabouts', 'whereas', 'whereby', 'whereever', 'wherefore', 'wherein', 'whereof', 'whereupon', 'wherever', 'whether', 'whew', 'which', 'whichever', 'whiffs', 'whig', 'whigs', 'while', 'whilst', 'whim', 'whims', 'whimsically', 'whine', 'whined', 'whines', 'whining', 'whinnied', 'whip', 'whipped', 'whippleby', 'whir', 'whirl', 'whirled', 'whirling', 'whirlwind', 'whirr', 'whirring', 'whisk', 'whisked', 'whisker', 'whiskered', 'whiskers', 'whiskey', 'whisler', 'whisper', 'whispered', 'whispering', 'whispers', 'whistle', 'whistled', 'whistles', 'whistling', 'whit', 'white', 'whitefaced', 'whitefish', 'whitehall', 'whitehead', 'whiteness', 'whitening', 'whites', 'whitewash', 'whitewashed', 'whitey', 'whither', 'whitlam', 'whittier', 'whittling', 'whizz', 'who', 'whoa', 'whoever', 'whole', 'wholesome', 'wholly', 'whom', 'whomsoever', 'whooping', 'whorls', 'whose', 'whoso', 'whosoever', 'why', 'whys', 'wi', 'wic', 'wicked', 'wickedness', 'wicket', 'wide', 'wideawake', 'wideband', 'widely', 'widened', 'widener', 'widening', 'wider', 'widespread', 'widest', 'widow', 'widowed', 'widows', 'width', 'widths', 'wield', 'wielding', 'wields', 'wife', 'wifely', 'wigan', 'wiggily', 'wigwams', 'wii', 'wikipedia', 'wilbur', 'wilcock', 'wild', 'wilde', 'wildebeest', 'wilder', 'wilderness', 'wildfire', 'wildflowers', 'wildlife', 'wildly', 'wildness', 'wildtype', 'wiles', 'wilford', 'wilkins', 'wilkinson', 'wilky', 'will', 'willed', 'willem', 'willet', 'willful', 'willfully', 'william', 'williams', 'williamson', 'willie', 'willing', 'willingford', 'willingly', 'willingness', 'willoughby', 'willow', 'willows', 'wills', 'willy', 'wilmington', 'wilson', 'wilt', 'wilton', 'win', 'winced', 'winch', 'winchester', 'wind', 'windermere', 'winding', 'windlass', 'windless', 'windmill', 'windmills', 'windor', 'window', 'windows', 'winds', 'windshield', 'windsor', 'windstorms', 'windy', 'wine', 'wines', 'winfield', 'wing', 'wingate', 'winged', 'wings', 'wink', 'winked', 'winking', 'winkle', 'winneba', 'winner', 'winners', 'winning', 'winsome', 'winston', 'winter', 'wintering', 'winters', 'wintry', 'wiped', 'wire', 'wired', 'wireless', 'wires', 'wiring', 'wiry', 'wiscasset', 'wisconsin', 'wisdom', 'wise', 'wisely', 'wiseman', 'wiser', 'wisest', 'wish', 'wishbone', 'wishbones', 'wished', 'wishes', 'wishing', 'wisp', 'wisps', 'wisteria', 'wistful', 'wit', 'witch', 'witchcraft', 'witches', 'with', 'withdraw', 'withdrawal', 'withdrawals', 'withdrawn', 'withdrew', 'withered', 'withheld', 'within', 'without', 'withstand', 'withstood', 'witness', 'witnessed', 'witnesses', 'wits', 'witty', 'wives', 'wizard', 'wladimir', 'wladislas', 'wlans', 'wly', 'wm', 'wo', 'woe', 'woeful', 'wohler', 'woke', 'woken', 'wolf', 'wolfe', 'wolferl', 'wolsey', 'wolverene', 'wolves', 'woman', 'womanhood', 'womanliness', 'womb', 'wombat', 'women', 'won', \"won't\", 'wonder', 'wondered', 'wonderful', 'wonderfully', 'wondering', 'wonderingly', 'wonders', 'wonderwings', 'wondrous', 'wondrously', 'wont', 'wood', 'woodbine', 'woodchuck', 'woodcutter', 'wooded', 'wooden', 'woodhouse', 'woodifield', 'woodland', 'woodlands', 'woodlice', 'woodman', 'woodmen', 'woodpile', 'woods', 'woodshed', 'woodsman', 'woodsmen', 'woodwork', 'woody', 'woof', 'wooing', 'wool', 'woolen', 'wooler', 'woolly', 'woolworth', 'wooly', 'worcester', 'word', 'worded', 'wordless', 'wordpad', 'words', 'wordy', 'wore', 'work', 'worked', 'worker', 'workers', 'workforce', 'working', 'workingman', 'workings', 'workman', 'workmanship', 'workmen', 'workpeople', 'works', 'workshops', 'workspace', 'workstations', 'world', 'world\"', 'worldly', 'worlds', 'worldwide', 'worm', 'wormed', 'worms', 'worn', 'worple', 'worried', 'worries', 'worrisome', 'worry', 'worrying', 'worse', 'worsened', 'worship', 'worshiped', 'worshipers', 'worshipped', 'worshippers', 'worst', 'worth', 'worthier', 'worthily', 'worthing', 'worthless', 'worthlessness', 'worthwhile', 'worthy', 'wotton', 'would', 'wouldiarchies', \"wouldn't\", 'wouldog', 'wouldoing', 'wound', 'wounded', 'wounds', 'wouter', 'wove', 'woven', 'wow', 'wows', 'woz', 'wpu', 'wrap', 'wrapped', 'wrapping', 'wraps', 'wrapt', 'wrasses', 'wrath', 'wrathy', 'wratten', 'wreak', 'wreath', 'wreathed', 'wreaths', 'wreck', 'wreckage', 'wrecked', 'wrecking', 'wrecks', 'wren', 'wrench', 'wrested', 'wretch', 'wretched', 'wretchedness', 'wriggled', 'wriggling', 'wright', 'wring', 'wringing', 'wrinkle', 'wrinkled', 'wrinkles', 'wrist', 'wristbands', 'wrists', 'wristwatch', 'write', 'writer', 'writers', 'writes', 'writhe', 'writhing', 'writing', 'writings', 'written', 'wrong', 'wrongdoing', 'wronged', 'wrongs', 'wrote', 'wrought', 'wrung', 'wry', 'wrykinian', 'wtg', 'wuckie', 'wug', 'wugs', 'wuhan', 'wurtemberg', 'wuwi', 'wuz', 'wuzzy', 'wwi', 'wwii', 'www', 'wyandotte', 'wyoming', 'x', 'xci', 'xenophon', 'xinhai', 'xiv', 'xvi', 'y', 'yabbit', 'yacht', 'yachts', 'yaga', 'yah', 'yaki', 'yakovlev', 'yaks', 'yale', 'yalta', 'yana', 'yangu', 'yanked', 'yankee', 'yankton', 'yanni', 'yard', 'yardly', 'yards', 'yarmouth', 'yarn', 'yarns', 'yat', 'yawn', 'yawned', 'yawning', 'yawns', 'ye', 'yeah', 'year', 'yearling', 'yearly', 'yearned', 'yearning', 'yearns', 'years', 'yeast', 'yeasts', 'yebo', 'yeddo', 'yelk', 'yell', 'yelled', 'yellow', 'yellowback', 'yellower', 'yellowish', 'yelped', 'yelping', 'yemen', 'yeoman', 'yeomen', 'yes', 'yesterday', 'yet', 'yew', 'yi', 'yield', 'yielded', 'yielding', 'yields', 'yihdego', 'yin', 'yniol', 'yoh', 'yoke', 'yonah', 'yonder', 'yore', 'york', 'yorker', 'yorkers', 'yorkshire', 'yorktown', 'you', \"you'll\", 'young', 'younger', 'youngest', 'youngster', 'youngsters', 'your', 'yours', 'yourself', 'yourselves', 'youth', 'youthful', 'youths', 'youtube', 'yuadoo', 'yuck', 'yummy', 'yusuf', 'z', 'zachariah', 'zachary', 'zag', 'zags', 'zakariya', 'zambezi', 'zan', 'zara', 'zard', 'zeal', 'zealots', 'zebrafish', 'zee', 'zege', 'zeit', 'zenith', 'zeppelins', 'zero', 'zeroes', 'zest', 'zethu', 'zettabytes', 'zeus', 'zhilin', 'zhou', 'zibethieus', 'zig', 'ziggurat', 'zigzags', 'zilpah', 'zimbabwe', 'zimmerman', 'zimmermann', 'zinc', 'zip', 'zipanga', 'zoan', 'zodiac', 'zodiacal', 'zodwa', 'zola', 'zone', 'zones', 'zonke', 'zoo', 'zoological', 'zoologist', 'zoology', 'zoom', 'zooplankton', 'zoospores', 'zooxanthellae', 'zossima', 'zukunft', 'zulu', 'zum', 'zymology', 'zzzzz...']\n"
          ],
          "name": "stdout"
        },
        {
          "output_type": "stream",
          "text": [
            "100%|██████████| 26263/26263 [15:45<00:00, 27.79it/s]\n",
            "100%|██████████| 2834/2834 [07:40<00:00,  6.15it/s]\n"
          ],
          "name": "stderr"
        }
      ]
    },
    {
      "cell_type": "code",
      "metadata": {
        "id": "iS0fsagkJAGc"
      },
      "source": [
        "a=[]\n",
        "for i in corpus:\n",
        "    for j in i:\n",
        "        a.append(j)"
      ],
      "execution_count": 21,
      "outputs": []
    },
    {
      "cell_type": "markdown",
      "metadata": {
        "id": "0vpEN0oqbapN"
      },
      "source": [
        "Threshold 10"
      ]
    },
    {
      "cell_type": "code",
      "metadata": {
        "colab": {
          "base_uri": "https://localhost:8080/"
        },
        "id": "YPIvCoGkJDaA",
        "outputId": "d6c308a0-a249-46dc-92dd-11eb7cd9a43b"
      },
      "source": [
        "thresh1=sorted(a)[int(len(a)*10/100)]\n",
        "c=0\n",
        "for i in a:\n",
        "  if i<=thresh1:\n",
        "    c+=1\n",
        "print(c)\n",
        "thresh2=sorted(a)[int(len(a)*20/100)]\n",
        "c=0\n",
        "for i in a:\n",
        "  if i<=thresh2:\n",
        "    c+=1\n",
        "print(c)\n",
        "thresh3=sorted(a)[int(len(a)*30/100)]\n",
        "c=0\n",
        "for i in a:\n",
        "  if i<=thresh3:\n",
        "    c+=1\n",
        "print(c)\n",
        "thresh4=sorted(a)[int(len(a)*40/100)]\n",
        "c=0\n",
        "for i in a:\n",
        "  if i<=thresh4:\n",
        "    c+=1\n",
        "print(c)\n",
        "thresh5=sorted(a)[int(len(a)*50/100)]\n",
        "c=0\n",
        "for i in a:\n",
        "  if i<=thresh5:\n",
        "    c+=1\n",
        "print(c)\n",
        "thresh6=sorted(a)[int(len(a)*60/100)]\n",
        "c=0\n",
        "for i in a:\n",
        "  if i<=thresh6:\n",
        "    c+=1\n",
        "print(c)\n",
        "thresh7=sorted(a)[int(len(a)*70/100)]\n",
        "c=0\n",
        "for i in a:\n",
        "  if i<=thresh7:\n",
        "    c+=1\n",
        "print(c)\n",
        "thresh8=sorted(a)[int(len(a)*80/100)]\n",
        "c=0\n",
        "for i in a:\n",
        "  if i<=thresh8:\n",
        "    c+=1\n",
        "print(c)\n",
        "thresh9=sorted(a)[int(len(a)*90/100)]\n",
        "c=0\n",
        "for i in a:\n",
        "  if i<=thresh9:\n",
        "    c+=1\n",
        "print(c)"
      ],
      "execution_count": 20,
      "outputs": [
        {
          "output_type": "stream",
          "text": [
            "29755\n",
            "59496\n",
            "89239\n",
            "118995\n",
            "148736\n",
            "178489\n",
            "208270\n",
            "238123\n",
            "267717\n"
          ],
          "name": "stdout"
        }
      ]
    },
    {
      "cell_type": "code",
      "metadata": {
        "colab": {
          "base_uri": "https://localhost:8080/"
        },
        "id": "ZqMPgwg0Jup-",
        "outputId": "ab3f035e-43d8-409d-921c-2b1540ed0121"
      },
      "source": [
        "train_data_now['10']=0\n",
        "train_data_now['20']=0\n",
        "train_data_now['30']=0\n",
        "train_data_now['40']=0\n",
        "train_data_now['50']=0\n",
        "train_data_now['60']=0\n",
        "train_data_now['70']=0\n",
        "train_data_now['80']=0\n",
        "train_data_now['90']=0\n",
        "train_data_now['100']=0\n",
        "for i in range(train_data_now.shape[0]):\n",
        "    for j in corpus[i]:\n",
        "        if j<=thresh1:\n",
        "            train_data_now['10'].iloc[i]+=1/len(train_data_now['excerpt'].iloc[i])\n",
        "        elif j<=thresh2:\n",
        "            train_data_now['20'].iloc[i]+=1/len(train_data_now['excerpt'].iloc[i])\n",
        "        elif j<=thresh3:\n",
        "            train_data_now['30'].iloc[i]+=1/len(train_data_now['excerpt'].iloc[i])\n",
        "        elif j<=thresh4:\n",
        "            train_data_now['40'].iloc[i]+=1/len(train_data_now['excerpt'].iloc[i])\n",
        "        elif j<=thresh5:\n",
        "            train_data_now['50'].iloc[i]+=1/len(train_data_now['excerpt'].iloc[i])\n",
        "        elif j<=thresh6:\n",
        "            train_data_now['60'].iloc[i]+=1/len(train_data_now['excerpt'].iloc[i])\n",
        "        elif j<=thresh7:\n",
        "            train_data_now['70'].iloc[i]+=1/len(train_data_now['excerpt'].iloc[i])\n",
        "        elif j<=thresh8:\n",
        "            train_data_now['80'].iloc[i]+=1/len(train_data_now['excerpt'].iloc[i])\n",
        "        elif j<=thresh9:\n",
        "            train_data_now['90'].iloc[i]+=1/len(train_data_now['excerpt'].iloc[i])\n",
        "        else:\n",
        "            train_data_now['100'].iloc[i]+=1/len(train_data_now['excerpt'].iloc[i])"
      ],
      "execution_count": 21,
      "outputs": [
        {
          "output_type": "stream",
          "text": [
            "/usr/local/lib/python3.7/dist-packages/pandas/core/indexing.py:670: SettingWithCopyWarning: \n",
            "A value is trying to be set on a copy of a slice from a DataFrame\n",
            "\n",
            "See the caveats in the documentation: https://pandas.pydata.org/pandas-docs/stable/user_guide/indexing.html#returning-a-view-versus-a-copy\n",
            "  iloc._setitem_with_indexer(indexer, value)\n"
          ],
          "name": "stderr"
        }
      ]
    },
    {
      "cell_type": "code",
      "metadata": {
        "colab": {
          "base_uri": "https://localhost:8080/"
        },
        "id": "e9DG9ndy6JL8",
        "outputId": "e4bc7cd4-f1d4-47c6-c80e-85839f94852a"
      },
      "source": [
        "train_data_now.columns"
      ],
      "execution_count": 24,
      "outputs": [
        {
          "output_type": "execute_result",
          "data": {
            "text/plain": [
              "Index(['excerpt', 'target', 'topic', 'site_-1', 'site_africanstorybook',\n",
              "       'site_ck12', 'site_co', 'site_commonlit', 'site_digitallibrary',\n",
              "       'site_ehe', 'site_freekidsbooks', 'site_frontiersin', 'site_google',\n",
              "       'site_uen', 'site_wikibooks', 'site_wikipedia', 'pre_-1', 'pre_0',\n",
              "       'pre_beyondpenguins', 'pre_drive', 'pre_emedia', 'pre_en', 'pre_kids',\n",
              "       'pre_simple', 'pre_sites', 'pre_static', 'pre_ukuqonda', 'pre_www',\n",
              "       'post_-1', 'post_com', 'post_io', 'post_org', 'post_osu', 'post_za',\n",
              "       'posts_-1', 'posts_0', 'posts_edu', 'type_', 'type_#', 'type_-1',\n",
              "       'type_article', 'type_beyondpenguins', 'type_book', 'type_courses',\n",
              "       'type_digicom', 'type_en', 'type_file', 'type_issue', 'type_sites',\n",
              "       'type_texts', 'type_wiki', 'type_wp-content', '10', '20', '30', '40',\n",
              "       '50', '60', '70', '80', '90', '100', '15', '25', '35', '45', '55', '65',\n",
              "       '75', '85', '95', '5'],\n",
              "      dtype='object')"
            ]
          },
          "metadata": {
            "tags": []
          },
          "execution_count": 24
        }
      ]
    },
    {
      "cell_type": "code",
      "metadata": {
        "id": "k0vAR8-a_H--"
      },
      "source": [
        "def remove_stopwords(train_data_now):\n",
        "  stopwords= ['students','need','i', 'me', 'my', 'myself', 'we', 'our', 'ours', 'ourselves', 'you', \"you're\", \"you've\",\\\n",
        "                \"you'll\", \"you'd\", 'your', 'yours', 'yourself', 'yourselves', 'he', 'him', 'his', 'himself', \\\n",
        "                'she', \"she's\", 'her', 'hers', 'herself', 'it', \"it's\", 'its', 'itself', 'they', 'them', 'their',\\\n",
        "                'theirs', 'themselves', 'what', 'which', 'who', 'whom', 'this', 'that', \"that'll\", 'these', 'those', \\\n",
        "                'am', 'is', 'are', 'was', 'were', 'be', 'been', 'being', 'have', 'has', 'had', 'having', 'do', 'does', \\\n",
        "                'did', 'doing', 'a', 'an', 'the', 'and', 'but', 'if', 'or', 'because', 'as', 'until', 'while', 'of', \\\n",
        "                'at', 'by', 'for', 'with', 'about', 'against', 'between', 'into', 'through', 'during', 'before', 'after',\\\n",
        "                'above', 'below', 'to', 'from', 'up', 'down', 'in', 'out', 'on', 'off', 'over', 'under', 'again', 'further',\\\n",
        "                'then', 'once', 'here', 'there', 'when', 'where', 'why', 'how', 'all', 'any', 'both', 'each', 'few', 'more',\\\n",
        "                'most', 'other', 'some', 'such', 'only', 'own', 'same', 'so', 'than', 'too', 'very', \\\n",
        "                's', 't', 'can', 'will', 'just', 'don', \"don't\", 'should', \"should've\", 'now', 'd', 'll', 'm', 'o', 're', \\\n",
        "                've', 'y', 'ain', 'aren', \"aren't\", 'couldn', \"couldn't\", 'didn', \"didn't\", 'doesn', \"doesn't\", 'hadn',\\\n",
        "                \"hadn't\", 'hasn', \"hasn't\", 'haven', \"haven't\", 'isn', \"isn't\", 'ma', 'mightn', \"mightn't\", 'mustn',\\\n",
        "                \"mustn't\", 'needn', \"needn't\", 'shan', \"shan't\", 'shouldn', \"shouldn't\", 'wasn', \"wasn't\", 'weren', \"weren't\", \\\n",
        "                'won', \"won't\", 'wouldn', \"wouldn't\"]\n",
        "  for i in range(train_data_now.shape[0]):\n",
        "    ans=[]\n",
        "    if train_data_now['topic'].iloc[i]!=-1:\n",
        "      for j in train_data_now['topic'].iloc[i]:\n",
        "        if j in stopwords:\n",
        "          pass\n",
        "        else:\n",
        "          ans.append(j)\n",
        "      c=0\n",
        "      for k in range(len(ans)):\n",
        "        c+=train_data_now['excerpt'].iloc[i].count(ans[k])\n",
        "      train_data_now['topic'].iloc[i]=c/(len(ans)+1)\n",
        "  train_data_now['len']=0\n",
        "  for i in range(train_data_now.shape[0]):\n",
        "    train_data_now['len'].iloc[i]=len(train_data_now['excerpt'].iloc[i])\n",
        "  return(train_data_now)"
      ],
      "execution_count": 25,
      "outputs": []
    },
    {
      "cell_type": "code",
      "metadata": {
        "colab": {
          "base_uri": "https://localhost:8080/"
        },
        "id": "aWViNfuQW3q1",
        "outputId": "f0cb3d7a-4f75-4f77-bdf4-4c7b8f51a766"
      },
      "source": [
        "train_data_now=remove_stopwords(train_data_now)"
      ],
      "execution_count": 26,
      "outputs": [
        {
          "output_type": "stream",
          "text": [
            "/usr/local/lib/python3.7/dist-packages/pandas/core/indexing.py:670: SettingWithCopyWarning: \n",
            "A value is trying to be set on a copy of a slice from a DataFrame\n",
            "\n",
            "See the caveats in the documentation: https://pandas.pydata.org/pandas-docs/stable/user_guide/indexing.html#returning-a-view-versus-a-copy\n",
            "  iloc._setitem_with_indexer(indexer, value)\n"
          ],
          "name": "stderr"
        }
      ]
    },
    {
      "cell_type": "markdown",
      "metadata": {
        "id": "G-Cl-PTPXMEK"
      },
      "source": [
        "**Modeling**"
      ]
    },
    {
      "cell_type": "code",
      "metadata": {
        "id": "E575TUc4f9qR",
        "colab": {
          "base_uri": "https://localhost:8080/",
          "height": 344
        },
        "outputId": "6d4c99d0-e6f2-4080-8167-b2923b46fa88"
      },
      "source": [
        "train_data_now.tail(2)"
      ],
      "execution_count": 27,
      "outputs": [
        {
          "output_type": "execute_result",
          "data": {
            "text/html": [
              "<div>\n",
              "<style scoped>\n",
              "    .dataframe tbody tr th:only-of-type {\n",
              "        vertical-align: middle;\n",
              "    }\n",
              "\n",
              "    .dataframe tbody tr th {\n",
              "        vertical-align: top;\n",
              "    }\n",
              "\n",
              "    .dataframe thead th {\n",
              "        text-align: right;\n",
              "    }\n",
              "</style>\n",
              "<table border=\"1\" class=\"dataframe\">\n",
              "  <thead>\n",
              "    <tr style=\"text-align: right;\">\n",
              "      <th></th>\n",
              "      <th>excerpt</th>\n",
              "      <th>target</th>\n",
              "      <th>topic</th>\n",
              "      <th>site_-1</th>\n",
              "      <th>site_africanstorybook</th>\n",
              "      <th>site_ck12</th>\n",
              "      <th>site_co</th>\n",
              "      <th>site_commonlit</th>\n",
              "      <th>site_digitallibrary</th>\n",
              "      <th>site_ehe</th>\n",
              "      <th>site_freekidsbooks</th>\n",
              "      <th>site_frontiersin</th>\n",
              "      <th>site_google</th>\n",
              "      <th>site_uen</th>\n",
              "      <th>site_wikibooks</th>\n",
              "      <th>site_wikipedia</th>\n",
              "      <th>pre_-1</th>\n",
              "      <th>pre_0</th>\n",
              "      <th>pre_beyondpenguins</th>\n",
              "      <th>pre_drive</th>\n",
              "      <th>pre_emedia</th>\n",
              "      <th>pre_en</th>\n",
              "      <th>pre_kids</th>\n",
              "      <th>pre_simple</th>\n",
              "      <th>pre_sites</th>\n",
              "      <th>pre_static</th>\n",
              "      <th>pre_ukuqonda</th>\n",
              "      <th>pre_www</th>\n",
              "      <th>post_-1</th>\n",
              "      <th>post_com</th>\n",
              "      <th>post_io</th>\n",
              "      <th>post_org</th>\n",
              "      <th>post_osu</th>\n",
              "      <th>post_za</th>\n",
              "      <th>posts_-1</th>\n",
              "      <th>posts_0</th>\n",
              "      <th>posts_edu</th>\n",
              "      <th>type_</th>\n",
              "      <th>type_#</th>\n",
              "      <th>type_-1</th>\n",
              "      <th>type_article</th>\n",
              "      <th>type_beyondpenguins</th>\n",
              "      <th>type_book</th>\n",
              "      <th>type_courses</th>\n",
              "      <th>type_digicom</th>\n",
              "      <th>type_en</th>\n",
              "      <th>type_file</th>\n",
              "      <th>type_issue</th>\n",
              "      <th>type_sites</th>\n",
              "      <th>type_texts</th>\n",
              "      <th>type_wiki</th>\n",
              "      <th>type_wp-content</th>\n",
              "      <th>10</th>\n",
              "      <th>20</th>\n",
              "      <th>30</th>\n",
              "      <th>40</th>\n",
              "      <th>50</th>\n",
              "      <th>60</th>\n",
              "      <th>70</th>\n",
              "      <th>80</th>\n",
              "      <th>90</th>\n",
              "      <th>100</th>\n",
              "      <th>15</th>\n",
              "      <th>25</th>\n",
              "      <th>35</th>\n",
              "      <th>45</th>\n",
              "      <th>55</th>\n",
              "      <th>65</th>\n",
              "      <th>75</th>\n",
              "      <th>85</th>\n",
              "      <th>95</th>\n",
              "      <th>5</th>\n",
              "      <th>len</th>\n",
              "    </tr>\n",
              "  </thead>\n",
              "  <tbody>\n",
              "    <tr>\n",
              "      <th>2832</th>\n",
              "      <td>solids are shapes that you can actually touch ...</td>\n",
              "      <td>-0.215279</td>\n",
              "      <td>24</td>\n",
              "      <td>0.0</td>\n",
              "      <td>0.0</td>\n",
              "      <td>0.0</td>\n",
              "      <td>0.0</td>\n",
              "      <td>0.0</td>\n",
              "      <td>0.0</td>\n",
              "      <td>0.0</td>\n",
              "      <td>0.0</td>\n",
              "      <td>0.0</td>\n",
              "      <td>0.0</td>\n",
              "      <td>0.0</td>\n",
              "      <td>1.0</td>\n",
              "      <td>0.0</td>\n",
              "      <td>0.0</td>\n",
              "      <td>0.0</td>\n",
              "      <td>0.0</td>\n",
              "      <td>0.0</td>\n",
              "      <td>0.0</td>\n",
              "      <td>1.0</td>\n",
              "      <td>0.0</td>\n",
              "      <td>0.0</td>\n",
              "      <td>0.0</td>\n",
              "      <td>0.0</td>\n",
              "      <td>0.0</td>\n",
              "      <td>0.0</td>\n",
              "      <td>0.0</td>\n",
              "      <td>0.0</td>\n",
              "      <td>0.0</td>\n",
              "      <td>1.0</td>\n",
              "      <td>0.0</td>\n",
              "      <td>0.0</td>\n",
              "      <td>0.0</td>\n",
              "      <td>1.0</td>\n",
              "      <td>0.0</td>\n",
              "      <td>0.0</td>\n",
              "      <td>0.0</td>\n",
              "      <td>0.0</td>\n",
              "      <td>0.0</td>\n",
              "      <td>0.0</td>\n",
              "      <td>0.0</td>\n",
              "      <td>0.0</td>\n",
              "      <td>0.0</td>\n",
              "      <td>0.0</td>\n",
              "      <td>0.0</td>\n",
              "      <td>0.0</td>\n",
              "      <td>0.0</td>\n",
              "      <td>0.0</td>\n",
              "      <td>1.0</td>\n",
              "      <td>0.0</td>\n",
              "      <td>0.007143</td>\n",
              "      <td>0.008333</td>\n",
              "      <td>0.007143</td>\n",
              "      <td>0.004762</td>\n",
              "      <td>0.002381</td>\n",
              "      <td>0.009524</td>\n",
              "      <td>0.003571</td>\n",
              "      <td>0.010714</td>\n",
              "      <td>0.003571</td>\n",
              "      <td>0.011905</td>\n",
              "      <td>0.005952</td>\n",
              "      <td>0.004762</td>\n",
              "      <td>0.002381</td>\n",
              "      <td>0.002381</td>\n",
              "      <td>0.001190</td>\n",
              "      <td>0.008333</td>\n",
              "      <td>0.001190</td>\n",
              "      <td>0.004762</td>\n",
              "      <td>0.010714</td>\n",
              "      <td>0.003571</td>\n",
              "      <td>840</td>\n",
              "    </tr>\n",
              "    <tr>\n",
              "      <th>2833</th>\n",
              "      <td>animals are made of many cells they eat things...</td>\n",
              "      <td>0.300779</td>\n",
              "      <td>27.3333</td>\n",
              "      <td>0.0</td>\n",
              "      <td>0.0</td>\n",
              "      <td>0.0</td>\n",
              "      <td>0.0</td>\n",
              "      <td>0.0</td>\n",
              "      <td>0.0</td>\n",
              "      <td>0.0</td>\n",
              "      <td>0.0</td>\n",
              "      <td>0.0</td>\n",
              "      <td>0.0</td>\n",
              "      <td>0.0</td>\n",
              "      <td>1.0</td>\n",
              "      <td>0.0</td>\n",
              "      <td>0.0</td>\n",
              "      <td>0.0</td>\n",
              "      <td>0.0</td>\n",
              "      <td>0.0</td>\n",
              "      <td>0.0</td>\n",
              "      <td>1.0</td>\n",
              "      <td>0.0</td>\n",
              "      <td>0.0</td>\n",
              "      <td>0.0</td>\n",
              "      <td>0.0</td>\n",
              "      <td>0.0</td>\n",
              "      <td>0.0</td>\n",
              "      <td>0.0</td>\n",
              "      <td>0.0</td>\n",
              "      <td>0.0</td>\n",
              "      <td>1.0</td>\n",
              "      <td>0.0</td>\n",
              "      <td>0.0</td>\n",
              "      <td>0.0</td>\n",
              "      <td>1.0</td>\n",
              "      <td>0.0</td>\n",
              "      <td>0.0</td>\n",
              "      <td>0.0</td>\n",
              "      <td>0.0</td>\n",
              "      <td>0.0</td>\n",
              "      <td>0.0</td>\n",
              "      <td>0.0</td>\n",
              "      <td>0.0</td>\n",
              "      <td>0.0</td>\n",
              "      <td>0.0</td>\n",
              "      <td>0.0</td>\n",
              "      <td>0.0</td>\n",
              "      <td>0.0</td>\n",
              "      <td>0.0</td>\n",
              "      <td>1.0</td>\n",
              "      <td>0.0</td>\n",
              "      <td>0.001183</td>\n",
              "      <td>0.002367</td>\n",
              "      <td>0.003550</td>\n",
              "      <td>0.005917</td>\n",
              "      <td>0.004734</td>\n",
              "      <td>0.007101</td>\n",
              "      <td>0.008284</td>\n",
              "      <td>0.003550</td>\n",
              "      <td>0.009467</td>\n",
              "      <td>0.008284</td>\n",
              "      <td>0.001183</td>\n",
              "      <td>0.007101</td>\n",
              "      <td>0.005917</td>\n",
              "      <td>0.003550</td>\n",
              "      <td>0.004734</td>\n",
              "      <td>0.002367</td>\n",
              "      <td>0.004734</td>\n",
              "      <td>0.004734</td>\n",
              "      <td>0.011834</td>\n",
              "      <td>0.002367</td>\n",
              "      <td>845</td>\n",
              "    </tr>\n",
              "  </tbody>\n",
              "</table>\n",
              "</div>"
            ],
            "text/plain": [
              "                                                excerpt  ...  len\n",
              "2832  solids are shapes that you can actually touch ...  ...  840\n",
              "2833  animals are made of many cells they eat things...  ...  845\n",
              "\n",
              "[2 rows x 73 columns]"
            ]
          },
          "metadata": {
            "tags": []
          },
          "execution_count": 27
        }
      ]
    },
    {
      "cell_type": "code",
      "metadata": {
        "id": "5ZT3B-hn7nuu"
      },
      "source": [
        "x_train, x_cv, y_train, y_cv = train_test_split(train_data_now.drop(['target','excerpt'],axis=1), train_data_now['target'], test_size=0.20, random_state=42)"
      ],
      "execution_count": 28,
      "outputs": []
    },
    {
      "cell_type": "code",
      "metadata": {
        "colab": {
          "base_uri": "https://localhost:8080/"
        },
        "id": "EViIFd9Ef43b",
        "outputId": "eb52a86a-d83a-440c-f0e3-d2f5c00eb05d"
      },
      "source": [
        "x_train.shape"
      ],
      "execution_count": 29,
      "outputs": [
        {
          "output_type": "execute_result",
          "data": {
            "text/plain": [
              "(2267, 71)"
            ]
          },
          "metadata": {
            "tags": []
          },
          "execution_count": 29
        }
      ]
    },
    {
      "cell_type": "code",
      "metadata": {
        "id": "5xY6dLQMgJvi"
      },
      "source": [
        "features=x_train.columns\n",
        "ss=MinMaxScaler().fit(x_train)\n",
        "x_train=pd.DataFrame(ss.transform(x_train),columns=features)\n",
        "x_cv=pd.DataFrame(ss.transform(x_cv),columns=features)"
      ],
      "execution_count": 30,
      "outputs": []
    },
    {
      "cell_type": "code",
      "metadata": {
        "id": "gdLMyQ8vuwlw"
      },
      "source": [
        "class CustomCallBacks(keras.callbacks.Callback):\n",
        "    \n",
        "    def on_train_begin(self, logs={}):\n",
        "        \n",
        "        self.SaveModel=None\n",
        "        \n",
        "        self.x_train=x_train\n",
        "        \n",
        "        self.Y_train=y_train\n",
        "                \n",
        "        self.history={'mse':[]}\n",
        "        \n",
        "        self.historyV={'mse':[]}\n",
        "        \n",
        "        self.epoch=None\n",
        "        \n",
        "    def on_epoch_begin(self, epoch, logs=None):\n",
        "        \n",
        "        self.epoch=epoch\n",
        "            \n",
        "    def on_epoch_end(self, epoch, logs={}):\n",
        "        \n",
        "        self.history['mse'].append(logs.get('mean_squared_error'))\n",
        "          \n",
        "        if np.isnan(logs.get('loss')) or np.isinf(logs.get('loss')):\n",
        "\n",
        "                print(\"Invalid loss and terminated at epoch {}\".format(epoch))\n",
        "          \n",
        "                self.model.stop_training = True\n",
        "        \n",
        "        if len(self.history['mse'])>=2:\n",
        "            \n",
        "            if self.history['mse'][-1]<self.history['mse'][-2]:\n",
        "            \n",
        "                self.SaveModel=self.model\n",
        "        \n",
        "        else:\n",
        "        \n",
        "          self.SaveModel=self.model\n",
        "    \n",
        "    def on_test_begin(self, logs=None):\n",
        "        \n",
        "        self.validationX=x_cv\n",
        "        \n",
        "        self.validationY=y_cv\n",
        "    \n",
        "    def on_test_end(self, logs=None):\n",
        "        \n",
        "        self.historyV['mse'].append(logs.get('mean_squared_error'))\n",
        "               \n",
        "        if self.epoch>=3:\n",
        "         \n",
        "          if self.historyV['mse'][-2]<self.historyV['mse'][-1] :          \n",
        "         \n",
        "            lr=tf.keras.backend.get_value(self.model.optimizer.lr)\n",
        "            \n",
        "            tf.keras.backend.set_value(self.model.optimizer.lr,lr*0.90)\n",
        "          else:\n",
        "            self.SaveModel=model"
      ],
      "execution_count": 31,
      "outputs": []
    },
    {
      "cell_type": "code",
      "metadata": {
        "id": "nBiP6H9DvFIK"
      },
      "source": [
        "cb=CustomCallBacks()"
      ],
      "execution_count": 32,
      "outputs": []
    },
    {
      "cell_type": "code",
      "metadata": {
        "id": "nCmmb1juZkJU"
      },
      "source": [
        "checkpoint_filepath = '/checkpoint'\n",
        "model_checkpoint_callback = tf.keras.callbacks.ModelCheckpoint(\n",
        "    filepath=checkpoint_filepath,\n",
        "    save_weights_only=True,\n",
        "    monitor='loss',\n",
        "    mode='min',\n",
        "    save_best_only=True)"
      ],
      "execution_count": 33,
      "outputs": []
    },
    {
      "cell_type": "code",
      "metadata": {
        "colab": {
          "base_uri": "https://localhost:8080/",
          "height": 979
        },
        "id": "ZMDl4DbUgSkA",
        "outputId": "5b2b5134-cbea-46b0-86d3-e54b6692f490"
      },
      "source": [
        "# kernel_regularizer='L2'\n",
        "input_path1= Input(shape=(71))\n",
        "dense1  =Dense(35,activation='relu',kernel_initializer='he_uniform',kernel_regularizer='L2')(input_path1)\n",
        "dense2  =Dense(17,activation='relu',kernel_initializer='he_uniform')(dense1)\n",
        "dense3  =Dense(7,activation='relu',kernel_initializer='he_uniform')(dense2)\n",
        "dense4  =Dense(3,activation='relu',kernel_initializer='he_uniform')(dense3)\n",
        "Output =Dense(1,activation='linear')(dense4)\n",
        "\n",
        "model= Model(inputs=input_path1,outputs=Output)\n",
        "\n",
        "model.summary()\n",
        "dot_img_file = '/tmp/model_1.png'\n",
        "tf.keras.utils.plot_model(model, to_file=dot_img_file, show_shapes=True)"
      ],
      "execution_count": 35,
      "outputs": [
        {
          "output_type": "stream",
          "text": [
            "Model: \"model_1\"\n",
            "_________________________________________________________________\n",
            "Layer (type)                 Output Shape              Param #   \n",
            "=================================================================\n",
            "input_2 (InputLayer)         [(None, 71)]              0         \n",
            "_________________________________________________________________\n",
            "dense_5 (Dense)              (None, 35)                2520      \n",
            "_________________________________________________________________\n",
            "dense_6 (Dense)              (None, 17)                612       \n",
            "_________________________________________________________________\n",
            "dense_7 (Dense)              (None, 7)                 126       \n",
            "_________________________________________________________________\n",
            "dense_8 (Dense)              (None, 3)                 24        \n",
            "_________________________________________________________________\n",
            "dense_9 (Dense)              (None, 1)                 4         \n",
            "=================================================================\n",
            "Total params: 3,286\n",
            "Trainable params: 3,286\n",
            "Non-trainable params: 0\n",
            "_________________________________________________________________\n"
          ],
          "name": "stdout"
        },
        {
          "output_type": "execute_result",
          "data": {
            "image/png": "[encoded data removed]",
            "text/plain": [
              "<IPython.core.display.Image object>"
            ]
          },
          "metadata": {
            "tags": []
          },
          "execution_count": 35
        }
      ]
    },
    {
      "cell_type": "code",
      "metadata": {
        "id": "4JCb9HSQgdxD"
      },
      "source": [
        "opt=tf.keras.optimizers.Adam(learning_rate=0.001)\n",
        "model.compile(loss='mean_squared_error',optimizer=opt,metrics=['mean_squared_error'])\n",
        "logdir = \"logs/fit/\" + datetime.now().strftime(\"%Y%m%d-%H%M%S\")"
      ],
      "execution_count": 36,
      "outputs": []
    },
    {
      "cell_type": "code",
      "metadata": {
        "colab": {
          "base_uri": "https://localhost:8080/"
        },
        "id": "n-RQ97h-gmSv",
        "outputId": "b93eebf3-f806-4aa7-8082-c63d4f64c421"
      },
      "source": [
        "tensorboard_callback = keras.callbacks.TensorBoard(log_dir=logdir)\n",
        "model.fit(x_train,y_train,validation_data=(x_cv,y_cv),batch_size=1,epochs=100,callbacks=[tensorboard_callback,cb])"
      ],
      "execution_count": 37,
      "outputs": [
        {
          "output_type": "stream",
          "text": [
            "Epoch 1/100\n",
            "   6/2267 [..............................] - ETA: 22s - loss: 1.2529 - mean_squared_error: 0.5494  WARNING:tensorflow:Callback method `on_train_batch_end` is slow compared to the batch time (batch time: 0.0014s vs `on_train_batch_end` time: 0.0075s). Check your callbacks.\n",
            "2267/2267 [==============================] - 4s 2ms/step - loss: 1.0289 - mean_squared_error: 0.7882 - val_loss: 1.1016 - val_mean_squared_error: 0.9446\n",
            "Epoch 2/100\n",
            "2267/2267 [==============================] - 3s 1ms/step - loss: 0.8176 - mean_squared_error: 0.6934 - val_loss: 0.6976 - val_mean_squared_error: 0.5950\n",
            "Epoch 3/100\n",
            "2267/2267 [==============================] - 3s 2ms/step - loss: 0.7653 - mean_squared_error: 0.6765 - val_loss: 0.8532 - val_mean_squared_error: 0.7747\n",
            "Epoch 4/100\n",
            "2267/2267 [==============================] - 3s 1ms/step - loss: 0.7463 - mean_squared_error: 0.6736 - val_loss: 0.6675 - val_mean_squared_error: 0.6006\n",
            "Epoch 5/100\n",
            "2267/2267 [==============================] - 3s 2ms/step - loss: 0.7309 - mean_squared_error: 0.6673 - val_loss: 0.6962 - val_mean_squared_error: 0.6352\n",
            "Epoch 6/100\n",
            "2267/2267 [==============================] - 4s 2ms/step - loss: 0.7049 - mean_squared_error: 0.6481 - val_loss: 0.8202 - val_mean_squared_error: 0.7681\n",
            "Epoch 7/100\n",
            "2267/2267 [==============================] - 3s 1ms/step - loss: 0.7003 - mean_squared_error: 0.6497 - val_loss: 0.6277 - val_mean_squared_error: 0.5793\n",
            "Epoch 8/100\n",
            "2267/2267 [==============================] - 3s 1ms/step - loss: 0.6910 - mean_squared_error: 0.6442 - val_loss: 0.6820 - val_mean_squared_error: 0.6368\n",
            "Epoch 9/100\n",
            "2267/2267 [==============================] - 3s 1ms/step - loss: 0.6835 - mean_squared_error: 0.6392 - val_loss: 0.6547 - val_mean_squared_error: 0.6116\n",
            "Epoch 10/100\n",
            "2267/2267 [==============================] - 3s 1ms/step - loss: 0.6708 - mean_squared_error: 0.6290 - val_loss: 0.6342 - val_mean_squared_error: 0.5937\n",
            "Epoch 11/100\n",
            "2267/2267 [==============================] - 3s 1ms/step - loss: 0.6732 - mean_squared_error: 0.6338 - val_loss: 0.6222 - val_mean_squared_error: 0.5833\n",
            "Epoch 12/100\n",
            "2267/2267 [==============================] - 3s 1ms/step - loss: 0.6629 - mean_squared_error: 0.6247 - val_loss: 0.6226 - val_mean_squared_error: 0.5852\n",
            "Epoch 13/100\n",
            "2267/2267 [==============================] - 3s 1ms/step - loss: 0.6605 - mean_squared_error: 0.6241 - val_loss: 0.6717 - val_mean_squared_error: 0.6363\n",
            "Epoch 14/100\n",
            "2267/2267 [==============================] - 3s 1ms/step - loss: 0.6537 - mean_squared_error: 0.6182 - val_loss: 0.6294 - val_mean_squared_error: 0.5939\n",
            "Epoch 15/100\n",
            "2267/2267 [==============================] - 4s 2ms/step - loss: 0.6597 - mean_squared_error: 0.6251 - val_loss: 0.6271 - val_mean_squared_error: 0.5929\n",
            "Epoch 16/100\n",
            "2267/2267 [==============================] - 3s 2ms/step - loss: 0.6474 - mean_squared_error: 0.6139 - val_loss: 0.6730 - val_mean_squared_error: 0.6399\n",
            "Epoch 17/100\n",
            "2267/2267 [==============================] - 3s 1ms/step - loss: 0.6461 - mean_squared_error: 0.6137 - val_loss: 0.6360 - val_mean_squared_error: 0.6036\n",
            "Epoch 18/100\n",
            "2267/2267 [==============================] - 3s 1ms/step - loss: 0.6461 - mean_squared_error: 0.6140 - val_loss: 0.6176 - val_mean_squared_error: 0.5856\n",
            "Epoch 19/100\n",
            "2267/2267 [==============================] - 3s 1ms/step - loss: 0.6416 - mean_squared_error: 0.6101 - val_loss: 0.6239 - val_mean_squared_error: 0.5927\n",
            "Epoch 20/100\n",
            "2267/2267 [==============================] - 3s 1ms/step - loss: 0.6361 - mean_squared_error: 0.6054 - val_loss: 0.7104 - val_mean_squared_error: 0.6799\n",
            "Epoch 21/100\n",
            "2267/2267 [==============================] - 3s 2ms/step - loss: 0.6360 - mean_squared_error: 0.6055 - val_loss: 0.6093 - val_mean_squared_error: 0.5791\n",
            "Epoch 22/100\n",
            "2267/2267 [==============================] - 3s 2ms/step - loss: 0.6326 - mean_squared_error: 0.6029 - val_loss: 0.6269 - val_mean_squared_error: 0.5975\n",
            "Epoch 23/100\n",
            "2267/2267 [==============================] - 4s 2ms/step - loss: 0.6305 - mean_squared_error: 0.6014 - val_loss: 0.6265 - val_mean_squared_error: 0.5976\n",
            "Epoch 24/100\n",
            "2267/2267 [==============================] - 3s 2ms/step - loss: 0.6241 - mean_squared_error: 0.5955 - val_loss: 0.6236 - val_mean_squared_error: 0.5950\n",
            "Epoch 25/100\n",
            "2267/2267 [==============================] - 3s 1ms/step - loss: 0.6243 - mean_squared_error: 0.5959 - val_loss: 0.6371 - val_mean_squared_error: 0.6086\n",
            "Epoch 26/100\n",
            "2267/2267 [==============================] - 4s 2ms/step - loss: 0.6235 - mean_squared_error: 0.5954 - val_loss: 0.6767 - val_mean_squared_error: 0.6488\n",
            "Epoch 27/100\n",
            "2267/2267 [==============================] - 3s 1ms/step - loss: 0.6133 - mean_squared_error: 0.5857 - val_loss: 0.6591 - val_mean_squared_error: 0.6319\n",
            "Epoch 28/100\n",
            "2267/2267 [==============================] - 4s 2ms/step - loss: 0.6152 - mean_squared_error: 0.5880 - val_loss: 0.6550 - val_mean_squared_error: 0.6280\n",
            "Epoch 29/100\n",
            "2267/2267 [==============================] - 3s 1ms/step - loss: 0.6173 - mean_squared_error: 0.5903 - val_loss: 0.6147 - val_mean_squared_error: 0.5878\n",
            "Epoch 30/100\n",
            "2267/2267 [==============================] - 3s 1ms/step - loss: 0.6125 - mean_squared_error: 0.5858 - val_loss: 0.6239 - val_mean_squared_error: 0.5973\n",
            "Epoch 31/100\n",
            "2267/2267 [==============================] - 3s 1ms/step - loss: 0.6144 - mean_squared_error: 0.5880 - val_loss: 0.6306 - val_mean_squared_error: 0.6043\n",
            "Epoch 32/100\n",
            "2267/2267 [==============================] - 3s 1ms/step - loss: 0.6118 - mean_squared_error: 0.5857 - val_loss: 0.6198 - val_mean_squared_error: 0.5937\n",
            "Epoch 33/100\n",
            "2267/2267 [==============================] - 3s 2ms/step - loss: 0.6072 - mean_squared_error: 0.5813 - val_loss: 0.6288 - val_mean_squared_error: 0.6030\n",
            "Epoch 34/100\n",
            "2267/2267 [==============================] - 3s 1ms/step - loss: 0.6077 - mean_squared_error: 0.5820 - val_loss: 0.6161 - val_mean_squared_error: 0.5905\n",
            "Epoch 35/100\n",
            "2267/2267 [==============================] - 4s 2ms/step - loss: 0.6026 - mean_squared_error: 0.5771 - val_loss: 0.6262 - val_mean_squared_error: 0.6007\n",
            "Epoch 36/100\n",
            "2267/2267 [==============================] - 3s 1ms/step - loss: 0.6009 - mean_squared_error: 0.5756 - val_loss: 0.6274 - val_mean_squared_error: 0.6020\n",
            "Epoch 37/100\n",
            "2267/2267 [==============================] - 3s 1ms/step - loss: 0.5999 - mean_squared_error: 0.5747 - val_loss: 0.6193 - val_mean_squared_error: 0.5942\n",
            "Epoch 38/100\n",
            "2267/2267 [==============================] - 3s 1ms/step - loss: 0.5985 - mean_squared_error: 0.5735 - val_loss: 0.6256 - val_mean_squared_error: 0.6008\n",
            "Epoch 39/100\n",
            "2267/2267 [==============================] - 4s 2ms/step - loss: 0.5970 - mean_squared_error: 0.5722 - val_loss: 0.6179 - val_mean_squared_error: 0.5932\n",
            "Epoch 40/100\n",
            "2267/2267 [==============================] - 4s 2ms/step - loss: 0.5931 - mean_squared_error: 0.5685 - val_loss: 0.6374 - val_mean_squared_error: 0.6130\n",
            "Epoch 41/100\n",
            "2267/2267 [==============================] - 3s 1ms/step - loss: 0.5963 - mean_squared_error: 0.5718 - val_loss: 0.6160 - val_mean_squared_error: 0.5916\n",
            "Epoch 42/100\n",
            "2267/2267 [==============================] - 4s 2ms/step - loss: 0.5934 - mean_squared_error: 0.5691 - val_loss: 0.6205 - val_mean_squared_error: 0.5963\n",
            "Epoch 43/100\n",
            "2267/2267 [==============================] - 4s 2ms/step - loss: 0.5922 - mean_squared_error: 0.5680 - val_loss: 0.6150 - val_mean_squared_error: 0.5908\n",
            "Epoch 44/100\n",
            "2267/2267 [==============================] - 3s 1ms/step - loss: 0.5928 - mean_squared_error: 0.5688 - val_loss: 0.6175 - val_mean_squared_error: 0.5935\n",
            "Epoch 45/100\n",
            "2267/2267 [==============================] - 3s 1ms/step - loss: 0.5893 - mean_squared_error: 0.5654 - val_loss: 0.6182 - val_mean_squared_error: 0.5943\n",
            "Epoch 46/100\n",
            "2267/2267 [==============================] - 3s 1ms/step - loss: 0.5880 - mean_squared_error: 0.5642 - val_loss: 0.6225 - val_mean_squared_error: 0.5987\n",
            "Epoch 47/100\n",
            "2267/2267 [==============================] - 3s 1ms/step - loss: 0.5862 - mean_squared_error: 0.5625 - val_loss: 0.6192 - val_mean_squared_error: 0.5956\n",
            "Epoch 48/100\n",
            "2267/2267 [==============================] - 3s 1ms/step - loss: 0.5866 - mean_squared_error: 0.5629 - val_loss: 0.6172 - val_mean_squared_error: 0.5936\n",
            "Epoch 49/100\n",
            "2267/2267 [==============================] - 3s 1ms/step - loss: 0.5861 - mean_squared_error: 0.5626 - val_loss: 0.6207 - val_mean_squared_error: 0.5973\n",
            "Epoch 50/100\n",
            "2267/2267 [==============================] - 3s 1ms/step - loss: 0.5847 - mean_squared_error: 0.5613 - val_loss: 0.6258 - val_mean_squared_error: 0.6024\n",
            "Epoch 51/100\n",
            "2267/2267 [==============================] - 3s 1ms/step - loss: 0.5858 - mean_squared_error: 0.5625 - val_loss: 0.6178 - val_mean_squared_error: 0.5945\n",
            "Epoch 52/100\n",
            "2267/2267 [==============================] - 4s 2ms/step - loss: 0.5834 - mean_squared_error: 0.5601 - val_loss: 0.6212 - val_mean_squared_error: 0.5979\n",
            "Epoch 53/100\n",
            "2267/2267 [==============================] - 3s 1ms/step - loss: 0.5837 - mean_squared_error: 0.5605 - val_loss: 0.6190 - val_mean_squared_error: 0.5958\n",
            "Epoch 54/100\n",
            "2267/2267 [==============================] - 3s 1ms/step - loss: 0.5834 - mean_squared_error: 0.5602 - val_loss: 0.6209 - val_mean_squared_error: 0.5977\n",
            "Epoch 55/100\n",
            "2267/2267 [==============================] - 3s 2ms/step - loss: 0.5813 - mean_squared_error: 0.5582 - val_loss: 0.6180 - val_mean_squared_error: 0.5949\n",
            "Epoch 56/100\n",
            "2267/2267 [==============================] - 3s 1ms/step - loss: 0.5819 - mean_squared_error: 0.5589 - val_loss: 0.6190 - val_mean_squared_error: 0.5960\n",
            "Epoch 57/100\n",
            "2267/2267 [==============================] - 3s 1ms/step - loss: 0.5803 - mean_squared_error: 0.5573 - val_loss: 0.6198 - val_mean_squared_error: 0.5968\n",
            "Epoch 58/100\n",
            "2267/2267 [==============================] - 3s 2ms/step - loss: 0.5798 - mean_squared_error: 0.5568 - val_loss: 0.6203 - val_mean_squared_error: 0.5974\n",
            "Epoch 59/100\n",
            "2267/2267 [==============================] - 3s 1ms/step - loss: 0.5790 - mean_squared_error: 0.5561 - val_loss: 0.6207 - val_mean_squared_error: 0.5978\n",
            "Epoch 60/100\n",
            "2267/2267 [==============================] - 4s 2ms/step - loss: 0.5781 - mean_squared_error: 0.5553 - val_loss: 0.6224 - val_mean_squared_error: 0.5996\n",
            "Epoch 61/100\n",
            "2267/2267 [==============================] - 3s 1ms/step - loss: 0.5781 - mean_squared_error: 0.5553 - val_loss: 0.6209 - val_mean_squared_error: 0.5981\n",
            "Epoch 62/100\n",
            "2267/2267 [==============================] - 3s 1ms/step - loss: 0.5772 - mean_squared_error: 0.5545 - val_loss: 0.6210 - val_mean_squared_error: 0.5982\n",
            "Epoch 63/100\n",
            "2267/2267 [==============================] - 4s 2ms/step - loss: 0.5775 - mean_squared_error: 0.5549 - val_loss: 0.6208 - val_mean_squared_error: 0.5981\n",
            "Epoch 64/100\n",
            "2267/2267 [==============================] - 4s 2ms/step - loss: 0.5763 - mean_squared_error: 0.5536 - val_loss: 0.6230 - val_mean_squared_error: 0.6003\n",
            "Epoch 65/100\n",
            "2267/2267 [==============================] - 3s 1ms/step - loss: 0.5767 - mean_squared_error: 0.5541 - val_loss: 0.6221 - val_mean_squared_error: 0.5995\n",
            "Epoch 66/100\n",
            "2267/2267 [==============================] - 3s 2ms/step - loss: 0.5764 - mean_squared_error: 0.5538 - val_loss: 0.6213 - val_mean_squared_error: 0.5987\n",
            "Epoch 67/100\n",
            "2267/2267 [==============================] - 3s 1ms/step - loss: 0.5751 - mean_squared_error: 0.5526 - val_loss: 0.6255 - val_mean_squared_error: 0.6030\n",
            "Epoch 68/100\n",
            "2267/2267 [==============================] - 3s 1ms/step - loss: 0.5762 - mean_squared_error: 0.5536 - val_loss: 0.6256 - val_mean_squared_error: 0.6030\n",
            "Epoch 69/100\n",
            "2267/2267 [==============================] - 3s 2ms/step - loss: 0.5745 - mean_squared_error: 0.5519 - val_loss: 0.6228 - val_mean_squared_error: 0.6003\n",
            "Epoch 70/100\n",
            "2267/2267 [==============================] - 3s 1ms/step - loss: 0.5752 - mean_squared_error: 0.5528 - val_loss: 0.6222 - val_mean_squared_error: 0.5997\n",
            "Epoch 71/100\n",
            "2267/2267 [==============================] - 4s 2ms/step - loss: 0.5750 - mean_squared_error: 0.5525 - val_loss: 0.6214 - val_mean_squared_error: 0.5990\n",
            "Epoch 72/100\n",
            "2267/2267 [==============================] - 4s 2ms/step - loss: 0.5750 - mean_squared_error: 0.5526 - val_loss: 0.6220 - val_mean_squared_error: 0.5996\n",
            "Epoch 73/100\n",
            "2267/2267 [==============================] - 3s 2ms/step - loss: 0.5743 - mean_squared_error: 0.5519 - val_loss: 0.6218 - val_mean_squared_error: 0.5994\n",
            "Epoch 74/100\n",
            "2267/2267 [==============================] - 3s 1ms/step - loss: 0.5749 - mean_squared_error: 0.5525 - val_loss: 0.6216 - val_mean_squared_error: 0.5992\n",
            "Epoch 75/100\n",
            "2267/2267 [==============================] - 3s 2ms/step - loss: 0.5741 - mean_squared_error: 0.5517 - val_loss: 0.6232 - val_mean_squared_error: 0.6008\n",
            "Epoch 76/100\n",
            "2267/2267 [==============================] - 4s 2ms/step - loss: 0.5742 - mean_squared_error: 0.5519 - val_loss: 0.6240 - val_mean_squared_error: 0.6017\n",
            "Epoch 77/100\n",
            "2267/2267 [==============================] - 3s 1ms/step - loss: 0.5732 - mean_squared_error: 0.5509 - val_loss: 0.6223 - val_mean_squared_error: 0.6000\n",
            "Epoch 78/100\n",
            "2267/2267 [==============================] - 4s 2ms/step - loss: 0.5722 - mean_squared_error: 0.5499 - val_loss: 0.6252 - val_mean_squared_error: 0.6029\n",
            "Epoch 79/100\n",
            "2267/2267 [==============================] - 4s 2ms/step - loss: 0.5739 - mean_squared_error: 0.5516 - val_loss: 0.6227 - val_mean_squared_error: 0.6004\n",
            "Epoch 80/100\n",
            "2267/2267 [==============================] - 3s 2ms/step - loss: 0.5732 - mean_squared_error: 0.5510 - val_loss: 0.6216 - val_mean_squared_error: 0.5993\n",
            "Epoch 81/100\n",
            "2267/2267 [==============================] - 3s 1ms/step - loss: 0.5734 - mean_squared_error: 0.5512 - val_loss: 0.6227 - val_mean_squared_error: 0.6004\n",
            "Epoch 82/100\n",
            "2267/2267 [==============================] - 4s 2ms/step - loss: 0.5728 - mean_squared_error: 0.5505 - val_loss: 0.6223 - val_mean_squared_error: 0.6001\n",
            "Epoch 83/100\n",
            "2267/2267 [==============================] - 3s 1ms/step - loss: 0.5728 - mean_squared_error: 0.5506 - val_loss: 0.6222 - val_mean_squared_error: 0.6000\n",
            "Epoch 84/100\n",
            "2267/2267 [==============================] - 3s 2ms/step - loss: 0.5728 - mean_squared_error: 0.5505 - val_loss: 0.6223 - val_mean_squared_error: 0.6001\n",
            "Epoch 85/100\n",
            "2267/2267 [==============================] - 3s 1ms/step - loss: 0.5726 - mean_squared_error: 0.5504 - val_loss: 0.6222 - val_mean_squared_error: 0.6000\n",
            "Epoch 86/100\n",
            "2267/2267 [==============================] - 4s 2ms/step - loss: 0.5727 - mean_squared_error: 0.5505 - val_loss: 0.6225 - val_mean_squared_error: 0.6004\n",
            "Epoch 87/100\n",
            "2267/2267 [==============================] - 3s 1ms/step - loss: 0.5724 - mean_squared_error: 0.5502 - val_loss: 0.6222 - val_mean_squared_error: 0.6000\n",
            "Epoch 88/100\n",
            "2267/2267 [==============================] - 3s 1ms/step - loss: 0.5724 - mean_squared_error: 0.5503 - val_loss: 0.6224 - val_mean_squared_error: 0.6002\n",
            "Epoch 89/100\n",
            "2267/2267 [==============================] - 3s 2ms/step - loss: 0.5720 - mean_squared_error: 0.5498 - val_loss: 0.6235 - val_mean_squared_error: 0.6013\n",
            "Epoch 90/100\n",
            "2267/2267 [==============================] - 3s 1ms/step - loss: 0.5720 - mean_squared_error: 0.5499 - val_loss: 0.6228 - val_mean_squared_error: 0.6007\n",
            "Epoch 91/100\n",
            "2267/2267 [==============================] - 3s 1ms/step - loss: 0.5717 - mean_squared_error: 0.5495 - val_loss: 0.6230 - val_mean_squared_error: 0.6009\n",
            "Epoch 92/100\n",
            "2267/2267 [==============================] - 3s 2ms/step - loss: 0.5718 - mean_squared_error: 0.5497 - val_loss: 0.6228 - val_mean_squared_error: 0.6007\n",
            "Epoch 93/100\n",
            "2267/2267 [==============================] - 4s 2ms/step - loss: 0.5713 - mean_squared_error: 0.5492 - val_loss: 0.6224 - val_mean_squared_error: 0.6003\n",
            "Epoch 94/100\n",
            "2267/2267 [==============================] - 4s 2ms/step - loss: 0.5716 - mean_squared_error: 0.5495 - val_loss: 0.6236 - val_mean_squared_error: 0.6015\n",
            "Epoch 95/100\n",
            "2267/2267 [==============================] - 3s 1ms/step - loss: 0.5714 - mean_squared_error: 0.5493 - val_loss: 0.6234 - val_mean_squared_error: 0.6013\n",
            "Epoch 96/100\n",
            "2267/2267 [==============================] - 4s 2ms/step - loss: 0.5715 - mean_squared_error: 0.5494 - val_loss: 0.6225 - val_mean_squared_error: 0.6004\n",
            "Epoch 97/100\n",
            "2267/2267 [==============================] - 4s 2ms/step - loss: 0.5714 - mean_squared_error: 0.5493 - val_loss: 0.6225 - val_mean_squared_error: 0.6004\n",
            "Epoch 98/100\n",
            "2267/2267 [==============================] - 3s 1ms/step - loss: 0.5712 - mean_squared_error: 0.5491 - val_loss: 0.6224 - val_mean_squared_error: 0.6004\n",
            "Epoch 99/100\n",
            "2267/2267 [==============================] - 3s 1ms/step - loss: 0.5711 - mean_squared_error: 0.5490 - val_loss: 0.6230 - val_mean_squared_error: 0.6009\n",
            "Epoch 100/100\n",
            "2267/2267 [==============================] - 4s 2ms/step - loss: 0.5710 - mean_squared_error: 0.5490 - val_loss: 0.6236 - val_mean_squared_error: 0.6015\n"
          ],
          "name": "stdout"
        },
        {
          "output_type": "execute_result",
          "data": {
            "text/plain": [
              "<tensorflow.python.keras.callbacks.History at 0x7f0bf03c7750>"
            ]
          },
          "metadata": {
            "tags": []
          },
          "execution_count": 37
        }
      ]
    },
    {
      "cell_type": "code",
      "metadata": {
        "colab": {
          "base_uri": "https://localhost:8080/"
        },
        "id": "LIhFtDzVajJB",
        "outputId": "29480c87-9d77-4e1c-c926-ee40265ecbf1"
      },
      "source": [
        "print(mean_squared_error(y_cv,model.predict(x_cv).flatten()))"
      ],
      "execution_count": 35,
      "outputs": [
        {
          "output_type": "stream",
          "text": [
            "0.5813406135065949\n"
          ],
          "name": "stdout"
        }
      ]
    },
    {
      "cell_type": "code",
      "metadata": {
        "colab": {
          "base_uri": "https://localhost:8080/",
          "height": 368
        },
        "id": "DJ6005vQiWSG",
        "outputId": "33b6e935-6687-4ead-ae5c-684593e9b1ac"
      },
      "source": [
        "sns.lineplot(np.arange(len(y_cv)),y_cv)\n",
        "sns.lineplot(np.arange(len(y_cv)),model.predict(x_cv).flatten())"
      ],
      "execution_count": 36,
      "outputs": [
        {
          "output_type": "stream",
          "text": [
            "/usr/local/lib/python3.7/dist-packages/seaborn/_decorators.py:43: FutureWarning: Pass the following variables as keyword args: x, y. From version 0.12, the only valid positional argument will be `data`, and passing other arguments without an explicit keyword will result in an error or misinterpretation.\n",
            "  FutureWarning\n",
            "/usr/local/lib/python3.7/dist-packages/seaborn/_decorators.py:43: FutureWarning: Pass the following variables as keyword args: x, y. From version 0.12, the only valid positional argument will be `data`, and passing other arguments without an explicit keyword will result in an error or misinterpretation.\n",
            "  FutureWarning\n"
          ],
          "name": "stderr"
        },
        {
          "output_type": "execute_result",
          "data": {
            "text/plain": [
              "<matplotlib.axes._subplots.AxesSubplot at 0x7f9a6b6063d0>"
            ]
          },
          "metadata": {
            "tags": []
          },
          "execution_count": 36
        },
        {
          "output_type": "display_data",
          "data": {
            "image/png": "[encoded data removed]",
            "text/plain": [
              "<Figure size 432x288 with 1 Axes>"
            ]
          },
          "metadata": {
            "tags": [],
            "needs_background": "light"
          }
        }
      ]
    },
    {
      "cell_type": "code",
      "metadata": {
        "colab": {
          "base_uri": "https://localhost:8080/",
          "height": 302
        },
        "id": "paxT2I05a3rg",
        "outputId": "6e668fac-d350-424b-9254-6549e49bf687"
      },
      "source": [
        "model.load_weights(checkpoint_filepath)"
      ],
      "execution_count": 37,
      "outputs": [
        {
          "output_type": "error",
          "ename": "ValueError",
          "evalue": "ignored",
          "traceback": [
            "\u001b[0;31m---------------------------------------------------------------------------\u001b[0m",
            "\u001b[0;31mValueError\u001b[0m                                Traceback (most recent call last)",
            "\u001b[0;32m<ipython-input-37-3f92b3ade396>\u001b[0m in \u001b[0;36m<module>\u001b[0;34m()\u001b[0m\n\u001b[0;32m----> 1\u001b[0;31m \u001b[0mmodel\u001b[0m\u001b[0;34m.\u001b[0m\u001b[0mload_weights\u001b[0m\u001b[0;34m(\u001b[0m\u001b[0mcheckpoint_filepath\u001b[0m\u001b[0;34m)\u001b[0m\u001b[0;34m\u001b[0m\u001b[0;34m\u001b[0m\u001b[0m\n\u001b[0m",
            "\u001b[0;32m/usr/local/lib/python3.7/dist-packages/tensorflow/python/keras/engine/training.py\u001b[0m in \u001b[0;36mload_weights\u001b[0;34m(self, filepath, by_name, skip_mismatch, options)\u001b[0m\n\u001b[1;32m   2295\u001b[0m     \u001b[0mfilepath\u001b[0m\u001b[0;34m,\u001b[0m \u001b[0msave_format\u001b[0m \u001b[0;34m=\u001b[0m \u001b[0m_detect_save_format\u001b[0m\u001b[0;34m(\u001b[0m\u001b[0mfilepath\u001b[0m\u001b[0;34m)\u001b[0m\u001b[0;34m\u001b[0m\u001b[0;34m\u001b[0m\u001b[0m\n\u001b[1;32m   2296\u001b[0m     \u001b[0;32mif\u001b[0m \u001b[0msave_format\u001b[0m \u001b[0;34m==\u001b[0m \u001b[0;34m'tf'\u001b[0m\u001b[0;34m:\u001b[0m\u001b[0;34m\u001b[0m\u001b[0;34m\u001b[0m\u001b[0m\n\u001b[0;32m-> 2297\u001b[0;31m       \u001b[0mstatus\u001b[0m \u001b[0;34m=\u001b[0m \u001b[0mself\u001b[0m\u001b[0;34m.\u001b[0m\u001b[0m_trackable_saver\u001b[0m\u001b[0;34m.\u001b[0m\u001b[0mrestore\u001b[0m\u001b[0;34m(\u001b[0m\u001b[0mfilepath\u001b[0m\u001b[0;34m,\u001b[0m \u001b[0moptions\u001b[0m\u001b[0;34m)\u001b[0m\u001b[0;34m\u001b[0m\u001b[0;34m\u001b[0m\u001b[0m\n\u001b[0m\u001b[1;32m   2298\u001b[0m       \u001b[0;32mif\u001b[0m \u001b[0mby_name\u001b[0m\u001b[0;34m:\u001b[0m\u001b[0;34m\u001b[0m\u001b[0;34m\u001b[0m\u001b[0m\n\u001b[1;32m   2299\u001b[0m         raise NotImplementedError(\n",
            "\u001b[0;32m/usr/local/lib/python3.7/dist-packages/tensorflow/python/training/tracking/util.py\u001b[0m in \u001b[0;36mrestore\u001b[0;34m(self, save_path, options)\u001b[0m\n\u001b[1;32m   1337\u001b[0m         options=options)\n\u001b[1;32m   1338\u001b[0m     base.CheckpointPosition(\n\u001b[0;32m-> 1339\u001b[0;31m         checkpoint=checkpoint, proto_id=0).restore(self._graph_view.root)\n\u001b[0m\u001b[1;32m   1340\u001b[0m \u001b[0;34m\u001b[0m\u001b[0m\n\u001b[1;32m   1341\u001b[0m     \u001b[0;31m# Attached dependencies are not attached to the root, so should be restored\u001b[0m\u001b[0;34m\u001b[0m\u001b[0;34m\u001b[0m\u001b[0;34m\u001b[0m\u001b[0m\n",
            "\u001b[0;32m/usr/local/lib/python3.7/dist-packages/tensorflow/python/training/tracking/base.py\u001b[0m in \u001b[0;36mrestore\u001b[0;34m(self, trackable)\u001b[0m\n\u001b[1;32m    256\u001b[0m         \u001b[0;31m# This object's correspondence with a checkpointed object is new, so\u001b[0m\u001b[0;34m\u001b[0m\u001b[0;34m\u001b[0m\u001b[0;34m\u001b[0m\u001b[0m\n\u001b[1;32m    257\u001b[0m         \u001b[0;31m# process deferred restorations for it and its dependencies.\u001b[0m\u001b[0;34m\u001b[0m\u001b[0;34m\u001b[0m\u001b[0;34m\u001b[0m\u001b[0m\n\u001b[0;32m--> 258\u001b[0;31m         \u001b[0mrestore_ops\u001b[0m \u001b[0;34m=\u001b[0m \u001b[0mtrackable\u001b[0m\u001b[0;34m.\u001b[0m\u001b[0m_restore_from_checkpoint_position\u001b[0m\u001b[0;34m(\u001b[0m\u001b[0mself\u001b[0m\u001b[0;34m)\u001b[0m  \u001b[0;31m# pylint: disable=protected-access\u001b[0m\u001b[0;34m\u001b[0m\u001b[0;34m\u001b[0m\u001b[0m\n\u001b[0m\u001b[1;32m    259\u001b[0m         \u001b[0;32mif\u001b[0m \u001b[0mrestore_ops\u001b[0m\u001b[0;34m:\u001b[0m\u001b[0;34m\u001b[0m\u001b[0;34m\u001b[0m\u001b[0m\n\u001b[1;32m    260\u001b[0m           \u001b[0mself\u001b[0m\u001b[0;34m.\u001b[0m\u001b[0m_checkpoint\u001b[0m\u001b[0;34m.\u001b[0m\u001b[0mnew_restore_ops\u001b[0m\u001b[0;34m(\u001b[0m\u001b[0mrestore_ops\u001b[0m\u001b[0;34m)\u001b[0m\u001b[0;34m\u001b[0m\u001b[0;34m\u001b[0m\u001b[0m\n",
            "\u001b[0;32m/usr/local/lib/python3.7/dist-packages/tensorflow/python/training/tracking/base.py\u001b[0m in \u001b[0;36m_restore_from_checkpoint_position\u001b[0;34m(self, checkpoint_position)\u001b[0m\n\u001b[1;32m    970\u001b[0m           ._single_restoration_from_checkpoint_position(\n\u001b[1;32m    971\u001b[0m               \u001b[0mcheckpoint_position\u001b[0m\u001b[0;34m=\u001b[0m\u001b[0mcurrent_position\u001b[0m\u001b[0;34m,\u001b[0m\u001b[0;34m\u001b[0m\u001b[0;34m\u001b[0m\u001b[0m\n\u001b[0;32m--> 972\u001b[0;31m               visit_queue=visit_queue))\n\u001b[0m\u001b[1;32m    973\u001b[0m       \u001b[0mrestore_ops\u001b[0m\u001b[0;34m.\u001b[0m\u001b[0mextend\u001b[0m\u001b[0;34m(\u001b[0m\u001b[0mnew_restore_ops\u001b[0m\u001b[0;34m)\u001b[0m\u001b[0;34m\u001b[0m\u001b[0;34m\u001b[0m\u001b[0m\n\u001b[1;32m    974\u001b[0m       \u001b[0mtensor_saveables\u001b[0m\u001b[0;34m.\u001b[0m\u001b[0mupdate\u001b[0m\u001b[0;34m(\u001b[0m\u001b[0mnew_tensor_saveables\u001b[0m\u001b[0;34m)\u001b[0m\u001b[0;34m\u001b[0m\u001b[0;34m\u001b[0m\u001b[0m\n",
            "\u001b[0;32m/usr/local/lib/python3.7/dist-packages/tensorflow/python/training/tracking/base.py\u001b[0m in \u001b[0;36m_single_restoration_from_checkpoint_position\u001b[0;34m(self, checkpoint_position, visit_queue)\u001b[0m\n\u001b[1;32m   1005\u001b[0m                                                []).append(child_position)\n\u001b[1;32m   1006\u001b[0m       \u001b[0;32melse\u001b[0m\u001b[0;34m:\u001b[0m\u001b[0;34m\u001b[0m\u001b[0;34m\u001b[0m\u001b[0m\n\u001b[0;32m-> 1007\u001b[0;31m         \u001b[0;32mif\u001b[0m \u001b[0mchild_position\u001b[0m\u001b[0;34m.\u001b[0m\u001b[0mbind_object\u001b[0m\u001b[0;34m(\u001b[0m\u001b[0mtrackable\u001b[0m\u001b[0;34m=\u001b[0m\u001b[0mlocal_object\u001b[0m\u001b[0;34m)\u001b[0m\u001b[0;34m:\u001b[0m\u001b[0;34m\u001b[0m\u001b[0;34m\u001b[0m\u001b[0m\n\u001b[0m\u001b[1;32m   1008\u001b[0m           \u001b[0;31m# This object's correspondence is new, so dependencies need to be\u001b[0m\u001b[0;34m\u001b[0m\u001b[0;34m\u001b[0m\u001b[0;34m\u001b[0m\u001b[0m\n\u001b[1;32m   1009\u001b[0m           \u001b[0;31m# visited. Delay doing it so that we get a breadth-first dependency\u001b[0m\u001b[0;34m\u001b[0m\u001b[0;34m\u001b[0m\u001b[0;34m\u001b[0m\u001b[0m\n",
            "\u001b[0;32m/usr/local/lib/python3.7/dist-packages/tensorflow/python/training/tracking/base.py\u001b[0m in \u001b[0;36mbind_object\u001b[0;34m(self, trackable)\u001b[0m\n\u001b[1;32m    310\u001b[0m                   proto_id=slot_restoration.slot_variable_id),\n\u001b[1;32m    311\u001b[0m               \u001b[0mvariable\u001b[0m\u001b[0;34m=\u001b[0m\u001b[0mtrackable\u001b[0m\u001b[0;34m,\u001b[0m\u001b[0;34m\u001b[0m\u001b[0;34m\u001b[0m\u001b[0m\n\u001b[0;32m--> 312\u001b[0;31m               slot_name=slot_restoration.slot_name)\n\u001b[0m\u001b[1;32m    313\u001b[0m       \u001b[0;32mreturn\u001b[0m \u001b[0;32mTrue\u001b[0m  \u001b[0;31m# New assignment\u001b[0m\u001b[0;34m\u001b[0m\u001b[0;34m\u001b[0m\u001b[0m\n\u001b[1;32m    314\u001b[0m     \u001b[0;32melse\u001b[0m\u001b[0;34m:\u001b[0m\u001b[0;34m\u001b[0m\u001b[0;34m\u001b[0m\u001b[0m\n",
            "\u001b[0;32m/usr/local/lib/python3.7/dist-packages/tensorflow/python/keras/optimizer_v2/optimizer_v2.py\u001b[0m in \u001b[0;36m_create_or_restore_slot_variable\u001b[0;34m(self, slot_variable_position, slot_name, variable)\u001b[0m\n\u001b[1;32m   1395\u001b[0m       \u001b[0;31m# If we've either made this slot variable, or if we've pulled out an\u001b[0m\u001b[0;34m\u001b[0m\u001b[0;34m\u001b[0m\u001b[0;34m\u001b[0m\u001b[0m\n\u001b[1;32m   1396\u001b[0m       \u001b[0;31m# existing slot variable, we should restore it.\u001b[0m\u001b[0;34m\u001b[0m\u001b[0;34m\u001b[0m\u001b[0;34m\u001b[0m\u001b[0m\n\u001b[0;32m-> 1397\u001b[0;31m       \u001b[0mslot_variable_position\u001b[0m\u001b[0;34m.\u001b[0m\u001b[0mrestore\u001b[0m\u001b[0;34m(\u001b[0m\u001b[0mslot_variable\u001b[0m\u001b[0;34m)\u001b[0m\u001b[0;34m\u001b[0m\u001b[0;34m\u001b[0m\u001b[0m\n\u001b[0m\u001b[1;32m   1398\u001b[0m     \u001b[0;32melse\u001b[0m\u001b[0;34m:\u001b[0m\u001b[0;34m\u001b[0m\u001b[0;34m\u001b[0m\u001b[0m\n\u001b[1;32m   1399\u001b[0m       \u001b[0;31m# We didn't make the slot variable. Defer restoring until it gets created\u001b[0m\u001b[0;34m\u001b[0m\u001b[0;34m\u001b[0m\u001b[0;34m\u001b[0m\u001b[0m\n",
            "\u001b[0;32m/usr/local/lib/python3.7/dist-packages/tensorflow/python/training/tracking/base.py\u001b[0m in \u001b[0;36mrestore\u001b[0;34m(self, trackable)\u001b[0m\n\u001b[1;32m    256\u001b[0m         \u001b[0;31m# This object's correspondence with a checkpointed object is new, so\u001b[0m\u001b[0;34m\u001b[0m\u001b[0;34m\u001b[0m\u001b[0;34m\u001b[0m\u001b[0m\n\u001b[1;32m    257\u001b[0m         \u001b[0;31m# process deferred restorations for it and its dependencies.\u001b[0m\u001b[0;34m\u001b[0m\u001b[0;34m\u001b[0m\u001b[0;34m\u001b[0m\u001b[0m\n\u001b[0;32m--> 258\u001b[0;31m         \u001b[0mrestore_ops\u001b[0m \u001b[0;34m=\u001b[0m \u001b[0mtrackable\u001b[0m\u001b[0;34m.\u001b[0m\u001b[0m_restore_from_checkpoint_position\u001b[0m\u001b[0;34m(\u001b[0m\u001b[0mself\u001b[0m\u001b[0;34m)\u001b[0m  \u001b[0;31m# pylint: disable=protected-access\u001b[0m\u001b[0;34m\u001b[0m\u001b[0;34m\u001b[0m\u001b[0m\n\u001b[0m\u001b[1;32m    259\u001b[0m         \u001b[0;32mif\u001b[0m \u001b[0mrestore_ops\u001b[0m\u001b[0;34m:\u001b[0m\u001b[0;34m\u001b[0m\u001b[0;34m\u001b[0m\u001b[0m\n\u001b[1;32m    260\u001b[0m           \u001b[0mself\u001b[0m\u001b[0;34m.\u001b[0m\u001b[0m_checkpoint\u001b[0m\u001b[0;34m.\u001b[0m\u001b[0mnew_restore_ops\u001b[0m\u001b[0;34m(\u001b[0m\u001b[0mrestore_ops\u001b[0m\u001b[0;34m)\u001b[0m\u001b[0;34m\u001b[0m\u001b[0;34m\u001b[0m\u001b[0m\n",
            "\u001b[0;32m/usr/local/lib/python3.7/dist-packages/tensorflow/python/training/tracking/base.py\u001b[0m in \u001b[0;36m_restore_from_checkpoint_position\u001b[0;34m(self, checkpoint_position)\u001b[0m\n\u001b[1;32m    976\u001b[0m     restore_ops.extend(\n\u001b[1;32m    977\u001b[0m         current_position.checkpoint.restore_saveables(\n\u001b[0;32m--> 978\u001b[0;31m             tensor_saveables, python_saveables))\n\u001b[0m\u001b[1;32m    979\u001b[0m     \u001b[0;32mreturn\u001b[0m \u001b[0mrestore_ops\u001b[0m\u001b[0;34m\u001b[0m\u001b[0;34m\u001b[0m\u001b[0m\n\u001b[1;32m    980\u001b[0m \u001b[0;34m\u001b[0m\u001b[0m\n",
            "\u001b[0;32m/usr/local/lib/python3.7/dist-packages/tensorflow/python/training/tracking/util.py\u001b[0m in \u001b[0;36mrestore_saveables\u001b[0;34m(self, tensor_saveables, python_saveables)\u001b[0m\n\u001b[1;32m    307\u001b[0m              \"expecting %s\") % (tensor_saveables.keys(), validated_names))\n\u001b[1;32m    308\u001b[0m       new_restore_ops = functional_saver.MultiDeviceSaver(\n\u001b[0;32m--> 309\u001b[0;31m           validated_saveables).restore(self.save_path_tensor, self.options)\n\u001b[0m\u001b[1;32m    310\u001b[0m       \u001b[0;32mif\u001b[0m \u001b[0;32mnot\u001b[0m \u001b[0mcontext\u001b[0m\u001b[0;34m.\u001b[0m\u001b[0mexecuting_eagerly\u001b[0m\u001b[0;34m(\u001b[0m\u001b[0;34m)\u001b[0m\u001b[0;34m:\u001b[0m\u001b[0;34m\u001b[0m\u001b[0;34m\u001b[0m\u001b[0m\n\u001b[1;32m    311\u001b[0m         \u001b[0;32mfor\u001b[0m \u001b[0mname\u001b[0m\u001b[0;34m,\u001b[0m \u001b[0mrestore_op\u001b[0m \u001b[0;32min\u001b[0m \u001b[0msorted\u001b[0m\u001b[0;34m(\u001b[0m\u001b[0mnew_restore_ops\u001b[0m\u001b[0;34m.\u001b[0m\u001b[0mitems\u001b[0m\u001b[0;34m(\u001b[0m\u001b[0;34m)\u001b[0m\u001b[0;34m)\u001b[0m\u001b[0;34m:\u001b[0m\u001b[0;34m\u001b[0m\u001b[0;34m\u001b[0m\u001b[0m\n",
            "\u001b[0;32m/usr/local/lib/python3.7/dist-packages/tensorflow/python/training/saving/functional_saver.py\u001b[0m in \u001b[0;36mrestore\u001b[0;34m(self, file_prefix, options)\u001b[0m\n\u001b[1;32m    337\u001b[0m       \u001b[0mrestore_ops\u001b[0m \u001b[0;34m=\u001b[0m \u001b[0mtf_function_restore\u001b[0m\u001b[0;34m(\u001b[0m\u001b[0;34m)\u001b[0m\u001b[0;34m\u001b[0m\u001b[0;34m\u001b[0m\u001b[0m\n\u001b[1;32m    338\u001b[0m     \u001b[0;32melse\u001b[0m\u001b[0;34m:\u001b[0m\u001b[0;34m\u001b[0m\u001b[0;34m\u001b[0m\u001b[0m\n\u001b[0;32m--> 339\u001b[0;31m       \u001b[0mrestore_ops\u001b[0m \u001b[0;34m=\u001b[0m \u001b[0mrestore_fn\u001b[0m\u001b[0;34m(\u001b[0m\u001b[0;34m)\u001b[0m\u001b[0;34m\u001b[0m\u001b[0;34m\u001b[0m\u001b[0m\n\u001b[0m\u001b[1;32m    340\u001b[0m \u001b[0;34m\u001b[0m\u001b[0m\n\u001b[1;32m    341\u001b[0m     \u001b[0;32mfor\u001b[0m \u001b[0mcallback\u001b[0m \u001b[0;32min\u001b[0m \u001b[0mself\u001b[0m\u001b[0;34m.\u001b[0m\u001b[0m_after_restore_callbacks\u001b[0m\u001b[0;34m:\u001b[0m\u001b[0;34m\u001b[0m\u001b[0;34m\u001b[0m\u001b[0m\n",
            "\u001b[0;32m/usr/local/lib/python3.7/dist-packages/tensorflow/python/training/saving/functional_saver.py\u001b[0m in \u001b[0;36mrestore_fn\u001b[0;34m()\u001b[0m\n\u001b[1;32m    321\u001b[0m       \u001b[0;32mfor\u001b[0m \u001b[0mdevice\u001b[0m\u001b[0;34m,\u001b[0m \u001b[0msaver\u001b[0m \u001b[0;32min\u001b[0m \u001b[0msorted\u001b[0m\u001b[0;34m(\u001b[0m\u001b[0mself\u001b[0m\u001b[0;34m.\u001b[0m\u001b[0m_single_device_savers\u001b[0m\u001b[0;34m.\u001b[0m\u001b[0mitems\u001b[0m\u001b[0;34m(\u001b[0m\u001b[0;34m)\u001b[0m\u001b[0;34m)\u001b[0m\u001b[0;34m:\u001b[0m\u001b[0;34m\u001b[0m\u001b[0;34m\u001b[0m\u001b[0m\n\u001b[1;32m    322\u001b[0m         \u001b[0;32mwith\u001b[0m \u001b[0mops\u001b[0m\u001b[0;34m.\u001b[0m\u001b[0mdevice\u001b[0m\u001b[0;34m(\u001b[0m\u001b[0mdevice\u001b[0m\u001b[0;34m)\u001b[0m\u001b[0;34m:\u001b[0m\u001b[0;34m\u001b[0m\u001b[0;34m\u001b[0m\u001b[0m\n\u001b[0;32m--> 323\u001b[0;31m           \u001b[0mrestore_ops\u001b[0m\u001b[0;34m.\u001b[0m\u001b[0mupdate\u001b[0m\u001b[0;34m(\u001b[0m\u001b[0msaver\u001b[0m\u001b[0;34m.\u001b[0m\u001b[0mrestore\u001b[0m\u001b[0;34m(\u001b[0m\u001b[0mfile_prefix\u001b[0m\u001b[0;34m,\u001b[0m \u001b[0moptions\u001b[0m\u001b[0;34m)\u001b[0m\u001b[0;34m)\u001b[0m\u001b[0;34m\u001b[0m\u001b[0;34m\u001b[0m\u001b[0m\n\u001b[0m\u001b[1;32m    324\u001b[0m \u001b[0;34m\u001b[0m\u001b[0m\n\u001b[1;32m    325\u001b[0m       \u001b[0;32mreturn\u001b[0m \u001b[0mrestore_ops\u001b[0m\u001b[0;34m\u001b[0m\u001b[0;34m\u001b[0m\u001b[0m\n",
            "\u001b[0;32m/usr/local/lib/python3.7/dist-packages/tensorflow/python/training/saving/functional_saver.py\u001b[0m in \u001b[0;36mrestore\u001b[0;34m(self, file_prefix, options)\u001b[0m\n\u001b[1;32m    114\u001b[0m                                           structured_restored_tensors):\n\u001b[1;32m    115\u001b[0m       restore_ops[saveable.name] = saveable.restore(\n\u001b[0;32m--> 116\u001b[0;31m           restored_tensors, restored_shapes=None)\n\u001b[0m\u001b[1;32m    117\u001b[0m     \u001b[0;32mreturn\u001b[0m \u001b[0mrestore_ops\u001b[0m\u001b[0;34m\u001b[0m\u001b[0;34m\u001b[0m\u001b[0m\n\u001b[1;32m    118\u001b[0m \u001b[0;34m\u001b[0m\u001b[0m\n",
            "\u001b[0;32m/usr/local/lib/python3.7/dist-packages/tensorflow/python/training/saving/saveable_object_util.py\u001b[0m in \u001b[0;36mrestore\u001b[0;34m(self, restored_tensors, restored_shapes)\u001b[0m\n\u001b[1;32m    130\u001b[0m       \u001b[0mrestored_tensor\u001b[0m \u001b[0;34m=\u001b[0m \u001b[0marray_ops\u001b[0m\u001b[0;34m.\u001b[0m\u001b[0midentity\u001b[0m\u001b[0;34m(\u001b[0m\u001b[0mrestored_tensor\u001b[0m\u001b[0;34m)\u001b[0m\u001b[0;34m\u001b[0m\u001b[0;34m\u001b[0m\u001b[0m\n\u001b[1;32m    131\u001b[0m       return resource_variable_ops.shape_safe_assign_variable_handle(\n\u001b[0;32m--> 132\u001b[0;31m           self.handle_op, self._var_shape, restored_tensor)\n\u001b[0m\u001b[1;32m    133\u001b[0m \u001b[0;34m\u001b[0m\u001b[0m\n\u001b[1;32m    134\u001b[0m \u001b[0;34m\u001b[0m\u001b[0m\n",
            "\u001b[0;32m/usr/local/lib/python3.7/dist-packages/tensorflow/python/ops/resource_variable_ops.py\u001b[0m in \u001b[0;36mshape_safe_assign_variable_handle\u001b[0;34m(handle, shape, value, name)\u001b[0m\n\u001b[1;32m    306\u001b[0m   \u001b[0;32mwith\u001b[0m \u001b[0m_handle_graph\u001b[0m\u001b[0;34m(\u001b[0m\u001b[0mhandle\u001b[0m\u001b[0;34m)\u001b[0m\u001b[0;34m:\u001b[0m\u001b[0;34m\u001b[0m\u001b[0;34m\u001b[0m\u001b[0m\n\u001b[1;32m    307\u001b[0m     \u001b[0mvalue_tensor\u001b[0m \u001b[0;34m=\u001b[0m \u001b[0mops\u001b[0m\u001b[0;34m.\u001b[0m\u001b[0mconvert_to_tensor\u001b[0m\u001b[0;34m(\u001b[0m\u001b[0mvalue\u001b[0m\u001b[0;34m)\u001b[0m\u001b[0;34m\u001b[0m\u001b[0;34m\u001b[0m\u001b[0m\n\u001b[0;32m--> 308\u001b[0;31m   \u001b[0mshape\u001b[0m\u001b[0;34m.\u001b[0m\u001b[0massert_is_compatible_with\u001b[0m\u001b[0;34m(\u001b[0m\u001b[0mvalue_tensor\u001b[0m\u001b[0;34m.\u001b[0m\u001b[0mshape\u001b[0m\u001b[0;34m)\u001b[0m\u001b[0;34m\u001b[0m\u001b[0;34m\u001b[0m\u001b[0m\n\u001b[0m\u001b[1;32m    309\u001b[0m   return gen_resource_variable_ops.assign_variable_op(\n\u001b[1;32m    310\u001b[0m       handle, value_tensor, name=name)\n",
            "\u001b[0;32m/usr/local/lib/python3.7/dist-packages/tensorflow/python/framework/tensor_shape.py\u001b[0m in \u001b[0;36massert_is_compatible_with\u001b[0;34m(self, other)\u001b[0m\n\u001b[1;32m   1159\u001b[0m     \"\"\"\n\u001b[1;32m   1160\u001b[0m     \u001b[0;32mif\u001b[0m \u001b[0;32mnot\u001b[0m \u001b[0mself\u001b[0m\u001b[0;34m.\u001b[0m\u001b[0mis_compatible_with\u001b[0m\u001b[0;34m(\u001b[0m\u001b[0mother\u001b[0m\u001b[0;34m)\u001b[0m\u001b[0;34m:\u001b[0m\u001b[0;34m\u001b[0m\u001b[0;34m\u001b[0m\u001b[0m\n\u001b[0;32m-> 1161\u001b[0;31m       \u001b[0;32mraise\u001b[0m \u001b[0mValueError\u001b[0m\u001b[0;34m(\u001b[0m\u001b[0;34m\"Shapes %s and %s are incompatible\"\u001b[0m \u001b[0;34m%\u001b[0m \u001b[0;34m(\u001b[0m\u001b[0mself\u001b[0m\u001b[0;34m,\u001b[0m \u001b[0mother\u001b[0m\u001b[0;34m)\u001b[0m\u001b[0;34m)\u001b[0m\u001b[0;34m\u001b[0m\u001b[0;34m\u001b[0m\u001b[0m\n\u001b[0m\u001b[1;32m   1162\u001b[0m \u001b[0;34m\u001b[0m\u001b[0m\n\u001b[1;32m   1163\u001b[0m   \u001b[0;32mdef\u001b[0m \u001b[0mmost_specific_compatible_shape\u001b[0m\u001b[0;34m(\u001b[0m\u001b[0mself\u001b[0m\u001b[0;34m,\u001b[0m \u001b[0mother\u001b[0m\u001b[0;34m)\u001b[0m\u001b[0;34m:\u001b[0m\u001b[0;34m\u001b[0m\u001b[0;34m\u001b[0m\u001b[0m\n",
            "\u001b[0;31mValueError\u001b[0m: Shapes (61, 30) and (17, 9) are incompatible"
          ]
        }
      ]
    },
    {
      "cell_type": "code",
      "metadata": {
        "id": "v_Y8hawCbo_2"
      },
      "source": [
        "model.compile(loss='mean_squared_error',optimizer=opt,metrics=['mean_squared_error'])"
      ],
      "execution_count": null,
      "outputs": []
    },
    {
      "cell_type": "code",
      "metadata": {
        "id": "_oxEdlovWZkJ"
      },
      "source": [
        "print(model.evaluate(x_cv,y_cv))"
      ],
      "execution_count": null,
      "outputs": []
    },
    {
      "cell_type": "code",
      "metadata": {
        "colab": {
          "base_uri": "https://localhost:8080/"
        },
        "id": "lUex72pCgI3t",
        "outputId": "bd4a9695-f474-48f7-fb5f-cc2112e7a23a"
      },
      "source": [
        "test_data=extract_from_link(test_data)\n",
        "enc.transform(test_data[['site','pre','post','posts','type']])\n",
        "array_of_labels=np.array(enc.transform(test_data[['site','pre','post','posts','type']]).toarray())\n",
        "array_names=enc.get_feature_names(['site','pre','post','posts','type'])\n",
        "for i in range(len(array_names)):\n",
        "  test_data[array_names[i]]=array_of_labels[:,i]\n",
        "test_data=test_data.drop(['site','pre','post','posts','type'],axis=1)\n",
        "test_data_now=test_data.drop('id',axis=1)\n",
        "for i in range(test_data_now.shape[0]):\n",
        "  test_data_now['excerpt'].iloc[i]=decontracted(test_data_now['excerpt'].iloc[i])\n",
        "corpus =TFIDF(test_data_now['excerpt'])\n",
        "test_data_now['10']=0\n",
        "test_data_now['20']=0\n",
        "test_data_now['30']=0\n",
        "test_data_now['40']=0\n",
        "test_data_now['50']=0\n",
        "test_data_now['60']=0\n",
        "test_data_now['70']=0\n",
        "test_data_now['80']=0\n",
        "test_data_now['90']=0\n",
        "test_data_now['100']=0\n",
        "for i in range(test_data_now.shape[0]):\n",
        "  for j in corpus[i]:\n",
        "    if j<=thresh1:\n",
        "      test_data_now['10'].iloc[i]+=1/len(test_data_now['excerpt'].iloc[i])\n",
        "    elif j<=thresh2:\n",
        "      test_data_now['20'].iloc[i]+=1/len(test_data_now['excerpt'].iloc[i])\n",
        "    elif j<=thresh3:\n",
        "      test_data_now['30'].iloc[i]+=1/len(test_data_now['excerpt'].iloc[i])\n",
        "    elif j<=thresh4:\n",
        "      test_data_now['40'].iloc[i]+=1/len(test_data_now['excerpt'].iloc[i])\n",
        "    elif j<=thresh5:\n",
        "      test_data_now['50'].iloc[i]+=1/len(test_data_now['excerpt'].iloc[i])\n",
        "    elif j<=thresh6:\n",
        "      test_data_now['60'].iloc[i]+=1/len(test_data_now['excerpt'].iloc[i])\n",
        "    elif j<=thresh7:\n",
        "      test_data_now['70'].iloc[i]+=1/len(test_data_now['excerpt'].iloc[i])\n",
        "    elif j<=thresh8:\n",
        "      test_data_now['80'].iloc[i]+=1/len(test_data_now['excerpt'].iloc[i])\n",
        "    elif j<=thresh9:\n",
        "      test_data_now['90'].iloc[i]+=1/len(test_data_now['excerpt'].iloc[i])\n",
        "    else:\n",
        "      test_data_now['100'].iloc[i]+=1/len(test_data_now['excerpt'].iloc[i])\n",
        "test_data_now=remove_stopwords(test_data_now)"
      ],
      "execution_count": 38,
      "outputs": [
        {
          "output_type": "stream",
          "text": [
            "/usr/local/lib/python3.7/dist-packages/pandas/core/indexing.py:670: SettingWithCopyWarning: \n",
            "A value is trying to be set on a copy of a slice from a DataFrame\n",
            "\n",
            "See the caveats in the documentation: https://pandas.pydata.org/pandas-docs/stable/user_guide/indexing.html#returning-a-view-versus-a-copy\n",
            "  iloc._setitem_with_indexer(indexer, value)\n",
            "100%|██████████| 529/529 [00:00<00:00, 10183.76it/s]\n",
            "100%|██████████| 7/7 [00:00<00:00, 233.38it/s]\n"
          ],
          "name": "stderr"
        },
        {
          "output_type": "stream",
          "text": [
            "529\n",
            "['a', 'about', 'account', 'acorn', 'active', 'activities', 'adam', 'adjacent', 'admiral', 'admire', 'aeronautics', 'afraid', 'after', 'ah', 'air', 'all', 'also', 'always', 'am', 'an', 'ancestor', 'and', 'another', 'anything', 'application', 'are', 'as', 'asking', 'aspects', 'associates', 'at', 'attitude', 'attributed', 'babe', 'back', 'bag', 'bath', 'be', 'beacon', 'beautiful', 'because', 'bed', 'been', 'before', 'beginning', 'behind', 'believed', 'bell', 'ben', 'best', 'big', 'binary', 'books', 'both', 'break', 'bright', 'brighter', 'bring', 'brother', 'bug', 'bugs', 'build', 'burning', 'but', 'by', 'can', 'captain', 'carefully', 'carries', 'case', 'cause', 'cell', 'cells', 'certain', 'changes', 'charlie', 'chat', 'cheerful', 'child', 'children', 'choices', 'chromatids', 'chromosomes', 'classes', 'classmates', 'clear', 'combination', 'common', 'compass', 'computer', 'computers', 'continued', 'control', 'correct', 'cottage', 'could', 'coupled', 'course', 'cups', 'cycle', 'cycles', 'danger', 'dates', 'daughter', 'deal', 'debugging', 'deduce', 'defects', 'delayed', 'design', 'desultory', 'detection', 'different', 'dinsmore', 'direct', 'discovered', 'distant', 'distinct', 'divides', 'division', 'divisions', 'dna', 'do', 'doing', 'dotty', 'down', 'dreams', 'drink', 'dumps', 'each', 'early', 'eddying', 'edison', 'edward', 'else', 'elsie', 'emerge', 'entered', 'entering', 'equally', 'error', 'eukaryotes', 'eukaryotic', 'ever', 'every', 'everybody', 'example', 'exercies', 'explain', 'eyes', 'face', 'fact', 'failed', 'family', 'fees', 'files', 'finding', 'first', 'fission', 'five', 'flakes', 'flow', 'follow', 'followed', 'for', 'four', 'fourth', 'friends', 'from', 'full', 'fully', 'gametes', 'garden', 'gathering', 'gave', 'genetic', 'genetically', 'gets', 'girl', 'girls', 'give', 'gives', 'go', 'goes', 'grace', 'graduates', 'gray', 'great', 'greeted', 'greeting', 'grew', 'grows', 'guide', 'had', 'half', 'halted', 'handled', 'haploid', 'harder', 'harvard', 'has', 'have', 'he', 'headlight', 'hear', 'height', 'help', 'her', 'hers', 'herself', 'him', 'his', 'home', 'homeworks', 'homologous', 'hope', 'hopper', 'hour', 'house', 'how', 'however', 'hundred', 'husband', 'i', 'identical', 'if', 'ii', 'impeding', 'important', 'improve', 'in', 'including', 'integration', 'interactive', 'into', 'invisible', 'involves', 'is', 'it', 'jack', 'john', 'just', 'katie', 'keep', 'keeping', 'kind', 'kindly', 'king', 'knew', 'know', 'known', 'larger', 'last', 'lastly', 'lay', 'learn', 'least', 'left', 'leland', 'let', 'life', 'light', 'like', 'likes', 'listens', 'little', 'locomotive', 'log', 'look', 'looking', 'lot', 'love', 'lulu', 'made', 'many', 'mark', 'material', 'may', 'me', 'meal', 'meaning', 'means', 'meanwhile', 'measure', 'medium', 'meiosis', 'memory', 'merely', 'mile', 'milk', 'milka', 'mitosis', 'monitoring', 'more', 'morning', 'moth', 'mother', 'mr', 'mrs', 'much', 'my', 'myself', 'nectar', 'need', 'never', 'next', 'night', 'nipperkins', 'no', 'not', 'nothing', 'number', 'numerous', 'observer', 'observing', 'occurred', 'occurs', 'of', 'on', 'once', 'one', 'operation', 'or', 'organism', 'organisms', 'other', 'out', 'over', 'pail', 'pair', 'pan', 'parent', 'parlor', 'part', 'participates', 'paused', 'person', 'played', 'playing', 'please', 'point', 'popularly', 'poured', 'power', 'practical', 'preceded', 'preferences', 'present', 'pressed', 'prevent', 'process', 'produce', 'profiling', 'prokaryotes', 'promise', 'put', 'puts', 'quart', 'queen', 'queenie', 'questions', 'quickly', 'quite', 'rank', 'rather', 'rational', 'rationality', 'raymond', 'ready', 'reduced', 'regardless', 'relay', 'remarked', 'remember', 'render', 'replication', 'reproducing', 'reproductive', 'resolving', 'results', 'returned', 'room', 'rosie', 'round', 'run', 'ruthie', 's', 'said', 'same', 'scene', 'school', 'second', 'see', 'seems', 'segregated', 'separated', 'serve', 'sexually', 'she', 'shillings', 'shortest', 'should', 'side', 'silver', 'simplifying', 'simply', 'single', 'sister', 'situation', 'sleeps', 'so', 'sofa', 'software', 'some', 'somehow', 'someone', 'something', 'sometimes', 'son', 'special', 'spent', 'start', 'state', 'statistical', 'stay', 'stays', 'still', 'story', 'strange', 'strictly', 'struck', 'stuck', 'subsystems', 'suppose', 'supposed', 'system', 'table', 'tactics', 'take', 'taller', 'tallest', 'taste', 'tea', 'teacher', 'teachers', 'technical', 'tell', 'tends', 'term', 'terms', 'testing', 'than', 'that', 'the', 'their', 'then', 'there', 'thereby', 'these', 'they', 'this', 'thomas', 'thousand', 'three', 'tightly', 'till', 'time', 'to', 'too', 'totally', 'transitivity', 'transport', 'tree', 'tries', 'two', 'types', 'under', 'undergo', 'undergoing', 'uniform', 'university', 'until', 'up', 'upper', 'us', 'use', 'used', 'usually', 'vain', 'various', 'vegetative', 'very', 'village', 'violet', 'visible', 'wait', 'walk', 'walter', 'was', 'we', 'weather', 'week', 'went', 'were', 'what', 'when', 'where', 'whereby', 'whereupon', 'which', 'while', 'who', 'wife', 'will', 'wished', 'with', 'without', 'wonder', 'working', 'world', 'would', 'written', 'wrong', 'yards', 'yes', 'yet', 'you', 'your', 'zoe']\n"
          ],
          "name": "stdout"
        }
      ]
    },
    {
      "cell_type": "code",
      "metadata": {
        "id": "Y1TZZKD6h19-"
      },
      "source": [
        "test_data_now=test_data_now.drop('excerpt',axis=1)"
      ],
      "execution_count": 40,
      "outputs": []
    },
    {
      "cell_type": "code",
      "metadata": {
        "id": "TJWNkMwoqXIh"
      },
      "source": [
        "y_pred=model.predict(pd.DataFrame(ss.transform(test_data_now),columns=features))"
      ],
      "execution_count": 41,
      "outputs": []
    },
    {
      "cell_type": "code",
      "metadata": {
        "colab": {
          "base_uri": "https://localhost:8080/"
        },
        "id": "2fg8xmufqsjT",
        "outputId": "1b1af235-964e-4611-cf27-94b901e0dc75"
      },
      "source": [
        "print(y_pred)"
      ],
      "execution_count": 42,
      "outputs": [
        {
          "output_type": "stream",
          "text": [
            "[[ 0.2974143 ]\n",
            " [ 0.2974143 ]\n",
            " [ 0.2974143 ]\n",
            " [-1.0020702 ]\n",
            " [-0.31486416]\n",
            " [ 0.2974143 ]\n",
            " [ 0.2974143 ]]\n"
          ],
          "name": "stdout"
        }
      ]
    },
    {
      "cell_type": "code",
      "metadata": {
        "id": "GVkh7IfqqyP9"
      },
      "source": [
        "test_data['target']=y_pred"
      ],
      "execution_count": 43,
      "outputs": []
    },
    {
      "cell_type": "code",
      "metadata": {
        "id": "bdoXekgMrF5B"
      },
      "source": [
        "test_data[['id','target']].to_csv('take1.csv',index=False)"
      ],
      "execution_count": 45,
      "outputs": []
    },
    {
      "cell_type": "markdown",
      "metadata": {
        "id": "DmJT5hYuwXML"
      },
      "source": [
        "**LSTM**"
      ]
    },
    {
      "cell_type": "code",
      "metadata": {
        "id": "pCjWP34WwV1j"
      },
      "source": [
        "train_data=pd.read_csv('/content/drive/MyDrive/commonlitreadabilityprize (1)/train.csv')"
      ],
      "execution_count": null,
      "outputs": []
    },
    {
      "cell_type": "code",
      "metadata": {
        "id": "38kXqyPyw7Dk"
      },
      "source": [
        "test_data=pd.read_csv('/content/drive/MyDrive/commonlitreadabilityprize (1)/test.csv')"
      ],
      "execution_count": null,
      "outputs": []
    },
    {
      "cell_type": "code",
      "metadata": {
        "id": "6FEK0QT9xAd1"
      },
      "source": [
        "train_data['url_legal']=train_data['url_legal'].fillna(0)"
      ],
      "execution_count": null,
      "outputs": []
    },
    {
      "cell_type": "code",
      "metadata": {
        "id": "pjbwhjDuxHHz"
      },
      "source": [
        "train_data['site'] =-1\n",
        "train_data['pre']  =-1\n",
        "train_data['post'] =-1\n",
        "train_data['posts']=-1\n",
        "train_data['type'] =-1\n",
        "train_data['topic'] =-1\n",
        "for i in range(train_data.shape[0]):\n",
        "  if train_data['url_legal'].iloc[i]!=0:\n",
        "    arr=train_data['url_legal'].iloc[i].split('/')[2].split('.')\n",
        "    if len(arr)==2:\n",
        "      train_data['site'].iloc[i] =arr[0]\n",
        "      train_data['pre'].iloc[i]  =0\n",
        "      train_data['post'].iloc[i] =arr[1]\n",
        "      train_data['posts'].iloc[i]=0\n",
        "    if len(arr)==3:\n",
        "      train_data['site'].iloc[i] =arr[1]\n",
        "      train_data['pre'].iloc[i]  =arr[0]\n",
        "      train_data['post'].iloc[i] =arr[2]\n",
        "      train_data['posts'].iloc[i]=0\n",
        "    if len(arr)>=4:\n",
        "      train_data['site'].iloc[i] =arr[1]\n",
        "      train_data['pre'].iloc[i]  =arr[0]\n",
        "      train_data['post'].iloc[i] =arr[2]\n",
        "      train_data['posts'].iloc[i]=arr[3]\n",
        "    try:\n",
        "      train_data['type'].iloc[i]=train_data['url_legal'].iloc[i].split('/')[3]\n",
        "    except:\n",
        "      pass\n",
        "    try:\n",
        "      try:\n",
        "        k=int(train_data['url_legal'].iloc[i].split('/')[4])\n",
        "        train_data['topic'].iloc[i]='itsnum'\n",
        "      except:\n",
        "        train_data['topic'].iloc[i]=train_data['url_legal'].iloc[i].split('/')[4]\n",
        "    except:\n",
        "      pass\n",
        "    try:\n",
        "      try:\n",
        "        k=int(train_data['url_legal'].iloc[i].split('/')[5])\n",
        "        if train_data['topic'].iloc[i]=='itsnum':\n",
        "          train_data['topic'].iloc[i]='itsnum'\n",
        "      except:\n",
        "        train_data['topic'].iloc[i]=train_data['url_legal'].iloc[i].split('/')[5]\n",
        "    except:\n",
        "      pass\n",
        "    try:\n",
        "      try:\n",
        "        k=int(train_data['url_legal'].iloc[i].split('/')[6])\n",
        "        if train_data['topic'].iloc[i]=='itsnum':\n",
        "          train_data['topic'].iloc[i]='itsnum'\n",
        "      except:\n",
        "        train_data['topic'].iloc[i]=train_data['url_legal'].iloc[i].split('/')[6]\n",
        "    except:\n",
        "      pass\n",
        "    try:\n",
        "      try:\n",
        "        k=int(train_data['url_legal'].iloc[i].split('/')[7])\n",
        "        if train_data['topic'].iloc[i]=='itsnum':\n",
        "          train_data['topic'].iloc[i]='itsnum'\n",
        "      except:\n",
        "        train_data['topic'].iloc[i]=train_data['url_legal'].iloc[i].split('/')[7].split('.')[0]\n",
        "    except:\n",
        "      pass"
      ],
      "execution_count": null,
      "outputs": []
    },
    {
      "cell_type": "code",
      "metadata": {
        "id": "bJV_gH-bxHxd"
      },
      "source": [
        "for i in range(train_data.shape[0]):\n",
        "  try:\n",
        "    train_data['topic'].iloc[i]=re.sub('[().0123456789#~:,]','',train_data['topic'].iloc[i]).lower()\n",
        "    train_data['topic'].iloc[i]=re.sub('[-_=%]',' ',train_data['topic'].iloc[i]).lower()\n",
        "  except:\n",
        "    pass"
      ],
      "execution_count": null,
      "outputs": []
    },
    {
      "cell_type": "code",
      "metadata": {
        "id": "I0jWM82RxHtf"
      },
      "source": [
        "train_data=train_data.drop(['url_legal','license'],axis=1)"
      ],
      "execution_count": null,
      "outputs": []
    },
    {
      "cell_type": "code",
      "metadata": {
        "id": "Z9gdqhLrxHr-"
      },
      "source": [
        "site=list(set(train_data['site']))\n",
        "for i in range(len(site)):\n",
        "  train_data.loc[train_data.site==site[i],'site']=i"
      ],
      "execution_count": null,
      "outputs": []
    },
    {
      "cell_type": "code",
      "metadata": {
        "id": "JvsadA9vxk7d"
      },
      "source": [
        "site=list(set(train_data['pre']))\n",
        "for i in range(len(site)):\n",
        "  train_data.loc[train_data.pre==site[i],'pre']=i\n",
        "\n",
        "site=list(set(train_data['post']))\n",
        "for i in range(len(site)):\n",
        "  train_data.loc[train_data.post==site[i],'post']=i\n",
        "\n",
        "site=list(set(train_data['posts']))\n",
        "for i in range(len(site)):\n",
        "  train_data.loc[train_data.posts==site[i],'posts']=i\n",
        "\n",
        "site=list(set(train_data['type']))\n",
        "for i in range(len(site)):\n",
        "  train_data.loc[train_data.type==site[i],'type']=i"
      ],
      "execution_count": null,
      "outputs": []
    },
    {
      "cell_type": "code",
      "metadata": {
        "id": "jmQWbjdLxrYo"
      },
      "source": [
        "train_data_now=train_data.drop('id',axis=1)"
      ],
      "execution_count": null,
      "outputs": []
    },
    {
      "cell_type": "code",
      "metadata": {
        "id": "NVv6MGYKxxhr"
      },
      "source": [
        "# def decontracted(phrase):\n",
        "#   # specific\n",
        "#   phrase = re.sub(r\"won't\", \"will not\", phrase)\n",
        "#   phrase = re.sub(r\"can\\'t\", \"can not\", phrase)\n",
        "#   # general\n",
        "#   phrase = re.sub(r\"n\\'t\", \" not\", phrase)\n",
        "#   phrase = re.sub(r\"\\'re\", \" are\", phrase)\n",
        "#   phrase = re.sub(r\"\\'s\", \" is\", phrase)\n",
        "#   phrase = re.sub(r\"\\'d\", \" would\", phrase)\n",
        "#   phrase = re.sub(r\"\\'ll\", \" will\", phrase)\n",
        "#   phrase = re.sub(r\"\\'t\", \" not\", phrase)\n",
        "#   phrase = re.sub(r\"\\'ve\", \" have\", phrase)\n",
        "#   phrase = re.sub(r\"\\'m\", \" am\", phrase)\n",
        "#   phrase=re.sub(':',' ',phrase)\n",
        "#   phrase=re.sub(',',' ',phrase)\n",
        "#   phrase=re.sub(';',' ',phrase)\n",
        "#   phrase=re.sub('\\\"',' ',phrase)\n",
        "#   phrase=re.sub('[()]',' ',phrase)\n",
        "#   phrase=re.sub('[=+%*~÷]',' ',phrase)\n",
        "#   phrase=re.sub('‘',' ',phrase)\n",
        "#   phrase=re.sub('/',' ',phrase)\n",
        "#   phrase=re.sub('\\'',' ',phrase)\n",
        "#   phrase=re.sub('[?.!-_—–]',' ',phrase)\n",
        "#   phrase=re.sub('[0-9]',' ',phrase)\n",
        "#   phrase=phrase.split(' ')\n",
        "#   while '' in phrase:\n",
        "#     phrase.remove('')\n",
        "#   return(' '.join(phrase).lower())"
      ],
      "execution_count": null,
      "outputs": []
    },
    {
      "cell_type": "code",
      "metadata": {
        "id": "XGlpAYv5x6KW"
      },
      "source": [
        "for i in range(train_data_now.shape[0]):\n",
        "  train_data_now['excerpt'].iloc[i]=decontracted(train_data_now['excerpt'].iloc[i])"
      ],
      "execution_count": null,
      "outputs": []
    },
    {
      "cell_type": "code",
      "metadata": {
        "id": "N2FIo5IXyCiv"
      },
      "source": [
        "from collections import Counter\n",
        "from sklearn.preprocessing import normalize\n",
        "import math\n",
        "def Fit(corpus):\n",
        "    UniqueWords=set()\n",
        "    for sentences in corpus:\n",
        "        for words in sentences.split():\n",
        "            UniqueWords.add(words)\n",
        "    UniqueWords=sorted(list(UniqueWords))\n",
        "    return(UniqueWords)\n",
        "def IDF(corpus):\n",
        "    UniqueWords=Fit(corpus)\n",
        "    IDF_Matrix=dict()\n",
        "    for i in tqdm(UniqueWords):\n",
        "        count=0\n",
        "        for j in corpus:\n",
        "            if i in j.split():\n",
        "                count+=1\n",
        "        IDF_Matrix[i]=1+math.log(((1+len(corpus))/(1+count)))\n",
        "    return(IDF_Matrix)\n",
        "def TFIDF(corpus):\n",
        "    IDF_Matrix=IDF(corpus)\n",
        "    MatColumn=[]\n",
        "    for sentence in tqdm(corpus):\n",
        "        MatRow=[]\n",
        "        Row=dict(Counter(sentence.split()))\n",
        "        for UniqueWord in list(IDF_Matrix.keys()):\n",
        "            tfidf=0\n",
        "            for word,freq in Row.items():            \n",
        "                if UniqueWord==word:\n",
        "                    tfidf=(freq/len(sentence.split()))*(IDF_Matrix[word])\n",
        "            if tfidf!=0:\n",
        "              MatRow.append(tfidf)\n",
        "        MatColumn.append(MatRow)\n",
        "    return(MatColumn)\n",
        "corpus =TFIDF(train_data_now['excerpt'])"
      ],
      "execution_count": null,
      "outputs": []
    },
    {
      "cell_type": "code",
      "metadata": {
        "id": "W1NF8f_rQ1M0"
      },
      "source": [
        "a=[]\n",
        "for i in corpus:\n",
        "    for j in i:\n",
        "        a.append(j)\n",
        "sns.histplot(a)"
      ],
      "execution_count": null,
      "outputs": []
    },
    {
      "cell_type": "code",
      "metadata": {
        "id": "nIkv414zR5tr"
      },
      "source": [
        "thresh1=sorted(a)[int(len(a)*10/100)]\n",
        "print(thresh1)\n",
        "thresh2=sorted(a)[int(len(a)*20/100)]\n",
        "print(thresh2)\n",
        "thresh3=sorted(a)[int(len(a)*30/100)]\n",
        "print(thresh3)\n",
        "thresh4=sorted(a)[int(len(a)*40/100)]\n",
        "print(thresh4)\n",
        "thresh5=sorted(a)[int(len(a)*50/100)]\n",
        "print(thresh5)\n",
        "thresh6=sorted(a)[int(len(a)*60/100)]\n",
        "print(thresh6)\n",
        "thresh7=sorted(a)[int(len(a)*70/100)]\n",
        "print(thresh7)\n",
        "thresh8=sorted(a)[int(len(a)*80/100)]\n",
        "print(thresh8)\n",
        "thresh9=sorted(a)[int(len(a)*90/100)]\n",
        "print(thresh9)"
      ],
      "execution_count": null,
      "outputs": []
    },
    {
      "cell_type": "code",
      "metadata": {
        "id": "EOG4XiqAx8zv"
      },
      "source": [
        "train_data_now['10']=0\n",
        "train_data_now['20']=0\n",
        "train_data_now['30']=0\n",
        "train_data_now['40']=0\n",
        "train_data_now['50']=0\n",
        "train_data_now['60']=0\n",
        "train_data_now['70']=0\n",
        "train_data_now['80']=0\n",
        "train_data_now['90']=0\n",
        "train_data_now['100']=0\n",
        "for i in range(train_data_now.shape[0]):\n",
        "  for j in corpus[i]:\n",
        "    if j<=thresh1:\n",
        "      train_data_now['10'].iloc[i]+=1/len(train_data_now['excerpt'].iloc[i])\n",
        "    elif j<=thresh2:\n",
        "      train_data_now['20'].iloc[i]+=1/len(train_data_now['excerpt'].iloc[i])\n",
        "    elif j<=thresh3:\n",
        "      train_data_now['30'].iloc[i]+=1/len(train_data_now['excerpt'].iloc[i])\n",
        "    elif j<=thresh4:\n",
        "      train_data_now['40'].iloc[i]+=1/len(train_data_now['excerpt'].iloc[i])\n",
        "    elif j<=thresh5:\n",
        "      train_data_now['50'].iloc[i]+=1/len(train_data_now['excerpt'].iloc[i])\n",
        "    elif j<=thresh6:\n",
        "      train_data_now['60'].iloc[i]+=1/len(train_data_now['excerpt'].iloc[i])\n",
        "    elif j<=thresh7:\n",
        "      train_data_now['70'].iloc[i]+=1/len(train_data_now['excerpt'].iloc[i])\n",
        "    elif j<=thresh8:\n",
        "      train_data_now['80'].iloc[i]+=1/len(train_data_now['excerpt'].iloc[i])\n",
        "    elif j<=thresh9:\n",
        "      train_data_now['90'].iloc[i]+=1/len(train_data_now['excerpt'].iloc[i])\n",
        "    else:\n",
        "      train_data_now['100'].iloc[i]+=1/len(train_data_now['excerpt'].iloc[i])"
      ],
      "execution_count": null,
      "outputs": []
    },
    {
      "cell_type": "code",
      "metadata": {
        "id": "lGOhLLmfVUT1"
      },
      "source": [
        "train_data_now.head()"
      ],
      "execution_count": null,
      "outputs": []
    },
    {
      "cell_type": "code",
      "metadata": {
        "id": "S2gINIXFyOPV"
      },
      "source": [
        "for i in range(train_data_now.shape[0]):\n",
        "  ans=[]\n",
        "  if train_data_now['topic'].iloc[i]!=-1:\n",
        "    for j in train_data_now['topic'].iloc[i]:\n",
        "      if j in stopwords:\n",
        "        pass\n",
        "      else:\n",
        "        ans.append(j)\n",
        "    c=0\n",
        "    for k in range(len(ans)):\n",
        "      c+=train_data_now['excerpt'].iloc[i].count(ans[k])\n",
        "    train_data_now['topic'].iloc[i]=c/(len(ans)+1)"
      ],
      "execution_count": null,
      "outputs": []
    },
    {
      "cell_type": "code",
      "metadata": {
        "id": "3DRCGsJXyOL4"
      },
      "source": [
        "train_data_now['len']=0\n",
        "for i in range(train_data_now.shape[0]):\n",
        "  train_data_now['len'].iloc[i]=len(train_data_now['excerpt'].iloc[i])"
      ],
      "execution_count": null,
      "outputs": []
    },
    {
      "cell_type": "code",
      "metadata": {
        "id": "7lbOm0bMr4Xs"
      },
      "source": [
        "import re\n",
        "GloVe_Vectors = dict()\n",
        "f = open('/content/drive/MyDrive/glove.6B.300d.txt','r')\n",
        "for line in f:\n",
        "    values = line.split()\n",
        "    word = values[0]\n",
        "    encodes = np.asarray(values[1:], dtype='float32')\n",
        "    GloVe_Vectors[word] = encodes"
      ],
      "execution_count": null,
      "outputs": []
    },
    {
      "cell_type": "code",
      "metadata": {
        "id": "cDQKaOj0sClO"
      },
      "source": [
        "tokenizer = Tokenizer(\n",
        "    num_words=None, filters='!\"#$%&()*+,-./:;<=>?@[\\\\]^`{|}~\\t\\n_', lower=True,\n",
        "    split=' ',)"
      ],
      "execution_count": null,
      "outputs": []
    },
    {
      "cell_type": "code",
      "metadata": {
        "id": "fPViinM6sCht"
      },
      "source": [
        "tokenizer.fit_on_texts(train_data_now['excerpt'])"
      ],
      "execution_count": null,
      "outputs": []
    },
    {
      "cell_type": "code",
      "metadata": {
        "id": "vdS5OVkcsCf_"
      },
      "source": [
        "word_index1 = tokenizer.word_index"
      ],
      "execution_count": null,
      "outputs": []
    },
    {
      "cell_type": "code",
      "metadata": {
        "id": "02fT2UFUsCdn"
      },
      "source": [
        "sequences1 = tokenizer.texts_to_sequences(train_data_now['excerpt'])"
      ],
      "execution_count": null,
      "outputs": []
    },
    {
      "cell_type": "code",
      "metadata": {
        "id": "bt37Mz2XznD0"
      },
      "source": [
        "max(train_data_now['len'])"
      ],
      "execution_count": null,
      "outputs": []
    },
    {
      "cell_type": "code",
      "metadata": {
        "id": "shQE5_ZFsCbF"
      },
      "source": [
        "Data1= pad_sequences(sequences1, maxlen=1293,padding='post')"
      ],
      "execution_count": null,
      "outputs": []
    },
    {
      "cell_type": "code",
      "metadata": {
        "id": "Lrlhv6m6sCYq"
      },
      "source": [
        "Embedding_matrix1=np.zeros((len(word_index1)+1,300))"
      ],
      "execution_count": null,
      "outputs": []
    },
    {
      "cell_type": "code",
      "metadata": {
        "id": "X7JunddksCVq"
      },
      "source": [
        "for words,index in tokenizer.word_index.items():\n",
        "    if words in GloVe_Vectors:\n",
        "        Embedding_matrix1[index]=GloVe_Vectors[words]"
      ],
      "execution_count": null,
      "outputs": []
    },
    {
      "cell_type": "code",
      "metadata": {
        "id": "LybYjYavsCTk"
      },
      "source": [
        "embedding_layer1 = Embedding(len(word_index1) + 1,\n",
        "                            300,\n",
        "                            weights=[Embedding_matrix1],\n",
        "                            input_length=1293,\n",
        "                            trainable=False)"
      ],
      "execution_count": null,
      "outputs": []
    },
    {
      "cell_type": "code",
      "metadata": {
        "id": "QXrCPDF6sCQB"
      },
      "source": [
        "Data1_train,Data1_cv,x_train, x_cv, y_train, y_cv=train_test_split(Data1,train_data_now.drop(['target','excerpt'],axis=1), train_data_now['target'],test_size=0.20)"
      ],
      "execution_count": null,
      "outputs": []
    },
    {
      "cell_type": "code",
      "metadata": {
        "id": "N8MrlQvRZp4F"
      },
      "source": [
        "x_train.shape"
      ],
      "execution_count": null,
      "outputs": []
    },
    {
      "cell_type": "code",
      "metadata": {
        "id": "n7ppeQaHG99y"
      },
      "source": [
        "input_path1= Input(shape=(1293,))\n",
        "em_path1= embedding_layer1(input_path1)\n",
        "lstm=LSTM(4,return_sequences=True)(em_path1)\n",
        "Dense1  = Dense(2,activation='relu',kernel_initializer='he_uniform')(lstm)\n",
        "flatten1=Flatten()(Dense1)\n",
        "Dense2  = Dense(20,activation='relu',kernel_initializer='he_uniform')(flatten1)\n",
        "\n",
        "input_path2= Input(shape=(18))\n",
        "Dense3  = Dense(9,activation='relu',kernel_initializer='he_uniform')(input_path2)\n",
        "Dense4  = Dense(5,activation='relu',kernel_initializer='he_uniform')(Dense3)\n",
        "\n",
        "layer1  = Concatenate(axis=-1)([Dense2,Dense4])\n",
        "Dense5  = Dense(10,activation='relu',kernel_initializer='he_uniform')(layer1)\n",
        "# DropOut1=Dropout(0.2,seed=10)(Dense2)\n",
        "Dense6  = Dense(5,activation='relu',kernel_initializer='he_uniform')(Dense5)\n",
        "# DropOut2=Dropout(0.2,seed=10)(Dense3)\n",
        "Output  = Dense(1,activation='linear')(Dense6)\n",
        "\n",
        "model3= Model(inputs=[input_path1,input_path2],outputs=Output)\n",
        "dot_img_file = '/tmp/model_3.png'\n",
        "tf.keras.utils.plot_model(model3, to_file=dot_img_file, show_shapes=True)\n"
      ],
      "execution_count": null,
      "outputs": []
    },
    {
      "cell_type": "code",
      "metadata": {
        "id": "42ZCP_FGa0ur"
      },
      "source": [
        "opt=tf.keras.optimizers.Adam(learning_rate=0.001)\n",
        "model3.compile(loss='mean_squared_error',optimizer=opt,metrics=['mean_squared_error'])\n",
        "logdir = \"logs/fit/\" + datetime.now().strftime(\"%Y%m%d-%H%M%S\")"
      ],
      "execution_count": null,
      "outputs": []
    },
    {
      "cell_type": "code",
      "metadata": {
        "id": "sKO0PMPra0o0"
      },
      "source": [
        "tensorboard_callback = keras.callbacks.TensorBoard(log_dir=logdir)\n",
        "model3.fit((Data1_train,np.array(x_train, dtype=np.float)),y_train,validation_data=((Data1_cv,np.array(x_cv, dtype=np.float)),y_cv),batch_size=1,epochs=2,callbacks=[tensorboard_callback,cb])"
      ],
      "execution_count": null,
      "outputs": []
    },
    {
      "cell_type": "code",
      "metadata": {
        "id": "c9pwkI98mXTB"
      },
      "source": [
        "test_data.head()\n",
        "test_data['url_legal']=test_data['url_legal'].fillna(0)\n",
        "test_data['site'] =-1\n",
        "test_data['pre']  =-1\n",
        "test_data['post'] =-1\n",
        "test_data['posts']=-1\n",
        "test_data['type'] =-1\n",
        "test_data['topic'] =-1\n",
        "for i in range(test_data.shape[0]):\n",
        "  if test_data['url_legal'].iloc[i]!=0:\n",
        "    arr=test_data['url_legal'].iloc[i].split('/')[2].split('.')\n",
        "    if len(arr)==2:\n",
        "      test_data['site'].iloc[i] =arr[0]\n",
        "      test_data['pre'].iloc[i]  =0\n",
        "      test_data['post'].iloc[i] =arr[1]\n",
        "      test_data['posts'].iloc[i]=0\n",
        "    if len(arr)==3:\n",
        "      test_data['site'].iloc[i] =arr[1]\n",
        "      test_data['pre'].iloc[i]  =arr[0]\n",
        "      test_data['post'].iloc[i] =arr[2]\n",
        "      test_data['posts'].iloc[i]=0\n",
        "    if len(arr)>=4:\n",
        "      test_data['site'].iloc[i] =arr[1]\n",
        "      test_data['pre'].iloc[i]  =arr[0]\n",
        "      test_data['post'].iloc[i] =arr[2]\n",
        "      test_data['posts'].iloc[i]=arr[3]\n",
        "    try:\n",
        "      test_data['type'].iloc[i]=test_data['url_legal'].iloc[i].split('/')[3]\n",
        "    except:\n",
        "      pass\n",
        "    try:\n",
        "      try:\n",
        "        k=int(test_data['url_legal'].iloc[i].split('/')[4])\n",
        "        test_data['topic'].iloc[i]='itsnum'\n",
        "      except:\n",
        "        test_data['topic'].iloc[i]=test_data['url_legal'].iloc[i].split('/')[4]\n",
        "    except:\n",
        "      pass\n",
        "    try:\n",
        "      try:\n",
        "        k=int(test_data['url_legal'].iloc[i].split('/')[5])\n",
        "        if test_data['topic'].iloc[i]=='itsnum':\n",
        "          test_data['topic'].iloc[i]='itsnum'\n",
        "      except:\n",
        "        test_data['topic'].iloc[i]=test_data['url_legal'].iloc[i].split('/')[5]\n",
        "    except:\n",
        "      pass\n",
        "    try:\n",
        "      try:\n",
        "        k=int(test_data['url_legal'].iloc[i].split('/')[6])\n",
        "        if test_data['topic'].iloc[i]=='itsnum':\n",
        "          test_data['topic'].iloc[i]='itsnum'\n",
        "      except:\n",
        "        test_data['topic'].iloc[i]=test_data['url_legal'].iloc[i].split('/')[6]\n",
        "    except:\n",
        "      pass\n",
        "    try:\n",
        "      try:\n",
        "        k=int(test_data['url_legal'].iloc[i].split('/')[7])\n",
        "        if test_data['topic'].iloc[i]=='itsnum':\n",
        "          test_data['topic'].iloc[i]='itsnum'\n",
        "      except:\n",
        "        test_data['topic'].iloc[i]=train_data['url_legal'].iloc[i].split('/')[7].split('.')[0]\n",
        "    except:\n",
        "      pass\n",
        "\n",
        "for i in range(test_data.shape[0]):\n",
        "  try:\n",
        "    test_data['topic'].iloc[i]=re.sub('[().0123456789#~:,]','',test_data['topic'].iloc[i]).lower()\n",
        "    test_data['topic'].iloc[i]=re.sub('[-_=%]',' ',test_data['topic'].iloc[i]).lower()\n",
        "  except:\n",
        "    pass\n",
        "test_data=test_data.drop('url_legal',axis=1)\n",
        "test_data=test_data.drop('license',axis=1)\n",
        "site=list(set(test_data['site']))\n",
        "for i in range(len(site)):\n",
        "  test_data.loc[test_data.site==site[i],'site']=i\n",
        "site=list(set(test_data['pre']))\n",
        "for i in range(len(site)):\n",
        "  test_data.loc[test_data.pre==site[i],'pre']=i\n",
        "\n",
        "site=list(set(test_data['post']))\n",
        "for i in range(len(site)):\n",
        "  test_data.loc[test_data.post==site[i],'post']=i\n",
        "\n",
        "site=list(set(test_data['posts']))\n",
        "for i in range(len(site)):\n",
        "  test_data.loc[test_data.posts==site[i],'posts']=i\n",
        "\n",
        "site=list(set(test_data['type']))\n",
        "for i in range(len(site)):\n",
        "  test_data.loc[test_data.type==site[i],'type']=i\n",
        "test_data_now=test_data.drop('id',axis=1)"
      ],
      "execution_count": null,
      "outputs": []
    },
    {
      "cell_type": "code",
      "metadata": {
        "id": "Wo3VOsdomct2"
      },
      "source": [
        "test_data.head()"
      ],
      "execution_count": null,
      "outputs": []
    },
    {
      "cell_type": "code",
      "metadata": {
        "id": "ADC3wwommcrd"
      },
      "source": [
        "test_data_now"
      ],
      "execution_count": null,
      "outputs": []
    },
    {
      "cell_type": "code",
      "metadata": {
        "id": "1tDsbHh4mcpv"
      },
      "source": [
        "corpus =TFIDF(test_data_now['excerpt'])"
      ],
      "execution_count": null,
      "outputs": []
    },
    {
      "cell_type": "code",
      "metadata": {
        "id": "YhQy9QjTmcn7"
      },
      "source": [
        "test_data_now['10']=0\n",
        "test_data_now['20']=0\n",
        "test_data_now['30']=0\n",
        "test_data_now['40']=0\n",
        "test_data_now['50']=0\n",
        "test_data_now['60']=0\n",
        "test_data_now['70']=0\n",
        "test_data_now['80']=0\n",
        "test_data_now['90']=0\n",
        "test_data_now['100']=0\n",
        "for i in range(test_data_now.shape[0]):\n",
        "    for j in corpus[i]:\n",
        "        if j<=thresh1:\n",
        "            test_data_now['10'].iloc[i]+=1/len(test_data_now['excerpt'].iloc[i])\n",
        "        elif j<=thresh2:\n",
        "            test_data_now['20'].iloc[i]+=1/len(test_data_now['excerpt'].iloc[i])\n",
        "        elif j<=thresh3:\n",
        "            test_data_now['30'].iloc[i]+=1/len(test_data_now['excerpt'].iloc[i])\n",
        "        elif j<=thresh4:\n",
        "            test_data_now['40'].iloc[i]+=1/len(test_data_now['excerpt'].iloc[i])\n",
        "        elif j<=thresh5:\n",
        "            test_data_now['50'].iloc[i]+=1/len(test_data_now['excerpt'].iloc[i])\n",
        "        elif j<=thresh6:\n",
        "            test_data_now['60'].iloc[i]+=1/len(test_data_now['excerpt'].iloc[i])\n",
        "        elif j<=thresh7:\n",
        "            test_data_now['70'].iloc[i]+=1/len(test_data_now['excerpt'].iloc[i])\n",
        "        elif j<=thresh8:\n",
        "            test_data_now['80'].iloc[i]+=1/len(test_data_now['excerpt'].iloc[i])\n",
        "        elif j<=thresh9:\n",
        "            test_data_now['90'].iloc[i]+=1/len(test_data_now['excerpt'].iloc[i])\n",
        "        else:\n",
        "            test_data_now['100'].iloc[i]+=1/len(test_data_now['excerpt'].iloc[i])"
      ],
      "execution_count": null,
      "outputs": []
    },
    {
      "cell_type": "code",
      "metadata": {
        "id": "GnvrtVj9mci7"
      },
      "source": [
        "for i in range(test_data_now.shape[0]):\n",
        "  ans=[]\n",
        "  if test_data_now['topic'].iloc[i]!=-1:\n",
        "    for j in test_data_now['topic'].iloc[i]:\n",
        "      if j in stopwords:\n",
        "        pass\n",
        "      else:\n",
        "        ans.append(j)\n",
        "    c=0\n",
        "    for k in range(len(ans)):\n",
        "      c+=test_data_now['excerpt'].iloc[i].count(ans[k])\n",
        "    test_data_now['topic'].iloc[i]=c/(len(ans)+1)"
      ],
      "execution_count": null,
      "outputs": []
    },
    {
      "cell_type": "code",
      "metadata": {
        "id": "ppOm8tRjmce_"
      },
      "source": [
        "test_data_now['len']=0\n",
        "for i in range(test_data_now.shape[0]):\n",
        "  test_data_now['len'].iloc[i]=len(test_data_now['excerpt'].iloc[i])"
      ],
      "execution_count": null,
      "outputs": []
    },
    {
      "cell_type": "code",
      "metadata": {
        "id": "9v8EpnDTmcdo"
      },
      "source": [
        "sequences1 = tokenizer.texts_to_sequences(test_data_now['excerpt'])"
      ],
      "execution_count": null,
      "outputs": []
    },
    {
      "cell_type": "code",
      "metadata": {
        "id": "Dmx7j8dzmcbT"
      },
      "source": [
        "Data1= pad_sequences(sequences1, maxlen=1293,padding='post')"
      ],
      "execution_count": null,
      "outputs": []
    },
    {
      "cell_type": "code",
      "metadata": {
        "id": "wtYUmtdQmcUV"
      },
      "source": [
        "test_data_now=test_data_now.drop('excerpt',axis=1)"
      ],
      "execution_count": null,
      "outputs": []
    },
    {
      "cell_type": "code",
      "metadata": {
        "id": "21TF6WMp36sR"
      },
      "source": [
        "test_data_now.columns"
      ],
      "execution_count": null,
      "outputs": []
    },
    {
      "cell_type": "code",
      "metadata": {
        "id": "AIGhxOwf3_5d"
      },
      "source": [
        "x_train.columns"
      ],
      "execution_count": null,
      "outputs": []
    },
    {
      "cell_type": "code",
      "metadata": {
        "id": "o-5_bGQMmcSg"
      },
      "source": [
        "model3.fit((Data1,np.array(test_data_now, dtype=np.float)))"
      ],
      "execution_count": null,
      "outputs": []
    },
    {
      "cell_type": "code",
      "metadata": {
        "id": "VPxqvUyHmcLr"
      },
      "source": [
        ""
      ],
      "execution_count": null,
      "outputs": []
    },
    {
      "cell_type": "code",
      "metadata": {
        "id": "--fzWgIFmcJV"
      },
      "source": [
        ""
      ],
      "execution_count": null,
      "outputs": []
    },
    {
      "cell_type": "code",
      "metadata": {
        "id": "8AMKLBcOmcFl"
      },
      "source": [
        ""
      ],
      "execution_count": null,
      "outputs": []
    },
    {
      "cell_type": "code",
      "metadata": {
        "id": "cNU-KFiumcC4"
      },
      "source": [
        ""
      ],
      "execution_count": null,
      "outputs": []
    },
    {
      "cell_type": "code",
      "metadata": {
        "id": "7JDHvUx0mb_d"
      },
      "source": [
        ""
      ],
      "execution_count": null,
      "outputs": []
    },
    {
      "cell_type": "code",
      "metadata": {
        "id": "w2W9wueYmb7v"
      },
      "source": [
        ""
      ],
      "execution_count": null,
      "outputs": []
    },
    {
      "cell_type": "code",
      "metadata": {
        "id": "v2IUQWdDmb4O"
      },
      "source": [
        ""
      ],
      "execution_count": null,
      "outputs": []
    },
    {
      "cell_type": "code",
      "metadata": {
        "id": "GAA_w7Xbmb2h"
      },
      "source": [
        ""
      ],
      "execution_count": null,
      "outputs": []
    },
    {
      "cell_type": "code",
      "metadata": {
        "id": "QHlbdfS5mbyr"
      },
      "source": [
        ""
      ],
      "execution_count": null,
      "outputs": []
    },
    {
      "cell_type": "code",
      "metadata": {
        "id": "6Y71SHvJmbxB"
      },
      "source": [
        ""
      ],
      "execution_count": null,
      "outputs": []
    },
    {
      "cell_type": "code",
      "metadata": {
        "id": "Pt8zfq9ta0kt"
      },
      "source": [
        "input_path1= Input(shape=(1293,))\n",
        "em_path1= embedding_layer1(input_path1)\n",
        "lstm=LSTM(4,return_sequences=True)(em_path1)\n",
        "Dense1  = Dense(1,activation='relu',kernel_initializer='he_uniform')(lstm)\n",
        "flatten1=Flatten()(Dense1)\n",
        "Dense3  = Dense(100,activation='relu',kernel_initializer='he_uniform')(flatten1)\n",
        "Dense4  = Dense(10,activation='relu',kernel_initializer='he_uniform')(Dense3)\n",
        "Dense6  = Dense(5,activation='relu',kernel_initializer='he_uniform')(Dense4)\n",
        "Output  = Dense(1,activation='linear')(Dense6)\n",
        "\n",
        "model2= Model(inputs=[input_path1],outputs=Output)\n",
        "dot_img_file = '/tmp/model_3.png'\n",
        "tf.keras.utils.plot_model(model2, to_file=dot_img_file, show_shapes=True)\n"
      ],
      "execution_count": null,
      "outputs": []
    },
    {
      "cell_type": "code",
      "metadata": {
        "id": "Jzo4nETHe8Hh"
      },
      "source": [
        "opt=tf.keras.optimizers.Adam(learning_rate=0.001)\n",
        "model2.compile(loss='log_cosh',optimizer=opt,metrics=['mean_squared_error'])\n",
        "logdir = \"logs/fit/\" + datetime.now().strftime(\"%Y%m%d-%H%M%S\")"
      ],
      "execution_count": null,
      "outputs": []
    },
    {
      "cell_type": "code",
      "metadata": {
        "id": "EZXrsS3efJqg"
      },
      "source": [
        "tensorboard_callback = keras.callbacks.TensorBoard(log_dir=logdir)\n",
        "model2.fit(Data1_train,y_train,validation_data=(Data1_cv,y_cv),batch_size=1,epochs=30,callbacks=[tensorboard_callback])"
      ],
      "execution_count": null,
      "outputs": []
    },
    {
      "cell_type": "code",
      "metadata": {
        "id": "EsUbuDJCgxLM"
      },
      "source": [
        "Data1_train"
      ],
      "execution_count": null,
      "outputs": []
    },
    {
      "cell_type": "code",
      "metadata": {
        "id": "x7YLwKIDfjXN"
      },
      "source": [
        "y_train.isnull().any()"
      ],
      "execution_count": null,
      "outputs": []
    }
  ]
}