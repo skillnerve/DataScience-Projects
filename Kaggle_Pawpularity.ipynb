{
  "metadata": {
    "kernelspec": {
      "language": "python",
      "display_name": "Python 3",
      "name": "python3"
    },
    "language_info": {
      "name": "python",
      "version": "3.7.12",
      "mimetype": "text/x-python",
      "codemirror_mode": {
        "name": "ipython",
        "version": 3
      },
      "pygments_lexer": "ipython3",
      "nbconvert_exporter": "python",
      "file_extension": ".py"
    },
    "colab": {
      "name": "Kaggle_Pawpularity.ipynb",
      "provenance": [],
      "include_colab_link": true
    },
    "accelerator": "GPU"
  },
  "nbformat_minor": 0,
  "nbformat": 4,
  "cells": [
    {
      "cell_type": "markdown",
      "metadata": {
        "id": "view-in-github",
        "colab_type": "text"
      },
      "source": [
        "<a href=\"https://colab.research.google.com/github/skillnerve/DataScience-Projects/blob/main/Kaggle_Pawpularity.ipynb\" target=\"_parent\"><img src=\"https://colab.research.google.com/assets/colab-badge.svg\" alt=\"Open In Colab\"/></a>"
      ]
    },
    {
      "cell_type": "markdown",
      "source": [
        "# Libraries"
      ],
      "metadata": {
        "id": "NaoFStMzoN1d"
      }
    },
    {
      "cell_type": "code",
      "source": [
        "! pip install kaggle\n",
        "! mkdir ~/.kaggle\n",
        "! cp kaggle.json ~/.kaggle/\n",
        "! chmod 600 ~/.kaggle/kaggle.json\n",
        "!pip install -U -q kaggle==1.5.8"
      ],
      "metadata": {
        "colab": {
          "base_uri": "https://localhost:8080/"
        },
        "id": "5F15Y0OaoWSB",
        "outputId": "2961dae2-6818-4e7c-ff01-41a07725f76a"
      },
      "execution_count": 1,
      "outputs": [
        {
          "output_type": "stream",
          "name": "stdout",
          "text": [
            "Requirement already satisfied: kaggle in /usr/local/lib/python3.7/dist-packages (1.5.12)\n",
            "Requirement already satisfied: certifi in /usr/local/lib/python3.7/dist-packages (from kaggle) (2021.10.8)\n",
            "Requirement already satisfied: python-dateutil in /usr/local/lib/python3.7/dist-packages (from kaggle) (2.8.2)\n",
            "Requirement already satisfied: tqdm in /usr/local/lib/python3.7/dist-packages (from kaggle) (4.62.3)\n",
            "Requirement already satisfied: requests in /usr/local/lib/python3.7/dist-packages (from kaggle) (2.23.0)\n",
            "Requirement already satisfied: six>=1.10 in /usr/local/lib/python3.7/dist-packages (from kaggle) (1.15.0)\n",
            "Requirement already satisfied: python-slugify in /usr/local/lib/python3.7/dist-packages (from kaggle) (5.0.2)\n",
            "Requirement already satisfied: urllib3 in /usr/local/lib/python3.7/dist-packages (from kaggle) (1.24.3)\n",
            "Requirement already satisfied: text-unidecode>=1.3 in /usr/local/lib/python3.7/dist-packages (from python-slugify->kaggle) (1.3)\n",
            "Requirement already satisfied: idna<3,>=2.5 in /usr/local/lib/python3.7/dist-packages (from requests->kaggle) (2.10)\n",
            "Requirement already satisfied: chardet<4,>=3.0.2 in /usr/local/lib/python3.7/dist-packages (from requests->kaggle) (3.0.4)\n",
            "\u001b[K     |████████████████████████████████| 59 kB 3.0 MB/s \n",
            "\u001b[?25h  Building wheel for kaggle (setup.py) ... \u001b[?25l\u001b[?25hdone\n",
            "  Building wheel for slugify (setup.py) ... \u001b[?25l\u001b[?25hdone\n"
          ]
        }
      ]
    },
    {
      "cell_type": "code",
      "source": [
        "! kaggle competitions download -c petfinder-pawpularity-score"
      ],
      "metadata": {
        "colab": {
          "base_uri": "https://localhost:8080/"
        },
        "id": "7T2xWmafoXA1",
        "outputId": "ff40e9ab-6c57-4f1d-c85f-8cba3ac7caef"
      },
      "execution_count": 2,
      "outputs": [
        {
          "output_type": "stream",
          "name": "stdout",
          "text": [
            "Downloading petfinder-pawpularity-score.zip to /content\n",
            "100% 983M/983M [00:04<00:00, 276MB/s]\n",
            "100% 983M/983M [00:04<00:00, 236MB/s]\n"
          ]
        }
      ]
    },
    {
      "cell_type": "code",
      "source": [
        "!git clone https://github.com/rishigami/Swin-Transformer-TF"
      ],
      "metadata": {
        "colab": {
          "base_uri": "https://localhost:8080/"
        },
        "id": "IVAl9FUfoa4q",
        "outputId": "5b8f3446-96ee-4c48-8b78-b071401b4aee"
      },
      "execution_count": 3,
      "outputs": [
        {
          "output_type": "stream",
          "name": "stdout",
          "text": [
            "Cloning into 'Swin-Transformer-TF'...\n",
            "remote: Enumerating objects: 39, done.\u001b[K\n",
            "remote: Counting objects: 100% (39/39), done.\u001b[K\n",
            "remote: Compressing objects: 100% (32/32), done.\u001b[K\n",
            "remote: Total 39 (delta 13), reused 19 (delta 4), pack-reused 0\u001b[K\n",
            "Unpacking objects: 100% (39/39), done.\n"
          ]
        }
      ]
    },
    {
      "cell_type": "code",
      "source": [
        "import numpy as np\n",
        "import pandas as pd\n",
        "import seaborn as sns\n",
        "from PIL import Image\n",
        "import matplotlib.pyplot as plt\n",
        "import matplotlib.image  as img\n",
        "from sklearn.model_selection import train_test_split\n",
        "import tensorflow as tf\n",
        "from tensorflow.keras.models import Model\n",
        "import keras.backend as K\n",
        "from tqdm import tqdm\n",
        "import sys\n",
        "sys.path.append('/content/Swin-Transformer-TF')\n",
        "from swintransformer import SwinTransformer\n",
        "from sklearn.model_selection import StratifiedKFold"
      ],
      "metadata": {
        "execution": {
          "iopub.status.busy": "2022-01-10T05:23:05.954224Z",
          "iopub.execute_input": "2022-01-10T05:23:05.954593Z",
          "iopub.status.idle": "2022-01-10T05:23:11.605733Z",
          "shell.execute_reply.started": "2022-01-10T05:23:05.954499Z",
          "shell.execute_reply": "2022-01-10T05:23:11.604971Z"
        },
        "trusted": true,
        "id": "wBtfpXfJoN1i"
      },
      "execution_count": 4,
      "outputs": []
    },
    {
      "cell_type": "markdown",
      "source": [
        "# Data"
      ],
      "metadata": {
        "id": "QuIDwM8joN1j"
      }
    },
    {
      "cell_type": "code",
      "source": [
        "!unzip /content/petfinder-pawpularity-score.zip"
      ],
      "metadata": {
        "id": "IyFzWAOfo_5-"
      },
      "execution_count": null,
      "outputs": []
    },
    {
      "cell_type": "code",
      "source": [
        "train_csv=pd.read_csv('/content/train.csv')\n",
        "test_csv=pd.read_csv('/content/test.csv')"
      ],
      "metadata": {
        "execution": {
          "iopub.status.busy": "2022-01-10T05:23:11.607167Z",
          "iopub.execute_input": "2022-01-10T05:23:11.607402Z",
          "iopub.status.idle": "2022-01-10T05:23:11.651764Z",
          "shell.execute_reply.started": "2022-01-10T05:23:11.607369Z",
          "shell.execute_reply": "2022-01-10T05:23:11.650998Z"
        },
        "trusted": true,
        "id": "I5DU8Z2koN1k"
      },
      "execution_count": 6,
      "outputs": []
    },
    {
      "cell_type": "code",
      "source": [
        "train_csv.head(2)"
      ],
      "metadata": {
        "execution": {
          "iopub.status.busy": "2022-01-10T05:23:11.653203Z",
          "iopub.execute_input": "2022-01-10T05:23:11.653470Z",
          "iopub.status.idle": "2022-01-10T05:23:11.674300Z",
          "shell.execute_reply.started": "2022-01-10T05:23:11.653436Z",
          "shell.execute_reply": "2022-01-10T05:23:11.673582Z"
        },
        "trusted": true,
        "colab": {
          "base_uri": "https://localhost:8080/",
          "height": 174
        },
        "id": "0JewMgxboN1k",
        "outputId": "b9884570-b4ec-45f8-95d3-d7dcf164bfc8"
      },
      "execution_count": 7,
      "outputs": [
        {
          "output_type": "execute_result",
          "data": {
            "text/html": [
              "\n",
              "  <div id=\"df-47d99e7e-41a7-41ed-984d-ea250c47657a\">\n",
              "    <div class=\"colab-df-container\">\n",
              "      <div>\n",
              "<style scoped>\n",
              "    .dataframe tbody tr th:only-of-type {\n",
              "        vertical-align: middle;\n",
              "    }\n",
              "\n",
              "    .dataframe tbody tr th {\n",
              "        vertical-align: top;\n",
              "    }\n",
              "\n",
              "    .dataframe thead th {\n",
              "        text-align: right;\n",
              "    }\n",
              "</style>\n",
              "<table border=\"1\" class=\"dataframe\">\n",
              "  <thead>\n",
              "    <tr style=\"text-align: right;\">\n",
              "      <th></th>\n",
              "      <th>Id</th>\n",
              "      <th>Subject Focus</th>\n",
              "      <th>Eyes</th>\n",
              "      <th>Face</th>\n",
              "      <th>Near</th>\n",
              "      <th>Action</th>\n",
              "      <th>Accessory</th>\n",
              "      <th>Group</th>\n",
              "      <th>Collage</th>\n",
              "      <th>Human</th>\n",
              "      <th>Occlusion</th>\n",
              "      <th>Info</th>\n",
              "      <th>Blur</th>\n",
              "      <th>Pawpularity</th>\n",
              "    </tr>\n",
              "  </thead>\n",
              "  <tbody>\n",
              "    <tr>\n",
              "      <th>0</th>\n",
              "      <td>0007de18844b0dbbb5e1f607da0606e0</td>\n",
              "      <td>0</td>\n",
              "      <td>1</td>\n",
              "      <td>1</td>\n",
              "      <td>1</td>\n",
              "      <td>0</td>\n",
              "      <td>0</td>\n",
              "      <td>1</td>\n",
              "      <td>0</td>\n",
              "      <td>0</td>\n",
              "      <td>0</td>\n",
              "      <td>0</td>\n",
              "      <td>0</td>\n",
              "      <td>63</td>\n",
              "    </tr>\n",
              "    <tr>\n",
              "      <th>1</th>\n",
              "      <td>0009c66b9439883ba2750fb825e1d7db</td>\n",
              "      <td>0</td>\n",
              "      <td>1</td>\n",
              "      <td>1</td>\n",
              "      <td>0</td>\n",
              "      <td>0</td>\n",
              "      <td>0</td>\n",
              "      <td>0</td>\n",
              "      <td>0</td>\n",
              "      <td>0</td>\n",
              "      <td>0</td>\n",
              "      <td>0</td>\n",
              "      <td>0</td>\n",
              "      <td>42</td>\n",
              "    </tr>\n",
              "  </tbody>\n",
              "</table>\n",
              "</div>\n",
              "      <button class=\"colab-df-convert\" onclick=\"convertToInteractive('df-47d99e7e-41a7-41ed-984d-ea250c47657a')\"\n",
              "              title=\"Convert this dataframe to an interactive table.\"\n",
              "              style=\"display:none;\">\n",
              "        \n",
              "  <svg xmlns=\"http://www.w3.org/2000/svg\" height=\"24px\"viewBox=\"0 0 24 24\"\n",
              "       width=\"24px\">\n",
              "    <path d=\"M0 0h24v24H0V0z\" fill=\"none\"/>\n",
              "    <path d=\"M18.56 5.44l.94 2.06.94-2.06 2.06-.94-2.06-.94-.94-2.06-.94 2.06-2.06.94zm-11 1L8.5 8.5l.94-2.06 2.06-.94-2.06-.94L8.5 2.5l-.94 2.06-2.06.94zm10 10l.94 2.06.94-2.06 2.06-.94-2.06-.94-.94-2.06-.94 2.06-2.06.94z\"/><path d=\"M17.41 7.96l-1.37-1.37c-.4-.4-.92-.59-1.43-.59-.52 0-1.04.2-1.43.59L10.3 9.45l-7.72 7.72c-.78.78-.78 2.05 0 2.83L4 21.41c.39.39.9.59 1.41.59.51 0 1.02-.2 1.41-.59l7.78-7.78 2.81-2.81c.8-.78.8-2.07 0-2.86zM5.41 20L4 18.59l7.72-7.72 1.47 1.35L5.41 20z\"/>\n",
              "  </svg>\n",
              "      </button>\n",
              "      \n",
              "  <style>\n",
              "    .colab-df-container {\n",
              "      display:flex;\n",
              "      flex-wrap:wrap;\n",
              "      gap: 12px;\n",
              "    }\n",
              "\n",
              "    .colab-df-convert {\n",
              "      background-color: #E8F0FE;\n",
              "      border: none;\n",
              "      border-radius: 50%;\n",
              "      cursor: pointer;\n",
              "      display: none;\n",
              "      fill: #1967D2;\n",
              "      height: 32px;\n",
              "      padding: 0 0 0 0;\n",
              "      width: 32px;\n",
              "    }\n",
              "\n",
              "    .colab-df-convert:hover {\n",
              "      background-color: #E2EBFA;\n",
              "      box-shadow: 0px 1px 2px rgba(60, 64, 67, 0.3), 0px 1px 3px 1px rgba(60, 64, 67, 0.15);\n",
              "      fill: #174EA6;\n",
              "    }\n",
              "\n",
              "    [theme=dark] .colab-df-convert {\n",
              "      background-color: #3B4455;\n",
              "      fill: #D2E3FC;\n",
              "    }\n",
              "\n",
              "    [theme=dark] .colab-df-convert:hover {\n",
              "      background-color: #434B5C;\n",
              "      box-shadow: 0px 1px 3px 1px rgba(0, 0, 0, 0.15);\n",
              "      filter: drop-shadow(0px 1px 2px rgba(0, 0, 0, 0.3));\n",
              "      fill: #FFFFFF;\n",
              "    }\n",
              "  </style>\n",
              "\n",
              "      <script>\n",
              "        const buttonEl =\n",
              "          document.querySelector('#df-47d99e7e-41a7-41ed-984d-ea250c47657a button.colab-df-convert');\n",
              "        buttonEl.style.display =\n",
              "          google.colab.kernel.accessAllowed ? 'block' : 'none';\n",
              "\n",
              "        async function convertToInteractive(key) {\n",
              "          const element = document.querySelector('#df-47d99e7e-41a7-41ed-984d-ea250c47657a');\n",
              "          const dataTable =\n",
              "            await google.colab.kernel.invokeFunction('convertToInteractive',\n",
              "                                                     [key], {});\n",
              "          if (!dataTable) return;\n",
              "\n",
              "          const docLinkHtml = 'Like what you see? Visit the ' +\n",
              "            '<a target=\"_blank\" href=https://colab.research.google.com/notebooks/data_table.ipynb>data table notebook</a>'\n",
              "            + ' to learn more about interactive tables.';\n",
              "          element.innerHTML = '';\n",
              "          dataTable['output_type'] = 'display_data';\n",
              "          await google.colab.output.renderOutput(dataTable, element);\n",
              "          const docLink = document.createElement('div');\n",
              "          docLink.innerHTML = docLinkHtml;\n",
              "          element.appendChild(docLink);\n",
              "        }\n",
              "      </script>\n",
              "    </div>\n",
              "  </div>\n",
              "  "
            ],
            "text/plain": [
              "                                 Id  Subject Focus  ...  Blur  Pawpularity\n",
              "0  0007de18844b0dbbb5e1f607da0606e0              0  ...     0           63\n",
              "1  0009c66b9439883ba2750fb825e1d7db              0  ...     0           42\n",
              "\n",
              "[2 rows x 14 columns]"
            ]
          },
          "metadata": {},
          "execution_count": 7
        }
      ]
    },
    {
      "cell_type": "code",
      "source": [
        "test_csv.head(2)"
      ],
      "metadata": {
        "execution": {
          "iopub.status.busy": "2022-01-10T05:23:11.676412Z",
          "iopub.execute_input": "2022-01-10T05:23:11.676694Z",
          "iopub.status.idle": "2022-01-10T05:23:11.687242Z",
          "shell.execute_reply.started": "2022-01-10T05:23:11.676660Z",
          "shell.execute_reply": "2022-01-10T05:23:11.686551Z"
        },
        "trusted": true,
        "colab": {
          "base_uri": "https://localhost:8080/",
          "height": 112
        },
        "id": "tB9pnuX9oN1l",
        "outputId": "6ce78daf-31c5-4cdf-a5e4-07c609fc7a13"
      },
      "execution_count": 8,
      "outputs": [
        {
          "output_type": "execute_result",
          "data": {
            "text/html": [
              "\n",
              "  <div id=\"df-b97f2cdb-d9d5-46a1-9292-77e96bf0b30a\">\n",
              "    <div class=\"colab-df-container\">\n",
              "      <div>\n",
              "<style scoped>\n",
              "    .dataframe tbody tr th:only-of-type {\n",
              "        vertical-align: middle;\n",
              "    }\n",
              "\n",
              "    .dataframe tbody tr th {\n",
              "        vertical-align: top;\n",
              "    }\n",
              "\n",
              "    .dataframe thead th {\n",
              "        text-align: right;\n",
              "    }\n",
              "</style>\n",
              "<table border=\"1\" class=\"dataframe\">\n",
              "  <thead>\n",
              "    <tr style=\"text-align: right;\">\n",
              "      <th></th>\n",
              "      <th>Id</th>\n",
              "      <th>Subject Focus</th>\n",
              "      <th>Eyes</th>\n",
              "      <th>Face</th>\n",
              "      <th>Near</th>\n",
              "      <th>Action</th>\n",
              "      <th>Accessory</th>\n",
              "      <th>Group</th>\n",
              "      <th>Collage</th>\n",
              "      <th>Human</th>\n",
              "      <th>Occlusion</th>\n",
              "      <th>Info</th>\n",
              "      <th>Blur</th>\n",
              "    </tr>\n",
              "  </thead>\n",
              "  <tbody>\n",
              "    <tr>\n",
              "      <th>0</th>\n",
              "      <td>4128bae22183829d2b5fea10effdb0c3</td>\n",
              "      <td>1</td>\n",
              "      <td>0</td>\n",
              "      <td>1</td>\n",
              "      <td>0</td>\n",
              "      <td>0</td>\n",
              "      <td>1</td>\n",
              "      <td>1</td>\n",
              "      <td>0</td>\n",
              "      <td>0</td>\n",
              "      <td>1</td>\n",
              "      <td>0</td>\n",
              "      <td>1</td>\n",
              "    </tr>\n",
              "    <tr>\n",
              "      <th>1</th>\n",
              "      <td>43a2262d7738e3d420d453815151079e</td>\n",
              "      <td>0</td>\n",
              "      <td>1</td>\n",
              "      <td>0</td>\n",
              "      <td>0</td>\n",
              "      <td>0</td>\n",
              "      <td>0</td>\n",
              "      <td>1</td>\n",
              "      <td>1</td>\n",
              "      <td>0</td>\n",
              "      <td>0</td>\n",
              "      <td>0</td>\n",
              "      <td>0</td>\n",
              "    </tr>\n",
              "  </tbody>\n",
              "</table>\n",
              "</div>\n",
              "      <button class=\"colab-df-convert\" onclick=\"convertToInteractive('df-b97f2cdb-d9d5-46a1-9292-77e96bf0b30a')\"\n",
              "              title=\"Convert this dataframe to an interactive table.\"\n",
              "              style=\"display:none;\">\n",
              "        \n",
              "  <svg xmlns=\"http://www.w3.org/2000/svg\" height=\"24px\"viewBox=\"0 0 24 24\"\n",
              "       width=\"24px\">\n",
              "    <path d=\"M0 0h24v24H0V0z\" fill=\"none\"/>\n",
              "    <path d=\"M18.56 5.44l.94 2.06.94-2.06 2.06-.94-2.06-.94-.94-2.06-.94 2.06-2.06.94zm-11 1L8.5 8.5l.94-2.06 2.06-.94-2.06-.94L8.5 2.5l-.94 2.06-2.06.94zm10 10l.94 2.06.94-2.06 2.06-.94-2.06-.94-.94-2.06-.94 2.06-2.06.94z\"/><path d=\"M17.41 7.96l-1.37-1.37c-.4-.4-.92-.59-1.43-.59-.52 0-1.04.2-1.43.59L10.3 9.45l-7.72 7.72c-.78.78-.78 2.05 0 2.83L4 21.41c.39.39.9.59 1.41.59.51 0 1.02-.2 1.41-.59l7.78-7.78 2.81-2.81c.8-.78.8-2.07 0-2.86zM5.41 20L4 18.59l7.72-7.72 1.47 1.35L5.41 20z\"/>\n",
              "  </svg>\n",
              "      </button>\n",
              "      \n",
              "  <style>\n",
              "    .colab-df-container {\n",
              "      display:flex;\n",
              "      flex-wrap:wrap;\n",
              "      gap: 12px;\n",
              "    }\n",
              "\n",
              "    .colab-df-convert {\n",
              "      background-color: #E8F0FE;\n",
              "      border: none;\n",
              "      border-radius: 50%;\n",
              "      cursor: pointer;\n",
              "      display: none;\n",
              "      fill: #1967D2;\n",
              "      height: 32px;\n",
              "      padding: 0 0 0 0;\n",
              "      width: 32px;\n",
              "    }\n",
              "\n",
              "    .colab-df-convert:hover {\n",
              "      background-color: #E2EBFA;\n",
              "      box-shadow: 0px 1px 2px rgba(60, 64, 67, 0.3), 0px 1px 3px 1px rgba(60, 64, 67, 0.15);\n",
              "      fill: #174EA6;\n",
              "    }\n",
              "\n",
              "    [theme=dark] .colab-df-convert {\n",
              "      background-color: #3B4455;\n",
              "      fill: #D2E3FC;\n",
              "    }\n",
              "\n",
              "    [theme=dark] .colab-df-convert:hover {\n",
              "      background-color: #434B5C;\n",
              "      box-shadow: 0px 1px 3px 1px rgba(0, 0, 0, 0.15);\n",
              "      filter: drop-shadow(0px 1px 2px rgba(0, 0, 0, 0.3));\n",
              "      fill: #FFFFFF;\n",
              "    }\n",
              "  </style>\n",
              "\n",
              "      <script>\n",
              "        const buttonEl =\n",
              "          document.querySelector('#df-b97f2cdb-d9d5-46a1-9292-77e96bf0b30a button.colab-df-convert');\n",
              "        buttonEl.style.display =\n",
              "          google.colab.kernel.accessAllowed ? 'block' : 'none';\n",
              "\n",
              "        async function convertToInteractive(key) {\n",
              "          const element = document.querySelector('#df-b97f2cdb-d9d5-46a1-9292-77e96bf0b30a');\n",
              "          const dataTable =\n",
              "            await google.colab.kernel.invokeFunction('convertToInteractive',\n",
              "                                                     [key], {});\n",
              "          if (!dataTable) return;\n",
              "\n",
              "          const docLinkHtml = 'Like what you see? Visit the ' +\n",
              "            '<a target=\"_blank\" href=https://colab.research.google.com/notebooks/data_table.ipynb>data table notebook</a>'\n",
              "            + ' to learn more about interactive tables.';\n",
              "          element.innerHTML = '';\n",
              "          dataTable['output_type'] = 'display_data';\n",
              "          await google.colab.output.renderOutput(dataTable, element);\n",
              "          const docLink = document.createElement('div');\n",
              "          docLink.innerHTML = docLinkHtml;\n",
              "          element.appendChild(docLink);\n",
              "        }\n",
              "      </script>\n",
              "    </div>\n",
              "  </div>\n",
              "  "
            ],
            "text/plain": [
              "                                 Id  Subject Focus  Eyes  ...  Occlusion  Info  Blur\n",
              "0  4128bae22183829d2b5fea10effdb0c3              1     0  ...          1     0     1\n",
              "1  43a2262d7738e3d420d453815151079e              0     1  ...          0     0     0\n",
              "\n",
              "[2 rows x 13 columns]"
            ]
          },
          "metadata": {},
          "execution_count": 8
        }
      ]
    },
    {
      "cell_type": "code",
      "source": [
        "labels=dict(train_csv[['Id','Pawpularity']].values)"
      ],
      "metadata": {
        "execution": {
          "iopub.status.busy": "2022-01-10T05:23:11.688782Z",
          "iopub.execute_input": "2022-01-10T05:23:11.689243Z",
          "iopub.status.idle": "2022-01-10T05:23:11.713358Z",
          "shell.execute_reply.started": "2022-01-10T05:23:11.689204Z",
          "shell.execute_reply": "2022-01-10T05:23:11.712592Z"
        },
        "trusted": true,
        "id": "O83o6CpAoN1l"
      },
      "execution_count": 9,
      "outputs": []
    },
    {
      "cell_type": "markdown",
      "source": [
        "# Data Generators"
      ],
      "metadata": {
        "id": "JLpZ27YUoN1n"
      }
    },
    {
      "cell_type": "code",
      "source": [
        "class DataGenerator(tf.keras.utils.Sequence):\n",
        "\n",
        "    def __init__(self, list_IDs, labels, batch_size=1, n_channels=1,part='train', shuffle=False):\n",
        "        self.batch_size = batch_size\n",
        "        self.labels = labels\n",
        "        self.list_IDs = list_IDs\n",
        "        self.n_channels = n_channels\n",
        "        self.shuffle = shuffle\n",
        "        self.part=part\n",
        "        self.on_epoch_end()\n",
        "\n",
        "    def __len__(self):\n",
        "        return int(np.floor(len(self.list_IDs) / self.batch_size))\n",
        "\n",
        "    def __getitem__(self, index):\n",
        "        indexes = self.indexes[index*self.batch_size:(index+1)*self.batch_size]\n",
        "        \n",
        "        list_IDs_temp      = [self.list_IDs[k] for k in indexes]\n",
        "        \n",
        "        x, y = self.__data_generation(list_IDs_temp)\n",
        "        return x, y\n",
        "\n",
        "    def on_epoch_end(self):\n",
        "        self.indexes = np.arange(len(self.list_IDs))\n",
        "        if self.shuffle == True:\n",
        "            np.random.shuffle(self.indexes)\n",
        "\n",
        "    def __data_generation(self, list_IDs_temp):\n",
        "        x           = np.zeros((self.batch_size,224,224,3))\n",
        "        y           = np.zeros((self.batch_size,1))\n",
        "        for i, ID in enumerate(list_IDs_temp):\n",
        "            x[i]                =Image.open('/content/'+str(self.part)+'/'+ str(ID)+'.jpg').resize((224,224))\n",
        "            y[i]                =self.labels[ID]\n",
        "            \n",
        "        return x,y"
      ],
      "metadata": {
        "execution": {
          "iopub.status.busy": "2022-01-10T05:23:11.728585Z",
          "iopub.execute_input": "2022-01-10T05:23:11.729145Z",
          "iopub.status.idle": "2022-01-10T05:23:11.741281Z",
          "shell.execute_reply.started": "2022-01-10T05:23:11.729103Z",
          "shell.execute_reply": "2022-01-10T05:23:11.740590Z"
        },
        "trusted": true,
        "id": "Lipesd97oN1o"
      },
      "execution_count": 10,
      "outputs": []
    },
    {
      "cell_type": "code",
      "source": [
        "class TestDataGenerator(tf.keras.utils.Sequence):\n",
        "\n",
        "    def __init__(self, list_IDs, batch_size=1, n_channels=1,part='test', shuffle=False):\n",
        "        self.batch_size = batch_size\n",
        "        self.list_IDs = list_IDs\n",
        "        self.n_channels = n_channels\n",
        "        self.shuffle = shuffle\n",
        "        self.part=part\n",
        "        self.on_epoch_end()\n",
        "\n",
        "    def __len__(self):\n",
        "        return int(np.floor(len(self.list_IDs) / self.batch_size))\n",
        "\n",
        "    def __getitem__(self, index):\n",
        "        indexes = self.indexes[index*self.batch_size:(index+1)*self.batch_size]\n",
        "        \n",
        "        list_IDs_temp      = [self.list_IDs[k] for k in indexes]\n",
        "        \n",
        "        x= self.__data_generation(list_IDs_temp)\n",
        "        return x\n",
        "\n",
        "    def on_epoch_end(self):\n",
        "        self.indexes = np.arange(len(self.list_IDs))\n",
        "        if self.shuffle == True:\n",
        "            np.random.shuffle(self.indexes)\n",
        "\n",
        "    def __data_generation(self, list_IDs_temp):\n",
        "        x           = np.zeros((self.batch_size,224,224,3))\n",
        "        for i, ID in enumerate(list_IDs_temp):\n",
        "            x[i]                =Image.open('/content/'+str(self.part)+'/'+ str(ID)+'.jpg').resize((224,224))\n",
        "\n",
        "        return x\n",
        "\n",
        "test_generator   = TestDataGenerator(test_csv['Id'].values)"
      ],
      "metadata": {
        "execution": {
          "iopub.status.busy": "2022-01-10T05:23:11.742739Z",
          "iopub.execute_input": "2022-01-10T05:23:11.743010Z",
          "iopub.status.idle": "2022-01-10T05:23:11.756770Z",
          "shell.execute_reply.started": "2022-01-10T05:23:11.742969Z",
          "shell.execute_reply": "2022-01-10T05:23:11.755833Z"
        },
        "trusted": true,
        "id": "JSxIf33QoN1o"
      },
      "execution_count": 11,
      "outputs": []
    },
    {
      "cell_type": "markdown",
      "source": [
        "# CallBack"
      ],
      "metadata": {
        "id": "8NQI7OEOoN1p"
      }
    },
    {
      "cell_type": "code",
      "source": [
        "class CustomCallBacks(tf.keras.callbacks.Callback):\n",
        "    \n",
        "    def __init__(self,n):\n",
        "        self.n=n\n",
        "    \n",
        "    def on_train_begin(self, logs={}):\n",
        "        self.loss     ={'loss':[]}\n",
        "        self.val_loss ={'loss':[]}\n",
        "        self.epoch    =None\n",
        "        self.b        =0\n",
        "        self.c        =0\n",
        "        self.min_t    =None \n",
        "        \n",
        "    def on_epoch_begin(self, epoch, logs={}):\n",
        "        self.epoch=epoch\n",
        "#         if self.epoch>=1:\n",
        "#             lr=tf.keras.backend.get_value(self.model.optimizer.lr)\n",
        "#             tf.keras.backend.set_value(self.model.optimizer.lr,lr*0.10)\n",
        "\n",
        "    def on_epoch_end(self, epoch, logs={}):\n",
        "        print('{} ended'.format(epoch))\n",
        "        self.loss['loss'].append(logs.get('root_mean_squared_error'))\n",
        "        self.val_loss['loss'].append(logs.get('val_root_mean_squared_error'))\n",
        "        if self.epoch==0:\n",
        "            self.model.save_weights('model'+str(self.n)+'.h5')\n",
        "            self.min_t=self.val_loss['loss'][-1]\n",
        "        if self.epoch>=1:\n",
        "            if self.val_loss['loss'][-1]<=self.min_t and self.val_loss['loss'][-1]<=self.loss['loss'][-1]:\n",
        "                self.min_t=self.val_loss['loss'][-1]\n",
        "                self.model.save_weights('model'+str(self.n)+'.h5')\n",
        "                print('*'*5)\n",
        "                print(\"weight updated\")\n",
        "                print('*'*5)\n",
        "            else:\n",
        "                self.model.stop_training = True"
      ],
      "metadata": {
        "execution": {
          "iopub.status.busy": "2022-01-10T05:23:11.758493Z",
          "iopub.execute_input": "2022-01-10T05:23:11.758786Z",
          "iopub.status.idle": "2022-01-10T05:23:11.771350Z",
          "shell.execute_reply.started": "2022-01-10T05:23:11.758749Z",
          "shell.execute_reply": "2022-01-10T05:23:11.770648Z"
        },
        "trusted": true,
        "id": "tsL71szjoN1q"
      },
      "execution_count": 12,
      "outputs": []
    },
    {
      "cell_type": "markdown",
      "source": [
        "# Model"
      ],
      "metadata": {
        "id": "55S6jDPLoN1q"
      }
    },
    {
      "cell_type": "code",
      "source": [
        "def root_mean_squared_error(y_true, y_pred):\n",
        "        return K.sqrt(K.mean(K.square(y_pred - y_true)))"
      ],
      "metadata": {
        "execution": {
          "iopub.status.busy": "2022-01-10T05:23:11.775338Z",
          "iopub.execute_input": "2022-01-10T05:23:11.775614Z",
          "iopub.status.idle": "2022-01-10T05:23:11.782597Z",
          "shell.execute_reply.started": "2022-01-10T05:23:11.775579Z",
          "shell.execute_reply": "2022-01-10T05:23:11.781880Z"
        },
        "trusted": true,
        "id": "fr6ujnKloN1q"
      },
      "execution_count": 13,
      "outputs": []
    },
    {
      "cell_type": "code",
      "source": [
        "skf = StratifiedKFold(n_splits=10)\n",
        "q=0\n",
        "for train_index, test_index in skf.split(train_csv['Id'].values,train_csv['Pawpularity'].values):\n",
        "    training_generator   = DataGenerator(train_csv['Id'].values[train_index],labels)\n",
        "    validation_generator = DataGenerator(train_csv['Id'].values[test_index],labels)\n",
        "    cb=CustomCallBacks(q)\n",
        "    \n",
        "    model = tf.keras.Sequential([\n",
        "      tf.keras.layers.Lambda(lambda data: tf.keras.applications.imagenet_utils.preprocess_input(tf.cast(data, tf.float32), mode=\"torch\"), input_shape=(224,224,3)),\n",
        "      SwinTransformer('swin_large_224', include_top=False, pretrained=True),\n",
        "      tf.keras.layers.Dropout(0.4),\n",
        "      tf.keras.layers.Dense(1, activation='linear')\n",
        "    ])\n",
        "    model.layers[-3].trainable=False\n",
        "    \n",
        "    opt = tf.keras.optimizers.Adam(learning_rate=0.01)\n",
        "    model.compile(loss=root_mean_squared_error,optimizer=opt,metrics=[root_mean_squared_error])\n",
        "    history=model.fit_generator(generator=training_generator,validation_data=validation_generator,use_multiprocessing=True,workers=-1,epochs=1,callbacks=[cb])\n",
        "    print('*'*100)\n",
        "    print(q)\n",
        "    print('*'*100)\n",
        "    q+=1"
      ],
      "metadata": {
        "execution": {
          "iopub.status.busy": "2022-01-10T05:23:11.783966Z",
          "iopub.execute_input": "2022-01-10T05:23:11.784359Z"
        },
        "trusted": true,
        "colab": {
          "base_uri": "https://localhost:8080/"
        },
        "id": "d0Tm4fHvoN1r",
        "outputId": "a6433ce4-293b-415a-bfc3-0a419ddc3a02"
      },
      "execution_count": null,
      "outputs": [
        {
          "output_type": "stream",
          "name": "stderr",
          "text": [
            "/usr/local/lib/python3.7/dist-packages/sklearn/model_selection/_split.py:680: UserWarning: The least populated class in y has only 4 members, which is less than n_splits=10.\n",
            "  UserWarning,\n",
            "/usr/local/lib/python3.7/dist-packages/ipykernel_launcher.py:18: UserWarning: `Model.fit_generator` is deprecated and will be removed in a future version. Please use `Model.fit`, which supports generators.\n"
          ]
        },
        {
          "output_type": "stream",
          "name": "stdout",
          "text": [
            "8920/8920 [==============================] - ETA: 0s - loss: 15.2549 - root_mean_squared_error: 15.25490 ended\n",
            "8920/8920 [==============================] - 1911s 211ms/step - loss: 15.2549 - root_mean_squared_error: 15.2549 - val_loss: 13.8247 - val_root_mean_squared_error: 13.8247\n",
            "****************************************************************************************************\n",
            "0\n",
            "****************************************************************************************************\n",
            "8920/8920 [==============================] - ETA: 0s - loss: 15.2191 - root_mean_squared_error: 15.21910 ended\n",
            "8920/8920 [==============================] - 1889s 208ms/step - loss: 15.2191 - root_mean_squared_error: 15.2191 - val_loss: 14.3602 - val_root_mean_squared_error: 14.3602\n",
            "****************************************************************************************************\n",
            "1\n",
            "****************************************************************************************************\n",
            "8921/8921 [==============================] - ETA: 0s - loss: 15.2236 - root_mean_squared_error: 15.22360 ended\n",
            "8921/8921 [==============================] - 1917s 211ms/step - loss: 15.2236 - root_mean_squared_error: 15.2236 - val_loss: 14.1762 - val_root_mean_squared_error: 14.1762\n",
            "****************************************************************************************************\n",
            "2\n",
            "****************************************************************************************************\n",
            "8921/8921 [==============================] - ETA: 0s - loss: 15.2581 - root_mean_squared_error: 15.25810 ended\n",
            "8921/8921 [==============================] - 1946s 214ms/step - loss: 15.2581 - root_mean_squared_error: 15.2581 - val_loss: 13.8052 - val_root_mean_squared_error: 13.8052\n",
            "****************************************************************************************************\n",
            "3\n",
            "****************************************************************************************************\n",
            "8921/8921 [==============================] - ETA: 0s - loss: 15.2748 - root_mean_squared_error: 15.27480 ended\n",
            "8921/8921 [==============================] - 1951s 215ms/step - loss: 15.2748 - root_mean_squared_error: 15.2748 - val_loss: 14.1396 - val_root_mean_squared_error: 14.1396\n",
            "****************************************************************************************************\n",
            "4\n",
            "****************************************************************************************************\n",
            "8921/8921 [==============================] - ETA: 0s - loss: 15.1927 - root_mean_squared_error: 15.19270 ended\n",
            "8921/8921 [==============================] - 1958s 216ms/step - loss: 15.1927 - root_mean_squared_error: 15.1927 - val_loss: 13.7990 - val_root_mean_squared_error: 13.7990\n",
            "****************************************************************************************************\n",
            "5\n",
            "****************************************************************************************************\n",
            "8921/8921 [==============================] - ETA: 0s - loss: 15.3002 - root_mean_squared_error: 15.30020 ended\n",
            "8921/8921 [==============================] - 1988s 219ms/step - loss: 15.3002 - root_mean_squared_error: 15.3002 - val_loss: 13.9813 - val_root_mean_squared_error: 13.9813\n",
            "****************************************************************************************************\n",
            "6\n",
            "****************************************************************************************************\n",
            "6467/8921 [====================>.........] - ETA: 8:05 - loss: 15.6319 - root_mean_squared_error: 15.6319"
          ]
        }
      ]
    },
    {
      "cell_type": "code",
      "source": [
        "jfsofjdo"
      ],
      "metadata": {
        "id": "_UorloWjoN1r"
      },
      "execution_count": null,
      "outputs": []
    },
    {
      "cell_type": "code",
      "source": [
        ""
      ],
      "metadata": {
        "id": "XHGXO_GzoN1r"
      },
      "execution_count": null,
      "outputs": []
    },
    {
      "cell_type": "code",
      "source": [
        ""
      ],
      "metadata": {
        "id": "R_5u7VXjoN1s"
      },
      "execution_count": null,
      "outputs": []
    }
  ]
}