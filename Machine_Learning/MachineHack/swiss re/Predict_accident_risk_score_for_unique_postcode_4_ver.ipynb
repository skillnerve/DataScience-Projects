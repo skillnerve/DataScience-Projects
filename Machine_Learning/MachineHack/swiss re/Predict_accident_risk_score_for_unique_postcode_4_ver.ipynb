{
  "nbformat": 4,
  "nbformat_minor": 0,
  "metadata": {
    "colab": {
      "name": "Predict accident risk score for unique postcode.ipynb",
      "provenance": []
    },
    "kernelspec": {
      "name": "python3",
      "display_name": "Python 3"
    },
    "language_info": {
      "name": "python"
    }
  },
  "cells": [
    {
      "cell_type": "markdown",
      "source": [
        "# Libraries"
      ],
      "metadata": {
        "id": "PKBHfvX-0JI6"
      }
    },
    {
      "cell_type": "code",
      "execution_count": 1,
      "metadata": {
        "id": "-HG1bnuDzqZZ"
      },
      "outputs": [],
      "source": [
        "import numpy as np\n",
        "import pandas as pd\n",
        "import matplotlib.pyplot as plt\n",
        "import seaborn as sns"
      ]
    },
    {
      "cell_type": "markdown",
      "source": [
        "# Data"
      ],
      "metadata": {
        "id": "Pt11zb2z0aYy"
      }
    },
    {
      "cell_type": "code",
      "source": [
        "population   =pd.read_csv('/content/drive/MyDrive/Hackathons/Machine Hack/Predict accident risk score for unique postcode/Data/population.csv')\n",
        "roads_network=pd.read_csv('/content/drive/MyDrive/Hackathons/Machine Hack/Predict accident risk score for unique postcode/Data/roads_network.csv')\n",
        "train        =pd.read_csv('/content/drive/MyDrive/Hackathons/Machine Hack/Predict accident risk score for unique postcode/Data/train.csv')\n",
        "test         =pd.read_csv('/content/drive/MyDrive/Hackathons/Machine Hack/Predict accident risk score for unique postcode/Data/test.csv')"
      ],
      "metadata": {
        "id": "XYFAg9w80cXq"
      },
      "execution_count": 2,
      "outputs": []
    },
    {
      "cell_type": "code",
      "source": [
        "population.head()"
      ],
      "metadata": {
        "id": "d1i5_lrs0-D2",
        "outputId": "893b038d-ed8d-4b00-a796-d5171f58a05d",
        "colab": {
          "base_uri": "https://localhost:8080/",
          "height": 354
        }
      },
      "execution_count": 3,
      "outputs": [
        {
          "output_type": "execute_result",
          "data": {
            "text/plain": [
              "  postcode Rural Urban  Variable: All usual residents; measures: Value  \\\n",
              "0   AL1  1       Total                                            5453   \n",
              "1   AL1  2       Total                                            6523   \n",
              "2   AL1  3       Total                                            4179   \n",
              "3   AL1  4       Total                                            9799   \n",
              "4   AL1  5       Total                                           10226   \n",
              "\n",
              "   Variable: Males; measures: Value  Variable: Females; measures: Value  \\\n",
              "0                              2715                                2738   \n",
              "1                              3183                                3340   \n",
              "2                              2121                                2058   \n",
              "3                              4845                                4954   \n",
              "4                              5129                                5097   \n",
              "\n",
              "   Variable: Lives in a household; measures: Value  \\\n",
              "0                                             5408   \n",
              "1                                             6418   \n",
              "2                                             4100   \n",
              "3                                             9765   \n",
              "4                                            10211   \n",
              "\n",
              "   Variable: Lives in a communal establishment; measures: Value  \\\n",
              "0                                                 45              \n",
              "1                                                105              \n",
              "2                                                 79              \n",
              "3                                                 34              \n",
              "4                                                 15              \n",
              "\n",
              "   Variable: Schoolchild or full-time student aged 4 and over at their non term-time address; measures: Value  \\\n",
              "0                                                 75                                                            \n",
              "1                                                 77                                                            \n",
              "2                                                 46                                                            \n",
              "3                                                285                                                            \n",
              "4                                                133                                                            \n",
              "\n",
              "   Variable: Area (Hectares); measures: Value  \\\n",
              "0                                      225.63   \n",
              "1                                      286.59   \n",
              "2                                       97.12   \n",
              "3                                      244.75   \n",
              "4                                      200.93   \n",
              "\n",
              "   Variable: Density (number of persons per hectare); measures: Value  \n",
              "0                                               24.2                   \n",
              "1                                               22.8                   \n",
              "2                                               43.0                   \n",
              "3                                               40.0                   \n",
              "4                                               50.9                   "
            ],
            "text/html": [
              "\n",
              "  <div id=\"df-11fee904-4878-46e7-87e9-d6f48011b89a\">\n",
              "    <div class=\"colab-df-container\">\n",
              "      <div>\n",
              "<style scoped>\n",
              "    .dataframe tbody tr th:only-of-type {\n",
              "        vertical-align: middle;\n",
              "    }\n",
              "\n",
              "    .dataframe tbody tr th {\n",
              "        vertical-align: top;\n",
              "    }\n",
              "\n",
              "    .dataframe thead th {\n",
              "        text-align: right;\n",
              "    }\n",
              "</style>\n",
              "<table border=\"1\" class=\"dataframe\">\n",
              "  <thead>\n",
              "    <tr style=\"text-align: right;\">\n",
              "      <th></th>\n",
              "      <th>postcode</th>\n",
              "      <th>Rural Urban</th>\n",
              "      <th>Variable: All usual residents; measures: Value</th>\n",
              "      <th>Variable: Males; measures: Value</th>\n",
              "      <th>Variable: Females; measures: Value</th>\n",
              "      <th>Variable: Lives in a household; measures: Value</th>\n",
              "      <th>Variable: Lives in a communal establishment; measures: Value</th>\n",
              "      <th>Variable: Schoolchild or full-time student aged 4 and over at their non term-time address; measures: Value</th>\n",
              "      <th>Variable: Area (Hectares); measures: Value</th>\n",
              "      <th>Variable: Density (number of persons per hectare); measures: Value</th>\n",
              "    </tr>\n",
              "  </thead>\n",
              "  <tbody>\n",
              "    <tr>\n",
              "      <th>0</th>\n",
              "      <td>AL1  1</td>\n",
              "      <td>Total</td>\n",
              "      <td>5453</td>\n",
              "      <td>2715</td>\n",
              "      <td>2738</td>\n",
              "      <td>5408</td>\n",
              "      <td>45</td>\n",
              "      <td>75</td>\n",
              "      <td>225.63</td>\n",
              "      <td>24.2</td>\n",
              "    </tr>\n",
              "    <tr>\n",
              "      <th>1</th>\n",
              "      <td>AL1  2</td>\n",
              "      <td>Total</td>\n",
              "      <td>6523</td>\n",
              "      <td>3183</td>\n",
              "      <td>3340</td>\n",
              "      <td>6418</td>\n",
              "      <td>105</td>\n",
              "      <td>77</td>\n",
              "      <td>286.59</td>\n",
              "      <td>22.8</td>\n",
              "    </tr>\n",
              "    <tr>\n",
              "      <th>2</th>\n",
              "      <td>AL1  3</td>\n",
              "      <td>Total</td>\n",
              "      <td>4179</td>\n",
              "      <td>2121</td>\n",
              "      <td>2058</td>\n",
              "      <td>4100</td>\n",
              "      <td>79</td>\n",
              "      <td>46</td>\n",
              "      <td>97.12</td>\n",
              "      <td>43.0</td>\n",
              "    </tr>\n",
              "    <tr>\n",
              "      <th>3</th>\n",
              "      <td>AL1  4</td>\n",
              "      <td>Total</td>\n",
              "      <td>9799</td>\n",
              "      <td>4845</td>\n",
              "      <td>4954</td>\n",
              "      <td>9765</td>\n",
              "      <td>34</td>\n",
              "      <td>285</td>\n",
              "      <td>244.75</td>\n",
              "      <td>40.0</td>\n",
              "    </tr>\n",
              "    <tr>\n",
              "      <th>4</th>\n",
              "      <td>AL1  5</td>\n",
              "      <td>Total</td>\n",
              "      <td>10226</td>\n",
              "      <td>5129</td>\n",
              "      <td>5097</td>\n",
              "      <td>10211</td>\n",
              "      <td>15</td>\n",
              "      <td>133</td>\n",
              "      <td>200.93</td>\n",
              "      <td>50.9</td>\n",
              "    </tr>\n",
              "  </tbody>\n",
              "</table>\n",
              "</div>\n",
              "      <button class=\"colab-df-convert\" onclick=\"convertToInteractive('df-11fee904-4878-46e7-87e9-d6f48011b89a')\"\n",
              "              title=\"Convert this dataframe to an interactive table.\"\n",
              "              style=\"display:none;\">\n",
              "        \n",
              "  <svg xmlns=\"http://www.w3.org/2000/svg\" height=\"24px\"viewBox=\"0 0 24 24\"\n",
              "       width=\"24px\">\n",
              "    <path d=\"M0 0h24v24H0V0z\" fill=\"none\"/>\n",
              "    <path d=\"M18.56 5.44l.94 2.06.94-2.06 2.06-.94-2.06-.94-.94-2.06-.94 2.06-2.06.94zm-11 1L8.5 8.5l.94-2.06 2.06-.94-2.06-.94L8.5 2.5l-.94 2.06-2.06.94zm10 10l.94 2.06.94-2.06 2.06-.94-2.06-.94-.94-2.06-.94 2.06-2.06.94z\"/><path d=\"M17.41 7.96l-1.37-1.37c-.4-.4-.92-.59-1.43-.59-.52 0-1.04.2-1.43.59L10.3 9.45l-7.72 7.72c-.78.78-.78 2.05 0 2.83L4 21.41c.39.39.9.59 1.41.59.51 0 1.02-.2 1.41-.59l7.78-7.78 2.81-2.81c.8-.78.8-2.07 0-2.86zM5.41 20L4 18.59l7.72-7.72 1.47 1.35L5.41 20z\"/>\n",
              "  </svg>\n",
              "      </button>\n",
              "      \n",
              "  <style>\n",
              "    .colab-df-container {\n",
              "      display:flex;\n",
              "      flex-wrap:wrap;\n",
              "      gap: 12px;\n",
              "    }\n",
              "\n",
              "    .colab-df-convert {\n",
              "      background-color: #E8F0FE;\n",
              "      border: none;\n",
              "      border-radius: 50%;\n",
              "      cursor: pointer;\n",
              "      display: none;\n",
              "      fill: #1967D2;\n",
              "      height: 32px;\n",
              "      padding: 0 0 0 0;\n",
              "      width: 32px;\n",
              "    }\n",
              "\n",
              "    .colab-df-convert:hover {\n",
              "      background-color: #E2EBFA;\n",
              "      box-shadow: 0px 1px 2px rgba(60, 64, 67, 0.3), 0px 1px 3px 1px rgba(60, 64, 67, 0.15);\n",
              "      fill: #174EA6;\n",
              "    }\n",
              "\n",
              "    [theme=dark] .colab-df-convert {\n",
              "      background-color: #3B4455;\n",
              "      fill: #D2E3FC;\n",
              "    }\n",
              "\n",
              "    [theme=dark] .colab-df-convert:hover {\n",
              "      background-color: #434B5C;\n",
              "      box-shadow: 0px 1px 3px 1px rgba(0, 0, 0, 0.15);\n",
              "      filter: drop-shadow(0px 1px 2px rgba(0, 0, 0, 0.3));\n",
              "      fill: #FFFFFF;\n",
              "    }\n",
              "  </style>\n",
              "\n",
              "      <script>\n",
              "        const buttonEl =\n",
              "          document.querySelector('#df-11fee904-4878-46e7-87e9-d6f48011b89a button.colab-df-convert');\n",
              "        buttonEl.style.display =\n",
              "          google.colab.kernel.accessAllowed ? 'block' : 'none';\n",
              "\n",
              "        async function convertToInteractive(key) {\n",
              "          const element = document.querySelector('#df-11fee904-4878-46e7-87e9-d6f48011b89a');\n",
              "          const dataTable =\n",
              "            await google.colab.kernel.invokeFunction('convertToInteractive',\n",
              "                                                     [key], {});\n",
              "          if (!dataTable) return;\n",
              "\n",
              "          const docLinkHtml = 'Like what you see? Visit the ' +\n",
              "            '<a target=\"_blank\" href=https://colab.research.google.com/notebooks/data_table.ipynb>data table notebook</a>'\n",
              "            + ' to learn more about interactive tables.';\n",
              "          element.innerHTML = '';\n",
              "          dataTable['output_type'] = 'display_data';\n",
              "          await google.colab.output.renderOutput(dataTable, element);\n",
              "          const docLink = document.createElement('div');\n",
              "          docLink.innerHTML = docLinkHtml;\n",
              "          element.appendChild(docLink);\n",
              "        }\n",
              "      </script>\n",
              "    </div>\n",
              "  </div>\n",
              "  "
            ]
          },
          "metadata": {},
          "execution_count": 3
        }
      ]
    },
    {
      "cell_type": "code",
      "source": [
        "print(list(population.columns))"
      ],
      "metadata": {
        "colab": {
          "base_uri": "https://localhost:8080/"
        },
        "id": "9xfAy5bO9Q9b",
        "outputId": "3a0519ae-3b9f-48e9-fc80-9efd397d9773"
      },
      "execution_count": 4,
      "outputs": [
        {
          "output_type": "stream",
          "name": "stdout",
          "text": [
            "['postcode', 'Rural Urban', 'Variable: All usual residents; measures: Value', 'Variable: Males; measures: Value', 'Variable: Females; measures: Value', 'Variable: Lives in a household; measures: Value', 'Variable: Lives in a communal establishment; measures: Value', 'Variable: Schoolchild or full-time student aged 4 and over at their non term-time address; measures: Value', 'Variable: Area (Hectares); measures: Value', 'Variable: Density (number of persons per hectare); measures: Value']\n"
          ]
        }
      ]
    },
    {
      "cell_type": "code",
      "source": [
        "population['male_percent']     =population['Variable: Males; measures: Value']/population['Variable: All usual residents; measures: Value']\n",
        "population['male_female']      =population['Variable: Males; measures: Value']/population['Variable: Females; measures: Value']\n",
        "population['household_percent']=population['Variable: Lives in a household; measures: Value']/population['Variable: All usual residents; measures: Value']\n",
        "population['household_vs_non'] =population['Variable: Lives in a household; measures: Value']/population['Variable: Lives in a communal establishment; measures: Value']\n",
        "population['non_term']         =population['Variable: All usual residents; measures: Value']/population['Variable: Schoolchild or full-time student aged 4 and over at their non term-time address; measures: Value']\n",
        "population=population.drop(['Rural Urban','Variable: All usual residents; measures: Value', 'Variable: Males; measures: Value', 'Variable: Females; measures: Value', 'Variable: Lives in a household; measures: Value', 'Variable: Lives in a communal establishment; measures: Value', 'Variable: Schoolchild or full-time student aged 4 and over at their non term-time address; measures: Value', 'Variable: Area (Hectares); measures: Value', 'Variable: Density (number of persons per hectare); measures: Value'],axis=1)"
      ],
      "metadata": {
        "id": "HqJSmRx75QkG"
      },
      "execution_count": 5,
      "outputs": []
    },
    {
      "cell_type": "code",
      "source": [
        "population.head()"
      ],
      "metadata": {
        "colab": {
          "base_uri": "https://localhost:8080/",
          "height": 206
        },
        "id": "V-JhKG1N_fT8",
        "outputId": "61bdc50b-f993-4423-eccb-a68343f10377"
      },
      "execution_count": 6,
      "outputs": [
        {
          "output_type": "execute_result",
          "data": {
            "text/plain": [
              "  postcode  male_percent  male_female  household_percent  household_vs_non  \\\n",
              "0   AL1  1      0.497891     0.991600           0.991748        120.177778   \n",
              "1   AL1  2      0.487966     0.952994           0.983903         61.123810   \n",
              "2   AL1  3      0.507538     1.030612           0.981096         51.898734   \n",
              "3   AL1  4      0.494438     0.977998           0.996530        287.205882   \n",
              "4   AL1  5      0.501565     1.006278           0.998533        680.733333   \n",
              "\n",
              "    non_term  \n",
              "0  72.706667  \n",
              "1  84.714286  \n",
              "2  90.847826  \n",
              "3  34.382456  \n",
              "4  76.887218  "
            ],
            "text/html": [
              "\n",
              "  <div id=\"df-987cdc4c-6f18-400d-a074-b1bb128d4d3b\">\n",
              "    <div class=\"colab-df-container\">\n",
              "      <div>\n",
              "<style scoped>\n",
              "    .dataframe tbody tr th:only-of-type {\n",
              "        vertical-align: middle;\n",
              "    }\n",
              "\n",
              "    .dataframe tbody tr th {\n",
              "        vertical-align: top;\n",
              "    }\n",
              "\n",
              "    .dataframe thead th {\n",
              "        text-align: right;\n",
              "    }\n",
              "</style>\n",
              "<table border=\"1\" class=\"dataframe\">\n",
              "  <thead>\n",
              "    <tr style=\"text-align: right;\">\n",
              "      <th></th>\n",
              "      <th>postcode</th>\n",
              "      <th>male_percent</th>\n",
              "      <th>male_female</th>\n",
              "      <th>household_percent</th>\n",
              "      <th>household_vs_non</th>\n",
              "      <th>non_term</th>\n",
              "    </tr>\n",
              "  </thead>\n",
              "  <tbody>\n",
              "    <tr>\n",
              "      <th>0</th>\n",
              "      <td>AL1  1</td>\n",
              "      <td>0.497891</td>\n",
              "      <td>0.991600</td>\n",
              "      <td>0.991748</td>\n",
              "      <td>120.177778</td>\n",
              "      <td>72.706667</td>\n",
              "    </tr>\n",
              "    <tr>\n",
              "      <th>1</th>\n",
              "      <td>AL1  2</td>\n",
              "      <td>0.487966</td>\n",
              "      <td>0.952994</td>\n",
              "      <td>0.983903</td>\n",
              "      <td>61.123810</td>\n",
              "      <td>84.714286</td>\n",
              "    </tr>\n",
              "    <tr>\n",
              "      <th>2</th>\n",
              "      <td>AL1  3</td>\n",
              "      <td>0.507538</td>\n",
              "      <td>1.030612</td>\n",
              "      <td>0.981096</td>\n",
              "      <td>51.898734</td>\n",
              "      <td>90.847826</td>\n",
              "    </tr>\n",
              "    <tr>\n",
              "      <th>3</th>\n",
              "      <td>AL1  4</td>\n",
              "      <td>0.494438</td>\n",
              "      <td>0.977998</td>\n",
              "      <td>0.996530</td>\n",
              "      <td>287.205882</td>\n",
              "      <td>34.382456</td>\n",
              "    </tr>\n",
              "    <tr>\n",
              "      <th>4</th>\n",
              "      <td>AL1  5</td>\n",
              "      <td>0.501565</td>\n",
              "      <td>1.006278</td>\n",
              "      <td>0.998533</td>\n",
              "      <td>680.733333</td>\n",
              "      <td>76.887218</td>\n",
              "    </tr>\n",
              "  </tbody>\n",
              "</table>\n",
              "</div>\n",
              "      <button class=\"colab-df-convert\" onclick=\"convertToInteractive('df-987cdc4c-6f18-400d-a074-b1bb128d4d3b')\"\n",
              "              title=\"Convert this dataframe to an interactive table.\"\n",
              "              style=\"display:none;\">\n",
              "        \n",
              "  <svg xmlns=\"http://www.w3.org/2000/svg\" height=\"24px\"viewBox=\"0 0 24 24\"\n",
              "       width=\"24px\">\n",
              "    <path d=\"M0 0h24v24H0V0z\" fill=\"none\"/>\n",
              "    <path d=\"M18.56 5.44l.94 2.06.94-2.06 2.06-.94-2.06-.94-.94-2.06-.94 2.06-2.06.94zm-11 1L8.5 8.5l.94-2.06 2.06-.94-2.06-.94L8.5 2.5l-.94 2.06-2.06.94zm10 10l.94 2.06.94-2.06 2.06-.94-2.06-.94-.94-2.06-.94 2.06-2.06.94z\"/><path d=\"M17.41 7.96l-1.37-1.37c-.4-.4-.92-.59-1.43-.59-.52 0-1.04.2-1.43.59L10.3 9.45l-7.72 7.72c-.78.78-.78 2.05 0 2.83L4 21.41c.39.39.9.59 1.41.59.51 0 1.02-.2 1.41-.59l7.78-7.78 2.81-2.81c.8-.78.8-2.07 0-2.86zM5.41 20L4 18.59l7.72-7.72 1.47 1.35L5.41 20z\"/>\n",
              "  </svg>\n",
              "      </button>\n",
              "      \n",
              "  <style>\n",
              "    .colab-df-container {\n",
              "      display:flex;\n",
              "      flex-wrap:wrap;\n",
              "      gap: 12px;\n",
              "    }\n",
              "\n",
              "    .colab-df-convert {\n",
              "      background-color: #E8F0FE;\n",
              "      border: none;\n",
              "      border-radius: 50%;\n",
              "      cursor: pointer;\n",
              "      display: none;\n",
              "      fill: #1967D2;\n",
              "      height: 32px;\n",
              "      padding: 0 0 0 0;\n",
              "      width: 32px;\n",
              "    }\n",
              "\n",
              "    .colab-df-convert:hover {\n",
              "      background-color: #E2EBFA;\n",
              "      box-shadow: 0px 1px 2px rgba(60, 64, 67, 0.3), 0px 1px 3px 1px rgba(60, 64, 67, 0.15);\n",
              "      fill: #174EA6;\n",
              "    }\n",
              "\n",
              "    [theme=dark] .colab-df-convert {\n",
              "      background-color: #3B4455;\n",
              "      fill: #D2E3FC;\n",
              "    }\n",
              "\n",
              "    [theme=dark] .colab-df-convert:hover {\n",
              "      background-color: #434B5C;\n",
              "      box-shadow: 0px 1px 3px 1px rgba(0, 0, 0, 0.15);\n",
              "      filter: drop-shadow(0px 1px 2px rgba(0, 0, 0, 0.3));\n",
              "      fill: #FFFFFF;\n",
              "    }\n",
              "  </style>\n",
              "\n",
              "      <script>\n",
              "        const buttonEl =\n",
              "          document.querySelector('#df-987cdc4c-6f18-400d-a074-b1bb128d4d3b button.colab-df-convert');\n",
              "        buttonEl.style.display =\n",
              "          google.colab.kernel.accessAllowed ? 'block' : 'none';\n",
              "\n",
              "        async function convertToInteractive(key) {\n",
              "          const element = document.querySelector('#df-987cdc4c-6f18-400d-a074-b1bb128d4d3b');\n",
              "          const dataTable =\n",
              "            await google.colab.kernel.invokeFunction('convertToInteractive',\n",
              "                                                     [key], {});\n",
              "          if (!dataTable) return;\n",
              "\n",
              "          const docLinkHtml = 'Like what you see? Visit the ' +\n",
              "            '<a target=\"_blank\" href=https://colab.research.google.com/notebooks/data_table.ipynb>data table notebook</a>'\n",
              "            + ' to learn more about interactive tables.';\n",
              "          element.innerHTML = '';\n",
              "          dataTable['output_type'] = 'display_data';\n",
              "          await google.colab.output.renderOutput(dataTable, element);\n",
              "          const docLink = document.createElement('div');\n",
              "          docLink.innerHTML = docLinkHtml;\n",
              "          element.appendChild(docLink);\n",
              "        }\n",
              "      </script>\n",
              "    </div>\n",
              "  </div>\n",
              "  "
            ]
          },
          "metadata": {},
          "execution_count": 6
        }
      ]
    },
    {
      "cell_type": "code",
      "source": [
        "roads_network.head()"
      ],
      "metadata": {
        "colab": {
          "base_uri": "https://localhost:8080/",
          "height": 206
        },
        "id": "ASBNCzCA_2U9",
        "outputId": "2f157282-5172-4cba-a683-c0035cb13cd7"
      },
      "execution_count": 7,
      "outputs": [
        {
          "output_type": "execute_result",
          "data": {
            "text/plain": [
              "                           WKT roadClassi roadFuncti           formOfWay  \\\n",
              "0    POINT (-2.3501 56.603923)     A Road     A Road  Single Carriageway   \n",
              "1  POINT (-2.021334 57.130142)     A Road     A Road  Single Carriageway   \n",
              "2  POINT (-2.108598 57.146338)     A Road     A Road  Single Carriageway   \n",
              "3  POINT (-2.093928 57.148218)     A Road     A Road  Single Carriageway   \n",
              "4  POINT (-2.116089 57.131671)     A Road     A Road  Single Carriageway   \n",
              "\n",
              "   length  primaryRou  distance to the nearest point on rd  postcode  \n",
              "0  2643.0         1.0                             1.256769      AB1   \n",
              "1  2643.0         1.0                             1.834101   AB1 9NN  \n",
              "2  2643.0         1.0                             1.830243  AB10 1UH  \n",
              "3  2643.0         1.0                             1.835092  AB10 1YL  \n",
              "4  2643.0         1.0                             1.814373  AB10 6AT  "
            ],
            "text/html": [
              "\n",
              "  <div id=\"df-ee3b7a61-92e2-4211-bae6-892e3c496884\">\n",
              "    <div class=\"colab-df-container\">\n",
              "      <div>\n",
              "<style scoped>\n",
              "    .dataframe tbody tr th:only-of-type {\n",
              "        vertical-align: middle;\n",
              "    }\n",
              "\n",
              "    .dataframe tbody tr th {\n",
              "        vertical-align: top;\n",
              "    }\n",
              "\n",
              "    .dataframe thead th {\n",
              "        text-align: right;\n",
              "    }\n",
              "</style>\n",
              "<table border=\"1\" class=\"dataframe\">\n",
              "  <thead>\n",
              "    <tr style=\"text-align: right;\">\n",
              "      <th></th>\n",
              "      <th>WKT</th>\n",
              "      <th>roadClassi</th>\n",
              "      <th>roadFuncti</th>\n",
              "      <th>formOfWay</th>\n",
              "      <th>length</th>\n",
              "      <th>primaryRou</th>\n",
              "      <th>distance to the nearest point on rd</th>\n",
              "      <th>postcode</th>\n",
              "    </tr>\n",
              "  </thead>\n",
              "  <tbody>\n",
              "    <tr>\n",
              "      <th>0</th>\n",
              "      <td>POINT (-2.3501 56.603923)</td>\n",
              "      <td>A Road</td>\n",
              "      <td>A Road</td>\n",
              "      <td>Single Carriageway</td>\n",
              "      <td>2643.0</td>\n",
              "      <td>1.0</td>\n",
              "      <td>1.256769</td>\n",
              "      <td>AB1</td>\n",
              "    </tr>\n",
              "    <tr>\n",
              "      <th>1</th>\n",
              "      <td>POINT (-2.021334 57.130142)</td>\n",
              "      <td>A Road</td>\n",
              "      <td>A Road</td>\n",
              "      <td>Single Carriageway</td>\n",
              "      <td>2643.0</td>\n",
              "      <td>1.0</td>\n",
              "      <td>1.834101</td>\n",
              "      <td>AB1 9NN</td>\n",
              "    </tr>\n",
              "    <tr>\n",
              "      <th>2</th>\n",
              "      <td>POINT (-2.108598 57.146338)</td>\n",
              "      <td>A Road</td>\n",
              "      <td>A Road</td>\n",
              "      <td>Single Carriageway</td>\n",
              "      <td>2643.0</td>\n",
              "      <td>1.0</td>\n",
              "      <td>1.830243</td>\n",
              "      <td>AB10 1UH</td>\n",
              "    </tr>\n",
              "    <tr>\n",
              "      <th>3</th>\n",
              "      <td>POINT (-2.093928 57.148218)</td>\n",
              "      <td>A Road</td>\n",
              "      <td>A Road</td>\n",
              "      <td>Single Carriageway</td>\n",
              "      <td>2643.0</td>\n",
              "      <td>1.0</td>\n",
              "      <td>1.835092</td>\n",
              "      <td>AB10 1YL</td>\n",
              "    </tr>\n",
              "    <tr>\n",
              "      <th>4</th>\n",
              "      <td>POINT (-2.116089 57.131671)</td>\n",
              "      <td>A Road</td>\n",
              "      <td>A Road</td>\n",
              "      <td>Single Carriageway</td>\n",
              "      <td>2643.0</td>\n",
              "      <td>1.0</td>\n",
              "      <td>1.814373</td>\n",
              "      <td>AB10 6AT</td>\n",
              "    </tr>\n",
              "  </tbody>\n",
              "</table>\n",
              "</div>\n",
              "      <button class=\"colab-df-convert\" onclick=\"convertToInteractive('df-ee3b7a61-92e2-4211-bae6-892e3c496884')\"\n",
              "              title=\"Convert this dataframe to an interactive table.\"\n",
              "              style=\"display:none;\">\n",
              "        \n",
              "  <svg xmlns=\"http://www.w3.org/2000/svg\" height=\"24px\"viewBox=\"0 0 24 24\"\n",
              "       width=\"24px\">\n",
              "    <path d=\"M0 0h24v24H0V0z\" fill=\"none\"/>\n",
              "    <path d=\"M18.56 5.44l.94 2.06.94-2.06 2.06-.94-2.06-.94-.94-2.06-.94 2.06-2.06.94zm-11 1L8.5 8.5l.94-2.06 2.06-.94-2.06-.94L8.5 2.5l-.94 2.06-2.06.94zm10 10l.94 2.06.94-2.06 2.06-.94-2.06-.94-.94-2.06-.94 2.06-2.06.94z\"/><path d=\"M17.41 7.96l-1.37-1.37c-.4-.4-.92-.59-1.43-.59-.52 0-1.04.2-1.43.59L10.3 9.45l-7.72 7.72c-.78.78-.78 2.05 0 2.83L4 21.41c.39.39.9.59 1.41.59.51 0 1.02-.2 1.41-.59l7.78-7.78 2.81-2.81c.8-.78.8-2.07 0-2.86zM5.41 20L4 18.59l7.72-7.72 1.47 1.35L5.41 20z\"/>\n",
              "  </svg>\n",
              "      </button>\n",
              "      \n",
              "  <style>\n",
              "    .colab-df-container {\n",
              "      display:flex;\n",
              "      flex-wrap:wrap;\n",
              "      gap: 12px;\n",
              "    }\n",
              "\n",
              "    .colab-df-convert {\n",
              "      background-color: #E8F0FE;\n",
              "      border: none;\n",
              "      border-radius: 50%;\n",
              "      cursor: pointer;\n",
              "      display: none;\n",
              "      fill: #1967D2;\n",
              "      height: 32px;\n",
              "      padding: 0 0 0 0;\n",
              "      width: 32px;\n",
              "    }\n",
              "\n",
              "    .colab-df-convert:hover {\n",
              "      background-color: #E2EBFA;\n",
              "      box-shadow: 0px 1px 2px rgba(60, 64, 67, 0.3), 0px 1px 3px 1px rgba(60, 64, 67, 0.15);\n",
              "      fill: #174EA6;\n",
              "    }\n",
              "\n",
              "    [theme=dark] .colab-df-convert {\n",
              "      background-color: #3B4455;\n",
              "      fill: #D2E3FC;\n",
              "    }\n",
              "\n",
              "    [theme=dark] .colab-df-convert:hover {\n",
              "      background-color: #434B5C;\n",
              "      box-shadow: 0px 1px 3px 1px rgba(0, 0, 0, 0.15);\n",
              "      filter: drop-shadow(0px 1px 2px rgba(0, 0, 0, 0.3));\n",
              "      fill: #FFFFFF;\n",
              "    }\n",
              "  </style>\n",
              "\n",
              "      <script>\n",
              "        const buttonEl =\n",
              "          document.querySelector('#df-ee3b7a61-92e2-4211-bae6-892e3c496884 button.colab-df-convert');\n",
              "        buttonEl.style.display =\n",
              "          google.colab.kernel.accessAllowed ? 'block' : 'none';\n",
              "\n",
              "        async function convertToInteractive(key) {\n",
              "          const element = document.querySelector('#df-ee3b7a61-92e2-4211-bae6-892e3c496884');\n",
              "          const dataTable =\n",
              "            await google.colab.kernel.invokeFunction('convertToInteractive',\n",
              "                                                     [key], {});\n",
              "          if (!dataTable) return;\n",
              "\n",
              "          const docLinkHtml = 'Like what you see? Visit the ' +\n",
              "            '<a target=\"_blank\" href=https://colab.research.google.com/notebooks/data_table.ipynb>data table notebook</a>'\n",
              "            + ' to learn more about interactive tables.';\n",
              "          element.innerHTML = '';\n",
              "          dataTable['output_type'] = 'display_data';\n",
              "          await google.colab.output.renderOutput(dataTable, element);\n",
              "          const docLink = document.createElement('div');\n",
              "          docLink.innerHTML = docLinkHtml;\n",
              "          element.appendChild(docLink);\n",
              "        }\n",
              "      </script>\n",
              "    </div>\n",
              "  </div>\n",
              "  "
            ]
          },
          "metadata": {},
          "execution_count": 7
        }
      ]
    },
    {
      "cell_type": "code",
      "source": [
        "roads_network.isna().sum()/roads_network.shape[0]"
      ],
      "metadata": {
        "colab": {
          "base_uri": "https://localhost:8080/"
        },
        "id": "Lad5_cocNSg5",
        "outputId": "3cd66162-92fe-4d92-b577-1c0846c3d97f"
      },
      "execution_count": 8,
      "outputs": [
        {
          "output_type": "execute_result",
          "data": {
            "text/plain": [
              "WKT                                    0.000000\n",
              "roadClassi                             0.013258\n",
              "roadFuncti                             0.013258\n",
              "formOfWay                              0.013258\n",
              "length                                 0.013258\n",
              "primaryRou                             0.013258\n",
              "distance to the nearest point on rd    0.012636\n",
              "postcode                               0.000000\n",
              "dtype: float64"
            ]
          },
          "metadata": {},
          "execution_count": 8
        }
      ]
    },
    {
      "cell_type": "code",
      "source": [
        "def lat(k):\n",
        "  return(float(k[7:-1].split()[0]))\n",
        "\n",
        "def lon(k):\n",
        "  return(float(k[7:-1].split()[1]))\n",
        "roads_network['lat']=roads_network['WKT'].apply(lat)\n",
        "roads_network['lon']=roads_network['WKT'].apply(lon)"
      ],
      "metadata": {
        "id": "ADdn37u-PfX5"
      },
      "execution_count": 9,
      "outputs": []
    },
    {
      "cell_type": "code",
      "source": [
        "sns.boxplot(roads_network['lat'])"
      ],
      "metadata": {
        "colab": {
          "base_uri": "https://localhost:8080/",
          "height": 351
        },
        "id": "PPackbjzQIxs",
        "outputId": "f43e69dd-f92c-40d6-d736-36650c5b5ea5"
      },
      "execution_count": 10,
      "outputs": [
        {
          "output_type": "stream",
          "name": "stderr",
          "text": [
            "/usr/local/lib/python3.7/dist-packages/seaborn/_decorators.py:43: FutureWarning: Pass the following variable as a keyword arg: x. From version 0.12, the only valid positional argument will be `data`, and passing other arguments without an explicit keyword will result in an error or misinterpretation.\n",
            "  FutureWarning\n"
          ]
        },
        {
          "output_type": "execute_result",
          "data": {
            "text/plain": [
              "<matplotlib.axes._subplots.AxesSubplot at 0x7fee98b05810>"
            ]
          },
          "metadata": {},
          "execution_count": 10
        },
        {
          "output_type": "display_data",
          "data": {
            "text/plain": [
              "<Figure size 432x288 with 1 Axes>"
            ],
            "image/png": "[encoded data removed]"
          },
          "metadata": {
            "needs_background": "light"
          }
        }
      ]
    },
    {
      "cell_type": "code",
      "source": [
        "sns.boxplot(roads_network['lon'])"
      ],
      "metadata": {
        "colab": {
          "base_uri": "https://localhost:8080/",
          "height": 351
        },
        "id": "2ptdtRnDQY56",
        "outputId": "1f07045e-b9d3-402f-b8e8-2702b0710828"
      },
      "execution_count": 11,
      "outputs": [
        {
          "output_type": "stream",
          "name": "stderr",
          "text": [
            "/usr/local/lib/python3.7/dist-packages/seaborn/_decorators.py:43: FutureWarning: Pass the following variable as a keyword arg: x. From version 0.12, the only valid positional argument will be `data`, and passing other arguments without an explicit keyword will result in an error or misinterpretation.\n",
            "  FutureWarning\n"
          ]
        },
        {
          "output_type": "execute_result",
          "data": {
            "text/plain": [
              "<matplotlib.axes._subplots.AxesSubplot at 0x7fee98a73950>"
            ]
          },
          "metadata": {},
          "execution_count": 11
        },
        {
          "output_type": "display_data",
          "data": {
            "text/plain": [
              "<Figure size 432x288 with 1 Axes>"
            ],
            "image/png": "[encoded data removed]"
          },
          "metadata": {
            "needs_background": "light"
          }
        }
      ]
    },
    {
      "cell_type": "code",
      "source": [
        "train.head()"
      ],
      "metadata": {
        "colab": {
          "base_uri": "https://localhost:8080/",
          "height": 386
        },
        "id": "Q4SBVUk_6EoW",
        "outputId": "d90bf1c8-e0fe-485f-a5b8-23ecd513d802"
      },
      "execution_count": 12,
      "outputs": [
        {
          "output_type": "execute_result",
          "data": {
            "text/plain": [
              "   Accident_ID  Police_Force  Number_of_Vehicles  Number_of_Casualties  \\\n",
              "0            1            34                   2                     1   \n",
              "1            2             5                   2                     1   \n",
              "2            3             1                   2                     1   \n",
              "3            4             1                   1                     1   \n",
              "4            5            46                   1                     1   \n",
              "\n",
              "       Date  Day_of_Week   Time  Local_Authority_(District)  \\\n",
              "0  19/12/12            7  13:20                         344   \n",
              "1  02/11/12            4   7:53                         102   \n",
              "2  02/11/12            4  16:00                         531   \n",
              "3  06/05/12            1  16:50                           7   \n",
              "4  30/06/12            3  13:25                         519   \n",
              "\n",
              "  Local_Authority_(Highway)  1st_Road_Class  ...  \\\n",
              "0                 E10000032               4  ...   \n",
              "1                 E09000026               3  ...   \n",
              "2                 E10000016               6  ...   \n",
              "3                 E08000035               6  ...   \n",
              "4                 E10000031               3  ...   \n",
              "\n",
              "                 Light_Conditions          Weather_Conditions  \\\n",
              "0  Daylight: Street light present     Fine without high winds   \n",
              "1  Daylight: Street light present  Raining without high winds   \n",
              "2  Daylight: Street light present     Fine without high winds   \n",
              "3  Daylight: Street light present     Fine without high winds   \n",
              "4  Daylight: Street light present     Fine without high winds   \n",
              "\n",
              "   Road_Surface_Conditions  Special_Conditions_at_Site  Carriageway_Hazards  \\\n",
              "0                      Dry                Ol or diesel                 None   \n",
              "1                      Dry                        None                 None   \n",
              "2                      Dry                        None                 None   \n",
              "3                      Dry                   Roadworks                 None   \n",
              "4                      Dry                        None                 None   \n",
              "\n",
              "  Urban_or_Rural_Area Did_Police_Officer_Attend_Scene_of_Accident    state  \\\n",
              "0                   1                                         Yes  England   \n",
              "1                   1                                          No  England   \n",
              "2                   1                                          No  England   \n",
              "3                   1                                         Yes  England   \n",
              "4                   1                                          No  England   \n",
              "\n",
              "   postcode         country  \n",
              "0   OX3 9UP  United Kingdom  \n",
              "1   S35 4EZ  United Kingdom  \n",
              "2  BN21 2XR  United Kingdom  \n",
              "3  TA20 3PT  United Kingdom  \n",
              "4  DN20 0QF  United Kingdom  \n",
              "\n",
              "[5 rows x 27 columns]"
            ],
            "text/html": [
              "\n",
              "  <div id=\"df-f45a968f-aaa7-4c32-adf3-1d395c81d269\">\n",
              "    <div class=\"colab-df-container\">\n",
              "      <div>\n",
              "<style scoped>\n",
              "    .dataframe tbody tr th:only-of-type {\n",
              "        vertical-align: middle;\n",
              "    }\n",
              "\n",
              "    .dataframe tbody tr th {\n",
              "        vertical-align: top;\n",
              "    }\n",
              "\n",
              "    .dataframe thead th {\n",
              "        text-align: right;\n",
              "    }\n",
              "</style>\n",
              "<table border=\"1\" class=\"dataframe\">\n",
              "  <thead>\n",
              "    <tr style=\"text-align: right;\">\n",
              "      <th></th>\n",
              "      <th>Accident_ID</th>\n",
              "      <th>Police_Force</th>\n",
              "      <th>Number_of_Vehicles</th>\n",
              "      <th>Number_of_Casualties</th>\n",
              "      <th>Date</th>\n",
              "      <th>Day_of_Week</th>\n",
              "      <th>Time</th>\n",
              "      <th>Local_Authority_(District)</th>\n",
              "      <th>Local_Authority_(Highway)</th>\n",
              "      <th>1st_Road_Class</th>\n",
              "      <th>...</th>\n",
              "      <th>Light_Conditions</th>\n",
              "      <th>Weather_Conditions</th>\n",
              "      <th>Road_Surface_Conditions</th>\n",
              "      <th>Special_Conditions_at_Site</th>\n",
              "      <th>Carriageway_Hazards</th>\n",
              "      <th>Urban_or_Rural_Area</th>\n",
              "      <th>Did_Police_Officer_Attend_Scene_of_Accident</th>\n",
              "      <th>state</th>\n",
              "      <th>postcode</th>\n",
              "      <th>country</th>\n",
              "    </tr>\n",
              "  </thead>\n",
              "  <tbody>\n",
              "    <tr>\n",
              "      <th>0</th>\n",
              "      <td>1</td>\n",
              "      <td>34</td>\n",
              "      <td>2</td>\n",
              "      <td>1</td>\n",
              "      <td>19/12/12</td>\n",
              "      <td>7</td>\n",
              "      <td>13:20</td>\n",
              "      <td>344</td>\n",
              "      <td>E10000032</td>\n",
              "      <td>4</td>\n",
              "      <td>...</td>\n",
              "      <td>Daylight: Street light present</td>\n",
              "      <td>Fine without high winds</td>\n",
              "      <td>Dry</td>\n",
              "      <td>Ol or diesel</td>\n",
              "      <td>None</td>\n",
              "      <td>1</td>\n",
              "      <td>Yes</td>\n",
              "      <td>England</td>\n",
              "      <td>OX3 9UP</td>\n",
              "      <td>United Kingdom</td>\n",
              "    </tr>\n",
              "    <tr>\n",
              "      <th>1</th>\n",
              "      <td>2</td>\n",
              "      <td>5</td>\n",
              "      <td>2</td>\n",
              "      <td>1</td>\n",
              "      <td>02/11/12</td>\n",
              "      <td>4</td>\n",
              "      <td>7:53</td>\n",
              "      <td>102</td>\n",
              "      <td>E09000026</td>\n",
              "      <td>3</td>\n",
              "      <td>...</td>\n",
              "      <td>Daylight: Street light present</td>\n",
              "      <td>Raining without high winds</td>\n",
              "      <td>Dry</td>\n",
              "      <td>None</td>\n",
              "      <td>None</td>\n",
              "      <td>1</td>\n",
              "      <td>No</td>\n",
              "      <td>England</td>\n",
              "      <td>S35 4EZ</td>\n",
              "      <td>United Kingdom</td>\n",
              "    </tr>\n",
              "    <tr>\n",
              "      <th>2</th>\n",
              "      <td>3</td>\n",
              "      <td>1</td>\n",
              "      <td>2</td>\n",
              "      <td>1</td>\n",
              "      <td>02/11/12</td>\n",
              "      <td>4</td>\n",
              "      <td>16:00</td>\n",
              "      <td>531</td>\n",
              "      <td>E10000016</td>\n",
              "      <td>6</td>\n",
              "      <td>...</td>\n",
              "      <td>Daylight: Street light present</td>\n",
              "      <td>Fine without high winds</td>\n",
              "      <td>Dry</td>\n",
              "      <td>None</td>\n",
              "      <td>None</td>\n",
              "      <td>1</td>\n",
              "      <td>No</td>\n",
              "      <td>England</td>\n",
              "      <td>BN21 2XR</td>\n",
              "      <td>United Kingdom</td>\n",
              "    </tr>\n",
              "    <tr>\n",
              "      <th>3</th>\n",
              "      <td>4</td>\n",
              "      <td>1</td>\n",
              "      <td>1</td>\n",
              "      <td>1</td>\n",
              "      <td>06/05/12</td>\n",
              "      <td>1</td>\n",
              "      <td>16:50</td>\n",
              "      <td>7</td>\n",
              "      <td>E08000035</td>\n",
              "      <td>6</td>\n",
              "      <td>...</td>\n",
              "      <td>Daylight: Street light present</td>\n",
              "      <td>Fine without high winds</td>\n",
              "      <td>Dry</td>\n",
              "      <td>Roadworks</td>\n",
              "      <td>None</td>\n",
              "      <td>1</td>\n",
              "      <td>Yes</td>\n",
              "      <td>England</td>\n",
              "      <td>TA20 3PT</td>\n",
              "      <td>United Kingdom</td>\n",
              "    </tr>\n",
              "    <tr>\n",
              "      <th>4</th>\n",
              "      <td>5</td>\n",
              "      <td>46</td>\n",
              "      <td>1</td>\n",
              "      <td>1</td>\n",
              "      <td>30/06/12</td>\n",
              "      <td>3</td>\n",
              "      <td>13:25</td>\n",
              "      <td>519</td>\n",
              "      <td>E10000031</td>\n",
              "      <td>3</td>\n",
              "      <td>...</td>\n",
              "      <td>Daylight: Street light present</td>\n",
              "      <td>Fine without high winds</td>\n",
              "      <td>Dry</td>\n",
              "      <td>None</td>\n",
              "      <td>None</td>\n",
              "      <td>1</td>\n",
              "      <td>No</td>\n",
              "      <td>England</td>\n",
              "      <td>DN20 0QF</td>\n",
              "      <td>United Kingdom</td>\n",
              "    </tr>\n",
              "  </tbody>\n",
              "</table>\n",
              "<p>5 rows × 27 columns</p>\n",
              "</div>\n",
              "      <button class=\"colab-df-convert\" onclick=\"convertToInteractive('df-f45a968f-aaa7-4c32-adf3-1d395c81d269')\"\n",
              "              title=\"Convert this dataframe to an interactive table.\"\n",
              "              style=\"display:none;\">\n",
              "        \n",
              "  <svg xmlns=\"http://www.w3.org/2000/svg\" height=\"24px\"viewBox=\"0 0 24 24\"\n",
              "       width=\"24px\">\n",
              "    <path d=\"M0 0h24v24H0V0z\" fill=\"none\"/>\n",
              "    <path d=\"M18.56 5.44l.94 2.06.94-2.06 2.06-.94-2.06-.94-.94-2.06-.94 2.06-2.06.94zm-11 1L8.5 8.5l.94-2.06 2.06-.94-2.06-.94L8.5 2.5l-.94 2.06-2.06.94zm10 10l.94 2.06.94-2.06 2.06-.94-2.06-.94-.94-2.06-.94 2.06-2.06.94z\"/><path d=\"M17.41 7.96l-1.37-1.37c-.4-.4-.92-.59-1.43-.59-.52 0-1.04.2-1.43.59L10.3 9.45l-7.72 7.72c-.78.78-.78 2.05 0 2.83L4 21.41c.39.39.9.59 1.41.59.51 0 1.02-.2 1.41-.59l7.78-7.78 2.81-2.81c.8-.78.8-2.07 0-2.86zM5.41 20L4 18.59l7.72-7.72 1.47 1.35L5.41 20z\"/>\n",
              "  </svg>\n",
              "      </button>\n",
              "      \n",
              "  <style>\n",
              "    .colab-df-container {\n",
              "      display:flex;\n",
              "      flex-wrap:wrap;\n",
              "      gap: 12px;\n",
              "    }\n",
              "\n",
              "    .colab-df-convert {\n",
              "      background-color: #E8F0FE;\n",
              "      border: none;\n",
              "      border-radius: 50%;\n",
              "      cursor: pointer;\n",
              "      display: none;\n",
              "      fill: #1967D2;\n",
              "      height: 32px;\n",
              "      padding: 0 0 0 0;\n",
              "      width: 32px;\n",
              "    }\n",
              "\n",
              "    .colab-df-convert:hover {\n",
              "      background-color: #E2EBFA;\n",
              "      box-shadow: 0px 1px 2px rgba(60, 64, 67, 0.3), 0px 1px 3px 1px rgba(60, 64, 67, 0.15);\n",
              "      fill: #174EA6;\n",
              "    }\n",
              "\n",
              "    [theme=dark] .colab-df-convert {\n",
              "      background-color: #3B4455;\n",
              "      fill: #D2E3FC;\n",
              "    }\n",
              "\n",
              "    [theme=dark] .colab-df-convert:hover {\n",
              "      background-color: #434B5C;\n",
              "      box-shadow: 0px 1px 3px 1px rgba(0, 0, 0, 0.15);\n",
              "      filter: drop-shadow(0px 1px 2px rgba(0, 0, 0, 0.3));\n",
              "      fill: #FFFFFF;\n",
              "    }\n",
              "  </style>\n",
              "\n",
              "      <script>\n",
              "        const buttonEl =\n",
              "          document.querySelector('#df-f45a968f-aaa7-4c32-adf3-1d395c81d269 button.colab-df-convert');\n",
              "        buttonEl.style.display =\n",
              "          google.colab.kernel.accessAllowed ? 'block' : 'none';\n",
              "\n",
              "        async function convertToInteractive(key) {\n",
              "          const element = document.querySelector('#df-f45a968f-aaa7-4c32-adf3-1d395c81d269');\n",
              "          const dataTable =\n",
              "            await google.colab.kernel.invokeFunction('convertToInteractive',\n",
              "                                                     [key], {});\n",
              "          if (!dataTable) return;\n",
              "\n",
              "          const docLinkHtml = 'Like what you see? Visit the ' +\n",
              "            '<a target=\"_blank\" href=https://colab.research.google.com/notebooks/data_table.ipynb>data table notebook</a>'\n",
              "            + ' to learn more about interactive tables.';\n",
              "          element.innerHTML = '';\n",
              "          dataTable['output_type'] = 'display_data';\n",
              "          await google.colab.output.renderOutput(dataTable, element);\n",
              "          const docLink = document.createElement('div');\n",
              "          docLink.innerHTML = docLinkHtml;\n",
              "          element.appendChild(docLink);\n",
              "        }\n",
              "      </script>\n",
              "    </div>\n",
              "  </div>\n",
              "  "
            ]
          },
          "metadata": {},
          "execution_count": 12
        }
      ]
    },
    {
      "cell_type": "code",
      "source": [
        "sns.countplot(train['Number_of_Casualties'])"
      ],
      "metadata": {
        "colab": {
          "base_uri": "https://localhost:8080/",
          "height": 352
        },
        "id": "p85ygTJ2EA2O",
        "outputId": "dcfebf90-43d5-4a93-d8ab-3e239949bc77"
      },
      "execution_count": 13,
      "outputs": [
        {
          "output_type": "stream",
          "name": "stderr",
          "text": [
            "/usr/local/lib/python3.7/dist-packages/seaborn/_decorators.py:43: FutureWarning: Pass the following variable as a keyword arg: x. From version 0.12, the only valid positional argument will be `data`, and passing other arguments without an explicit keyword will result in an error or misinterpretation.\n",
            "  FutureWarning\n"
          ]
        },
        {
          "output_type": "execute_result",
          "data": {
            "text/plain": [
              "<matplotlib.axes._subplots.AxesSubplot at 0x7fee98b1b550>"
            ]
          },
          "metadata": {},
          "execution_count": 13
        },
        {
          "output_type": "display_data",
          "data": {
            "text/plain": [
              "<Figure size 432x288 with 1 Axes>"
            ],
            "image/png": "[encoded data removed]"
          },
          "metadata": {
            "needs_background": "light"
          }
        }
      ]
    },
    {
      "cell_type": "code",
      "source": [
        "# split weather based on first word\n",
        "# average number of police in state - today\n",
        "# average number of casualities in that state"
      ],
      "metadata": {
        "id": "5k95m2f1EJnU"
      },
      "execution_count": 14,
      "outputs": []
    },
    {
      "cell_type": "code",
      "source": [
        "train.columns"
      ],
      "metadata": {
        "colab": {
          "base_uri": "https://localhost:8080/"
        },
        "id": "5Dxg15OL95cf",
        "outputId": "be901ec4-eb8a-4231-8a1f-d3c2587dd62e"
      },
      "execution_count": 15,
      "outputs": [
        {
          "output_type": "execute_result",
          "data": {
            "text/plain": [
              "Index(['Accident_ID', 'Police_Force', 'Number_of_Vehicles',\n",
              "       'Number_of_Casualties', 'Date', 'Day_of_Week', 'Time',\n",
              "       'Local_Authority_(District)', 'Local_Authority_(Highway)',\n",
              "       '1st_Road_Class', '1st_Road_Number', 'Road_Type', 'Speed_limit',\n",
              "       '2nd_Road_Class', '2nd_Road_Number',\n",
              "       'Pedestrian_Crossing-Human_Control',\n",
              "       'Pedestrian_Crossing-Physical_Facilities', 'Light_Conditions',\n",
              "       'Weather_Conditions', 'Road_Surface_Conditions',\n",
              "       'Special_Conditions_at_Site', 'Carriageway_Hazards',\n",
              "       'Urban_or_Rural_Area', 'Did_Police_Officer_Attend_Scene_of_Accident',\n",
              "       'state', 'postcode', 'country'],\n",
              "      dtype='object')"
            ]
          },
          "metadata": {},
          "execution_count": 15
        }
      ]
    },
    {
      "cell_type": "markdown",
      "source": [
        "'Day_of_Week'"
      ],
      "metadata": {
        "id": "2mzbG2FNNJ67"
      }
    },
    {
      "cell_type": "code",
      "source": [
        "week = train[['Day_of_Week','Police_Force']].groupby('Day_of_Week').agg('mean').reset_index().add_prefix('dw_')\n",
        "train= train.merge(week,left_on='Day_of_Week',right_on='dw_Day_of_Week')\n",
        "train['dw_Police_Force']=train['Police_Force']-train['dw_Police_Force']\n",
        "train= train.drop('dw_Day_of_Week',axis=1)\n",
        "\n",
        "test= test.merge(week,left_on='Day_of_Week',right_on='dw_Day_of_Week')\n",
        "test['dw_Police_Force']=test['Police_Force']-test['dw_Police_Force']\n",
        "test= test.drop('dw_Day_of_Week',axis=1)\n",
        "\n",
        "week=train[['Day_of_Week','Number_of_Casualties']].groupby('Day_of_Week').agg('mean').reset_index().add_prefix('dw_')\n",
        "train=train.merge(week,left_on='Day_of_Week',right_on='dw_Day_of_Week')\n",
        "test=test.merge(week,left_on='Day_of_Week',right_on='dw_Day_of_Week')\n",
        "train= train.drop('dw_Day_of_Week',axis=1)\n",
        "test= test.drop('dw_Day_of_Week',axis=1)\n",
        "\n",
        "week = train[['Day_of_Week','Number_of_Vehicles']].groupby('Day_of_Week').agg('mean').reset_index().add_prefix('dw_')\n",
        "train= train.merge(week,left_on='Day_of_Week',right_on='dw_Day_of_Week')\n",
        "train['dw_Number_of_Vehicles']=train['Number_of_Vehicles']-train['dw_Number_of_Vehicles']\n",
        "train= train.drop('dw_Day_of_Week',axis=1)\n",
        "\n",
        "test= test.merge(week,left_on='Day_of_Week',right_on='dw_Day_of_Week')\n",
        "test['dw_Number_of_Vehicles']=test['Number_of_Vehicles']-test['dw_Number_of_Vehicles']\n",
        "test= test.drop('dw_Day_of_Week',axis=1)"
      ],
      "metadata": {
        "id": "vh9rnfvBNqFS"
      },
      "execution_count": 16,
      "outputs": []
    },
    {
      "cell_type": "code",
      "source": [
        "train.head(2)"
      ],
      "metadata": {
        "colab": {
          "base_uri": "https://localhost:8080/",
          "height": 240
        },
        "id": "DXTPpVSK-9dZ",
        "outputId": "3bddc197-c7ca-4bd8-fe32-f7e99077f0aa"
      },
      "execution_count": 17,
      "outputs": [
        {
          "output_type": "execute_result",
          "data": {
            "text/plain": [
              "   Accident_ID  Police_Force  Number_of_Vehicles  Number_of_Casualties  \\\n",
              "0            1            34                   2                     1   \n",
              "1           13            15                   2                     1   \n",
              "\n",
              "       Date  Day_of_Week   Time  Local_Authority_(District)  \\\n",
              "0  19/12/12            7  13:20                         344   \n",
              "1  08/01/12            7   8:00                         305   \n",
              "\n",
              "  Local_Authority_(Highway)  1st_Road_Class  ...  Special_Conditions_at_Site  \\\n",
              "0                 E10000032               4  ...                Ol or diesel   \n",
              "1                 E10000029               5  ...                        None   \n",
              "\n",
              "  Carriageway_Hazards  Urban_or_Rural_Area  \\\n",
              "0                None                    1   \n",
              "1                None                    1   \n",
              "\n",
              "   Did_Police_Officer_Attend_Scene_of_Accident    state postcode  \\\n",
              "0                                          Yes  England  OX3 9UP   \n",
              "1                                          Yes  England  IG2 6NW   \n",
              "\n",
              "          country dw_Police_Force dw_Number_of_Casualties  \\\n",
              "0  United Kingdom        4.891263                1.457864   \n",
              "1  United Kingdom      -14.108737                1.457864   \n",
              "\n",
              "  dw_Number_of_Vehicles  \n",
              "0              0.309352  \n",
              "1              0.309352  \n",
              "\n",
              "[2 rows x 30 columns]"
            ],
            "text/html": [
              "\n",
              "  <div id=\"df-d665ee8b-f683-4468-9831-82bc7fe029be\">\n",
              "    <div class=\"colab-df-container\">\n",
              "      <div>\n",
              "<style scoped>\n",
              "    .dataframe tbody tr th:only-of-type {\n",
              "        vertical-align: middle;\n",
              "    }\n",
              "\n",
              "    .dataframe tbody tr th {\n",
              "        vertical-align: top;\n",
              "    }\n",
              "\n",
              "    .dataframe thead th {\n",
              "        text-align: right;\n",
              "    }\n",
              "</style>\n",
              "<table border=\"1\" class=\"dataframe\">\n",
              "  <thead>\n",
              "    <tr style=\"text-align: right;\">\n",
              "      <th></th>\n",
              "      <th>Accident_ID</th>\n",
              "      <th>Police_Force</th>\n",
              "      <th>Number_of_Vehicles</th>\n",
              "      <th>Number_of_Casualties</th>\n",
              "      <th>Date</th>\n",
              "      <th>Day_of_Week</th>\n",
              "      <th>Time</th>\n",
              "      <th>Local_Authority_(District)</th>\n",
              "      <th>Local_Authority_(Highway)</th>\n",
              "      <th>1st_Road_Class</th>\n",
              "      <th>...</th>\n",
              "      <th>Special_Conditions_at_Site</th>\n",
              "      <th>Carriageway_Hazards</th>\n",
              "      <th>Urban_or_Rural_Area</th>\n",
              "      <th>Did_Police_Officer_Attend_Scene_of_Accident</th>\n",
              "      <th>state</th>\n",
              "      <th>postcode</th>\n",
              "      <th>country</th>\n",
              "      <th>dw_Police_Force</th>\n",
              "      <th>dw_Number_of_Casualties</th>\n",
              "      <th>dw_Number_of_Vehicles</th>\n",
              "    </tr>\n",
              "  </thead>\n",
              "  <tbody>\n",
              "    <tr>\n",
              "      <th>0</th>\n",
              "      <td>1</td>\n",
              "      <td>34</td>\n",
              "      <td>2</td>\n",
              "      <td>1</td>\n",
              "      <td>19/12/12</td>\n",
              "      <td>7</td>\n",
              "      <td>13:20</td>\n",
              "      <td>344</td>\n",
              "      <td>E10000032</td>\n",
              "      <td>4</td>\n",
              "      <td>...</td>\n",
              "      <td>Ol or diesel</td>\n",
              "      <td>None</td>\n",
              "      <td>1</td>\n",
              "      <td>Yes</td>\n",
              "      <td>England</td>\n",
              "      <td>OX3 9UP</td>\n",
              "      <td>United Kingdom</td>\n",
              "      <td>4.891263</td>\n",
              "      <td>1.457864</td>\n",
              "      <td>0.309352</td>\n",
              "    </tr>\n",
              "    <tr>\n",
              "      <th>1</th>\n",
              "      <td>13</td>\n",
              "      <td>15</td>\n",
              "      <td>2</td>\n",
              "      <td>1</td>\n",
              "      <td>08/01/12</td>\n",
              "      <td>7</td>\n",
              "      <td>8:00</td>\n",
              "      <td>305</td>\n",
              "      <td>E10000029</td>\n",
              "      <td>5</td>\n",
              "      <td>...</td>\n",
              "      <td>None</td>\n",
              "      <td>None</td>\n",
              "      <td>1</td>\n",
              "      <td>Yes</td>\n",
              "      <td>England</td>\n",
              "      <td>IG2 6NW</td>\n",
              "      <td>United Kingdom</td>\n",
              "      <td>-14.108737</td>\n",
              "      <td>1.457864</td>\n",
              "      <td>0.309352</td>\n",
              "    </tr>\n",
              "  </tbody>\n",
              "</table>\n",
              "<p>2 rows × 30 columns</p>\n",
              "</div>\n",
              "      <button class=\"colab-df-convert\" onclick=\"convertToInteractive('df-d665ee8b-f683-4468-9831-82bc7fe029be')\"\n",
              "              title=\"Convert this dataframe to an interactive table.\"\n",
              "              style=\"display:none;\">\n",
              "        \n",
              "  <svg xmlns=\"http://www.w3.org/2000/svg\" height=\"24px\"viewBox=\"0 0 24 24\"\n",
              "       width=\"24px\">\n",
              "    <path d=\"M0 0h24v24H0V0z\" fill=\"none\"/>\n",
              "    <path d=\"M18.56 5.44l.94 2.06.94-2.06 2.06-.94-2.06-.94-.94-2.06-.94 2.06-2.06.94zm-11 1L8.5 8.5l.94-2.06 2.06-.94-2.06-.94L8.5 2.5l-.94 2.06-2.06.94zm10 10l.94 2.06.94-2.06 2.06-.94-2.06-.94-.94-2.06-.94 2.06-2.06.94z\"/><path d=\"M17.41 7.96l-1.37-1.37c-.4-.4-.92-.59-1.43-.59-.52 0-1.04.2-1.43.59L10.3 9.45l-7.72 7.72c-.78.78-.78 2.05 0 2.83L4 21.41c.39.39.9.59 1.41.59.51 0 1.02-.2 1.41-.59l7.78-7.78 2.81-2.81c.8-.78.8-2.07 0-2.86zM5.41 20L4 18.59l7.72-7.72 1.47 1.35L5.41 20z\"/>\n",
              "  </svg>\n",
              "      </button>\n",
              "      \n",
              "  <style>\n",
              "    .colab-df-container {\n",
              "      display:flex;\n",
              "      flex-wrap:wrap;\n",
              "      gap: 12px;\n",
              "    }\n",
              "\n",
              "    .colab-df-convert {\n",
              "      background-color: #E8F0FE;\n",
              "      border: none;\n",
              "      border-radius: 50%;\n",
              "      cursor: pointer;\n",
              "      display: none;\n",
              "      fill: #1967D2;\n",
              "      height: 32px;\n",
              "      padding: 0 0 0 0;\n",
              "      width: 32px;\n",
              "    }\n",
              "\n",
              "    .colab-df-convert:hover {\n",
              "      background-color: #E2EBFA;\n",
              "      box-shadow: 0px 1px 2px rgba(60, 64, 67, 0.3), 0px 1px 3px 1px rgba(60, 64, 67, 0.15);\n",
              "      fill: #174EA6;\n",
              "    }\n",
              "\n",
              "    [theme=dark] .colab-df-convert {\n",
              "      background-color: #3B4455;\n",
              "      fill: #D2E3FC;\n",
              "    }\n",
              "\n",
              "    [theme=dark] .colab-df-convert:hover {\n",
              "      background-color: #434B5C;\n",
              "      box-shadow: 0px 1px 3px 1px rgba(0, 0, 0, 0.15);\n",
              "      filter: drop-shadow(0px 1px 2px rgba(0, 0, 0, 0.3));\n",
              "      fill: #FFFFFF;\n",
              "    }\n",
              "  </style>\n",
              "\n",
              "      <script>\n",
              "        const buttonEl =\n",
              "          document.querySelector('#df-d665ee8b-f683-4468-9831-82bc7fe029be button.colab-df-convert');\n",
              "        buttonEl.style.display =\n",
              "          google.colab.kernel.accessAllowed ? 'block' : 'none';\n",
              "\n",
              "        async function convertToInteractive(key) {\n",
              "          const element = document.querySelector('#df-d665ee8b-f683-4468-9831-82bc7fe029be');\n",
              "          const dataTable =\n",
              "            await google.colab.kernel.invokeFunction('convertToInteractive',\n",
              "                                                     [key], {});\n",
              "          if (!dataTable) return;\n",
              "\n",
              "          const docLinkHtml = 'Like what you see? Visit the ' +\n",
              "            '<a target=\"_blank\" href=https://colab.research.google.com/notebooks/data_table.ipynb>data table notebook</a>'\n",
              "            + ' to learn more about interactive tables.';\n",
              "          element.innerHTML = '';\n",
              "          dataTable['output_type'] = 'display_data';\n",
              "          await google.colab.output.renderOutput(dataTable, element);\n",
              "          const docLink = document.createElement('div');\n",
              "          docLink.innerHTML = docLinkHtml;\n",
              "          element.appendChild(docLink);\n",
              "        }\n",
              "      </script>\n",
              "    </div>\n",
              "  </div>\n",
              "  "
            ]
          },
          "metadata": {},
          "execution_count": 17
        }
      ]
    },
    {
      "cell_type": "markdown",
      "source": [
        "'Time'"
      ],
      "metadata": {
        "id": "iwBPeXs5QiZX"
      }
    },
    {
      "cell_type": "code",
      "source": [
        "def time(k):\n",
        "  if str(k)!='nan':\n",
        "    k=str(k)\n",
        "    L=k.split(':')\n",
        "    return(int(int(L[0])*60+int(L[1])))\n",
        "  return(k)\n",
        "\n",
        "train['Time']=train['Time'].apply(time)\n",
        "test['Time']=test['Time'].apply(time)"
      ],
      "metadata": {
        "id": "dlp0aWDw_IBV"
      },
      "execution_count": 18,
      "outputs": []
    },
    {
      "cell_type": "markdown",
      "source": [
        "'Local_Authority_(District)'"
      ],
      "metadata": {
        "id": "ZSgYrn1NQ5s9"
      }
    },
    {
      "cell_type": "code",
      "source": [
        "district=train[['Local_Authority_(District)','Police_Force']].groupby('Local_Authority_(District)').agg('mean').reset_index().add_prefix('d_')\n",
        "train=train.merge(district,left_on='Local_Authority_(District)',right_on='d_Local_Authority_(District)')\n",
        "test=test.merge(district,left_on='Local_Authority_(District)',right_on='d_Local_Authority_(District)')\n",
        "\n",
        "train['d_Police_Force']=train['Police_Force']-train['d_Police_Force']\n",
        "test['d_Police_Force']=test['Police_Force']-test['d_Police_Force']\n",
        "\n",
        "train= train.drop(['d_Local_Authority_(District)'],axis=1)\n",
        "test= test.drop(['d_Local_Authority_(District)'],axis=1)\n",
        "\n",
        "\n",
        "district=train[['Local_Authority_(District)','Number_of_Vehicles']].groupby('Local_Authority_(District)').agg('mean').reset_index().add_prefix('d_')\n",
        "train=train.merge(district,left_on='Local_Authority_(District)',right_on='d_Local_Authority_(District)')\n",
        "test=test.merge(district,left_on='Local_Authority_(District)',right_on='d_Local_Authority_(District)')\n",
        "\n",
        "train['d_Number_of_Vehicles']=train['Number_of_Vehicles']-train['d_Number_of_Vehicles']\n",
        "test['d_Number_of_Vehicles']=test['Number_of_Vehicles']-test['d_Number_of_Vehicles']\n",
        "\n",
        "train= train.drop(['d_Local_Authority_(District)'],axis=1)\n",
        "test= test.drop(['d_Local_Authority_(District)'],axis=1)\n",
        "\n",
        "\n",
        "district=train[['Local_Authority_(District)','Number_of_Casualties']].groupby('Local_Authority_(District)').agg('mean').reset_index().add_prefix('d_')\n",
        "train=train.merge(district,left_on='Local_Authority_(District)',right_on='d_Local_Authority_(District)')\n",
        "test=test.merge(district,left_on='Local_Authority_(District)',right_on='d_Local_Authority_(District)')\n",
        "\n",
        "# train['d_Number_of_Casualties']=train['Number_of_Casualties']-train['d_Number_of_Casualties']\n",
        "# test['d_Number_of_Casualties']=test['Number_of_Casualties']-test['d_Number_of_Casualties']\n",
        "\n",
        "train= train.drop(['d_Local_Authority_(District)','Local_Authority_(District)'],axis=1)\n",
        "test= test.drop(['d_Local_Authority_(District)','Local_Authority_(District)'],axis=1)"
      ],
      "metadata": {
        "id": "rM7xl9WHe7AS"
      },
      "execution_count": 19,
      "outputs": []
    },
    {
      "cell_type": "markdown",
      "source": [
        "'Local_Authority_(Highway)'"
      ],
      "metadata": {
        "id": "aL1BptHWT_83"
      }
    },
    {
      "cell_type": "code",
      "source": [
        "highway=train[['Local_Authority_(Highway)','Police_Force']].groupby('Local_Authority_(Highway)').agg('mean').reset_index().add_prefix('h_')\n",
        "train=train.merge(highway,left_on='Local_Authority_(Highway)',right_on='h_Local_Authority_(Highway)')\n",
        "test=test.merge(highway,left_on='Local_Authority_(Highway)',right_on='h_Local_Authority_(Highway)')\n",
        "\n",
        "train['h_Police_Force']=train['Police_Force']-train['h_Police_Force']\n",
        "test['h_Police_Force']=test['Police_Force']-test['h_Police_Force']\n",
        "\n",
        "train= train.drop(['h_Local_Authority_(Highway)'],axis=1)\n",
        "test= test.drop(['h_Local_Authority_(Highway)'],axis=1)\n",
        "\n",
        "\n",
        "highway=train[['Local_Authority_(Highway)','Number_of_Vehicles']].groupby('Local_Authority_(Highway)').agg('mean').reset_index().add_prefix('h_')\n",
        "train=train.merge(highway,left_on='Local_Authority_(Highway)',right_on='h_Local_Authority_(Highway)')\n",
        "test=test.merge(highway,left_on='Local_Authority_(Highway)',right_on='h_Local_Authority_(Highway)')\n",
        "\n",
        "train['h_Number_of_Vehicles']=train['Number_of_Vehicles']-train['h_Number_of_Vehicles']\n",
        "test['h_Number_of_Vehicles']=test['Number_of_Vehicles']-test['h_Number_of_Vehicles']\n",
        "\n",
        "train= train.drop(['h_Local_Authority_(Highway)'],axis=1)\n",
        "test= test.drop(['h_Local_Authority_(Highway)'],axis=1)\n",
        "\n",
        "highway=train[['Local_Authority_(Highway)','Number_of_Casualties']].groupby('Local_Authority_(Highway)').agg('mean').reset_index().add_prefix('h_')\n",
        "train=train.merge(highway,left_on='Local_Authority_(Highway)',right_on='h_Local_Authority_(Highway)')\n",
        "test=test.merge(highway,left_on='Local_Authority_(Highway)',right_on='h_Local_Authority_(Highway)')\n",
        "\n",
        "train= train.drop(['h_Local_Authority_(Highway)','Local_Authority_(Highway)'],axis=1)\n",
        "test= test.drop(['h_Local_Authority_(Highway)','Local_Authority_(Highway)'],axis=1)"
      ],
      "metadata": {
        "id": "PKKReJTFasKK"
      },
      "execution_count": 20,
      "outputs": []
    },
    {
      "cell_type": "code",
      "source": [
        "set(train['Pedestrian_Crossing-Human_Control'])"
      ],
      "metadata": {
        "colab": {
          "base_uri": "https://localhost:8080/"
        },
        "id": "aQlDzv3P3PgK",
        "outputId": "0835c885-488a-4421-8b92-cf136ed2a753"
      },
      "execution_count": 21,
      "outputs": [
        {
          "output_type": "execute_result",
          "data": {
            "text/plain": [
              "{'Control by other authorised person',\n",
              " 'Control by school crossing patrol',\n",
              " 'None within 50 metres'}"
            ]
          },
          "metadata": {},
          "execution_count": 21
        }
      ]
    },
    {
      "cell_type": "code",
      "source": [
        "Pedestrian_Crossing_Human_Control=list(set(train['Pedestrian_Crossing-Human_Control']))\n",
        "train['Pedestrian_Crossing_Human_Control_interpreted_danger']=0\n",
        "test['Pedestrian_Crossing_Human_Control_interpreted_danger']=0\n",
        "j=0\n",
        "for i in Pedestrian_Crossing_Human_Control:\n",
        "  if i == 'None within 50 metres':\n",
        "    train.loc[train['Pedestrian_Crossing-Human_Control']==i,'Pedestrian_Crossing_Human_Control_interpreted_danger']=1\n",
        "    train.loc[train['Pedestrian_Crossing-Human_Control']==i,'Pedestrian_Crossing-Human_Control']=j\n",
        "\n",
        "    test.loc[test['Pedestrian_Crossing-Human_Control']==i,'Pedestrian_Crossing_Human_Control_interpreted_danger']=1\n",
        "    test.loc[test['Pedestrian_Crossing-Human_Control']==i,'Pedestrian_Crossing-Human_Control']=j\n",
        "  else:\n",
        "    train.loc[train['Pedestrian_Crossing-Human_Control']==i,'Pedestrian_Crossing-Human_Control']=j\n",
        "\n",
        "    test.loc[test['Pedestrian_Crossing-Human_Control']==i,'Pedestrian_Crossing-Human_Control']=j\n",
        "  j+=1"
      ],
      "metadata": {
        "id": "CN-lDOhe3hr4"
      },
      "execution_count": 22,
      "outputs": []
    },
    {
      "cell_type": "code",
      "source": [
        "set(train['Pedestrian_Crossing-Physical_Facilities'])"
      ],
      "metadata": {
        "colab": {
          "base_uri": "https://localhost:8080/"
        },
        "id": "ScVBfU8E5K5y",
        "outputId": "b16e3a7e-75d8-49e5-fdd4-18a140278fbc"
      },
      "execution_count": 23,
      "outputs": [
        {
          "output_type": "execute_result",
          "data": {
            "text/plain": [
              "{'Central refuge',\n",
              " 'Footbridge or subway',\n",
              " 'No physical crossing within 50 meters',\n",
              " 'Pedestrian phase at traffic signal junction',\n",
              " 'Zebra crossing',\n",
              " 'non-junction pedestrian crossing'}"
            ]
          },
          "metadata": {},
          "execution_count": 23
        }
      ]
    },
    {
      "cell_type": "code",
      "source": [
        "Pedestrian_Crossing_Physical_Facilities=list(set(train['Pedestrian_Crossing-Physical_Facilities']))\n",
        "train['Pedestrian_Crossing_Physical_Facilities_interpreted_danger']=0\n",
        "test['Pedestrian_Crossing_Physical_Facilities_interpreted_danger']=0\n",
        "j=0\n",
        "for i in Pedestrian_Crossing_Physical_Facilities:\n",
        "  if i == 'No physical crossing within 50 meters':\n",
        "    train.loc[train['Pedestrian_Crossing-Physical_Facilities']==i,'Pedestrian_Crossing_Physical_Facilities_interpreted_danger']=1\n",
        "    train.loc[train['Pedestrian_Crossing-Physical_Facilities']==i,'Pedestrian_Crossing-Physical_Facilities']=j\n",
        "\n",
        "    test.loc[test['Pedestrian_Crossing-Physical_Facilities']==i,'Pedestrian_Crossing_Physical_Facilities_interpreted_danger']=1\n",
        "    test.loc[test['Pedestrian_Crossing-Physical_Facilities']==i,'Pedestrian_Crossing-Physical_Facilities']=j\n",
        "  else:\n",
        "    train.loc[train['Pedestrian_Crossing-Physical_Facilities']==i,'Pedestrian_Crossing-Physical_Facilities']=j\n",
        "\n",
        "    test.loc[test['Pedestrian_Crossing-Physical_Facilities']==i,'Pedestrian_Crossing-Physical_Facilities']=j\n",
        "  j+=1"
      ],
      "metadata": {
        "id": "0Cn83KfY5tsB"
      },
      "execution_count": 24,
      "outputs": []
    },
    {
      "cell_type": "code",
      "source": [
        "set(train['Light_Conditions'])"
      ],
      "metadata": {
        "colab": {
          "base_uri": "https://localhost:8080/"
        },
        "id": "ERRLtlxo6T5j",
        "outputId": "2bf50045-2eb2-4cbf-e2ef-a91a0aed300b"
      },
      "execution_count": 25,
      "outputs": [
        {
          "output_type": "execute_result",
          "data": {
            "text/plain": [
              "{'Darkeness: No street lighting',\n",
              " 'Darkness: Street lighting unknown',\n",
              " 'Darkness: Street lights present and lit',\n",
              " 'Darkness: Street lights present but unlit',\n",
              " 'Daylight: Street light present'}"
            ]
          },
          "metadata": {},
          "execution_count": 25
        }
      ]
    },
    {
      "cell_type": "code",
      "source": [
        "Light_Conditions=list(set(train['Light_Conditions']))\n",
        "train['Light_Conditions_interpreted_danger']=0\n",
        "train['Darkness']=1\n",
        "\n",
        "test['Light_Conditions_interpreted_danger']=0\n",
        "test['Darkness']=1\n",
        "j=0\n",
        "for i in Light_Conditions:\n",
        "  if i == 'Darkeness: No street lighting' or i=='Darkness: Street lights present but unlit':\n",
        "    train.loc[train['Light_Conditions']==i,'Light_Conditions_interpreted_danger']=1\n",
        "    train.loc[train['Light_Conditions']==i,'Light_Conditions']=j\n",
        "\n",
        "    test.loc[test['Light_Conditions']==i,'Light_Conditions_interpreted_danger']=1\n",
        "    test.loc[test['Light_Conditions']==i,'Light_Conditions']=j\n",
        "  else:\n",
        "    if i=='Daylight: Street light present':\n",
        "      train.loc[train['Light_Conditions']==i,'Darkness']=1\n",
        "\n",
        "      test.loc[test['Light_Conditions']==i,'Darkness']=1\n",
        "\n",
        "  \n",
        "    train.loc[train['Light_Conditions']==i,'Light_Conditions']=j\n",
        "\n",
        "    test.loc[test['Light_Conditions']==i,'Light_Conditions']=j\n",
        "  j+=1"
      ],
      "metadata": {
        "id": "s381wy6I6fup"
      },
      "execution_count": 26,
      "outputs": []
    },
    {
      "cell_type": "code",
      "source": [
        "set(train['Weather_Conditions'])"
      ],
      "metadata": {
        "colab": {
          "base_uri": "https://localhost:8080/"
        },
        "id": "tthxo59MCwCq",
        "outputId": "dce5b858-29fc-4c1f-facb-5ac39ca8d67b"
      },
      "execution_count": 27,
      "outputs": [
        {
          "output_type": "execute_result",
          "data": {
            "text/plain": [
              "{'Fine with high winds',\n",
              " 'Fine without high winds',\n",
              " 'Fog or mist',\n",
              " 'Other',\n",
              " 'Raining with high winds',\n",
              " 'Raining without high winds',\n",
              " 'Snowing with high winds',\n",
              " 'Snowing without high winds',\n",
              " 'Unknown'}"
            ]
          },
          "metadata": {},
          "execution_count": 27
        }
      ]
    },
    {
      "cell_type": "code",
      "source": [
        "def w(k):\n",
        "  return(k.split()[0])\n",
        "train['weather']=train['Weather_Conditions'].apply(w)\n",
        "test['weather']=test['Weather_Conditions'].apply(w)"
      ],
      "metadata": {
        "id": "NHqG5wVw44cR"
      },
      "execution_count": 28,
      "outputs": []
    },
    {
      "cell_type": "code",
      "source": [
        "Weather_Conditions=list(set(train['Weather_Conditions']))\n",
        "train['Weather_Conditions_high_winds']=0\n",
        "\n",
        "test['Weather_Conditions_high_winds']=0\n",
        "\n",
        "j=0\n",
        "for i in Weather_Conditions:\n",
        "  if i == 'Fine with high winds' or i=='Raining with high winds' or i=='Snowing with high winds':\n",
        "    train.loc[train['Weather_Conditions']==i,'Weather_Conditions_high_winds']=1\n",
        "    train.loc[train['Weather_Conditions']==i,'Weather_Conditions']=j\n",
        "\n",
        "    test.loc[test['Weather_Conditions']==i,'Weather_Conditions_high_winds']=1\n",
        "    test.loc[test['Weather_Conditions']==i,'Weather_Conditions']=j\n",
        "  else:\n",
        "    train.loc[train['Weather_Conditions']==i,'Weather_Conditions']=j\n",
        "\n",
        "    test.loc[test['Weather_Conditions']==i,'Weather_Conditions']=j\n",
        "  j+=1"
      ],
      "metadata": {
        "id": "gGvLl24fAVRj"
      },
      "execution_count": 29,
      "outputs": []
    },
    {
      "cell_type": "code",
      "source": [
        "set(train['Road_Surface_Conditions'])"
      ],
      "metadata": {
        "colab": {
          "base_uri": "https://localhost:8080/"
        },
        "id": "dFzvPWJiNBEF",
        "outputId": "08ae0d48-fcdd-412a-e235-6759106b4d15"
      },
      "execution_count": 30,
      "outputs": [
        {
          "output_type": "execute_result",
          "data": {
            "text/plain": [
              "{'Dry', 'Flood (Over 3cm of water)', 'Frost/Ice', 'Snow', 'Wet/Damp', nan}"
            ]
          },
          "metadata": {},
          "execution_count": 30
        }
      ]
    },
    {
      "cell_type": "code",
      "source": [
        "Road_Surface_Conditions=list(set(train['Road_Surface_Conditions']))\n",
        "\n",
        "j=0\n",
        "for i in Road_Surface_Conditions:\n",
        "  if j!=1 and i!='Wet/Damp':\n",
        "    train.loc[train['Road_Surface_Conditions']==i,'Road_Surface_Conditions']=j\n",
        "\n",
        "    test.loc[test['Road_Surface_Conditions']==i,'Road_Surface_Conditions']=j\n",
        "  elif j==1 and i!='Wet/Damp':\n",
        "    j+=1\n",
        "    train.loc[train['Road_Surface_Conditions']==i,'Road_Surface_Conditions']=j\n",
        "\n",
        "    test.loc[test['Road_Surface_Conditions']==i,'Road_Surface_Conditions']=j\n",
        "  else:\n",
        "    train.loc[train['Road_Surface_Conditions']==i,'Road_Surface_Conditions']=1\n",
        "\n",
        "    test.loc[test['Road_Surface_Conditions']==i,'Road_Surface_Conditions']=1\n",
        "  j+=1"
      ],
      "metadata": {
        "id": "p1uIKSYQNWz5"
      },
      "execution_count": 31,
      "outputs": []
    },
    {
      "cell_type": "code",
      "source": [
        "set(train['Special_Conditions_at_Site'])"
      ],
      "metadata": {
        "colab": {
          "base_uri": "https://localhost:8080/"
        },
        "id": "f-RZVSuZbo0K",
        "outputId": "a3e0ab18-b8bc-47f3-dd5b-ab0c97df71b6"
      },
      "execution_count": 32,
      "outputs": [
        {
          "output_type": "execute_result",
          "data": {
            "text/plain": [
              "{'Auto traffic signal partly defective',\n",
              " 'Auto traffic singal out',\n",
              " 'Mud',\n",
              " 'None',\n",
              " 'Ol or diesel',\n",
              " 'Permanent sign or marking defective or obscured',\n",
              " 'Road surface defective',\n",
              " 'Roadworks',\n",
              " nan}"
            ]
          },
          "metadata": {},
          "execution_count": 32
        }
      ]
    },
    {
      "cell_type": "code",
      "source": [
        "train['Condition']=1\n",
        "train.loc[train['Special_Conditions_at_Site']=='None','Condition']=0\n",
        "\n",
        "test['Condition']=1\n",
        "test.loc[test['Special_Conditions_at_Site']=='None','Condition']=0"
      ],
      "metadata": {
        "id": "A_Gsb5ZT5d99"
      },
      "execution_count": 33,
      "outputs": []
    },
    {
      "cell_type": "code",
      "source": [
        "Special_Conditions_at_Site=list(set(train['Special_Conditions_at_Site']))\n",
        "\n",
        "j=0\n",
        "for i in Special_Conditions_at_Site:\n",
        "  train.loc[train['Special_Conditions_at_Site']==i,'Special_Conditions_at_Site']=j\n",
        "\n",
        "  test.loc[test['Special_Conditions_at_Site']==i,'Special_Conditions_at_Site']=j\n",
        "  j+=1"
      ],
      "metadata": {
        "id": "Gt-c62ZxcCnj"
      },
      "execution_count": 34,
      "outputs": []
    },
    {
      "cell_type": "code",
      "source": [
        "set(train['Carriageway_Hazards'])"
      ],
      "metadata": {
        "colab": {
          "base_uri": "https://localhost:8080/"
        },
        "id": "0I9weGvddBC-",
        "outputId": "2717aa14-88cf-41fa-8da3-7c112e9b2cd6"
      },
      "execution_count": 35,
      "outputs": [
        {
          "output_type": "execute_result",
          "data": {
            "text/plain": [
              "{'Any animal (except a ridden horse)',\n",
              " 'Dislodged vehicle load in carriageway',\n",
              " 'Involvement with previous accident',\n",
              " 'None',\n",
              " 'Other object in carriageway',\n",
              " 'Pedestrian in carriageway (not injured)'}"
            ]
          },
          "metadata": {},
          "execution_count": 35
        }
      ]
    },
    {
      "cell_type": "code",
      "source": [
        "train['Hazards_Condition']=1\n",
        "train.loc[train['Carriageway_Hazards']=='None','Hazards_Condition']=0\n",
        "\n",
        "test['Hazards_Condition']=1\n",
        "test.loc[test['Carriageway_Hazards']=='None','Hazards_Condition']=0"
      ],
      "metadata": {
        "id": "n58oveiH54tj"
      },
      "execution_count": 36,
      "outputs": []
    },
    {
      "cell_type": "code",
      "source": [
        "Carriageway_Hazards=list(set(train['Carriageway_Hazards']))\n",
        "\n",
        "j=0\n",
        "for i in Carriageway_Hazards:\n",
        "  train.loc[train['Carriageway_Hazards']==i,'Carriageway_Hazards']=j\n",
        "\n",
        "  test.loc[test['Carriageway_Hazards']==i,'Carriageway_Hazards']=j\n",
        "  j+=1"
      ],
      "metadata": {
        "id": "2hOsypacdMjC"
      },
      "execution_count": 37,
      "outputs": []
    },
    {
      "cell_type": "code",
      "source": [
        "l=['Urban_or_Rural_Area', 'Did_Police_Officer_Attend_Scene_of_Accident','state', 'country','Road_Type','weather']\n",
        "for i in l:\n",
        "  lis=list(set(train[i]))\n",
        "\n",
        "  j=0  \n",
        "  for k in lis:\n",
        "    train.loc[train[i]==k,i]=j\n",
        "\n",
        "    test.loc[test[i]==k,i]=j\n",
        "    j+=1"
      ],
      "metadata": {
        "id": "tDntL6s4ddOd"
      },
      "execution_count": 38,
      "outputs": []
    },
    {
      "cell_type": "code",
      "source": [
        "state=train[['state','Police_Force']].groupby('state').agg('mean').reset_index().add_prefix('s_')\n",
        "train=train.merge(state,left_on='state',right_on='s_state')\n",
        "test=test.merge(state,left_on='state',right_on='s_state')\n",
        "\n",
        "train['s_Police_Force']=train['Police_Force']-train['s_Police_Force']\n",
        "test['s_Police_Force']=test['Police_Force']-test['s_Police_Force']\n",
        "\n",
        "train= train.drop(['s_state'],axis=1)\n",
        "test= test.drop(['s_state'],axis=1)\n",
        "\n",
        "state=train[['state','Number_of_Vehicles']].groupby('state').agg('mean').reset_index().add_prefix('s_')\n",
        "train=train.merge(state,left_on='state',right_on='s_state')\n",
        "test=test.merge(state,left_on='state',right_on='s_state')\n",
        "\n",
        "train['s_Number_of_Vehicles']=train['Number_of_Vehicles']-train['s_Number_of_Vehicles']\n",
        "test['s_Number_of_Vehicles']=test['Number_of_Vehicles']-test['s_Number_of_Vehicles']\n",
        "\n",
        "train= train.drop(['s_state'],axis=1)\n",
        "test= test.drop(['s_state'],axis=1)\n",
        "\n",
        "\n",
        "state=train[['state','Number_of_Casualties']].groupby('state').agg('mean').reset_index().add_prefix('s_')\n",
        "train=train.merge(state,left_on='state',right_on='s_state')\n",
        "test=test.merge(state,left_on='state',right_on='s_state')\n",
        "\n",
        "train= train.drop(['s_state','state'],axis=1)\n",
        "test= test.drop(['s_state','state'],axis=1)"
      ],
      "metadata": {
        "id": "uCauGplD6xp7"
      },
      "execution_count": 39,
      "outputs": []
    },
    {
      "cell_type": "code",
      "source": [
        "country=train[['country','Police_Force']].groupby('country').agg('mean').reset_index().add_prefix('c_')\n",
        "train=train.merge(country,left_on='country',right_on='c_country')\n",
        "test=test.merge(country,left_on='country',right_on='c_country')\n",
        "\n",
        "train['c_Police_Force']=train['Police_Force']-train['c_Police_Force']\n",
        "test['c_Police_Force']=test['Police_Force']-test['c_Police_Force']\n",
        "\n",
        "train= train.drop(['c_country'],axis=1)\n",
        "test= test.drop(['c_country'],axis=1)\n",
        "\n",
        "country=train[['country','Number_of_Vehicles']].groupby('country').agg('mean').reset_index().add_prefix('c_')\n",
        "train=train.merge(country,left_on='country',right_on='c_country')\n",
        "test=test.merge(country,left_on='country',right_on='c_country')\n",
        "\n",
        "train['c_Police_Force']=train['Number_of_Vehicles']-train['c_Number_of_Vehicles']\n",
        "test['c_Number_of_Vehicles']=test['Number_of_Vehicles']-test['c_Number_of_Vehicles']\n",
        "\n",
        "train= train.drop(['c_country'],axis=1)\n",
        "test= test.drop(['c_country'],axis=1)\n",
        "\n",
        "country=train[['country','Number_of_Casualties']].groupby('country').agg('mean').reset_index().add_prefix('c_')\n",
        "train=train.merge(country,left_on='country',right_on='c_country')\n",
        "test=test.merge(country,left_on='country',right_on='c_country')\n",
        "\n",
        "\n",
        "train= train.drop(['c_country','country'],axis=1)\n",
        "test= test.drop(['c_country','country'],axis=1)"
      ],
      "metadata": {
        "id": "b9LxByJK8JlR"
      },
      "execution_count": 40,
      "outputs": []
    },
    {
      "cell_type": "code",
      "source": [
        "train"
      ],
      "metadata": {
        "colab": {
          "base_uri": "https://localhost:8080/",
          "height": 487
        },
        "id": "I7-gRRVwwNj9",
        "outputId": "24b634a5-3225-4cbd-e310-6cfa294e1908"
      },
      "execution_count": 41,
      "outputs": [
        {
          "output_type": "execute_result",
          "data": {
            "text/plain": [
              "        Accident_ID  Police_Force  Number_of_Vehicles  Number_of_Casualties  \\\n",
              "0                 1            34                   2                     1   \n",
              "1             79857            22                   1                     3   \n",
              "2             86279            13                   1                     1   \n",
              "3            130432            33                   1                     1   \n",
              "4            135536            33                   1                     1   \n",
              "...             ...           ...                 ...                   ...   \n",
              "478736        54581            63                   2                     1   \n",
              "478737       331962            61                   1                     1   \n",
              "478738       332387            50                   2                     2   \n",
              "478739        71892            95                   1                     1   \n",
              "478740       318963            62                   2                     2   \n",
              "\n",
              "            Date  Day_of_Week    Time  1st_Road_Class  1st_Road_Number  \\\n",
              "0       19/12/12            7   800.0               4              395   \n",
              "1       04/02/12            7   785.0               5             1100   \n",
              "2       08/05/12            7  1010.0               6                7   \n",
              "3       27/07/12            7   495.0               5              424   \n",
              "4       11/04/12            7   541.0               5             8452   \n",
              "...          ...          ...     ...             ...              ...   \n",
              "478736  16/03/12            2  1041.0               3              338   \n",
              "478737  12/05/12            6   685.0               5             4201   \n",
              "478738  04/04/12            3   900.0               6               11   \n",
              "478739  01/02/12            2   512.0               3                3   \n",
              "478740  20/07/12            5   561.0               3                4   \n",
              "\n",
              "       Road_Type  ...  weather  Weather_Conditions_high_winds  Condition  \\\n",
              "0              4  ...        1                              0          1   \n",
              "1              4  ...        4                              0          1   \n",
              "2              4  ...        1                              0          0   \n",
              "3              4  ...        1                              0          0   \n",
              "4              4  ...        1                              1          0   \n",
              "...          ...  ...      ...                            ...        ...   \n",
              "478736         0  ...        1                              0          0   \n",
              "478737         0  ...        1                              0          1   \n",
              "478738         2  ...        1                              0          0   \n",
              "478739         4  ...        1                              0          0   \n",
              "478740         4  ...        1                              0          1   \n",
              "\n",
              "       Hazards_Condition s_Police_Force s_Number_of_Vehicles  \\\n",
              "0                      0       7.713941             0.248808   \n",
              "1                      0      -4.286059            -0.751192   \n",
              "2                      0     -13.286059            -0.751192   \n",
              "3                      0       6.713941            -0.751192   \n",
              "4                      0       6.713941            -0.751192   \n",
              "...                  ...            ...                  ...   \n",
              "478736                 0       2.607522             0.213261   \n",
              "478737                 0       0.607522            -0.786739   \n",
              "478738                 0     -10.392478             0.213261   \n",
              "478739                 0      34.607522            -0.786739   \n",
              "478740                 0       1.607522             0.213261   \n",
              "\n",
              "       s_Number_of_Casualties c_Police_Force c_Number_of_Vehicles  \\\n",
              "0                    1.461549       0.254305             1.745695   \n",
              "1                    1.461549      -0.745695             1.745695   \n",
              "2                    1.461549      -0.745695             1.745695   \n",
              "3                    1.461549      -0.745695             1.745695   \n",
              "4                    1.461549      -0.745695             1.745695   \n",
              "...                       ...            ...                  ...   \n",
              "478736               1.430799       0.254305             1.745695   \n",
              "478737               1.430799      -0.745695             1.745695   \n",
              "478738               1.430799       0.254305             1.745695   \n",
              "478739               1.430799      -0.745695             1.745695   \n",
              "478740               1.430799       0.254305             1.745695   \n",
              "\n",
              "       c_Number_of_Casualties  \n",
              "0                    1.463528  \n",
              "1                    1.463528  \n",
              "2                    1.463528  \n",
              "3                    1.463528  \n",
              "4                    1.463528  \n",
              "...                       ...  \n",
              "478736               1.463528  \n",
              "478737               1.463528  \n",
              "478738               1.463528  \n",
              "478739               1.463528  \n",
              "478740               1.463528  \n",
              "\n",
              "[478741 rows x 46 columns]"
            ],
            "text/html": [
              "\n",
              "  <div id=\"df-2f4c4976-b03c-498a-be02-a8541060ff96\">\n",
              "    <div class=\"colab-df-container\">\n",
              "      <div>\n",
              "<style scoped>\n",
              "    .dataframe tbody tr th:only-of-type {\n",
              "        vertical-align: middle;\n",
              "    }\n",
              "\n",
              "    .dataframe tbody tr th {\n",
              "        vertical-align: top;\n",
              "    }\n",
              "\n",
              "    .dataframe thead th {\n",
              "        text-align: right;\n",
              "    }\n",
              "</style>\n",
              "<table border=\"1\" class=\"dataframe\">\n",
              "  <thead>\n",
              "    <tr style=\"text-align: right;\">\n",
              "      <th></th>\n",
              "      <th>Accident_ID</th>\n",
              "      <th>Police_Force</th>\n",
              "      <th>Number_of_Vehicles</th>\n",
              "      <th>Number_of_Casualties</th>\n",
              "      <th>Date</th>\n",
              "      <th>Day_of_Week</th>\n",
              "      <th>Time</th>\n",
              "      <th>1st_Road_Class</th>\n",
              "      <th>1st_Road_Number</th>\n",
              "      <th>Road_Type</th>\n",
              "      <th>...</th>\n",
              "      <th>weather</th>\n",
              "      <th>Weather_Conditions_high_winds</th>\n",
              "      <th>Condition</th>\n",
              "      <th>Hazards_Condition</th>\n",
              "      <th>s_Police_Force</th>\n",
              "      <th>s_Number_of_Vehicles</th>\n",
              "      <th>s_Number_of_Casualties</th>\n",
              "      <th>c_Police_Force</th>\n",
              "      <th>c_Number_of_Vehicles</th>\n",
              "      <th>c_Number_of_Casualties</th>\n",
              "    </tr>\n",
              "  </thead>\n",
              "  <tbody>\n",
              "    <tr>\n",
              "      <th>0</th>\n",
              "      <td>1</td>\n",
              "      <td>34</td>\n",
              "      <td>2</td>\n",
              "      <td>1</td>\n",
              "      <td>19/12/12</td>\n",
              "      <td>7</td>\n",
              "      <td>800.0</td>\n",
              "      <td>4</td>\n",
              "      <td>395</td>\n",
              "      <td>4</td>\n",
              "      <td>...</td>\n",
              "      <td>1</td>\n",
              "      <td>0</td>\n",
              "      <td>1</td>\n",
              "      <td>0</td>\n",
              "      <td>7.713941</td>\n",
              "      <td>0.248808</td>\n",
              "      <td>1.461549</td>\n",
              "      <td>0.254305</td>\n",
              "      <td>1.745695</td>\n",
              "      <td>1.463528</td>\n",
              "    </tr>\n",
              "    <tr>\n",
              "      <th>1</th>\n",
              "      <td>79857</td>\n",
              "      <td>22</td>\n",
              "      <td>1</td>\n",
              "      <td>3</td>\n",
              "      <td>04/02/12</td>\n",
              "      <td>7</td>\n",
              "      <td>785.0</td>\n",
              "      <td>5</td>\n",
              "      <td>1100</td>\n",
              "      <td>4</td>\n",
              "      <td>...</td>\n",
              "      <td>4</td>\n",
              "      <td>0</td>\n",
              "      <td>1</td>\n",
              "      <td>0</td>\n",
              "      <td>-4.286059</td>\n",
              "      <td>-0.751192</td>\n",
              "      <td>1.461549</td>\n",
              "      <td>-0.745695</td>\n",
              "      <td>1.745695</td>\n",
              "      <td>1.463528</td>\n",
              "    </tr>\n",
              "    <tr>\n",
              "      <th>2</th>\n",
              "      <td>86279</td>\n",
              "      <td>13</td>\n",
              "      <td>1</td>\n",
              "      <td>1</td>\n",
              "      <td>08/05/12</td>\n",
              "      <td>7</td>\n",
              "      <td>1010.0</td>\n",
              "      <td>6</td>\n",
              "      <td>7</td>\n",
              "      <td>4</td>\n",
              "      <td>...</td>\n",
              "      <td>1</td>\n",
              "      <td>0</td>\n",
              "      <td>0</td>\n",
              "      <td>0</td>\n",
              "      <td>-13.286059</td>\n",
              "      <td>-0.751192</td>\n",
              "      <td>1.461549</td>\n",
              "      <td>-0.745695</td>\n",
              "      <td>1.745695</td>\n",
              "      <td>1.463528</td>\n",
              "    </tr>\n",
              "    <tr>\n",
              "      <th>3</th>\n",
              "      <td>130432</td>\n",
              "      <td>33</td>\n",
              "      <td>1</td>\n",
              "      <td>1</td>\n",
              "      <td>27/07/12</td>\n",
              "      <td>7</td>\n",
              "      <td>495.0</td>\n",
              "      <td>5</td>\n",
              "      <td>424</td>\n",
              "      <td>4</td>\n",
              "      <td>...</td>\n",
              "      <td>1</td>\n",
              "      <td>0</td>\n",
              "      <td>0</td>\n",
              "      <td>0</td>\n",
              "      <td>6.713941</td>\n",
              "      <td>-0.751192</td>\n",
              "      <td>1.461549</td>\n",
              "      <td>-0.745695</td>\n",
              "      <td>1.745695</td>\n",
              "      <td>1.463528</td>\n",
              "    </tr>\n",
              "    <tr>\n",
              "      <th>4</th>\n",
              "      <td>135536</td>\n",
              "      <td>33</td>\n",
              "      <td>1</td>\n",
              "      <td>1</td>\n",
              "      <td>11/04/12</td>\n",
              "      <td>7</td>\n",
              "      <td>541.0</td>\n",
              "      <td>5</td>\n",
              "      <td>8452</td>\n",
              "      <td>4</td>\n",
              "      <td>...</td>\n",
              "      <td>1</td>\n",
              "      <td>1</td>\n",
              "      <td>0</td>\n",
              "      <td>0</td>\n",
              "      <td>6.713941</td>\n",
              "      <td>-0.751192</td>\n",
              "      <td>1.461549</td>\n",
              "      <td>-0.745695</td>\n",
              "      <td>1.745695</td>\n",
              "      <td>1.463528</td>\n",
              "    </tr>\n",
              "    <tr>\n",
              "      <th>...</th>\n",
              "      <td>...</td>\n",
              "      <td>...</td>\n",
              "      <td>...</td>\n",
              "      <td>...</td>\n",
              "      <td>...</td>\n",
              "      <td>...</td>\n",
              "      <td>...</td>\n",
              "      <td>...</td>\n",
              "      <td>...</td>\n",
              "      <td>...</td>\n",
              "      <td>...</td>\n",
              "      <td>...</td>\n",
              "      <td>...</td>\n",
              "      <td>...</td>\n",
              "      <td>...</td>\n",
              "      <td>...</td>\n",
              "      <td>...</td>\n",
              "      <td>...</td>\n",
              "      <td>...</td>\n",
              "      <td>...</td>\n",
              "      <td>...</td>\n",
              "    </tr>\n",
              "    <tr>\n",
              "      <th>478736</th>\n",
              "      <td>54581</td>\n",
              "      <td>63</td>\n",
              "      <td>2</td>\n",
              "      <td>1</td>\n",
              "      <td>16/03/12</td>\n",
              "      <td>2</td>\n",
              "      <td>1041.0</td>\n",
              "      <td>3</td>\n",
              "      <td>338</td>\n",
              "      <td>0</td>\n",
              "      <td>...</td>\n",
              "      <td>1</td>\n",
              "      <td>0</td>\n",
              "      <td>0</td>\n",
              "      <td>0</td>\n",
              "      <td>2.607522</td>\n",
              "      <td>0.213261</td>\n",
              "      <td>1.430799</td>\n",
              "      <td>0.254305</td>\n",
              "      <td>1.745695</td>\n",
              "      <td>1.463528</td>\n",
              "    </tr>\n",
              "    <tr>\n",
              "      <th>478737</th>\n",
              "      <td>331962</td>\n",
              "      <td>61</td>\n",
              "      <td>1</td>\n",
              "      <td>1</td>\n",
              "      <td>12/05/12</td>\n",
              "      <td>6</td>\n",
              "      <td>685.0</td>\n",
              "      <td>5</td>\n",
              "      <td>4201</td>\n",
              "      <td>0</td>\n",
              "      <td>...</td>\n",
              "      <td>1</td>\n",
              "      <td>0</td>\n",
              "      <td>1</td>\n",
              "      <td>0</td>\n",
              "      <td>0.607522</td>\n",
              "      <td>-0.786739</td>\n",
              "      <td>1.430799</td>\n",
              "      <td>-0.745695</td>\n",
              "      <td>1.745695</td>\n",
              "      <td>1.463528</td>\n",
              "    </tr>\n",
              "    <tr>\n",
              "      <th>478738</th>\n",
              "      <td>332387</td>\n",
              "      <td>50</td>\n",
              "      <td>2</td>\n",
              "      <td>2</td>\n",
              "      <td>04/04/12</td>\n",
              "      <td>3</td>\n",
              "      <td>900.0</td>\n",
              "      <td>6</td>\n",
              "      <td>11</td>\n",
              "      <td>2</td>\n",
              "      <td>...</td>\n",
              "      <td>1</td>\n",
              "      <td>0</td>\n",
              "      <td>0</td>\n",
              "      <td>0</td>\n",
              "      <td>-10.392478</td>\n",
              "      <td>0.213261</td>\n",
              "      <td>1.430799</td>\n",
              "      <td>0.254305</td>\n",
              "      <td>1.745695</td>\n",
              "      <td>1.463528</td>\n",
              "    </tr>\n",
              "    <tr>\n",
              "      <th>478739</th>\n",
              "      <td>71892</td>\n",
              "      <td>95</td>\n",
              "      <td>1</td>\n",
              "      <td>1</td>\n",
              "      <td>01/02/12</td>\n",
              "      <td>2</td>\n",
              "      <td>512.0</td>\n",
              "      <td>3</td>\n",
              "      <td>3</td>\n",
              "      <td>4</td>\n",
              "      <td>...</td>\n",
              "      <td>1</td>\n",
              "      <td>0</td>\n",
              "      <td>0</td>\n",
              "      <td>0</td>\n",
              "      <td>34.607522</td>\n",
              "      <td>-0.786739</td>\n",
              "      <td>1.430799</td>\n",
              "      <td>-0.745695</td>\n",
              "      <td>1.745695</td>\n",
              "      <td>1.463528</td>\n",
              "    </tr>\n",
              "    <tr>\n",
              "      <th>478740</th>\n",
              "      <td>318963</td>\n",
              "      <td>62</td>\n",
              "      <td>2</td>\n",
              "      <td>2</td>\n",
              "      <td>20/07/12</td>\n",
              "      <td>5</td>\n",
              "      <td>561.0</td>\n",
              "      <td>3</td>\n",
              "      <td>4</td>\n",
              "      <td>4</td>\n",
              "      <td>...</td>\n",
              "      <td>1</td>\n",
              "      <td>0</td>\n",
              "      <td>1</td>\n",
              "      <td>0</td>\n",
              "      <td>1.607522</td>\n",
              "      <td>0.213261</td>\n",
              "      <td>1.430799</td>\n",
              "      <td>0.254305</td>\n",
              "      <td>1.745695</td>\n",
              "      <td>1.463528</td>\n",
              "    </tr>\n",
              "  </tbody>\n",
              "</table>\n",
              "<p>478741 rows × 46 columns</p>\n",
              "</div>\n",
              "      <button class=\"colab-df-convert\" onclick=\"convertToInteractive('df-2f4c4976-b03c-498a-be02-a8541060ff96')\"\n",
              "              title=\"Convert this dataframe to an interactive table.\"\n",
              "              style=\"display:none;\">\n",
              "        \n",
              "  <svg xmlns=\"http://www.w3.org/2000/svg\" height=\"24px\"viewBox=\"0 0 24 24\"\n",
              "       width=\"24px\">\n",
              "    <path d=\"M0 0h24v24H0V0z\" fill=\"none\"/>\n",
              "    <path d=\"M18.56 5.44l.94 2.06.94-2.06 2.06-.94-2.06-.94-.94-2.06-.94 2.06-2.06.94zm-11 1L8.5 8.5l.94-2.06 2.06-.94-2.06-.94L8.5 2.5l-.94 2.06-2.06.94zm10 10l.94 2.06.94-2.06 2.06-.94-2.06-.94-.94-2.06-.94 2.06-2.06.94z\"/><path d=\"M17.41 7.96l-1.37-1.37c-.4-.4-.92-.59-1.43-.59-.52 0-1.04.2-1.43.59L10.3 9.45l-7.72 7.72c-.78.78-.78 2.05 0 2.83L4 21.41c.39.39.9.59 1.41.59.51 0 1.02-.2 1.41-.59l7.78-7.78 2.81-2.81c.8-.78.8-2.07 0-2.86zM5.41 20L4 18.59l7.72-7.72 1.47 1.35L5.41 20z\"/>\n",
              "  </svg>\n",
              "      </button>\n",
              "      \n",
              "  <style>\n",
              "    .colab-df-container {\n",
              "      display:flex;\n",
              "      flex-wrap:wrap;\n",
              "      gap: 12px;\n",
              "    }\n",
              "\n",
              "    .colab-df-convert {\n",
              "      background-color: #E8F0FE;\n",
              "      border: none;\n",
              "      border-radius: 50%;\n",
              "      cursor: pointer;\n",
              "      display: none;\n",
              "      fill: #1967D2;\n",
              "      height: 32px;\n",
              "      padding: 0 0 0 0;\n",
              "      width: 32px;\n",
              "    }\n",
              "\n",
              "    .colab-df-convert:hover {\n",
              "      background-color: #E2EBFA;\n",
              "      box-shadow: 0px 1px 2px rgba(60, 64, 67, 0.3), 0px 1px 3px 1px rgba(60, 64, 67, 0.15);\n",
              "      fill: #174EA6;\n",
              "    }\n",
              "\n",
              "    [theme=dark] .colab-df-convert {\n",
              "      background-color: #3B4455;\n",
              "      fill: #D2E3FC;\n",
              "    }\n",
              "\n",
              "    [theme=dark] .colab-df-convert:hover {\n",
              "      background-color: #434B5C;\n",
              "      box-shadow: 0px 1px 3px 1px rgba(0, 0, 0, 0.15);\n",
              "      filter: drop-shadow(0px 1px 2px rgba(0, 0, 0, 0.3));\n",
              "      fill: #FFFFFF;\n",
              "    }\n",
              "  </style>\n",
              "\n",
              "      <script>\n",
              "        const buttonEl =\n",
              "          document.querySelector('#df-2f4c4976-b03c-498a-be02-a8541060ff96 button.colab-df-convert');\n",
              "        buttonEl.style.display =\n",
              "          google.colab.kernel.accessAllowed ? 'block' : 'none';\n",
              "\n",
              "        async function convertToInteractive(key) {\n",
              "          const element = document.querySelector('#df-2f4c4976-b03c-498a-be02-a8541060ff96');\n",
              "          const dataTable =\n",
              "            await google.colab.kernel.invokeFunction('convertToInteractive',\n",
              "                                                     [key], {});\n",
              "          if (!dataTable) return;\n",
              "\n",
              "          const docLinkHtml = 'Like what you see? Visit the ' +\n",
              "            '<a target=\"_blank\" href=https://colab.research.google.com/notebooks/data_table.ipynb>data table notebook</a>'\n",
              "            + ' to learn more about interactive tables.';\n",
              "          element.innerHTML = '';\n",
              "          dataTable['output_type'] = 'display_data';\n",
              "          await google.colab.output.renderOutput(dataTable, element);\n",
              "          const docLink = document.createElement('div');\n",
              "          docLink.innerHTML = docLinkHtml;\n",
              "          element.appendChild(docLink);\n",
              "        }\n",
              "      </script>\n",
              "    </div>\n",
              "  </div>\n",
              "  "
            ]
          },
          "metadata": {},
          "execution_count": 41
        }
      ]
    },
    {
      "cell_type": "code",
      "source": [
        "train.isna().sum()"
      ],
      "metadata": {
        "colab": {
          "base_uri": "https://localhost:8080/"
        },
        "id": "js1grj-lxewn",
        "outputId": "27294cd7-1fa9-4934-a160-d7ce573063ee"
      },
      "execution_count": 42,
      "outputs": [
        {
          "output_type": "execute_result",
          "data": {
            "text/plain": [
              "Accident_ID                                                     0\n",
              "Police_Force                                                    0\n",
              "Number_of_Vehicles                                              0\n",
              "Number_of_Casualties                                            0\n",
              "Date                                                            0\n",
              "Day_of_Week                                                     0\n",
              "Time                                                           14\n",
              "1st_Road_Class                                                  0\n",
              "1st_Road_Number                                                 0\n",
              "Road_Type                                                       0\n",
              "Speed_limit                                                     0\n",
              "2nd_Road_Class                                                  0\n",
              "2nd_Road_Number                                                 0\n",
              "Pedestrian_Crossing-Human_Control                               0\n",
              "Pedestrian_Crossing-Physical_Facilities                         0\n",
              "Light_Conditions                                                0\n",
              "Weather_Conditions                                              0\n",
              "Road_Surface_Conditions                                       452\n",
              "Special_Conditions_at_Site                                     63\n",
              "Carriageway_Hazards                                             0\n",
              "Urban_or_Rural_Area                                             0\n",
              "Did_Police_Officer_Attend_Scene_of_Accident                     0\n",
              "postcode                                                        0\n",
              "dw_Police_Force                                                 0\n",
              "dw_Number_of_Casualties                                         0\n",
              "dw_Number_of_Vehicles                                           0\n",
              "d_Police_Force                                                  0\n",
              "d_Number_of_Vehicles                                            0\n",
              "d_Number_of_Casualties                                          0\n",
              "h_Police_Force                                                  0\n",
              "h_Number_of_Vehicles                                            0\n",
              "h_Number_of_Casualties                                          0\n",
              "Pedestrian_Crossing_Human_Control_interpreted_danger            0\n",
              "Pedestrian_Crossing_Physical_Facilities_interpreted_danger      0\n",
              "Light_Conditions_interpreted_danger                             0\n",
              "Darkness                                                        0\n",
              "weather                                                         0\n",
              "Weather_Conditions_high_winds                                   0\n",
              "Condition                                                       0\n",
              "Hazards_Condition                                               0\n",
              "s_Police_Force                                                  0\n",
              "s_Number_of_Vehicles                                            0\n",
              "s_Number_of_Casualties                                          0\n",
              "c_Police_Force                                                  0\n",
              "c_Number_of_Vehicles                                            0\n",
              "c_Number_of_Casualties                                          0\n",
              "dtype: int64"
            ]
          },
          "metadata": {},
          "execution_count": 42
        }
      ]
    },
    {
      "cell_type": "code",
      "source": [
        "train=train.fillna(-7)\n",
        "test=test.fillna(-7)"
      ],
      "metadata": {
        "id": "MEZ1cNqGxoFR"
      },
      "execution_count": 43,
      "outputs": []
    },
    {
      "cell_type": "code",
      "source": [
        "train.info()"
      ],
      "metadata": {
        "colab": {
          "base_uri": "https://localhost:8080/"
        },
        "id": "rbDx0hYv1Ldc",
        "outputId": "c0a7daad-cb11-43eb-9831-a53caf8d4aa0"
      },
      "execution_count": 44,
      "outputs": [
        {
          "output_type": "stream",
          "name": "stdout",
          "text": [
            "<class 'pandas.core.frame.DataFrame'>\n",
            "Int64Index: 478741 entries, 0 to 478740\n",
            "Data columns (total 46 columns):\n",
            " #   Column                                                      Non-Null Count   Dtype  \n",
            "---  ------                                                      --------------   -----  \n",
            " 0   Accident_ID                                                 478741 non-null  int64  \n",
            " 1   Police_Force                                                478741 non-null  int64  \n",
            " 2   Number_of_Vehicles                                          478741 non-null  int64  \n",
            " 3   Number_of_Casualties                                        478741 non-null  int64  \n",
            " 4   Date                                                        478741 non-null  object \n",
            " 5   Day_of_Week                                                 478741 non-null  int64  \n",
            " 6   Time                                                        478741 non-null  float64\n",
            " 7   1st_Road_Class                                              478741 non-null  int64  \n",
            " 8   1st_Road_Number                                             478741 non-null  int64  \n",
            " 9   Road_Type                                                   478741 non-null  int64  \n",
            " 10  Speed_limit                                                 478741 non-null  int64  \n",
            " 11  2nd_Road_Class                                              478741 non-null  int64  \n",
            " 12  2nd_Road_Number                                             478741 non-null  int64  \n",
            " 13  Pedestrian_Crossing-Human_Control                           478741 non-null  int64  \n",
            " 14  Pedestrian_Crossing-Physical_Facilities                     478741 non-null  int64  \n",
            " 15  Light_Conditions                                            478741 non-null  int64  \n",
            " 16  Weather_Conditions                                          478741 non-null  int64  \n",
            " 17  Road_Surface_Conditions                                     478741 non-null  int64  \n",
            " 18  Special_Conditions_at_Site                                  478741 non-null  int64  \n",
            " 19  Carriageway_Hazards                                         478741 non-null  int64  \n",
            " 20  Urban_or_Rural_Area                                         478741 non-null  int64  \n",
            " 21  Did_Police_Officer_Attend_Scene_of_Accident                 478741 non-null  int64  \n",
            " 22  postcode                                                    478741 non-null  object \n",
            " 23  dw_Police_Force                                             478741 non-null  float64\n",
            " 24  dw_Number_of_Casualties                                     478741 non-null  float64\n",
            " 25  dw_Number_of_Vehicles                                       478741 non-null  float64\n",
            " 26  d_Police_Force                                              478741 non-null  float64\n",
            " 27  d_Number_of_Vehicles                                        478741 non-null  float64\n",
            " 28  d_Number_of_Casualties                                      478741 non-null  float64\n",
            " 29  h_Police_Force                                              478741 non-null  float64\n",
            " 30  h_Number_of_Vehicles                                        478741 non-null  float64\n",
            " 31  h_Number_of_Casualties                                      478741 non-null  float64\n",
            " 32  Pedestrian_Crossing_Human_Control_interpreted_danger        478741 non-null  int64  \n",
            " 33  Pedestrian_Crossing_Physical_Facilities_interpreted_danger  478741 non-null  int64  \n",
            " 34  Light_Conditions_interpreted_danger                         478741 non-null  int64  \n",
            " 35  Darkness                                                    478741 non-null  int64  \n",
            " 36  weather                                                     478741 non-null  int64  \n",
            " 37  Weather_Conditions_high_winds                               478741 non-null  int64  \n",
            " 38  Condition                                                   478741 non-null  int64  \n",
            " 39  Hazards_Condition                                           478741 non-null  int64  \n",
            " 40  s_Police_Force                                              478741 non-null  float64\n",
            " 41  s_Number_of_Vehicles                                        478741 non-null  float64\n",
            " 42  s_Number_of_Casualties                                      478741 non-null  float64\n",
            " 43  c_Police_Force                                              478741 non-null  float64\n",
            " 44  c_Number_of_Vehicles                                        478741 non-null  float64\n",
            " 45  c_Number_of_Casualties                                      478741 non-null  float64\n",
            "dtypes: float64(16), int64(28), object(2)\n",
            "memory usage: 171.7+ MB\n"
          ]
        }
      ]
    },
    {
      "cell_type": "markdown",
      "source": [
        "# Split Data"
      ],
      "metadata": {
        "id": "ufeUhKGFzBaQ"
      }
    },
    {
      "cell_type": "code",
      "source": [
        "from sklearn.model_selection import train_test_split\n",
        "from sklearn.metrics import mean_squared_error"
      ],
      "metadata": {
        "id": "byWJY-9ozAx9"
      },
      "execution_count": 46,
      "outputs": []
    },
    {
      "cell_type": "code",
      "source": [
        "train.shape"
      ],
      "metadata": {
        "colab": {
          "base_uri": "https://localhost:8080/"
        },
        "id": "N8dyD-dQzcwk",
        "outputId": "a5de739a-ddfd-45bd-d8e8-f6680c9c9f02"
      },
      "execution_count": 47,
      "outputs": [
        {
          "output_type": "execute_result",
          "data": {
            "text/plain": [
              "(478741, 46)"
            ]
          },
          "metadata": {},
          "execution_count": 47
        }
      ]
    },
    {
      "cell_type": "code",
      "source": [
        "train_data=train[:int(478741*0.8)]\n",
        "cv_data=train[int(478741*0.8):int(478741*0.9)]\n",
        "test_data=train[int(478741*0.9):]"
      ],
      "metadata": {
        "id": "G4G5LswBya4A"
      },
      "execution_count": 48,
      "outputs": []
    },
    {
      "cell_type": "markdown",
      "source": [
        "# Model"
      ],
      "metadata": {
        "id": "-84vrPe1zxhb"
      }
    },
    {
      "cell_type": "code",
      "source": [
        "from sklearn.ensemble import RandomForestRegressor\n",
        "from xgboost import XGBRegressor\n",
        "from lightgbm import LGBMRegressor\n",
        "from sklearn.ensemble import GradientBoostingRegressor\n",
        "from tqdm import tqdm"
      ],
      "metadata": {
        "id": "yGW5KLtczzXn"
      },
      "execution_count": 49,
      "outputs": []
    },
    {
      "cell_type": "code",
      "source": [
        "! pip install catboost"
      ],
      "metadata": {
        "id": "Y1DNPSiBolRY"
      },
      "execution_count": null,
      "outputs": []
    },
    {
      "cell_type": "code",
      "source": [
        "from catboost import CatBoostRegressor"
      ],
      "metadata": {
        "id": "0XxOBjm6orSo"
      },
      "execution_count": null,
      "outputs": []
    },
    {
      "cell_type": "code",
      "source": [
        "trained=[]\n",
        "cved=[]\n",
        "tested=[]\n",
        "for i in tqdm(np.arange(3,50,2)):\n",
        "  regr = XGBRegressor(n_estimators=i)\n",
        "  regr.fit(train_data.drop(['Number_of_Casualties','postcode','Date'],axis=1),train_data['Number_of_Casualties'])\n",
        "  y_train_pred=regr.predict(train_data.drop(['Number_of_Casualties','postcode','Date'],axis=1))\n",
        "  trained.append(mean_squared_error(train_data['Number_of_Casualties'], y_train_pred))\n",
        "  y_cv_pred=regr.predict(cv_data.drop(['Number_of_Casualties','postcode','Date'],axis=1))\n",
        "  cved.append(mean_squared_error(cv_data['Number_of_Casualties'], y_cv_pred))\n",
        "  y_test_pred=regr.predict(test_data.drop(['Number_of_Casualties','postcode','Date'],axis=1))\n",
        "  tested.append(mean_squared_error(test_data['Number_of_Casualties'], y_test_pred))\n",
        "  print(trained[-1])\n",
        "  print(cved[-1])\n",
        "  print(tested[-1])\n",
        "  print(i)\n",
        "plt.plot(trained,label='train')\n",
        "plt.plot(cved,label='cv')\n",
        "plt.xlabel('estimators')\n",
        "plt.xticks([0,1,2,3,4],[1,10,80,100,120])\n",
        "plt.ylabel('error')\n",
        "plt.title('random_forest')\n",
        "plt.legend()\n",
        "plt.show()"
      ],
      "metadata": {
        "colab": {
          "base_uri": "https://localhost:8080/",
          "height": 1000
        },
        "id": "kzZgwtlJz_iJ",
        "outputId": "5a2811f0-61d5-43df-e9a7-dfbf258ea70c"
      },
      "execution_count": 51,
      "outputs": [
        {
          "output_type": "stream",
          "name": "stderr",
          "text": [
            "\r  0%|          | 0/24 [00:00<?, ?it/s]"
          ]
        },
        {
          "output_type": "stream",
          "name": "stdout",
          "text": [
            "[04:07:05] WARNING: /workspace/src/objective/regression_obj.cu:152: reg:linear is now deprecated in favor of reg:squarederror.\n"
          ]
        },
        {
          "output_type": "stream",
          "name": "stderr",
          "text": [
            "\r  4%|▍         | 1/24 [00:04<01:39,  4.33s/it]"
          ]
        },
        {
          "output_type": "stream",
          "name": "stdout",
          "text": [
            "1.159462267701104\n",
            "1.144904948986091\n",
            "1.127065965731337\n",
            "3\n",
            "[04:07:09] WARNING: /workspace/src/objective/regression_obj.cu:152: reg:linear is now deprecated in favor of reg:squarederror.\n"
          ]
        },
        {
          "output_type": "stream",
          "name": "stderr",
          "text": [
            "\r  8%|▊         | 2/24 [00:09<01:44,  4.74s/it]"
          ]
        },
        {
          "output_type": "stream",
          "name": "stdout",
          "text": [
            "0.9883984910266432\n",
            "0.9734755353228098\n",
            "0.9547961062671755\n",
            "5\n",
            "[04:07:14] WARNING: /workspace/src/objective/regression_obj.cu:152: reg:linear is now deprecated in favor of reg:squarederror.\n"
          ]
        },
        {
          "output_type": "stream",
          "name": "stderr",
          "text": [
            "\r 12%|█▎        | 3/24 [00:15<01:52,  5.36s/it]"
          ]
        },
        {
          "output_type": "stream",
          "name": "stdout",
          "text": [
            "0.8760641188068318\n",
            "0.8611484462064413\n",
            "0.8431268334573241\n",
            "7\n",
            "[04:07:20] WARNING: /workspace/src/objective/regression_obj.cu:152: reg:linear is now deprecated in favor of reg:squarederror.\n"
          ]
        },
        {
          "output_type": "stream",
          "name": "stderr",
          "text": [
            "\r 17%|█▋        | 4/24 [00:22<02:01,  6.08s/it]"
          ]
        },
        {
          "output_type": "stream",
          "name": "stdout",
          "text": [
            "0.8022777491258469\n",
            "0.7873220394523559\n",
            "0.7699859420066348\n",
            "9\n",
            "[04:07:28] WARNING: /workspace/src/objective/regression_obj.cu:152: reg:linear is now deprecated in favor of reg:squarederror.\n"
          ]
        },
        {
          "output_type": "stream",
          "name": "stderr",
          "text": [
            "\r 21%|██        | 5/24 [00:30<02:11,  6.90s/it]"
          ]
        },
        {
          "output_type": "stream",
          "name": "stdout",
          "text": [
            "0.7537500987002592\n",
            "0.7382103706549307\n",
            "0.7209687454411741\n",
            "11\n",
            "[04:07:36] WARNING: /workspace/src/objective/regression_obj.cu:152: reg:linear is now deprecated in favor of reg:squarederror.\n"
          ]
        },
        {
          "output_type": "stream",
          "name": "stderr",
          "text": [
            "\r 25%|██▌       | 6/24 [00:40<02:20,  7.79s/it]"
          ]
        },
        {
          "output_type": "stream",
          "name": "stdout",
          "text": [
            "0.7217856352698837\n",
            "0.7054274037116428\n",
            "0.6880649541483583\n",
            "13\n",
            "[04:07:45] WARNING: /workspace/src/objective/regression_obj.cu:152: reg:linear is now deprecated in favor of reg:squarederror.\n"
          ]
        },
        {
          "output_type": "stream",
          "name": "stderr",
          "text": [
            "\r 29%|██▉       | 7/24 [00:51<02:27,  8.68s/it]"
          ]
        },
        {
          "output_type": "stream",
          "name": "stdout",
          "text": [
            "0.7007183093078089\n",
            "0.6844569397250222\n",
            "0.668172380714099\n",
            "15\n",
            "[04:07:56] WARNING: /workspace/src/objective/regression_obj.cu:152: reg:linear is now deprecated in favor of reg:squarederror.\n"
          ]
        },
        {
          "output_type": "stream",
          "name": "stderr",
          "text": [
            "\r 33%|███▎      | 8/24 [01:02<02:33,  9.61s/it]"
          ]
        },
        {
          "output_type": "stream",
          "name": "stdout",
          "text": [
            "0.6867645715298737\n",
            "0.6702474852305462\n",
            "0.6548120797833895\n",
            "17\n",
            "[04:08:08] WARNING: /workspace/src/objective/regression_obj.cu:152: reg:linear is now deprecated in favor of reg:squarederror.\n"
          ]
        },
        {
          "output_type": "stream",
          "name": "stderr",
          "text": [
            "\r 38%|███▊      | 9/24 [01:15<02:39, 10.62s/it]"
          ]
        },
        {
          "output_type": "stream",
          "name": "stdout",
          "text": [
            "0.6775571196118698\n",
            "0.6610947618163899\n",
            "0.6466713788903642\n",
            "19\n",
            "[04:08:20] WARNING: /workspace/src/objective/regression_obj.cu:152: reg:linear is now deprecated in favor of reg:squarederror.\n"
          ]
        },
        {
          "output_type": "stream",
          "name": "stderr",
          "text": [
            "\r 42%|████▏     | 10/24 [01:29<02:45, 11.80s/it]"
          ]
        },
        {
          "output_type": "stream",
          "name": "stdout",
          "text": [
            "0.6714578848029243\n",
            "0.65507772816701\n",
            "0.6415576671037622\n",
            "21\n",
            "[04:08:35] WARNING: /workspace/src/objective/regression_obj.cu:152: reg:linear is now deprecated in favor of reg:squarederror.\n"
          ]
        },
        {
          "output_type": "stream",
          "name": "stderr",
          "text": [
            "\r 46%|████▌     | 11/24 [01:46<02:51, 13.21s/it]"
          ]
        },
        {
          "output_type": "stream",
          "name": "stdout",
          "text": [
            "0.6673840771791487\n",
            "0.6510011049812124\n",
            "0.6382043704705611\n",
            "23\n",
            "[04:08:51] WARNING: /workspace/src/objective/regression_obj.cu:152: reg:linear is now deprecated in favor of reg:squarederror.\n"
          ]
        },
        {
          "output_type": "stream",
          "name": "stderr",
          "text": [
            "\r 50%|█████     | 12/24 [02:03<02:52, 14.35s/it]"
          ]
        },
        {
          "output_type": "stream",
          "name": "stdout",
          "text": [
            "0.6646799649218165\n",
            "0.6481803406606798\n",
            "0.6358217189683488\n",
            "25\n",
            "[04:09:08] WARNING: /workspace/src/objective/regression_obj.cu:152: reg:linear is now deprecated in favor of reg:squarederror.\n"
          ]
        },
        {
          "output_type": "stream",
          "name": "stderr",
          "text": [
            "\r 54%|█████▍    | 13/24 [02:21<02:51, 15.55s/it]"
          ]
        },
        {
          "output_type": "stream",
          "name": "stdout",
          "text": [
            "0.6628390815590205\n",
            "0.6464063703834207\n",
            "0.634604402104505\n",
            "27\n",
            "[04:09:27] WARNING: /workspace/src/objective/regression_obj.cu:152: reg:linear is now deprecated in favor of reg:squarederror.\n"
          ]
        },
        {
          "output_type": "stream",
          "name": "stderr",
          "text": [
            "\r 58%|█████▊    | 14/24 [02:41<02:47, 16.79s/it]"
          ]
        },
        {
          "output_type": "stream",
          "name": "stdout",
          "text": [
            "0.6615687916813568\n",
            "0.6451259828305589\n",
            "0.6338475724945625\n",
            "29\n",
            "[04:09:46] WARNING: /workspace/src/objective/regression_obj.cu:152: reg:linear is now deprecated in favor of reg:squarederror.\n"
          ]
        },
        {
          "output_type": "stream",
          "name": "stderr",
          "text": [
            "\r 62%|██████▎   | 15/24 [03:02<02:42, 18.06s/it]"
          ]
        },
        {
          "output_type": "stream",
          "name": "stdout",
          "text": [
            "0.6607234598738635\n",
            "0.6443108870353471\n",
            "0.6335197316962954\n",
            "31\n",
            "[04:10:07] WARNING: /workspace/src/objective/regression_obj.cu:152: reg:linear is now deprecated in favor of reg:squarederror.\n"
          ]
        },
        {
          "output_type": "stream",
          "name": "stderr",
          "text": [
            "\r 67%|██████▋   | 16/24 [03:24<02:34, 19.29s/it]"
          ]
        },
        {
          "output_type": "stream",
          "name": "stdout",
          "text": [
            "0.6601073039676081\n",
            "0.6437042623067109\n",
            "0.6333236248951639\n",
            "33\n",
            "[04:10:29] WARNING: /workspace/src/objective/regression_obj.cu:152: reg:linear is now deprecated in favor of reg:squarederror.\n"
          ]
        },
        {
          "output_type": "stream",
          "name": "stderr",
          "text": [
            "\r 71%|███████   | 17/24 [03:47<02:22, 20.39s/it]"
          ]
        },
        {
          "output_type": "stream",
          "name": "stdout",
          "text": [
            "0.659680607528856\n",
            "0.6432755013408119\n",
            "0.6332845697354524\n",
            "35\n",
            "[04:10:52] WARNING: /workspace/src/objective/regression_obj.cu:152: reg:linear is now deprecated in favor of reg:squarederror.\n"
          ]
        },
        {
          "output_type": "stream",
          "name": "stderr",
          "text": [
            "\r 75%|███████▌  | 18/24 [04:11<02:08, 21.38s/it]"
          ]
        },
        {
          "output_type": "stream",
          "name": "stdout",
          "text": [
            "0.6593581247476304\n",
            "0.6429872704722004\n",
            "0.633290404864052\n",
            "37\n",
            "[04:11:16] WARNING: /workspace/src/objective/regression_obj.cu:152: reg:linear is now deprecated in favor of reg:squarederror.\n"
          ]
        },
        {
          "output_type": "stream",
          "name": "stderr",
          "text": [
            "\r 79%|███████▉  | 19/24 [04:35<01:51, 22.37s/it]"
          ]
        },
        {
          "output_type": "stream",
          "name": "stdout",
          "text": [
            "0.6591185226539421\n",
            "0.6428235032890892\n",
            "0.6333887713853477\n",
            "39\n",
            "[04:11:41] WARNING: /workspace/src/objective/regression_obj.cu:152: reg:linear is now deprecated in favor of reg:squarederror.\n"
          ]
        },
        {
          "output_type": "stream",
          "name": "stderr",
          "text": [
            "\r 83%|████████▎ | 20/24 [05:00<01:32, 23.24s/it]"
          ]
        },
        {
          "output_type": "stream",
          "name": "stdout",
          "text": [
            "0.6589498143151926\n",
            "0.6426910245812595\n",
            "0.63346007553268\n",
            "41\n",
            "[04:12:06] WARNING: /workspace/src/objective/regression_obj.cu:152: reg:linear is now deprecated in favor of reg:squarederror.\n"
          ]
        },
        {
          "output_type": "stream",
          "name": "stderr",
          "text": [
            "\r 88%|████████▊ | 21/24 [05:26<01:12, 24.04s/it]"
          ]
        },
        {
          "output_type": "stream",
          "name": "stdout",
          "text": [
            "0.6588019750466345\n",
            "0.6425733389109274\n",
            "0.6335759153141274\n",
            "43\n",
            "[04:12:32] WARNING: /workspace/src/objective/regression_obj.cu:152: reg:linear is now deprecated in favor of reg:squarederror.\n"
          ]
        },
        {
          "output_type": "stream",
          "name": "stderr",
          "text": [
            "\r 92%|█████████▏| 22/24 [05:54<00:50, 25.06s/it]"
          ]
        },
        {
          "output_type": "stream",
          "name": "stdout",
          "text": [
            "0.658685761971686\n",
            "0.6425175632128356\n",
            "0.6335711854594843\n",
            "45\n",
            "[04:12:59] WARNING: /workspace/src/objective/regression_obj.cu:152: reg:linear is now deprecated in favor of reg:squarederror.\n"
          ]
        },
        {
          "output_type": "stream",
          "name": "stderr",
          "text": [
            "\r 96%|█████████▌| 23/24 [06:22<00:25, 25.95s/it]"
          ]
        },
        {
          "output_type": "stream",
          "name": "stdout",
          "text": [
            "0.6585805414277258\n",
            "0.6424856789443291\n",
            "0.6335574015328211\n",
            "47\n",
            "[04:13:27] WARNING: /workspace/src/objective/regression_obj.cu:152: reg:linear is now deprecated in favor of reg:squarederror.\n"
          ]
        },
        {
          "output_type": "stream",
          "name": "stderr",
          "text": [
            "100%|██████████| 24/24 [06:51<00:00, 17.16s/it]"
          ]
        },
        {
          "output_type": "stream",
          "name": "stdout",
          "text": [
            "0.6584941219303333\n",
            "0.6425054063128419\n",
            "0.6337151714651131\n",
            "49\n"
          ]
        },
        {
          "output_type": "stream",
          "name": "stderr",
          "text": [
            "\n"
          ]
        },
        {
          "output_type": "display_data",
          "data": {
            "text/plain": [
              "<Figure size 432x288 with 1 Axes>"
            ],
            "image/png": "[encoded data removed]"
          },
          "metadata": {
            "needs_background": "light"
          }
        }
      ]
    },
    {
      "cell_type": "code",
      "source": [
        "regr = XGBRegressor(n_estimators=35)\n",
        "regr.fit(train.drop(['Number_of_Casualties','postcode','Date'],axis=1),train['Number_of_Casualties'])"
      ],
      "metadata": {
        "colab": {
          "base_uri": "https://localhost:8080/"
        },
        "id": "BIOgM-3u2EtZ",
        "outputId": "6abcf371-9c93-4db4-f0a3-89bd6193250c"
      },
      "execution_count": 52,
      "outputs": [
        {
          "output_type": "stream",
          "name": "stdout",
          "text": [
            "[04:14:39] WARNING: /workspace/src/objective/regression_obj.cu:152: reg:linear is now deprecated in favor of reg:squarederror.\n"
          ]
        },
        {
          "output_type": "execute_result",
          "data": {
            "text/plain": [
              "XGBRegressor(n_estimators=35)"
            ]
          },
          "metadata": {},
          "execution_count": 52
        }
      ]
    },
    {
      "cell_type": "code",
      "source": [
        "from xgboost import plot_importance"
      ],
      "metadata": {
        "id": "tcI8FJDyysGY"
      },
      "execution_count": 53,
      "outputs": []
    },
    {
      "cell_type": "code",
      "source": [
        "plot_importance(regr)\n",
        "plt.show()"
      ],
      "metadata": {
        "colab": {
          "base_uri": "https://localhost:8080/",
          "height": 295
        },
        "id": "8ysl9U5Lyw3P",
        "outputId": "8404c3e5-eb7d-4843-b02f-a4d5cbe99c82"
      },
      "execution_count": 54,
      "outputs": [
        {
          "output_type": "display_data",
          "data": {
            "text/plain": [
              "<Figure size 432x288 with 1 Axes>"
            ],
            "image/png": "[encoded data removed]"
          },
          "metadata": {
            "needs_background": "light"
          }
        }
      ]
    },
    {
      "cell_type": "code",
      "source": [
        "col=list(train.columns)"
      ],
      "metadata": {
        "id": "NrIK8c6zaVOH"
      },
      "execution_count": 55,
      "outputs": []
    },
    {
      "cell_type": "code",
      "source": [
        "test['Accident_risk_index']=regr.predict(test[col].drop(['Number_of_Casualties','postcode','Date'],axis=1))"
      ],
      "metadata": {
        "id": "mFlFk5yZ2KjP"
      },
      "execution_count": 56,
      "outputs": []
    },
    {
      "cell_type": "code",
      "source": [
        "test[['postcode','Accident_risk_index']].groupby('postcode').agg('mean').reset_index().to_csv('xgb35_new.csv',index=False)"
      ],
      "metadata": {
        "id": "QWf6lZx826Co"
      },
      "execution_count": 57,
      "outputs": []
    },
    {
      "cell_type": "code",
      "source": [
        "len(list(set(train['Accident_ID'])))"
      ],
      "metadata": {
        "id": "Pss7F9LKAV7N"
      },
      "execution_count": null,
      "outputs": []
    },
    {
      "cell_type": "code",
      "source": [
        "train.shape"
      ],
      "metadata": {
        "id": "1hkoT5g5AoXI"
      },
      "execution_count": null,
      "outputs": []
    },
    {
      "cell_type": "code",
      "source": [
        "cb50=pd.read_csv('/content/cb50.csv')\n",
        "gb41=pd.read_csv('/content/gb41.csv')\n",
        "lgbm33=pd.read_csv('/content/lgbm33.csv')\n",
        "xgb27=pd.read_csv('/content/xgb27.csv')"
      ],
      "metadata": {
        "id": "cdmU2F1Km0yT"
      },
      "execution_count": null,
      "outputs": []
    },
    {
      "cell_type": "code",
      "source": [
        "cb50['Accident_risk_index'].apply('mean')"
      ],
      "metadata": {
        "id": "6DuCEr4Hr0z0"
      },
      "execution_count": null,
      "outputs": []
    },
    {
      "cell_type": "code",
      "source": [
        "xgb27['Accident_risk_index'].apply('mean')"
      ],
      "metadata": {
        "id": "esXJsOv2sT0w"
      },
      "execution_count": null,
      "outputs": []
    },
    {
      "cell_type": "code",
      "source": [
        "lgbm33['Accident_risk_index'].apply('mean')"
      ],
      "metadata": {
        "id": "X8ystyI6sXbI"
      },
      "execution_count": null,
      "outputs": []
    },
    {
      "cell_type": "code",
      "source": [
        "gb41['Accident_risk_index'].apply('mean')"
      ],
      "metadata": {
        "id": "GyAEIpV3scB4"
      },
      "execution_count": null,
      "outputs": []
    },
    {
      "cell_type": "code",
      "source": [
        "re=xgb27.add_prefix('xgb_').merge(gb41.add_prefix('gb_'),left_on='xgb_postcode',right_on='gb_postcode').merge(lgbm33.add_prefix('lgbm_'),left_on='xgb_postcode',right_on='lgbm_postcode')"
      ],
      "metadata": {
        "id": "9BV5RmmusiLv"
      },
      "execution_count": null,
      "outputs": []
    },
    {
      "cell_type": "code",
      "source": [
        "re[['xgb_Accident_risk_index','gb_Accident_risk_index','lgbm_Accident_risk_index']].min(axis=1).mean()"
      ],
      "metadata": {
        "id": "9xI06SGbtzUF"
      },
      "execution_count": null,
      "outputs": []
    }
  ]
}