{
  "nbformat": 4,
  "nbformat_minor": 0,
  "metadata": {
    "colab": {
      "name": "BTC.ipynb",
      "provenance": [],
      "collapsed_sections": [],
      "mount_file_id": "1YkzinH1WRb9MXO-fmWWXcUeG_DylMSAa",
      "authorship_tag": "ABX9TyOMYK6plAoL1df7Qxm/hveZ",
      "include_colab_link": true
    },
    "kernelspec": {
      "display_name": "Python 3",
      "name": "python3"
    },
    "language_info": {
      "name": "python"
    }
  },
  "cells": [
    {
      "cell_type": "markdown",
      "metadata": {
        "id": "view-in-github",
        "colab_type": "text"
      },
      "source": [
        "<a href=\"https://colab.research.google.com/github/skillnerve/DataScience-Projects/blob/main/BTC.ipynb\" target=\"_parent\"><img src=\"https://colab.research.google.com/assets/colab-badge.svg\" alt=\"Open In Colab\"/></a>"
      ]
    },
    {
      "cell_type": "markdown",
      "metadata": {
        "id": "OdOL_NkBE7NB"
      },
      "source": [
        "Time-series forecasting of Bitcoin prices using high-dimensional\n",
        "features: a machine learning approach"
      ]
    },
    {
      "cell_type": "markdown",
      "metadata": {
        "id": "dNqSAfn1E7Tw"
      },
      "source": [
        "Introduction:\n",
        "\n",
        "- Bitcoin is a decentralized cryptocurrency, which is a type of digital asset that provides the basis for peer-to-peer financial\n",
        "transactions based on blockchain technology.\n",
        "\n",
        "- One of the main problems with decentralized cryptocurrencies is price\n",
        "volatility, which indicates the need for studying the underlying price model. Moreover, Bitcoin prices exhibit non-stationary behavior, where the statistical distribution of data changes over time.\n",
        "\n",
        "- Due to rapid digitalisation of asserts and development of new technologies like blockchain the price of Bitcoin increasing. While statments from twitter about their acceptance and rejection also influences the price of Bitcoin. There are many such factors which influence the price of Bitcoin in the market. In this price prediction task we will go through various features and technical indicators such as variance, mean in determining the price of Bitcoin.\n",
        "\n",
        "- We will try to predict Bitcoin Price:\n",
        "        - End of Day\n",
        "        - Short-term (7 days)\n",
        "        - Mid-term (30 and 90 days)\n",
        "\n",
        "- We will also try to classify Increase/ Decrease in BitCoin Price:\n",
        "        - End of Day\n",
        "        - Short-term (7 days)\n",
        "        - Mid-term (30 and 90 days)"
      ]
    },
    {
      "cell_type": "markdown",
      "metadata": {
        "id": "-X58OVAmE7bW"
      },
      "source": [
        "Index of Content\n",
        "- Data\n",
        "- Approach\n",
        "- Exploratory Data Analysis\n",
        "- Feature Engineering\n",
        "- Machine Learning Models"
      ]
    },
    {
      "cell_type": "markdown",
      "metadata": {
        "id": "QUNyy0IQE7dS"
      },
      "source": [
        "Data:\n",
        "\n",
        "Data has been taken from https://github.com/heliphix/btc_data/blob/main/btc_data.csv which was extracted from\n",
        "https://bitinfocharts.com.\n",
        "The data has a total of 736 features and 3488 rows.These Features can be classified as \n",
        "  - Raw\n",
        "  - Technical Indicators\n",
        "\n",
        "Raw consists of \n",
        "  - **Transactions**: The number of sent and received Bitcoin payments\n",
        "  - **Block size**:   Transactional information cryptographically linked in the blockchain.\n",
        "  - **Sent from addresses**: These are number of distinct Bitcoin addresses from which payments are made everyday.\n",
        "  - **Difficulty**: The daily average mining difficulty.\n",
        "  - **Average transaction value**: The average value of the transactions in Bitcoin.\n",
        "  - **Mining profitability**: The profitability in USD/day for 1 terahash per second.\n",
        "  - **Sent BTC**: The total Bitcoins sent daily.\n",
        "  - **Fee-to reward ratio**: The ratio of the fee sent in a transaction to the reward for verifying that transaction by the other users.\n",
        "  - **Median transaction fee**: The median of transaction fees in Bitcoin.\n",
        "  - **Average transaction fee**: Each transaction can have an associated transaction fee determined by the sender. The transaction fee is received by the miners who verify the transaction. Transactions with higher fees incentivize the Bitcoin miners to process them sooner than transactions with lower fees.\n",
        "  - **Block time**: The time required to mine one block.\n",
        "  - **Hashrate**: The daily total computational capacity of the Bitcoin\n",
        "network. Hashrate indicates the speed of a computer in completing an operation.\n",
        "  - **Median transaction value**: The median value of the transactions in Bitcoin.\n",
        "  - **Active addresses**: The number of unique addresses participating in a transaction by either sending or receiving Bitcoins.\n",
        "  -  **Top 100 to total**: The ratio of Bitcoins stored in the top 100 accounts to all the other accounts of Bitcoin.\n",
        "\n",
        "Technical Indicators consists of (these are extracted from raw data)\n",
        "  - **Simple Moving Average (SMA)**: simple moving average (SMA) is an arithmetic moving average calculated by adding recent prices and then dividing that figure by the number of time periods in the calculation average.\n",
        "  - **Exponential Moving Average(EMA)**: An exponential moving average (EMA) is a type of moving average (MA) that places a greater weight and significance on the most recent data points.\n",
        "  - **Relative Strength Index (RSI)**: The relative strength index (RSI) is a momentum indicator used in technical analysis that measures the magnitude of recent price changes to evaluate overbought or oversold conditions in the price of a stock or other asset.\n",
        "  - **Weighted Moving Average (WMA)**:  weighted moving average (WMA) is a technical indicator that assigns a greater weighting to the most recent data points, and less weighting to data points in the distant past.\n",
        "  - **Standard Deviation (STD)**: standard deviation is a measure of the amount of variation\n",
        "  - **Variance (VAR)**: variance measures variability from the average or mean.\n",
        "  - **Triple Moving Exponential (TRIX)**: The triple exponential moving average (TEMA) is one that responds more quickly to near-term price changes than a normal exponential moving average.\n",
        "  - **Rate of Change (ROC)**: Rate of change is used to mathematically describe the percentage change in value over a defined period of time"
      ]
    },
    {
      "cell_type": "markdown",
      "metadata": {
        "id": "hU7izFjZE7hV"
      },
      "source": [
        "Approach:\n",
        "\n",
        "- Check if the Data is missing, if found missing use linear interpolation to fill the values.\n",
        "- Verify whether Data is stationary or non stationary.\n",
        "- Scaling Data Features\n",
        "\n",
        "------------------------------------------------------------------------------------------------------------------------------------------------\n",
        "\n",
        "*Approach 1*\n",
        "\n",
        "- Features importance independently for different features\n",
        "- Feature importance will be determined using Random Forest,then reduced features are checked for coorelation using Variance inflation factor (VIF) and Pearson correlation.\n",
        "\n",
        "*Approach 2*\n",
        "\n",
        "- Using PCA to get uncorrelated featues without manually removing features\n",
        "------------------------------------------------------------------------------------------------------------------------------------------------\n",
        "\n",
        "- After Data is ready for work, EDA will be done on the data.\n",
        "- Shuffle the data and split the training data into 60% and 20% for regression cases and predict for rest 20%. While for classification split the data into 60%, 20%, 20% based on time.\n",
        "- Machine Learning models will be implemented \n",
        "- Root mean squared error (RMSE),Mean absolute error (MAE), Mean\n",
        "absolute percentage error (MAPE) will checked as metrics for regression models\n",
        "- Accuracy , F1 score, AUC will be checked as metrics for classification models.\n"
      ]
    },
    {
      "cell_type": "markdown",
      "metadata": {
        "id": "z84eCoLNE7qs"
      },
      "source": [
        "Libraries"
      ]
    },
    {
      "cell_type": "code",
      "metadata": {
        "id": "rrRl4e2HFCUI"
      },
      "source": [
        "import numpy as np\n",
        "import pandas as pd\n",
        "import matplotlib.pyplot as plt\n",
        "import seaborn as sns\n",
        "from sklearn.feature_selection import RFE\n",
        "from sklearn.svm import SVR\n",
        "from sklearn.ensemble import RandomForestRegressor\n",
        "from sklearn.preprocessing import MinMaxScaler\n",
        "from sklearn.feature_selection import SelectKBest\n",
        "from sklearn.feature_selection import f_regression\n",
        "from sklearn.feature_selection import SelectPercentile\n",
        "from sklearn.preprocessing import StandardScaler\n",
        "from sklearn.model_selection import train_test_split\n",
        "from sklearn.metrics import mean_squared_error\n",
        "from sklearn.pipeline import make_pipeline\n",
        "from sklearn.preprocessing import RobustScaler\n",
        "from sklearn.model_selection import TimeSeriesSplit\n",
        "from xgboost import XGBRegressor\n",
        "from sklearn.manifold import TSNE\n",
        "from sklearn.decomposition import PCA\n",
        "from datetime import datetime\n",
        "from dateutil.relativedelta import relativedelta\n",
        "import re\n",
        "import tensorflow as tf\n",
        "from tensorflow.keras.layers import Dense,Input,Activation,Conv1D,Concatenate,MaxPooling1D,Dropout,Flatten,Embedding,LSTM\n",
        "from tensorflow.keras.models import Model\n",
        "import tensorflow.keras as keras"
      ],
      "execution_count": 1,
      "outputs": []
    },
    {
      "cell_type": "code",
      "metadata": {
        "id": "c_6YQtYjFK0P"
      },
      "source": [
        "data=pd.read_csv('/content/drive/MyDrive/btc.csv')"
      ],
      "execution_count": 2,
      "outputs": []
    },
    {
      "cell_type": "code",
      "metadata": {
        "colab": {
          "base_uri": "https://localhost:8080/",
          "height": 244
        },
        "id": "UTXo475XFR-M",
        "outputId": "f1c56794-5a53-4bac-8a2a-dc4ccf7bb5f5"
      },
      "source": [
        "data.head()"
      ],
      "execution_count": 3,
      "outputs": [
        {
          "output_type": "execute_result",
          "data": {
            "text/html": [
              "<div>\n",
              "<style scoped>\n",
              "    .dataframe tbody tr th:only-of-type {\n",
              "        vertical-align: middle;\n",
              "    }\n",
              "\n",
              "    .dataframe tbody tr th {\n",
              "        vertical-align: top;\n",
              "    }\n",
              "\n",
              "    .dataframe thead th {\n",
              "        text-align: right;\n",
              "    }\n",
              "</style>\n",
              "<table border=\"1\" class=\"dataframe\">\n",
              "  <thead>\n",
              "    <tr style=\"text-align: right;\">\n",
              "      <th></th>\n",
              "      <th>Date</th>\n",
              "      <th>priceUSD</th>\n",
              "      <th>transactions</th>\n",
              "      <th>size</th>\n",
              "      <th>sentbyaddress</th>\n",
              "      <th>difficulty</th>\n",
              "      <th>hashrate</th>\n",
              "      <th>mining_profitability</th>\n",
              "      <th>sentinusdUSD</th>\n",
              "      <th>transactionfeesUSD</th>\n",
              "      <th>median_transaction_feeUSD</th>\n",
              "      <th>confirmationtime</th>\n",
              "      <th>transactionvalueUSD</th>\n",
              "      <th>mediantransactionvalueUSD</th>\n",
              "      <th>activeaddresses</th>\n",
              "      <th>top100cap</th>\n",
              "      <th>fee_to_rewardUSD</th>\n",
              "      <th>transactions3sma</th>\n",
              "      <th>transactions7sma</th>\n",
              "      <th>transactions14sma</th>\n",
              "      <th>transactions30sma</th>\n",
              "      <th>transactions90sma</th>\n",
              "      <th>transactions3ema</th>\n",
              "      <th>transactions7ema</th>\n",
              "      <th>transactions14ema</th>\n",
              "      <th>transactions30ema</th>\n",
              "      <th>transactions90ema</th>\n",
              "      <th>transactions3wma</th>\n",
              "      <th>transactions7wma</th>\n",
              "      <th>transactions14wma</th>\n",
              "      <th>transactions30wma</th>\n",
              "      <th>transactions90wma</th>\n",
              "      <th>transactions3trx</th>\n",
              "      <th>transactions7trx</th>\n",
              "      <th>transactions14trx</th>\n",
              "      <th>transactions30trx</th>\n",
              "      <th>transactions90trx</th>\n",
              "      <th>transactions3mom</th>\n",
              "      <th>transactions7mom</th>\n",
              "      <th>transactions14mom</th>\n",
              "      <th>...</th>\n",
              "      <th>price3emaUSD</th>\n",
              "      <th>price7emaUSD</th>\n",
              "      <th>price14emaUSD</th>\n",
              "      <th>price30emaUSD</th>\n",
              "      <th>price90emaUSD</th>\n",
              "      <th>price3wmaUSD</th>\n",
              "      <th>price7wmaUSD</th>\n",
              "      <th>price14wmaUSD</th>\n",
              "      <th>price30wmaUSD</th>\n",
              "      <th>price90wmaUSD</th>\n",
              "      <th>price3trxUSD</th>\n",
              "      <th>price7trxUSD</th>\n",
              "      <th>price14trxUSD</th>\n",
              "      <th>price30trxUSD</th>\n",
              "      <th>price90trxUSD</th>\n",
              "      <th>price3momUSD</th>\n",
              "      <th>price7momUSD</th>\n",
              "      <th>price14momUSD</th>\n",
              "      <th>price30momUSD</th>\n",
              "      <th>price90momUSD</th>\n",
              "      <th>price3stdUSD</th>\n",
              "      <th>price7stdUSD</th>\n",
              "      <th>price14stdUSD</th>\n",
              "      <th>price30stdUSD</th>\n",
              "      <th>price90stdUSD</th>\n",
              "      <th>price3varUSD</th>\n",
              "      <th>price7varUSD</th>\n",
              "      <th>price14varUSD</th>\n",
              "      <th>price30varUSD</th>\n",
              "      <th>price90varUSD</th>\n",
              "      <th>price3rsiUSD</th>\n",
              "      <th>price7rsiUSD</th>\n",
              "      <th>price14rsiUSD</th>\n",
              "      <th>price30rsiUSD</th>\n",
              "      <th>price90rsiUSD</th>\n",
              "      <th>price3rocUSD</th>\n",
              "      <th>price7rocUSD</th>\n",
              "      <th>price14rocUSD</th>\n",
              "      <th>price30rocUSD</th>\n",
              "      <th>price90rocUSD</th>\n",
              "    </tr>\n",
              "  </thead>\n",
              "  <tbody>\n",
              "    <tr>\n",
              "      <th>0</th>\n",
              "      <td>2010/07/17</td>\n",
              "      <td>0.0495</td>\n",
              "      <td>235</td>\n",
              "      <td>649.653</td>\n",
              "      <td>390</td>\n",
              "      <td>181.543</td>\n",
              "      <td>2.775561e+09</td>\n",
              "      <td>154298.0</td>\n",
              "      <td>1193.0</td>\n",
              "      <td>0.000010</td>\n",
              "      <td>0.0</td>\n",
              "      <td>8.324</td>\n",
              "      <td>2.924</td>\n",
              "      <td>0.248</td>\n",
              "      <td>804</td>\n",
              "      <td>25.749</td>\n",
              "      <td>0.00100</td>\n",
              "      <td>539.000</td>\n",
              "      <td>1396.000</td>\n",
              "      <td>727.714</td>\n",
              "      <td>376.033</td>\n",
              "      <td>156.711</td>\n",
              "      <td>773.895</td>\n",
              "      <td>1046.000</td>\n",
              "      <td>861.552</td>\n",
              "      <td>551.815</td>\n",
              "      <td>252.957</td>\n",
              "      <td>460.500</td>\n",
              "      <td>1331.000</td>\n",
              "      <td>1022.000</td>\n",
              "      <td>602.492</td>\n",
              "      <td>257.572</td>\n",
              "      <td>-12.423</td>\n",
              "      <td>19.663</td>\n",
              "      <td>24.051</td>\n",
              "      <td>9.302</td>\n",
              "      <td>1.791</td>\n",
              "      <td>-5319</td>\n",
              "      <td>193</td>\n",
              "      <td>161</td>\n",
              "      <td>...</td>\n",
              "      <td>0.000</td>\n",
              "      <td>0.0</td>\n",
              "      <td>0.0</td>\n",
              "      <td>0.0</td>\n",
              "      <td>0.0</td>\n",
              "      <td>0.000</td>\n",
              "      <td>0.0</td>\n",
              "      <td>0.0</td>\n",
              "      <td>0.0</td>\n",
              "      <td>0.0</td>\n",
              "      <td>0.0</td>\n",
              "      <td>0.0</td>\n",
              "      <td>0.0</td>\n",
              "      <td>0.0</td>\n",
              "      <td>0.0</td>\n",
              "      <td>0.000</td>\n",
              "      <td>0.0</td>\n",
              "      <td>0.0</td>\n",
              "      <td>0.0</td>\n",
              "      <td>0.0</td>\n",
              "      <td>0.000</td>\n",
              "      <td>0.0</td>\n",
              "      <td>0.0</td>\n",
              "      <td>0.0</td>\n",
              "      <td>0.0</td>\n",
              "      <td>0.0</td>\n",
              "      <td>0.0</td>\n",
              "      <td>0.0</td>\n",
              "      <td>0.0</td>\n",
              "      <td>0.0</td>\n",
              "      <td>0.000</td>\n",
              "      <td>0.0</td>\n",
              "      <td>0.0</td>\n",
              "      <td>0.0</td>\n",
              "      <td>0.0</td>\n",
              "      <td>0.000</td>\n",
              "      <td>0.0</td>\n",
              "      <td>0.0</td>\n",
              "      <td>0.0</td>\n",
              "      <td>0.0</td>\n",
              "    </tr>\n",
              "    <tr>\n",
              "      <th>1</th>\n",
              "      <td>2010/07/18</td>\n",
              "      <td>0.0726</td>\n",
              "      <td>248</td>\n",
              "      <td>765.285</td>\n",
              "      <td>424</td>\n",
              "      <td>181.543</td>\n",
              "      <td>1.554461e+09</td>\n",
              "      <td>401834.0</td>\n",
              "      <td>2620.0</td>\n",
              "      <td>0.000243</td>\n",
              "      <td>0.0</td>\n",
              "      <td>8.372</td>\n",
              "      <td>6.237</td>\n",
              "      <td>0.363</td>\n",
              "      <td>917</td>\n",
              "      <td>25.782</td>\n",
              "      <td>0.01630</td>\n",
              "      <td>386.333</td>\n",
              "      <td>1407.000</td>\n",
              "      <td>741.286</td>\n",
              "      <td>382.867</td>\n",
              "      <td>158.978</td>\n",
              "      <td>510.947</td>\n",
              "      <td>846.444</td>\n",
              "      <td>779.745</td>\n",
              "      <td>532.214</td>\n",
              "      <td>252.849</td>\n",
              "      <td>315.000</td>\n",
              "      <td>1044.000</td>\n",
              "      <td>958.057</td>\n",
              "      <td>594.232</td>\n",
              "      <td>259.578</td>\n",
              "      <td>-19.408</td>\n",
              "      <td>10.904</td>\n",
              "      <td>19.168</td>\n",
              "      <td>9.590</td>\n",
              "      <td>1.942</td>\n",
              "      <td>-458</td>\n",
              "      <td>74</td>\n",
              "      <td>190</td>\n",
              "      <td>...</td>\n",
              "      <td>0.000</td>\n",
              "      <td>0.0</td>\n",
              "      <td>0.0</td>\n",
              "      <td>0.0</td>\n",
              "      <td>0.0</td>\n",
              "      <td>0.000</td>\n",
              "      <td>0.0</td>\n",
              "      <td>0.0</td>\n",
              "      <td>0.0</td>\n",
              "      <td>0.0</td>\n",
              "      <td>0.0</td>\n",
              "      <td>0.0</td>\n",
              "      <td>0.0</td>\n",
              "      <td>0.0</td>\n",
              "      <td>0.0</td>\n",
              "      <td>0.000</td>\n",
              "      <td>0.0</td>\n",
              "      <td>0.0</td>\n",
              "      <td>0.0</td>\n",
              "      <td>0.0</td>\n",
              "      <td>0.000</td>\n",
              "      <td>0.0</td>\n",
              "      <td>0.0</td>\n",
              "      <td>0.0</td>\n",
              "      <td>0.0</td>\n",
              "      <td>0.0</td>\n",
              "      <td>0.0</td>\n",
              "      <td>0.0</td>\n",
              "      <td>0.0</td>\n",
              "      <td>0.0</td>\n",
              "      <td>0.000</td>\n",
              "      <td>0.0</td>\n",
              "      <td>0.0</td>\n",
              "      <td>0.0</td>\n",
              "      <td>0.0</td>\n",
              "      <td>0.000</td>\n",
              "      <td>0.0</td>\n",
              "      <td>0.0</td>\n",
              "      <td>0.0</td>\n",
              "      <td>0.0</td>\n",
              "    </tr>\n",
              "    <tr>\n",
              "      <th>2</th>\n",
              "      <td>2010/07/19</td>\n",
              "      <td>0.0859</td>\n",
              "      <td>354</td>\n",
              "      <td>756.040</td>\n",
              "      <td>553</td>\n",
              "      <td>181.543</td>\n",
              "      <td>1.551287e+09</td>\n",
              "      <td>481473.0</td>\n",
              "      <td>4048.0</td>\n",
              "      <td>0.000022</td>\n",
              "      <td>0.0</td>\n",
              "      <td>8.276</td>\n",
              "      <td>7.666</td>\n",
              "      <td>0.429</td>\n",
              "      <td>972</td>\n",
              "      <td>25.685</td>\n",
              "      <td>0.00154</td>\n",
              "      <td>279.000</td>\n",
              "      <td>1223.000</td>\n",
              "      <td>761.357</td>\n",
              "      <td>392.533</td>\n",
              "      <td>162.489</td>\n",
              "      <td>432.474</td>\n",
              "      <td>723.333</td>\n",
              "      <td>722.979</td>\n",
              "      <td>520.717</td>\n",
              "      <td>255.072</td>\n",
              "      <td>298.833</td>\n",
              "      <td>780.643</td>\n",
              "      <td>906.419</td>\n",
              "      <td>592.370</td>\n",
              "      <td>263.864</td>\n",
              "      <td>-21.422</td>\n",
              "      <td>5.376</td>\n",
              "      <td>15.270</td>\n",
              "      <td>9.526</td>\n",
              "      <td>2.078</td>\n",
              "      <td>-322</td>\n",
              "      <td>-1287</td>\n",
              "      <td>281</td>\n",
              "      <td>...</td>\n",
              "      <td>0.069</td>\n",
              "      <td>0.0</td>\n",
              "      <td>0.0</td>\n",
              "      <td>0.0</td>\n",
              "      <td>0.0</td>\n",
              "      <td>0.075</td>\n",
              "      <td>0.0</td>\n",
              "      <td>0.0</td>\n",
              "      <td>0.0</td>\n",
              "      <td>0.0</td>\n",
              "      <td>0.0</td>\n",
              "      <td>0.0</td>\n",
              "      <td>0.0</td>\n",
              "      <td>0.0</td>\n",
              "      <td>0.0</td>\n",
              "      <td>0.000</td>\n",
              "      <td>0.0</td>\n",
              "      <td>0.0</td>\n",
              "      <td>0.0</td>\n",
              "      <td>0.0</td>\n",
              "      <td>0.030</td>\n",
              "      <td>0.0</td>\n",
              "      <td>0.0</td>\n",
              "      <td>0.0</td>\n",
              "      <td>0.0</td>\n",
              "      <td>0.0</td>\n",
              "      <td>0.0</td>\n",
              "      <td>0.0</td>\n",
              "      <td>0.0</td>\n",
              "      <td>0.0</td>\n",
              "      <td>0.000</td>\n",
              "      <td>0.0</td>\n",
              "      <td>0.0</td>\n",
              "      <td>0.0</td>\n",
              "      <td>0.0</td>\n",
              "      <td>0.000</td>\n",
              "      <td>0.0</td>\n",
              "      <td>0.0</td>\n",
              "      <td>0.0</td>\n",
              "      <td>0.0</td>\n",
              "    </tr>\n",
              "    <tr>\n",
              "      <th>3</th>\n",
              "      <td>2010/07/20</td>\n",
              "      <td>0.0783</td>\n",
              "      <td>413</td>\n",
              "      <td>984.707</td>\n",
              "      <td>632</td>\n",
              "      <td>181.543</td>\n",
              "      <td>1.640430e+09</td>\n",
              "      <td>431831.0</td>\n",
              "      <td>2341.0</td>\n",
              "      <td>0.000000</td>\n",
              "      <td>0.0</td>\n",
              "      <td>7.956</td>\n",
              "      <td>3.940</td>\n",
              "      <td>5.105</td>\n",
              "      <td>906</td>\n",
              "      <td>25.602</td>\n",
              "      <td>0.00000</td>\n",
              "      <td>338.333</td>\n",
              "      <td>1169.000</td>\n",
              "      <td>788.071</td>\n",
              "      <td>404.867</td>\n",
              "      <td>166.722</td>\n",
              "      <td>422.737</td>\n",
              "      <td>645.750</td>\n",
              "      <td>681.649</td>\n",
              "      <td>513.767</td>\n",
              "      <td>258.543</td>\n",
              "      <td>365.833</td>\n",
              "      <td>578.179</td>\n",
              "      <td>859.971</td>\n",
              "      <td>593.690</td>\n",
              "      <td>269.370</td>\n",
              "      <td>-19.876</td>\n",
              "      <td>1.784</td>\n",
              "      <td>12.234</td>\n",
              "      <td>9.253</td>\n",
              "      <td>2.200</td>\n",
              "      <td>178</td>\n",
              "      <td>-374</td>\n",
              "      <td>374</td>\n",
              "      <td>...</td>\n",
              "      <td>0.074</td>\n",
              "      <td>0.0</td>\n",
              "      <td>0.0</td>\n",
              "      <td>0.0</td>\n",
              "      <td>0.0</td>\n",
              "      <td>0.080</td>\n",
              "      <td>0.0</td>\n",
              "      <td>0.0</td>\n",
              "      <td>0.0</td>\n",
              "      <td>0.0</td>\n",
              "      <td>0.0</td>\n",
              "      <td>0.0</td>\n",
              "      <td>0.0</td>\n",
              "      <td>0.0</td>\n",
              "      <td>0.0</td>\n",
              "      <td>0.029</td>\n",
              "      <td>0.0</td>\n",
              "      <td>0.0</td>\n",
              "      <td>0.0</td>\n",
              "      <td>0.0</td>\n",
              "      <td>0.011</td>\n",
              "      <td>0.0</td>\n",
              "      <td>0.0</td>\n",
              "      <td>0.0</td>\n",
              "      <td>0.0</td>\n",
              "      <td>0.0</td>\n",
              "      <td>0.0</td>\n",
              "      <td>0.0</td>\n",
              "      <td>0.0</td>\n",
              "      <td>0.0</td>\n",
              "      <td>82.751</td>\n",
              "      <td>0.0</td>\n",
              "      <td>0.0</td>\n",
              "      <td>0.0</td>\n",
              "      <td>0.0</td>\n",
              "      <td>58.099</td>\n",
              "      <td>0.0</td>\n",
              "      <td>0.0</td>\n",
              "      <td>0.0</td>\n",
              "      <td>0.0</td>\n",
              "    </tr>\n",
              "    <tr>\n",
              "      <th>4</th>\n",
              "      <td>2010/07/21</td>\n",
              "      <td>0.0767</td>\n",
              "      <td>256</td>\n",
              "      <td>542.483</td>\n",
              "      <td>440</td>\n",
              "      <td>181.543</td>\n",
              "      <td>1.723493e+09</td>\n",
              "      <td>460783.0</td>\n",
              "      <td>2122.0</td>\n",
              "      <td>0.000000</td>\n",
              "      <td>0.0</td>\n",
              "      <td>6.957</td>\n",
              "      <td>4.583</td>\n",
              "      <td>3.837</td>\n",
              "      <td>809</td>\n",
              "      <td>25.638</td>\n",
              "      <td>0.00000</td>\n",
              "      <td>341.000</td>\n",
              "      <td>412.571</td>\n",
              "      <td>801.929</td>\n",
              "      <td>410.467</td>\n",
              "      <td>169.122</td>\n",
              "      <td>339.368</td>\n",
              "      <td>548.312</td>\n",
              "      <td>624.895</td>\n",
              "      <td>497.137</td>\n",
              "      <td>258.487</td>\n",
              "      <td>324.667</td>\n",
              "      <td>349.821</td>\n",
              "      <td>789.029</td>\n",
              "      <td>584.086</td>\n",
              "      <td>271.332</td>\n",
              "      <td>-19.239</td>\n",
              "      <td>-0.956</td>\n",
              "      <td>9.728</td>\n",
              "      <td>8.818</td>\n",
              "      <td>2.306</td>\n",
              "      <td>8</td>\n",
              "      <td>-5298</td>\n",
              "      <td>194</td>\n",
              "      <td>...</td>\n",
              "      <td>0.075</td>\n",
              "      <td>0.0</td>\n",
              "      <td>0.0</td>\n",
              "      <td>0.0</td>\n",
              "      <td>0.0</td>\n",
              "      <td>0.079</td>\n",
              "      <td>0.0</td>\n",
              "      <td>0.0</td>\n",
              "      <td>0.0</td>\n",
              "      <td>0.0</td>\n",
              "      <td>0.0</td>\n",
              "      <td>0.0</td>\n",
              "      <td>0.0</td>\n",
              "      <td>0.0</td>\n",
              "      <td>0.0</td>\n",
              "      <td>0.004</td>\n",
              "      <td>0.0</td>\n",
              "      <td>0.0</td>\n",
              "      <td>0.0</td>\n",
              "      <td>0.0</td>\n",
              "      <td>0.008</td>\n",
              "      <td>0.0</td>\n",
              "      <td>0.0</td>\n",
              "      <td>0.0</td>\n",
              "      <td>0.0</td>\n",
              "      <td>0.0</td>\n",
              "      <td>0.0</td>\n",
              "      <td>0.0</td>\n",
              "      <td>0.0</td>\n",
              "      <td>0.0</td>\n",
              "      <td>78.603</td>\n",
              "      <td>0.0</td>\n",
              "      <td>0.0</td>\n",
              "      <td>0.0</td>\n",
              "      <td>0.0</td>\n",
              "      <td>5.652</td>\n",
              "      <td>0.0</td>\n",
              "      <td>0.0</td>\n",
              "      <td>0.0</td>\n",
              "      <td>0.0</td>\n",
              "    </tr>\n",
              "  </tbody>\n",
              "</table>\n",
              "<p>5 rows × 737 columns</p>\n",
              "</div>"
            ],
            "text/plain": [
              "         Date  priceUSD  ...  price30rocUSD  price90rocUSD\n",
              "0  2010/07/17    0.0495  ...            0.0            0.0\n",
              "1  2010/07/18    0.0726  ...            0.0            0.0\n",
              "2  2010/07/19    0.0859  ...            0.0            0.0\n",
              "3  2010/07/20    0.0783  ...            0.0            0.0\n",
              "4  2010/07/21    0.0767  ...            0.0            0.0\n",
              "\n",
              "[5 rows x 737 columns]"
            ]
          },
          "metadata": {
            "tags": []
          },
          "execution_count": 3
        }
      ]
    },
    {
      "cell_type": "code",
      "metadata": {
        "colab": {
          "base_uri": "https://localhost:8080/",
          "height": 266
        },
        "id": "zROmmtpijBZX",
        "outputId": "e2cbe9e6-c5c1-4809-d813-7329cf06c034"
      },
      "source": [
        "plt.plot(data['priceUSD'])\n",
        "plt.ylabel('priceUSD')\n",
        "plt.show()"
      ],
      "execution_count": 4,
      "outputs": [
        {
          "output_type": "display_data",
          "data": {
            "image/png": "[encoded data removed]",
            "text/plain": [
              "<Figure size 432x288 with 1 Axes>"
            ]
          },
          "metadata": {
            "tags": [],
            "needs_background": "light"
          }
        }
      ]
    },
    {
      "cell_type": "markdown",
      "metadata": {
        "id": "lN9I1HBW6MKt"
      },
      "source": [
        "Check if data has has any missing values"
      ]
    },
    {
      "cell_type": "code",
      "metadata": {
        "colab": {
          "base_uri": "https://localhost:8080/"
        },
        "id": "c1rMoE5A4r7U",
        "outputId": "086c9090-e389-4b6b-c694-cb926e9cf7dc"
      },
      "source": [
        "data.isnull().any().sum()"
      ],
      "execution_count": 5,
      "outputs": [
        {
          "output_type": "execute_result",
          "data": {
            "text/plain": [
              "0"
            ]
          },
          "metadata": {
            "tags": []
          },
          "execution_count": 5
        }
      ]
    },
    {
      "cell_type": "markdown",
      "metadata": {
        "id": "k0G6mug36nmm"
      },
      "source": [
        "Stationary or Non-Stationary:\n",
        "\n",
        "To check if the data is stationary or Non-stationary , we will split the data into 4 parts of equal intervals based on time and plot box plots."
      ]
    },
    {
      "cell_type": "code",
      "metadata": {
        "colab": {
          "base_uri": "https://localhost:8080/",
          "height": 244
        },
        "id": "TwiBwe8Q6P-c",
        "outputId": "b168da0d-4396-4351-b8a1-bbfa5a61ef17"
      },
      "source": [
        "data=data.sort_values('Date')\n",
        "data.head()"
      ],
      "execution_count": 6,
      "outputs": [
        {
          "output_type": "execute_result",
          "data": {
            "text/html": [
              "<div>\n",
              "<style scoped>\n",
              "    .dataframe tbody tr th:only-of-type {\n",
              "        vertical-align: middle;\n",
              "    }\n",
              "\n",
              "    .dataframe tbody tr th {\n",
              "        vertical-align: top;\n",
              "    }\n",
              "\n",
              "    .dataframe thead th {\n",
              "        text-align: right;\n",
              "    }\n",
              "</style>\n",
              "<table border=\"1\" class=\"dataframe\">\n",
              "  <thead>\n",
              "    <tr style=\"text-align: right;\">\n",
              "      <th></th>\n",
              "      <th>Date</th>\n",
              "      <th>priceUSD</th>\n",
              "      <th>transactions</th>\n",
              "      <th>size</th>\n",
              "      <th>sentbyaddress</th>\n",
              "      <th>difficulty</th>\n",
              "      <th>hashrate</th>\n",
              "      <th>mining_profitability</th>\n",
              "      <th>sentinusdUSD</th>\n",
              "      <th>transactionfeesUSD</th>\n",
              "      <th>median_transaction_feeUSD</th>\n",
              "      <th>confirmationtime</th>\n",
              "      <th>transactionvalueUSD</th>\n",
              "      <th>mediantransactionvalueUSD</th>\n",
              "      <th>activeaddresses</th>\n",
              "      <th>top100cap</th>\n",
              "      <th>fee_to_rewardUSD</th>\n",
              "      <th>transactions3sma</th>\n",
              "      <th>transactions7sma</th>\n",
              "      <th>transactions14sma</th>\n",
              "      <th>transactions30sma</th>\n",
              "      <th>transactions90sma</th>\n",
              "      <th>transactions3ema</th>\n",
              "      <th>transactions7ema</th>\n",
              "      <th>transactions14ema</th>\n",
              "      <th>transactions30ema</th>\n",
              "      <th>transactions90ema</th>\n",
              "      <th>transactions3wma</th>\n",
              "      <th>transactions7wma</th>\n",
              "      <th>transactions14wma</th>\n",
              "      <th>transactions30wma</th>\n",
              "      <th>transactions90wma</th>\n",
              "      <th>transactions3trx</th>\n",
              "      <th>transactions7trx</th>\n",
              "      <th>transactions14trx</th>\n",
              "      <th>transactions30trx</th>\n",
              "      <th>transactions90trx</th>\n",
              "      <th>transactions3mom</th>\n",
              "      <th>transactions7mom</th>\n",
              "      <th>transactions14mom</th>\n",
              "      <th>...</th>\n",
              "      <th>price3emaUSD</th>\n",
              "      <th>price7emaUSD</th>\n",
              "      <th>price14emaUSD</th>\n",
              "      <th>price30emaUSD</th>\n",
              "      <th>price90emaUSD</th>\n",
              "      <th>price3wmaUSD</th>\n",
              "      <th>price7wmaUSD</th>\n",
              "      <th>price14wmaUSD</th>\n",
              "      <th>price30wmaUSD</th>\n",
              "      <th>price90wmaUSD</th>\n",
              "      <th>price3trxUSD</th>\n",
              "      <th>price7trxUSD</th>\n",
              "      <th>price14trxUSD</th>\n",
              "      <th>price30trxUSD</th>\n",
              "      <th>price90trxUSD</th>\n",
              "      <th>price3momUSD</th>\n",
              "      <th>price7momUSD</th>\n",
              "      <th>price14momUSD</th>\n",
              "      <th>price30momUSD</th>\n",
              "      <th>price90momUSD</th>\n",
              "      <th>price3stdUSD</th>\n",
              "      <th>price7stdUSD</th>\n",
              "      <th>price14stdUSD</th>\n",
              "      <th>price30stdUSD</th>\n",
              "      <th>price90stdUSD</th>\n",
              "      <th>price3varUSD</th>\n",
              "      <th>price7varUSD</th>\n",
              "      <th>price14varUSD</th>\n",
              "      <th>price30varUSD</th>\n",
              "      <th>price90varUSD</th>\n",
              "      <th>price3rsiUSD</th>\n",
              "      <th>price7rsiUSD</th>\n",
              "      <th>price14rsiUSD</th>\n",
              "      <th>price30rsiUSD</th>\n",
              "      <th>price90rsiUSD</th>\n",
              "      <th>price3rocUSD</th>\n",
              "      <th>price7rocUSD</th>\n",
              "      <th>price14rocUSD</th>\n",
              "      <th>price30rocUSD</th>\n",
              "      <th>price90rocUSD</th>\n",
              "    </tr>\n",
              "  </thead>\n",
              "  <tbody>\n",
              "    <tr>\n",
              "      <th>0</th>\n",
              "      <td>2010/07/17</td>\n",
              "      <td>0.0495</td>\n",
              "      <td>235</td>\n",
              "      <td>649.653</td>\n",
              "      <td>390</td>\n",
              "      <td>181.543</td>\n",
              "      <td>2.775561e+09</td>\n",
              "      <td>154298.0</td>\n",
              "      <td>1193.0</td>\n",
              "      <td>0.000010</td>\n",
              "      <td>0.0</td>\n",
              "      <td>8.324</td>\n",
              "      <td>2.924</td>\n",
              "      <td>0.248</td>\n",
              "      <td>804</td>\n",
              "      <td>25.749</td>\n",
              "      <td>0.00100</td>\n",
              "      <td>539.000</td>\n",
              "      <td>1396.000</td>\n",
              "      <td>727.714</td>\n",
              "      <td>376.033</td>\n",
              "      <td>156.711</td>\n",
              "      <td>773.895</td>\n",
              "      <td>1046.000</td>\n",
              "      <td>861.552</td>\n",
              "      <td>551.815</td>\n",
              "      <td>252.957</td>\n",
              "      <td>460.500</td>\n",
              "      <td>1331.000</td>\n",
              "      <td>1022.000</td>\n",
              "      <td>602.492</td>\n",
              "      <td>257.572</td>\n",
              "      <td>-12.423</td>\n",
              "      <td>19.663</td>\n",
              "      <td>24.051</td>\n",
              "      <td>9.302</td>\n",
              "      <td>1.791</td>\n",
              "      <td>-5319</td>\n",
              "      <td>193</td>\n",
              "      <td>161</td>\n",
              "      <td>...</td>\n",
              "      <td>0.000</td>\n",
              "      <td>0.0</td>\n",
              "      <td>0.0</td>\n",
              "      <td>0.0</td>\n",
              "      <td>0.0</td>\n",
              "      <td>0.000</td>\n",
              "      <td>0.0</td>\n",
              "      <td>0.0</td>\n",
              "      <td>0.0</td>\n",
              "      <td>0.0</td>\n",
              "      <td>0.0</td>\n",
              "      <td>0.0</td>\n",
              "      <td>0.0</td>\n",
              "      <td>0.0</td>\n",
              "      <td>0.0</td>\n",
              "      <td>0.000</td>\n",
              "      <td>0.0</td>\n",
              "      <td>0.0</td>\n",
              "      <td>0.0</td>\n",
              "      <td>0.0</td>\n",
              "      <td>0.000</td>\n",
              "      <td>0.0</td>\n",
              "      <td>0.0</td>\n",
              "      <td>0.0</td>\n",
              "      <td>0.0</td>\n",
              "      <td>0.0</td>\n",
              "      <td>0.0</td>\n",
              "      <td>0.0</td>\n",
              "      <td>0.0</td>\n",
              "      <td>0.0</td>\n",
              "      <td>0.000</td>\n",
              "      <td>0.0</td>\n",
              "      <td>0.0</td>\n",
              "      <td>0.0</td>\n",
              "      <td>0.0</td>\n",
              "      <td>0.000</td>\n",
              "      <td>0.0</td>\n",
              "      <td>0.0</td>\n",
              "      <td>0.0</td>\n",
              "      <td>0.0</td>\n",
              "    </tr>\n",
              "    <tr>\n",
              "      <th>1</th>\n",
              "      <td>2010/07/18</td>\n",
              "      <td>0.0726</td>\n",
              "      <td>248</td>\n",
              "      <td>765.285</td>\n",
              "      <td>424</td>\n",
              "      <td>181.543</td>\n",
              "      <td>1.554461e+09</td>\n",
              "      <td>401834.0</td>\n",
              "      <td>2620.0</td>\n",
              "      <td>0.000243</td>\n",
              "      <td>0.0</td>\n",
              "      <td>8.372</td>\n",
              "      <td>6.237</td>\n",
              "      <td>0.363</td>\n",
              "      <td>917</td>\n",
              "      <td>25.782</td>\n",
              "      <td>0.01630</td>\n",
              "      <td>386.333</td>\n",
              "      <td>1407.000</td>\n",
              "      <td>741.286</td>\n",
              "      <td>382.867</td>\n",
              "      <td>158.978</td>\n",
              "      <td>510.947</td>\n",
              "      <td>846.444</td>\n",
              "      <td>779.745</td>\n",
              "      <td>532.214</td>\n",
              "      <td>252.849</td>\n",
              "      <td>315.000</td>\n",
              "      <td>1044.000</td>\n",
              "      <td>958.057</td>\n",
              "      <td>594.232</td>\n",
              "      <td>259.578</td>\n",
              "      <td>-19.408</td>\n",
              "      <td>10.904</td>\n",
              "      <td>19.168</td>\n",
              "      <td>9.590</td>\n",
              "      <td>1.942</td>\n",
              "      <td>-458</td>\n",
              "      <td>74</td>\n",
              "      <td>190</td>\n",
              "      <td>...</td>\n",
              "      <td>0.000</td>\n",
              "      <td>0.0</td>\n",
              "      <td>0.0</td>\n",
              "      <td>0.0</td>\n",
              "      <td>0.0</td>\n",
              "      <td>0.000</td>\n",
              "      <td>0.0</td>\n",
              "      <td>0.0</td>\n",
              "      <td>0.0</td>\n",
              "      <td>0.0</td>\n",
              "      <td>0.0</td>\n",
              "      <td>0.0</td>\n",
              "      <td>0.0</td>\n",
              "      <td>0.0</td>\n",
              "      <td>0.0</td>\n",
              "      <td>0.000</td>\n",
              "      <td>0.0</td>\n",
              "      <td>0.0</td>\n",
              "      <td>0.0</td>\n",
              "      <td>0.0</td>\n",
              "      <td>0.000</td>\n",
              "      <td>0.0</td>\n",
              "      <td>0.0</td>\n",
              "      <td>0.0</td>\n",
              "      <td>0.0</td>\n",
              "      <td>0.0</td>\n",
              "      <td>0.0</td>\n",
              "      <td>0.0</td>\n",
              "      <td>0.0</td>\n",
              "      <td>0.0</td>\n",
              "      <td>0.000</td>\n",
              "      <td>0.0</td>\n",
              "      <td>0.0</td>\n",
              "      <td>0.0</td>\n",
              "      <td>0.0</td>\n",
              "      <td>0.000</td>\n",
              "      <td>0.0</td>\n",
              "      <td>0.0</td>\n",
              "      <td>0.0</td>\n",
              "      <td>0.0</td>\n",
              "    </tr>\n",
              "    <tr>\n",
              "      <th>2</th>\n",
              "      <td>2010/07/19</td>\n",
              "      <td>0.0859</td>\n",
              "      <td>354</td>\n",
              "      <td>756.040</td>\n",
              "      <td>553</td>\n",
              "      <td>181.543</td>\n",
              "      <td>1.551287e+09</td>\n",
              "      <td>481473.0</td>\n",
              "      <td>4048.0</td>\n",
              "      <td>0.000022</td>\n",
              "      <td>0.0</td>\n",
              "      <td>8.276</td>\n",
              "      <td>7.666</td>\n",
              "      <td>0.429</td>\n",
              "      <td>972</td>\n",
              "      <td>25.685</td>\n",
              "      <td>0.00154</td>\n",
              "      <td>279.000</td>\n",
              "      <td>1223.000</td>\n",
              "      <td>761.357</td>\n",
              "      <td>392.533</td>\n",
              "      <td>162.489</td>\n",
              "      <td>432.474</td>\n",
              "      <td>723.333</td>\n",
              "      <td>722.979</td>\n",
              "      <td>520.717</td>\n",
              "      <td>255.072</td>\n",
              "      <td>298.833</td>\n",
              "      <td>780.643</td>\n",
              "      <td>906.419</td>\n",
              "      <td>592.370</td>\n",
              "      <td>263.864</td>\n",
              "      <td>-21.422</td>\n",
              "      <td>5.376</td>\n",
              "      <td>15.270</td>\n",
              "      <td>9.526</td>\n",
              "      <td>2.078</td>\n",
              "      <td>-322</td>\n",
              "      <td>-1287</td>\n",
              "      <td>281</td>\n",
              "      <td>...</td>\n",
              "      <td>0.069</td>\n",
              "      <td>0.0</td>\n",
              "      <td>0.0</td>\n",
              "      <td>0.0</td>\n",
              "      <td>0.0</td>\n",
              "      <td>0.075</td>\n",
              "      <td>0.0</td>\n",
              "      <td>0.0</td>\n",
              "      <td>0.0</td>\n",
              "      <td>0.0</td>\n",
              "      <td>0.0</td>\n",
              "      <td>0.0</td>\n",
              "      <td>0.0</td>\n",
              "      <td>0.0</td>\n",
              "      <td>0.0</td>\n",
              "      <td>0.000</td>\n",
              "      <td>0.0</td>\n",
              "      <td>0.0</td>\n",
              "      <td>0.0</td>\n",
              "      <td>0.0</td>\n",
              "      <td>0.030</td>\n",
              "      <td>0.0</td>\n",
              "      <td>0.0</td>\n",
              "      <td>0.0</td>\n",
              "      <td>0.0</td>\n",
              "      <td>0.0</td>\n",
              "      <td>0.0</td>\n",
              "      <td>0.0</td>\n",
              "      <td>0.0</td>\n",
              "      <td>0.0</td>\n",
              "      <td>0.000</td>\n",
              "      <td>0.0</td>\n",
              "      <td>0.0</td>\n",
              "      <td>0.0</td>\n",
              "      <td>0.0</td>\n",
              "      <td>0.000</td>\n",
              "      <td>0.0</td>\n",
              "      <td>0.0</td>\n",
              "      <td>0.0</td>\n",
              "      <td>0.0</td>\n",
              "    </tr>\n",
              "    <tr>\n",
              "      <th>3</th>\n",
              "      <td>2010/07/20</td>\n",
              "      <td>0.0783</td>\n",
              "      <td>413</td>\n",
              "      <td>984.707</td>\n",
              "      <td>632</td>\n",
              "      <td>181.543</td>\n",
              "      <td>1.640430e+09</td>\n",
              "      <td>431831.0</td>\n",
              "      <td>2341.0</td>\n",
              "      <td>0.000000</td>\n",
              "      <td>0.0</td>\n",
              "      <td>7.956</td>\n",
              "      <td>3.940</td>\n",
              "      <td>5.105</td>\n",
              "      <td>906</td>\n",
              "      <td>25.602</td>\n",
              "      <td>0.00000</td>\n",
              "      <td>338.333</td>\n",
              "      <td>1169.000</td>\n",
              "      <td>788.071</td>\n",
              "      <td>404.867</td>\n",
              "      <td>166.722</td>\n",
              "      <td>422.737</td>\n",
              "      <td>645.750</td>\n",
              "      <td>681.649</td>\n",
              "      <td>513.767</td>\n",
              "      <td>258.543</td>\n",
              "      <td>365.833</td>\n",
              "      <td>578.179</td>\n",
              "      <td>859.971</td>\n",
              "      <td>593.690</td>\n",
              "      <td>269.370</td>\n",
              "      <td>-19.876</td>\n",
              "      <td>1.784</td>\n",
              "      <td>12.234</td>\n",
              "      <td>9.253</td>\n",
              "      <td>2.200</td>\n",
              "      <td>178</td>\n",
              "      <td>-374</td>\n",
              "      <td>374</td>\n",
              "      <td>...</td>\n",
              "      <td>0.074</td>\n",
              "      <td>0.0</td>\n",
              "      <td>0.0</td>\n",
              "      <td>0.0</td>\n",
              "      <td>0.0</td>\n",
              "      <td>0.080</td>\n",
              "      <td>0.0</td>\n",
              "      <td>0.0</td>\n",
              "      <td>0.0</td>\n",
              "      <td>0.0</td>\n",
              "      <td>0.0</td>\n",
              "      <td>0.0</td>\n",
              "      <td>0.0</td>\n",
              "      <td>0.0</td>\n",
              "      <td>0.0</td>\n",
              "      <td>0.029</td>\n",
              "      <td>0.0</td>\n",
              "      <td>0.0</td>\n",
              "      <td>0.0</td>\n",
              "      <td>0.0</td>\n",
              "      <td>0.011</td>\n",
              "      <td>0.0</td>\n",
              "      <td>0.0</td>\n",
              "      <td>0.0</td>\n",
              "      <td>0.0</td>\n",
              "      <td>0.0</td>\n",
              "      <td>0.0</td>\n",
              "      <td>0.0</td>\n",
              "      <td>0.0</td>\n",
              "      <td>0.0</td>\n",
              "      <td>82.751</td>\n",
              "      <td>0.0</td>\n",
              "      <td>0.0</td>\n",
              "      <td>0.0</td>\n",
              "      <td>0.0</td>\n",
              "      <td>58.099</td>\n",
              "      <td>0.0</td>\n",
              "      <td>0.0</td>\n",
              "      <td>0.0</td>\n",
              "      <td>0.0</td>\n",
              "    </tr>\n",
              "    <tr>\n",
              "      <th>4</th>\n",
              "      <td>2010/07/21</td>\n",
              "      <td>0.0767</td>\n",
              "      <td>256</td>\n",
              "      <td>542.483</td>\n",
              "      <td>440</td>\n",
              "      <td>181.543</td>\n",
              "      <td>1.723493e+09</td>\n",
              "      <td>460783.0</td>\n",
              "      <td>2122.0</td>\n",
              "      <td>0.000000</td>\n",
              "      <td>0.0</td>\n",
              "      <td>6.957</td>\n",
              "      <td>4.583</td>\n",
              "      <td>3.837</td>\n",
              "      <td>809</td>\n",
              "      <td>25.638</td>\n",
              "      <td>0.00000</td>\n",
              "      <td>341.000</td>\n",
              "      <td>412.571</td>\n",
              "      <td>801.929</td>\n",
              "      <td>410.467</td>\n",
              "      <td>169.122</td>\n",
              "      <td>339.368</td>\n",
              "      <td>548.312</td>\n",
              "      <td>624.895</td>\n",
              "      <td>497.137</td>\n",
              "      <td>258.487</td>\n",
              "      <td>324.667</td>\n",
              "      <td>349.821</td>\n",
              "      <td>789.029</td>\n",
              "      <td>584.086</td>\n",
              "      <td>271.332</td>\n",
              "      <td>-19.239</td>\n",
              "      <td>-0.956</td>\n",
              "      <td>9.728</td>\n",
              "      <td>8.818</td>\n",
              "      <td>2.306</td>\n",
              "      <td>8</td>\n",
              "      <td>-5298</td>\n",
              "      <td>194</td>\n",
              "      <td>...</td>\n",
              "      <td>0.075</td>\n",
              "      <td>0.0</td>\n",
              "      <td>0.0</td>\n",
              "      <td>0.0</td>\n",
              "      <td>0.0</td>\n",
              "      <td>0.079</td>\n",
              "      <td>0.0</td>\n",
              "      <td>0.0</td>\n",
              "      <td>0.0</td>\n",
              "      <td>0.0</td>\n",
              "      <td>0.0</td>\n",
              "      <td>0.0</td>\n",
              "      <td>0.0</td>\n",
              "      <td>0.0</td>\n",
              "      <td>0.0</td>\n",
              "      <td>0.004</td>\n",
              "      <td>0.0</td>\n",
              "      <td>0.0</td>\n",
              "      <td>0.0</td>\n",
              "      <td>0.0</td>\n",
              "      <td>0.008</td>\n",
              "      <td>0.0</td>\n",
              "      <td>0.0</td>\n",
              "      <td>0.0</td>\n",
              "      <td>0.0</td>\n",
              "      <td>0.0</td>\n",
              "      <td>0.0</td>\n",
              "      <td>0.0</td>\n",
              "      <td>0.0</td>\n",
              "      <td>0.0</td>\n",
              "      <td>78.603</td>\n",
              "      <td>0.0</td>\n",
              "      <td>0.0</td>\n",
              "      <td>0.0</td>\n",
              "      <td>0.0</td>\n",
              "      <td>5.652</td>\n",
              "      <td>0.0</td>\n",
              "      <td>0.0</td>\n",
              "      <td>0.0</td>\n",
              "      <td>0.0</td>\n",
              "    </tr>\n",
              "  </tbody>\n",
              "</table>\n",
              "<p>5 rows × 737 columns</p>\n",
              "</div>"
            ],
            "text/plain": [
              "         Date  priceUSD  ...  price30rocUSD  price90rocUSD\n",
              "0  2010/07/17    0.0495  ...            0.0            0.0\n",
              "1  2010/07/18    0.0726  ...            0.0            0.0\n",
              "2  2010/07/19    0.0859  ...            0.0            0.0\n",
              "3  2010/07/20    0.0783  ...            0.0            0.0\n",
              "4  2010/07/21    0.0767  ...            0.0            0.0\n",
              "\n",
              "[5 rows x 737 columns]"
            ]
          },
          "metadata": {
            "tags": []
          },
          "execution_count": 6
        }
      ]
    },
    {
      "cell_type": "code",
      "metadata": {
        "colab": {
          "base_uri": "https://localhost:8080/",
          "height": 266
        },
        "id": "JNh3MusZiE89",
        "outputId": "e7cd4e1e-7068-4b84-ccef-5efd577665a8"
      },
      "source": [
        "p1=data[:int(len(data)/4)]['priceUSD']\n",
        "p2=data[int(len(data)/4):int(2*len(data)/4)]['priceUSD']\n",
        "p3=data[int(2*len(data)/4):int(3*len(data)/4)]['priceUSD']\n",
        "p4=data[int(3*len(data)/4):int(4*len(data)/4)]['priceUSD']\n",
        "plt.boxplot([p1,p2,p3,p4])\n",
        "plt.ylabel('priceUSD')\n",
        "plt.show()"
      ],
      "execution_count": 7,
      "outputs": [
        {
          "output_type": "display_data",
          "data": {
            "image/png": "[encoded data removed]",
            "text/plain": [
              "<Figure size 432x288 with 1 Axes>"
            ]
          },
          "metadata": {
            "tags": [],
            "needs_background": "light"
          }
        }
      ]
    },
    {
      "cell_type": "markdown",
      "metadata": {
        "id": "4olvCsG0yO3J"
      },
      "source": [
        "Removing features with lower impact.\n",
        "\n",
        "Reference:\n",
        "https://machinelearningmastery.com/feature-selection-with-real-and-categorical-data/"
      ]
    },
    {
      "cell_type": "markdown",
      "metadata": {
        "id": "5XCmm-6o6K8y"
      },
      "source": [
        "Adjusting Data According to the Model"
      ]
    },
    {
      "cell_type": "markdown",
      "metadata": {
        "id": "-IT2IX_G6PBQ"
      },
      "source": [
        "For End of day"
      ]
    },
    {
      "cell_type": "code",
      "metadata": {
        "id": "Jc-jHQiU6OBG"
      },
      "source": [
        "# No Need of Adjustment"
      ],
      "execution_count": 8,
      "outputs": []
    },
    {
      "cell_type": "markdown",
      "metadata": {
        "id": "q3Um39uv3ezX"
      },
      "source": [
        "Method 1\n",
        "\n",
        "Using RFE with Pearson correlation:\n",
        "\n",
        "RFE splits the data and runs many models with different subsets of input features and select those features that result in the best performing model according to a performance metric."
      ]
    },
    {
      "cell_type": "code",
      "metadata": {
        "id": "R_PkdlF8HjU9"
      },
      "source": [
        "tscv= TimeSeriesSplit(n_splits=5)\n",
        "for train_index, test_index in tscv.split(data):\n",
        "  x_train, x_test = data.iloc[train_index], data.iloc[test_index]\n",
        "x_train=x_train.sample(frac = 1)"
      ],
      "execution_count": 8,
      "outputs": []
    },
    {
      "cell_type": "code",
      "metadata": {
        "colab": {
          "base_uri": "https://localhost:8080/",
          "height": 282
        },
        "id": "9lyRb-uNrFuB",
        "outputId": "2ffbc2a1-79f3-4215-98cf-009429897ece"
      },
      "source": [
        "plt.plot(x_test['priceUSD'])"
      ],
      "execution_count": 9,
      "outputs": [
        {
          "output_type": "execute_result",
          "data": {
            "text/plain": [
              "[<matplotlib.lines.Line2D at 0x7f54bcb7f190>]"
            ]
          },
          "metadata": {
            "tags": []
          },
          "execution_count": 9
        },
        {
          "output_type": "display_data",
          "data": {
            "image/png": "[encoded data removed]",
            "text/plain": [
              "<Figure size 432x288 with 1 Axes>"
            ]
          },
          "metadata": {
            "tags": [],
            "needs_background": "light"
          }
        }
      ]
    },
    {
      "cell_type": "code",
      "metadata": {
        "id": "AAAxJt2S3cQl"
      },
      "source": [
        "estimator= SVR(kernel=\"linear\")\n",
        "selector = RFE(estimator)\n",
        "selector = selector.fit(x_train.drop(['Date','priceUSD'],axis=1),x_train['priceUSD'])\n",
        "Features = selector.support_"
      ],
      "execution_count": 10,
      "outputs": []
    },
    {
      "cell_type": "code",
      "metadata": {
        "id": "KMwReQVZJpXp"
      },
      "source": [
        "y_test = x_test['priceUSD']\n",
        "x_test = x_test.drop(['Date','priceUSD'],axis=1)[x_test.drop(['Date','priceUSD'],axis=1).columns[Features]]"
      ],
      "execution_count": 11,
      "outputs": []
    },
    {
      "cell_type": "code",
      "metadata": {
        "colab": {
          "base_uri": "https://localhost:8080/"
        },
        "id": "5VeIIysegkMI",
        "outputId": "71fbc007-68d0-4bd3-b9a1-7b5ff2b22d20"
      },
      "source": [
        "x_train.shape"
      ],
      "execution_count": 12,
      "outputs": [
        {
          "output_type": "execute_result",
          "data": {
            "text/plain": [
              "(2907, 737)"
            ]
          },
          "metadata": {
            "tags": []
          },
          "execution_count": 12
        }
      ]
    },
    {
      "cell_type": "code",
      "metadata": {
        "id": "LPaGtIoFLRsO"
      },
      "source": [
        "x_train, x_cv, y_train, y_cv = train_test_split(x_train.drop(['Date','priceUSD'],axis=1)[x_train.drop(['Date','priceUSD'],axis=1).columns[Features]], x_train['priceUSD'], test_size=0.16, random_state=42)"
      ],
      "execution_count": 13,
      "outputs": []
    },
    {
      "cell_type": "code",
      "metadata": {
        "id": "dHGuXTEcR0Bs"
      },
      "source": [
        "sp      = SelectPercentile(f_regression).fit(x_train, y_train)\n",
        "x_train = sp.transform(x_train)\n",
        "x_cv = sp.transform(x_cv)\n",
        "x_test = sp.transform(x_test)"
      ],
      "execution_count": 14,
      "outputs": []
    },
    {
      "cell_type": "code",
      "metadata": {
        "colab": {
          "base_uri": "https://localhost:8080/"
        },
        "id": "r6_uo7R_tG-i",
        "outputId": "9872d1ee-870e-4d8d-d5c8-83aa926a1a29"
      },
      "source": [
        "x_train.shape"
      ],
      "execution_count": 15,
      "outputs": [
        {
          "output_type": "execute_result",
          "data": {
            "text/plain": [
              "(2441, 37)"
            ]
          },
          "metadata": {
            "tags": []
          },
          "execution_count": 15
        }
      ]
    },
    {
      "cell_type": "code",
      "metadata": {
        "id": "Vva4RUuFO07w"
      },
      "source": [
        "scaler = MinMaxScaler(feature_range=(0, 1)).fit(x_train)\n",
        "x_train = scaler.transform(x_train)\n",
        "x_cv = scaler.transform(x_cv)\n",
        "x_test = scaler.transform(x_test)"
      ],
      "execution_count": 16,
      "outputs": []
    },
    {
      "cell_type": "code",
      "metadata": {
        "colab": {
          "base_uri": "https://localhost:8080/",
          "height": 1000
        },
        "id": "cO64YDfqtwCK",
        "outputId": "98737ecb-b403-4767-dae0-bee2e6061f2f"
      },
      "source": [
        "input_path1= Input(shape=(1,37))\n",
        "lstm_output, lstm_state_h, lstm_state_c =LSTM(6,return_sequences=True,return_state=True)(input_path1)\n",
        "Flatten1=Flatten()(lstm_output)\n",
        "Dense1=Dense(10,activation='relu',kernel_initializer='he_uniform')(Flatten1)\n",
        "Dense2=Dense(5,activation='relu',kernel_initializer='he_uniform')(Dense1)\n",
        "Dense3=Dense(3,activation='relu',kernel_initializer='he_uniform')(Dense2)\n",
        "Dense4=Dense(1,activation='linear',kernel_initializer='he_uniform')(Dense3)\n",
        "model= Model(inputs=input_path1,outputs=Dense4)\n",
        "model.summary()\n",
        "dot_img_file = '/tmp/model_1.png'\n",
        "tf.keras.utils.plot_model(model, to_file=dot_img_file, show_shapes=True)"
      ],
      "execution_count": 19,
      "outputs": [
        {
          "output_type": "stream",
          "text": [
            "Model: \"model_2\"\n",
            "_________________________________________________________________\n",
            "Layer (type)                 Output Shape              Param #   \n",
            "=================================================================\n",
            "input_3 (InputLayer)         [(None, 1, 37)]           0         \n",
            "_________________________________________________________________\n",
            "lstm_2 (LSTM)                [(None, 1, 6), (None, 6), 1056      \n",
            "_________________________________________________________________\n",
            "flatten_2 (Flatten)          (None, 6)                 0         \n",
            "_________________________________________________________________\n",
            "dense_8 (Dense)              (None, 10)                70        \n",
            "_________________________________________________________________\n",
            "dense_9 (Dense)              (None, 5)                 55        \n",
            "_________________________________________________________________\n",
            "dense_10 (Dense)             (None, 3)                 18        \n",
            "_________________________________________________________________\n",
            "dense_11 (Dense)             (None, 1)                 4         \n",
            "=================================================================\n",
            "Total params: 1,203\n",
            "Trainable params: 1,203\n",
            "Non-trainable params: 0\n",
            "_________________________________________________________________\n"
          ],
          "name": "stdout"
        },
        {
          "output_type": "execute_result",
          "data": {
            "image/png": "[encoded data removed]",
            "text/plain": [
              "<IPython.core.display.Image object>"
            ]
          },
          "metadata": {
            "tags": []
          },
          "execution_count": 19
        }
      ]
    },
    {
      "cell_type": "code",
      "metadata": {
        "id": "PUMZvXQat2FK"
      },
      "source": [
        "input_path1= Input(shape=(37))\n",
        "Dense1=Dense(10,activation='relu',kernel_initializer='he_uniform')(input_path1)\n",
        "Dense2=Dense(5,activation='relu',kernel_initializer='he_uniform')(Dense1)\n",
        "Dense3=Dense(3,activation='relu',kernel_initializer='he_uniform')(Dense2)\n",
        "Dense4=Dense(1,activation='linear',kernel_initializer='he_uniform')(Dense3)\n",
        "model= Model(inputs=input_path1,outputs=Dense4)\n",
        "model.summary()\n",
        "dot_img_file = '/tmp/model_1.png'\n",
        "tf.keras.utils.plot_model(model, to_file=dot_img_file, show_shapes=True)"
      ],
      "execution_count": null,
      "outputs": []
    },
    {
      "cell_type": "code",
      "metadata": {
        "id": "CssYsZuO3nV_"
      },
      "source": [
        "opt=tf.keras.optimizers.Adam(learning_rate=0.1)\n",
        "model.compile(loss='mean_squared_error',optimizer=opt,metrics=['mean_squared_error'])\n",
        "logdir = \"logs/fit/\" + datetime.now().strftime(\"%Y%m%d-%H%M%S\")"
      ],
      "execution_count": 20,
      "outputs": []
    },
    {
      "cell_type": "code",
      "metadata": {
        "colab": {
          "base_uri": "https://localhost:8080/"
        },
        "id": "SyaDLt4g4Sek",
        "outputId": "5b871d22-91c4-4250-d194-88e1c60d893a"
      },
      "source": [
        "tensorboard_callback = keras.callbacks.TensorBoard(log_dir=logdir)\n",
        "model.fit(x_train.reshape((x_train.shape[0],1,37)),y_train,validation_data=(x_cv.reshape((x_cv.shape[0],1,37)),y_cv),batch_size=100,epochs=500,callbacks=tensorboard_callback)"
      ],
      "execution_count": 26,
      "outputs": [
        {
          "output_type": "stream",
          "text": [
            "Epoch 1/500\n",
            "25/25 [==============================] - 0s 9ms/step - loss: 63363.4883 - mean_squared_error: 63363.4883 - val_loss: 77518.1094 - val_mean_squared_error: 77518.1094\n",
            "Epoch 2/500\n",
            "25/25 [==============================] - 0s 3ms/step - loss: 70429.6953 - mean_squared_error: 70429.6953 - val_loss: 56101.5508 - val_mean_squared_error: 56101.5508\n",
            "Epoch 3/500\n",
            "25/25 [==============================] - 0s 3ms/step - loss: 49129.1172 - mean_squared_error: 49129.1094 - val_loss: 64566.8320 - val_mean_squared_error: 64566.8320\n",
            "Epoch 4/500\n",
            "25/25 [==============================] - 0s 3ms/step - loss: 44136.8398 - mean_squared_error: 44136.8398 - val_loss: 65389.8516 - val_mean_squared_error: 65389.8516\n",
            "Epoch 5/500\n",
            "25/25 [==============================] - 0s 3ms/step - loss: 41814.0781 - mean_squared_error: 41814.0781 - val_loss: 60040.9844 - val_mean_squared_error: 60040.9844\n",
            "Epoch 6/500\n",
            "25/25 [==============================] - 0s 3ms/step - loss: 62339.7812 - mean_squared_error: 62339.7812 - val_loss: 50212.3945 - val_mean_squared_error: 50212.3945\n",
            "Epoch 7/500\n",
            "25/25 [==============================] - 0s 3ms/step - loss: 43223.9258 - mean_squared_error: 43223.9258 - val_loss: 40270.4102 - val_mean_squared_error: 40270.4180\n",
            "Epoch 8/500\n",
            "25/25 [==============================] - 0s 3ms/step - loss: 71257.5391 - mean_squared_error: 71257.5469 - val_loss: 93431.9219 - val_mean_squared_error: 93431.9219\n",
            "Epoch 9/500\n",
            "25/25 [==============================] - 0s 4ms/step - loss: 56017.4297 - mean_squared_error: 56017.4297 - val_loss: 36882.3750 - val_mean_squared_error: 36882.3750\n",
            "Epoch 10/500\n",
            "25/25 [==============================] - 0s 3ms/step - loss: 21593.4746 - mean_squared_error: 21593.4746 - val_loss: 29718.7344 - val_mean_squared_error: 29718.7324\n",
            "Epoch 11/500\n",
            "25/25 [==============================] - 0s 3ms/step - loss: 34410.2812 - mean_squared_error: 34410.2812 - val_loss: 9311.1348 - val_mean_squared_error: 9311.1367\n",
            "Epoch 12/500\n",
            "25/25 [==============================] - 0s 3ms/step - loss: 40871.5781 - mean_squared_error: 40871.5781 - val_loss: 11739.4150 - val_mean_squared_error: 11739.4150\n",
            "Epoch 13/500\n",
            "25/25 [==============================] - 0s 3ms/step - loss: 22335.5918 - mean_squared_error: 22335.5918 - val_loss: 14339.7852 - val_mean_squared_error: 14339.7852\n",
            "Epoch 14/500\n",
            "25/25 [==============================] - 0s 3ms/step - loss: 39455.8438 - mean_squared_error: 39455.8438 - val_loss: 9880.4199 - val_mean_squared_error: 9880.4199\n",
            "Epoch 15/500\n",
            "25/25 [==============================] - 0s 4ms/step - loss: 19293.7148 - mean_squared_error: 19293.7148 - val_loss: 11357.6318 - val_mean_squared_error: 11357.6318\n",
            "Epoch 16/500\n",
            "25/25 [==============================] - 0s 3ms/step - loss: 14242.9102 - mean_squared_error: 14242.9102 - val_loss: 16016.2529 - val_mean_squared_error: 16016.2529\n",
            "Epoch 17/500\n",
            "25/25 [==============================] - 0s 3ms/step - loss: 19666.3555 - mean_squared_error: 19666.3555 - val_loss: 17536.9961 - val_mean_squared_error: 17536.9961\n",
            "Epoch 18/500\n",
            "25/25 [==============================] - 0s 3ms/step - loss: 20516.3242 - mean_squared_error: 20516.3242 - val_loss: 25909.3945 - val_mean_squared_error: 25909.3945\n",
            "Epoch 19/500\n",
            "25/25 [==============================] - 0s 3ms/step - loss: 21140.2910 - mean_squared_error: 21140.2910 - val_loss: 9203.5068 - val_mean_squared_error: 9203.5068\n",
            "Epoch 20/500\n",
            "25/25 [==============================] - 0s 3ms/step - loss: 25995.7188 - mean_squared_error: 25995.7188 - val_loss: 20729.4395 - val_mean_squared_error: 20729.4395\n",
            "Epoch 21/500\n",
            "25/25 [==============================] - 0s 3ms/step - loss: 19618.4336 - mean_squared_error: 19618.4336 - val_loss: 23963.0352 - val_mean_squared_error: 23963.0352\n",
            "Epoch 22/500\n",
            "25/25 [==============================] - 0s 3ms/step - loss: 47071.8438 - mean_squared_error: 47071.8438 - val_loss: 57943.0195 - val_mean_squared_error: 57943.0195\n",
            "Epoch 23/500\n",
            "25/25 [==============================] - 0s 3ms/step - loss: 73139.1016 - mean_squared_error: 73139.0938 - val_loss: 31137.4160 - val_mean_squared_error: 31137.4141\n",
            "Epoch 24/500\n",
            "25/25 [==============================] - 0s 3ms/step - loss: 82427.5781 - mean_squared_error: 82427.5781 - val_loss: 112658.6641 - val_mean_squared_error: 112658.6641\n",
            "Epoch 25/500\n",
            "25/25 [==============================] - 0s 3ms/step - loss: 117927.4688 - mean_squared_error: 117927.4688 - val_loss: 211487.9688 - val_mean_squared_error: 211487.9688\n",
            "Epoch 26/500\n",
            "25/25 [==============================] - 0s 4ms/step - loss: 148239.6875 - mean_squared_error: 148239.6875 - val_loss: 185536.4062 - val_mean_squared_error: 185536.4219\n",
            "Epoch 27/500\n",
            "25/25 [==============================] - 0s 3ms/step - loss: 81701.2188 - mean_squared_error: 81701.2188 - val_loss: 34241.0469 - val_mean_squared_error: 34241.0469\n",
            "Epoch 28/500\n",
            "25/25 [==============================] - 0s 3ms/step - loss: 26517.0371 - mean_squared_error: 26517.0371 - val_loss: 32453.8965 - val_mean_squared_error: 32453.8965\n",
            "Epoch 29/500\n",
            "25/25 [==============================] - 0s 3ms/step - loss: 40469.4844 - mean_squared_error: 40469.4844 - val_loss: 73683.8203 - val_mean_squared_error: 73683.8203\n",
            "Epoch 30/500\n",
            "25/25 [==============================] - 0s 3ms/step - loss: 33738.8125 - mean_squared_error: 33738.8125 - val_loss: 15258.7861 - val_mean_squared_error: 15258.7861\n",
            "Epoch 31/500\n",
            "25/25 [==============================] - 0s 3ms/step - loss: 21830.9570 - mean_squared_error: 21830.9570 - val_loss: 20754.0566 - val_mean_squared_error: 20754.0566\n",
            "Epoch 32/500\n",
            "25/25 [==============================] - 0s 3ms/step - loss: 63634.5898 - mean_squared_error: 63634.5898 - val_loss: 40049.9453 - val_mean_squared_error: 40049.9453\n",
            "Epoch 33/500\n",
            "25/25 [==============================] - 0s 4ms/step - loss: 24230.7832 - mean_squared_error: 24230.7832 - val_loss: 34013.4258 - val_mean_squared_error: 34013.4258\n",
            "Epoch 34/500\n",
            "25/25 [==============================] - 0s 3ms/step - loss: 32496.6230 - mean_squared_error: 32496.6230 - val_loss: 28847.6367 - val_mean_squared_error: 28847.6367\n",
            "Epoch 35/500\n",
            "25/25 [==============================] - 0s 3ms/step - loss: 29431.9648 - mean_squared_error: 29431.9648 - val_loss: 13331.8232 - val_mean_squared_error: 13331.8232\n",
            "Epoch 36/500\n",
            "25/25 [==============================] - 0s 3ms/step - loss: 25048.4727 - mean_squared_error: 25048.4727 - val_loss: 7272.0249 - val_mean_squared_error: 7272.0249\n",
            "Epoch 37/500\n",
            "25/25 [==============================] - 0s 3ms/step - loss: 18174.2734 - mean_squared_error: 18174.2734 - val_loss: 25192.7793 - val_mean_squared_error: 25192.7793\n",
            "Epoch 38/500\n",
            "25/25 [==============================] - 0s 3ms/step - loss: 18031.9668 - mean_squared_error: 18031.9668 - val_loss: 29262.3301 - val_mean_squared_error: 29262.3301\n",
            "Epoch 39/500\n",
            "25/25 [==============================] - 0s 3ms/step - loss: 20017.9375 - mean_squared_error: 20017.9375 - val_loss: 25989.0918 - val_mean_squared_error: 25989.0918\n",
            "Epoch 40/500\n",
            "25/25 [==============================] - 0s 3ms/step - loss: 15883.9014 - mean_squared_error: 15883.9014 - val_loss: 21646.6602 - val_mean_squared_error: 21646.6602\n",
            "Epoch 41/500\n",
            "25/25 [==============================] - 0s 3ms/step - loss: 18947.4902 - mean_squared_error: 18947.4902 - val_loss: 20694.5410 - val_mean_squared_error: 20694.5410\n",
            "Epoch 42/500\n",
            "25/25 [==============================] - 0s 3ms/step - loss: 21409.9062 - mean_squared_error: 21409.9062 - val_loss: 28548.4160 - val_mean_squared_error: 28548.4160\n",
            "Epoch 43/500\n",
            "25/25 [==============================] - 0s 3ms/step - loss: 17140.3770 - mean_squared_error: 17140.3770 - val_loss: 15360.1680 - val_mean_squared_error: 15360.1680\n",
            "Epoch 44/500\n",
            "25/25 [==============================] - 0s 4ms/step - loss: 16705.1914 - mean_squared_error: 16705.1914 - val_loss: 27173.2129 - val_mean_squared_error: 27173.2148\n",
            "Epoch 45/500\n",
            "25/25 [==============================] - 0s 3ms/step - loss: 23554.1562 - mean_squared_error: 23554.1562 - val_loss: 9927.8809 - val_mean_squared_error: 9927.8809\n",
            "Epoch 46/500\n",
            "25/25 [==============================] - 0s 3ms/step - loss: 52774.2188 - mean_squared_error: 52774.2188 - val_loss: 41937.1406 - val_mean_squared_error: 41937.1406\n",
            "Epoch 47/500\n",
            "25/25 [==============================] - 0s 3ms/step - loss: 155642.5781 - mean_squared_error: 155642.5781 - val_loss: 367017.3438 - val_mean_squared_error: 367017.3438\n",
            "Epoch 48/500\n",
            "25/25 [==============================] - 0s 3ms/step - loss: 471599.9375 - mean_squared_error: 471599.9688 - val_loss: 1326186.7500 - val_mean_squared_error: 1326186.7500\n",
            "Epoch 49/500\n",
            "25/25 [==============================] - 0s 3ms/step - loss: 472113.0312 - mean_squared_error: 472113.0312 - val_loss: 305268.7188 - val_mean_squared_error: 305268.7188\n",
            "Epoch 50/500\n",
            "25/25 [==============================] - 0s 4ms/step - loss: 150321.7812 - mean_squared_error: 150321.7812 - val_loss: 172830.3125 - val_mean_squared_error: 172830.3125\n",
            "Epoch 51/500\n",
            "25/25 [==============================] - 0s 4ms/step - loss: 119748.4297 - mean_squared_error: 119748.4297 - val_loss: 125154.2969 - val_mean_squared_error: 125154.2891\n",
            "Epoch 52/500\n",
            "25/25 [==============================] - 0s 3ms/step - loss: 84376.7109 - mean_squared_error: 84376.7109 - val_loss: 61875.0156 - val_mean_squared_error: 61875.0156\n",
            "Epoch 53/500\n",
            "25/25 [==============================] - 0s 3ms/step - loss: 70059.3203 - mean_squared_error: 70059.3203 - val_loss: 151113.0938 - val_mean_squared_error: 151113.0938\n",
            "Epoch 54/500\n",
            "25/25 [==============================] - 0s 3ms/step - loss: 105993.5703 - mean_squared_error: 105993.5703 - val_loss: 375456.6250 - val_mean_squared_error: 375456.5938\n",
            "Epoch 55/500\n",
            "25/25 [==============================] - 0s 3ms/step - loss: 215573.2969 - mean_squared_error: 215573.2969 - val_loss: 201447.3750 - val_mean_squared_error: 201447.3750\n",
            "Epoch 56/500\n",
            "25/25 [==============================] - 0s 3ms/step - loss: 173348.7188 - mean_squared_error: 173348.7188 - val_loss: 88596.6562 - val_mean_squared_error: 88596.6562\n",
            "Epoch 57/500\n",
            "25/25 [==============================] - 0s 3ms/step - loss: 75259.3438 - mean_squared_error: 75259.3438 - val_loss: 87243.2031 - val_mean_squared_error: 87243.2031\n",
            "Epoch 58/500\n",
            "25/25 [==============================] - 0s 4ms/step - loss: 80785.6641 - mean_squared_error: 80785.6641 - val_loss: 58130.1055 - val_mean_squared_error: 58130.1055\n",
            "Epoch 59/500\n",
            "25/25 [==============================] - 0s 4ms/step - loss: 65725.1094 - mean_squared_error: 65725.1094 - val_loss: 97936.7500 - val_mean_squared_error: 97936.7500\n",
            "Epoch 60/500\n",
            "25/25 [==============================] - 0s 4ms/step - loss: 66261.4766 - mean_squared_error: 66261.4766 - val_loss: 70303.4141 - val_mean_squared_error: 70303.4141\n",
            "Epoch 61/500\n",
            "25/25 [==============================] - 0s 3ms/step - loss: 46089.8320 - mean_squared_error: 46089.8320 - val_loss: 38825.5508 - val_mean_squared_error: 38825.5469\n",
            "Epoch 62/500\n",
            "25/25 [==============================] - 0s 3ms/step - loss: 51554.3516 - mean_squared_error: 51554.3516 - val_loss: 55546.2344 - val_mean_squared_error: 55546.2344\n",
            "Epoch 63/500\n",
            "25/25 [==============================] - 0s 3ms/step - loss: 83458.7266 - mean_squared_error: 83458.7266 - val_loss: 58962.6836 - val_mean_squared_error: 58962.6875\n",
            "Epoch 64/500\n",
            "25/25 [==============================] - 0s 3ms/step - loss: 58371.8203 - mean_squared_error: 58371.8203 - val_loss: 54673.7227 - val_mean_squared_error: 54673.7227\n",
            "Epoch 65/500\n",
            "25/25 [==============================] - 0s 3ms/step - loss: 48926.6445 - mean_squared_error: 48926.6445 - val_loss: 64347.7109 - val_mean_squared_error: 64347.7109\n",
            "Epoch 66/500\n",
            "25/25 [==============================] - 0s 4ms/step - loss: 34421.8555 - mean_squared_error: 34421.8555 - val_loss: 37742.5078 - val_mean_squared_error: 37742.5078\n",
            "Epoch 67/500\n",
            "25/25 [==============================] - 0s 3ms/step - loss: 39439.8086 - mean_squared_error: 39439.8086 - val_loss: 53122.7891 - val_mean_squared_error: 53122.7891\n",
            "Epoch 68/500\n",
            "25/25 [==============================] - 0s 3ms/step - loss: 35365.1445 - mean_squared_error: 35365.1445 - val_loss: 54722.2852 - val_mean_squared_error: 54722.2852\n",
            "Epoch 69/500\n",
            "25/25 [==============================] - 0s 3ms/step - loss: 262616.5312 - mean_squared_error: 262616.5938 - val_loss: 187817.7656 - val_mean_squared_error: 187817.7656\n",
            "Epoch 70/500\n",
            "25/25 [==============================] - 0s 3ms/step - loss: 91906.8672 - mean_squared_error: 91906.8672 - val_loss: 82619.9297 - val_mean_squared_error: 82619.9297\n",
            "Epoch 71/500\n",
            "25/25 [==============================] - 0s 4ms/step - loss: 104153.3125 - mean_squared_error: 104153.3125 - val_loss: 88102.8359 - val_mean_squared_error: 88102.8359\n",
            "Epoch 72/500\n",
            "25/25 [==============================] - 0s 3ms/step - loss: 52813.6953 - mean_squared_error: 52813.6953 - val_loss: 40518.6836 - val_mean_squared_error: 40518.6836\n",
            "Epoch 73/500\n",
            "25/25 [==============================] - 0s 3ms/step - loss: 46047.3242 - mean_squared_error: 46047.3242 - val_loss: 68568.1094 - val_mean_squared_error: 68568.1094\n",
            "Epoch 74/500\n",
            "25/25 [==============================] - 0s 3ms/step - loss: 34320.1328 - mean_squared_error: 34320.1328 - val_loss: 41774.5352 - val_mean_squared_error: 41774.5352\n",
            "Epoch 75/500\n",
            "25/25 [==============================] - 0s 3ms/step - loss: 34720.1914 - mean_squared_error: 34720.1914 - val_loss: 41322.4453 - val_mean_squared_error: 41322.4453\n",
            "Epoch 76/500\n",
            "25/25 [==============================] - 0s 3ms/step - loss: 36471.2695 - mean_squared_error: 36471.2656 - val_loss: 47734.4297 - val_mean_squared_error: 47734.4297\n",
            "Epoch 77/500\n",
            "25/25 [==============================] - 0s 3ms/step - loss: 42164.2617 - mean_squared_error: 42164.2617 - val_loss: 37761.2695 - val_mean_squared_error: 37761.2695\n",
            "Epoch 78/500\n",
            "25/25 [==============================] - 0s 4ms/step - loss: 48626.3320 - mean_squared_error: 48626.3320 - val_loss: 71456.9219 - val_mean_squared_error: 71456.9219\n",
            "Epoch 79/500\n",
            "25/25 [==============================] - 0s 4ms/step - loss: 66536.0078 - mean_squared_error: 66536.0078 - val_loss: 69351.7031 - val_mean_squared_error: 69351.7031\n",
            "Epoch 80/500\n",
            "25/25 [==============================] - 0s 3ms/step - loss: 57330.9609 - mean_squared_error: 57330.9609 - val_loss: 60224.4922 - val_mean_squared_error: 60224.4922\n",
            "Epoch 81/500\n",
            "25/25 [==============================] - 0s 3ms/step - loss: 38151.1250 - mean_squared_error: 38151.1250 - val_loss: 37085.9570 - val_mean_squared_error: 37085.9570\n",
            "Epoch 82/500\n",
            "25/25 [==============================] - 0s 4ms/step - loss: 61134.9375 - mean_squared_error: 61134.9375 - val_loss: 136479.1875 - val_mean_squared_error: 136479.1875\n",
            "Epoch 83/500\n",
            "25/25 [==============================] - 0s 4ms/step - loss: 53013.9727 - mean_squared_error: 53013.9727 - val_loss: 58087.4219 - val_mean_squared_error: 58087.4180\n",
            "Epoch 84/500\n",
            "25/25 [==============================] - 0s 4ms/step - loss: 46018.0898 - mean_squared_error: 46018.0898 - val_loss: 43684.5117 - val_mean_squared_error: 43684.5117\n",
            "Epoch 85/500\n",
            "25/25 [==============================] - 0s 4ms/step - loss: 37032.3359 - mean_squared_error: 37032.3359 - val_loss: 106717.0234 - val_mean_squared_error: 106717.0234\n",
            "Epoch 86/500\n",
            "25/25 [==============================] - 0s 3ms/step - loss: 83204.9219 - mean_squared_error: 83204.9219 - val_loss: 94705.5859 - val_mean_squared_error: 94705.5859\n",
            "Epoch 87/500\n",
            "25/25 [==============================] - 0s 3ms/step - loss: 63730.0703 - mean_squared_error: 63730.0703 - val_loss: 88353.1641 - val_mean_squared_error: 88353.1641\n",
            "Epoch 88/500\n",
            "25/25 [==============================] - 0s 3ms/step - loss: 68935.6953 - mean_squared_error: 68935.6953 - val_loss: 101185.5859 - val_mean_squared_error: 101185.5859\n",
            "Epoch 89/500\n",
            "25/25 [==============================] - 0s 3ms/step - loss: 44056.2148 - mean_squared_error: 44056.2148 - val_loss: 23214.4570 - val_mean_squared_error: 23214.4570\n",
            "Epoch 90/500\n",
            "25/25 [==============================] - 0s 3ms/step - loss: 32348.7754 - mean_squared_error: 32348.7754 - val_loss: 30253.8008 - val_mean_squared_error: 30253.8008\n",
            "Epoch 91/500\n",
            "25/25 [==============================] - 0s 3ms/step - loss: 37587.3828 - mean_squared_error: 37587.3828 - val_loss: 33360.5820 - val_mean_squared_error: 33360.5820\n",
            "Epoch 92/500\n",
            "25/25 [==============================] - 0s 3ms/step - loss: 35193.3945 - mean_squared_error: 35193.3945 - val_loss: 17195.1836 - val_mean_squared_error: 17195.1836\n",
            "Epoch 93/500\n",
            "25/25 [==============================] - 0s 3ms/step - loss: 27413.4121 - mean_squared_error: 27413.4121 - val_loss: 19596.6289 - val_mean_squared_error: 19596.6289\n",
            "Epoch 94/500\n",
            "25/25 [==============================] - 0s 3ms/step - loss: 51140.7070 - mean_squared_error: 51140.7109 - val_loss: 31127.7539 - val_mean_squared_error: 31127.7539\n",
            "Epoch 95/500\n",
            "25/25 [==============================] - 0s 3ms/step - loss: 59910.4180 - mean_squared_error: 59910.4180 - val_loss: 23955.4805 - val_mean_squared_error: 23955.4805\n",
            "Epoch 96/500\n",
            "25/25 [==============================] - 0s 4ms/step - loss: 35815.2500 - mean_squared_error: 35815.2500 - val_loss: 53561.0586 - val_mean_squared_error: 53561.0586\n",
            "Epoch 97/500\n",
            "25/25 [==============================] - 0s 3ms/step - loss: 24603.4258 - mean_squared_error: 24603.4258 - val_loss: 24686.1738 - val_mean_squared_error: 24686.1738\n",
            "Epoch 98/500\n",
            "25/25 [==============================] - 0s 3ms/step - loss: 26836.9570 - mean_squared_error: 26836.9570 - val_loss: 38595.7734 - val_mean_squared_error: 38595.7734\n",
            "Epoch 99/500\n",
            "25/25 [==============================] - 0s 3ms/step - loss: 25700.6816 - mean_squared_error: 25700.6816 - val_loss: 15251.2197 - val_mean_squared_error: 15251.2197\n",
            "Epoch 100/500\n",
            "25/25 [==============================] - 0s 4ms/step - loss: 28677.2871 - mean_squared_error: 28677.2871 - val_loss: 152970.0781 - val_mean_squared_error: 152970.0781\n",
            "Epoch 101/500\n",
            "25/25 [==============================] - 0s 4ms/step - loss: 57150.5977 - mean_squared_error: 57150.5977 - val_loss: 61765.7109 - val_mean_squared_error: 61765.7109\n",
            "Epoch 102/500\n",
            "25/25 [==============================] - 0s 3ms/step - loss: 92555.7734 - mean_squared_error: 92555.7656 - val_loss: 95152.7812 - val_mean_squared_error: 95152.7812\n",
            "Epoch 103/500\n",
            "25/25 [==============================] - 0s 3ms/step - loss: 46262.6680 - mean_squared_error: 46262.6680 - val_loss: 21025.2969 - val_mean_squared_error: 21025.2969\n",
            "Epoch 104/500\n",
            "25/25 [==============================] - 0s 3ms/step - loss: 20266.8262 - mean_squared_error: 20266.8262 - val_loss: 36172.7891 - val_mean_squared_error: 36172.7891\n",
            "Epoch 105/500\n",
            "25/25 [==============================] - 0s 4ms/step - loss: 21734.8809 - mean_squared_error: 21734.8809 - val_loss: 21641.3770 - val_mean_squared_error: 21641.3770\n",
            "Epoch 106/500\n",
            "25/25 [==============================] - 0s 3ms/step - loss: 22188.3965 - mean_squared_error: 22188.3965 - val_loss: 28266.9316 - val_mean_squared_error: 28266.9297\n",
            "Epoch 107/500\n",
            "25/25 [==============================] - 0s 3ms/step - loss: 58929.7422 - mean_squared_error: 58929.7383 - val_loss: 21215.7090 - val_mean_squared_error: 21215.7090\n",
            "Epoch 108/500\n",
            "25/25 [==============================] - 0s 3ms/step - loss: 24460.1953 - mean_squared_error: 24460.1953 - val_loss: 21569.0918 - val_mean_squared_error: 21569.0918\n",
            "Epoch 109/500\n",
            "25/25 [==============================] - 0s 3ms/step - loss: 30674.8047 - mean_squared_error: 30674.8047 - val_loss: 24879.6055 - val_mean_squared_error: 24879.6055\n",
            "Epoch 110/500\n",
            "25/25 [==============================] - 0s 3ms/step - loss: 93525.1484 - mean_squared_error: 93525.1484 - val_loss: 45452.7461 - val_mean_squared_error: 45452.7461\n",
            "Epoch 111/500\n",
            "25/25 [==============================] - 0s 3ms/step - loss: 38921.0508 - mean_squared_error: 38921.0508 - val_loss: 16916.1836 - val_mean_squared_error: 16916.1836\n",
            "Epoch 112/500\n",
            "25/25 [==============================] - 0s 3ms/step - loss: 28120.3672 - mean_squared_error: 28120.3672 - val_loss: 23121.8613 - val_mean_squared_error: 23121.8613\n",
            "Epoch 113/500\n",
            "25/25 [==============================] - 0s 3ms/step - loss: 21636.6738 - mean_squared_error: 21636.6738 - val_loss: 12356.7764 - val_mean_squared_error: 12356.7764\n",
            "Epoch 114/500\n",
            "25/25 [==============================] - 0s 3ms/step - loss: 44329.3867 - mean_squared_error: 44329.3867 - val_loss: 31472.1914 - val_mean_squared_error: 31472.1934\n",
            "Epoch 115/500\n",
            "25/25 [==============================] - 0s 4ms/step - loss: 74110.8047 - mean_squared_error: 74110.8047 - val_loss: 89420.1719 - val_mean_squared_error: 89420.1797\n",
            "Epoch 116/500\n",
            "25/25 [==============================] - 0s 3ms/step - loss: 46259.7695 - mean_squared_error: 46259.7695 - val_loss: 58459.0312 - val_mean_squared_error: 58459.0312\n",
            "Epoch 117/500\n",
            "25/25 [==============================] - 0s 4ms/step - loss: 59151.7500 - mean_squared_error: 59151.7500 - val_loss: 28589.4551 - val_mean_squared_error: 28589.4551\n",
            "Epoch 118/500\n",
            "25/25 [==============================] - 0s 4ms/step - loss: 49015.2578 - mean_squared_error: 49015.2578 - val_loss: 54668.1250 - val_mean_squared_error: 54668.1250\n",
            "Epoch 119/500\n",
            "25/25 [==============================] - 0s 4ms/step - loss: 40480.6406 - mean_squared_error: 40480.6406 - val_loss: 20471.4355 - val_mean_squared_error: 20471.4355\n",
            "Epoch 120/500\n",
            "25/25 [==============================] - 0s 3ms/step - loss: 35361.4766 - mean_squared_error: 35361.4766 - val_loss: 34499.8867 - val_mean_squared_error: 34499.8867\n",
            "Epoch 121/500\n",
            "25/25 [==============================] - 0s 3ms/step - loss: 23616.3145 - mean_squared_error: 23616.3145 - val_loss: 12647.5771 - val_mean_squared_error: 12647.5771\n",
            "Epoch 122/500\n",
            "25/25 [==============================] - 0s 3ms/step - loss: 32930.3164 - mean_squared_error: 32930.3164 - val_loss: 28395.4473 - val_mean_squared_error: 28395.4473\n",
            "Epoch 123/500\n",
            "25/25 [==============================] - 0s 3ms/step - loss: 32063.8789 - mean_squared_error: 32063.8789 - val_loss: 26787.9531 - val_mean_squared_error: 26787.9531\n",
            "Epoch 124/500\n",
            "25/25 [==============================] - 0s 3ms/step - loss: 28001.6191 - mean_squared_error: 28001.6191 - val_loss: 17090.6172 - val_mean_squared_error: 17090.6172\n",
            "Epoch 125/500\n",
            "25/25 [==============================] - 0s 3ms/step - loss: 35446.0938 - mean_squared_error: 35446.0938 - val_loss: 37476.5547 - val_mean_squared_error: 37476.5547\n",
            "Epoch 126/500\n",
            "25/25 [==============================] - 0s 3ms/step - loss: 38008.2969 - mean_squared_error: 38008.2969 - val_loss: 50395.0312 - val_mean_squared_error: 50395.0195\n",
            "Epoch 127/500\n",
            "25/25 [==============================] - 0s 3ms/step - loss: 55742.6836 - mean_squared_error: 55742.6836 - val_loss: 80006.6562 - val_mean_squared_error: 80006.6562\n",
            "Epoch 128/500\n",
            "25/25 [==============================] - 0s 4ms/step - loss: 47512.7031 - mean_squared_error: 47512.7031 - val_loss: 39013.9922 - val_mean_squared_error: 39013.9922\n",
            "Epoch 129/500\n",
            "25/25 [==============================] - 0s 3ms/step - loss: 41101.9688 - mean_squared_error: 41101.9688 - val_loss: 52432.9297 - val_mean_squared_error: 52432.9297\n",
            "Epoch 130/500\n",
            "25/25 [==============================] - 0s 4ms/step - loss: 28081.8652 - mean_squared_error: 28081.8652 - val_loss: 12918.7998 - val_mean_squared_error: 12918.7998\n",
            "Epoch 131/500\n",
            "25/25 [==============================] - 0s 3ms/step - loss: 32663.1211 - mean_squared_error: 32663.1211 - val_loss: 51457.8984 - val_mean_squared_error: 51457.8984\n",
            "Epoch 132/500\n",
            "25/25 [==============================] - 0s 3ms/step - loss: 38206.3633 - mean_squared_error: 38206.3633 - val_loss: 39787.4531 - val_mean_squared_error: 39787.4531\n",
            "Epoch 133/500\n",
            "25/25 [==============================] - 0s 4ms/step - loss: 26415.2812 - mean_squared_error: 26415.2812 - val_loss: 21705.1074 - val_mean_squared_error: 21705.1094\n",
            "Epoch 134/500\n",
            "25/25 [==============================] - 0s 4ms/step - loss: 19131.0391 - mean_squared_error: 19131.0391 - val_loss: 53538.4023 - val_mean_squared_error: 53538.4023\n",
            "Epoch 135/500\n",
            "25/25 [==============================] - 0s 4ms/step - loss: 48310.5664 - mean_squared_error: 48310.5664 - val_loss: 19138.9688 - val_mean_squared_error: 19138.9688\n",
            "Epoch 136/500\n",
            "25/25 [==============================] - 0s 4ms/step - loss: 96417.7266 - mean_squared_error: 96417.7266 - val_loss: 86320.0078 - val_mean_squared_error: 86320.0078\n",
            "Epoch 137/500\n",
            "25/25 [==============================] - 0s 3ms/step - loss: 52761.4297 - mean_squared_error: 52761.4297 - val_loss: 72379.2188 - val_mean_squared_error: 72379.2188\n",
            "Epoch 138/500\n",
            "25/25 [==============================] - 0s 3ms/step - loss: 52975.8789 - mean_squared_error: 52975.8789 - val_loss: 43891.3477 - val_mean_squared_error: 43891.3477\n",
            "Epoch 139/500\n",
            "25/25 [==============================] - 0s 3ms/step - loss: 38382.1172 - mean_squared_error: 38382.1172 - val_loss: 96473.8125 - val_mean_squared_error: 96473.8125\n",
            "Epoch 140/500\n",
            "25/25 [==============================] - 0s 3ms/step - loss: 53104.5742 - mean_squared_error: 53104.5742 - val_loss: 43868.3125 - val_mean_squared_error: 43868.3125\n",
            "Epoch 141/500\n",
            "25/25 [==============================] - 0s 3ms/step - loss: 57259.7930 - mean_squared_error: 57259.7930 - val_loss: 46458.8789 - val_mean_squared_error: 46458.8750\n",
            "Epoch 142/500\n",
            "25/25 [==============================] - 0s 3ms/step - loss: 32773.5820 - mean_squared_error: 32773.5820 - val_loss: 35804.8242 - val_mean_squared_error: 35804.8242\n",
            "Epoch 143/500\n",
            "25/25 [==============================] - 0s 3ms/step - loss: 41855.1172 - mean_squared_error: 41855.1172 - val_loss: 67328.4766 - val_mean_squared_error: 67328.4766\n",
            "Epoch 144/500\n",
            "25/25 [==============================] - 0s 4ms/step - loss: 62575.5664 - mean_squared_error: 62575.5664 - val_loss: 30663.0254 - val_mean_squared_error: 30663.0254\n",
            "Epoch 145/500\n",
            "25/25 [==============================] - 0s 4ms/step - loss: 68735.0547 - mean_squared_error: 68735.0547 - val_loss: 54567.1758 - val_mean_squared_error: 54567.1758\n",
            "Epoch 146/500\n",
            "25/25 [==============================] - 0s 4ms/step - loss: 56196.0391 - mean_squared_error: 56196.0391 - val_loss: 137182.2188 - val_mean_squared_error: 137182.2188\n",
            "Epoch 147/500\n",
            "25/25 [==============================] - 0s 3ms/step - loss: 61792.0508 - mean_squared_error: 61792.0508 - val_loss: 44333.2773 - val_mean_squared_error: 44333.2773\n",
            "Epoch 148/500\n",
            "25/25 [==============================] - 0s 4ms/step - loss: 26751.8438 - mean_squared_error: 26751.8438 - val_loss: 24018.4980 - val_mean_squared_error: 24018.4980\n",
            "Epoch 149/500\n",
            "25/25 [==============================] - 0s 4ms/step - loss: 29260.5137 - mean_squared_error: 29260.5137 - val_loss: 22682.4160 - val_mean_squared_error: 22682.4160\n",
            "Epoch 150/500\n",
            "25/25 [==============================] - 0s 4ms/step - loss: 24957.0098 - mean_squared_error: 24957.0098 - val_loss: 23463.8613 - val_mean_squared_error: 23463.8613\n",
            "Epoch 151/500\n",
            "25/25 [==============================] - 0s 3ms/step - loss: 67680.9531 - mean_squared_error: 67680.9531 - val_loss: 88122.4688 - val_mean_squared_error: 88122.4688\n",
            "Epoch 152/500\n",
            "25/25 [==============================] - 0s 3ms/step - loss: 31313.1602 - mean_squared_error: 31313.1641 - val_loss: 14765.1816 - val_mean_squared_error: 14765.1816\n",
            "Epoch 153/500\n",
            "25/25 [==============================] - 0s 3ms/step - loss: 31830.1016 - mean_squared_error: 31830.1016 - val_loss: 13634.1221 - val_mean_squared_error: 13634.1221\n",
            "Epoch 154/500\n",
            "25/25 [==============================] - 0s 3ms/step - loss: 25775.1270 - mean_squared_error: 25775.1270 - val_loss: 18243.5586 - val_mean_squared_error: 18243.5586\n",
            "Epoch 155/500\n",
            "25/25 [==============================] - 0s 3ms/step - loss: 32688.7988 - mean_squared_error: 32688.7988 - val_loss: 11074.1006 - val_mean_squared_error: 11074.1006\n",
            "Epoch 156/500\n",
            "25/25 [==============================] - 0s 4ms/step - loss: 19286.7422 - mean_squared_error: 19286.7402 - val_loss: 14674.6387 - val_mean_squared_error: 14674.6387\n",
            "Epoch 157/500\n",
            "25/25 [==============================] - 0s 4ms/step - loss: 21877.1699 - mean_squared_error: 21877.1699 - val_loss: 11483.9346 - val_mean_squared_error: 11483.9346\n",
            "Epoch 158/500\n",
            "25/25 [==============================] - 0s 3ms/step - loss: 33571.5977 - mean_squared_error: 33571.5977 - val_loss: 76054.0938 - val_mean_squared_error: 76054.0938\n",
            "Epoch 159/500\n",
            "25/25 [==============================] - 0s 4ms/step - loss: 111317.0391 - mean_squared_error: 111317.0391 - val_loss: 55432.6484 - val_mean_squared_error: 55432.6484\n",
            "Epoch 160/500\n",
            "25/25 [==============================] - 0s 4ms/step - loss: 34171.9102 - mean_squared_error: 34171.9102 - val_loss: 30705.9648 - val_mean_squared_error: 30705.9648\n",
            "Epoch 161/500\n",
            "25/25 [==============================] - 0s 3ms/step - loss: 30958.3027 - mean_squared_error: 30958.3027 - val_loss: 35598.6289 - val_mean_squared_error: 35598.6289\n",
            "Epoch 162/500\n",
            "25/25 [==============================] - 0s 3ms/step - loss: 57275.0039 - mean_squared_error: 57275.0039 - val_loss: 65023.9141 - val_mean_squared_error: 65023.9141\n",
            "Epoch 163/500\n",
            "25/25 [==============================] - 0s 3ms/step - loss: 112768.1953 - mean_squared_error: 112768.1953 - val_loss: 82920.1953 - val_mean_squared_error: 82920.1953\n",
            "Epoch 164/500\n",
            "25/25 [==============================] - 0s 3ms/step - loss: 70343.7891 - mean_squared_error: 70343.7891 - val_loss: 22593.0176 - val_mean_squared_error: 22593.0176\n",
            "Epoch 165/500\n",
            "25/25 [==============================] - 0s 3ms/step - loss: 24715.0332 - mean_squared_error: 24715.0332 - val_loss: 15043.3037 - val_mean_squared_error: 15043.3018\n",
            "Epoch 166/500\n",
            "25/25 [==============================] - 0s 3ms/step - loss: 25324.9004 - mean_squared_error: 25324.9004 - val_loss: 20456.7539 - val_mean_squared_error: 20456.7539\n",
            "Epoch 167/500\n",
            "25/25 [==============================] - 0s 3ms/step - loss: 31079.4766 - mean_squared_error: 31079.4766 - val_loss: 21350.3984 - val_mean_squared_error: 21350.3984\n",
            "Epoch 168/500\n",
            "25/25 [==============================] - 0s 4ms/step - loss: 25280.0254 - mean_squared_error: 25280.0254 - val_loss: 63642.8086 - val_mean_squared_error: 63642.8086\n",
            "Epoch 169/500\n",
            "25/25 [==============================] - 0s 3ms/step - loss: 29978.3984 - mean_squared_error: 29978.3984 - val_loss: 99789.2812 - val_mean_squared_error: 99789.2812\n",
            "Epoch 170/500\n",
            "25/25 [==============================] - 0s 4ms/step - loss: 193949.0781 - mean_squared_error: 193949.0781 - val_loss: 147888.7969 - val_mean_squared_error: 147888.7969\n",
            "Epoch 171/500\n",
            "25/25 [==============================] - 0s 4ms/step - loss: 82716.2500 - mean_squared_error: 82716.2500 - val_loss: 256295.7188 - val_mean_squared_error: 256295.7188\n",
            "Epoch 172/500\n",
            "25/25 [==============================] - 0s 4ms/step - loss: 79488.8359 - mean_squared_error: 79488.8359 - val_loss: 77828.7188 - val_mean_squared_error: 77828.7188\n",
            "Epoch 173/500\n",
            "25/25 [==============================] - 0s 3ms/step - loss: 49516.6367 - mean_squared_error: 49516.6367 - val_loss: 21810.2109 - val_mean_squared_error: 21810.2129\n",
            "Epoch 174/500\n",
            "25/25 [==============================] - 0s 4ms/step - loss: 23334.0449 - mean_squared_error: 23334.0449 - val_loss: 27501.2188 - val_mean_squared_error: 27501.2188\n",
            "Epoch 175/500\n",
            "25/25 [==============================] - 0s 3ms/step - loss: 20531.8301 - mean_squared_error: 20531.8301 - val_loss: 20431.6484 - val_mean_squared_error: 20431.6504\n",
            "Epoch 176/500\n",
            "25/25 [==============================] - 0s 3ms/step - loss: 27096.8301 - mean_squared_error: 27096.8301 - val_loss: 45420.9961 - val_mean_squared_error: 45420.9961\n",
            "Epoch 177/500\n",
            "25/25 [==============================] - 0s 3ms/step - loss: 84844.5078 - mean_squared_error: 84844.5078 - val_loss: 40058.5391 - val_mean_squared_error: 40058.5391\n",
            "Epoch 178/500\n",
            "25/25 [==============================] - 0s 3ms/step - loss: 33354.7383 - mean_squared_error: 33354.7383 - val_loss: 72951.1016 - val_mean_squared_error: 72951.1016\n",
            "Epoch 179/500\n",
            "25/25 [==============================] - 0s 4ms/step - loss: 30233.1035 - mean_squared_error: 30233.1035 - val_loss: 11821.9365 - val_mean_squared_error: 11821.9365\n",
            "Epoch 180/500\n",
            "25/25 [==============================] - 0s 3ms/step - loss: 21981.9590 - mean_squared_error: 21981.9590 - val_loss: 17646.4180 - val_mean_squared_error: 17646.4180\n",
            "Epoch 181/500\n",
            "25/25 [==============================] - 0s 4ms/step - loss: 25878.5156 - mean_squared_error: 25878.5156 - val_loss: 20908.7891 - val_mean_squared_error: 20908.7891\n",
            "Epoch 182/500\n",
            "25/25 [==============================] - 0s 3ms/step - loss: 19484.5840 - mean_squared_error: 19484.5820 - val_loss: 51265.0508 - val_mean_squared_error: 51265.0508\n",
            "Epoch 183/500\n",
            "25/25 [==============================] - 0s 4ms/step - loss: 26984.9102 - mean_squared_error: 26984.9082 - val_loss: 31260.2129 - val_mean_squared_error: 31260.2129\n",
            "Epoch 184/500\n",
            "25/25 [==============================] - 0s 4ms/step - loss: 33822.2461 - mean_squared_error: 33822.2461 - val_loss: 44898.8086 - val_mean_squared_error: 44898.8086\n",
            "Epoch 185/500\n",
            "25/25 [==============================] - 0s 4ms/step - loss: 84301.5156 - mean_squared_error: 84301.5156 - val_loss: 34029.1133 - val_mean_squared_error: 34029.1133\n",
            "Epoch 186/500\n",
            "25/25 [==============================] - 0s 4ms/step - loss: 25763.5742 - mean_squared_error: 25763.5742 - val_loss: 21922.5020 - val_mean_squared_error: 21922.5020\n",
            "Epoch 187/500\n",
            "25/25 [==============================] - 0s 3ms/step - loss: 95834.2812 - mean_squared_error: 95834.2812 - val_loss: 41755.3359 - val_mean_squared_error: 41755.3359\n",
            "Epoch 188/500\n",
            "25/25 [==============================] - 0s 4ms/step - loss: 39840.3984 - mean_squared_error: 39840.3984 - val_loss: 23266.1660 - val_mean_squared_error: 23266.1660\n",
            "Epoch 189/500\n",
            "25/25 [==============================] - 0s 4ms/step - loss: 33409.4531 - mean_squared_error: 33409.4531 - val_loss: 25199.8770 - val_mean_squared_error: 25199.8770\n",
            "Epoch 190/500\n",
            "25/25 [==============================] - 0s 4ms/step - loss: 19025.4297 - mean_squared_error: 19025.4297 - val_loss: 16490.7676 - val_mean_squared_error: 16490.7676\n",
            "Epoch 191/500\n",
            "25/25 [==============================] - 0s 3ms/step - loss: 40378.9570 - mean_squared_error: 40378.9570 - val_loss: 158899.8281 - val_mean_squared_error: 158899.8281\n",
            "Epoch 192/500\n",
            "25/25 [==============================] - 0s 3ms/step - loss: 153907.4219 - mean_squared_error: 153907.4219 - val_loss: 116123.5156 - val_mean_squared_error: 116123.5156\n",
            "Epoch 193/500\n",
            "25/25 [==============================] - 0s 3ms/step - loss: 50264.8008 - mean_squared_error: 50264.8008 - val_loss: 55335.1680 - val_mean_squared_error: 55335.1680\n",
            "Epoch 194/500\n",
            "25/25 [==============================] - 0s 3ms/step - loss: 22779.3809 - mean_squared_error: 22779.3789 - val_loss: 13964.4287 - val_mean_squared_error: 13964.4287\n",
            "Epoch 195/500\n",
            "25/25 [==============================] - 0s 3ms/step - loss: 36647.6641 - mean_squared_error: 36647.6641 - val_loss: 31800.0254 - val_mean_squared_error: 31800.0273\n",
            "Epoch 196/500\n",
            "25/25 [==============================] - 0s 3ms/step - loss: 36868.5273 - mean_squared_error: 36868.5273 - val_loss: 23305.4570 - val_mean_squared_error: 23305.4570\n",
            "Epoch 197/500\n",
            "25/25 [==============================] - 0s 3ms/step - loss: 29982.3281 - mean_squared_error: 29982.3281 - val_loss: 15603.0303 - val_mean_squared_error: 15603.0303\n",
            "Epoch 198/500\n",
            "25/25 [==============================] - 0s 4ms/step - loss: 25396.3027 - mean_squared_error: 25396.3027 - val_loss: 18427.9590 - val_mean_squared_error: 18427.9590\n",
            "Epoch 199/500\n",
            "25/25 [==============================] - 0s 4ms/step - loss: 25453.5039 - mean_squared_error: 25453.5039 - val_loss: 15726.3496 - val_mean_squared_error: 15726.3506\n",
            "Epoch 200/500\n",
            "25/25 [==============================] - 0s 3ms/step - loss: 20344.9277 - mean_squared_error: 20344.9277 - val_loss: 27958.6270 - val_mean_squared_error: 27958.6270\n",
            "Epoch 201/500\n",
            "25/25 [==============================] - 0s 3ms/step - loss: 39451.7148 - mean_squared_error: 39451.7148 - val_loss: 21797.1641 - val_mean_squared_error: 21797.1641\n",
            "Epoch 202/500\n",
            "25/25 [==============================] - 0s 3ms/step - loss: 49518.8438 - mean_squared_error: 49518.8438 - val_loss: 179371.0938 - val_mean_squared_error: 179371.0938\n",
            "Epoch 203/500\n",
            "25/25 [==============================] - 0s 4ms/step - loss: 97028.3672 - mean_squared_error: 97028.3672 - val_loss: 65185.1055 - val_mean_squared_error: 65185.1055\n",
            "Epoch 204/500\n",
            "25/25 [==============================] - 0s 3ms/step - loss: 47566.5547 - mean_squared_error: 47566.5586 - val_loss: 16587.2598 - val_mean_squared_error: 16587.2578\n",
            "Epoch 205/500\n",
            "25/25 [==============================] - 0s 3ms/step - loss: 35638.6367 - mean_squared_error: 35638.6367 - val_loss: 30401.6660 - val_mean_squared_error: 30401.6660\n",
            "Epoch 206/500\n",
            "25/25 [==============================] - 0s 3ms/step - loss: 109162.8906 - mean_squared_error: 109162.8906 - val_loss: 92525.1797 - val_mean_squared_error: 92525.1797\n",
            "Epoch 207/500\n",
            "25/25 [==============================] - 0s 3ms/step - loss: 38852.1211 - mean_squared_error: 38852.1211 - val_loss: 20713.5293 - val_mean_squared_error: 20713.5293\n",
            "Epoch 208/500\n",
            "25/25 [==============================] - 0s 3ms/step - loss: 23717.1484 - mean_squared_error: 23717.1484 - val_loss: 16773.7676 - val_mean_squared_error: 16773.7676\n",
            "Epoch 209/500\n",
            "25/25 [==============================] - 0s 3ms/step - loss: 22907.5684 - mean_squared_error: 22907.5684 - val_loss: 40662.6719 - val_mean_squared_error: 40662.6719\n",
            "Epoch 210/500\n",
            "25/25 [==============================] - 0s 4ms/step - loss: 29252.5039 - mean_squared_error: 29252.5039 - val_loss: 15609.2939 - val_mean_squared_error: 15609.2939\n",
            "Epoch 211/500\n",
            "25/25 [==============================] - 0s 3ms/step - loss: 23096.6660 - mean_squared_error: 23096.6660 - val_loss: 19405.6074 - val_mean_squared_error: 19405.6074\n",
            "Epoch 212/500\n",
            "25/25 [==============================] - 0s 4ms/step - loss: 55640.2148 - mean_squared_error: 55640.2148 - val_loss: 21543.1836 - val_mean_squared_error: 21543.1836\n",
            "Epoch 213/500\n",
            "25/25 [==============================] - 0s 3ms/step - loss: 22982.8887 - mean_squared_error: 22982.8887 - val_loss: 20050.0039 - val_mean_squared_error: 20050.0039\n",
            "Epoch 214/500\n",
            "25/25 [==============================] - 0s 4ms/step - loss: 40614.3203 - mean_squared_error: 40614.3203 - val_loss: 22959.4102 - val_mean_squared_error: 22959.4102\n",
            "Epoch 215/500\n",
            "25/25 [==============================] - 0s 5ms/step - loss: 41785.1172 - mean_squared_error: 41785.1172 - val_loss: 58184.8203 - val_mean_squared_error: 58184.8203\n",
            "Epoch 216/500\n",
            "25/25 [==============================] - 0s 4ms/step - loss: 98090.4219 - mean_squared_error: 98090.4219 - val_loss: 82735.1953 - val_mean_squared_error: 82735.1953\n",
            "Epoch 217/500\n",
            "25/25 [==============================] - 0s 3ms/step - loss: 39425.5742 - mean_squared_error: 39425.5742 - val_loss: 47712.9219 - val_mean_squared_error: 47712.9219\n",
            "Epoch 218/500\n",
            "25/25 [==============================] - 0s 4ms/step - loss: 34364.0625 - mean_squared_error: 34364.0625 - val_loss: 35550.4336 - val_mean_squared_error: 35550.4336\n",
            "Epoch 219/500\n",
            "25/25 [==============================] - 0s 3ms/step - loss: 41137.3203 - mean_squared_error: 41137.3203 - val_loss: 23212.6367 - val_mean_squared_error: 23212.6367\n",
            "Epoch 220/500\n",
            "25/25 [==============================] - 0s 4ms/step - loss: 62752.9062 - mean_squared_error: 62752.9062 - val_loss: 28611.6348 - val_mean_squared_error: 28611.6348\n",
            "Epoch 221/500\n",
            "25/25 [==============================] - 0s 3ms/step - loss: 51628.6406 - mean_squared_error: 51628.6406 - val_loss: 53191.9141 - val_mean_squared_error: 53191.9141\n",
            "Epoch 222/500\n",
            "25/25 [==============================] - 0s 3ms/step - loss: 94620.1328 - mean_squared_error: 94620.1328 - val_loss: 50860.6172 - val_mean_squared_error: 50860.6172\n",
            "Epoch 223/500\n",
            "25/25 [==============================] - 0s 3ms/step - loss: 64637.0781 - mean_squared_error: 64637.0781 - val_loss: 54392.4531 - val_mean_squared_error: 54392.4531\n",
            "Epoch 224/500\n",
            "25/25 [==============================] - 0s 4ms/step - loss: 43514.8594 - mean_squared_error: 43514.8594 - val_loss: 183278.5312 - val_mean_squared_error: 183278.5469\n",
            "Epoch 225/500\n",
            "25/25 [==============================] - 0s 3ms/step - loss: 66114.2422 - mean_squared_error: 66114.2422 - val_loss: 49905.5352 - val_mean_squared_error: 49905.5352\n",
            "Epoch 226/500\n",
            "25/25 [==============================] - 0s 3ms/step - loss: 29705.4609 - mean_squared_error: 29705.4609 - val_loss: 13385.3984 - val_mean_squared_error: 13385.3984\n",
            "Epoch 227/500\n",
            "25/25 [==============================] - 0s 4ms/step - loss: 21336.3008 - mean_squared_error: 21336.3047 - val_loss: 27761.3281 - val_mean_squared_error: 27761.3281\n",
            "Epoch 228/500\n",
            "25/25 [==============================] - 0s 3ms/step - loss: 24476.2910 - mean_squared_error: 24476.2910 - val_loss: 26235.2520 - val_mean_squared_error: 26235.2520\n",
            "Epoch 229/500\n",
            "25/25 [==============================] - 0s 3ms/step - loss: 26407.5625 - mean_squared_error: 26407.5625 - val_loss: 45946.1914 - val_mean_squared_error: 45946.1914\n",
            "Epoch 230/500\n",
            "25/25 [==============================] - 0s 4ms/step - loss: 21956.6191 - mean_squared_error: 21956.6211 - val_loss: 18499.9043 - val_mean_squared_error: 18499.9043\n",
            "Epoch 231/500\n",
            "25/25 [==============================] - 0s 3ms/step - loss: 34941.3828 - mean_squared_error: 34941.3828 - val_loss: 20893.5605 - val_mean_squared_error: 20893.5605\n",
            "Epoch 232/500\n",
            "25/25 [==============================] - 0s 3ms/step - loss: 94230.0000 - mean_squared_error: 94230.0000 - val_loss: 447707.3750 - val_mean_squared_error: 447707.3750\n",
            "Epoch 233/500\n",
            "25/25 [==============================] - 0s 3ms/step - loss: 444787.7812 - mean_squared_error: 444787.7812 - val_loss: 268800.5938 - val_mean_squared_error: 268800.5938\n",
            "Epoch 234/500\n",
            "25/25 [==============================] - 0s 4ms/step - loss: 116953.7578 - mean_squared_error: 116953.7578 - val_loss: 121588.1875 - val_mean_squared_error: 121588.1875\n",
            "Epoch 235/500\n",
            "25/25 [==============================] - 0s 3ms/step - loss: 73085.7188 - mean_squared_error: 73085.7188 - val_loss: 77120.5859 - val_mean_squared_error: 77120.5859\n",
            "Epoch 236/500\n",
            "25/25 [==============================] - 0s 3ms/step - loss: 46383.8906 - mean_squared_error: 46383.8906 - val_loss: 36650.8555 - val_mean_squared_error: 36650.8555\n",
            "Epoch 237/500\n",
            "25/25 [==============================] - 0s 3ms/step - loss: 51048.9609 - mean_squared_error: 51048.9609 - val_loss: 61715.3867 - val_mean_squared_error: 61715.3867\n",
            "Epoch 238/500\n",
            "25/25 [==============================] - 0s 4ms/step - loss: 33385.0117 - mean_squared_error: 33385.0117 - val_loss: 33626.7461 - val_mean_squared_error: 33626.7461\n",
            "Epoch 239/500\n",
            "25/25 [==============================] - 0s 4ms/step - loss: 45584.6211 - mean_squared_error: 45584.6211 - val_loss: 109305.3281 - val_mean_squared_error: 109305.3281\n",
            "Epoch 240/500\n",
            "25/25 [==============================] - 0s 4ms/step - loss: 36841.2852 - mean_squared_error: 36841.2852 - val_loss: 23618.0137 - val_mean_squared_error: 23618.0137\n",
            "Epoch 241/500\n",
            "25/25 [==============================] - 0s 3ms/step - loss: 28268.3359 - mean_squared_error: 28268.3359 - val_loss: 53979.9844 - val_mean_squared_error: 53979.9844\n",
            "Epoch 242/500\n",
            "25/25 [==============================] - 0s 4ms/step - loss: 36269.2969 - mean_squared_error: 36269.2969 - val_loss: 19934.8711 - val_mean_squared_error: 19934.8711\n",
            "Epoch 243/500\n",
            "25/25 [==============================] - 0s 4ms/step - loss: 27215.8008 - mean_squared_error: 27215.8008 - val_loss: 37125.7500 - val_mean_squared_error: 37125.7500\n",
            "Epoch 244/500\n",
            "25/25 [==============================] - 0s 3ms/step - loss: 25251.4961 - mean_squared_error: 25251.4961 - val_loss: 40834.0117 - val_mean_squared_error: 40834.0117\n",
            "Epoch 245/500\n",
            "25/25 [==============================] - 0s 3ms/step - loss: 27875.3008 - mean_squared_error: 27875.3008 - val_loss: 19775.3828 - val_mean_squared_error: 19775.3828\n",
            "Epoch 246/500\n",
            "25/25 [==============================] - 0s 3ms/step - loss: 22995.7617 - mean_squared_error: 22995.7617 - val_loss: 47998.5508 - val_mean_squared_error: 47998.5508\n",
            "Epoch 247/500\n",
            "25/25 [==============================] - 0s 4ms/step - loss: 37217.9023 - mean_squared_error: 37217.9023 - val_loss: 65474.9570 - val_mean_squared_error: 65474.9570\n",
            "Epoch 248/500\n",
            "25/25 [==============================] - 0s 3ms/step - loss: 78564.0547 - mean_squared_error: 78564.0547 - val_loss: 23457.8574 - val_mean_squared_error: 23457.8574\n",
            "Epoch 249/500\n",
            "25/25 [==============================] - 0s 3ms/step - loss: 30328.3340 - mean_squared_error: 30328.3340 - val_loss: 30006.4004 - val_mean_squared_error: 30006.4004\n",
            "Epoch 250/500\n",
            "25/25 [==============================] - 0s 4ms/step - loss: 26721.7734 - mean_squared_error: 26721.7734 - val_loss: 25051.2324 - val_mean_squared_error: 25051.2324\n",
            "Epoch 251/500\n",
            "25/25 [==============================] - 0s 3ms/step - loss: 47472.9023 - mean_squared_error: 47472.9023 - val_loss: 20981.5645 - val_mean_squared_error: 20981.5664\n",
            "Epoch 252/500\n",
            "25/25 [==============================] - 0s 4ms/step - loss: 19044.0762 - mean_squared_error: 19044.0762 - val_loss: 18659.3770 - val_mean_squared_error: 18659.3770\n",
            "Epoch 253/500\n",
            "25/25 [==============================] - 0s 3ms/step - loss: 20397.2168 - mean_squared_error: 20397.2168 - val_loss: 15704.4678 - val_mean_squared_error: 15704.4678\n",
            "Epoch 254/500\n",
            "25/25 [==============================] - 0s 4ms/step - loss: 23019.5078 - mean_squared_error: 23019.5078 - val_loss: 29193.9863 - val_mean_squared_error: 29193.9863\n",
            "Epoch 255/500\n",
            "25/25 [==============================] - 0s 4ms/step - loss: 33609.8320 - mean_squared_error: 33609.8320 - val_loss: 76405.4922 - val_mean_squared_error: 76405.4922\n",
            "Epoch 256/500\n",
            "25/25 [==============================] - 0s 3ms/step - loss: 64369.7617 - mean_squared_error: 64369.7617 - val_loss: 32253.7129 - val_mean_squared_error: 32253.7129\n",
            "Epoch 257/500\n",
            "25/25 [==============================] - 0s 4ms/step - loss: 28426.5078 - mean_squared_error: 28426.5078 - val_loss: 28734.0801 - val_mean_squared_error: 28734.0801\n",
            "Epoch 258/500\n",
            "25/25 [==============================] - 0s 4ms/step - loss: 32736.3008 - mean_squared_error: 32736.3008 - val_loss: 27046.1289 - val_mean_squared_error: 27046.1289\n",
            "Epoch 259/500\n",
            "25/25 [==============================] - 0s 4ms/step - loss: 15892.4062 - mean_squared_error: 15892.4062 - val_loss: 10231.3730 - val_mean_squared_error: 10231.3730\n",
            "Epoch 260/500\n",
            "25/25 [==============================] - 0s 4ms/step - loss: 19398.5430 - mean_squared_error: 19398.5430 - val_loss: 13008.3916 - val_mean_squared_error: 13008.3916\n",
            "Epoch 261/500\n",
            "25/25 [==============================] - 0s 3ms/step - loss: 19676.5020 - mean_squared_error: 19676.5020 - val_loss: 18721.9980 - val_mean_squared_error: 18721.9980\n",
            "Epoch 262/500\n",
            "25/25 [==============================] - 0s 4ms/step - loss: 18679.6250 - mean_squared_error: 18679.6250 - val_loss: 36472.3438 - val_mean_squared_error: 36472.3438\n",
            "Epoch 263/500\n",
            "25/25 [==============================] - 0s 3ms/step - loss: 51861.9336 - mean_squared_error: 51861.9336 - val_loss: 116106.4062 - val_mean_squared_error: 116106.4062\n",
            "Epoch 264/500\n",
            "25/25 [==============================] - 0s 3ms/step - loss: 104426.5469 - mean_squared_error: 104426.5469 - val_loss: 67011.2891 - val_mean_squared_error: 67011.2891\n",
            "Epoch 265/500\n",
            "25/25 [==============================] - 0s 4ms/step - loss: 51948.2539 - mean_squared_error: 51948.2539 - val_loss: 45928.3281 - val_mean_squared_error: 45928.3281\n",
            "Epoch 266/500\n",
            "25/25 [==============================] - 0s 3ms/step - loss: 40880.5820 - mean_squared_error: 40880.5820 - val_loss: 19520.8789 - val_mean_squared_error: 19520.8789\n",
            "Epoch 267/500\n",
            "25/25 [==============================] - 0s 4ms/step - loss: 34775.1406 - mean_squared_error: 34775.1406 - val_loss: 49193.2578 - val_mean_squared_error: 49193.2578\n",
            "Epoch 268/500\n",
            "25/25 [==============================] - 0s 3ms/step - loss: 48924.3945 - mean_squared_error: 48924.3945 - val_loss: 116566.8359 - val_mean_squared_error: 116566.8359\n",
            "Epoch 269/500\n",
            "25/25 [==============================] - 0s 4ms/step - loss: 47009.9922 - mean_squared_error: 47009.9922 - val_loss: 47256.2969 - val_mean_squared_error: 47256.2930\n",
            "Epoch 270/500\n",
            "25/25 [==============================] - 0s 4ms/step - loss: 28971.9922 - mean_squared_error: 28971.9883 - val_loss: 56708.4727 - val_mean_squared_error: 56708.4727\n",
            "Epoch 271/500\n",
            "25/25 [==============================] - 0s 3ms/step - loss: 32159.5840 - mean_squared_error: 32159.5840 - val_loss: 26069.0605 - val_mean_squared_error: 26069.0605\n",
            "Epoch 272/500\n",
            "25/25 [==============================] - 0s 4ms/step - loss: 40732.3477 - mean_squared_error: 40732.3477 - val_loss: 30551.1992 - val_mean_squared_error: 30551.2012\n",
            "Epoch 273/500\n",
            "25/25 [==============================] - 0s 4ms/step - loss: 22333.1582 - mean_squared_error: 22333.1582 - val_loss: 11845.2588 - val_mean_squared_error: 11845.2588\n",
            "Epoch 274/500\n",
            "25/25 [==============================] - 0s 4ms/step - loss: 20350.1719 - mean_squared_error: 20350.1719 - val_loss: 27325.3730 - val_mean_squared_error: 27325.3730\n",
            "Epoch 275/500\n",
            "25/25 [==============================] - 0s 3ms/step - loss: 21544.9883 - mean_squared_error: 21544.9883 - val_loss: 48741.6797 - val_mean_squared_error: 48741.6797\n",
            "Epoch 276/500\n",
            "25/25 [==============================] - 0s 4ms/step - loss: 28697.0547 - mean_squared_error: 28697.0547 - val_loss: 13541.2324 - val_mean_squared_error: 13541.2344\n",
            "Epoch 277/500\n",
            "25/25 [==============================] - 0s 4ms/step - loss: 32851.1641 - mean_squared_error: 32851.1641 - val_loss: 37773.0820 - val_mean_squared_error: 37773.0781\n",
            "Epoch 278/500\n",
            "25/25 [==============================] - 0s 4ms/step - loss: 31748.3555 - mean_squared_error: 31748.3555 - val_loss: 17133.7969 - val_mean_squared_error: 17133.7969\n",
            "Epoch 279/500\n",
            "25/25 [==============================] - 0s 3ms/step - loss: 28101.9902 - mean_squared_error: 28101.9902 - val_loss: 18983.4727 - val_mean_squared_error: 18983.4707\n",
            "Epoch 280/500\n",
            "25/25 [==============================] - 0s 4ms/step - loss: 23623.8965 - mean_squared_error: 23623.8965 - val_loss: 16020.6992 - val_mean_squared_error: 16020.6992\n",
            "Epoch 281/500\n",
            "25/25 [==============================] - 0s 3ms/step - loss: 16272.6455 - mean_squared_error: 16272.6455 - val_loss: 14973.4268 - val_mean_squared_error: 14973.4268\n",
            "Epoch 282/500\n",
            "25/25 [==============================] - 0s 4ms/step - loss: 29526.1641 - mean_squared_error: 29526.1641 - val_loss: 63469.5547 - val_mean_squared_error: 63469.5547\n",
            "Epoch 283/500\n",
            "25/25 [==============================] - 0s 3ms/step - loss: 30828.9551 - mean_squared_error: 30828.9551 - val_loss: 11713.7285 - val_mean_squared_error: 11713.7285\n",
            "Epoch 284/500\n",
            "25/25 [==============================] - 0s 4ms/step - loss: 45789.2695 - mean_squared_error: 45789.2695 - val_loss: 23713.1172 - val_mean_squared_error: 23713.1172\n",
            "Epoch 285/500\n",
            "25/25 [==============================] - 0s 3ms/step - loss: 44700.9648 - mean_squared_error: 44700.9648 - val_loss: 60286.7578 - val_mean_squared_error: 60286.7578\n",
            "Epoch 286/500\n",
            "25/25 [==============================] - 0s 4ms/step - loss: 110842.9375 - mean_squared_error: 110842.9375 - val_loss: 39293.3750 - val_mean_squared_error: 39293.3789\n",
            "Epoch 287/500\n",
            "25/25 [==============================] - 0s 4ms/step - loss: 74703.7344 - mean_squared_error: 74703.7344 - val_loss: 43128.1680 - val_mean_squared_error: 43128.1680\n",
            "Epoch 288/500\n",
            "25/25 [==============================] - 0s 3ms/step - loss: 37131.7383 - mean_squared_error: 37131.7383 - val_loss: 26044.5293 - val_mean_squared_error: 26044.5293\n",
            "Epoch 289/500\n",
            "25/25 [==============================] - 0s 4ms/step - loss: 33821.0586 - mean_squared_error: 33821.0586 - val_loss: 20353.6270 - val_mean_squared_error: 20353.6270\n",
            "Epoch 290/500\n",
            "25/25 [==============================] - 0s 5ms/step - loss: 18463.9004 - mean_squared_error: 18463.9004 - val_loss: 9980.3379 - val_mean_squared_error: 9980.3379\n",
            "Epoch 291/500\n",
            "25/25 [==============================] - 0s 3ms/step - loss: 15530.5986 - mean_squared_error: 15530.5986 - val_loss: 16656.9004 - val_mean_squared_error: 16656.9004\n",
            "Epoch 292/500\n",
            "25/25 [==============================] - 0s 3ms/step - loss: 15137.0977 - mean_squared_error: 15137.0977 - val_loss: 14564.6924 - val_mean_squared_error: 14564.6924\n",
            "Epoch 293/500\n",
            "25/25 [==============================] - 0s 4ms/step - loss: 33149.9531 - mean_squared_error: 33149.9531 - val_loss: 15901.6338 - val_mean_squared_error: 15901.6338\n",
            "Epoch 294/500\n",
            "25/25 [==============================] - 0s 4ms/step - loss: 30039.6191 - mean_squared_error: 30039.6230 - val_loss: 13775.8350 - val_mean_squared_error: 13775.8350\n",
            "Epoch 295/500\n",
            "25/25 [==============================] - 0s 3ms/step - loss: 25477.7090 - mean_squared_error: 25477.7090 - val_loss: 35459.9766 - val_mean_squared_error: 35459.9766\n",
            "Epoch 296/500\n",
            "25/25 [==============================] - 0s 4ms/step - loss: 33880.4961 - mean_squared_error: 33880.4961 - val_loss: 38137.8125 - val_mean_squared_error: 38137.8125\n",
            "Epoch 297/500\n",
            "25/25 [==============================] - 0s 3ms/step - loss: 21687.6309 - mean_squared_error: 21687.6309 - val_loss: 16537.7402 - val_mean_squared_error: 16537.7402\n",
            "Epoch 298/500\n",
            "25/25 [==============================] - 0s 3ms/step - loss: 35357.9023 - mean_squared_error: 35357.9023 - val_loss: 49054.7812 - val_mean_squared_error: 49054.7812\n",
            "Epoch 299/500\n",
            "25/25 [==============================] - 0s 4ms/step - loss: 41938.9180 - mean_squared_error: 41938.9180 - val_loss: 49485.8711 - val_mean_squared_error: 49485.8711\n",
            "Epoch 300/500\n",
            "25/25 [==============================] - 0s 4ms/step - loss: 29090.0703 - mean_squared_error: 29090.0703 - val_loss: 47096.7031 - val_mean_squared_error: 47096.7031\n",
            "Epoch 301/500\n",
            "25/25 [==============================] - 0s 3ms/step - loss: 37895.3281 - mean_squared_error: 37895.3281 - val_loss: 24614.4375 - val_mean_squared_error: 24614.4375\n",
            "Epoch 302/500\n",
            "25/25 [==============================] - 0s 3ms/step - loss: 18833.6797 - mean_squared_error: 18833.6797 - val_loss: 38362.1758 - val_mean_squared_error: 38362.1758\n",
            "Epoch 303/500\n",
            "25/25 [==============================] - 0s 4ms/step - loss: 45236.0859 - mean_squared_error: 45236.0859 - val_loss: 101971.5469 - val_mean_squared_error: 101971.5469\n",
            "Epoch 304/500\n",
            "25/25 [==============================] - 0s 3ms/step - loss: 48456.8828 - mean_squared_error: 48456.8828 - val_loss: 57279.4375 - val_mean_squared_error: 57279.4375\n",
            "Epoch 305/500\n",
            "25/25 [==============================] - 0s 3ms/step - loss: 69364.5234 - mean_squared_error: 69364.5156 - val_loss: 67862.5391 - val_mean_squared_error: 67862.5391\n",
            "Epoch 306/500\n",
            "25/25 [==============================] - 0s 3ms/step - loss: 47578.4180 - mean_squared_error: 47578.4180 - val_loss: 48846.4453 - val_mean_squared_error: 48846.4453\n",
            "Epoch 307/500\n",
            "25/25 [==============================] - 0s 3ms/step - loss: 46457.9180 - mean_squared_error: 46457.9180 - val_loss: 93459.3359 - val_mean_squared_error: 93459.3359\n",
            "Epoch 308/500\n",
            "25/25 [==============================] - 0s 3ms/step - loss: 50458.8555 - mean_squared_error: 50458.8555 - val_loss: 22147.1875 - val_mean_squared_error: 22147.1875\n",
            "Epoch 309/500\n",
            "25/25 [==============================] - 0s 4ms/step - loss: 28843.4961 - mean_squared_error: 28843.4961 - val_loss: 25892.0879 - val_mean_squared_error: 25892.0879\n",
            "Epoch 310/500\n",
            "25/25 [==============================] - 0s 4ms/step - loss: 21125.2031 - mean_squared_error: 21125.2031 - val_loss: 16077.2832 - val_mean_squared_error: 16077.2822\n",
            "Epoch 311/500\n",
            "25/25 [==============================] - 0s 3ms/step - loss: 22320.9727 - mean_squared_error: 22320.9727 - val_loss: 43244.5938 - val_mean_squared_error: 43244.5938\n",
            "Epoch 312/500\n",
            "25/25 [==============================] - 0s 3ms/step - loss: 50411.5586 - mean_squared_error: 50411.5586 - val_loss: 36910.9531 - val_mean_squared_error: 36910.9531\n",
            "Epoch 313/500\n",
            "25/25 [==============================] - 0s 3ms/step - loss: 26295.3945 - mean_squared_error: 26295.3945 - val_loss: 23785.2266 - val_mean_squared_error: 23785.2266\n",
            "Epoch 314/500\n",
            "25/25 [==============================] - 0s 4ms/step - loss: 34773.2188 - mean_squared_error: 34773.2188 - val_loss: 52973.8711 - val_mean_squared_error: 52973.8711\n",
            "Epoch 315/500\n",
            "25/25 [==============================] - 0s 3ms/step - loss: 39425.4570 - mean_squared_error: 39425.4570 - val_loss: 77036.1562 - val_mean_squared_error: 77036.1562\n",
            "Epoch 316/500\n",
            "25/25 [==============================] - 0s 4ms/step - loss: 34016.6992 - mean_squared_error: 34016.6992 - val_loss: 12110.0039 - val_mean_squared_error: 12110.0039\n",
            "Epoch 317/500\n",
            "25/25 [==============================] - 0s 4ms/step - loss: 19645.0840 - mean_squared_error: 19645.0840 - val_loss: 14083.6299 - val_mean_squared_error: 14083.6299\n",
            "Epoch 318/500\n",
            "25/25 [==============================] - 0s 4ms/step - loss: 14519.5068 - mean_squared_error: 14519.5068 - val_loss: 10101.7588 - val_mean_squared_error: 10101.7588\n",
            "Epoch 319/500\n",
            "25/25 [==============================] - 0s 4ms/step - loss: 13184.0684 - mean_squared_error: 13184.0684 - val_loss: 11448.3418 - val_mean_squared_error: 11448.3418\n",
            "Epoch 320/500\n",
            "25/25 [==============================] - 0s 4ms/step - loss: 12923.6592 - mean_squared_error: 12923.6592 - val_loss: 19577.6680 - val_mean_squared_error: 19577.6680\n",
            "Epoch 321/500\n",
            "25/25 [==============================] - 0s 3ms/step - loss: 21133.8457 - mean_squared_error: 21133.8457 - val_loss: 26603.6270 - val_mean_squared_error: 26603.6270\n",
            "Epoch 322/500\n",
            "25/25 [==============================] - 0s 3ms/step - loss: 34439.1250 - mean_squared_error: 34439.1250 - val_loss: 47672.4336 - val_mean_squared_error: 47672.4336\n",
            "Epoch 323/500\n",
            "25/25 [==============================] - 0s 3ms/step - loss: 19682.2715 - mean_squared_error: 19682.2715 - val_loss: 19013.7910 - val_mean_squared_error: 19013.7910\n",
            "Epoch 324/500\n",
            "25/25 [==============================] - 0s 4ms/step - loss: 39247.7305 - mean_squared_error: 39247.7305 - val_loss: 24641.6934 - val_mean_squared_error: 24641.6934\n",
            "Epoch 325/500\n",
            "25/25 [==============================] - 0s 4ms/step - loss: 20478.3281 - mean_squared_error: 20478.3281 - val_loss: 18950.1953 - val_mean_squared_error: 18950.1953\n",
            "Epoch 326/500\n",
            "25/25 [==============================] - 0s 4ms/step - loss: 80583.3906 - mean_squared_error: 80583.3906 - val_loss: 31356.8359 - val_mean_squared_error: 31356.8398\n",
            "Epoch 327/500\n",
            "25/25 [==============================] - 0s 4ms/step - loss: 39868.1836 - mean_squared_error: 39868.1875 - val_loss: 25705.9395 - val_mean_squared_error: 25705.9395\n",
            "Epoch 328/500\n",
            "25/25 [==============================] - 0s 3ms/step - loss: 21395.1934 - mean_squared_error: 21395.1934 - val_loss: 28666.0820 - val_mean_squared_error: 28666.0820\n",
            "Epoch 329/500\n",
            "25/25 [==============================] - 0s 4ms/step - loss: 34435.8867 - mean_squared_error: 34435.8828 - val_loss: 23188.8574 - val_mean_squared_error: 23188.8574\n",
            "Epoch 330/500\n",
            "25/25 [==============================] - 0s 4ms/step - loss: 18147.8516 - mean_squared_error: 18147.8516 - val_loss: 34652.9805 - val_mean_squared_error: 34652.9805\n",
            "Epoch 331/500\n",
            "25/25 [==============================] - 0s 4ms/step - loss: 50372.2227 - mean_squared_error: 50372.2227 - val_loss: 68208.5469 - val_mean_squared_error: 68208.5469\n",
            "Epoch 332/500\n",
            "25/25 [==============================] - 0s 3ms/step - loss: 39517.2617 - mean_squared_error: 39517.2617 - val_loss: 34589.7227 - val_mean_squared_error: 34589.7227\n",
            "Epoch 333/500\n",
            "25/25 [==============================] - 0s 4ms/step - loss: 28828.8281 - mean_squared_error: 28828.8281 - val_loss: 25215.1465 - val_mean_squared_error: 25215.1465\n",
            "Epoch 334/500\n",
            "25/25 [==============================] - 0s 3ms/step - loss: 20267.4863 - mean_squared_error: 20267.4863 - val_loss: 33209.6602 - val_mean_squared_error: 33209.6602\n",
            "Epoch 335/500\n",
            "25/25 [==============================] - 0s 3ms/step - loss: 31854.1348 - mean_squared_error: 31854.1348 - val_loss: 46059.6367 - val_mean_squared_error: 46059.6367\n",
            "Epoch 336/500\n",
            "25/25 [==============================] - 0s 3ms/step - loss: 34828.3398 - mean_squared_error: 34828.3398 - val_loss: 32865.2188 - val_mean_squared_error: 32865.2188\n",
            "Epoch 337/500\n",
            "25/25 [==============================] - 0s 3ms/step - loss: 16206.0107 - mean_squared_error: 16206.0107 - val_loss: 44212.9180 - val_mean_squared_error: 44212.9180\n",
            "Epoch 338/500\n",
            "25/25 [==============================] - 0s 3ms/step - loss: 37571.2461 - mean_squared_error: 37571.2461 - val_loss: 19786.2188 - val_mean_squared_error: 19786.2207\n",
            "Epoch 339/500\n",
            "25/25 [==============================] - 0s 4ms/step - loss: 20801.9043 - mean_squared_error: 20801.9043 - val_loss: 34341.7852 - val_mean_squared_error: 34341.7891\n",
            "Epoch 340/500\n",
            "25/25 [==============================] - 0s 3ms/step - loss: 16136.9697 - mean_squared_error: 16136.9697 - val_loss: 12756.8252 - val_mean_squared_error: 12756.8252\n",
            "Epoch 341/500\n",
            "25/25 [==============================] - 0s 4ms/step - loss: 16327.6348 - mean_squared_error: 16327.6348 - val_loss: 13887.9092 - val_mean_squared_error: 13887.9092\n",
            "Epoch 342/500\n",
            "25/25 [==============================] - 0s 3ms/step - loss: 16057.1670 - mean_squared_error: 16057.1670 - val_loss: 47101.9883 - val_mean_squared_error: 47101.9883\n",
            "Epoch 343/500\n",
            "25/25 [==============================] - 0s 3ms/step - loss: 60200.3438 - mean_squared_error: 60200.3438 - val_loss: 59322.0742 - val_mean_squared_error: 59322.0742\n",
            "Epoch 344/500\n",
            "25/25 [==============================] - 0s 3ms/step - loss: 23599.3164 - mean_squared_error: 23599.3164 - val_loss: 13708.6846 - val_mean_squared_error: 13708.6846\n",
            "Epoch 345/500\n",
            "25/25 [==============================] - 0s 3ms/step - loss: 23737.6426 - mean_squared_error: 23737.6426 - val_loss: 40642.4727 - val_mean_squared_error: 40642.4727\n",
            "Epoch 346/500\n",
            "25/25 [==============================] - 0s 5ms/step - loss: 18601.3574 - mean_squared_error: 18601.3574 - val_loss: 25065.4609 - val_mean_squared_error: 25065.4609\n",
            "Epoch 347/500\n",
            "25/25 [==============================] - 0s 4ms/step - loss: 17472.7383 - mean_squared_error: 17472.7383 - val_loss: 24149.4980 - val_mean_squared_error: 24149.4980\n",
            "Epoch 348/500\n",
            "25/25 [==============================] - 0s 4ms/step - loss: 15091.4443 - mean_squared_error: 15091.4443 - val_loss: 51441.6641 - val_mean_squared_error: 51441.6641\n",
            "Epoch 349/500\n",
            "25/25 [==============================] - 0s 4ms/step - loss: 28118.1250 - mean_squared_error: 28118.1250 - val_loss: 15089.5430 - val_mean_squared_error: 15089.5430\n",
            "Epoch 350/500\n",
            "25/25 [==============================] - 0s 4ms/step - loss: 22607.0996 - mean_squared_error: 22607.1016 - val_loss: 20691.2051 - val_mean_squared_error: 20691.2051\n",
            "Epoch 351/500\n",
            "25/25 [==============================] - 0s 3ms/step - loss: 32875.8555 - mean_squared_error: 32875.8555 - val_loss: 22669.5820 - val_mean_squared_error: 22669.5820\n",
            "Epoch 352/500\n",
            "25/25 [==============================] - 0s 3ms/step - loss: 14020.5361 - mean_squared_error: 14020.5361 - val_loss: 18827.0234 - val_mean_squared_error: 18827.0234\n",
            "Epoch 353/500\n",
            "25/25 [==============================] - 0s 3ms/step - loss: 18642.3047 - mean_squared_error: 18642.3047 - val_loss: 94205.0234 - val_mean_squared_error: 94205.0234\n",
            "Epoch 354/500\n",
            "25/25 [==============================] - 0s 3ms/step - loss: 97312.6719 - mean_squared_error: 97312.6719 - val_loss: 46920.5664 - val_mean_squared_error: 46920.5664\n",
            "Epoch 355/500\n",
            "25/25 [==============================] - 0s 4ms/step - loss: 175614.0625 - mean_squared_error: 175614.0625 - val_loss: 241997.2031 - val_mean_squared_error: 241997.2031\n",
            "Epoch 356/500\n",
            "25/25 [==============================] - 0s 3ms/step - loss: 429480.2812 - mean_squared_error: 429480.2812 - val_loss: 863845.6250 - val_mean_squared_error: 863845.6250\n",
            "Epoch 357/500\n",
            "25/25 [==============================] - 0s 3ms/step - loss: 285645.8750 - mean_squared_error: 285645.8750 - val_loss: 216500.1406 - val_mean_squared_error: 216500.1406\n",
            "Epoch 358/500\n",
            "25/25 [==============================] - 0s 4ms/step - loss: 107988.7031 - mean_squared_error: 107988.7031 - val_loss: 144714.9844 - val_mean_squared_error: 144714.9844\n",
            "Epoch 359/500\n",
            "25/25 [==============================] - 0s 4ms/step - loss: 63932.7344 - mean_squared_error: 63932.7344 - val_loss: 84538.6641 - val_mean_squared_error: 84538.6641\n",
            "Epoch 360/500\n",
            "25/25 [==============================] - 0s 3ms/step - loss: 42413.5859 - mean_squared_error: 42413.5859 - val_loss: 81582.2891 - val_mean_squared_error: 81582.2891\n",
            "Epoch 361/500\n",
            "25/25 [==============================] - 0s 4ms/step - loss: 50615.6719 - mean_squared_error: 50615.6719 - val_loss: 27907.4277 - val_mean_squared_error: 27907.4277\n",
            "Epoch 362/500\n",
            "25/25 [==============================] - 0s 4ms/step - loss: 33413.4805 - mean_squared_error: 33413.4805 - val_loss: 57075.1641 - val_mean_squared_error: 57075.1641\n",
            "Epoch 363/500\n",
            "25/25 [==============================] - 0s 3ms/step - loss: 34263.8242 - mean_squared_error: 34263.8242 - val_loss: 44323.4102 - val_mean_squared_error: 44323.4102\n",
            "Epoch 364/500\n",
            "25/25 [==============================] - 0s 4ms/step - loss: 43159.0938 - mean_squared_error: 43159.0938 - val_loss: 45975.4688 - val_mean_squared_error: 45975.4688\n",
            "Epoch 365/500\n",
            "25/25 [==============================] - 0s 3ms/step - loss: 65220.0195 - mean_squared_error: 65220.0195 - val_loss: 75828.3984 - val_mean_squared_error: 75828.3984\n",
            "Epoch 366/500\n",
            "25/25 [==============================] - 0s 4ms/step - loss: 38264.4180 - mean_squared_error: 38264.4180 - val_loss: 53026.4375 - val_mean_squared_error: 53026.4375\n",
            "Epoch 367/500\n",
            "25/25 [==============================] - 0s 4ms/step - loss: 34345.9219 - mean_squared_error: 34345.9180 - val_loss: 70156.0938 - val_mean_squared_error: 70156.0938\n",
            "Epoch 368/500\n",
            "25/25 [==============================] - 0s 4ms/step - loss: 52947.3164 - mean_squared_error: 52947.3164 - val_loss: 40596.6094 - val_mean_squared_error: 40596.6094\n",
            "Epoch 369/500\n",
            "25/25 [==============================] - 0s 4ms/step - loss: 25803.3633 - mean_squared_error: 25803.3633 - val_loss: 29323.2676 - val_mean_squared_error: 29323.2676\n",
            "Epoch 370/500\n",
            "25/25 [==============================] - 0s 4ms/step - loss: 26414.9707 - mean_squared_error: 26414.9707 - val_loss: 22042.0801 - val_mean_squared_error: 22042.0801\n",
            "Epoch 371/500\n",
            "25/25 [==============================] - 0s 4ms/step - loss: 27388.4727 - mean_squared_error: 27388.4727 - val_loss: 19323.1016 - val_mean_squared_error: 19323.1016\n",
            "Epoch 372/500\n",
            "25/25 [==============================] - 0s 3ms/step - loss: 22787.0488 - mean_squared_error: 22787.0488 - val_loss: 13785.5283 - val_mean_squared_error: 13785.5283\n",
            "Epoch 373/500\n",
            "25/25 [==============================] - 0s 3ms/step - loss: 24111.0410 - mean_squared_error: 24111.0410 - val_loss: 37416.2344 - val_mean_squared_error: 37416.2344\n",
            "Epoch 374/500\n",
            "25/25 [==============================] - 0s 4ms/step - loss: 45671.0820 - mean_squared_error: 45671.0820 - val_loss: 33688.5547 - val_mean_squared_error: 33688.5547\n",
            "Epoch 375/500\n",
            "25/25 [==============================] - 0s 3ms/step - loss: 32877.5391 - mean_squared_error: 32877.5391 - val_loss: 33140.0703 - val_mean_squared_error: 33140.0703\n",
            "Epoch 376/500\n",
            "25/25 [==============================] - 0s 3ms/step - loss: 25251.3652 - mean_squared_error: 25251.3652 - val_loss: 31085.7383 - val_mean_squared_error: 31085.7383\n",
            "Epoch 377/500\n",
            "25/25 [==============================] - 0s 3ms/step - loss: 22049.8086 - mean_squared_error: 22049.8086 - val_loss: 27801.3652 - val_mean_squared_error: 27801.3652\n",
            "Epoch 378/500\n",
            "25/25 [==============================] - 0s 4ms/step - loss: 39605.7617 - mean_squared_error: 39605.7617 - val_loss: 49290.0547 - val_mean_squared_error: 49290.0547\n",
            "Epoch 379/500\n",
            "25/25 [==============================] - 0s 4ms/step - loss: 27962.8652 - mean_squared_error: 27962.8652 - val_loss: 27557.0527 - val_mean_squared_error: 27557.0527\n",
            "Epoch 380/500\n",
            "25/25 [==============================] - 0s 4ms/step - loss: 38712.6367 - mean_squared_error: 38712.6367 - val_loss: 25155.6836 - val_mean_squared_error: 25155.6836\n",
            "Epoch 381/500\n",
            "25/25 [==============================] - 0s 3ms/step - loss: 27226.7500 - mean_squared_error: 27226.7500 - val_loss: 34753.8203 - val_mean_squared_error: 34753.8203\n",
            "Epoch 382/500\n",
            "25/25 [==============================] - 0s 4ms/step - loss: 27416.5957 - mean_squared_error: 27416.5957 - val_loss: 20089.8223 - val_mean_squared_error: 20089.8223\n",
            "Epoch 383/500\n",
            "25/25 [==============================] - 0s 3ms/step - loss: 26809.8887 - mean_squared_error: 26809.8887 - val_loss: 45094.5820 - val_mean_squared_error: 45094.5820\n",
            "Epoch 384/500\n",
            "25/25 [==============================] - 0s 3ms/step - loss: 30862.4277 - mean_squared_error: 30862.4277 - val_loss: 42491.2734 - val_mean_squared_error: 42491.2734\n",
            "Epoch 385/500\n",
            "25/25 [==============================] - 0s 4ms/step - loss: 56595.1055 - mean_squared_error: 56595.1055 - val_loss: 65637.1484 - val_mean_squared_error: 65637.1484\n",
            "Epoch 386/500\n",
            "25/25 [==============================] - 0s 4ms/step - loss: 43814.8828 - mean_squared_error: 43814.8828 - val_loss: 49471.1250 - val_mean_squared_error: 49471.1250\n",
            "Epoch 387/500\n",
            "25/25 [==============================] - 0s 3ms/step - loss: 32942.3906 - mean_squared_error: 32942.3906 - val_loss: 50293.0703 - val_mean_squared_error: 50293.0703\n",
            "Epoch 388/500\n",
            "25/25 [==============================] - 0s 4ms/step - loss: 42001.3750 - mean_squared_error: 42001.3750 - val_loss: 28083.7461 - val_mean_squared_error: 28083.7461\n",
            "Epoch 389/500\n",
            "25/25 [==============================] - 0s 3ms/step - loss: 32792.2852 - mean_squared_error: 32792.2852 - val_loss: 73037.0156 - val_mean_squared_error: 73037.0156\n",
            "Epoch 390/500\n",
            "25/25 [==============================] - 0s 4ms/step - loss: 51640.9727 - mean_squared_error: 51640.9727 - val_loss: 23039.9902 - val_mean_squared_error: 23039.9902\n",
            "Epoch 391/500\n",
            "25/25 [==============================] - 0s 4ms/step - loss: 43399.0586 - mean_squared_error: 43399.0586 - val_loss: 58370.2656 - val_mean_squared_error: 58370.2656\n",
            "Epoch 392/500\n",
            "25/25 [==============================] - 0s 3ms/step - loss: 35694.1523 - mean_squared_error: 35694.1523 - val_loss: 33335.5312 - val_mean_squared_error: 33335.5312\n",
            "Epoch 393/500\n",
            "25/25 [==============================] - 0s 3ms/step - loss: 26859.4766 - mean_squared_error: 26859.4766 - val_loss: 74470.5234 - val_mean_squared_error: 74470.5234\n",
            "Epoch 394/500\n",
            "25/25 [==============================] - 0s 3ms/step - loss: 64713.8906 - mean_squared_error: 64713.8906 - val_loss: 44028.2266 - val_mean_squared_error: 44028.2266\n",
            "Epoch 395/500\n",
            "25/25 [==============================] - 0s 4ms/step - loss: 33704.4336 - mean_squared_error: 33704.4336 - val_loss: 25793.8555 - val_mean_squared_error: 25793.8555\n",
            "Epoch 396/500\n",
            "25/25 [==============================] - 0s 3ms/step - loss: 40367.1211 - mean_squared_error: 40367.1211 - val_loss: 41267.9414 - val_mean_squared_error: 41267.9414\n",
            "Epoch 397/500\n",
            "25/25 [==============================] - 0s 3ms/step - loss: 25966.8047 - mean_squared_error: 25966.8047 - val_loss: 28825.7910 - val_mean_squared_error: 28825.7891\n",
            "Epoch 398/500\n",
            "25/25 [==============================] - 0s 4ms/step - loss: 33271.0195 - mean_squared_error: 33271.0195 - val_loss: 24242.6074 - val_mean_squared_error: 24242.6074\n",
            "Epoch 399/500\n",
            "25/25 [==============================] - 0s 4ms/step - loss: 55172.2070 - mean_squared_error: 55172.2070 - val_loss: 47168.8711 - val_mean_squared_error: 47168.8711\n",
            "Epoch 400/500\n",
            "25/25 [==============================] - 0s 4ms/step - loss: 30184.6816 - mean_squared_error: 30184.6816 - val_loss: 16001.4775 - val_mean_squared_error: 16001.4775\n",
            "Epoch 401/500\n",
            "25/25 [==============================] - 0s 4ms/step - loss: 21252.5234 - mean_squared_error: 21252.5234 - val_loss: 20811.9980 - val_mean_squared_error: 20811.9980\n",
            "Epoch 402/500\n",
            "25/25 [==============================] - 0s 3ms/step - loss: 19295.3496 - mean_squared_error: 19295.3496 - val_loss: 24018.8496 - val_mean_squared_error: 24018.8496\n",
            "Epoch 403/500\n",
            "25/25 [==============================] - 0s 4ms/step - loss: 31604.7070 - mean_squared_error: 31604.7070 - val_loss: 41081.2422 - val_mean_squared_error: 41081.2422\n",
            "Epoch 404/500\n",
            "25/25 [==============================] - 0s 3ms/step - loss: 55596.4805 - mean_squared_error: 55596.4805 - val_loss: 71995.0625 - val_mean_squared_error: 71995.0625\n",
            "Epoch 405/500\n",
            "25/25 [==============================] - 0s 4ms/step - loss: 122269.1406 - mean_squared_error: 122269.1406 - val_loss: 58341.0156 - val_mean_squared_error: 58341.0195\n",
            "Epoch 406/500\n",
            "25/25 [==============================] - 0s 4ms/step - loss: 45741.0977 - mean_squared_error: 45741.0977 - val_loss: 52588.0977 - val_mean_squared_error: 52588.0977\n",
            "Epoch 407/500\n",
            "25/25 [==============================] - 0s 5ms/step - loss: 32743.4395 - mean_squared_error: 32743.4395 - val_loss: 31986.0371 - val_mean_squared_error: 31986.0371\n",
            "Epoch 408/500\n",
            "25/25 [==============================] - 0s 4ms/step - loss: 23301.8887 - mean_squared_error: 23301.8887 - val_loss: 20482.4141 - val_mean_squared_error: 20482.4141\n",
            "Epoch 409/500\n",
            "25/25 [==============================] - 0s 4ms/step - loss: 58442.7109 - mean_squared_error: 58442.7109 - val_loss: 33050.1562 - val_mean_squared_error: 33050.1562\n",
            "Epoch 410/500\n",
            "25/25 [==============================] - 0s 3ms/step - loss: 33521.2461 - mean_squared_error: 33521.2461 - val_loss: 35331.0469 - val_mean_squared_error: 35331.0469\n",
            "Epoch 411/500\n",
            "25/25 [==============================] - 0s 3ms/step - loss: 35109.2812 - mean_squared_error: 35109.2812 - val_loss: 58373.1133 - val_mean_squared_error: 58373.1211\n",
            "Epoch 412/500\n",
            "25/25 [==============================] - 0s 4ms/step - loss: 37108.3555 - mean_squared_error: 37108.3555 - val_loss: 56436.5547 - val_mean_squared_error: 56436.5547\n",
            "Epoch 413/500\n",
            "25/25 [==============================] - 0s 4ms/step - loss: 36151.2266 - mean_squared_error: 36151.2344 - val_loss: 62421.2773 - val_mean_squared_error: 62421.2773\n",
            "Epoch 414/500\n",
            "25/25 [==============================] - 0s 4ms/step - loss: 44704.3516 - mean_squared_error: 44704.3516 - val_loss: 43864.4336 - val_mean_squared_error: 43864.4336\n",
            "Epoch 415/500\n",
            "25/25 [==============================] - 0s 4ms/step - loss: 93994.5312 - mean_squared_error: 93994.5391 - val_loss: 107330.5078 - val_mean_squared_error: 107330.5078\n",
            "Epoch 416/500\n",
            "25/25 [==============================] - 0s 4ms/step - loss: 78724.2031 - mean_squared_error: 78724.2031 - val_loss: 106649.3828 - val_mean_squared_error: 106649.3828\n",
            "Epoch 417/500\n",
            "25/25 [==============================] - 0s 4ms/step - loss: 107541.0703 - mean_squared_error: 107541.0703 - val_loss: 155052.9062 - val_mean_squared_error: 155052.9062\n",
            "Epoch 418/500\n",
            "25/25 [==============================] - 0s 3ms/step - loss: 97552.5234 - mean_squared_error: 97552.5234 - val_loss: 71422.7656 - val_mean_squared_error: 71422.7656\n",
            "Epoch 419/500\n",
            "25/25 [==============================] - 0s 4ms/step - loss: 42622.5938 - mean_squared_error: 42622.5938 - val_loss: 33305.2852 - val_mean_squared_error: 33305.2852\n",
            "Epoch 420/500\n",
            "25/25 [==============================] - 0s 3ms/step - loss: 39396.9375 - mean_squared_error: 39396.9375 - val_loss: 51324.2500 - val_mean_squared_error: 51324.2539\n",
            "Epoch 421/500\n",
            "25/25 [==============================] - 0s 3ms/step - loss: 43185.9180 - mean_squared_error: 43185.9180 - val_loss: 48649.0078 - val_mean_squared_error: 48649.0078\n",
            "Epoch 422/500\n",
            "25/25 [==============================] - 0s 3ms/step - loss: 319157.2812 - mean_squared_error: 319157.2812 - val_loss: 82722.3438 - val_mean_squared_error: 82722.3438\n",
            "Epoch 423/500\n",
            "25/25 [==============================] - 0s 4ms/step - loss: 102476.7656 - mean_squared_error: 102476.7656 - val_loss: 210871.0000 - val_mean_squared_error: 210871.0000\n",
            "Epoch 424/500\n",
            "25/25 [==============================] - 0s 3ms/step - loss: 118028.7266 - mean_squared_error: 118028.7266 - val_loss: 90920.5078 - val_mean_squared_error: 90920.5078\n",
            "Epoch 425/500\n",
            "25/25 [==============================] - 0s 3ms/step - loss: 110443.5391 - mean_squared_error: 110443.5391 - val_loss: 80491.2344 - val_mean_squared_error: 80491.2344\n",
            "Epoch 426/500\n",
            "25/25 [==============================] - 0s 4ms/step - loss: 122657.2031 - mean_squared_error: 122657.2031 - val_loss: 168294.8125 - val_mean_squared_error: 168294.8125\n",
            "Epoch 427/500\n",
            "25/25 [==============================] - 0s 4ms/step - loss: 105602.8281 - mean_squared_error: 105602.8281 - val_loss: 89468.5781 - val_mean_squared_error: 89468.5781\n",
            "Epoch 428/500\n",
            "25/25 [==============================] - 0s 3ms/step - loss: 56004.3906 - mean_squared_error: 56004.3906 - val_loss: 48776.6172 - val_mean_squared_error: 48776.6172\n",
            "Epoch 429/500\n",
            "25/25 [==============================] - 0s 4ms/step - loss: 41244.6953 - mean_squared_error: 41244.6953 - val_loss: 35577.9219 - val_mean_squared_error: 35577.9219\n",
            "Epoch 430/500\n",
            "25/25 [==============================] - 0s 4ms/step - loss: 23992.2656 - mean_squared_error: 23992.2656 - val_loss: 27548.6016 - val_mean_squared_error: 27548.6016\n",
            "Epoch 431/500\n",
            "25/25 [==============================] - 0s 3ms/step - loss: 46841.1680 - mean_squared_error: 46841.1680 - val_loss: 88098.8438 - val_mean_squared_error: 88098.8438\n",
            "Epoch 432/500\n",
            "25/25 [==============================] - 0s 3ms/step - loss: 36732.6016 - mean_squared_error: 36732.6016 - val_loss: 45727.3164 - val_mean_squared_error: 45727.3164\n",
            "Epoch 433/500\n",
            "25/25 [==============================] - 0s 4ms/step - loss: 27786.9922 - mean_squared_error: 27786.9922 - val_loss: 21478.9141 - val_mean_squared_error: 21478.9141\n",
            "Epoch 434/500\n",
            "25/25 [==============================] - 0s 3ms/step - loss: 21326.4551 - mean_squared_error: 21326.4551 - val_loss: 34481.0195 - val_mean_squared_error: 34481.0195\n",
            "Epoch 435/500\n",
            "25/25 [==============================] - 0s 4ms/step - loss: 24694.9395 - mean_squared_error: 24694.9395 - val_loss: 32889.9414 - val_mean_squared_error: 32889.9414\n",
            "Epoch 436/500\n",
            "25/25 [==============================] - 0s 4ms/step - loss: 40810.1445 - mean_squared_error: 40810.1445 - val_loss: 28870.8730 - val_mean_squared_error: 28870.8730\n",
            "Epoch 437/500\n",
            "25/25 [==============================] - 0s 4ms/step - loss: 21763.6855 - mean_squared_error: 21763.6855 - val_loss: 22021.4082 - val_mean_squared_error: 22021.4082\n",
            "Epoch 438/500\n",
            "25/25 [==============================] - 0s 4ms/step - loss: 25032.4121 - mean_squared_error: 25032.4121 - val_loss: 23809.0742 - val_mean_squared_error: 23809.0742\n",
            "Epoch 439/500\n",
            "25/25 [==============================] - 0s 4ms/step - loss: 31747.5527 - mean_squared_error: 31747.5527 - val_loss: 31062.9863 - val_mean_squared_error: 31062.9863\n",
            "Epoch 440/500\n",
            "25/25 [==============================] - 0s 3ms/step - loss: 70138.0391 - mean_squared_error: 70138.0391 - val_loss: 57451.7578 - val_mean_squared_error: 57451.7539\n",
            "Epoch 441/500\n",
            "25/25 [==============================] - 0s 3ms/step - loss: 25401.7969 - mean_squared_error: 25401.7969 - val_loss: 12609.5068 - val_mean_squared_error: 12609.5068\n",
            "Epoch 442/500\n",
            "25/25 [==============================] - 0s 4ms/step - loss: 31144.8906 - mean_squared_error: 31144.8906 - val_loss: 59138.8945 - val_mean_squared_error: 59138.8945\n",
            "Epoch 443/500\n",
            "25/25 [==============================] - 0s 3ms/step - loss: 41859.5547 - mean_squared_error: 41859.5547 - val_loss: 55934.3516 - val_mean_squared_error: 55934.3516\n",
            "Epoch 444/500\n",
            "25/25 [==============================] - 0s 4ms/step - loss: 46920.0352 - mean_squared_error: 46920.0352 - val_loss: 54687.9805 - val_mean_squared_error: 54687.9805\n",
            "Epoch 445/500\n",
            "25/25 [==============================] - 0s 4ms/step - loss: 57195.2031 - mean_squared_error: 57195.2031 - val_loss: 101153.7188 - val_mean_squared_error: 101153.7188\n",
            "Epoch 446/500\n",
            "25/25 [==============================] - 0s 3ms/step - loss: 33234.3008 - mean_squared_error: 33234.3008 - val_loss: 27936.7539 - val_mean_squared_error: 27936.7539\n",
            "Epoch 447/500\n",
            "25/25 [==============================] - 0s 4ms/step - loss: 28779.8965 - mean_squared_error: 28779.8965 - val_loss: 32706.0098 - val_mean_squared_error: 32706.0098\n",
            "Epoch 448/500\n",
            "25/25 [==============================] - 0s 4ms/step - loss: 23671.0977 - mean_squared_error: 23671.0977 - val_loss: 10159.4502 - val_mean_squared_error: 10159.4502\n",
            "Epoch 449/500\n",
            "25/25 [==============================] - 0s 4ms/step - loss: 35857.1094 - mean_squared_error: 35857.1094 - val_loss: 22648.3223 - val_mean_squared_error: 22648.3203\n",
            "Epoch 450/500\n",
            "25/25 [==============================] - 0s 5ms/step - loss: 18767.4746 - mean_squared_error: 18767.4746 - val_loss: 12207.0283 - val_mean_squared_error: 12207.0283\n",
            "Epoch 451/500\n",
            "25/25 [==============================] - 0s 3ms/step - loss: 18168.2930 - mean_squared_error: 18168.2949 - val_loss: 14299.6240 - val_mean_squared_error: 14299.6240\n",
            "Epoch 452/500\n",
            "25/25 [==============================] - 0s 3ms/step - loss: 23788.8066 - mean_squared_error: 23788.8066 - val_loss: 22023.0742 - val_mean_squared_error: 22023.0781\n",
            "Epoch 453/500\n",
            "25/25 [==============================] - 0s 3ms/step - loss: 34761.9102 - mean_squared_error: 34761.9102 - val_loss: 27394.7539 - val_mean_squared_error: 27394.7539\n",
            "Epoch 454/500\n",
            "25/25 [==============================] - 0s 4ms/step - loss: 42971.9531 - mean_squared_error: 42971.9531 - val_loss: 31056.1113 - val_mean_squared_error: 31056.1113\n",
            "Epoch 455/500\n",
            "25/25 [==============================] - 0s 4ms/step - loss: 21376.4629 - mean_squared_error: 21376.4629 - val_loss: 19621.4980 - val_mean_squared_error: 19621.4980\n",
            "Epoch 456/500\n",
            "25/25 [==============================] - 0s 4ms/step - loss: 28828.1719 - mean_squared_error: 28828.1719 - val_loss: 58375.3984 - val_mean_squared_error: 58375.3984\n",
            "Epoch 457/500\n",
            "25/25 [==============================] - 0s 3ms/step - loss: 89092.3906 - mean_squared_error: 89092.3906 - val_loss: 108178.4375 - val_mean_squared_error: 108178.4375\n",
            "Epoch 458/500\n",
            "25/25 [==============================] - 0s 3ms/step - loss: 54067.5820 - mean_squared_error: 54067.5820 - val_loss: 55945.5039 - val_mean_squared_error: 55945.5039\n",
            "Epoch 459/500\n",
            "25/25 [==============================] - 0s 4ms/step - loss: 21477.6270 - mean_squared_error: 21477.6270 - val_loss: 46656.6523 - val_mean_squared_error: 46656.6523\n",
            "Epoch 460/500\n",
            "25/25 [==============================] - 0s 4ms/step - loss: 29562.3867 - mean_squared_error: 29562.3867 - val_loss: 10267.1865 - val_mean_squared_error: 10267.1865\n",
            "Epoch 461/500\n",
            "25/25 [==============================] - 0s 3ms/step - loss: 54669.6992 - mean_squared_error: 54669.6992 - val_loss: 17332.3398 - val_mean_squared_error: 17332.3398\n",
            "Epoch 462/500\n",
            "25/25 [==============================] - 0s 4ms/step - loss: 39066.6289 - mean_squared_error: 39066.6289 - val_loss: 48968.7656 - val_mean_squared_error: 48968.7656\n",
            "Epoch 463/500\n",
            "25/25 [==============================] - 0s 4ms/step - loss: 28557.1484 - mean_squared_error: 28557.1484 - val_loss: 20003.3223 - val_mean_squared_error: 20003.3223\n",
            "Epoch 464/500\n",
            "25/25 [==============================] - 0s 4ms/step - loss: 28890.4980 - mean_squared_error: 28890.4980 - val_loss: 59186.1797 - val_mean_squared_error: 59186.1797\n",
            "Epoch 465/500\n",
            "25/25 [==============================] - 0s 4ms/step - loss: 38066.0039 - mean_squared_error: 38066.0039 - val_loss: 18143.7148 - val_mean_squared_error: 18143.7148\n",
            "Epoch 466/500\n",
            "25/25 [==============================] - 0s 4ms/step - loss: 27041.1641 - mean_squared_error: 27041.1641 - val_loss: 21771.2891 - val_mean_squared_error: 21771.2891\n",
            "Epoch 467/500\n",
            "25/25 [==============================] - 0s 3ms/step - loss: 26651.8242 - mean_squared_error: 26651.8242 - val_loss: 28351.5859 - val_mean_squared_error: 28351.5859\n",
            "Epoch 468/500\n",
            "25/25 [==============================] - 0s 4ms/step - loss: 34247.1992 - mean_squared_error: 34247.1992 - val_loss: 24594.8535 - val_mean_squared_error: 24594.8535\n",
            "Epoch 469/500\n",
            "25/25 [==============================] - 0s 4ms/step - loss: 30976.5020 - mean_squared_error: 30976.5020 - val_loss: 31091.4629 - val_mean_squared_error: 31091.4629\n",
            "Epoch 470/500\n",
            "25/25 [==============================] - 0s 4ms/step - loss: 22316.3008 - mean_squared_error: 22316.3008 - val_loss: 21379.5469 - val_mean_squared_error: 21379.5469\n",
            "Epoch 471/500\n",
            "25/25 [==============================] - 0s 3ms/step - loss: 37413.4258 - mean_squared_error: 37413.4258 - val_loss: 59186.5195 - val_mean_squared_error: 59186.5195\n",
            "Epoch 472/500\n",
            "25/25 [==============================] - 0s 4ms/step - loss: 54875.8906 - mean_squared_error: 54875.8906 - val_loss: 19827.8945 - val_mean_squared_error: 19827.8965\n",
            "Epoch 473/500\n",
            "25/25 [==============================] - 0s 4ms/step - loss: 25373.2266 - mean_squared_error: 25373.2266 - val_loss: 37089.6367 - val_mean_squared_error: 37089.6367\n",
            "Epoch 474/500\n",
            "25/25 [==============================] - 0s 4ms/step - loss: 39530.8359 - mean_squared_error: 39530.8359 - val_loss: 45406.3438 - val_mean_squared_error: 45406.3438\n",
            "Epoch 475/500\n",
            "25/25 [==============================] - 0s 4ms/step - loss: 46852.2695 - mean_squared_error: 46852.2695 - val_loss: 25538.0781 - val_mean_squared_error: 25538.0781\n",
            "Epoch 476/500\n",
            "25/25 [==============================] - 0s 4ms/step - loss: 58129.1914 - mean_squared_error: 58129.1914 - val_loss: 68573.2109 - val_mean_squared_error: 68573.2109\n",
            "Epoch 477/500\n",
            "25/25 [==============================] - 0s 3ms/step - loss: 42925.6719 - mean_squared_error: 42925.6719 - val_loss: 52120.2930 - val_mean_squared_error: 52120.2930\n",
            "Epoch 478/500\n",
            "25/25 [==============================] - 0s 4ms/step - loss: 31839.7383 - mean_squared_error: 31839.7383 - val_loss: 24762.6074 - val_mean_squared_error: 24762.6074\n",
            "Epoch 479/500\n",
            "25/25 [==============================] - 0s 4ms/step - loss: 17458.8691 - mean_squared_error: 17458.8691 - val_loss: 55715.4414 - val_mean_squared_error: 55715.4414\n",
            "Epoch 480/500\n",
            "25/25 [==============================] - 0s 4ms/step - loss: 24370.9824 - mean_squared_error: 24370.9824 - val_loss: 29240.8223 - val_mean_squared_error: 29240.8223\n",
            "Epoch 481/500\n",
            "25/25 [==============================] - 0s 4ms/step - loss: 25145.7422 - mean_squared_error: 25145.7422 - val_loss: 10644.8320 - val_mean_squared_error: 10644.8320\n",
            "Epoch 482/500\n",
            "25/25 [==============================] - 0s 4ms/step - loss: 20866.8887 - mean_squared_error: 20866.8887 - val_loss: 40728.0703 - val_mean_squared_error: 40728.0703\n",
            "Epoch 483/500\n",
            "25/25 [==============================] - 0s 4ms/step - loss: 43491.6758 - mean_squared_error: 43491.6719 - val_loss: 19148.9180 - val_mean_squared_error: 19148.9180\n",
            "Epoch 484/500\n",
            "25/25 [==============================] - 0s 5ms/step - loss: 18096.9727 - mean_squared_error: 18096.9727 - val_loss: 10136.8682 - val_mean_squared_error: 10136.8672\n",
            "Epoch 485/500\n",
            "25/25 [==============================] - 0s 4ms/step - loss: 75469.2969 - mean_squared_error: 75469.2969 - val_loss: 62180.2617 - val_mean_squared_error: 62180.2578\n",
            "Epoch 486/500\n",
            "25/25 [==============================] - 0s 4ms/step - loss: 87933.8281 - mean_squared_error: 87933.8281 - val_loss: 79562.0156 - val_mean_squared_error: 79562.0156\n",
            "Epoch 487/500\n",
            "25/25 [==============================] - 0s 4ms/step - loss: 31563.0645 - mean_squared_error: 31563.0645 - val_loss: 34351.5703 - val_mean_squared_error: 34351.5703\n",
            "Epoch 488/500\n",
            "25/25 [==============================] - 0s 4ms/step - loss: 43387.1289 - mean_squared_error: 43387.1289 - val_loss: 14853.6299 - val_mean_squared_error: 14853.6299\n",
            "Epoch 489/500\n",
            "25/25 [==============================] - 0s 3ms/step - loss: 34703.3398 - mean_squared_error: 34703.3398 - val_loss: 54055.1719 - val_mean_squared_error: 54055.1719\n",
            "Epoch 490/500\n",
            "25/25 [==============================] - 0s 5ms/step - loss: 48240.2812 - mean_squared_error: 48240.2812 - val_loss: 212901.8125 - val_mean_squared_error: 212901.8125\n",
            "Epoch 491/500\n",
            "25/25 [==============================] - 0s 3ms/step - loss: 41579.1992 - mean_squared_error: 41579.1992 - val_loss: 47017.8867 - val_mean_squared_error: 47017.8867\n",
            "Epoch 492/500\n",
            "25/25 [==============================] - 0s 4ms/step - loss: 26977.9199 - mean_squared_error: 26977.9199 - val_loss: 25866.9004 - val_mean_squared_error: 25866.9004\n",
            "Epoch 493/500\n",
            "25/25 [==============================] - 0s 4ms/step - loss: 32038.5254 - mean_squared_error: 32038.5254 - val_loss: 29960.3281 - val_mean_squared_error: 29960.3281\n",
            "Epoch 494/500\n",
            "25/25 [==============================] - 0s 4ms/step - loss: 39409.4375 - mean_squared_error: 39409.4414 - val_loss: 20418.2773 - val_mean_squared_error: 20418.2773\n",
            "Epoch 495/500\n",
            "25/25 [==============================] - 0s 4ms/step - loss: 35642.8750 - mean_squared_error: 35642.8750 - val_loss: 47045.4062 - val_mean_squared_error: 47045.4062\n",
            "Epoch 496/500\n",
            "25/25 [==============================] - 0s 5ms/step - loss: 49860.5391 - mean_squared_error: 49860.5430 - val_loss: 40315.2539 - val_mean_squared_error: 40315.2539\n",
            "Epoch 497/500\n",
            "25/25 [==============================] - 0s 5ms/step - loss: 55558.2852 - mean_squared_error: 55558.2930 - val_loss: 76381.8750 - val_mean_squared_error: 76381.8750\n",
            "Epoch 498/500\n",
            "25/25 [==============================] - 0s 4ms/step - loss: 31629.5527 - mean_squared_error: 31629.5527 - val_loss: 23151.7773 - val_mean_squared_error: 23151.7773\n",
            "Epoch 499/500\n",
            "25/25 [==============================] - 0s 4ms/step - loss: 19495.9375 - mean_squared_error: 19495.9375 - val_loss: 9951.7920 - val_mean_squared_error: 9951.7920\n",
            "Epoch 500/500\n",
            "25/25 [==============================] - 0s 4ms/step - loss: 12308.7559 - mean_squared_error: 12308.7568 - val_loss: 14653.8828 - val_mean_squared_error: 14653.8818\n"
          ],
          "name": "stdout"
        },
        {
          "output_type": "execute_result",
          "data": {
            "text/plain": [
              "<tensorflow.python.keras.callbacks.History at 0x7f54ad6fc6d0>"
            ]
          },
          "metadata": {
            "tags": []
          },
          "execution_count": 26
        }
      ]
    },
    {
      "cell_type": "code",
      "metadata": {
        "colab": {
          "base_uri": "https://localhost:8080/",
          "height": 282
        },
        "id": "HhWndfypCstU",
        "outputId": "93f0f613-26f2-4f03-9754-04ca4ebc15f3"
      },
      "source": [
        "y_test_pred=model.predict(x_test.reshape((x_test.shape[0],1,37))).flatten()\n",
        "\n",
        "sns.lineplot(x=np.arange(len(y_test)),y=y_test) \n",
        "sns.lineplot(x=np.arange(len(y_test)),y=y_test_pred)\n",
        "plt.ylabel('priceUSD')"
      ],
      "execution_count": 27,
      "outputs": [
        {
          "output_type": "execute_result",
          "data": {
            "text/plain": [
              "Text(0, 0.5, 'priceUSD')"
            ]
          },
          "metadata": {
            "tags": []
          },
          "execution_count": 27
        },
        {
          "output_type": "display_data",
          "data": {
            "image/png": "[encoded data removed]",
            "text/plain": [
              "<Figure size 432x288 with 1 Axes>"
            ]
          },
          "metadata": {
            "tags": [],
            "needs_background": "light"
          }
        }
      ]
    },
    {
      "cell_type": "code",
      "metadata": {
        "colab": {
          "base_uri": "https://localhost:8080/"
        },
        "id": "nSEGeWwvTrj3",
        "outputId": "5e7f3777-6f2b-4220-f084-a83c11101383"
      },
      "source": [
        "print(mean_squared_error(y_test, y_test_pred))"
      ],
      "execution_count": 28,
      "outputs": [
        {
          "output_type": "stream",
          "text": [
            "413609.7189134226\n"
          ],
          "name": "stdout"
        }
      ]
    },
    {
      "cell_type": "code",
      "metadata": {
        "id": "EtgSV6xNLcZr",
        "colab": {
          "base_uri": "https://localhost:8080/",
          "height": 370
        },
        "outputId": "68cafca9-d7dc-483c-d092-8eb5db3294a9"
      },
      "source": [
        "train=[]\n",
        "cv=[]\n",
        "for i in [1,10,100,1000,10000,100000]:\n",
        "  regr = make_pipeline(RobustScaler(),StandardScaler(), SVR(kernel='rbf',C=i, epsilon=0.2))\n",
        "  regr.fit(x_train,y_train)\n",
        "  y_train_pred=regr.predict(x_train)\n",
        "  train.append(mean_squared_error(y_train, y_train_pred))\n",
        "  y_cv_pred=regr.predict(x_cv)\n",
        "  cv.append(mean_squared_error(y_cv, y_cv_pred))\n",
        "plt.plot(train)\n",
        "plt.plot(cv)\n",
        "plt.show()"
      ],
      "execution_count": 23,
      "outputs": [
        {
          "output_type": "error",
          "ename": "KeyboardInterrupt",
          "evalue": "ignored",
          "traceback": [
            "\u001b[0;31m---------------------------------------------------------------------------\u001b[0m",
            "\u001b[0;31mKeyboardInterrupt\u001b[0m                         Traceback (most recent call last)",
            "\u001b[0;32m<ipython-input-23-4d5d8ecd1e51>\u001b[0m in \u001b[0;36m<module>\u001b[0;34m()\u001b[0m\n\u001b[1;32m      3\u001b[0m \u001b[0;32mfor\u001b[0m \u001b[0mi\u001b[0m \u001b[0;32min\u001b[0m \u001b[0;34m[\u001b[0m\u001b[0;36m1\u001b[0m\u001b[0;34m,\u001b[0m\u001b[0;36m10\u001b[0m\u001b[0;34m,\u001b[0m\u001b[0;36m100\u001b[0m\u001b[0;34m,\u001b[0m\u001b[0;36m1000\u001b[0m\u001b[0;34m,\u001b[0m\u001b[0;36m10000\u001b[0m\u001b[0;34m,\u001b[0m\u001b[0;36m100000\u001b[0m\u001b[0;34m]\u001b[0m\u001b[0;34m:\u001b[0m\u001b[0;34m\u001b[0m\u001b[0;34m\u001b[0m\u001b[0m\n\u001b[1;32m      4\u001b[0m   \u001b[0mregr\u001b[0m \u001b[0;34m=\u001b[0m \u001b[0mmake_pipeline\u001b[0m\u001b[0;34m(\u001b[0m\u001b[0mRobustScaler\u001b[0m\u001b[0;34m(\u001b[0m\u001b[0;34m)\u001b[0m\u001b[0;34m,\u001b[0m\u001b[0mStandardScaler\u001b[0m\u001b[0;34m(\u001b[0m\u001b[0;34m)\u001b[0m\u001b[0;34m,\u001b[0m \u001b[0mSVR\u001b[0m\u001b[0;34m(\u001b[0m\u001b[0mkernel\u001b[0m\u001b[0;34m=\u001b[0m\u001b[0;34m'rbf'\u001b[0m\u001b[0;34m,\u001b[0m\u001b[0mC\u001b[0m\u001b[0;34m=\u001b[0m\u001b[0mi\u001b[0m\u001b[0;34m,\u001b[0m \u001b[0mepsilon\u001b[0m\u001b[0;34m=\u001b[0m\u001b[0;36m0.2\u001b[0m\u001b[0;34m)\u001b[0m\u001b[0;34m)\u001b[0m\u001b[0;34m\u001b[0m\u001b[0;34m\u001b[0m\u001b[0m\n\u001b[0;32m----> 5\u001b[0;31m   \u001b[0mregr\u001b[0m\u001b[0;34m.\u001b[0m\u001b[0mfit\u001b[0m\u001b[0;34m(\u001b[0m\u001b[0mx_train\u001b[0m\u001b[0;34m,\u001b[0m\u001b[0my_train\u001b[0m\u001b[0;34m)\u001b[0m\u001b[0;34m\u001b[0m\u001b[0;34m\u001b[0m\u001b[0m\n\u001b[0m\u001b[1;32m      6\u001b[0m   \u001b[0my_train_pred\u001b[0m\u001b[0;34m=\u001b[0m\u001b[0mregr\u001b[0m\u001b[0;34m.\u001b[0m\u001b[0mpredict\u001b[0m\u001b[0;34m(\u001b[0m\u001b[0mx_train\u001b[0m\u001b[0;34m)\u001b[0m\u001b[0;34m\u001b[0m\u001b[0;34m\u001b[0m\u001b[0m\n\u001b[1;32m      7\u001b[0m   \u001b[0mtrain\u001b[0m\u001b[0;34m.\u001b[0m\u001b[0mappend\u001b[0m\u001b[0;34m(\u001b[0m\u001b[0mmean_squared_error\u001b[0m\u001b[0;34m(\u001b[0m\u001b[0my_train\u001b[0m\u001b[0;34m,\u001b[0m \u001b[0my_train_pred\u001b[0m\u001b[0;34m)\u001b[0m\u001b[0;34m)\u001b[0m\u001b[0;34m\u001b[0m\u001b[0;34m\u001b[0m\u001b[0m\n",
            "\u001b[0;32m/usr/local/lib/python3.7/dist-packages/sklearn/pipeline.py\u001b[0m in \u001b[0;36mfit\u001b[0;34m(self, X, y, **fit_params)\u001b[0m\n\u001b[1;32m    352\u001b[0m                                  self._log_message(len(self.steps) - 1)):\n\u001b[1;32m    353\u001b[0m             \u001b[0;32mif\u001b[0m \u001b[0mself\u001b[0m\u001b[0;34m.\u001b[0m\u001b[0m_final_estimator\u001b[0m \u001b[0;34m!=\u001b[0m \u001b[0;34m'passthrough'\u001b[0m\u001b[0;34m:\u001b[0m\u001b[0;34m\u001b[0m\u001b[0;34m\u001b[0m\u001b[0m\n\u001b[0;32m--> 354\u001b[0;31m                 \u001b[0mself\u001b[0m\u001b[0;34m.\u001b[0m\u001b[0m_final_estimator\u001b[0m\u001b[0;34m.\u001b[0m\u001b[0mfit\u001b[0m\u001b[0;34m(\u001b[0m\u001b[0mXt\u001b[0m\u001b[0;34m,\u001b[0m \u001b[0my\u001b[0m\u001b[0;34m,\u001b[0m \u001b[0;34m**\u001b[0m\u001b[0mfit_params\u001b[0m\u001b[0;34m)\u001b[0m\u001b[0;34m\u001b[0m\u001b[0;34m\u001b[0m\u001b[0m\n\u001b[0m\u001b[1;32m    355\u001b[0m         \u001b[0;32mreturn\u001b[0m \u001b[0mself\u001b[0m\u001b[0;34m\u001b[0m\u001b[0;34m\u001b[0m\u001b[0m\n\u001b[1;32m    356\u001b[0m \u001b[0;34m\u001b[0m\u001b[0m\n",
            "\u001b[0;32m/usr/local/lib/python3.7/dist-packages/sklearn/svm/_base.py\u001b[0m in \u001b[0;36mfit\u001b[0;34m(self, X, y, sample_weight)\u001b[0m\n\u001b[1;32m    197\u001b[0m \u001b[0;34m\u001b[0m\u001b[0m\n\u001b[1;32m    198\u001b[0m         \u001b[0mseed\u001b[0m \u001b[0;34m=\u001b[0m \u001b[0mrnd\u001b[0m\u001b[0;34m.\u001b[0m\u001b[0mrandint\u001b[0m\u001b[0;34m(\u001b[0m\u001b[0mnp\u001b[0m\u001b[0;34m.\u001b[0m\u001b[0miinfo\u001b[0m\u001b[0;34m(\u001b[0m\u001b[0;34m'i'\u001b[0m\u001b[0;34m)\u001b[0m\u001b[0;34m.\u001b[0m\u001b[0mmax\u001b[0m\u001b[0;34m)\u001b[0m\u001b[0;34m\u001b[0m\u001b[0;34m\u001b[0m\u001b[0m\n\u001b[0;32m--> 199\u001b[0;31m         \u001b[0mfit\u001b[0m\u001b[0;34m(\u001b[0m\u001b[0mX\u001b[0m\u001b[0;34m,\u001b[0m \u001b[0my\u001b[0m\u001b[0;34m,\u001b[0m \u001b[0msample_weight\u001b[0m\u001b[0;34m,\u001b[0m \u001b[0msolver_type\u001b[0m\u001b[0;34m,\u001b[0m \u001b[0mkernel\u001b[0m\u001b[0;34m,\u001b[0m \u001b[0mrandom_seed\u001b[0m\u001b[0;34m=\u001b[0m\u001b[0mseed\u001b[0m\u001b[0;34m)\u001b[0m\u001b[0;34m\u001b[0m\u001b[0;34m\u001b[0m\u001b[0m\n\u001b[0m\u001b[1;32m    200\u001b[0m         \u001b[0;31m# see comment on the other call to np.iinfo in this file\u001b[0m\u001b[0;34m\u001b[0m\u001b[0;34m\u001b[0m\u001b[0;34m\u001b[0m\u001b[0m\n\u001b[1;32m    201\u001b[0m \u001b[0;34m\u001b[0m\u001b[0m\n",
            "\u001b[0;32m/usr/local/lib/python3.7/dist-packages/sklearn/svm/_base.py\u001b[0m in \u001b[0;36m_dense_fit\u001b[0;34m(self, X, y, sample_weight, solver_type, kernel, random_seed)\u001b[0m\n\u001b[1;32m    256\u001b[0m                 \u001b[0mcache_size\u001b[0m\u001b[0;34m=\u001b[0m\u001b[0mself\u001b[0m\u001b[0;34m.\u001b[0m\u001b[0mcache_size\u001b[0m\u001b[0;34m,\u001b[0m \u001b[0mcoef0\u001b[0m\u001b[0;34m=\u001b[0m\u001b[0mself\u001b[0m\u001b[0;34m.\u001b[0m\u001b[0mcoef0\u001b[0m\u001b[0;34m,\u001b[0m\u001b[0;34m\u001b[0m\u001b[0;34m\u001b[0m\u001b[0m\n\u001b[1;32m    257\u001b[0m                 \u001b[0mgamma\u001b[0m\u001b[0;34m=\u001b[0m\u001b[0mself\u001b[0m\u001b[0;34m.\u001b[0m\u001b[0m_gamma\u001b[0m\u001b[0;34m,\u001b[0m \u001b[0mepsilon\u001b[0m\u001b[0;34m=\u001b[0m\u001b[0mself\u001b[0m\u001b[0;34m.\u001b[0m\u001b[0mepsilon\u001b[0m\u001b[0;34m,\u001b[0m\u001b[0;34m\u001b[0m\u001b[0;34m\u001b[0m\u001b[0m\n\u001b[0;32m--> 258\u001b[0;31m                 max_iter=self.max_iter, random_seed=random_seed)\n\u001b[0m\u001b[1;32m    259\u001b[0m \u001b[0;34m\u001b[0m\u001b[0m\n\u001b[1;32m    260\u001b[0m         \u001b[0mself\u001b[0m\u001b[0;34m.\u001b[0m\u001b[0m_warn_from_fit_status\u001b[0m\u001b[0;34m(\u001b[0m\u001b[0;34m)\u001b[0m\u001b[0;34m\u001b[0m\u001b[0;34m\u001b[0m\u001b[0m\n",
            "\u001b[0;31mKeyboardInterrupt\u001b[0m: "
          ]
        }
      ]
    },
    {
      "cell_type": "code",
      "metadata": {
        "id": "O248__YJsu3U"
      },
      "source": [
        "train=[]\n",
        "cv=[]\n",
        "for i in [0.1,0.2,0.3,0.4]:\n",
        "  regr = make_pipeline(RobustScaler(),StandardScaler(), SVR(kernel='rbf',C=100000, epsilon=i))\n",
        "  regr.fit(x_train,y_train)\n",
        "  y_train_pred=regr.predict(x_train)\n",
        "  train.append(mean_squared_error(y_train, y_train_pred))\n",
        "  y_cv_pred=regr.predict(x_cv)\n",
        "  cv.append(mean_squared_error(y_cv, y_cv_pred))\n",
        "plt.plot(train)\n",
        "plt.plot(cv)\n",
        "plt.show()"
      ],
      "execution_count": null,
      "outputs": []
    },
    {
      "cell_type": "code",
      "metadata": {
        "id": "C9ZHOZPCsupp"
      },
      "source": [
        "regr = make_pipeline(RobustScaler(),StandardScaler(), SVR(C=100000, epsilon=0.1))\n",
        "regr.fit(x_train,y_train)\n",
        "y_test_pred=regr.predict(x_test)"
      ],
      "execution_count": null,
      "outputs": []
    },
    {
      "cell_type": "code",
      "metadata": {
        "id": "G6StQc8kvfq2"
      },
      "source": [
        "sns.lineplot(x=np.arange(len(y_test)),y=y_test) \n",
        "sns.lineplot(x=np.arange(len(y_test)),y=y_test_pred)\n",
        "plt.ylabel('priceUSD')"
      ],
      "execution_count": null,
      "outputs": []
    },
    {
      "cell_type": "code",
      "metadata": {
        "id": "c2Av6T_nwocH"
      },
      "source": [
        "print(mean_squared_error(y_test, y_test_pred))"
      ],
      "execution_count": null,
      "outputs": []
    },
    {
      "cell_type": "code",
      "metadata": {
        "id": "cL0yV4aEw2FG"
      },
      "source": [
        "train=[]\n",
        "cv=[]\n",
        "for i in [1,10,100,1000]:\n",
        "  regr = make_pipeline(RobustScaler(),StandardScaler(), RandomForestRegressor(n_estimators=i))\n",
        "  regr.fit(x_train,y_train)\n",
        "  y_train_pred=regr.predict(x_train)\n",
        "  train.append(mean_squared_error(y_train, y_train_pred))\n",
        "  y_cv_pred=regr.predict(x_cv)\n",
        "  cv.append(mean_squared_error(y_cv, y_cv_pred))\n",
        "plt.plot(train)\n",
        "plt.plot(cv)\n",
        "plt.show()"
      ],
      "execution_count": null,
      "outputs": []
    },
    {
      "cell_type": "code",
      "metadata": {
        "id": "Ztsg9VgIw1-M"
      },
      "source": [
        "regr = make_pipeline(RobustScaler(),StandardScaler(), RandomForestRegressor(n_estimators=100))\n",
        "regr.fit(x_train,y_train)\n",
        "y_test_pred=regr.predict(x_test)"
      ],
      "execution_count": null,
      "outputs": []
    },
    {
      "cell_type": "code",
      "metadata": {
        "id": "5tdIbDSpw186"
      },
      "source": [
        "sns.lineplot(x=np.arange(len(y_test)),y=y_test) \n",
        "sns.lineplot(x=np.arange(len(y_test)),y=y_test_pred)\n",
        "plt.ylabel('priceUSD')"
      ],
      "execution_count": null,
      "outputs": []
    },
    {
      "cell_type": "code",
      "metadata": {
        "id": "dEOPtkj5w13g"
      },
      "source": [
        "print(mean_squared_error(y_test, y_test_pred))"
      ],
      "execution_count": null,
      "outputs": []
    },
    {
      "cell_type": "code",
      "metadata": {
        "id": "Wk-J9CmLw115"
      },
      "source": [
        "train=[]\n",
        "cv=[]\n",
        "for i in [1,10,100,1000,10000]:\n",
        "  regr = make_pipeline(RobustScaler(),StandardScaler(), XGBRegressor(n_estimators=i,n_jobs=-1))\n",
        "  regr.fit(x_train,y_train)\n",
        "  y_train_pred=regr.predict(x_train)\n",
        "  train.append(mean_squared_error(y_train, y_train_pred))\n",
        "  y_cv_pred=regr.predict(x_cv)\n",
        "  cv.append(mean_squared_error(y_cv, y_cv_pred))\n",
        "plt.plot(train)\n",
        "plt.plot(cv)\n",
        "plt.show()"
      ],
      "execution_count": null,
      "outputs": []
    },
    {
      "cell_type": "code",
      "metadata": {
        "id": "cOxZm0473Ls_"
      },
      "source": [
        "train=[]\n",
        "cv=[]\n",
        "for i in [0.1,0.2,0.3,0.4,0.5,0.6,0.7,0.8,0.9]:\n",
        "  regr = make_pipeline(RobustScaler(),StandardScaler(), XGBRegressor(n_estimators=1000,learning_rate=i,n_jobs=-1))\n",
        "  regr.fit(x_train,y_train)\n",
        "  y_train_pred=regr.predict(x_train)\n",
        "  train.append(mean_squared_error(y_train, y_train_pred))\n",
        "  y_cv_pred=regr.predict(x_cv)\n",
        "  cv.append(mean_squared_error(y_cv, y_cv_pred))\n",
        "plt.plot(train)\n",
        "plt.plot(cv)\n",
        "plt.show()"
      ],
      "execution_count": null,
      "outputs": []
    },
    {
      "cell_type": "code",
      "metadata": {
        "id": "wf4H7nGy3vXy"
      },
      "source": [
        "train=[]\n",
        "cv=[]\n",
        "for i in [3,5,7,9]:\n",
        "  regr = make_pipeline(RobustScaler(),StandardScaler(), XGBRegressor(n_estimators=1000,learning_rate=0.1,max_depth=i,n_jobs=-1))\n",
        "  regr.fit(x_train,y_train)\n",
        "  y_train_pred=regr.predict(x_train)\n",
        "  train.append(mean_squared_error(y_train, y_train_pred))\n",
        "  y_cv_pred=regr.predict(x_cv)\n",
        "  cv.append(mean_squared_error(y_cv, y_cv_pred))\n",
        "plt.plot(train)\n",
        "plt.plot(cv)\n",
        "plt.show()"
      ],
      "execution_count": null,
      "outputs": []
    },
    {
      "cell_type": "code",
      "metadata": {
        "id": "QF98onXVw1yL"
      },
      "source": [
        "regr = make_pipeline(RobustScaler(),StandardScaler(), XGBRegressor(n_estimators=1000,n_jobs=-1))\n",
        "regr.fit(x_train,y_train)\n",
        "y_test_pred=regr.predict(x_test)"
      ],
      "execution_count": null,
      "outputs": []
    },
    {
      "cell_type": "code",
      "metadata": {
        "id": "4V0KvEPHw1wg"
      },
      "source": [
        "sns.lineplot(x=np.arange(len(y_test)),y=y_test) \n",
        "sns.lineplot(x=np.arange(len(y_test)),y=y_test_pred)\n",
        "plt.ylabel('priceUSD')"
      ],
      "execution_count": null,
      "outputs": []
    },
    {
      "cell_type": "code",
      "metadata": {
        "id": "JyjAwLnsw1tW"
      },
      "source": [
        "print(mean_squared_error(y_test, y_test_pred))"
      ],
      "execution_count": null,
      "outputs": []
    },
    {
      "cell_type": "markdown",
      "metadata": {
        "id": "jt3MyXd_1S-u"
      },
      "source": [
        "Method 2\n",
        "\n",
        "Using TSNE:"
      ]
    },
    {
      "cell_type": "code",
      "metadata": {
        "id": "gtAbi_BAw1r4"
      },
      "source": [
        "data=pd.read_csv('/content/drive/MyDrive/btc.csv')"
      ],
      "execution_count": null,
      "outputs": []
    },
    {
      "cell_type": "code",
      "metadata": {
        "id": "niBLirp3w1m2"
      },
      "source": [
        "data.head()"
      ],
      "execution_count": null,
      "outputs": []
    },
    {
      "cell_type": "code",
      "metadata": {
        "id": "W-cXfjIew1lN"
      },
      "source": [
        "tscv= TimeSeriesSplit(n_splits=5)\n",
        "for train_index, test_index in tscv.split(data):\n",
        "  x_train, x_test = data.iloc[train_index], data.iloc[test_index]\n",
        "x_train=x_train.sample(frac = 1)"
      ],
      "execution_count": null,
      "outputs": []
    },
    {
      "cell_type": "code",
      "metadata": {
        "id": "Zo6TA3oH76Rf"
      },
      "source": [
        "y_test = x_test['priceUSD']\n",
        "x_test = x_test.drop(['Date','priceUSD'],axis=1)"
      ],
      "execution_count": null,
      "outputs": []
    },
    {
      "cell_type": "code",
      "metadata": {
        "id": "q6BPHNBm7e1s"
      },
      "source": [
        "x_train, x_cv, y_train, y_cv = train_test_split(x_train.drop(['Date','priceUSD'],axis=1), x_train['priceUSD'], test_size=0.16, random_state=42)"
      ],
      "execution_count": null,
      "outputs": []
    },
    {
      "cell_type": "code",
      "metadata": {
        "id": "odmPoMOtw1hP"
      },
      "source": [
        "pca = PCA(n_components=40)\n",
        "pca = pca.fit(x_train,y_train)\n",
        "x_train_pca=pd.DataFrame(pca.transform(x_train))\n",
        "x_cv_pca=pd.DataFrame(pca.transform(x_cv))\n",
        "x_test_pca=pd.DataFrame(pca.transform(x_test))"
      ],
      "execution_count": null,
      "outputs": []
    },
    {
      "cell_type": "code",
      "metadata": {
        "id": "_4Mc1Qw-w1fj"
      },
      "source": [
        "x_train_pca.head()"
      ],
      "execution_count": null,
      "outputs": []
    },
    {
      "cell_type": "code",
      "metadata": {
        "id": "B1DUXKcIw1b3"
      },
      "source": [
        "train=[]\n",
        "cv=[]\n",
        "for i in [1,10,100,1000,10000,100000]:\n",
        "  regr = make_pipeline(RobustScaler(),StandardScaler(), SVR(kernel='rbf',C=i, epsilon=0.2))\n",
        "  regr.fit(x_train_pca,y_train)\n",
        "  y_train_pred=regr.predict(x_train_pca)\n",
        "  train.append(mean_squared_error(y_train, y_train_pred))\n",
        "  y_cv_pred=regr.predict(x_cv_pca)\n",
        "  cv.append(mean_squared_error(y_cv, y_cv_pred))\n",
        "plt.plot(train)\n",
        "plt.plot(cv)\n",
        "plt.show()"
      ],
      "execution_count": null,
      "outputs": []
    },
    {
      "cell_type": "code",
      "metadata": {
        "id": "LuWT458Mw1aO"
      },
      "source": [
        "train=[]\n",
        "cv=[]\n",
        "for i in [0.1,0.2,0.3,0.4]:\n",
        "  regr = make_pipeline(RobustScaler(),StandardScaler(), SVR(kernel='rbf',C=5000, epsilon=i))\n",
        "  regr.fit(x_train_pca,y_train)\n",
        "  y_train_pred=regr.predict(x_train_pca)\n",
        "  train.append(mean_squared_error(y_train, y_train_pred))\n",
        "  y_cv_pred=regr.predict(x_cv_pca)\n",
        "  cv.append(mean_squared_error(y_cv, y_cv_pred))\n",
        "plt.plot(train)\n",
        "plt.plot(cv)\n",
        "plt.show()"
      ],
      "execution_count": null,
      "outputs": []
    },
    {
      "cell_type": "code",
      "metadata": {
        "id": "TFFdEiE-w1W4"
      },
      "source": [
        "regr = make_pipeline(RobustScaler(),StandardScaler(), SVR(C=5000, epsilon=0.1))\n",
        "regr.fit(x_train_pca,y_train)\n",
        "y_test_pred=regr.predict(x_test_pca)"
      ],
      "execution_count": null,
      "outputs": []
    },
    {
      "cell_type": "code",
      "metadata": {
        "id": "kiYkVmM2w1VG"
      },
      "source": [
        "sns.lineplot(x=np.arange(len(y_test)),y=y_test) \n",
        "sns.lineplot(x=np.arange(len(y_test)),y=y_test_pred)\n",
        "plt.ylabel('priceUSD')"
      ],
      "execution_count": null,
      "outputs": []
    },
    {
      "cell_type": "code",
      "metadata": {
        "id": "uubjeQevw1Rf"
      },
      "source": [
        "# PCA is no good"
      ],
      "execution_count": null,
      "outputs": []
    },
    {
      "cell_type": "markdown",
      "metadata": {
        "id": "5DKcS_ZxAT9h"
      },
      "source": [
        "For 7 day interval"
      ]
    },
    {
      "cell_type": "code",
      "metadata": {
        "id": "ZivzNpIJFjKf"
      },
      "source": [
        "data=pd.read_csv('/content/drive/MyDrive/btc.csv')"
      ],
      "execution_count": null,
      "outputs": []
    },
    {
      "cell_type": "code",
      "metadata": {
        "id": "oKdY5LDkFkH0"
      },
      "source": [
        "data.head()"
      ],
      "execution_count": null,
      "outputs": []
    },
    {
      "cell_type": "code",
      "metadata": {
        "id": "kEuxUTJJASnM"
      },
      "source": [
        "data['After_7']=0\n",
        "for i in range(len(data['Date'])):\n",
        " data['After_7'].iloc[i]  = re.sub('-','/',str(datetime.strptime(data['Date'].iloc[i],'%Y/%m/%d') + relativedelta(days=+7))[:10])"
      ],
      "execution_count": null,
      "outputs": []
    },
    {
      "cell_type": "code",
      "metadata": {
        "id": "TBAqVZD2w1Pr"
      },
      "source": [
        "data.head(2)"
      ],
      "execution_count": null,
      "outputs": []
    },
    {
      "cell_type": "code",
      "metadata": {
        "id": "NA51Uv64IROh"
      },
      "source": [
        "after_7=data[['Date','priceUSD']]\n",
        "after_7['After_7']=after_7['Date']\n",
        "after_7['priceUSD_7']=after_7['priceUSD']\n",
        "after_7=after_7.drop(['Date','priceUSD'],axis=1)\n",
        "data=data.merge(after_7,on='After_7')"
      ],
      "execution_count": null,
      "outputs": []
    },
    {
      "cell_type": "code",
      "metadata": {
        "id": "0iheyyv8IRKs"
      },
      "source": [
        "data.head()"
      ],
      "execution_count": null,
      "outputs": []
    },
    {
      "cell_type": "code",
      "metadata": {
        "id": "CkSVM_OeIRHQ"
      },
      "source": [
        "tscv= TimeSeriesSplit(n_splits=5)\n",
        "for train_index, test_index in tscv.split(data):\n",
        "  x_train, x_test = data.iloc[train_index], data.iloc[test_index]\n",
        "x_train=x_train.sample(frac = 1)"
      ],
      "execution_count": null,
      "outputs": []
    },
    {
      "cell_type": "code",
      "metadata": {
        "id": "lEdRFKDrOPXi"
      },
      "source": [
        "plt.plot(x_test['priceUSD_7'])"
      ],
      "execution_count": null,
      "outputs": []
    },
    {
      "cell_type": "code",
      "metadata": {
        "id": "PrXkZ0mROs8o"
      },
      "source": [
        "estimator= SVR(kernel=\"linear\")\n",
        "selector = RFE(estimator)\n",
        "selector = selector.fit(x_train.drop(['Date','After_7'],axis=1),x_train['priceUSD_7'])\n",
        "Features = selector.support_"
      ],
      "execution_count": null,
      "outputs": []
    },
    {
      "cell_type": "code",
      "metadata": {
        "id": "GTfVcXD5PDL1"
      },
      "source": [
        "y_test = x_test['priceUSD_7']\n",
        "x_test = x_test.drop(['Date','After_7'],axis=1)[x_test.drop(['Date','After_7'],axis=1).columns[Features]]"
      ],
      "execution_count": null,
      "outputs": []
    },
    {
      "cell_type": "code",
      "metadata": {
        "id": "iy8xAjo9PQ8I"
      },
      "source": [
        "x_train, x_cv, y_train, y_cv = train_test_split(x_train.drop(['Date','After_7'],axis=1)[x_train.drop(['Date','After_7'],axis=1).columns[Features]], x_train['priceUSD_7'], test_size=0.16, random_state=42)"
      ],
      "execution_count": null,
      "outputs": []
    },
    {
      "cell_type": "code",
      "metadata": {
        "id": "0XPrbs9dOAka"
      },
      "source": [
        "sp      = SelectPercentile(f_regression).fit(x_train, y_train)\n",
        "x_train = sp.transform(x_train)\n",
        "x_cv = sp.transform(x_cv)\n",
        "x_test = sp.transform(x_test)"
      ],
      "execution_count": null,
      "outputs": []
    },
    {
      "cell_type": "code",
      "metadata": {
        "id": "8EP9jLn5Phcv"
      },
      "source": [
        "train=[]\n",
        "cv=[]\n",
        "for i in [1,10,100,1000,10000,100000]:\n",
        "  regr = make_pipeline(RobustScaler(),StandardScaler(), SVR(kernel='rbf',C=i, epsilon=0.2))\n",
        "  regr.fit(x_train,y_train)\n",
        "  y_train_pred=regr.predict(x_train)\n",
        "  train.append(mean_squared_error(y_train, y_train_pred))\n",
        "  y_cv_pred=regr.predict(x_cv)\n",
        "  cv.append(mean_squared_error(y_cv, y_cv_pred))\n",
        "plt.plot(train)\n",
        "plt.plot(cv)\n",
        "plt.show()"
      ],
      "execution_count": null,
      "outputs": []
    },
    {
      "cell_type": "code",
      "metadata": {
        "id": "PvOUxVubP1R2"
      },
      "source": [
        "train=[]\n",
        "cv=[]\n",
        "for i in [0.1,0.2,0.3,0.4]:\n",
        "  regr = make_pipeline(RobustScaler(),StandardScaler(), SVR(kernel='rbf',C=1000, epsilon=i))\n",
        "  regr.fit(x_train,y_train)\n",
        "  y_train_pred=regr.predict(x_train)\n",
        "  train.append(mean_squared_error(y_train, y_train_pred))\n",
        "  y_cv_pred=regr.predict(x_cv)\n",
        "  cv.append(mean_squared_error(y_cv, y_cv_pred))\n",
        "plt.plot(train)\n",
        "plt.plot(cv)\n",
        "plt.show()"
      ],
      "execution_count": null,
      "outputs": []
    },
    {
      "cell_type": "code",
      "metadata": {
        "id": "PXecrM77QCD6"
      },
      "source": [
        "regr = make_pipeline(RobustScaler(),StandardScaler(), SVR(C=1000, epsilon=0.1))\n",
        "regr.fit(x_train,y_train)\n",
        "y_test_pred=regr.predict(x_test)"
      ],
      "execution_count": null,
      "outputs": []
    },
    {
      "cell_type": "code",
      "metadata": {
        "id": "7ALjE0ipQR7_"
      },
      "source": [
        "sns.lineplot(x=np.arange(len(y_test)),y=y_test) \n",
        "sns.lineplot(x=np.arange(len(y_test)),y=y_test_pred)\n",
        "plt.ylabel('priceUSD')"
      ],
      "execution_count": null,
      "outputs": []
    },
    {
      "cell_type": "code",
      "metadata": {
        "id": "YJRCrtQ2QqlA"
      },
      "source": [
        "print(mean_squared_error(y_test, y_test_pred))"
      ],
      "execution_count": null,
      "outputs": []
    },
    {
      "cell_type": "code",
      "metadata": {
        "id": "TYnb39bFQ6cH"
      },
      "source": [
        "train=[]\n",
        "cv=[]\n",
        "for i in [1,10,100,1000]:\n",
        "  regr = make_pipeline(RobustScaler(),StandardScaler(), RandomForestRegressor(n_estimators=i))\n",
        "  regr.fit(x_train,y_train)\n",
        "  y_train_pred=regr.predict(x_train)\n",
        "  train.append(mean_squared_error(y_train, y_train_pred))\n",
        "  y_cv_pred=regr.predict(x_cv)\n",
        "  cv.append(mean_squared_error(y_cv, y_cv_pred))\n",
        "plt.plot(train)\n",
        "plt.plot(cv)\n",
        "plt.show()"
      ],
      "execution_count": null,
      "outputs": []
    },
    {
      "cell_type": "code",
      "metadata": {
        "id": "ufO5Fr0ER0U6"
      },
      "source": [
        "regr = make_pipeline(RobustScaler(),StandardScaler(), RandomForestRegressor(n_estimators=100))\n",
        "regr.fit(x_train,y_train)\n",
        "y_test_pred=regr.predict(x_test)"
      ],
      "execution_count": null,
      "outputs": []
    },
    {
      "cell_type": "code",
      "metadata": {
        "id": "hoHa6M_eR0R3"
      },
      "source": [
        "sns.lineplot(x=np.arange(len(y_test)),y=y_test) \n",
        "sns.lineplot(x=np.arange(len(y_test)),y=y_test_pred)\n",
        "plt.ylabel('priceUSD')"
      ],
      "execution_count": null,
      "outputs": []
    },
    {
      "cell_type": "code",
      "metadata": {
        "id": "ZYEwcuKtR0Pj"
      },
      "source": [
        "print(mean_squared_error(y_test, y_test_pred))"
      ],
      "execution_count": null,
      "outputs": []
    },
    {
      "cell_type": "code",
      "metadata": {
        "id": "HlDovXWXR0L0"
      },
      "source": [
        "train=[]\n",
        "cv=[]\n",
        "for i in [1,10,100,1000,10000]:\n",
        "  regr = make_pipeline(RobustScaler(),StandardScaler(), XGBRegressor(n_estimators=i,n_jobs=-1))\n",
        "  regr.fit(x_train,y_train)\n",
        "  y_train_pred=regr.predict(x_train)\n",
        "  train.append(mean_squared_error(y_train, y_train_pred))\n",
        "  y_cv_pred=regr.predict(x_cv)\n",
        "  cv.append(mean_squared_error(y_cv, y_cv_pred))\n",
        "plt.plot(train)\n",
        "plt.plot(cv)\n",
        "plt.show()"
      ],
      "execution_count": null,
      "outputs": []
    },
    {
      "cell_type": "code",
      "metadata": {
        "id": "BEplRbikR0KF"
      },
      "source": [
        "train=[]\n",
        "cv=[]\n",
        "for i in [0.1,0.2,0.3,0.4,0.5,0.6,0.7,0.8,0.9]:\n",
        "  regr = make_pipeline(RobustScaler(),StandardScaler(), XGBRegressor(n_estimators=100,learning_rate=i,n_jobs=-1))\n",
        "  regr.fit(x_train,y_train)\n",
        "  y_train_pred=regr.predict(x_train)\n",
        "  train.append(mean_squared_error(y_train, y_train_pred))\n",
        "  y_cv_pred=regr.predict(x_cv)\n",
        "  cv.append(mean_squared_error(y_cv, y_cv_pred))\n",
        "plt.plot(train)\n",
        "plt.plot(cv)\n",
        "plt.show()"
      ],
      "execution_count": null,
      "outputs": []
    },
    {
      "cell_type": "code",
      "metadata": {
        "id": "MFhIOJhAS2Z5"
      },
      "source": [
        "train=[]\n",
        "cv=[]\n",
        "for i in [3,5,7,9]:\n",
        "  regr = make_pipeline(RobustScaler(),StandardScaler(), XGBRegressor(n_estimators=100,learning_rate=0.1,max_depth=i,n_jobs=-1))\n",
        "  regr.fit(x_train,y_train)\n",
        "  y_train_pred=regr.predict(x_train)\n",
        "  train.append(mean_squared_error(y_train, y_train_pred))\n",
        "  y_cv_pred=regr.predict(x_cv)\n",
        "  cv.append(mean_squared_error(y_cv, y_cv_pred))\n",
        "plt.plot(train)\n",
        "plt.plot(cv)\n",
        "plt.show()"
      ],
      "execution_count": null,
      "outputs": []
    },
    {
      "cell_type": "code",
      "metadata": {
        "id": "kCqSDWshS9qa"
      },
      "source": [
        "regr = make_pipeline(RobustScaler(),StandardScaler(), XGBRegressor(n_estimators=100,learning_rate=0.1,depth=5,n_jobs=-1))\n",
        "regr.fit(x_train,y_train)\n",
        "y_test_pred=regr.predict(x_test)"
      ],
      "execution_count": null,
      "outputs": []
    },
    {
      "cell_type": "code",
      "metadata": {
        "id": "7_JgX7eoTCe8"
      },
      "source": [
        "sns.lineplot(x=np.arange(len(y_test)),y=y_test) \n",
        "sns.lineplot(x=np.arange(len(y_test)),y=y_test_pred)\n",
        "plt.ylabel('priceUSD')"
      ],
      "execution_count": null,
      "outputs": []
    },
    {
      "cell_type": "code",
      "metadata": {
        "id": "SG1RKnpLTDL3"
      },
      "source": [
        "print(mean_squared_error(y_test, y_test_pred))"
      ],
      "execution_count": null,
      "outputs": []
    },
    {
      "cell_type": "markdown",
      "metadata": {
        "id": "GoDiMt4lTpBC"
      },
      "source": [
        "For 1 Month"
      ]
    },
    {
      "cell_type": "code",
      "metadata": {
        "id": "xoGWTeE-Th7J"
      },
      "source": [
        "data=pd.read_csv('/content/drive/MyDrive/btc.csv')"
      ],
      "execution_count": null,
      "outputs": []
    },
    {
      "cell_type": "code",
      "metadata": {
        "id": "2aq5jWwfT3i3"
      },
      "source": [
        "data.head()"
      ],
      "execution_count": null,
      "outputs": []
    },
    {
      "cell_type": "code",
      "metadata": {
        "id": "sx9V-z3aT3gU"
      },
      "source": [
        "data['After_month']=0\n",
        "for i in range(len(data['Date'])):\n",
        " data['After_month'].iloc[i]  = re.sub('-','/',str(datetime.strptime(data['Date'].iloc[i],'%Y/%m/%d') + relativedelta(months=+1))[:10])"
      ],
      "execution_count": null,
      "outputs": []
    },
    {
      "cell_type": "code",
      "metadata": {
        "id": "6wKdxorIT3dX"
      },
      "source": [
        "data.head(2)"
      ],
      "execution_count": null,
      "outputs": []
    },
    {
      "cell_type": "code",
      "metadata": {
        "id": "Gqr48mO2T3ba"
      },
      "source": [
        "after_month=data[['Date','priceUSD']]\n",
        "after_month['After_month']=after_month['Date']\n",
        "after_month['priceUSD_month']=after_month['priceUSD']\n",
        "after_month=after_month.drop(['Date','priceUSD'],axis=1)\n",
        "data=data.merge(after_month,on='After_month')"
      ],
      "execution_count": null,
      "outputs": []
    },
    {
      "cell_type": "code",
      "metadata": {
        "id": "ZrJ2Sdl_T3Ya"
      },
      "source": [
        "data.head()"
      ],
      "execution_count": null,
      "outputs": []
    },
    {
      "cell_type": "code",
      "metadata": {
        "id": "HYIkAoVjT3Wb"
      },
      "source": [
        "tscv= TimeSeriesSplit(n_splits=5)\n",
        "for train_index, test_index in tscv.split(data):\n",
        "  x_train, x_test = data.iloc[train_index], data.iloc[test_index]\n",
        "x_train=x_train.sample(frac = 1)"
      ],
      "execution_count": null,
      "outputs": []
    },
    {
      "cell_type": "code",
      "metadata": {
        "id": "3lm2tFq_FC0O"
      },
      "source": [
        "plt.plot(x_test['priceUSD_month'])"
      ],
      "execution_count": null,
      "outputs": []
    },
    {
      "cell_type": "code",
      "metadata": {
        "id": "jkTJ_9awFCw0"
      },
      "source": [
        "estimator= SVR(kernel=\"linear\")\n",
        "selector = RFE(estimator)\n",
        "selector = selector.fit(x_train.drop(['Date','After_month'],axis=1),x_train['priceUSD_month'])\n",
        "Features = selector.support_"
      ],
      "execution_count": null,
      "outputs": []
    },
    {
      "cell_type": "code",
      "metadata": {
        "id": "t8eOkIiGFCur"
      },
      "source": [
        "y_test = x_test['priceUSD_month']\n",
        "x_test = x_test.drop(['Date','After_month'],axis=1)[x_test.drop(['Date','After_month'],axis=1).columns[Features]]"
      ],
      "execution_count": null,
      "outputs": []
    },
    {
      "cell_type": "code",
      "metadata": {
        "id": "tsBwwGR-FCsP"
      },
      "source": [
        "x_train, x_cv, y_train, y_cv = train_test_split(x_train.drop(['Date','After_month'],axis=1)[x_train.drop(['Date','After_month'],axis=1).columns[Features]], x_train['priceUSD_month'], test_size=0.16, random_state=42)"
      ],
      "execution_count": null,
      "outputs": []
    },
    {
      "cell_type": "code",
      "metadata": {
        "id": "u_aeoVl-FCpY"
      },
      "source": [
        "sp      = SelectPercentile(f_regression).fit(x_train, y_train)\n",
        "x_train = sp.transform(x_train)\n",
        "x_cv = sp.transform(x_cv)\n",
        "x_test = sp.transform(x_test)"
      ],
      "execution_count": null,
      "outputs": []
    },
    {
      "cell_type": "code",
      "metadata": {
        "id": "jp-U7zUsFClx"
      },
      "source": [
        "train=[]\n",
        "cv=[]\n",
        "for i in [1,10,100,1000,10000,100000]:\n",
        "  regr = make_pipeline(RobustScaler(),StandardScaler(), SVR(kernel='rbf',C=i, epsilon=0.2))\n",
        "  regr.fit(x_train,y_train)\n",
        "  y_train_pred=regr.predict(x_train)\n",
        "  train.append(mean_squared_error(y_train, y_train_pred))\n",
        "  y_cv_pred=regr.predict(x_cv)\n",
        "  cv.append(mean_squared_error(y_cv, y_cv_pred))\n",
        "plt.plot(train)\n",
        "plt.plot(cv)\n",
        "plt.show()"
      ],
      "execution_count": null,
      "outputs": []
    },
    {
      "cell_type": "code",
      "metadata": {
        "id": "hkmgEEZ0FCj4"
      },
      "source": [
        "train=[]\n",
        "cv=[]\n",
        "for i in [0.1,0.2,0.3,0.4]:\n",
        "  regr = make_pipeline(RobustScaler(),StandardScaler(), SVR(kernel='rbf',C=1000, epsilon=i))\n",
        "  regr.fit(x_train,y_train)\n",
        "  y_train_pred=regr.predict(x_train)\n",
        "  train.append(mean_squared_error(y_train, y_train_pred))\n",
        "  y_cv_pred=regr.predict(x_cv)\n",
        "  cv.append(mean_squared_error(y_cv, y_cv_pred))\n",
        "plt.plot(train)\n",
        "plt.plot(cv)\n",
        "plt.show()"
      ],
      "execution_count": null,
      "outputs": []
    },
    {
      "cell_type": "code",
      "metadata": {
        "id": "Cipuxyk4FCg9"
      },
      "source": [
        "regr = make_pipeline(RobustScaler(),StandardScaler(), SVR(C=1000, epsilon=0.4))\n",
        "regr.fit(x_train,y_train)\n",
        "y_test_pred=regr.predict(x_test)"
      ],
      "execution_count": null,
      "outputs": []
    },
    {
      "cell_type": "code",
      "metadata": {
        "id": "ZNCZCC1jFCef"
      },
      "source": [
        "sns.lineplot(x=np.arange(len(y_test)),y=y_test) \n",
        "sns.lineplot(x=np.arange(len(y_test)),y=y_test_pred)\n",
        "plt.ylabel('priceUSD')"
      ],
      "execution_count": null,
      "outputs": []
    },
    {
      "cell_type": "code",
      "metadata": {
        "id": "8KMYGtOKHqtG"
      },
      "source": [
        "print(mean_squared_error(y_test, y_test_pred))"
      ],
      "execution_count": null,
      "outputs": []
    },
    {
      "cell_type": "code",
      "metadata": {
        "id": "JTwF4va1HqrF"
      },
      "source": [
        "train=[]\n",
        "cv=[]\n",
        "for i in [1,10,100,1000]:\n",
        "  regr = make_pipeline(RobustScaler(),StandardScaler(), RandomForestRegressor(n_estimators=i))\n",
        "  regr.fit(x_train,y_train)\n",
        "  y_train_pred=regr.predict(x_train)\n",
        "  train.append(mean_squared_error(y_train, y_train_pred))\n",
        "  y_cv_pred=regr.predict(x_cv)\n",
        "  cv.append(mean_squared_error(y_cv, y_cv_pred))\n",
        "plt.plot(train)\n",
        "plt.plot(cv)\n",
        "plt.show()"
      ],
      "execution_count": null,
      "outputs": []
    },
    {
      "cell_type": "code",
      "metadata": {
        "id": "DthQ6agYHqpX"
      },
      "source": [
        "regr = make_pipeline(RobustScaler(),StandardScaler(), RandomForestRegressor(n_estimators=100))\n",
        "regr.fit(x_train,y_train)\n",
        "y_test_pred=regr.predict(x_test)"
      ],
      "execution_count": null,
      "outputs": []
    },
    {
      "cell_type": "code",
      "metadata": {
        "id": "jP226eAyHqns"
      },
      "source": [
        "sns.lineplot(x=np.arange(len(y_test)),y=y_test) \n",
        "sns.lineplot(x=np.arange(len(y_test)),y=y_test_pred)\n",
        "plt.ylabel('priceUSD')"
      ],
      "execution_count": null,
      "outputs": []
    },
    {
      "cell_type": "code",
      "metadata": {
        "id": "6ht6HPCkHqlk"
      },
      "source": [
        "print(mean_squared_error(y_test, y_test_pred))"
      ],
      "execution_count": null,
      "outputs": []
    },
    {
      "cell_type": "code",
      "metadata": {
        "id": "wtqhW0pjHqj_"
      },
      "source": [
        "train=[]\n",
        "cv=[]\n",
        "for i in [1,10,100,1000,10000]:\n",
        "  regr = make_pipeline(RobustScaler(),StandardScaler(), XGBRegressor(n_estimators=i,n_jobs=-1))\n",
        "  regr.fit(x_train,y_train)\n",
        "  y_train_pred=regr.predict(x_train)\n",
        "  train.append(mean_squared_error(y_train, y_train_pred))\n",
        "  y_cv_pred=regr.predict(x_cv)\n",
        "  cv.append(mean_squared_error(y_cv, y_cv_pred))\n",
        "plt.plot(train)\n",
        "plt.plot(cv)\n",
        "plt.show()"
      ],
      "execution_count": null,
      "outputs": []
    },
    {
      "cell_type": "code",
      "metadata": {
        "id": "el1Dv3upHqeB"
      },
      "source": [
        "train=[]\n",
        "cv=[]\n",
        "for i in [0.1,0.2,0.3,0.4,0.5,0.6,0.7,0.8,0.9]:\n",
        "  regr = make_pipeline(RobustScaler(),StandardScaler(), XGBRegressor(n_estimators=100,learning_rate=i,n_jobs=-1))\n",
        "  regr.fit(x_train,y_train)\n",
        "  y_train_pred=regr.predict(x_train)\n",
        "  train.append(mean_squared_error(y_train, y_train_pred))\n",
        "  y_cv_pred=regr.predict(x_cv)\n",
        "  cv.append(mean_squared_error(y_cv, y_cv_pred))\n",
        "plt.plot(train)\n",
        "plt.plot(cv)\n",
        "plt.show()"
      ],
      "execution_count": null,
      "outputs": []
    },
    {
      "cell_type": "code",
      "metadata": {
        "id": "fwkUrIdvId4f"
      },
      "source": [
        "train=[]\n",
        "cv=[]\n",
        "for i in [3,5,7,9]:\n",
        "  regr = make_pipeline(RobustScaler(),StandardScaler(), XGBRegressor(n_estimators=100,learning_rate=0.5,max_depth=i,n_jobs=-1))\n",
        "  regr.fit(x_train,y_train)\n",
        "  y_train_pred=regr.predict(x_train)\n",
        "  train.append(mean_squared_error(y_train, y_train_pred))\n",
        "  y_cv_pred=regr.predict(x_cv)\n",
        "  cv.append(mean_squared_error(y_cv, y_cv_pred))\n",
        "plt.plot(train)\n",
        "plt.plot(cv)\n",
        "plt.show()"
      ],
      "execution_count": null,
      "outputs": []
    },
    {
      "cell_type": "code",
      "metadata": {
        "id": "FOyPLXvHId1o"
      },
      "source": [
        "regr = make_pipeline(RobustScaler(),StandardScaler(), XGBRegressor(n_estimators=100,learning_rate=0.1,n_jobs=-1))\n",
        "regr.fit(x_train,y_train)\n",
        "y_test_pred=regr.predict(x_test)"
      ],
      "execution_count": null,
      "outputs": []
    },
    {
      "cell_type": "code",
      "metadata": {
        "id": "DTVG1OwRIdy7"
      },
      "source": [
        "sns.lineplot(x=np.arange(len(y_test)),y=y_test) \n",
        "sns.lineplot(x=np.arange(len(y_test)),y=y_test_pred)\n",
        "plt.ylabel('priceUSD')"
      ],
      "execution_count": null,
      "outputs": []
    },
    {
      "cell_type": "code",
      "metadata": {
        "id": "gUmhM3dUIdw_"
      },
      "source": [
        "print(mean_squared_error(y_test, y_test_pred))"
      ],
      "execution_count": null,
      "outputs": []
    },
    {
      "cell_type": "markdown",
      "metadata": {
        "id": "6Awg_awwPrMh"
      },
      "source": [
        "For 3 Month"
      ]
    },
    {
      "cell_type": "code",
      "metadata": {
        "id": "eY8qbNQdIdtv"
      },
      "source": [
        "data=pd.read_csv('/content/drive/MyDrive/btc.csv')"
      ],
      "execution_count": null,
      "outputs": []
    },
    {
      "cell_type": "code",
      "metadata": {
        "id": "xBozfkuAIdrm"
      },
      "source": [
        "data.head()"
      ],
      "execution_count": null,
      "outputs": []
    },
    {
      "cell_type": "code",
      "metadata": {
        "id": "YpJbVd5cPzzP"
      },
      "source": [
        "data['After_3month']=0\n",
        "for i in range(len(data['Date'])):\n",
        " data['After_3month'].iloc[i]  = re.sub('-','/',str(datetime.strptime(data['Date'].iloc[i],'%Y/%m/%d') + relativedelta(months=+1))[:10])"
      ],
      "execution_count": null,
      "outputs": []
    },
    {
      "cell_type": "code",
      "metadata": {
        "id": "FeppGI6RPzwS"
      },
      "source": [
        "data.head(2)"
      ],
      "execution_count": null,
      "outputs": []
    },
    {
      "cell_type": "code",
      "metadata": {
        "id": "qYGVoDbFPznn"
      },
      "source": [
        "after_3month=data[['Date','priceUSD']]\n",
        "after_3month['After_3month']=after_3month['Date']\n",
        "after_3month['priceUSD_3month']=after_3month['priceUSD']\n",
        "after_3month=after_3month.drop(['Date','priceUSD'],axis=1)\n",
        "data=data.merge(after_3month,on='After_3month')"
      ],
      "execution_count": null,
      "outputs": []
    },
    {
      "cell_type": "code",
      "metadata": {
        "id": "YDmjIa8BPzkz"
      },
      "source": [
        "tscv= TimeSeriesSplit(n_splits=5)\n",
        "for train_index, test_index in tscv.split(data):\n",
        "  x_train, x_test = data.iloc[train_index], data.iloc[test_index]\n",
        "x_train=x_train.sample(frac = 1)"
      ],
      "execution_count": null,
      "outputs": []
    },
    {
      "cell_type": "code",
      "metadata": {
        "id": "QlWk1BuvPzbd"
      },
      "source": [
        "plt.plot(x_test['priceUSD_3month'])"
      ],
      "execution_count": null,
      "outputs": []
    },
    {
      "cell_type": "code",
      "metadata": {
        "id": "vjRnuXJBPzYl"
      },
      "source": [
        "estimator= SVR(kernel=\"linear\")\n",
        "selector = RFE(estimator)\n",
        "selector = selector.fit(x_train.drop(['Date','After_3month'],axis=1),x_train['priceUSD_3month'])\n",
        "Features = selector.support_"
      ],
      "execution_count": null,
      "outputs": []
    },
    {
      "cell_type": "code",
      "metadata": {
        "id": "Ou9yqD7ePzLu"
      },
      "source": [
        "y_test = x_test['priceUSD_3month']\n",
        "x_test = x_test.drop(['Date','After_3month'],axis=1)[x_test.drop(['Date','After_3month'],axis=1).columns[Features]]"
      ],
      "execution_count": null,
      "outputs": []
    },
    {
      "cell_type": "code",
      "metadata": {
        "id": "NHKZS7AOPzIg"
      },
      "source": [
        "x_train, x_cv, y_train, y_cv = train_test_split(x_train.drop(['Date','After_3month'],axis=1)[x_train.drop(['Date','After_3month'],axis=1).columns[Features]], x_train['priceUSD_3month'], test_size=0.16, random_state=42)"
      ],
      "execution_count": null,
      "outputs": []
    },
    {
      "cell_type": "code",
      "metadata": {
        "id": "Cfq36aUnPy9i"
      },
      "source": [
        "sp      = SelectPercentile(f_regression).fit(x_train, y_train)\n",
        "x_train = sp.transform(x_train)\n",
        "x_cv = sp.transform(x_cv)\n",
        "x_test = sp.transform(x_test)"
      ],
      "execution_count": null,
      "outputs": []
    },
    {
      "cell_type": "code",
      "metadata": {
        "id": "9nI17nlePy6M"
      },
      "source": [
        "train=[]\n",
        "cv=[]\n",
        "for i in [1,10,100,1000,10000,100000]:\n",
        "  regr = make_pipeline(RobustScaler(),StandardScaler(), SVR(kernel='rbf',C=i, epsilon=0.2))\n",
        "  regr.fit(x_train,y_train)\n",
        "  y_train_pred=regr.predict(x_train)\n",
        "  train.append(mean_squared_error(y_train, y_train_pred))\n",
        "  y_cv_pred=regr.predict(x_cv)\n",
        "  cv.append(mean_squared_error(y_cv, y_cv_pred))\n",
        "plt.plot(train)\n",
        "plt.plot(cv)\n",
        "plt.show()"
      ],
      "execution_count": null,
      "outputs": []
    },
    {
      "cell_type": "code",
      "metadata": {
        "id": "rPKDkr0fPy4N"
      },
      "source": [
        "train=[]\n",
        "cv=[]\n",
        "for i in [0.1,0.2,0.3,0.4]:\n",
        "  regr = make_pipeline(RobustScaler(),StandardScaler(), SVR(kernel='rbf',C=800, epsilon=i))\n",
        "  regr.fit(x_train,y_train)\n",
        "  y_train_pred=regr.predict(x_train)\n",
        "  train.append(mean_squared_error(y_train, y_train_pred))\n",
        "  y_cv_pred=regr.predict(x_cv)\n",
        "  cv.append(mean_squared_error(y_cv, y_cv_pred))\n",
        "plt.plot(train)\n",
        "plt.plot(cv)\n",
        "plt.show()"
      ],
      "execution_count": null,
      "outputs": []
    },
    {
      "cell_type": "code",
      "metadata": {
        "id": "r1-tgPcePy0r"
      },
      "source": [
        "regr = make_pipeline(RobustScaler(),StandardScaler(), SVR(C=800, epsilon=0.1))\n",
        "regr.fit(x_train,y_train)\n",
        "y_test_pred=regr.predict(x_test)"
      ],
      "execution_count": null,
      "outputs": []
    },
    {
      "cell_type": "code",
      "metadata": {
        "id": "Zt2k62T2Pyyr"
      },
      "source": [
        "sns.lineplot(x=np.arange(len(y_test)),y=y_test) \n",
        "sns.lineplot(x=np.arange(len(y_test)),y=y_test_pred)\n",
        "plt.ylabel('priceUSD')"
      ],
      "execution_count": null,
      "outputs": []
    },
    {
      "cell_type": "code",
      "metadata": {
        "id": "QAvJEVGiSHzd"
      },
      "source": [
        "print(mean_squared_error(y_test, y_test_pred))"
      ],
      "execution_count": null,
      "outputs": []
    },
    {
      "cell_type": "code",
      "metadata": {
        "id": "vNdHFk8vSHwq"
      },
      "source": [
        "train=[]\n",
        "cv=[]\n",
        "for i in [1,10,100,1000]:\n",
        "  regr = make_pipeline(RobustScaler(),StandardScaler(), RandomForestRegressor(n_estimators=i))\n",
        "  regr.fit(x_train,y_train)\n",
        "  y_train_pred=regr.predict(x_train)\n",
        "  train.append(mean_squared_error(y_train, y_train_pred))\n",
        "  y_cv_pred=regr.predict(x_cv)\n",
        "  cv.append(mean_squared_error(y_cv, y_cv_pred))\n",
        "plt.plot(train)\n",
        "plt.plot(cv)\n",
        "plt.show()"
      ],
      "execution_count": null,
      "outputs": []
    },
    {
      "cell_type": "code",
      "metadata": {
        "id": "4eGWioHVSHuE"
      },
      "source": [
        "regr = make_pipeline(RobustScaler(),StandardScaler(), RandomForestRegressor(n_estimators=100))\n",
        "regr.fit(x_train,y_train)\n",
        "y_test_pred=regr.predict(x_test)"
      ],
      "execution_count": null,
      "outputs": []
    },
    {
      "cell_type": "code",
      "metadata": {
        "id": "U5CPJmk0SHqr"
      },
      "source": [
        "sns.lineplot(x=np.arange(len(y_test)),y=y_test) \n",
        "sns.lineplot(x=np.arange(len(y_test)),y=y_test_pred)\n",
        "plt.ylabel('priceUSD')"
      ],
      "execution_count": null,
      "outputs": []
    },
    {
      "cell_type": "code",
      "metadata": {
        "id": "vjKGjyyHSHoW"
      },
      "source": [
        "print(mean_squared_error(y_test, y_test_pred))"
      ],
      "execution_count": null,
      "outputs": []
    },
    {
      "cell_type": "code",
      "metadata": {
        "id": "RgnSnWX4SHk8"
      },
      "source": [
        "train=[]\n",
        "cv=[]\n",
        "for i in [1,10,100,1000,10000]:\n",
        "  regr = make_pipeline(RobustScaler(),StandardScaler(), XGBRegressor(n_estimators=i,n_jobs=-1))\n",
        "  regr.fit(x_train,y_train)\n",
        "  y_train_pred=regr.predict(x_train)\n",
        "  train.append(mean_squared_error(y_train, y_train_pred))\n",
        "  y_cv_pred=regr.predict(x_cv)\n",
        "  cv.append(mean_squared_error(y_cv, y_cv_pred))\n",
        "plt.plot(train)\n",
        "plt.plot(cv)\n",
        "plt.show()"
      ],
      "execution_count": null,
      "outputs": []
    },
    {
      "cell_type": "code",
      "metadata": {
        "id": "V8_DBIyuSHjM"
      },
      "source": [
        "train=[]\n",
        "cv=[]\n",
        "for i in [0.1,0.2,0.3,0.4,0.5,0.6,0.7,0.8,0.9]:\n",
        "  regr = make_pipeline(RobustScaler(),StandardScaler(), XGBRegressor(n_estimators=50,learning_rate=i,n_jobs=-1))\n",
        "  regr.fit(x_train,y_train)\n",
        "  y_train_pred=regr.predict(x_train)\n",
        "  train.append(mean_squared_error(y_train, y_train_pred))\n",
        "  y_cv_pred=regr.predict(x_cv)\n",
        "  cv.append(mean_squared_error(y_cv, y_cv_pred))\n",
        "plt.plot(train)\n",
        "plt.plot(cv)\n",
        "plt.show()"
      ],
      "execution_count": null,
      "outputs": []
    },
    {
      "cell_type": "code",
      "metadata": {
        "id": "WHwfPuReSHZT"
      },
      "source": [
        "train=[]\n",
        "cv=[]\n",
        "for i in [3,5,7,9]:\n",
        "  regr = make_pipeline(RobustScaler(),StandardScaler(), XGBRegressor(n_estimators=50,learning_rate=0.3,max_depth=i,n_jobs=-1))\n",
        "  regr.fit(x_train,y_train)\n",
        "  y_train_pred=regr.predict(x_train)\n",
        "  train.append(mean_squared_error(y_train, y_train_pred))\n",
        "  y_cv_pred=regr.predict(x_cv)\n",
        "  cv.append(mean_squared_error(y_cv, y_cv_pred))\n",
        "plt.plot(train)\n",
        "plt.plot(cv)\n",
        "plt.show()"
      ],
      "execution_count": null,
      "outputs": []
    },
    {
      "cell_type": "code",
      "metadata": {
        "id": "UzRJoCJqSHWl"
      },
      "source": [
        "regr = make_pipeline(RobustScaler(),StandardScaler(), XGBRegressor(n_estimators=100,learning_rate=0.1,max_depth=5,n_jobs=-1))\n",
        "regr.fit(x_train,y_train)\n",
        "y_test_pred=regr.predict(x_test)"
      ],
      "execution_count": null,
      "outputs": []
    },
    {
      "cell_type": "code",
      "metadata": {
        "id": "3x3vURanSHTN"
      },
      "source": [
        "sns.lineplot(x=np.arange(len(y_test)),y=y_test) \n",
        "sns.lineplot(x=np.arange(len(y_test)),y=y_test_pred)\n",
        "plt.ylabel('priceUSD')"
      ],
      "execution_count": null,
      "outputs": []
    },
    {
      "cell_type": "code",
      "metadata": {
        "id": "HYVyo90pSHQv"
      },
      "source": [
        "print(mean_squared_error(y_test, y_test_pred))"
      ],
      "execution_count": null,
      "outputs": []
    }
  ]
}